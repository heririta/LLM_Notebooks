{
 "cells": [
  {
   "cell_type": "markdown",
   "id": "de37cedb-d7fc-4e28-98a4-c971251a0201",
   "metadata": {},
   "source": [
    "# LLamaindex\n",
    "LlamaIndex is a framework for building context-augmented generative AI applications with LLMs including agents and workflows.\n",
    "\n",
    "https://docs.llamaindex.ai/en/stable/\n",
    "\n",
    "\n",
    "# PymuPDFLLM\n",
    "Using PyMuPDF as Data Feeder in LLM / RAG Applications\n",
    "https://pypi.org/project/pymupdf4llm/"
   ]
  },
  {
   "cell_type": "code",
   "execution_count": 2,
   "id": "b75912d2-d856-4646-a912-3e3b789096f4",
   "metadata": {},
   "outputs": [],
   "source": [
    "#! pip install -q \"llama-index==0.11.15\" llama-index-readers-file\n",
    "# !pip install docx2txt\n",
    "# !pip install python-dotenv\n",
    "# %pip install llama-index-multi-modal-llms-gemini\n",
    "# %pip install llama-index-vector-stores-qdrant\n",
    "# %pip install llama-index-embeddings-gemini\n",
    "# %pip install llama-index-llms-gemini\n",
    "# !pip install 'google-generativeai>=0.3.0' matplotlib qdrant_client\n",
    "# pip install pymupdf4llm"
   ]
  },
  {
   "cell_type": "code",
   "execution_count": 1,
   "id": "fda128d9-7b89-492c-aab1-6181127b8d7a",
   "metadata": {},
   "outputs": [],
   "source": [
    "from dotenv import dotenv_values\n",
    "import os"
   ]
  },
  {
   "cell_type": "code",
   "execution_count": 2,
   "id": "e9db375d-d537-4e27-8799-e171a642a392",
   "metadata": {},
   "outputs": [],
   "source": [
    "# read env file\n",
    "ROOT_DIR = os.getcwd()\n",
    "config = dotenv_values(os.path.join(ROOT_DIR, \"keys\", \".env\"))\n"
   ]
  },
  {
   "cell_type": "code",
   "execution_count": 59,
   "id": "f165fcde-c0a4-4aa3-b9cd-8a9578eb9caa",
   "metadata": {},
   "outputs": [
    {
     "name": "stdout",
     "output_type": "stream",
     "text": [
      "Processing data/UM HCE116NX1.pdf...\n",
      "[                                        ] (0/2[=                                       ] ( 1/2=[===                                     ] ( 2/2[====                                    ] ( 3/25=[======                                  ] ( 4/25=[========                                ] ( 5/25[=========                               ] ( 6/2=[===========                             ] ( 7/2[============                            ] ( 8/25=[==============                          ] ( 9/25=[================                        ] (10/25[=================                       ] (11/2=[===================                     ] (12/2[====================                    ] (13/25=[======================                  ] (14/25=[========================                ] (15/25[=========================               ] (16/2=[===========================             ] (17/2[============================            ] (18/25=[==============================          ] (19/25=[================================        ] (20/25[=================================       ] (21/2=[===================================     ] (22/2[====================================    ] (23/25=[======================================  ] (24/25=[========================================] (25/25]\n"
     ]
    }
   ],
   "source": [
    "import pymupdf4llm\n",
    "\n",
    "md_text = pymupdf4llm.to_markdown(\"data/UM HCE116NX1.pdf\", write_images=True, image_path=\"./data/images\")"
   ]
  },
  {
   "cell_type": "code",
   "execution_count": 60,
   "id": "7b9f59c8-7456-414f-8467-0b717ea2fe53",
   "metadata": {},
   "outputs": [
    {
     "data": {
      "text/plain": [
       "44854"
      ]
     },
     "execution_count": 60,
     "metadata": {},
     "output_type": "execute_result"
    }
   ],
   "source": [
    "import pprint\n",
    "import pathlib\n",
    "pathlib.Path(\"data/output.md\").write_bytes(md_text.encode())"
   ]
  },
  {
   "cell_type": "code",
   "execution_count": 9,
   "id": "3da6dc2a-2e8a-45b6-8097-bffb288fb79c",
   "metadata": {},
   "outputs": [
    {
     "name": "stdout",
     "output_type": "stream",
     "text": [
      "('## �������������������������������\\n'\n",
      " '\\n'\n",
      " ' �������������\\n'\n",
      " '\\n'\n",
      " ' �����������������Cooker Hood\\n'\n",
      " '\\n'\n",
      " ' ������������������Instruction Manual\\n'\n",
      " '\\n'\n",
      " '1\\n'\n",
      " '\\n'\n",
      " '\\n'\n",
      " '-----\\n'\n",
      " '\\n'\n",
      " '##### Content\\n'\n",
      " '\\n'\n",
      " '1…………………………………..………………………………Safety instructions\\n'\n",
      " '\\n'\n",
      " '2…………………………………..………………………………Installation\\n'\n",
      " '\\n'\n",
      " '3…………………………………..………………………………Start using your cooker hood\\n'\n",
      " '\\n'\n",
      " '4……')\n"
     ]
    }
   ],
   "source": [
    "pprint.pprint(md_text [:300])"
   ]
  },
  {
   "cell_type": "code",
   "execution_count": 11,
   "id": "8171cefb-efcc-49da-a28b-bd92244ea6a4",
   "metadata": {},
   "outputs": [
    {
     "name": "stdout",
     "output_type": "stream",
     "text": [
      "Successfully imported LlamaIndex\n",
      "Processing data/Parser Source 2.pdf...\n",
      "[                                        ] (0/1=======================================[========================================] (1/1]\n",
      "Processing data/Parser Source 2.pdf...\n",
      "[                                        ] (0/1=======================================[========================================] (1/1]\n",
      "Processing data/Parser Source 2.pdf...\n",
      "[                                        ] (0/1=======================================[========================================] (1/1]\n",
      "Processing data/Parser Source 2.pdf...\n",
      "[                                        ] (0/1=======================================[========================================] (1/1]\n",
      "Processing data/Parser Source 2.pdf...\n",
      "[                                        ] (0/1=======================================[========================================] (1/1]\n",
      "Processing data/Parser Source 2.pdf...\n",
      "[                                        ] (0/1=======================================[========================================] (1/1]\n",
      "Processing data/Parser Source 2.pdf...\n",
      "[                                        ] (0/1=======================================[========================================] (1/1]\n",
      "Processing data/Parser Source 2.pdf...\n",
      "[                                        ] (0/1=======================================[========================================] (1/1]\n",
      "Processing data/Parser Source 2.pdf...\n",
      "[                                        ] (0/1=======================================[========================================] (1/1]\n",
      "Processing data/Parser Source 2.pdf...\n",
      "[                                        ] (0/1=======================================[========================================] (1/1]\n",
      "Processing data/Parser Source 2.pdf...\n",
      "[                                        ] (0/1=======================================[========================================] (1/1]\n",
      "Processing data/Parser Source 2.pdf...\n",
      "[                                        ] (0/1=======================================[========================================] (1/1]\n",
      "Processing data/Parser Source 2.pdf...\n",
      "[                                        ] (0/1=======================================[========================================] (1/1]\n",
      "Processing data/Parser Source 2.pdf...\n",
      "[                                        ] (0/1=======================================[========================================] (1/1]\n",
      "Processing data/Parser Source 2.pdf...\n",
      "[                                        ] (0/1=======================================[========================================] (1/1]\n",
      "Processing data/Parser Source 2.pdf...\n",
      "[                                        ] (0/1=======================================[========================================] (1/1]\n",
      "Processing data/Parser Source 2.pdf...\n",
      "[                                        ] (0/1=======================================[========================================] (1/1]\n",
      "Processing data/Parser Source 2.pdf...\n",
      "[                                        ] (0/1=======================================[========================================] (1/1]\n",
      "Processing data/Parser Source 2.pdf...\n",
      "[                                        ] (0/1=======================================[========================================] (1/1]\n",
      "Processing data/Parser Source 2.pdf...\n",
      "[                                        ] (0/1=======================================[========================================] (1/1]\n",
      "Processing data/Parser Source 2.pdf...\n",
      "[                                        ] (0/1=======================================[========================================] (1/1]\n",
      "Processing data/Parser Source 2.pdf...\n",
      "[                                        ] (0/1=======================================[========================================] (1/1]\n",
      "Processing data/Parser Source 2.pdf...\n",
      "[                                        ] (0/1=======================================[========================================] (1/1]\n",
      "Processing data/Parser Source 2.pdf...\n",
      "[                                        ] (0/1=======================================[========================================] (1/1]\n",
      "Processing data/Parser Source 2.pdf...\n",
      "[                                        ] (0/1=======================================[========================================] (1/1]\n",
      "Processing data/Parser Source 2.pdf...\n",
      "[                                        ] (0/1=======================================[========================================] (1/1]\n",
      "Processing data/Parser Source 2.pdf...\n",
      "[                                        ] (0/1=======================================[========================================] (1/1]\n",
      "Processing data/Parser Source 2.pdf...\n",
      "[                                        ] (0/1=======================================[========================================] (1/1]\n",
      "Processing data/Parser Source 2.pdf...\n",
      "[                                        ] (0/1=======================================[========================================] (1/1]\n",
      "Processing data/Parser Source 2.pdf...\n",
      "[                                        ] (0/1=======================================[========================================] (1/1]\n",
      "Processing data/Parser Source 2.pdf...\n",
      "[                                        ] (0/1=======================================[========================================] (1/1]\n",
      "Processing data/Parser Source 2.pdf...\n",
      "[                                        ] (0/1=======================================[========================================] (1/1]\n",
      "Processing data/Parser Source 2.pdf...\n",
      "[                                        ] (0/1=======================================[========================================] (1/1]\n",
      "Processing data/Parser Source 2.pdf...\n",
      "[                                        ] (0/1=======================================[========================================] (1/1]\n",
      "Processing data/Parser Source 2.pdf...\n",
      "[                                        ] (0/1=======================================[========================================] (1/1]\n",
      "Processing data/Parser Source 2.pdf...\n",
      "[                                        ] (0/1=======================================[========================================] (1/1]\n",
      "Processing data/Parser Source 2.pdf...\n",
      "[                                        ] (0/1=======================================[========================================] (1/1]\n",
      "Processing data/Parser Source 2.pdf...\n",
      "[                                        ] (0/1=======================================[========================================] (1/1]\n",
      "Processing data/Parser Source 2.pdf...\n",
      "[                                        ] (0/1=======================================[========================================] (1/1]\n",
      "Processing data/Parser Source 2.pdf...\n",
      "[                                        ] (0/1=======================================[========================================] (1/1]\n",
      "Processing data/Parser Source 2.pdf...\n",
      "[                                        ] (0/1=======================================[========================================] (1/1]\n",
      "Processing data/Parser Source 2.pdf...\n",
      "[                                        ] (0/1=======================================[========================================] (1/1]\n",
      "Processing data/Parser Source 2.pdf...\n",
      "[                                        ] (0/1=======================================[========================================] (1/1]\n",
      "Processing data/Parser Source 2.pdf...\n",
      "[                                        ] (0/1=======================================[========================================] (1/1]\n",
      "Processing data/Parser Source 2.pdf...\n",
      "[                                        ] (0/1=======================================[========================================] (1/1]\n",
      "Processing data/Parser Source 2.pdf...\n",
      "[                                        ] (0/1=======================================[========================================] (1/1]\n",
      "Processing data/Parser Source 2.pdf...\n",
      "[                                        ] (0/1=======================================[========================================] (1/1]\n",
      "Processing data/Parser Source 2.pdf...\n",
      "[                                        ] (0/1=======================================[========================================] (1/1]\n",
      "Processing data/Parser Source 2.pdf...\n",
      "[                                        ] (0/1=======================================[========================================] (1/1]\n",
      "Processing data/Parser Source 2.pdf...\n",
      "[                                        ] (0/1=======================================[========================================] (1/1]\n",
      "Processing data/Parser Source 2.pdf...\n",
      "[                                        ] (0/1=======================================[========================================] (1/1]\n",
      "Processing data/Parser Source 2.pdf...\n",
      "[                                        ] (0/1=======================================[========================================] (1/1]\n",
      "Processing data/Parser Source 2.pdf...\n",
      "[                                        ] (0/1=======================================[========================================] (1/1]\n",
      "Processing data/Parser Source 2.pdf...\n",
      "[                                        ] (0/1=======================================[========================================] (1/1]\n",
      "Processing data/Parser Source 2.pdf...\n",
      "[                                        ] (0/1=======================================[========================================] (1/1]\n",
      "Processing data/Parser Source 2.pdf...\n",
      "[                                        ] (0/1=======================================[========================================] (1/1]\n",
      "Processing data/Parser Source 2.pdf...\n",
      "[                                        ] (0/1=======================================[========================================] (1/1]\n",
      "Processing data/Parser Source 2.pdf...\n",
      "[                                        ] (0/1=======================================[========================================] (1/1]\n",
      "Processing data/Parser Source 2.pdf...\n",
      "[                                        ] (0/1=======================================[========================================] (1/1]\n",
      "Processing data/Parser Source 2.pdf...\n",
      "[                                        ] (0/1=======================================[========================================] (1/1]\n",
      "Processing data/Parser Source 2.pdf...\n",
      "[                                        ] (0/1=======================================[========================================] (1/1]\n",
      "Processing data/Parser Source 2.pdf...\n",
      "[                                        ] (0/1=======================================[========================================] (1/1]\n",
      "Processing data/Parser Source 2.pdf...\n",
      "[                                        ] (0/1=======================================[========================================] (1/1]\n",
      "Processing data/Parser Source 2.pdf...\n",
      "[                                        ] (0/1=======================================[========================================] (1/1]\n",
      "Processing data/Parser Source 2.pdf...\n",
      "[                                        ] (0/1=======================================[========================================] (1/1]\n",
      "Processing data/Parser Source 2.pdf...\n",
      "[                                        ] (0/1=======================================[========================================] (1/1]\n",
      "Processing data/Parser Source 2.pdf...\n",
      "[                                        ] (0/1=======================================[========================================] (1/1]\n",
      "Processing data/Parser Source 2.pdf...\n",
      "[                                        ] (0/1=======================================[========================================] (1/1]\n",
      "Processing data/Parser Source 2.pdf...\n",
      "[                                        ] (0/1=======================================[========================================] (1/1]\n",
      "Processing data/Parser Source 2.pdf...\n",
      "[                                        ] (0/1=======================================[========================================] (1/1]\n",
      "Processing data/Parser Source 2.pdf...\n",
      "[                                        ] (0/1=======================================[========================================] (1/1]\n",
      "Processing data/Parser Source 2.pdf...\n",
      "[                                        ] (0/1=======================================[========================================] (1/1]\n",
      "Processing data/Parser Source 2.pdf...\n",
      "[                                        ] (0/1=======================================[========================================] (1/1]\n",
      "Processing data/Parser Source 2.pdf...\n",
      "[                                        ] (0/1=======================================[========================================] (1/1]\n",
      "Processing data/Parser Source 2.pdf...\n",
      "[                                        ] (0/1=======================================[========================================] (1/1]\n",
      "Processing data/Parser Source 2.pdf...\n",
      "[                                        ] (0/1=======================================[========================================] (1/1]\n",
      "Processing data/Parser Source 2.pdf...\n",
      "[                                        ] (0/1=======================================[========================================] (1/1]\n",
      "Processing data/Parser Source 2.pdf...\n",
      "[                                        ] (0/1=======================================[========================================] (1/1]\n",
      "Processing data/Parser Source 2.pdf...\n",
      "[                                        ] (0/1=======================================[========================================] (1/1]\n",
      "Processing data/Parser Source 2.pdf...\n",
      "[                                        ] (0/1=======================================[========================================] (1/1]\n",
      "Processing data/Parser Source 2.pdf...\n",
      "[                                        ] (0/1=======================================[========================================] (1/1]\n",
      "Processing data/Parser Source 2.pdf...\n",
      "[                                        ] (0/1=======================================[========================================] (1/1]\n",
      "Processing data/Parser Source 2.pdf...\n",
      "[                                        ] (0/1=======================================[========================================] (1/1]\n",
      "Processing data/Parser Source 2.pdf...\n",
      "[                                        ] (0/1=======================================[========================================] (1/1]\n",
      "Processing data/Parser Source 2.pdf...\n",
      "[                                        ] (0/1=======================================[========================================] (1/1]\n",
      "Processing data/Parser Source 2.pdf...\n",
      "[                                        ] (0/1=======================================[========================================] (1/1]\n",
      "Processing data/Parser Source 2.pdf...\n",
      "[                                        ] (0/1=======================================[========================================] (1/1]\n",
      "Processing data/Parser Source 2.pdf...\n",
      "[                                        ] (0/1=======================================[========================================] (1/1]\n",
      "Processing data/Parser Source 2.pdf...\n",
      "[                                        ] (0/1=======================================[========================================] (1/1]\n",
      "Processing data/Parser Source 2.pdf...\n",
      "[                                        ] (0/1=======================================[========================================] (1/1]\n",
      "Processing data/Parser Source 2.pdf...\n",
      "[                                        ] (0/1=======================================[========================================] (1/1]\n",
      "Processing data/Parser Source 2.pdf...\n",
      "[                                        ] (0/1=======================================[========================================] (1/1]\n",
      "Processing data/Parser Source 2.pdf...\n",
      "[                                        ] (0/1=======================================[========================================] (1/1]\n",
      "Processing data/Parser Source 2.pdf...\n",
      "[                                        ] (0/1=======================================[========================================] (1/1]\n",
      "Processing data/Parser Source 2.pdf...\n",
      "[                                        ] (0/1=======================================[========================================] (1/1]\n",
      "Processing data/Parser Source 2.pdf...\n",
      "[                                        ] (0/1=======================================[========================================] (1/1]\n",
      "Processing data/Parser Source 2.pdf...\n",
      "[                                        ] (0/1=======================================[========================================] (1/1]\n",
      "Processing data/Parser Source 2.pdf...\n",
      "[                                        ] (0/1=======================================[========================================] (1/1]\n",
      "Processing data/Parser Source 2.pdf...\n",
      "[                                        ] (0/1=======================================[========================================] (1/1]\n",
      "Processing data/Parser Source 2.pdf...\n",
      "[                                        ] (0/1=======================================[========================================] (1/1]\n",
      "Processing data/Parser Source 2.pdf...\n",
      "[                                        ] (0/1=======================================[========================================] (1/1]\n",
      "Processing data/Parser Source 2.pdf...\n",
      "[                                        ] (0/1=======================================[========================================] (1/1]\n",
      "Processing data/Parser Source 2.pdf...\n",
      "[                                        ] (0/1=======================================[========================================] (1/1]\n",
      "Processing data/Parser Source 2.pdf...\n",
      "[                                        ] (0/1=======================================[========================================] (1/1]\n",
      "Processing data/Parser Source 2.pdf...\n",
      "[                                        ] (0/1=======================================[========================================] (1/1]\n",
      "Processing data/Parser Source 2.pdf...\n",
      "[                                        ] (0/1=======================================[========================================] (1/1]\n",
      "Processing data/Parser Source 2.pdf...\n",
      "[                                        ] (0/1=======================================[========================================] (1/1]\n",
      "Processing data/Parser Source 2.pdf...\n",
      "[                                        ] (0/1=======================================[========================================] (1/1]\n",
      "Processing data/Parser Source 2.pdf...\n",
      "[                                        ] (0/1=======================================[========================================] (1/1]\n",
      "Processing data/Parser Source 2.pdf...\n",
      "[                                        ] (0/1=======================================[========================================] (1/1]\n",
      "Processing data/Parser Source 2.pdf...\n",
      "[                                        ] (0/1=======================================[========================================] (1/1]\n",
      "Processing data/Parser Source 2.pdf...\n",
      "[                                        ] (0/1=======================================[========================================] (1/1]\n",
      "Processing data/Parser Source 2.pdf...\n",
      "[                                        ] (0/1=======================================[========================================] (1/1]\n",
      "Processing data/Parser Source 2.pdf...\n",
      "[                                        ] (0/1=======================================[========================================] (1/1]\n",
      "Processing data/Parser Source 2.pdf...\n",
      "[                                        ] (0/1=======================================[========================================] (1/1]\n",
      "Processing data/Parser Source 2.pdf...\n",
      "[                                        ] (0/1=======================================[========================================] (1/1]\n",
      "Processing data/Parser Source 2.pdf...\n",
      "[                                        ] (0/1=======================================[========================================] (1/1]\n",
      "Processing data/Parser Source 2.pdf...\n",
      "[                                        ] (0/1=======================================[========================================] (1/1]\n",
      "Processing data/Parser Source 2.pdf...\n",
      "[                                        ] (0/1=======================================[========================================] (1/1]\n",
      "Processing data/Parser Source 2.pdf...\n",
      "[                                        ] (0/1=======================================[========================================] (1/1]\n",
      "Processing data/Parser Source 2.pdf...\n",
      "[                                        ] (0/1=======================================[========================================] (1/1]\n",
      "Processing data/Parser Source 2.pdf...\n",
      "[                                        ] (0/1=======================================[========================================] (1/1]\n",
      "Processing data/Parser Source 2.pdf...\n",
      "[                                        ] (0/1=======================================[========================================] (1/1]\n",
      "Processing data/Parser Source 2.pdf...\n",
      "[                                        ] (0/1=======================================[========================================] (1/1]\n",
      "Processing data/Parser Source 2.pdf...\n",
      "[                                        ] (0/1=======================================[========================================] (1/1]\n",
      "Processing data/Parser Source 2.pdf...\n",
      "[                                        ] (0/1=======================================[========================================] (1/1]\n",
      "Processing data/Parser Source 2.pdf...\n",
      "[                                        ] (0/1=======================================[========================================] (1/1]\n",
      "Processing data/Parser Source 2.pdf...\n",
      "[                                        ] (0/1=======================================[========================================] (1/1]\n",
      "Processing data/Parser Source 2.pdf...\n",
      "[                                        ] (0/1=======================================[========================================] (1/1]\n",
      "Processing data/Parser Source 2.pdf...\n",
      "[                                        ] (0/1=======================================[========================================] (1/1]\n",
      "Processing data/Parser Source 2.pdf...\n",
      "[                                        ] (0/1=======================================[========================================] (1/1]\n",
      "Processing data/Parser Source 2.pdf...\n",
      "[                                        ] (0/1=======================================[========================================] (1/1]\n",
      "Processing data/Parser Source 2.pdf...\n",
      "[                                        ] (0/1=======================================[========================================] (1/1]\n",
      "Processing data/Parser Source 2.pdf...\n",
      "[                                        ] (0/1=======================================[========================================] (1/1]\n",
      "Processing data/Parser Source 2.pdf...\n",
      "[                                        ] (0/1=======================================[========================================] (1/1]\n",
      "Processing data/Parser Source 2.pdf...\n",
      "[                                        ] (0/1=======================================[========================================] (1/1]\n",
      "Processing data/Parser Source 2.pdf...\n",
      "[                                        ] (0/1=======================================[========================================] (1/1]\n",
      "Processing data/Parser Source 2.pdf...\n",
      "[                                        ] (0/1=======================================[========================================] (1/1]\n",
      "Processing data/Parser Source 2.pdf...\n",
      "[                                        ] (0/1=======================================[========================================] (1/1]\n",
      "Processing data/Parser Source 2.pdf...\n",
      "[                                        ] (0/1=======================================[========================================] (1/1]\n",
      "Processing data/Parser Source 2.pdf...\n",
      "[                                        ] (0/1=======================================[========================================] (1/1]\n",
      "Processing data/Parser Source 2.pdf...\n",
      "[                                        ] (0/1=======================================[========================================] (1/1]\n",
      "Processing data/Parser Source 2.pdf...\n",
      "[                                        ] (0/1=======================================[========================================] (1/1]\n"
     ]
    }
   ],
   "source": [
    "import pymupdf4llm\n",
    "\n",
    "md_read = pymupdf4llm.LlamaMarkdownReader()\n",
    "data = md_read.load_data(\"data/Parser Source 2.pdf\")"
   ]
  },
  {
   "cell_type": "code",
   "execution_count": 61,
   "id": "0e0f0ba7-e5c8-48b8-8334-6e2277839044",
   "metadata": {},
   "outputs": [
    {
     "data": {
      "text/plain": [
       "143"
      ]
     },
     "execution_count": 61,
     "metadata": {},
     "output_type": "execute_result"
    }
   ],
   "source": [
    "len(data)"
   ]
  },
  {
   "cell_type": "code",
   "execution_count": 62,
   "id": "1df4b73c-b41c-49d3-8247-4cd41cd544db",
   "metadata": {},
   "outputs": [
    {
     "data": {
      "text/plain": [
       "dict_keys(['id_', 'embedding', 'metadata', 'excluded_embed_metadata_keys', 'excluded_llm_metadata_keys', 'relationships', 'text', 'mimetype', 'start_char_idx', 'end_char_idx', 'text_template', 'metadata_template', 'metadata_seperator', 'class_name'])"
      ]
     },
     "execution_count": 62,
     "metadata": {},
     "output_type": "execute_result"
    }
   ],
   "source": [
    "data[1].to_dict().keys()"
   ]
  },
  {
   "cell_type": "code",
   "execution_count": 15,
   "id": "9ebf05ce-57d8-48b9-ab6f-cf8190cd705e",
   "metadata": {},
   "outputs": [],
   "source": [
    "GOOGLE_API_KEY = config.get(\"GEMINI-API-KEY\")\n",
    "os.environ[\"GOOGLE_API_KEY\"] = GOOGLE_API_KEY\n"
   ]
  },
  {
   "cell_type": "code",
   "execution_count": 49,
   "id": "43d2eaf5-68f5-4c94-bceb-1cd213608bad",
   "metadata": {},
   "outputs": [],
   "source": [
    "from llama_index.core import VectorStoreIndex, StorageContext\n",
    "from llama_index.embeddings.gemini import GeminiEmbedding\n",
    "from llama_index.llms.gemini import Gemini\n",
    "from llama_index.vector_stores.qdrant import QdrantVectorStore\n",
    "from llama_index.core import Settings\n",
    "from llama_index.core import StorageContext\n",
    "import qdrant_client\n",
    "from llama_index.multi_modal_llms.gemini import GeminiMultiModal\n",
    "\n",
    "\n",
    "# Create a local Qdrant vector store\n",
    "clientg = qdrant_client.QdrantClient(path=\"companies_gemini_3\")\n",
    "\n",
    "vector_storeg = QdrantVectorStore(client=clientg, collection_name=\"collection\")\n",
    "\n",
    "# Using the embedding model to Gemini\n",
    "Settings.embed_model = GeminiEmbedding(\n",
    "    model_name=\"models/embedding-001\", api_key=GOOGLE_API_KEY\n",
    ")\n",
    "Settings.llm = Gemini(api_key=GOOGLE_API_KEY, model=\"models/gemini-1.5-flash-002\")"
   ]
  },
  {
   "cell_type": "code",
   "execution_count": 50,
   "id": "8c2288ff-0ea6-411d-9124-206973e7dd05",
   "metadata": {},
   "outputs": [
    {
     "name": "stderr",
     "output_type": "stream",
     "text": [
      "WARNING:root:Payload indexes have no effect in the local Qdrant. Please use server Qdrant if you need payload indexes.\n"
     ]
    }
   ],
   "source": [
    "storage_contextg = StorageContext.from_defaults(vector_store=vector_storeg)\n",
    "\n",
    "indexg =VectorStoreIndex.from_documents(documents=data,    storage_context=storage_contextg,)"
   ]
  },
  {
   "cell_type": "code",
   "execution_count": 51,
   "id": "ea349721-c99d-4bcb-aab9-3bf779441fe5",
   "metadata": {},
   "outputs": [
    {
     "name": "stdout",
     "output_type": "stream",
     "text": [
      "Aardvark Constructions Limited's board appointments include:  Tim Haines (HAINES-T) as Director on 13/11/2022; ABNB AltBauNeu Baugesellschaft mbH (ABNBGERGMB) as Company Secretary on 19/12/2022; Trustme (TRUSTME) as Managing Member on 30/01/2023; Mohammed Malek (MALEK-M) as Chair on 31/01/2023; Nicole Adams (ADAMS-N) as Alternate Director on 15/03/2023; Gordon Tatun (TATUN-G) as Director on 12/10/2023; Brian Jenkins (JENKINS-B) as Director on 29/11/2023; Brian Stafford (STAFFORD-B) as Chief Executive on 28/11/2023; Neil Barlow (BARLOW-N) as Director on 11/12/2023 (two entries); Willem Director (WILDIR) as Director on 10/01/2024; Paloma Plews (PLEWS-P) as Director on 07/02/2024; and Roman Arkadyevich Abramovich (ABRAMOV-RA) as Director on 07/02/2024; Susan Boyie (BOYIE-S) as Director on 15/02/2024.  Nicole Adams (PRIMARYNM) was appointed as Director (DXM Pending Appt) on 10/09/2020 (two entries).\n",
      "\n"
     ]
    }
   ],
   "source": [
    "\n",
    "# converting vector store to query engine\n",
    "query_engineg = indexg.as_query_engine(similarity_top_k=5)\n",
    "\n",
    "# generating query response\n",
    "response = query_engineg.query(\"Appointments Board Positions list with names and other details of Aardvark Constructions Limited\")\n",
    "print(response)"
   ]
  },
  {
   "cell_type": "code",
   "execution_count": 63,
   "id": "89560e48-fe1f-4e6c-8d17-6b9e1ce52ab7",
   "metadata": {},
   "outputs": [
    {
     "name": "stdout",
     "output_type": "stream",
     "text": [
      "Here's a summary of the main details for Aardvark Constructions Limited, based on the provided documents:\n",
      "\n",
      "**Name:** Aardvark Constructions Limited\n",
      "\n",
      "**Country:** United Kingdom\n",
      "\n",
      "**Company Number:** 123456\n",
      "\n",
      "**Incorporated:** January 13, 2022 (Date Company Created)\n",
      "\n",
      "**Company Type:** Holding (Company Type - LSL)\n",
      "\n",
      "**Company Status:**  The provided documents don't explicitly state the current company status.  More information would be needed to determine if it is active, dissolved, etc.\n",
      "\n",
      "**Primary Address (Registered Office):** 123, Oakwood Lane, London\n",
      "\n",
      "**Accounting Dates:** The documents show completed annual returns for the periods 30/01/2022 to 30/01/2023 and 30/01/2023 to 30/01/2024.  However, the exact accounting dates (fiscal year end) are not explicitly stated.  The \"Fiscal Year End\" field in the CSC Information section is blank.\n",
      "\n",
      "**Confirmation Statement:** The provided text mentions \"Annual Return\" which is completed, but doesn't explicitly refer to a \"Confirmation Statement\".  The two may be related or synonymous depending on UK regulations, but further clarification is needed.\n",
      "\n"
     ]
    }
   ],
   "source": [
    "from llama_index.core.memory import ChatMemoryBuffer\n",
    "from llama_index.core.chat_engine import CondensePlusContextChatEngine\n",
    "\n",
    "# creating chat memory buffer\n",
    "memory = ChatMemoryBuffer.from_defaults(token_limit=4500)\n",
    "\n",
    "# creating chat engine\n",
    "chat_engine = CondensePlusContextChatEngine.from_defaults(indexg.as_retriever(),memory=memory,llm=Gemini(api_key=GOOGLE_API_KEY, model=\"models/gemini-1.5-flash-002\"), temperature=.8)\n",
    "prompt = \"\"\"\n",
    "Provide Main Details of the company Aardvark Constructions Limited. Including following details:\n",
    "Name:\n",
    "Country:\n",
    "Company Number:\n",
    "Incorporated:\n",
    "Company Type:\n",
    "Company Status:\n",
    "Primary Addresses Registered Office:\n",
    "Accounting Dates:\n",
    "Confirmation Statement:\n",
    "\"\"\"\n",
    "# generating chat response\n",
    "response = chat_engine.chat(prompt)\n",
    "print(str(response))"
   ]
  },
  {
   "cell_type": "code",
   "execution_count": 64,
   "id": "cacc5f95-d4fe-422c-8e61-df08dca6ce28",
   "metadata": {},
   "outputs": [
    {
     "name": "stdout",
     "output_type": "stream",
     "text": [
      "I'm sorry, but the provided text does not contain the email address or the name of the person who manages Aardvark Constructions Limited.  The documents list board members and their positions, but not a designated manager or their contact information.\n",
      "\n"
     ]
    }
   ],
   "source": [
    "prompt = \"\"\"\n",
    "From Management Details extract:\n",
    "Managed By:\n",
    "Managed By Email:\n",
    "\"\"\"\n",
    "response = chat_engine.chat(prompt)\n",
    "print(str(response))"
   ]
  },
  {
   "cell_type": "code",
   "execution_count": 65,
   "id": "cceba081-771c-4717-8a0f-87f4490256d7",
   "metadata": {},
   "outputs": [
    {
     "name": "stdout",
     "output_type": "stream",
     "text": [
      "Here's a list of the past names of Aardvark Constructions Limited, along with their effective periods, as shown in the provided document:\n",
      "\n",
      "* **Aardvark Construction:** From 20/10/2020 to 20/10/2021\n",
      "* **Aardvark and Son Ltd:** From 20/10/2021 to 20/10/2022\n",
      "\n"
     ]
    }
   ],
   "source": [
    "prompt = \"\"\"\n",
    "Past Names of the Company with their period \n",
    "\"\"\"\n",
    "response = chat_engine.chat(prompt)\n",
    "print(str(response))"
   ]
  },
  {
   "cell_type": "code",
   "execution_count": 66,
   "id": "5f2af38e-82ee-418b-ba92-f04d063ff7b7",
   "metadata": {},
   "outputs": [
    {
     "name": "stdout",
     "output_type": "stream",
     "text": [
      "Based on the provided document, here's a list of board appointments for Aardvark Constructions Limited:\n",
      "\n",
      "| Name             | QuickRef    | Position             | Appointed       | Job Title      |\n",
      "|-----------------|-------------|----------------------|-----------------|-----------------|\n",
      "| Abbles, James    | ABBLES-J    | Director             | 19/04/2023      | Trainer         |\n",
      "| Abdreatta, Leopoldo | ABDREATT-L | Director             | 18/10/2023      | Secretary       |\n",
      "| Adam, Nicole     | ADAMS-N     | Alternate Director | 04/04/2023      | CFO             |\n",
      "|                  |             | Non Executive Director | 10/04/2024      | CFO             |\n",
      "| Alberts, Stoffel | ALBERTS-S   | Company Secretary    | 16/12/2022      | Accountant      |\n",
      "| Rutter, Gus      | RUTTER-G    | Director             | 07/03/2024      | Director        |\n",
      "\n",
      "\n",
      "**Note:**  Nicole Adams's appointment as CFO is listed twice, once as Alternate Director and once as Non-Executive Director.  The dates indicate a change in her role.  Also note that the provided data does not include all details for every appointment.  For example, some job titles might be missing or incomplete.\n",
      "\n"
     ]
    }
   ],
   "source": [
    "prompt = \"\"\"\n",
    "Appointments Board Positions list with names and other details\n",
    "\"\"\"\n",
    "response = chat_engine.chat(prompt)\n",
    "print(str(response))"
   ]
  },
  {
   "cell_type": "code",
   "execution_count": 29,
   "id": "89fc8d89-31cd-4fe1-8369-87239fdaedf8",
   "metadata": {},
   "outputs": [
    {
     "name": "stderr",
     "output_type": "stream",
     "text": [
      "None of PyTorch, TensorFlow >= 2.0, or Flax have been found. Models won't be available and only tokenizers, configuration and file/data utilities can be used.\n"
     ]
    }
   ],
   "source": [
    "# Nvidia\n",
    "from llama_index.llms.nvidia import NVIDIA\n",
    "from llama_index.embeddings.nvidia import NVIDIAEmbedding\n",
    "os.environ['NVIDIA_API_KEY'] = config.get('NVIDIA_API_KEY')\n"
   ]
  },
  {
   "cell_type": "code",
   "execution_count": 30,
   "id": "33eccf96-e802-4633-90a7-dd8d537becee",
   "metadata": {},
   "outputs": [
    {
     "name": "stderr",
     "output_type": "stream",
     "text": [
      "/home/olonok/miniconda3/envs/llamaindex/lib/python3.11/site-packages/llama_index/llms/nvidia/base.py:178: UserWarning: Unable to determine validity of meta/llama-3.2-3b-instruct\n",
      "  warnings.warn(f\"Unable to determine validity of {model_name}\")\n"
     ]
    }
   ],
   "source": [
    "# Here we are using meta/llama-3.2-3b-instruct model from API Catalog\n",
    "Settings.llm = NVIDIA(model=\"meta/llama-3.2-3b-instruct\", temperature=0.7)\n",
    "Settings.embed_model = NVIDIAEmbedding(model=\"NV-Embed-QA\", truncate=\"END\")"
   ]
  },
  {
   "cell_type": "code",
   "execution_count": 31,
   "id": "f4c35581-6f33-4043-9cb4-a2bfb5c0a121",
   "metadata": {},
   "outputs": [],
   "source": [
    "# Create a local Qdrant vector store\n",
    "client = qdrant_client.QdrantClient(path=\"companies_nvidia\")\n",
    "\n",
    "vector_store = QdrantVectorStore(client=client, collection_name=\"collection2\")"
   ]
  },
  {
   "cell_type": "code",
   "execution_count": 32,
   "id": "8130791a-f300-4696-abe4-7c3a288796f1",
   "metadata": {},
   "outputs": [
    {
     "name": "stderr",
     "output_type": "stream",
     "text": [
      "WARNING:root:Payload indexes have no effect in the local Qdrant. Please use server Qdrant if you need payload indexes.\n"
     ]
    }
   ],
   "source": [
    "storage_context = StorageContext.from_defaults(vector_store=vector_store)\n",
    "\n",
    "index =VectorStoreIndex.from_documents(documents=data,    storage_context=storage_context,)"
   ]
  },
  {
   "cell_type": "code",
   "execution_count": 33,
   "id": "f86281d5-870e-48ce-9287-baa1236d7f57",
   "metadata": {},
   "outputs": [
    {
     "name": "stdout",
     "output_type": "stream",
     "text": [
      "Abbles, James ABBLES-J \n",
      "Director \n",
      "19/04/2023 \n",
      "Trainer \n",
      "\n",
      "Abdreatta, Leopoldo ABDREATT-L \n",
      "Director \n",
      "18/10/2023 \n",
      "Secretary \n",
      "\n",
      "Adam, Nicole ADAMS-N \n",
      "Alternate Director \n",
      "04/04/2023 \n",
      "CFO \n",
      "\n",
      "Non Executive \n",
      "10/04/2024 \n",
      "CFO \n",
      "Director \n",
      "\n",
      "Alberts, Stoffel ALBERTS-S \n",
      "Company Secretary \n",
      "16/12/2022 \n",
      "Accountant \n",
      "\n",
      "Rutter, Gus RUTTER-G \n",
      "Director \n",
      "07/03/2024 \n",
      "Director\n"
     ]
    }
   ],
   "source": [
    "# converting vector store to query engine\n",
    "query_engine = index.as_query_engine(similarity_top_k=3)\n",
    "\n",
    "# generating query response\n",
    "response = query_engine.query(\"Appointments Board Positions list with names and other details of Aardvark Constructions Limited\")\n",
    "print(response)"
   ]
  },
  {
   "cell_type": "code",
   "execution_count": 34,
   "id": "5773403f-8beb-476c-aba7-2d08027fbb3c",
   "metadata": {},
   "outputs": [
    {
     "name": "stdout",
     "output_type": "stream",
     "text": [
      "Based on the provided document, the Main Details of Aardvark Constructions Limited are as follows:\n",
      "\n",
      "1. Name: Aardvark Constructions Limited\n",
      "2. Country: United Kingdom\n",
      "3. Company Number: 123456\n",
      "4. Incorporated: 20/10/2020\n",
      "5. Company Type: Limited by Shares\n",
      "6. Company Status: Active\n",
      "7. Primary Addresses:\n",
      "   - Registered Office: 6 Chancery Road, London, WC2A 5DP, United Kingdom\n",
      "8. Accounting Dates:\n",
      "   - Last Period End: 16/11/2022\n",
      "   - Current Period End: 16/11/2024\n",
      "   - Last Extended: 16/11/2022\n",
      "9. Confirmation Statement: Filed on 03/03/2023\n"
     ]
    }
   ],
   "source": [
    "\n",
    "llm = NVIDIA(model=\"meta/llama-3.2-3b-instruct\", temperature=0.7)\n",
    "# creating chat memory buffer\n",
    "memory = ChatMemoryBuffer.from_defaults(token_limit=4500)\n",
    "\n",
    "# creating chat engine\n",
    "chat_engine = CondensePlusContextChatEngine.from_defaults(index.as_retriever(),memory=memory,llm=llm)\n",
    "prompt = \"\"\"\n",
    "Provide Main Details of the company Aardvark Constructions Limited. Including following details:\n",
    "Name:\n",
    "Country:\n",
    "Company Number:\n",
    "Incorporated:\n",
    "Company Type:\n",
    "Company Status:\n",
    "Primary Addresses Registered Office:\n",
    "Accounting Dates:\n",
    "Confirmation Statement:\n",
    "\"\"\"\n",
    "# generating chat response\n",
    "response = chat_engine.chat(prompt)\n",
    "print(str(response))"
   ]
  },
  {
   "cell_type": "code",
   "execution_count": 35,
   "id": "9a9dda8c-d1fc-4e42-a117-e5e27ab3fafc",
   "metadata": {},
   "outputs": [
    {
     "name": "stdout",
     "output_type": "stream",
     "text": [
      "From the Management Details of Aardvark Constructions Limited, the extracted information is:\n",
      "\n",
      "1. Managed By: Caroline McPartland\n",
      "2. Managed By Email: cmcpartland@diligent.com\n"
     ]
    }
   ],
   "source": [
    "prompt = \"\"\"\n",
    "From Management Details extract:\n",
    "Managed By:\n",
    "Managed By Email:\n",
    "\"\"\"\n",
    "response = chat_engine.chat(prompt)\n",
    "print(str(response))"
   ]
  },
  {
   "cell_type": "code",
   "execution_count": 36,
   "id": "610c3952-1a95-4850-a6b4-08a46b81c559",
   "metadata": {},
   "outputs": [
    {
     "name": "stdout",
     "output_type": "stream",
     "text": [
      "From the document, the Past Names of the Company (Aardvark Constructions Limited) along with their periods are:\n",
      "\n",
      " None of the provided document details the Past Names of Aardvark Constructions Limited.\n"
     ]
    }
   ],
   "source": [
    "prompt = \"\"\"\n",
    "Past Names of the Company with their period \n",
    "\"\"\"\n",
    "response = chat_engine.chat(prompt)\n",
    "print(str(response))"
   ]
  },
  {
   "cell_type": "code",
   "execution_count": 37,
   "id": "08dd03f3-e68f-4aed-888e-09456fef605c",
   "metadata": {},
   "outputs": [
    {
     "name": "stdout",
     "output_type": "stream",
     "text": [
      "From the document, the Appointments: Board Positions list of Aardvark Constructions Limited, along with names and other details, is:\n",
      "\n",
      "1. **Name** **QuickRef** **Position** **Appointed** **Resigned**\n",
      "   - Abbles, James ABBLES-J Director 19/04/2023 Trainer\n",
      "   - Abdreatta, Leopoldo ABDREATT-L Director 18/10/2023 Secretary\n",
      "   - Adam, Nicole ADAMS-N Alternate Director 04/04/2023 CFO\n",
      "   - Non Executive 10/04/2024 CFO\n",
      "\n",
      "Note: There is a slight discrepancy in the position of Adam, Nicole ADAMS-N, as it is initially listed as CFO but later listed as Non Executive 10/04/2024 CFO.\n"
     ]
    }
   ],
   "source": [
    "prompt = \"\"\"\n",
    "Appointments Board Positions list with names and other details\n",
    "\"\"\"\n",
    "response = chat_engine.chat(prompt)\n",
    "print(str(response))"
   ]
  },
  {
   "cell_type": "code",
   "execution_count": null,
   "id": "c13eddef-42ad-48ef-8f14-112c7deb1a74",
   "metadata": {},
   "outputs": [],
   "source": []
  }
 ],
 "metadata": {
  "kernelspec": {
   "display_name": "Python (llamaindex)",
   "language": "python",
   "name": "llamaindex"
  },
  "language_info": {
   "codemirror_mode": {
    "name": "ipython",
    "version": 3
   },
   "file_extension": ".py",
   "mimetype": "text/x-python",
   "name": "python",
   "nbconvert_exporter": "python",
   "pygments_lexer": "ipython3",
   "version": "3.11.10"
  }
 },
 "nbformat": 4,
 "nbformat_minor": 5
}
