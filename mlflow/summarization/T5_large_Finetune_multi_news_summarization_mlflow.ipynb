{
  "nbformat": 4,
  "nbformat_minor": 0,
  "metadata": {
    "colab": {
      "provenance": [],
      "machine_shape": "hm",
      "gpuType": "A100",
      "authorship_tag": "ABX9TyM/H8BjSbnY/0djET0zmf1i",
      "include_colab_link": true
    },
    "kernelspec": {
      "name": "python3",
      "display_name": "Python 3"
    },
    "language_info": {
      "name": "python"
    },
    "accelerator": "GPU",
    "widgets": {
      "application/vnd.jupyter.widget-state+json": {
        "7d2aae50203242aba0b0f599310ffd9d": {
          "model_module": "@jupyter-widgets/controls",
          "model_name": "HBoxModel",
          "model_module_version": "1.5.0",
          "state": {
            "_dom_classes": [],
            "_model_module": "@jupyter-widgets/controls",
            "_model_module_version": "1.5.0",
            "_model_name": "HBoxModel",
            "_view_count": null,
            "_view_module": "@jupyter-widgets/controls",
            "_view_module_version": "1.5.0",
            "_view_name": "HBoxView",
            "box_style": "",
            "children": [
              "IPY_MODEL_8d1bede3676549d9b826f3903d267e74",
              "IPY_MODEL_2cfbacb5cb1c42069b7ad8aa7018c3e7",
              "IPY_MODEL_115086173ddf433bbce33985c19b8702"
            ],
            "layout": "IPY_MODEL_12209aa91ab74b5e9c2c5c50668f6bb9"
          }
        },
        "8d1bede3676549d9b826f3903d267e74": {
          "model_module": "@jupyter-widgets/controls",
          "model_name": "HTMLModel",
          "model_module_version": "1.5.0",
          "state": {
            "_dom_classes": [],
            "_model_module": "@jupyter-widgets/controls",
            "_model_module_version": "1.5.0",
            "_model_name": "HTMLModel",
            "_view_count": null,
            "_view_module": "@jupyter-widgets/controls",
            "_view_module_version": "1.5.0",
            "_view_name": "HTMLView",
            "description": "",
            "description_tooltip": null,
            "layout": "IPY_MODEL_71136a322c5e4d48b143a32c08f53797",
            "placeholder": "​",
            "style": "IPY_MODEL_82f6815751ab4eeaa20703fa15c9211a",
            "value": "Map: 100%"
          }
        },
        "2cfbacb5cb1c42069b7ad8aa7018c3e7": {
          "model_module": "@jupyter-widgets/controls",
          "model_name": "FloatProgressModel",
          "model_module_version": "1.5.0",
          "state": {
            "_dom_classes": [],
            "_model_module": "@jupyter-widgets/controls",
            "_model_module_version": "1.5.0",
            "_model_name": "FloatProgressModel",
            "_view_count": null,
            "_view_module": "@jupyter-widgets/controls",
            "_view_module_version": "1.5.0",
            "_view_name": "ProgressView",
            "bar_style": "success",
            "description": "",
            "description_tooltip": null,
            "layout": "IPY_MODEL_c02ced49cafa4f259556457acdb31ffa",
            "max": 5622,
            "min": 0,
            "orientation": "horizontal",
            "style": "IPY_MODEL_fbbe3f9bd68343478b17ed58e86ede71",
            "value": 5622
          }
        },
        "115086173ddf433bbce33985c19b8702": {
          "model_module": "@jupyter-widgets/controls",
          "model_name": "HTMLModel",
          "model_module_version": "1.5.0",
          "state": {
            "_dom_classes": [],
            "_model_module": "@jupyter-widgets/controls",
            "_model_module_version": "1.5.0",
            "_model_name": "HTMLModel",
            "_view_count": null,
            "_view_module": "@jupyter-widgets/controls",
            "_view_module_version": "1.5.0",
            "_view_name": "HTMLView",
            "description": "",
            "description_tooltip": null,
            "layout": "IPY_MODEL_1312bd328e494aebbb186fe56bce7701",
            "placeholder": "​",
            "style": "IPY_MODEL_e136e3e60c284988bd07f444fba3552c",
            "value": " 5622/5622 [00:14&lt;00:00, 358.07 examples/s]"
          }
        },
        "12209aa91ab74b5e9c2c5c50668f6bb9": {
          "model_module": "@jupyter-widgets/base",
          "model_name": "LayoutModel",
          "model_module_version": "1.2.0",
          "state": {
            "_model_module": "@jupyter-widgets/base",
            "_model_module_version": "1.2.0",
            "_model_name": "LayoutModel",
            "_view_count": null,
            "_view_module": "@jupyter-widgets/base",
            "_view_module_version": "1.2.0",
            "_view_name": "LayoutView",
            "align_content": null,
            "align_items": null,
            "align_self": null,
            "border": null,
            "bottom": null,
            "display": null,
            "flex": null,
            "flex_flow": null,
            "grid_area": null,
            "grid_auto_columns": null,
            "grid_auto_flow": null,
            "grid_auto_rows": null,
            "grid_column": null,
            "grid_gap": null,
            "grid_row": null,
            "grid_template_areas": null,
            "grid_template_columns": null,
            "grid_template_rows": null,
            "height": null,
            "justify_content": null,
            "justify_items": null,
            "left": null,
            "margin": null,
            "max_height": null,
            "max_width": null,
            "min_height": null,
            "min_width": null,
            "object_fit": null,
            "object_position": null,
            "order": null,
            "overflow": null,
            "overflow_x": null,
            "overflow_y": null,
            "padding": null,
            "right": null,
            "top": null,
            "visibility": null,
            "width": null
          }
        },
        "71136a322c5e4d48b143a32c08f53797": {
          "model_module": "@jupyter-widgets/base",
          "model_name": "LayoutModel",
          "model_module_version": "1.2.0",
          "state": {
            "_model_module": "@jupyter-widgets/base",
            "_model_module_version": "1.2.0",
            "_model_name": "LayoutModel",
            "_view_count": null,
            "_view_module": "@jupyter-widgets/base",
            "_view_module_version": "1.2.0",
            "_view_name": "LayoutView",
            "align_content": null,
            "align_items": null,
            "align_self": null,
            "border": null,
            "bottom": null,
            "display": null,
            "flex": null,
            "flex_flow": null,
            "grid_area": null,
            "grid_auto_columns": null,
            "grid_auto_flow": null,
            "grid_auto_rows": null,
            "grid_column": null,
            "grid_gap": null,
            "grid_row": null,
            "grid_template_areas": null,
            "grid_template_columns": null,
            "grid_template_rows": null,
            "height": null,
            "justify_content": null,
            "justify_items": null,
            "left": null,
            "margin": null,
            "max_height": null,
            "max_width": null,
            "min_height": null,
            "min_width": null,
            "object_fit": null,
            "object_position": null,
            "order": null,
            "overflow": null,
            "overflow_x": null,
            "overflow_y": null,
            "padding": null,
            "right": null,
            "top": null,
            "visibility": null,
            "width": null
          }
        },
        "82f6815751ab4eeaa20703fa15c9211a": {
          "model_module": "@jupyter-widgets/controls",
          "model_name": "DescriptionStyleModel",
          "model_module_version": "1.5.0",
          "state": {
            "_model_module": "@jupyter-widgets/controls",
            "_model_module_version": "1.5.0",
            "_model_name": "DescriptionStyleModel",
            "_view_count": null,
            "_view_module": "@jupyter-widgets/base",
            "_view_module_version": "1.2.0",
            "_view_name": "StyleView",
            "description_width": ""
          }
        },
        "c02ced49cafa4f259556457acdb31ffa": {
          "model_module": "@jupyter-widgets/base",
          "model_name": "LayoutModel",
          "model_module_version": "1.2.0",
          "state": {
            "_model_module": "@jupyter-widgets/base",
            "_model_module_version": "1.2.0",
            "_model_name": "LayoutModel",
            "_view_count": null,
            "_view_module": "@jupyter-widgets/base",
            "_view_module_version": "1.2.0",
            "_view_name": "LayoutView",
            "align_content": null,
            "align_items": null,
            "align_self": null,
            "border": null,
            "bottom": null,
            "display": null,
            "flex": null,
            "flex_flow": null,
            "grid_area": null,
            "grid_auto_columns": null,
            "grid_auto_flow": null,
            "grid_auto_rows": null,
            "grid_column": null,
            "grid_gap": null,
            "grid_row": null,
            "grid_template_areas": null,
            "grid_template_columns": null,
            "grid_template_rows": null,
            "height": null,
            "justify_content": null,
            "justify_items": null,
            "left": null,
            "margin": null,
            "max_height": null,
            "max_width": null,
            "min_height": null,
            "min_width": null,
            "object_fit": null,
            "object_position": null,
            "order": null,
            "overflow": null,
            "overflow_x": null,
            "overflow_y": null,
            "padding": null,
            "right": null,
            "top": null,
            "visibility": null,
            "width": null
          }
        },
        "fbbe3f9bd68343478b17ed58e86ede71": {
          "model_module": "@jupyter-widgets/controls",
          "model_name": "ProgressStyleModel",
          "model_module_version": "1.5.0",
          "state": {
            "_model_module": "@jupyter-widgets/controls",
            "_model_module_version": "1.5.0",
            "_model_name": "ProgressStyleModel",
            "_view_count": null,
            "_view_module": "@jupyter-widgets/base",
            "_view_module_version": "1.2.0",
            "_view_name": "StyleView",
            "bar_color": null,
            "description_width": ""
          }
        },
        "1312bd328e494aebbb186fe56bce7701": {
          "model_module": "@jupyter-widgets/base",
          "model_name": "LayoutModel",
          "model_module_version": "1.2.0",
          "state": {
            "_model_module": "@jupyter-widgets/base",
            "_model_module_version": "1.2.0",
            "_model_name": "LayoutModel",
            "_view_count": null,
            "_view_module": "@jupyter-widgets/base",
            "_view_module_version": "1.2.0",
            "_view_name": "LayoutView",
            "align_content": null,
            "align_items": null,
            "align_self": null,
            "border": null,
            "bottom": null,
            "display": null,
            "flex": null,
            "flex_flow": null,
            "grid_area": null,
            "grid_auto_columns": null,
            "grid_auto_flow": null,
            "grid_auto_rows": null,
            "grid_column": null,
            "grid_gap": null,
            "grid_row": null,
            "grid_template_areas": null,
            "grid_template_columns": null,
            "grid_template_rows": null,
            "height": null,
            "justify_content": null,
            "justify_items": null,
            "left": null,
            "margin": null,
            "max_height": null,
            "max_width": null,
            "min_height": null,
            "min_width": null,
            "object_fit": null,
            "object_position": null,
            "order": null,
            "overflow": null,
            "overflow_x": null,
            "overflow_y": null,
            "padding": null,
            "right": null,
            "top": null,
            "visibility": null,
            "width": null
          }
        },
        "e136e3e60c284988bd07f444fba3552c": {
          "model_module": "@jupyter-widgets/controls",
          "model_name": "DescriptionStyleModel",
          "model_module_version": "1.5.0",
          "state": {
            "_model_module": "@jupyter-widgets/controls",
            "_model_module_version": "1.5.0",
            "_model_name": "DescriptionStyleModel",
            "_view_count": null,
            "_view_module": "@jupyter-widgets/base",
            "_view_module_version": "1.2.0",
            "_view_name": "StyleView",
            "description_width": ""
          }
        },
        "ede8f3ca77134fa19a632c63d4107957": {
          "model_module": "@jupyter-widgets/controls",
          "model_name": "HBoxModel",
          "model_module_version": "1.5.0",
          "state": {
            "_dom_classes": [],
            "_model_module": "@jupyter-widgets/controls",
            "_model_module_version": "1.5.0",
            "_model_name": "HBoxModel",
            "_view_count": null,
            "_view_module": "@jupyter-widgets/controls",
            "_view_module_version": "1.5.0",
            "_view_name": "HBoxView",
            "box_style": "",
            "children": [
              "IPY_MODEL_696ea13973184ea588d875cfa4bcf81e",
              "IPY_MODEL_7f6ba91869e246758eefeacc3fe54d3f",
              "IPY_MODEL_e1534448f7894f7cb8bd44e33207a945"
            ],
            "layout": "IPY_MODEL_c71546f01bc042a0aa46b00f0f0f5d30"
          }
        },
        "696ea13973184ea588d875cfa4bcf81e": {
          "model_module": "@jupyter-widgets/controls",
          "model_name": "HTMLModel",
          "model_module_version": "1.5.0",
          "state": {
            "_dom_classes": [],
            "_model_module": "@jupyter-widgets/controls",
            "_model_module_version": "1.5.0",
            "_model_name": "HTMLModel",
            "_view_count": null,
            "_view_module": "@jupyter-widgets/controls",
            "_view_module_version": "1.5.0",
            "_view_name": "HTMLView",
            "description": "",
            "description_tooltip": null,
            "layout": "IPY_MODEL_a58d13ab1dfa4ff8adb4a5639e82cbfe",
            "placeholder": "​",
            "style": "IPY_MODEL_1767abc2fb0d433285252e21cb0b267b",
            "value": "README.md: 100%"
          }
        },
        "7f6ba91869e246758eefeacc3fe54d3f": {
          "model_module": "@jupyter-widgets/controls",
          "model_name": "FloatProgressModel",
          "model_module_version": "1.5.0",
          "state": {
            "_dom_classes": [],
            "_model_module": "@jupyter-widgets/controls",
            "_model_module_version": "1.5.0",
            "_model_name": "FloatProgressModel",
            "_view_count": null,
            "_view_module": "@jupyter-widgets/controls",
            "_view_module_version": "1.5.0",
            "_view_name": "ProgressView",
            "bar_style": "success",
            "description": "",
            "description_tooltip": null,
            "layout": "IPY_MODEL_8df2e210302e421c9ecf8d7610229178",
            "max": 8473,
            "min": 0,
            "orientation": "horizontal",
            "style": "IPY_MODEL_8913a771845143f98d8978839b869ac3",
            "value": 8473
          }
        },
        "e1534448f7894f7cb8bd44e33207a945": {
          "model_module": "@jupyter-widgets/controls",
          "model_name": "HTMLModel",
          "model_module_version": "1.5.0",
          "state": {
            "_dom_classes": [],
            "_model_module": "@jupyter-widgets/controls",
            "_model_module_version": "1.5.0",
            "_model_name": "HTMLModel",
            "_view_count": null,
            "_view_module": "@jupyter-widgets/controls",
            "_view_module_version": "1.5.0",
            "_view_name": "HTMLView",
            "description": "",
            "description_tooltip": null,
            "layout": "IPY_MODEL_3f38e9ea5e884c058730036898f390ea",
            "placeholder": "​",
            "style": "IPY_MODEL_58d25bf8028b4b17bb19e8fb5d0b266d",
            "value": " 8.47k/8.47k [00:00&lt;00:00, 699kB/s]"
          }
        },
        "c71546f01bc042a0aa46b00f0f0f5d30": {
          "model_module": "@jupyter-widgets/base",
          "model_name": "LayoutModel",
          "model_module_version": "1.2.0",
          "state": {
            "_model_module": "@jupyter-widgets/base",
            "_model_module_version": "1.2.0",
            "_model_name": "LayoutModel",
            "_view_count": null,
            "_view_module": "@jupyter-widgets/base",
            "_view_module_version": "1.2.0",
            "_view_name": "LayoutView",
            "align_content": null,
            "align_items": null,
            "align_self": null,
            "border": null,
            "bottom": null,
            "display": null,
            "flex": null,
            "flex_flow": null,
            "grid_area": null,
            "grid_auto_columns": null,
            "grid_auto_flow": null,
            "grid_auto_rows": null,
            "grid_column": null,
            "grid_gap": null,
            "grid_row": null,
            "grid_template_areas": null,
            "grid_template_columns": null,
            "grid_template_rows": null,
            "height": null,
            "justify_content": null,
            "justify_items": null,
            "left": null,
            "margin": null,
            "max_height": null,
            "max_width": null,
            "min_height": null,
            "min_width": null,
            "object_fit": null,
            "object_position": null,
            "order": null,
            "overflow": null,
            "overflow_x": null,
            "overflow_y": null,
            "padding": null,
            "right": null,
            "top": null,
            "visibility": null,
            "width": null
          }
        },
        "a58d13ab1dfa4ff8adb4a5639e82cbfe": {
          "model_module": "@jupyter-widgets/base",
          "model_name": "LayoutModel",
          "model_module_version": "1.2.0",
          "state": {
            "_model_module": "@jupyter-widgets/base",
            "_model_module_version": "1.2.0",
            "_model_name": "LayoutModel",
            "_view_count": null,
            "_view_module": "@jupyter-widgets/base",
            "_view_module_version": "1.2.0",
            "_view_name": "LayoutView",
            "align_content": null,
            "align_items": null,
            "align_self": null,
            "border": null,
            "bottom": null,
            "display": null,
            "flex": null,
            "flex_flow": null,
            "grid_area": null,
            "grid_auto_columns": null,
            "grid_auto_flow": null,
            "grid_auto_rows": null,
            "grid_column": null,
            "grid_gap": null,
            "grid_row": null,
            "grid_template_areas": null,
            "grid_template_columns": null,
            "grid_template_rows": null,
            "height": null,
            "justify_content": null,
            "justify_items": null,
            "left": null,
            "margin": null,
            "max_height": null,
            "max_width": null,
            "min_height": null,
            "min_width": null,
            "object_fit": null,
            "object_position": null,
            "order": null,
            "overflow": null,
            "overflow_x": null,
            "overflow_y": null,
            "padding": null,
            "right": null,
            "top": null,
            "visibility": null,
            "width": null
          }
        },
        "1767abc2fb0d433285252e21cb0b267b": {
          "model_module": "@jupyter-widgets/controls",
          "model_name": "DescriptionStyleModel",
          "model_module_version": "1.5.0",
          "state": {
            "_model_module": "@jupyter-widgets/controls",
            "_model_module_version": "1.5.0",
            "_model_name": "DescriptionStyleModel",
            "_view_count": null,
            "_view_module": "@jupyter-widgets/base",
            "_view_module_version": "1.2.0",
            "_view_name": "StyleView",
            "description_width": ""
          }
        },
        "8df2e210302e421c9ecf8d7610229178": {
          "model_module": "@jupyter-widgets/base",
          "model_name": "LayoutModel",
          "model_module_version": "1.2.0",
          "state": {
            "_model_module": "@jupyter-widgets/base",
            "_model_module_version": "1.2.0",
            "_model_name": "LayoutModel",
            "_view_count": null,
            "_view_module": "@jupyter-widgets/base",
            "_view_module_version": "1.2.0",
            "_view_name": "LayoutView",
            "align_content": null,
            "align_items": null,
            "align_self": null,
            "border": null,
            "bottom": null,
            "display": null,
            "flex": null,
            "flex_flow": null,
            "grid_area": null,
            "grid_auto_columns": null,
            "grid_auto_flow": null,
            "grid_auto_rows": null,
            "grid_column": null,
            "grid_gap": null,
            "grid_row": null,
            "grid_template_areas": null,
            "grid_template_columns": null,
            "grid_template_rows": null,
            "height": null,
            "justify_content": null,
            "justify_items": null,
            "left": null,
            "margin": null,
            "max_height": null,
            "max_width": null,
            "min_height": null,
            "min_width": null,
            "object_fit": null,
            "object_position": null,
            "order": null,
            "overflow": null,
            "overflow_x": null,
            "overflow_y": null,
            "padding": null,
            "right": null,
            "top": null,
            "visibility": null,
            "width": null
          }
        },
        "8913a771845143f98d8978839b869ac3": {
          "model_module": "@jupyter-widgets/controls",
          "model_name": "ProgressStyleModel",
          "model_module_version": "1.5.0",
          "state": {
            "_model_module": "@jupyter-widgets/controls",
            "_model_module_version": "1.5.0",
            "_model_name": "ProgressStyleModel",
            "_view_count": null,
            "_view_module": "@jupyter-widgets/base",
            "_view_module_version": "1.2.0",
            "_view_name": "StyleView",
            "bar_color": null,
            "description_width": ""
          }
        },
        "3f38e9ea5e884c058730036898f390ea": {
          "model_module": "@jupyter-widgets/base",
          "model_name": "LayoutModel",
          "model_module_version": "1.2.0",
          "state": {
            "_model_module": "@jupyter-widgets/base",
            "_model_module_version": "1.2.0",
            "_model_name": "LayoutModel",
            "_view_count": null,
            "_view_module": "@jupyter-widgets/base",
            "_view_module_version": "1.2.0",
            "_view_name": "LayoutView",
            "align_content": null,
            "align_items": null,
            "align_self": null,
            "border": null,
            "bottom": null,
            "display": null,
            "flex": null,
            "flex_flow": null,
            "grid_area": null,
            "grid_auto_columns": null,
            "grid_auto_flow": null,
            "grid_auto_rows": null,
            "grid_column": null,
            "grid_gap": null,
            "grid_row": null,
            "grid_template_areas": null,
            "grid_template_columns": null,
            "grid_template_rows": null,
            "height": null,
            "justify_content": null,
            "justify_items": null,
            "left": null,
            "margin": null,
            "max_height": null,
            "max_width": null,
            "min_height": null,
            "min_width": null,
            "object_fit": null,
            "object_position": null,
            "order": null,
            "overflow": null,
            "overflow_x": null,
            "overflow_y": null,
            "padding": null,
            "right": null,
            "top": null,
            "visibility": null,
            "width": null
          }
        },
        "58d25bf8028b4b17bb19e8fb5d0b266d": {
          "model_module": "@jupyter-widgets/controls",
          "model_name": "DescriptionStyleModel",
          "model_module_version": "1.5.0",
          "state": {
            "_model_module": "@jupyter-widgets/controls",
            "_model_module_version": "1.5.0",
            "_model_name": "DescriptionStyleModel",
            "_view_count": null,
            "_view_module": "@jupyter-widgets/base",
            "_view_module_version": "1.2.0",
            "_view_name": "StyleView",
            "description_width": ""
          }
        },
        "f0bdacd54e9d4c1d9f2f0b5654b78e5a": {
          "model_module": "@jupyter-widgets/controls",
          "model_name": "HBoxModel",
          "model_module_version": "1.5.0",
          "state": {
            "_dom_classes": [],
            "_model_module": "@jupyter-widgets/controls",
            "_model_module_version": "1.5.0",
            "_model_name": "HBoxModel",
            "_view_count": null,
            "_view_module": "@jupyter-widgets/controls",
            "_view_module_version": "1.5.0",
            "_view_name": "HBoxView",
            "box_style": "",
            "children": [
              "IPY_MODEL_bd02d777bdc04a308fe32e5a0199253a",
              "IPY_MODEL_b1f9c5d4942348b8b4bf50286cfc9582",
              "IPY_MODEL_6272b6a674214101b355a294cbb4ab92"
            ],
            "layout": "IPY_MODEL_02e32045917b49d9b730fca7d2ff68c2"
          }
        },
        "bd02d777bdc04a308fe32e5a0199253a": {
          "model_module": "@jupyter-widgets/controls",
          "model_name": "HTMLModel",
          "model_module_version": "1.5.0",
          "state": {
            "_dom_classes": [],
            "_model_module": "@jupyter-widgets/controls",
            "_model_module_version": "1.5.0",
            "_model_name": "HTMLModel",
            "_view_count": null,
            "_view_module": "@jupyter-widgets/controls",
            "_view_module_version": "1.5.0",
            "_view_name": "HTMLView",
            "description": "",
            "description_tooltip": null,
            "layout": "IPY_MODEL_b2ebc52eb8bf4ca58bbafda31a19ddb2",
            "placeholder": "​",
            "style": "IPY_MODEL_7957fff702644881a3ed3332f07091b2",
            "value": "Uploading artifacts: 100%"
          }
        },
        "b1f9c5d4942348b8b4bf50286cfc9582": {
          "model_module": "@jupyter-widgets/controls",
          "model_name": "FloatProgressModel",
          "model_module_version": "1.5.0",
          "state": {
            "_dom_classes": [],
            "_model_module": "@jupyter-widgets/controls",
            "_model_module_version": "1.5.0",
            "_model_name": "FloatProgressModel",
            "_view_count": null,
            "_view_module": "@jupyter-widgets/controls",
            "_view_module_version": "1.5.0",
            "_view_name": "ProgressView",
            "bar_style": "success",
            "description": "",
            "description_tooltip": null,
            "layout": "IPY_MODEL_bec11369f6464088aa7dabb5930a7d41",
            "max": 17,
            "min": 0,
            "orientation": "horizontal",
            "style": "IPY_MODEL_cdf39a4f35f7440a962e26fd78cb57ed",
            "value": 17
          }
        },
        "6272b6a674214101b355a294cbb4ab92": {
          "model_module": "@jupyter-widgets/controls",
          "model_name": "HTMLModel",
          "model_module_version": "1.5.0",
          "state": {
            "_dom_classes": [],
            "_model_module": "@jupyter-widgets/controls",
            "_model_module_version": "1.5.0",
            "_model_name": "HTMLModel",
            "_view_count": null,
            "_view_module": "@jupyter-widgets/controls",
            "_view_module_version": "1.5.0",
            "_view_name": "HTMLView",
            "description": "",
            "description_tooltip": null,
            "layout": "IPY_MODEL_63fd278ce71440e59f403c81b27b8617",
            "placeholder": "​",
            "style": "IPY_MODEL_f24a84865ffe4e2bba84c7fcbcd7fcc7",
            "value": " 17/17 [00:15&lt;00:00,  1.02s/it]"
          }
        },
        "02e32045917b49d9b730fca7d2ff68c2": {
          "model_module": "@jupyter-widgets/base",
          "model_name": "LayoutModel",
          "model_module_version": "1.2.0",
          "state": {
            "_model_module": "@jupyter-widgets/base",
            "_model_module_version": "1.2.0",
            "_model_name": "LayoutModel",
            "_view_count": null,
            "_view_module": "@jupyter-widgets/base",
            "_view_module_version": "1.2.0",
            "_view_name": "LayoutView",
            "align_content": null,
            "align_items": null,
            "align_self": null,
            "border": null,
            "bottom": null,
            "display": null,
            "flex": null,
            "flex_flow": null,
            "grid_area": null,
            "grid_auto_columns": null,
            "grid_auto_flow": null,
            "grid_auto_rows": null,
            "grid_column": null,
            "grid_gap": null,
            "grid_row": null,
            "grid_template_areas": null,
            "grid_template_columns": null,
            "grid_template_rows": null,
            "height": null,
            "justify_content": null,
            "justify_items": null,
            "left": null,
            "margin": null,
            "max_height": null,
            "max_width": null,
            "min_height": null,
            "min_width": null,
            "object_fit": null,
            "object_position": null,
            "order": null,
            "overflow": null,
            "overflow_x": null,
            "overflow_y": null,
            "padding": null,
            "right": null,
            "top": null,
            "visibility": null,
            "width": null
          }
        },
        "b2ebc52eb8bf4ca58bbafda31a19ddb2": {
          "model_module": "@jupyter-widgets/base",
          "model_name": "LayoutModel",
          "model_module_version": "1.2.0",
          "state": {
            "_model_module": "@jupyter-widgets/base",
            "_model_module_version": "1.2.0",
            "_model_name": "LayoutModel",
            "_view_count": null,
            "_view_module": "@jupyter-widgets/base",
            "_view_module_version": "1.2.0",
            "_view_name": "LayoutView",
            "align_content": null,
            "align_items": null,
            "align_self": null,
            "border": null,
            "bottom": null,
            "display": null,
            "flex": null,
            "flex_flow": null,
            "grid_area": null,
            "grid_auto_columns": null,
            "grid_auto_flow": null,
            "grid_auto_rows": null,
            "grid_column": null,
            "grid_gap": null,
            "grid_row": null,
            "grid_template_areas": null,
            "grid_template_columns": null,
            "grid_template_rows": null,
            "height": null,
            "justify_content": null,
            "justify_items": null,
            "left": null,
            "margin": null,
            "max_height": null,
            "max_width": null,
            "min_height": null,
            "min_width": null,
            "object_fit": null,
            "object_position": null,
            "order": null,
            "overflow": null,
            "overflow_x": null,
            "overflow_y": null,
            "padding": null,
            "right": null,
            "top": null,
            "visibility": null,
            "width": null
          }
        },
        "7957fff702644881a3ed3332f07091b2": {
          "model_module": "@jupyter-widgets/controls",
          "model_name": "DescriptionStyleModel",
          "model_module_version": "1.5.0",
          "state": {
            "_model_module": "@jupyter-widgets/controls",
            "_model_module_version": "1.5.0",
            "_model_name": "DescriptionStyleModel",
            "_view_count": null,
            "_view_module": "@jupyter-widgets/base",
            "_view_module_version": "1.2.0",
            "_view_name": "StyleView",
            "description_width": ""
          }
        },
        "bec11369f6464088aa7dabb5930a7d41": {
          "model_module": "@jupyter-widgets/base",
          "model_name": "LayoutModel",
          "model_module_version": "1.2.0",
          "state": {
            "_model_module": "@jupyter-widgets/base",
            "_model_module_version": "1.2.0",
            "_model_name": "LayoutModel",
            "_view_count": null,
            "_view_module": "@jupyter-widgets/base",
            "_view_module_version": "1.2.0",
            "_view_name": "LayoutView",
            "align_content": null,
            "align_items": null,
            "align_self": null,
            "border": null,
            "bottom": null,
            "display": null,
            "flex": null,
            "flex_flow": null,
            "grid_area": null,
            "grid_auto_columns": null,
            "grid_auto_flow": null,
            "grid_auto_rows": null,
            "grid_column": null,
            "grid_gap": null,
            "grid_row": null,
            "grid_template_areas": null,
            "grid_template_columns": null,
            "grid_template_rows": null,
            "height": null,
            "justify_content": null,
            "justify_items": null,
            "left": null,
            "margin": null,
            "max_height": null,
            "max_width": null,
            "min_height": null,
            "min_width": null,
            "object_fit": null,
            "object_position": null,
            "order": null,
            "overflow": null,
            "overflow_x": null,
            "overflow_y": null,
            "padding": null,
            "right": null,
            "top": null,
            "visibility": null,
            "width": null
          }
        },
        "cdf39a4f35f7440a962e26fd78cb57ed": {
          "model_module": "@jupyter-widgets/controls",
          "model_name": "ProgressStyleModel",
          "model_module_version": "1.5.0",
          "state": {
            "_model_module": "@jupyter-widgets/controls",
            "_model_module_version": "1.5.0",
            "_model_name": "ProgressStyleModel",
            "_view_count": null,
            "_view_module": "@jupyter-widgets/base",
            "_view_module_version": "1.2.0",
            "_view_name": "StyleView",
            "bar_color": null,
            "description_width": ""
          }
        },
        "63fd278ce71440e59f403c81b27b8617": {
          "model_module": "@jupyter-widgets/base",
          "model_name": "LayoutModel",
          "model_module_version": "1.2.0",
          "state": {
            "_model_module": "@jupyter-widgets/base",
            "_model_module_version": "1.2.0",
            "_model_name": "LayoutModel",
            "_view_count": null,
            "_view_module": "@jupyter-widgets/base",
            "_view_module_version": "1.2.0",
            "_view_name": "LayoutView",
            "align_content": null,
            "align_items": null,
            "align_self": null,
            "border": null,
            "bottom": null,
            "display": null,
            "flex": null,
            "flex_flow": null,
            "grid_area": null,
            "grid_auto_columns": null,
            "grid_auto_flow": null,
            "grid_auto_rows": null,
            "grid_column": null,
            "grid_gap": null,
            "grid_row": null,
            "grid_template_areas": null,
            "grid_template_columns": null,
            "grid_template_rows": null,
            "height": null,
            "justify_content": null,
            "justify_items": null,
            "left": null,
            "margin": null,
            "max_height": null,
            "max_width": null,
            "min_height": null,
            "min_width": null,
            "object_fit": null,
            "object_position": null,
            "order": null,
            "overflow": null,
            "overflow_x": null,
            "overflow_y": null,
            "padding": null,
            "right": null,
            "top": null,
            "visibility": null,
            "width": null
          }
        },
        "f24a84865ffe4e2bba84c7fcbcd7fcc7": {
          "model_module": "@jupyter-widgets/controls",
          "model_name": "DescriptionStyleModel",
          "model_module_version": "1.5.0",
          "state": {
            "_model_module": "@jupyter-widgets/controls",
            "_model_module_version": "1.5.0",
            "_model_name": "DescriptionStyleModel",
            "_view_count": null,
            "_view_module": "@jupyter-widgets/base",
            "_view_module_version": "1.2.0",
            "_view_name": "StyleView",
            "description_width": ""
          }
        },
        "069b9c11a5ac4fc2b4fe2926517989ad": {
          "model_module": "@jupyter-widgets/controls",
          "model_name": "HBoxModel",
          "model_module_version": "1.5.0",
          "state": {
            "_dom_classes": [],
            "_model_module": "@jupyter-widgets/controls",
            "_model_module_version": "1.5.0",
            "_model_name": "HBoxModel",
            "_view_count": null,
            "_view_module": "@jupyter-widgets/controls",
            "_view_module_version": "1.5.0",
            "_view_name": "HBoxView",
            "box_style": "",
            "children": [
              "IPY_MODEL_63faf9d0e693481cb6cf2bd2acbdf931",
              "IPY_MODEL_cd028ba46a8f4cf5bbcff0054c440e81",
              "IPY_MODEL_daf240ab31b344139d780e759442c3b7"
            ],
            "layout": "IPY_MODEL_5449831ac7474567b2435881eeb3d810"
          }
        },
        "63faf9d0e693481cb6cf2bd2acbdf931": {
          "model_module": "@jupyter-widgets/controls",
          "model_name": "HTMLModel",
          "model_module_version": "1.5.0",
          "state": {
            "_dom_classes": [],
            "_model_module": "@jupyter-widgets/controls",
            "_model_module_version": "1.5.0",
            "_model_name": "HTMLModel",
            "_view_count": null,
            "_view_module": "@jupyter-widgets/controls",
            "_view_module_version": "1.5.0",
            "_view_name": "HTMLView",
            "description": "",
            "description_tooltip": null,
            "layout": "IPY_MODEL_6480cef57ea74ae1b30e092abfb84a8d",
            "placeholder": "​",
            "style": "IPY_MODEL_d0568cc1fc014543a258580a64be6a0e",
            "value": "Downloading artifacts: 100%"
          }
        },
        "cd028ba46a8f4cf5bbcff0054c440e81": {
          "model_module": "@jupyter-widgets/controls",
          "model_name": "FloatProgressModel",
          "model_module_version": "1.5.0",
          "state": {
            "_dom_classes": [],
            "_model_module": "@jupyter-widgets/controls",
            "_model_module_version": "1.5.0",
            "_model_name": "FloatProgressModel",
            "_view_count": null,
            "_view_module": "@jupyter-widgets/controls",
            "_view_module_version": "1.5.0",
            "_view_name": "ProgressView",
            "bar_style": "success",
            "description": "",
            "description_tooltip": null,
            "layout": "IPY_MODEL_c59f0923bc934aafafef6333af566eb7",
            "max": 17,
            "min": 0,
            "orientation": "horizontal",
            "style": "IPY_MODEL_d90b944f11e44b788d49de54bd2d0e78",
            "value": 17
          }
        },
        "daf240ab31b344139d780e759442c3b7": {
          "model_module": "@jupyter-widgets/controls",
          "model_name": "HTMLModel",
          "model_module_version": "1.5.0",
          "state": {
            "_dom_classes": [],
            "_model_module": "@jupyter-widgets/controls",
            "_model_module_version": "1.5.0",
            "_model_name": "HTMLModel",
            "_view_count": null,
            "_view_module": "@jupyter-widgets/controls",
            "_view_module_version": "1.5.0",
            "_view_name": "HTMLView",
            "description": "",
            "description_tooltip": null,
            "layout": "IPY_MODEL_c0939fc04a1d484ba43c8fa268da149d",
            "placeholder": "​",
            "style": "IPY_MODEL_ec45af5fddba4406942aee7862060077",
            "value": " 17/17 [00:21&lt;00:00,  2.31s/it]"
          }
        },
        "5449831ac7474567b2435881eeb3d810": {
          "model_module": "@jupyter-widgets/base",
          "model_name": "LayoutModel",
          "model_module_version": "1.2.0",
          "state": {
            "_model_module": "@jupyter-widgets/base",
            "_model_module_version": "1.2.0",
            "_model_name": "LayoutModel",
            "_view_count": null,
            "_view_module": "@jupyter-widgets/base",
            "_view_module_version": "1.2.0",
            "_view_name": "LayoutView",
            "align_content": null,
            "align_items": null,
            "align_self": null,
            "border": null,
            "bottom": null,
            "display": null,
            "flex": null,
            "flex_flow": null,
            "grid_area": null,
            "grid_auto_columns": null,
            "grid_auto_flow": null,
            "grid_auto_rows": null,
            "grid_column": null,
            "grid_gap": null,
            "grid_row": null,
            "grid_template_areas": null,
            "grid_template_columns": null,
            "grid_template_rows": null,
            "height": null,
            "justify_content": null,
            "justify_items": null,
            "left": null,
            "margin": null,
            "max_height": null,
            "max_width": null,
            "min_height": null,
            "min_width": null,
            "object_fit": null,
            "object_position": null,
            "order": null,
            "overflow": null,
            "overflow_x": null,
            "overflow_y": null,
            "padding": null,
            "right": null,
            "top": null,
            "visibility": null,
            "width": null
          }
        },
        "6480cef57ea74ae1b30e092abfb84a8d": {
          "model_module": "@jupyter-widgets/base",
          "model_name": "LayoutModel",
          "model_module_version": "1.2.0",
          "state": {
            "_model_module": "@jupyter-widgets/base",
            "_model_module_version": "1.2.0",
            "_model_name": "LayoutModel",
            "_view_count": null,
            "_view_module": "@jupyter-widgets/base",
            "_view_module_version": "1.2.0",
            "_view_name": "LayoutView",
            "align_content": null,
            "align_items": null,
            "align_self": null,
            "border": null,
            "bottom": null,
            "display": null,
            "flex": null,
            "flex_flow": null,
            "grid_area": null,
            "grid_auto_columns": null,
            "grid_auto_flow": null,
            "grid_auto_rows": null,
            "grid_column": null,
            "grid_gap": null,
            "grid_row": null,
            "grid_template_areas": null,
            "grid_template_columns": null,
            "grid_template_rows": null,
            "height": null,
            "justify_content": null,
            "justify_items": null,
            "left": null,
            "margin": null,
            "max_height": null,
            "max_width": null,
            "min_height": null,
            "min_width": null,
            "object_fit": null,
            "object_position": null,
            "order": null,
            "overflow": null,
            "overflow_x": null,
            "overflow_y": null,
            "padding": null,
            "right": null,
            "top": null,
            "visibility": null,
            "width": null
          }
        },
        "d0568cc1fc014543a258580a64be6a0e": {
          "model_module": "@jupyter-widgets/controls",
          "model_name": "DescriptionStyleModel",
          "model_module_version": "1.5.0",
          "state": {
            "_model_module": "@jupyter-widgets/controls",
            "_model_module_version": "1.5.0",
            "_model_name": "DescriptionStyleModel",
            "_view_count": null,
            "_view_module": "@jupyter-widgets/base",
            "_view_module_version": "1.2.0",
            "_view_name": "StyleView",
            "description_width": ""
          }
        },
        "c59f0923bc934aafafef6333af566eb7": {
          "model_module": "@jupyter-widgets/base",
          "model_name": "LayoutModel",
          "model_module_version": "1.2.0",
          "state": {
            "_model_module": "@jupyter-widgets/base",
            "_model_module_version": "1.2.0",
            "_model_name": "LayoutModel",
            "_view_count": null,
            "_view_module": "@jupyter-widgets/base",
            "_view_module_version": "1.2.0",
            "_view_name": "LayoutView",
            "align_content": null,
            "align_items": null,
            "align_self": null,
            "border": null,
            "bottom": null,
            "display": null,
            "flex": null,
            "flex_flow": null,
            "grid_area": null,
            "grid_auto_columns": null,
            "grid_auto_flow": null,
            "grid_auto_rows": null,
            "grid_column": null,
            "grid_gap": null,
            "grid_row": null,
            "grid_template_areas": null,
            "grid_template_columns": null,
            "grid_template_rows": null,
            "height": null,
            "justify_content": null,
            "justify_items": null,
            "left": null,
            "margin": null,
            "max_height": null,
            "max_width": null,
            "min_height": null,
            "min_width": null,
            "object_fit": null,
            "object_position": null,
            "order": null,
            "overflow": null,
            "overflow_x": null,
            "overflow_y": null,
            "padding": null,
            "right": null,
            "top": null,
            "visibility": null,
            "width": null
          }
        },
        "d90b944f11e44b788d49de54bd2d0e78": {
          "model_module": "@jupyter-widgets/controls",
          "model_name": "ProgressStyleModel",
          "model_module_version": "1.5.0",
          "state": {
            "_model_module": "@jupyter-widgets/controls",
            "_model_module_version": "1.5.0",
            "_model_name": "ProgressStyleModel",
            "_view_count": null,
            "_view_module": "@jupyter-widgets/base",
            "_view_module_version": "1.2.0",
            "_view_name": "StyleView",
            "bar_color": null,
            "description_width": ""
          }
        },
        "c0939fc04a1d484ba43c8fa268da149d": {
          "model_module": "@jupyter-widgets/base",
          "model_name": "LayoutModel",
          "model_module_version": "1.2.0",
          "state": {
            "_model_module": "@jupyter-widgets/base",
            "_model_module_version": "1.2.0",
            "_model_name": "LayoutModel",
            "_view_count": null,
            "_view_module": "@jupyter-widgets/base",
            "_view_module_version": "1.2.0",
            "_view_name": "LayoutView",
            "align_content": null,
            "align_items": null,
            "align_self": null,
            "border": null,
            "bottom": null,
            "display": null,
            "flex": null,
            "flex_flow": null,
            "grid_area": null,
            "grid_auto_columns": null,
            "grid_auto_flow": null,
            "grid_auto_rows": null,
            "grid_column": null,
            "grid_gap": null,
            "grid_row": null,
            "grid_template_areas": null,
            "grid_template_columns": null,
            "grid_template_rows": null,
            "height": null,
            "justify_content": null,
            "justify_items": null,
            "left": null,
            "margin": null,
            "max_height": null,
            "max_width": null,
            "min_height": null,
            "min_width": null,
            "object_fit": null,
            "object_position": null,
            "order": null,
            "overflow": null,
            "overflow_x": null,
            "overflow_y": null,
            "padding": null,
            "right": null,
            "top": null,
            "visibility": null,
            "width": null
          }
        },
        "ec45af5fddba4406942aee7862060077": {
          "model_module": "@jupyter-widgets/controls",
          "model_name": "DescriptionStyleModel",
          "model_module_version": "1.5.0",
          "state": {
            "_model_module": "@jupyter-widgets/controls",
            "_model_module_version": "1.5.0",
            "_model_name": "DescriptionStyleModel",
            "_view_count": null,
            "_view_module": "@jupyter-widgets/base",
            "_view_module_version": "1.2.0",
            "_view_name": "StyleView",
            "description_width": ""
          }
        },
        "d377ae4a4b4f42d08a39ddf8bcdad215": {
          "model_module": "@jupyter-widgets/base",
          "model_name": "LayoutModel",
          "model_module_version": "1.2.0",
          "state": {
            "_model_module": "@jupyter-widgets/base",
            "_model_module_version": "1.2.0",
            "_model_name": "LayoutModel",
            "_view_count": null,
            "_view_module": "@jupyter-widgets/base",
            "_view_module_version": "1.2.0",
            "_view_name": "LayoutView",
            "align_content": null,
            "align_items": null,
            "align_self": null,
            "border": null,
            "bottom": null,
            "display": null,
            "flex": null,
            "flex_flow": null,
            "grid_area": null,
            "grid_auto_columns": null,
            "grid_auto_flow": null,
            "grid_auto_rows": null,
            "grid_column": null,
            "grid_gap": null,
            "grid_row": null,
            "grid_template_areas": null,
            "grid_template_columns": null,
            "grid_template_rows": null,
            "height": null,
            "justify_content": null,
            "justify_items": null,
            "left": null,
            "margin": null,
            "max_height": null,
            "max_width": null,
            "min_height": null,
            "min_width": null,
            "object_fit": null,
            "object_position": null,
            "order": null,
            "overflow": null,
            "overflow_x": null,
            "overflow_y": null,
            "padding": null,
            "right": null,
            "top": null,
            "visibility": null,
            "width": null
          }
        },
        "a678a8c5f2934381bd90c249efcd7011": {
          "model_module": "@jupyter-widgets/controls",
          "model_name": "ProgressStyleModel",
          "model_module_version": "1.5.0",
          "state": {
            "_model_module": "@jupyter-widgets/controls",
            "_model_module_version": "1.5.0",
            "_model_name": "ProgressStyleModel",
            "_view_count": null,
            "_view_module": "@jupyter-widgets/base",
            "_view_module_version": "1.2.0",
            "_view_name": "StyleView",
            "bar_color": null,
            "description_width": ""
          }
        },
        "c0a78c9d9eb74254b45271defe2e4911": {
          "model_module": "@jupyter-widgets/base",
          "model_name": "LayoutModel",
          "model_module_version": "1.2.0",
          "state": {
            "_model_module": "@jupyter-widgets/base",
            "_model_module_version": "1.2.0",
            "_model_name": "LayoutModel",
            "_view_count": null,
            "_view_module": "@jupyter-widgets/base",
            "_view_module_version": "1.2.0",
            "_view_name": "LayoutView",
            "align_content": null,
            "align_items": null,
            "align_self": null,
            "border": null,
            "bottom": null,
            "display": null,
            "flex": null,
            "flex_flow": null,
            "grid_area": null,
            "grid_auto_columns": null,
            "grid_auto_flow": null,
            "grid_auto_rows": null,
            "grid_column": null,
            "grid_gap": null,
            "grid_row": null,
            "grid_template_areas": null,
            "grid_template_columns": null,
            "grid_template_rows": null,
            "height": null,
            "justify_content": null,
            "justify_items": null,
            "left": null,
            "margin": null,
            "max_height": null,
            "max_width": null,
            "min_height": null,
            "min_width": null,
            "object_fit": null,
            "object_position": null,
            "order": null,
            "overflow": null,
            "overflow_x": null,
            "overflow_y": null,
            "padding": null,
            "right": null,
            "top": null,
            "visibility": null,
            "width": null
          }
        },
        "352da5f873134788a2246ff57540898f": {
          "model_module": "@jupyter-widgets/controls",
          "model_name": "DescriptionStyleModel",
          "model_module_version": "1.5.0",
          "state": {
            "_model_module": "@jupyter-widgets/controls",
            "_model_module_version": "1.5.0",
            "_model_name": "DescriptionStyleModel",
            "_view_count": null,
            "_view_module": "@jupyter-widgets/base",
            "_view_module_version": "1.2.0",
            "_view_name": "StyleView",
            "description_width": ""
          }
        },
        "503982465b77454aad47a73032e025f2": {
          "model_module": "@jupyter-widgets/base",
          "model_name": "LayoutModel",
          "model_module_version": "1.2.0",
          "state": {
            "_model_module": "@jupyter-widgets/base",
            "_model_module_version": "1.2.0",
            "_model_name": "LayoutModel",
            "_view_count": null,
            "_view_module": "@jupyter-widgets/base",
            "_view_module_version": "1.2.0",
            "_view_name": "LayoutView",
            "align_content": null,
            "align_items": null,
            "align_self": null,
            "border": null,
            "bottom": null,
            "display": null,
            "flex": null,
            "flex_flow": null,
            "grid_area": null,
            "grid_auto_columns": null,
            "grid_auto_flow": null,
            "grid_auto_rows": null,
            "grid_column": null,
            "grid_gap": null,
            "grid_row": null,
            "grid_template_areas": null,
            "grid_template_columns": null,
            "grid_template_rows": null,
            "height": null,
            "justify_content": null,
            "justify_items": null,
            "left": null,
            "margin": null,
            "max_height": null,
            "max_width": null,
            "min_height": null,
            "min_width": null,
            "object_fit": null,
            "object_position": null,
            "order": null,
            "overflow": null,
            "overflow_x": null,
            "overflow_y": null,
            "padding": null,
            "right": null,
            "top": null,
            "visibility": null,
            "width": null
          }
        },
        "74bc4c69a2a442828404f4766eb3a1f4": {
          "model_module": "@jupyter-widgets/controls",
          "model_name": "DescriptionStyleModel",
          "model_module_version": "1.5.0",
          "state": {
            "_model_module": "@jupyter-widgets/controls",
            "_model_module_version": "1.5.0",
            "_model_name": "DescriptionStyleModel",
            "_view_count": null,
            "_view_module": "@jupyter-widgets/base",
            "_view_module_version": "1.2.0",
            "_view_name": "StyleView",
            "description_width": ""
          }
        },
        "552912952d054aef933bb9c99bf750f6": {
          "model_module": "@jupyter-widgets/controls",
          "model_name": "HTMLModel",
          "model_module_version": "1.5.0",
          "state": {
            "_dom_classes": [],
            "_model_module": "@jupyter-widgets/controls",
            "_model_module_version": "1.5.0",
            "_model_name": "HTMLModel",
            "_view_count": null,
            "_view_module": "@jupyter-widgets/controls",
            "_view_module_version": "1.5.0",
            "_view_name": "HTMLView",
            "description": "",
            "description_tooltip": null,
            "layout": "IPY_MODEL_c0a78c9d9eb74254b45271defe2e4911",
            "placeholder": "​",
            "style": "IPY_MODEL_352da5f873134788a2246ff57540898f",
            "value": "Downloading artifacts: 100%"
          }
        },
        "f388931fe7bf419fa42279a08f6367f8": {
          "model_module": "@jupyter-widgets/controls",
          "model_name": "FloatProgressModel",
          "model_module_version": "1.5.0",
          "state": {
            "_dom_classes": [],
            "_model_module": "@jupyter-widgets/controls",
            "_model_module_version": "1.5.0",
            "_model_name": "FloatProgressModel",
            "_view_count": null,
            "_view_module": "@jupyter-widgets/controls",
            "_view_module_version": "1.5.0",
            "_view_name": "ProgressView",
            "bar_style": "success",
            "description": "",
            "description_tooltip": null,
            "layout": "IPY_MODEL_d377ae4a4b4f42d08a39ddf8bcdad215",
            "max": 1,
            "min": 0,
            "orientation": "horizontal",
            "style": "IPY_MODEL_a678a8c5f2934381bd90c249efcd7011",
            "value": 1
          }
        },
        "873adf8cd0754de386e71e112ac3a1c9": {
          "model_module": "@jupyter-widgets/controls",
          "model_name": "HTMLModel",
          "model_module_version": "1.5.0",
          "state": {
            "_dom_classes": [],
            "_model_module": "@jupyter-widgets/controls",
            "_model_module_version": "1.5.0",
            "_model_name": "HTMLModel",
            "_view_count": null,
            "_view_module": "@jupyter-widgets/controls",
            "_view_module_version": "1.5.0",
            "_view_name": "HTMLView",
            "description": "",
            "description_tooltip": null,
            "layout": "IPY_MODEL_503982465b77454aad47a73032e025f2",
            "placeholder": "​",
            "style": "IPY_MODEL_74bc4c69a2a442828404f4766eb3a1f4",
            "value": " 1/1 [00:00&lt;00:00,  2.23it/s]"
          }
        },
        "b615bf064ba4480f90687ff7375c365c": {
          "model_module": "@jupyter-widgets/base",
          "model_name": "LayoutModel",
          "model_module_version": "1.2.0",
          "state": {
            "_model_module": "@jupyter-widgets/base",
            "_model_module_version": "1.2.0",
            "_model_name": "LayoutModel",
            "_view_count": null,
            "_view_module": "@jupyter-widgets/base",
            "_view_module_version": "1.2.0",
            "_view_name": "LayoutView",
            "align_content": null,
            "align_items": null,
            "align_self": null,
            "border": null,
            "bottom": null,
            "display": null,
            "flex": null,
            "flex_flow": null,
            "grid_area": null,
            "grid_auto_columns": null,
            "grid_auto_flow": null,
            "grid_auto_rows": null,
            "grid_column": null,
            "grid_gap": null,
            "grid_row": null,
            "grid_template_areas": null,
            "grid_template_columns": null,
            "grid_template_rows": null,
            "height": null,
            "justify_content": null,
            "justify_items": null,
            "left": null,
            "margin": null,
            "max_height": null,
            "max_width": null,
            "min_height": null,
            "min_width": null,
            "object_fit": null,
            "object_position": null,
            "order": null,
            "overflow": null,
            "overflow_x": null,
            "overflow_y": null,
            "padding": null,
            "right": null,
            "top": null,
            "visibility": null,
            "width": null
          }
        },
        "5a663682f6af40ec8da0d5e529bc131d": {
          "model_module": "@jupyter-widgets/controls",
          "model_name": "HBoxModel",
          "model_module_version": "1.5.0",
          "state": {
            "_dom_classes": [],
            "_model_module": "@jupyter-widgets/controls",
            "_model_module_version": "1.5.0",
            "_model_name": "HBoxModel",
            "_view_count": null,
            "_view_module": "@jupyter-widgets/controls",
            "_view_module_version": "1.5.0",
            "_view_name": "HBoxView",
            "box_style": "",
            "children": [
              "IPY_MODEL_552912952d054aef933bb9c99bf750f6",
              "IPY_MODEL_f388931fe7bf419fa42279a08f6367f8",
              "IPY_MODEL_873adf8cd0754de386e71e112ac3a1c9"
            ],
            "layout": "IPY_MODEL_b615bf064ba4480f90687ff7375c365c"
          }
        },
        "c7e649d6662548da846eae67a18c3a37": {
          "model_module": "@jupyter-widgets/base",
          "model_name": "LayoutModel",
          "model_module_version": "1.2.0",
          "state": {
            "_model_module": "@jupyter-widgets/base",
            "_model_module_version": "1.2.0",
            "_model_name": "LayoutModel",
            "_view_count": null,
            "_view_module": "@jupyter-widgets/base",
            "_view_module_version": "1.2.0",
            "_view_name": "LayoutView",
            "align_content": null,
            "align_items": null,
            "align_self": null,
            "border": null,
            "bottom": null,
            "display": null,
            "flex": null,
            "flex_flow": null,
            "grid_area": null,
            "grid_auto_columns": null,
            "grid_auto_flow": null,
            "grid_auto_rows": null,
            "grid_column": null,
            "grid_gap": null,
            "grid_row": null,
            "grid_template_areas": null,
            "grid_template_columns": null,
            "grid_template_rows": null,
            "height": null,
            "justify_content": null,
            "justify_items": null,
            "left": null,
            "margin": null,
            "max_height": null,
            "max_width": null,
            "min_height": null,
            "min_width": null,
            "object_fit": null,
            "object_position": null,
            "order": null,
            "overflow": null,
            "overflow_x": null,
            "overflow_y": null,
            "padding": null,
            "right": null,
            "top": null,
            "visibility": null,
            "width": null
          }
        },
        "16ddd4a77e9248db8f3579de5ccfa7b0": {
          "model_module": "@jupyter-widgets/controls",
          "model_name": "ProgressStyleModel",
          "model_module_version": "1.5.0",
          "state": {
            "_model_module": "@jupyter-widgets/controls",
            "_model_module_version": "1.5.0",
            "_model_name": "ProgressStyleModel",
            "_view_count": null,
            "_view_module": "@jupyter-widgets/base",
            "_view_module_version": "1.2.0",
            "_view_name": "StyleView",
            "bar_color": null,
            "description_width": ""
          }
        },
        "f3c2475dc3224a40816ce056bab25899": {
          "model_module": "@jupyter-widgets/base",
          "model_name": "LayoutModel",
          "model_module_version": "1.2.0",
          "state": {
            "_model_module": "@jupyter-widgets/base",
            "_model_module_version": "1.2.0",
            "_model_name": "LayoutModel",
            "_view_count": null,
            "_view_module": "@jupyter-widgets/base",
            "_view_module_version": "1.2.0",
            "_view_name": "LayoutView",
            "align_content": null,
            "align_items": null,
            "align_self": null,
            "border": null,
            "bottom": null,
            "display": null,
            "flex": null,
            "flex_flow": null,
            "grid_area": null,
            "grid_auto_columns": null,
            "grid_auto_flow": null,
            "grid_auto_rows": null,
            "grid_column": null,
            "grid_gap": null,
            "grid_row": null,
            "grid_template_areas": null,
            "grid_template_columns": null,
            "grid_template_rows": null,
            "height": null,
            "justify_content": null,
            "justify_items": null,
            "left": null,
            "margin": null,
            "max_height": null,
            "max_width": null,
            "min_height": null,
            "min_width": null,
            "object_fit": null,
            "object_position": null,
            "order": null,
            "overflow": null,
            "overflow_x": null,
            "overflow_y": null,
            "padding": null,
            "right": null,
            "top": null,
            "visibility": null,
            "width": null
          }
        },
        "8949cb8f241e43da9a80857008af5c66": {
          "model_module": "@jupyter-widgets/controls",
          "model_name": "DescriptionStyleModel",
          "model_module_version": "1.5.0",
          "state": {
            "_model_module": "@jupyter-widgets/controls",
            "_model_module_version": "1.5.0",
            "_model_name": "DescriptionStyleModel",
            "_view_count": null,
            "_view_module": "@jupyter-widgets/base",
            "_view_module_version": "1.2.0",
            "_view_name": "StyleView",
            "description_width": ""
          }
        },
        "e14e2a428bdb45478523acfd0e639dea": {
          "model_module": "@jupyter-widgets/base",
          "model_name": "LayoutModel",
          "model_module_version": "1.2.0",
          "state": {
            "_model_module": "@jupyter-widgets/base",
            "_model_module_version": "1.2.0",
            "_model_name": "LayoutModel",
            "_view_count": null,
            "_view_module": "@jupyter-widgets/base",
            "_view_module_version": "1.2.0",
            "_view_name": "LayoutView",
            "align_content": null,
            "align_items": null,
            "align_self": null,
            "border": null,
            "bottom": null,
            "display": null,
            "flex": null,
            "flex_flow": null,
            "grid_area": null,
            "grid_auto_columns": null,
            "grid_auto_flow": null,
            "grid_auto_rows": null,
            "grid_column": null,
            "grid_gap": null,
            "grid_row": null,
            "grid_template_areas": null,
            "grid_template_columns": null,
            "grid_template_rows": null,
            "height": null,
            "justify_content": null,
            "justify_items": null,
            "left": null,
            "margin": null,
            "max_height": null,
            "max_width": null,
            "min_height": null,
            "min_width": null,
            "object_fit": null,
            "object_position": null,
            "order": null,
            "overflow": null,
            "overflow_x": null,
            "overflow_y": null,
            "padding": null,
            "right": null,
            "top": null,
            "visibility": null,
            "width": null
          }
        },
        "a0917e50e9b54a5081886f7f6165f114": {
          "model_module": "@jupyter-widgets/controls",
          "model_name": "DescriptionStyleModel",
          "model_module_version": "1.5.0",
          "state": {
            "_model_module": "@jupyter-widgets/controls",
            "_model_module_version": "1.5.0",
            "_model_name": "DescriptionStyleModel",
            "_view_count": null,
            "_view_module": "@jupyter-widgets/base",
            "_view_module_version": "1.2.0",
            "_view_name": "StyleView",
            "description_width": ""
          }
        },
        "d48ecdf183734308ad383a55e4010ba3": {
          "model_module": "@jupyter-widgets/controls",
          "model_name": "HTMLModel",
          "model_module_version": "1.5.0",
          "state": {
            "_dom_classes": [],
            "_model_module": "@jupyter-widgets/controls",
            "_model_module_version": "1.5.0",
            "_model_name": "HTMLModel",
            "_view_count": null,
            "_view_module": "@jupyter-widgets/controls",
            "_view_module_version": "1.5.0",
            "_view_name": "HTMLView",
            "description": "",
            "description_tooltip": null,
            "layout": "IPY_MODEL_f3c2475dc3224a40816ce056bab25899",
            "placeholder": "​",
            "style": "IPY_MODEL_8949cb8f241e43da9a80857008af5c66",
            "value": "Loading checkpoint shards: 100%"
          }
        },
        "259c0229f67e48a79a1ffca1edb2014e": {
          "model_module": "@jupyter-widgets/controls",
          "model_name": "FloatProgressModel",
          "model_module_version": "1.5.0",
          "state": {
            "_dom_classes": [],
            "_model_module": "@jupyter-widgets/controls",
            "_model_module_version": "1.5.0",
            "_model_name": "FloatProgressModel",
            "_view_count": null,
            "_view_module": "@jupyter-widgets/controls",
            "_view_module_version": "1.5.0",
            "_view_name": "ProgressView",
            "bar_style": "success",
            "description": "",
            "description_tooltip": null,
            "layout": "IPY_MODEL_c7e649d6662548da846eae67a18c3a37",
            "max": 3,
            "min": 0,
            "orientation": "horizontal",
            "style": "IPY_MODEL_16ddd4a77e9248db8f3579de5ccfa7b0",
            "value": 3
          }
        },
        "6dc8f6dc163a42cea8ef0dffe946c969": {
          "model_module": "@jupyter-widgets/controls",
          "model_name": "HTMLModel",
          "model_module_version": "1.5.0",
          "state": {
            "_dom_classes": [],
            "_model_module": "@jupyter-widgets/controls",
            "_model_module_version": "1.5.0",
            "_model_name": "HTMLModel",
            "_view_count": null,
            "_view_module": "@jupyter-widgets/controls",
            "_view_module_version": "1.5.0",
            "_view_name": "HTMLView",
            "description": "",
            "description_tooltip": null,
            "layout": "IPY_MODEL_e14e2a428bdb45478523acfd0e639dea",
            "placeholder": "​",
            "style": "IPY_MODEL_a0917e50e9b54a5081886f7f6165f114",
            "value": " 3/3 [00:01&lt;00:00,  1.96it/s]"
          }
        },
        "baffdfcc37994e6db2c1bc3b6bb0cd4e": {
          "model_module": "@jupyter-widgets/base",
          "model_name": "LayoutModel",
          "model_module_version": "1.2.0",
          "state": {
            "_model_module": "@jupyter-widgets/base",
            "_model_module_version": "1.2.0",
            "_model_name": "LayoutModel",
            "_view_count": null,
            "_view_module": "@jupyter-widgets/base",
            "_view_module_version": "1.2.0",
            "_view_name": "LayoutView",
            "align_content": null,
            "align_items": null,
            "align_self": null,
            "border": null,
            "bottom": null,
            "display": null,
            "flex": null,
            "flex_flow": null,
            "grid_area": null,
            "grid_auto_columns": null,
            "grid_auto_flow": null,
            "grid_auto_rows": null,
            "grid_column": null,
            "grid_gap": null,
            "grid_row": null,
            "grid_template_areas": null,
            "grid_template_columns": null,
            "grid_template_rows": null,
            "height": null,
            "justify_content": null,
            "justify_items": null,
            "left": null,
            "margin": null,
            "max_height": null,
            "max_width": null,
            "min_height": null,
            "min_width": null,
            "object_fit": null,
            "object_position": null,
            "order": null,
            "overflow": null,
            "overflow_x": null,
            "overflow_y": null,
            "padding": null,
            "right": null,
            "top": null,
            "visibility": null,
            "width": null
          }
        },
        "f5ac952d77ca4b938603f4a606145f88": {
          "model_module": "@jupyter-widgets/controls",
          "model_name": "HBoxModel",
          "model_module_version": "1.5.0",
          "state": {
            "_dom_classes": [],
            "_model_module": "@jupyter-widgets/controls",
            "_model_module_version": "1.5.0",
            "_model_name": "HBoxModel",
            "_view_count": null,
            "_view_module": "@jupyter-widgets/controls",
            "_view_module_version": "1.5.0",
            "_view_name": "HBoxView",
            "box_style": "",
            "children": [
              "IPY_MODEL_d48ecdf183734308ad383a55e4010ba3",
              "IPY_MODEL_259c0229f67e48a79a1ffca1edb2014e",
              "IPY_MODEL_6dc8f6dc163a42cea8ef0dffe946c969"
            ],
            "layout": "IPY_MODEL_baffdfcc37994e6db2c1bc3b6bb0cd4e"
          }
        },
        "f218538a16e249edb197392309574644": {
          "model_module": "@jupyter-widgets/controls",
          "model_name": "HBoxModel",
          "model_module_version": "1.5.0",
          "state": {
            "_dom_classes": [],
            "_model_module": "@jupyter-widgets/controls",
            "_model_module_version": "1.5.0",
            "_model_name": "HBoxModel",
            "_view_count": null,
            "_view_module": "@jupyter-widgets/controls",
            "_view_module_version": "1.5.0",
            "_view_name": "HBoxView",
            "box_style": "",
            "children": [
              "IPY_MODEL_aa30529c815442bea524f4769ba03fea",
              "IPY_MODEL_d6ea423f8cde457d9901bca6e1ce13aa",
              "IPY_MODEL_a6d97590e917400fbee4a74bdc54e906"
            ],
            "layout": "IPY_MODEL_527adb266b1144b68e478af246f96cdc"
          }
        },
        "aa30529c815442bea524f4769ba03fea": {
          "model_module": "@jupyter-widgets/controls",
          "model_name": "HTMLModel",
          "model_module_version": "1.5.0",
          "state": {
            "_dom_classes": [],
            "_model_module": "@jupyter-widgets/controls",
            "_model_module_version": "1.5.0",
            "_model_name": "HTMLModel",
            "_view_count": null,
            "_view_module": "@jupyter-widgets/controls",
            "_view_module_version": "1.5.0",
            "_view_name": "HTMLView",
            "description": "",
            "description_tooltip": null,
            "layout": "IPY_MODEL_a8eaf8da62424170aa2c1f64c0741e2e",
            "placeholder": "​",
            "style": "IPY_MODEL_4b1dd62880734c49ada381436e09baf2",
            "value": "Downloading artifacts: 100%"
          }
        },
        "d6ea423f8cde457d9901bca6e1ce13aa": {
          "model_module": "@jupyter-widgets/controls",
          "model_name": "FloatProgressModel",
          "model_module_version": "1.5.0",
          "state": {
            "_dom_classes": [],
            "_model_module": "@jupyter-widgets/controls",
            "_model_module_version": "1.5.0",
            "_model_name": "FloatProgressModel",
            "_view_count": null,
            "_view_module": "@jupyter-widgets/controls",
            "_view_module_version": "1.5.0",
            "_view_name": "ProgressView",
            "bar_style": "success",
            "description": "",
            "description_tooltip": null,
            "layout": "IPY_MODEL_70460dfd9645479a9ae832bc87743818",
            "max": 17,
            "min": 0,
            "orientation": "horizontal",
            "style": "IPY_MODEL_3845e3f810d941278bd7bb70ab4e7f8c",
            "value": 17
          }
        },
        "a6d97590e917400fbee4a74bdc54e906": {
          "model_module": "@jupyter-widgets/controls",
          "model_name": "HTMLModel",
          "model_module_version": "1.5.0",
          "state": {
            "_dom_classes": [],
            "_model_module": "@jupyter-widgets/controls",
            "_model_module_version": "1.5.0",
            "_model_name": "HTMLModel",
            "_view_count": null,
            "_view_module": "@jupyter-widgets/controls",
            "_view_module_version": "1.5.0",
            "_view_name": "HTMLView",
            "description": "",
            "description_tooltip": null,
            "layout": "IPY_MODEL_b1ebc5df5be649ee8e7a7548b85133f0",
            "placeholder": "​",
            "style": "IPY_MODEL_11b26c4e820d47dc8f501a3ba24abc3e",
            "value": " 17/17 [00:24&lt;00:00,  2.52s/it]"
          }
        },
        "527adb266b1144b68e478af246f96cdc": {
          "model_module": "@jupyter-widgets/base",
          "model_name": "LayoutModel",
          "model_module_version": "1.2.0",
          "state": {
            "_model_module": "@jupyter-widgets/base",
            "_model_module_version": "1.2.0",
            "_model_name": "LayoutModel",
            "_view_count": null,
            "_view_module": "@jupyter-widgets/base",
            "_view_module_version": "1.2.0",
            "_view_name": "LayoutView",
            "align_content": null,
            "align_items": null,
            "align_self": null,
            "border": null,
            "bottom": null,
            "display": null,
            "flex": null,
            "flex_flow": null,
            "grid_area": null,
            "grid_auto_columns": null,
            "grid_auto_flow": null,
            "grid_auto_rows": null,
            "grid_column": null,
            "grid_gap": null,
            "grid_row": null,
            "grid_template_areas": null,
            "grid_template_columns": null,
            "grid_template_rows": null,
            "height": null,
            "justify_content": null,
            "justify_items": null,
            "left": null,
            "margin": null,
            "max_height": null,
            "max_width": null,
            "min_height": null,
            "min_width": null,
            "object_fit": null,
            "object_position": null,
            "order": null,
            "overflow": null,
            "overflow_x": null,
            "overflow_y": null,
            "padding": null,
            "right": null,
            "top": null,
            "visibility": null,
            "width": null
          }
        },
        "a8eaf8da62424170aa2c1f64c0741e2e": {
          "model_module": "@jupyter-widgets/base",
          "model_name": "LayoutModel",
          "model_module_version": "1.2.0",
          "state": {
            "_model_module": "@jupyter-widgets/base",
            "_model_module_version": "1.2.0",
            "_model_name": "LayoutModel",
            "_view_count": null,
            "_view_module": "@jupyter-widgets/base",
            "_view_module_version": "1.2.0",
            "_view_name": "LayoutView",
            "align_content": null,
            "align_items": null,
            "align_self": null,
            "border": null,
            "bottom": null,
            "display": null,
            "flex": null,
            "flex_flow": null,
            "grid_area": null,
            "grid_auto_columns": null,
            "grid_auto_flow": null,
            "grid_auto_rows": null,
            "grid_column": null,
            "grid_gap": null,
            "grid_row": null,
            "grid_template_areas": null,
            "grid_template_columns": null,
            "grid_template_rows": null,
            "height": null,
            "justify_content": null,
            "justify_items": null,
            "left": null,
            "margin": null,
            "max_height": null,
            "max_width": null,
            "min_height": null,
            "min_width": null,
            "object_fit": null,
            "object_position": null,
            "order": null,
            "overflow": null,
            "overflow_x": null,
            "overflow_y": null,
            "padding": null,
            "right": null,
            "top": null,
            "visibility": null,
            "width": null
          }
        },
        "4b1dd62880734c49ada381436e09baf2": {
          "model_module": "@jupyter-widgets/controls",
          "model_name": "DescriptionStyleModel",
          "model_module_version": "1.5.0",
          "state": {
            "_model_module": "@jupyter-widgets/controls",
            "_model_module_version": "1.5.0",
            "_model_name": "DescriptionStyleModel",
            "_view_count": null,
            "_view_module": "@jupyter-widgets/base",
            "_view_module_version": "1.2.0",
            "_view_name": "StyleView",
            "description_width": ""
          }
        },
        "70460dfd9645479a9ae832bc87743818": {
          "model_module": "@jupyter-widgets/base",
          "model_name": "LayoutModel",
          "model_module_version": "1.2.0",
          "state": {
            "_model_module": "@jupyter-widgets/base",
            "_model_module_version": "1.2.0",
            "_model_name": "LayoutModel",
            "_view_count": null,
            "_view_module": "@jupyter-widgets/base",
            "_view_module_version": "1.2.0",
            "_view_name": "LayoutView",
            "align_content": null,
            "align_items": null,
            "align_self": null,
            "border": null,
            "bottom": null,
            "display": null,
            "flex": null,
            "flex_flow": null,
            "grid_area": null,
            "grid_auto_columns": null,
            "grid_auto_flow": null,
            "grid_auto_rows": null,
            "grid_column": null,
            "grid_gap": null,
            "grid_row": null,
            "grid_template_areas": null,
            "grid_template_columns": null,
            "grid_template_rows": null,
            "height": null,
            "justify_content": null,
            "justify_items": null,
            "left": null,
            "margin": null,
            "max_height": null,
            "max_width": null,
            "min_height": null,
            "min_width": null,
            "object_fit": null,
            "object_position": null,
            "order": null,
            "overflow": null,
            "overflow_x": null,
            "overflow_y": null,
            "padding": null,
            "right": null,
            "top": null,
            "visibility": null,
            "width": null
          }
        },
        "3845e3f810d941278bd7bb70ab4e7f8c": {
          "model_module": "@jupyter-widgets/controls",
          "model_name": "ProgressStyleModel",
          "model_module_version": "1.5.0",
          "state": {
            "_model_module": "@jupyter-widgets/controls",
            "_model_module_version": "1.5.0",
            "_model_name": "ProgressStyleModel",
            "_view_count": null,
            "_view_module": "@jupyter-widgets/base",
            "_view_module_version": "1.2.0",
            "_view_name": "StyleView",
            "bar_color": null,
            "description_width": ""
          }
        },
        "b1ebc5df5be649ee8e7a7548b85133f0": {
          "model_module": "@jupyter-widgets/base",
          "model_name": "LayoutModel",
          "model_module_version": "1.2.0",
          "state": {
            "_model_module": "@jupyter-widgets/base",
            "_model_module_version": "1.2.0",
            "_model_name": "LayoutModel",
            "_view_count": null,
            "_view_module": "@jupyter-widgets/base",
            "_view_module_version": "1.2.0",
            "_view_name": "LayoutView",
            "align_content": null,
            "align_items": null,
            "align_self": null,
            "border": null,
            "bottom": null,
            "display": null,
            "flex": null,
            "flex_flow": null,
            "grid_area": null,
            "grid_auto_columns": null,
            "grid_auto_flow": null,
            "grid_auto_rows": null,
            "grid_column": null,
            "grid_gap": null,
            "grid_row": null,
            "grid_template_areas": null,
            "grid_template_columns": null,
            "grid_template_rows": null,
            "height": null,
            "justify_content": null,
            "justify_items": null,
            "left": null,
            "margin": null,
            "max_height": null,
            "max_width": null,
            "min_height": null,
            "min_width": null,
            "object_fit": null,
            "object_position": null,
            "order": null,
            "overflow": null,
            "overflow_x": null,
            "overflow_y": null,
            "padding": null,
            "right": null,
            "top": null,
            "visibility": null,
            "width": null
          }
        },
        "11b26c4e820d47dc8f501a3ba24abc3e": {
          "model_module": "@jupyter-widgets/controls",
          "model_name": "DescriptionStyleModel",
          "model_module_version": "1.5.0",
          "state": {
            "_model_module": "@jupyter-widgets/controls",
            "_model_module_version": "1.5.0",
            "_model_name": "DescriptionStyleModel",
            "_view_count": null,
            "_view_module": "@jupyter-widgets/base",
            "_view_module_version": "1.2.0",
            "_view_name": "StyleView",
            "description_width": ""
          }
        },
        "155b15682063421081481623a967fb4e": {
          "model_module": "@jupyter-widgets/base",
          "model_name": "LayoutModel",
          "model_module_version": "1.2.0",
          "state": {
            "_model_module": "@jupyter-widgets/base",
            "_model_module_version": "1.2.0",
            "_model_name": "LayoutModel",
            "_view_count": null,
            "_view_module": "@jupyter-widgets/base",
            "_view_module_version": "1.2.0",
            "_view_name": "LayoutView",
            "align_content": null,
            "align_items": null,
            "align_self": null,
            "border": null,
            "bottom": null,
            "display": null,
            "flex": null,
            "flex_flow": null,
            "grid_area": null,
            "grid_auto_columns": null,
            "grid_auto_flow": null,
            "grid_auto_rows": null,
            "grid_column": null,
            "grid_gap": null,
            "grid_row": null,
            "grid_template_areas": null,
            "grid_template_columns": null,
            "grid_template_rows": null,
            "height": null,
            "justify_content": null,
            "justify_items": null,
            "left": null,
            "margin": null,
            "max_height": null,
            "max_width": null,
            "min_height": null,
            "min_width": null,
            "object_fit": null,
            "object_position": null,
            "order": null,
            "overflow": null,
            "overflow_x": null,
            "overflow_y": null,
            "padding": null,
            "right": null,
            "top": null,
            "visibility": null,
            "width": null
          }
        },
        "0d67925ec0be4b268b58562fdba07b5c": {
          "model_module": "@jupyter-widgets/controls",
          "model_name": "ProgressStyleModel",
          "model_module_version": "1.5.0",
          "state": {
            "_model_module": "@jupyter-widgets/controls",
            "_model_module_version": "1.5.0",
            "_model_name": "ProgressStyleModel",
            "_view_count": null,
            "_view_module": "@jupyter-widgets/base",
            "_view_module_version": "1.2.0",
            "_view_name": "StyleView",
            "bar_color": null,
            "description_width": ""
          }
        },
        "afc6603020704e84b72c29da0a8fe0ca": {
          "model_module": "@jupyter-widgets/base",
          "model_name": "LayoutModel",
          "model_module_version": "1.2.0",
          "state": {
            "_model_module": "@jupyter-widgets/base",
            "_model_module_version": "1.2.0",
            "_model_name": "LayoutModel",
            "_view_count": null,
            "_view_module": "@jupyter-widgets/base",
            "_view_module_version": "1.2.0",
            "_view_name": "LayoutView",
            "align_content": null,
            "align_items": null,
            "align_self": null,
            "border": null,
            "bottom": null,
            "display": null,
            "flex": null,
            "flex_flow": null,
            "grid_area": null,
            "grid_auto_columns": null,
            "grid_auto_flow": null,
            "grid_auto_rows": null,
            "grid_column": null,
            "grid_gap": null,
            "grid_row": null,
            "grid_template_areas": null,
            "grid_template_columns": null,
            "grid_template_rows": null,
            "height": null,
            "justify_content": null,
            "justify_items": null,
            "left": null,
            "margin": null,
            "max_height": null,
            "max_width": null,
            "min_height": null,
            "min_width": null,
            "object_fit": null,
            "object_position": null,
            "order": null,
            "overflow": null,
            "overflow_x": null,
            "overflow_y": null,
            "padding": null,
            "right": null,
            "top": null,
            "visibility": null,
            "width": null
          }
        },
        "ce753ebfdcee41b5a3ae201ccc504940": {
          "model_module": "@jupyter-widgets/controls",
          "model_name": "DescriptionStyleModel",
          "model_module_version": "1.5.0",
          "state": {
            "_model_module": "@jupyter-widgets/controls",
            "_model_module_version": "1.5.0",
            "_model_name": "DescriptionStyleModel",
            "_view_count": null,
            "_view_module": "@jupyter-widgets/base",
            "_view_module_version": "1.2.0",
            "_view_name": "StyleView",
            "description_width": ""
          }
        },
        "864da80dea444c8e9b4ab9c5be458668": {
          "model_module": "@jupyter-widgets/base",
          "model_name": "LayoutModel",
          "model_module_version": "1.2.0",
          "state": {
            "_model_module": "@jupyter-widgets/base",
            "_model_module_version": "1.2.0",
            "_model_name": "LayoutModel",
            "_view_count": null,
            "_view_module": "@jupyter-widgets/base",
            "_view_module_version": "1.2.0",
            "_view_name": "LayoutView",
            "align_content": null,
            "align_items": null,
            "align_self": null,
            "border": null,
            "bottom": null,
            "display": null,
            "flex": null,
            "flex_flow": null,
            "grid_area": null,
            "grid_auto_columns": null,
            "grid_auto_flow": null,
            "grid_auto_rows": null,
            "grid_column": null,
            "grid_gap": null,
            "grid_row": null,
            "grid_template_areas": null,
            "grid_template_columns": null,
            "grid_template_rows": null,
            "height": null,
            "justify_content": null,
            "justify_items": null,
            "left": null,
            "margin": null,
            "max_height": null,
            "max_width": null,
            "min_height": null,
            "min_width": null,
            "object_fit": null,
            "object_position": null,
            "order": null,
            "overflow": null,
            "overflow_x": null,
            "overflow_y": null,
            "padding": null,
            "right": null,
            "top": null,
            "visibility": null,
            "width": null
          }
        },
        "067b34e2d1c0401ea90616c31fc7bfbc": {
          "model_module": "@jupyter-widgets/controls",
          "model_name": "DescriptionStyleModel",
          "model_module_version": "1.5.0",
          "state": {
            "_model_module": "@jupyter-widgets/controls",
            "_model_module_version": "1.5.0",
            "_model_name": "DescriptionStyleModel",
            "_view_count": null,
            "_view_module": "@jupyter-widgets/base",
            "_view_module_version": "1.2.0",
            "_view_name": "StyleView",
            "description_width": ""
          }
        },
        "0971df60146d4e64a73b8cc1e1ae966c": {
          "model_module": "@jupyter-widgets/controls",
          "model_name": "HTMLModel",
          "model_module_version": "1.5.0",
          "state": {
            "_dom_classes": [],
            "_model_module": "@jupyter-widgets/controls",
            "_model_module_version": "1.5.0",
            "_model_name": "HTMLModel",
            "_view_count": null,
            "_view_module": "@jupyter-widgets/controls",
            "_view_module_version": "1.5.0",
            "_view_name": "HTMLView",
            "description": "",
            "description_tooltip": null,
            "layout": "IPY_MODEL_afc6603020704e84b72c29da0a8fe0ca",
            "placeholder": "​",
            "style": "IPY_MODEL_ce753ebfdcee41b5a3ae201ccc504940",
            "value": "Loading checkpoint shards: 100%"
          }
        },
        "bacba2429a78478fbd1248f79b7d4a40": {
          "model_module": "@jupyter-widgets/controls",
          "model_name": "FloatProgressModel",
          "model_module_version": "1.5.0",
          "state": {
            "_dom_classes": [],
            "_model_module": "@jupyter-widgets/controls",
            "_model_module_version": "1.5.0",
            "_model_name": "FloatProgressModel",
            "_view_count": null,
            "_view_module": "@jupyter-widgets/controls",
            "_view_module_version": "1.5.0",
            "_view_name": "ProgressView",
            "bar_style": "success",
            "description": "",
            "description_tooltip": null,
            "layout": "IPY_MODEL_155b15682063421081481623a967fb4e",
            "max": 3,
            "min": 0,
            "orientation": "horizontal",
            "style": "IPY_MODEL_0d67925ec0be4b268b58562fdba07b5c",
            "value": 3
          }
        },
        "88b0ac6041c14dddae08b66d52e1c34c": {
          "model_module": "@jupyter-widgets/controls",
          "model_name": "HTMLModel",
          "model_module_version": "1.5.0",
          "state": {
            "_dom_classes": [],
            "_model_module": "@jupyter-widgets/controls",
            "_model_module_version": "1.5.0",
            "_model_name": "HTMLModel",
            "_view_count": null,
            "_view_module": "@jupyter-widgets/controls",
            "_view_module_version": "1.5.0",
            "_view_name": "HTMLView",
            "description": "",
            "description_tooltip": null,
            "layout": "IPY_MODEL_864da80dea444c8e9b4ab9c5be458668",
            "placeholder": "​",
            "style": "IPY_MODEL_067b34e2d1c0401ea90616c31fc7bfbc",
            "value": " 3/3 [00:01&lt;00:00,  1.92it/s]"
          }
        },
        "983e9fd469ec4ec58e20776493f7f52a": {
          "model_module": "@jupyter-widgets/base",
          "model_name": "LayoutModel",
          "model_module_version": "1.2.0",
          "state": {
            "_model_module": "@jupyter-widgets/base",
            "_model_module_version": "1.2.0",
            "_model_name": "LayoutModel",
            "_view_count": null,
            "_view_module": "@jupyter-widgets/base",
            "_view_module_version": "1.2.0",
            "_view_name": "LayoutView",
            "align_content": null,
            "align_items": null,
            "align_self": null,
            "border": null,
            "bottom": null,
            "display": null,
            "flex": null,
            "flex_flow": null,
            "grid_area": null,
            "grid_auto_columns": null,
            "grid_auto_flow": null,
            "grid_auto_rows": null,
            "grid_column": null,
            "grid_gap": null,
            "grid_row": null,
            "grid_template_areas": null,
            "grid_template_columns": null,
            "grid_template_rows": null,
            "height": null,
            "justify_content": null,
            "justify_items": null,
            "left": null,
            "margin": null,
            "max_height": null,
            "max_width": null,
            "min_height": null,
            "min_width": null,
            "object_fit": null,
            "object_position": null,
            "order": null,
            "overflow": null,
            "overflow_x": null,
            "overflow_y": null,
            "padding": null,
            "right": null,
            "top": null,
            "visibility": null,
            "width": null
          }
        },
        "0938a285f8c2452ca6ed6f5e02b15f9b": {
          "model_module": "@jupyter-widgets/controls",
          "model_name": "HBoxModel",
          "model_module_version": "1.5.0",
          "state": {
            "_dom_classes": [],
            "_model_module": "@jupyter-widgets/controls",
            "_model_module_version": "1.5.0",
            "_model_name": "HBoxModel",
            "_view_count": null,
            "_view_module": "@jupyter-widgets/controls",
            "_view_module_version": "1.5.0",
            "_view_name": "HBoxView",
            "box_style": "",
            "children": [
              "IPY_MODEL_0971df60146d4e64a73b8cc1e1ae966c",
              "IPY_MODEL_bacba2429a78478fbd1248f79b7d4a40",
              "IPY_MODEL_88b0ac6041c14dddae08b66d52e1c34c"
            ],
            "layout": "IPY_MODEL_983e9fd469ec4ec58e20776493f7f52a"
          }
        }
      }
    }
  },
  "cells": [
    {
      "cell_type": "markdown",
      "metadata": {
        "id": "view-in-github",
        "colab_type": "text"
      },
      "source": [
        "<a href=\"https://colab.research.google.com/github/olonok69/LLM_Notebooks/blob/main/mlflow/summarization/T5_large_Finetune_multi_news_summarization_mlflow.ipynb\" target=\"_parent\"><img src=\"https://colab.research.google.com/assets/colab-badge.svg\" alt=\"Open In Colab\"/></a>"
      ]
    },
    {
      "cell_type": "code",
      "execution_count": 1,
      "metadata": {
        "colab": {
          "base_uri": "https://localhost:8080/"
        },
        "id": "uzu0R8y3oqj7",
        "outputId": "9c3a0ed6-b520-4d33-aaba-f2e15a760cbd"
      },
      "outputs": [
        {
          "output_type": "stream",
          "name": "stdout",
          "text": [
            "Drive already mounted at /content/drive; to attempt to forcibly remount, call drive.mount(\"/content/drive\", force_remount=True).\n"
          ]
        }
      ],
      "source": [
        "from google.colab import drive\n",
        "drive.mount('/content/drive')"
      ]
    },
    {
      "cell_type": "code",
      "source": [
        "!pip install mlflow pyngrok  --quiet\n",
        "get_ipython().system_raw(\"mlflow ui --port 5000 &\")\n",
        "\n",
        "from pyngrok import ngrok\n",
        "\n",
        "\n",
        "# Terminate open tunnels if exist\n",
        "ngrok.kill()"
      ],
      "metadata": {
        "id": "PNaQgd55pPCn"
      },
      "execution_count": 2,
      "outputs": []
    },
    {
      "cell_type": "code",
      "source": [
        "# Transformers installation\n",
        "! pip install -q --disable-pip-version-check py7zr sentencepiece loralib peft trl\n",
        "! pip install -q    wandb bitsandbytes\n",
        "! pip install datasets evaluate rouge_score -q\n",
        "! pip install transformers[torch] -q\n",
        "! pip install accelerate -U -q\n",
        "# To install from source instead of the last release, comment the command above and uncomment the following one.\n",
        "# ! pip install git+https://github.com/huggingface/transformers.git"
      ],
      "metadata": {
        "id": "_4BthcQkpsWX"
      },
      "execution_count": 3,
      "outputs": []
    },
    {
      "cell_type": "code",
      "source": [
        "ngrok.kill()"
      ],
      "metadata": {
        "id": "7WjKElJSFg8W"
      },
      "execution_count": 4,
      "outputs": []
    },
    {
      "cell_type": "code",
      "source": [
        "from google.colab import userdata\n",
        "NGROK_AUTH_TOKEN  = userdata.get('NGROK')\n",
        "\n",
        "ngrok.set_auth_token(NGROK_AUTH_TOKEN)\n",
        "\n",
        "# Open an HTTPs tunnel on port 5000 for http://localhost:5000\n",
        "ngrok_tunnel = ngrok.connect(addr=\"5000\", proto=\"http\", bind_tls=True)\n",
        "print(\"MLflow Tracking UI:\", ngrok_tunnel.public_url)"
      ],
      "metadata": {
        "colab": {
          "base_uri": "https://localhost:8080/"
        },
        "id": "taUuIbADpcaR",
        "outputId": "9a737fdb-c583-44f4-c431-aed607731583"
      },
      "execution_count": 5,
      "outputs": [
        {
          "output_type": "stream",
          "name": "stdout",
          "text": [
            "MLflow Tracking UI: https://074f-34-171-42-25.ngrok-free.app\n"
          ]
        }
      ]
    },
    {
      "cell_type": "code",
      "source": [
        "\n",
        "import argparse\n",
        "import bitsandbytes as bnb\n",
        "from datasets import load_dataset\n",
        "from functools import partial\n",
        "import os\n",
        "from peft import LoraConfig, get_peft_model, prepare_model_for_kbit_training, AutoPeftModelForCausalLM\n",
        "import torch\n",
        "from transformers import AutoModelForCausalLM, AutoTokenizer, set_seed, Trainer, TrainingArguments, BitsAndBytesConfig, \\\n",
        "    DataCollatorForLanguageModeling, Trainer, TrainingArguments\n",
        "from datasets import load_dataset\n",
        "from torch import cuda, bfloat16\n",
        "import transformers\n",
        "\n",
        "import torch\n",
        "import torch.nn as nn\n",
        "from google.colab import userdata"
      ],
      "metadata": {
        "id": "CicPfY0RrsR2"
      },
      "execution_count": 6,
      "outputs": []
    },
    {
      "cell_type": "code",
      "source": [
        "\n",
        "from google.colab import output\n",
        "output.enable_custom_widget_manager()\n",
        "\n",
        "from transformers.utils import logging\n",
        "logging.set_verbosity_error()\n",
        "\n",
        "os.environ[\"TRANSFORMERS_VERBOSITY\"] = \"error\""
      ],
      "metadata": {
        "id": "K7vZHAW_sdrj"
      },
      "execution_count": 7,
      "outputs": []
    },
    {
      "cell_type": "code",
      "source": [
        "\n",
        "\n",
        "device = f'cuda:{cuda.current_device()}' if cuda.is_available() else 'cpu'\n",
        "device\n",
        ""
      ],
      "metadata": {
        "colab": {
          "base_uri": "https://localhost:8080/",
          "height": 35
        },
        "id": "i4BfxrozshY3",
        "outputId": "b158b91c-0e25-4eb1-aa8a-638d85da0326"
      },
      "execution_count": 8,
      "outputs": [
        {
          "output_type": "execute_result",
          "data": {
            "text/plain": [
              "'cuda:0'"
            ],
            "application/vnd.google.colaboratory.intrinsic+json": {
              "type": "string"
            }
          },
          "metadata": {},
          "execution_count": 8
        }
      ]
    },
    {
      "cell_type": "markdown",
      "source": [
        "# Load multi_news dataset\n",
        "https://huggingface.co/datasets/multi_news"
      ],
      "metadata": {
        "id": "aYqFueQisnwC"
      }
    },
    {
      "cell_type": "code",
      "source": [
        "from datasets import load_dataset\n",
        "\n",
        "dataset  = load_dataset(\"multi_news\", trust_remote_code=True)"
      ],
      "metadata": {
        "id": "t2mbJh_qsoKL"
      },
      "execution_count": 9,
      "outputs": []
    },
    {
      "cell_type": "code",
      "source": [
        "dataset"
      ],
      "metadata": {
        "colab": {
          "base_uri": "https://localhost:8080/"
        },
        "id": "KEsfRYLKtwDn",
        "outputId": "b48eae0c-c697-4dbf-b2c9-3afecfb5562b"
      },
      "execution_count": 10,
      "outputs": [
        {
          "output_type": "execute_result",
          "data": {
            "text/plain": [
              "DatasetDict({\n",
              "    train: Dataset({\n",
              "        features: ['document', 'summary'],\n",
              "        num_rows: 44972\n",
              "    })\n",
              "    validation: Dataset({\n",
              "        features: ['document', 'summary'],\n",
              "        num_rows: 5622\n",
              "    })\n",
              "    test: Dataset({\n",
              "        features: ['document', 'summary'],\n",
              "        num_rows: 5622\n",
              "    })\n",
              "})"
            ]
          },
          "metadata": {},
          "execution_count": 10
        }
      ]
    },
    {
      "cell_type": "code",
      "source": [
        "\n",
        "print(f\"Train dataset size: {len(dataset['train'])}\")\n",
        "print(f\"test dataset size: {len(dataset['test'])}\")\n",
        "print(f\"Validation dataset size: {len(dataset['validation'])}\")"
      ],
      "metadata": {
        "colab": {
          "base_uri": "https://localhost:8080/"
        },
        "id": "eekbGsBhtwA-",
        "outputId": "3a1008cf-fc31-4471-8b4d-f2bbffdb4fa5"
      },
      "execution_count": 11,
      "outputs": [
        {
          "output_type": "stream",
          "name": "stdout",
          "text": [
            "Train dataset size: 44972\n",
            "test dataset size: 5622\n",
            "Validation dataset size: 5622\n"
          ]
        }
      ]
    },
    {
      "cell_type": "code",
      "source": [
        "dataset['train'][100]['document']"
      ],
      "metadata": {
        "colab": {
          "base_uri": "https://localhost:8080/",
          "height": 192
        },
        "id": "sh7XMDXRtv-O",
        "outputId": "3899a789-d3bb-4edc-8fea-b4bd0d7866a6"
      },
      "execution_count": 12,
      "outputs": [
        {
          "output_type": "execute_result",
          "data": {
            "text/plain": [
              "'Katy Perry is all about breaking conventional beauty rules, from her love of everything technicolor and coated in glitter, to her no-brows, black lipstick Met Gala look. So, of course, the pop star — and face of CoverGirl — was the perfect person to help announce that the beauty brand has named its first-ever male CoverGirl, social media star James Charles. \\n \\n According to a press release from the brand, all CoverGirls “are role models and boundary-breakers, fearlessly expressing themselves, standing up for what they believe, and redefining what it means to be beautiful,” and who better to embody that ethos than Instagram sensation James Charles. After launching his beauty account a year ago, the teen has since quickly attracted hundreds of thousands of followers (427,000 to be exact) thanks to his unique, transformative approach to makeup artistry. \\n \\n RELATED PHOTOS: Katy Perry’s Most Outrageous Twitpics \\n \\n While Charles’ partnership with the brand kicks off today, we’ll have to wait until later this month to see him debut the brand’s new mascara designed to work on all lash types, CoverGirl So Lashy! by blastPRO Mascara. His first launch will include TV, print and digital components and he will continue to promote the brand and generally slay for the rest of 2017. \\n \\n What do you think of the first male CoverGirl? Sound off below! ||||| James Charles, a 17-year-old New York-based makeup artist, might want to rethink the word “aspiring” in his Instagram bio. \\n \\n He’s the first ever male CoverGirl, an honor revealed Tuesday on Katy Perry’s Instagram. \\n \\n Just wrapped another great @COVERGIRL shoot. Honored to have the pleasure to announce the very first COVERBOY, James Charles! Follow him @JCharlesBeauty! #COVERGIRLJames #glam❗️ A photo posted by KATY PERRY (@katyperry) on Oct 10, 2016 at 10:52pm PDT \\n \\n “Just wrapped another great @CoverGirl shoot. Honored to have the pleasure to announce the very first COVERBOY, James Charles! Follow him @JCharlesBeauty!” she captioned a photo of the two of them. \\n \\n James Charles, who only started trying makeup a year ago, will appear in campaigns for CoverGirl’s newest mascara, “So Lashy.” The brand explained in a press release that its newest launch is designed to work on all lash types, and shared why he’s the perfect person to front the campaign. \\n \\n CoverGirl Those brows, though? \\n \\n “All of our CoverGirls are role models and boundary-breakers, fearlessly expressing themselves, standing up for what they believe, and redefining what it means to be beautiful,” read the statement. “James Charles is no exception. One year ago, he boldly chose to launch his Instagram to the world, using transformative, dynamic makeup looks to showcase the many facets of his personality, serving as an inspiration to anyone who might have been afraid to do the same.” \\n \\n James Charles has racked up over 400,000 followers in just one year of posting, thanks to masterful skills and an extensive array of looks, ranging from wild... \\n \\n ... to just plain stunning. \\n \\n Oh, and did we mention this kid’s got personality? Take these epic senior photos as proof. \\n \\n I mean are we really that surprised? 😂😂 Shoutout to Carlyn Studios for dealing with my extra ass 💀😂 A photo posted by JAMES CHARLES (@jcharlesbeauty) on Sep 5, 2016 at 3:08pm PDT ||||| Just wrapped another great @COVERGIRL shoot. Honored to have the pleasure to announce the very first COVERBOY, James Charles! Follow him @JCharlesBeauty ||||| If you happen to land on James Charles\\'s Instagram feed, you\\'ll immediately note that the talented teen has perfected the art of the dramatic lash, otherworldly highlight, artistic eye, and more. In fact, you may remember that his strobing skills are so good, they even got a shout-out from Zendaya one time. And it looks like a certain brand has just taken note of James\\'s major beauty moves, and decided to bring them to an even broader audience in the coolest way. Today, we found out that Covergirl Cosmetics is naming the Instagram superstar their first male spokesperson, and we are so here for it. \\n \\n As the beauty community has grown over time, we\\'ve noted boy beauty gurus like Manny Gutierrez and Patrick Starr taking to social media to share their skills and breaking down gender boundaries at the same time. We\\'re firm believers that anyone on the gender spectrum should be able to share their passion for makeup without facing outdated stereotypes and negative judgement, and we couldn\\'t be happier to see Covergirl and James take an amazing step forward. As the brand noted, they\\'ve always chosen to partner with \"role models and boundary-breakers, fearlessly expressing themselves, standing up for what they believe, and redefining what it means to be beautiful.\" We think the glam guru totally embodies that description, and it sounds like Covergirl agrees, citing him as \"as an inspiration to anyone who might have been afraid to do the same.\" We\\'re feeling inspired by this announcement for sure, and we can\\'t wait to see what this cool collab brings. We\\'ll be watching! \\n \\n Loading View on Instagram \\n \\n Related: \\n \\n 8 Makeup Tutorials By Boys That Will Blow Your Mind \\n \\n The Brave Reason Manny Gutierrez Gave Up Medical School for a Beauty Career \\n \\n Here\\'s Why Patrick Starr Uses TWO Mirrors to Get Glam ||||| The \"aspiring makeup artist\", according to his Instagram account bio, should really change it to \"inspiring\". At only 17 years old, James Charles has risen in popularity thanks to his Instagram account, which already has more than 431,000 followers after only one year. His account showcases makeup styles including pixellated lips and his signature bold galaxy look. \\n \\n No wonder that his unique and daring style got him Katy Perry\\'s full support. The face of CoverGirl and outspoken pop star announced on her Instagram page that the beauty brand has named its first ever male CoverGirl. \"Just wrapped another great @CoverGirl shoot. Honored to have the pleasure to announce the very first COVERBOY, James Charles! Follow him @JCharlesBeauty!\" she captioned the picture of the both of them. \\n \\n CoverGirl published its own statement and explained why James Charles is the perfect fit for their campaign.'"
            ],
            "application/vnd.google.colaboratory.intrinsic+json": {
              "type": "string"
            }
          },
          "metadata": {},
          "execution_count": 12
        }
      ]
    },
    {
      "cell_type": "code",
      "source": [
        "\n",
        "len(dataset['train'][100]['document'])"
      ],
      "metadata": {
        "colab": {
          "base_uri": "https://localhost:8080/"
        },
        "id": "uD6HcoF3tv7H",
        "outputId": "fc1bcafb-abb7-4a39-fc34-9a5190045c00"
      },
      "execution_count": 13,
      "outputs": [
        {
          "output_type": "execute_result",
          "data": {
            "text/plain": [
              "6217"
            ]
          },
          "metadata": {},
          "execution_count": 13
        }
      ]
    },
    {
      "cell_type": "code",
      "source": [
        "\n",
        "len(dataset['train'][100]['summary'])"
      ],
      "metadata": {
        "colab": {
          "base_uri": "https://localhost:8080/"
        },
        "id": "87pL5yuit7KC",
        "outputId": "81a56fe7-5fd7-4c76-fcec-36d630396b78"
      },
      "execution_count": 14,
      "outputs": [
        {
          "output_type": "execute_result",
          "data": {
            "text/plain": [
              "1268"
            ]
          },
          "metadata": {},
          "execution_count": 14
        }
      ]
    },
    {
      "cell_type": "markdown",
      "source": [
        "# There are two fields that you'll want to use:\n",
        "\n",
        "- text: the text of the bill which'll be the input to the model.\n",
        "- summary: a condensed version of text which'll be the model target.\n",
        "# Preprocess\n",
        "The next step is to load a T5 tokenizer to process text and summary:\n",
        "\n",
        "Model--> https://huggingface.co/google-t5/t5-large"
      ],
      "metadata": {
        "id": "u8UYkp8puasf"
      }
    },
    {
      "cell_type": "code",
      "source": [
        "from transformers import AutoTokenizer\n",
        "\n",
        "PROJECT = \"T5-large-Summarization\"\n",
        "MODEL_NAME = \"google-t5/t5-large\"\n",
        "DATASET = \"multi_news\"\n",
        "checkpoint = model_id = MODEL_NAME\n",
        "tokenizer = AutoTokenizer.from_pretrained(checkpoint)"
      ],
      "metadata": {
        "id": "00yW5HmGt-h4"
      },
      "execution_count": 15,
      "outputs": []
    },
    {
      "cell_type": "code",
      "source": [
        "prefix = \"summarize: \"\n",
        "\n",
        "\n",
        "def preprocess_function(examples):\n",
        "    inputs = [prefix + doc for doc in examples[\"document\"]]\n",
        "    model_inputs = tokenizer(inputs, max_length=1024, truncation=True)\n",
        "\n",
        "    labels = tokenizer(text_target=examples[\"summary\"], max_length=128, truncation=True)\n",
        "\n",
        "    model_inputs[\"labels\"] = labels[\"input_ids\"]\n",
        "    return model_inputs"
      ],
      "metadata": {
        "id": "iQMCpdWkuu1Q"
      },
      "execution_count": 16,
      "outputs": []
    },
    {
      "cell_type": "code",
      "source": [
        "\n",
        "tokenized_dataset = dataset.map(preprocess_function, batched=True)"
      ],
      "metadata": {
        "colab": {
          "base_uri": "https://localhost:8080/",
          "height": 49,
          "referenced_widgets": [
            "7d2aae50203242aba0b0f599310ffd9d",
            "8d1bede3676549d9b826f3903d267e74",
            "2cfbacb5cb1c42069b7ad8aa7018c3e7",
            "115086173ddf433bbce33985c19b8702",
            "12209aa91ab74b5e9c2c5c50668f6bb9",
            "71136a322c5e4d48b143a32c08f53797",
            "82f6815751ab4eeaa20703fa15c9211a",
            "c02ced49cafa4f259556457acdb31ffa",
            "fbbe3f9bd68343478b17ed58e86ede71",
            "1312bd328e494aebbb186fe56bce7701",
            "e136e3e60c284988bd07f444fba3552c"
          ]
        },
        "id": "zUweE6gbuyYI",
        "outputId": "b7c822da-6dda-4cfc-9098-7e05fca91044"
      },
      "execution_count": 17,
      "outputs": [
        {
          "output_type": "display_data",
          "data": {
            "text/plain": [
              "Map:   0%|          | 0/5622 [00:00<?, ? examples/s]"
            ],
            "application/vnd.jupyter.widget-view+json": {
              "version_major": 2,
              "version_minor": 0,
              "model_id": "7d2aae50203242aba0b0f599310ffd9d"
            }
          },
          "metadata": {
            "application/vnd.jupyter.widget-view+json": {
              "colab": {
                "custom_widget_manager": {
                  "url": "https://ssl.gstatic.com/colaboratory-static/widgets/colab-cdn-widget-manager/2b70e893a8ba7c0f/manager.min.js"
                }
              }
            }
          }
        }
      ]
    },
    {
      "cell_type": "code",
      "source": [
        "tokenized_dataset"
      ],
      "metadata": {
        "colab": {
          "base_uri": "https://localhost:8080/"
        },
        "id": "qbn0XCE3vm9U",
        "outputId": "136b11c2-7682-4848-a848-23824492b2b1"
      },
      "execution_count": 18,
      "outputs": [
        {
          "output_type": "execute_result",
          "data": {
            "text/plain": [
              "DatasetDict({\n",
              "    train: Dataset({\n",
              "        features: ['document', 'summary', 'input_ids', 'attention_mask', 'labels'],\n",
              "        num_rows: 44972\n",
              "    })\n",
              "    validation: Dataset({\n",
              "        features: ['document', 'summary', 'input_ids', 'attention_mask', 'labels'],\n",
              "        num_rows: 5622\n",
              "    })\n",
              "    test: Dataset({\n",
              "        features: ['document', 'summary', 'input_ids', 'attention_mask', 'labels'],\n",
              "        num_rows: 5622\n",
              "    })\n",
              "})"
            ]
          },
          "metadata": {},
          "execution_count": 18
        }
      ]
    },
    {
      "cell_type": "code",
      "source": [
        "\n",
        "len(tokenized_dataset['train'][100]['labels']), len(tokenized_dataset['train'][100]['input_ids'])\n",
        ""
      ],
      "metadata": {
        "colab": {
          "base_uri": "https://localhost:8080/"
        },
        "id": "X9Wk76w6vowx",
        "outputId": "657093ec-ec10-4e2d-cd43-6aa5e1b80fb6"
      },
      "execution_count": 19,
      "outputs": [
        {
          "output_type": "execute_result",
          "data": {
            "text/plain": [
              "(128, 1024)"
            ]
          },
          "metadata": {},
          "execution_count": 19
        }
      ]
    },
    {
      "cell_type": "code",
      "source": [
        "tokenized_dataset['train'][100]['labels']"
      ],
      "metadata": {
        "colab": {
          "base_uri": "https://localhost:8080/"
        },
        "id": "zegpmMnFvrtV",
        "outputId": "03a11691-2b15-445e-c56f-33a89cdcbbde"
      },
      "execution_count": 20,
      "outputs": [
        {
          "output_type": "execute_result",
          "data": {
            "text/plain": [
              "[3,\n",
              " 104,\n",
              " 156,\n",
              " 3,\n",
              " 9,\n",
              " 2335,\n",
              " 54,\n",
              " 36,\n",
              " 2753,\n",
              " 6,\n",
              " 113,\n",
              " 31,\n",
              " 7,\n",
              " 12,\n",
              " 497,\n",
              " 3,\n",
              " 9,\n",
              " 388,\n",
              " 54,\n",
              " 31,\n",
              " 17,\n",
              " 36,\n",
              " 3,\n",
              " 9,\n",
              " 5620,\n",
              " 517,\n",
              " 23,\n",
              " 52,\n",
              " 40,\n",
              " 5,\n",
              " 461,\n",
              " 2818,\n",
              " 6,\n",
              " 8,\n",
              " 9244,\n",
              " 349,\n",
              " 31,\n",
              " 7,\n",
              " 750,\n",
              " 23909,\n",
              " 6,\n",
              " 7482,\n",
              " 63,\n",
              " 18786,\n",
              " 6,\n",
              " 2162,\n",
              " 2549,\n",
              " 5417,\n",
              " 38,\n",
              " 8,\n",
              " 166,\n",
              " 664,\n",
              " 96,\n",
              " 254,\n",
              " 1890,\n",
              " 279,\n",
              " 32,\n",
              " 63,\n",
              " 121,\n",
              " 30,\n",
              " 160,\n",
              " 4601,\n",
              " 543,\n",
              " 5,\n",
              " 5417,\n",
              " 6,\n",
              " 3,\n",
              " 9,\n",
              " 1003,\n",
              " 18,\n",
              " 1201,\n",
              " 18,\n",
              " 1490,\n",
              " 96,\n",
              " 25149,\n",
              " 9244,\n",
              " 2377,\n",
              " 976,\n",
              " 708,\n",
              " 338,\n",
              " 9244,\n",
              " 163,\n",
              " 3,\n",
              " 9,\n",
              " 215,\n",
              " 977,\n",
              " 68,\n",
              " 65,\n",
              " 641,\n",
              " 183,\n",
              " 3974,\n",
              " 26,\n",
              " 72,\n",
              " 145,\n",
              " 314,\n",
              " 17093,\n",
              " 10076,\n",
              " 30,\n",
              " 4601,\n",
              " 6,\n",
              " 8,\n",
              " 454,\n",
              " 2999,\n",
              " 6029,\n",
              " 1844,\n",
              " 2279,\n",
              " 5,\n",
              " 2150,\n",
              " 12,\n",
              " 2449,\n",
              " 6,\n",
              " 5417,\n",
              " 56,\n",
              " 2385,\n",
              " 16,\n",
              " 1424,\n",
              " 6,\n",
              " 2281,\n",
              " 6,\n",
              " 11,\n",
              " 1125,\n",
              " 6543,\n",
              " 21,\n",
              " 96,\n",
              " 5231,\n",
              " 7263,\n",
              " 107,\n",
              " 1]"
            ]
          },
          "metadata": {},
          "execution_count": 20
        }
      ]
    },
    {
      "cell_type": "markdown",
      "source": [
        "## Train\n",
        "\n",
        "<Tip>\n",
        "\n",
        "If you aren't familiar with finetuning a model with the [Trainer](https://huggingface.co/docs/transformers/main/en/main_classes/trainer#transformers.Trainer), take a look at the basic tutorial [here](https://huggingface.co/docs/transformers/main/en/tasks/../training#train-with-pytorch-trainer)!\n",
        "\n",
        "</Tip>\n",
        "\n",
        "You're ready to start training your model now! Load T5 with [AutoModelForSeq2SeqLM](https://huggingface.co/docs/transformers/main/en/model_doc/auto#transformers.AutoModelForSeq2SeqLM):\n",
        "\n",
        "\n",
        "At this point, only three steps remain:\n",
        "\n",
        "1. Define your training hyperparameters in [Seq2SeqTrainingArguments](https://huggingface.co/docs/transformers/main/en/main_classes/trainer#transformers.Seq2SeqTrainingArguments). The only required parameter is `output_dir` which specifies where to save your model. You'll push this model to the Hub by setting `push_to_hub=True` (you need to be signed in to Hugging Face to upload your model). At the end of each epoch, the [Trainer](https://huggingface.co/docs/transformers/main/en/main_classes/trainer#transformers.Trainer) will evaluate the ROUGE metric and save the training checkpoint.\n",
        "2. Pass the training arguments to [Seq2SeqTrainer](https://huggingface.co/docs/transformers/main/en/main_classes/trainer#transformers.Seq2SeqTrainer) along with the model, dataset, tokenizer, data collator, and `compute_metrics` function.\n",
        "3. Call [train()](https://huggingface.co/docs/transformers/main/en/main_classes/trainer#transformers.Trainer.train) to finetune your model."
      ],
      "metadata": {
        "id": "B3aB4MzEvu6l"
      }
    },
    {
      "cell_type": "code",
      "source": [
        "from transformers import AutoModelForSeq2SeqLM, Seq2SeqTrainingArguments, Seq2SeqTrainer\n",
        "\n",
        "\n",
        "# load model from the hub\n",
        "model = AutoModelForSeq2SeqLM.from_pretrained(model_id, torch_dtype=torch.bfloat16)"
      ],
      "metadata": {
        "id": "zvUjNxw_wKAQ"
      },
      "execution_count": 21,
      "outputs": []
    },
    {
      "cell_type": "code",
      "source": [
        "def print_number_of_trainable_model_parameters(model, tag=\"original_model\", to_wandb=False):\n",
        "    trainable_model_params = 0\n",
        "    all_model_params = 0\n",
        "    for _, param in model.named_parameters():\n",
        "        all_model_params += param.numel()\n",
        "        if param.requires_grad:\n",
        "            trainable_model_params += param.numel()\n",
        "\n",
        "    if to_wandb:\n",
        "      print({f'{tag}': {\"trainable_model_params\":trainable_model_params}})\n",
        "      print({f'{tag}': {\"all_model_params\":all_model_params}})\n",
        "      print({f'{tag}': {\"percentage_of_trainable_model_parameters\": 100 * trainable_model_params}} )\n",
        "\n",
        "    return f\"trainable model parameters: {trainable_model_params}\\nall model parameters: {all_model_params}\\npercentage of trainable model parameters: {100 * trainable_model_params / all_model_params}%\""
      ],
      "metadata": {
        "id": "W9IqRGGx6jLv"
      },
      "execution_count": 22,
      "outputs": []
    },
    {
      "cell_type": "code",
      "source": [
        "print_number_of_trainable_model_parameters(model, to_wandb=True)"
      ],
      "metadata": {
        "colab": {
          "base_uri": "https://localhost:8080/",
          "height": 105
        },
        "id": "dj6i-SyQ82bl",
        "outputId": "a386d905-c2f1-4065-bad5-45fde11ab63d"
      },
      "execution_count": 23,
      "outputs": [
        {
          "output_type": "stream",
          "name": "stdout",
          "text": [
            "{'original_model': {'trainable_model_params': 737668096}}\n",
            "{'original_model': {'all_model_params': 737668096}}\n",
            "{'original_model': {'percentage_of_trainable_model_parameters': 73766809600}}\n"
          ]
        },
        {
          "output_type": "execute_result",
          "data": {
            "text/plain": [
              "'trainable model parameters: 737668096\\nall model parameters: 737668096\\npercentage of trainable model parameters: 100.0%'"
            ],
            "application/vnd.google.colaboratory.intrinsic+json": {
              "type": "string"
            }
          },
          "metadata": {},
          "execution_count": 23
        }
      ]
    },
    {
      "cell_type": "code",
      "source": [
        "repository_id = f\"{checkpoint.split('/')[1]}-{DATASET}\"\n",
        "repository_id"
      ],
      "metadata": {
        "colab": {
          "base_uri": "https://localhost:8080/",
          "height": 35
        },
        "id": "hESolGE9-kya",
        "outputId": "a07b1916-670e-41fe-8385-21230f8d46cd"
      },
      "execution_count": 24,
      "outputs": [
        {
          "output_type": "execute_result",
          "data": {
            "text/plain": [
              "'t5-large-multi_news'"
            ],
            "application/vnd.google.colaboratory.intrinsic+json": {
              "type": "string"
            }
          },
          "metadata": {},
          "execution_count": 24
        }
      ]
    },
    {
      "cell_type": "code",
      "source": [
        "from transformers import DataCollatorForSeq2Seq\n",
        "\n",
        "data_collator = DataCollatorForSeq2Seq(tokenizer=tokenizer, model=checkpoint)"
      ],
      "metadata": {
        "id": "_HwIpZRlBie3"
      },
      "execution_count": 25,
      "outputs": []
    },
    {
      "cell_type": "code",
      "source": [
        "import evaluate\n",
        "\n",
        "rouge = evaluate.load(\"rouge\")"
      ],
      "metadata": {
        "id": "rky8tk-vBsrY"
      },
      "execution_count": 26,
      "outputs": []
    },
    {
      "cell_type": "code",
      "source": [
        "import numpy as np\n",
        "\n",
        "\n",
        "def compute_metrics(eval_pred):\n",
        "    predictions, labels = eval_pred\n",
        "    decoded_preds = tokenizer.batch_decode(predictions, skip_special_tokens=True)\n",
        "    labels = np.where(labels != -100, labels, tokenizer.pad_token_id)\n",
        "    decoded_labels = tokenizer.batch_decode(labels, skip_special_tokens=True)\n",
        "\n",
        "    result = rouge.compute(predictions=decoded_preds, references=decoded_labels, use_stemmer=True)\n",
        "\n",
        "    prediction_lens = [np.count_nonzero(pred != tokenizer.pad_token_id) for pred in predictions]\n",
        "    result[\"gen_len\"] = np.mean(prediction_lens)\n",
        "\n",
        "    return {k: round(v, 4) for k, v in result.items()}"
      ],
      "metadata": {
        "id": "qQbbFLsTBvng"
      },
      "execution_count": 27,
      "outputs": []
    },
    {
      "cell_type": "code",
      "source": [
        "from huggingface_hub import HfFolder\n",
        "from transformers import Seq2SeqTrainer, Seq2SeqTrainingArguments\n",
        "dataset_id = \"multi_news\"\n",
        "# Hugging Face repository id\n",
        "repository_id = f\"{checkpoint.split('/')[1]}-{DATASET}\""
      ],
      "metadata": {
        "id": "QgsZXItiB_oz"
      },
      "execution_count": 28,
      "outputs": []
    },
    {
      "cell_type": "code",
      "source": [
        "import mlflow\n",
        "mlflow.set_tracking_uri(\"http://127.0.0.1:5000\")"
      ],
      "metadata": {
        "id": "4zKOdZ9uCXpR"
      },
      "execution_count": 29,
      "outputs": []
    },
    {
      "cell_type": "code",
      "source": [
        "# Pick a name that you like and reflects the nature of the runs that you will be recording to the experiment.\n",
        "mlflow.set_experiment(\"Fine_tuning_summarization\")"
      ],
      "metadata": {
        "colab": {
          "base_uri": "https://localhost:8080/"
        },
        "id": "p8aYj2B8Cj1U",
        "outputId": "b070c300-e414-4437-b63e-1571e84656da"
      },
      "execution_count": 30,
      "outputs": [
        {
          "output_type": "execute_result",
          "data": {
            "text/plain": [
              "<Experiment: artifact_location='mlflow-artifacts:/177008978387414440', creation_time=1732131782203, experiment_id='177008978387414440', last_update_time=1732131782203, lifecycle_stage='active', name='Fine_tuning_summarization', tags={}>"
            ]
          },
          "metadata": {},
          "execution_count": 30
        }
      ]
    },
    {
      "cell_type": "code",
      "source": [
        "import gc\n",
        "import torch\n",
        "torch.cuda.empty_cache()\n",
        "gc.collect()"
      ],
      "metadata": {
        "colab": {
          "base_uri": "https://localhost:8080/"
        },
        "id": "o3i3fDyWGpou",
        "outputId": "f47baec8-511e-4651-a559-94edd07afc66"
      },
      "execution_count": 31,
      "outputs": [
        {
          "output_type": "execute_result",
          "data": {
            "text/plain": [
              "2009"
            ]
          },
          "metadata": {},
          "execution_count": 31
        }
      ]
    },
    {
      "cell_type": "code",
      "source": [
        "training_args = Seq2SeqTrainingArguments(\n",
        "    output_dir=repository_id,\n",
        "\n",
        "    learning_rate=2e-5,\n",
        "    per_device_train_batch_size=6,\n",
        "    per_device_eval_batch_size=6,\n",
        "    weight_decay=0.01,\n",
        "    save_total_limit=3,\n",
        "    num_train_epochs=4,\n",
        "    predict_with_generate=True,\n",
        "    fp16=False, #change to bf16=True for XPU\n",
        "    bf16=True,\n",
        "    logging_dir=f\"{repository_id}/logs\",\n",
        "\n",
        "# Optional tracking/debugging parameters:\n",
        "    eval_strategy=\"steps\",\n",
        "    eval_steps=3000,\n",
        "    save_strategy=\"steps\",\n",
        "    save_steps=3000,\n",
        "    logging_steps=500,\n",
        "    load_best_model_at_end=True,\n",
        "    report_to=\"mlflow\",\n",
        ")\n",
        "\n"
      ],
      "metadata": {
        "id": "SdXG3rdSB13G"
      },
      "execution_count": 32,
      "outputs": []
    },
    {
      "cell_type": "code",
      "source": [
        "PATH =\"/content/drive/MyDrive/MODELS\""
      ],
      "metadata": {
        "id": "Ltuu5jorcr4k"
      },
      "execution_count": 33,
      "outputs": []
    },
    {
      "cell_type": "code",
      "source": [
        "!rm -rf /content/drive/MyDrive/MODELS/flan-T5-fine-tune"
      ],
      "metadata": {
        "id": "7icdC92scwiR"
      },
      "execution_count": 34,
      "outputs": []
    },
    {
      "cell_type": "code",
      "source": [
        "!mkdir /content/drive/MyDrive/MODELS/flan-T5-fine-tune\n",
        "custom_path = \"/content/drive/MyDrive/MODELS/flan-T5-fine-tune\""
      ],
      "metadata": {
        "id": "3khTEi6tcwAE"
      },
      "execution_count": 35,
      "outputs": []
    },
    {
      "cell_type": "code",
      "source": [
        "trainer = Seq2SeqTrainer(\n",
        "    model=model,\n",
        "    args=training_args,\n",
        "    train_dataset=tokenized_dataset[\"train\"],\n",
        "    eval_dataset=tokenized_dataset[\"test\"],\n",
        "    data_collator=data_collator,\n",
        "    compute_metrics=compute_metrics,\n",
        "    processing_class=tokenizer,\n",
        "\n",
        ")\n",
        "\n",
        "model.config.use_cache = False  # silence the warnings. Please re-enable for inference!\n",
        "model.generation_config.max_new_tokens = 128 # generate exactly 128 tokens when predicting\n",
        "model.generation_config.min_new_tokens = 128"
      ],
      "metadata": {
        "id": "aF_rEhWuEXZK"
      },
      "execution_count": 36,
      "outputs": []
    },
    {
      "cell_type": "markdown",
      "source": [
        "# Pipelines / Tasks Types\n",
        "https://huggingface.co/docs/transformers/en/main_classes/pipelines"
      ],
      "metadata": {
        "id": "oUdI1Xrrgj_s"
      }
    },
    {
      "cell_type": "code",
      "source": [
        "with mlflow.start_run(run_name=\"fine_tune_model\") as run:\n",
        "    train_results = trainer.train()\n",
        "    print(train_results.metrics)\n",
        "    trainer.model.save_pretrained(custom_path)\n",
        "    trainer.data_collator.tokenizer.save_pretrained(custom_path)\n",
        "\n",
        "    transformers_model = {\"model\": trainer.model, \"tokenizer\": trainer.data_collator.tokenizer}\n",
        "    task = \"summarization\"\n",
        "    model_info = mlflow.transformers.log_model(\n",
        "        transformers_model=transformers_model,\n",
        "        artifact_path=\"text_summarizer\",\n",
        "        task=task,\n",
        "    )\n",
        "    print(model_info.metadata)"
      ],
      "metadata": {
        "colab": {
          "base_uri": "https://localhost:8080/",
          "height": 1000,
          "referenced_widgets": [
            "ede8f3ca77134fa19a632c63d4107957",
            "696ea13973184ea588d875cfa4bcf81e",
            "7f6ba91869e246758eefeacc3fe54d3f",
            "e1534448f7894f7cb8bd44e33207a945",
            "c71546f01bc042a0aa46b00f0f0f5d30",
            "a58d13ab1dfa4ff8adb4a5639e82cbfe",
            "1767abc2fb0d433285252e21cb0b267b",
            "8df2e210302e421c9ecf8d7610229178",
            "8913a771845143f98d8978839b869ac3",
            "3f38e9ea5e884c058730036898f390ea",
            "58d25bf8028b4b17bb19e8fb5d0b266d"
          ]
        },
        "id": "R70wzIz9EpzS",
        "outputId": "b74c2f0a-c4fb-43e3-d910-90f88824b4c5"
      },
      "execution_count": 37,
      "outputs": [
        {
          "output_type": "stream",
          "name": "stdout",
          "text": [
            "{'loss': 3.2325, 'grad_norm': 2.484375, 'learning_rate': 1.966648879402348e-05, 'epoch': 0.06670224119530416}\n",
            "{'loss': 2.6066, 'grad_norm': 2.09375, 'learning_rate': 1.933297758804696e-05, 'epoch': 0.13340448239060831}\n",
            "{'loss': 2.5412, 'grad_norm': 1.8984375, 'learning_rate': 1.899946638207044e-05, 'epoch': 0.2001067235859125}\n",
            "{'loss': 2.4997, 'grad_norm': 7.25, 'learning_rate': 1.866595517609392e-05, 'epoch': 0.26680896478121663}\n",
            "{'loss': 2.486, 'grad_norm': 1.7421875, 'learning_rate': 1.8332443970117397e-05, 'epoch': 0.3335112059765208}\n",
            "{'loss': 2.4926, 'grad_norm': 2.09375, 'learning_rate': 1.799893276414088e-05, 'epoch': 0.400213447171825}\n",
            "{'eval_loss': 2.27348256111145, 'eval_rouge1': 0.3784, 'eval_rouge2': 0.1219, 'eval_rougeL': 0.2184, 'eval_rougeLsum': 0.2184, 'eval_gen_len': 128.0, 'eval_runtime': 5241.7065, 'eval_samples_per_second': 1.073, 'eval_steps_per_second': 0.179, 'epoch': 0.400213447171825}\n",
            "{'loss': 2.4892, 'grad_norm': 1.96875, 'learning_rate': 1.7665421558164354e-05, 'epoch': 0.46691568836712916}\n",
            "{'loss': 2.4675, 'grad_norm': 2.34375, 'learning_rate': 1.7331910352187836e-05, 'epoch': 0.5336179295624333}\n",
            "{'loss': 2.4663, 'grad_norm': 2.34375, 'learning_rate': 1.6998399146211314e-05, 'epoch': 0.6003201707577375}\n",
            "{'loss': 2.4451, 'grad_norm': 2.125, 'learning_rate': 1.6664887940234793e-05, 'epoch': 0.6670224119530416}\n",
            "{'loss': 2.4521, 'grad_norm': 2.25, 'learning_rate': 1.6331376734258274e-05, 'epoch': 0.7337246531483458}\n",
            "{'loss': 2.4515, 'grad_norm': 2.265625, 'learning_rate': 1.599786552828175e-05, 'epoch': 0.80042689434365}\n",
            "{'eval_loss': 2.2508955001831055, 'eval_rouge1': 0.3811, 'eval_rouge2': 0.1239, 'eval_rougeL': 0.2204, 'eval_rougeLsum': 0.2205, 'eval_gen_len': 128.0, 'eval_runtime': 5269.3768, 'eval_samples_per_second': 1.067, 'eval_steps_per_second': 0.178, 'epoch': 0.80042689434365}\n",
            "{'loss': 2.455, 'grad_norm': 1.796875, 'learning_rate': 1.566435432230523e-05, 'epoch': 0.8671291355389541}\n",
            "{'loss': 2.4343, 'grad_norm': 1.8125, 'learning_rate': 1.533084311632871e-05, 'epoch': 0.9338313767342583}\n",
            "{'loss': 2.4523, 'grad_norm': 3.390625, 'learning_rate': 1.4997331910352188e-05, 'epoch': 1.0005336179295625}\n",
            "{'loss': 2.4524, 'grad_norm': 2.28125, 'learning_rate': 1.4663820704375668e-05, 'epoch': 1.0672358591248665}\n",
            "{'loss': 2.4671, 'grad_norm': 1.9375, 'learning_rate': 1.4330309498399147e-05, 'epoch': 1.1339381003201707}\n",
            "{'loss': 2.4301, 'grad_norm': 1.578125, 'learning_rate': 1.3996798292422627e-05, 'epoch': 1.200640341515475}\n",
            "{'eval_loss': 2.245614767074585, 'eval_rouge1': 0.3816, 'eval_rouge2': 0.1239, 'eval_rougeL': 0.2206, 'eval_rougeLsum': 0.2207, 'eval_gen_len': 128.0, 'eval_runtime': 5290.8844, 'eval_samples_per_second': 1.063, 'eval_steps_per_second': 0.177, 'epoch': 1.200640341515475}\n",
            "{'loss': 2.461, 'grad_norm': 1.9765625, 'learning_rate': 1.3663287086446107e-05, 'epoch': 1.2673425827107792}\n",
            "{'loss': 2.4576, 'grad_norm': 2.0625, 'learning_rate': 1.3329775880469584e-05, 'epoch': 1.3340448239060834}\n",
            "{'loss': 2.4456, 'grad_norm': 2.171875, 'learning_rate': 1.2996264674493064e-05, 'epoch': 1.4007470651013874}\n",
            "{'loss': 2.4343, 'grad_norm': 2.140625, 'learning_rate': 1.2662753468516544e-05, 'epoch': 1.4674493062966916}\n",
            "{'loss': 2.4258, 'grad_norm': 1.9921875, 'learning_rate': 1.2329242262540022e-05, 'epoch': 1.5341515474919958}\n",
            "{'loss': 2.4472, 'grad_norm': 1.9140625, 'learning_rate': 1.1995731056563502e-05, 'epoch': 1.6008537886872998}\n",
            "{'eval_loss': 2.243748664855957, 'eval_rouge1': 0.3816, 'eval_rouge2': 0.124, 'eval_rougeL': 0.2203, 'eval_rougeLsum': 0.2205, 'eval_gen_len': 128.0, 'eval_runtime': 5359.7351, 'eval_samples_per_second': 1.049, 'eval_steps_per_second': 0.175, 'epoch': 1.6008537886872998}\n",
            "{'loss': 2.4593, 'grad_norm': 2.109375, 'learning_rate': 1.1662219850586979e-05, 'epoch': 1.6675560298826042}\n",
            "{'loss': 2.4349, 'grad_norm': 1.8359375, 'learning_rate': 1.132870864461046e-05, 'epoch': 1.7342582710779082}\n",
            "{'loss': 2.4188, 'grad_norm': 1.9453125, 'learning_rate': 1.099519743863394e-05, 'epoch': 1.8009605122732124}\n",
            "{'loss': 2.4347, 'grad_norm': 2.34375, 'learning_rate': 1.0661686232657418e-05, 'epoch': 1.8676627534685166}\n",
            "{'loss': 2.437, 'grad_norm': 1.953125, 'learning_rate': 1.0328175026680898e-05, 'epoch': 1.9343649946638206}\n",
            "{'loss': 2.4438, 'grad_norm': 4.625, 'learning_rate': 9.994663820704376e-06, 'epoch': 2.001067235859125}\n",
            "{'eval_loss': 2.2431859970092773, 'eval_rouge1': 0.3817, 'eval_rouge2': 0.1241, 'eval_rougeL': 0.2209, 'eval_rougeLsum': 0.2211, 'eval_gen_len': 128.0, 'eval_runtime': 5369.825, 'eval_samples_per_second': 1.047, 'eval_steps_per_second': 0.174, 'epoch': 2.001067235859125}\n",
            "{'loss': 2.4429, 'grad_norm': 1.9375, 'learning_rate': 9.661152614727855e-06, 'epoch': 2.067769477054429}\n",
            "{'loss': 2.457, 'grad_norm': 1.9140625, 'learning_rate': 9.327641408751335e-06, 'epoch': 2.134471718249733}\n",
            "{'loss': 2.4492, 'grad_norm': 2.046875, 'learning_rate': 8.994130202774815e-06, 'epoch': 2.2011739594450375}\n",
            "{'loss': 2.4337, 'grad_norm': 1.8828125, 'learning_rate': 8.660618996798293e-06, 'epoch': 2.2678762006403415}\n",
            "{'loss': 2.4353, 'grad_norm': 1.7734375, 'learning_rate': 8.327107790821772e-06, 'epoch': 2.334578441835646}\n",
            "{'loss': 2.4465, 'grad_norm': 2.078125, 'learning_rate': 7.993596584845252e-06, 'epoch': 2.40128068303095}\n",
            "{'eval_loss': 2.2429468631744385, 'eval_rouge1': 0.3816, 'eval_rouge2': 0.1239, 'eval_rougeL': 0.2206, 'eval_rougeLsum': 0.2207, 'eval_gen_len': 128.0, 'eval_runtime': 5380.8382, 'eval_samples_per_second': 1.045, 'eval_steps_per_second': 0.174, 'epoch': 2.40128068303095}\n",
            "{'loss': 2.464, 'grad_norm': 2.25, 'learning_rate': 7.66008537886873e-06, 'epoch': 2.467982924226254}\n",
            "{'loss': 2.4192, 'grad_norm': 1.9765625, 'learning_rate': 7.3265741728922105e-06, 'epoch': 2.5346851654215583}\n",
            "{'loss': 2.4394, 'grad_norm': 2.5625, 'learning_rate': 6.993062966915689e-06, 'epoch': 2.6013874066168623}\n",
            "{'loss': 2.4427, 'grad_norm': 5.5, 'learning_rate': 6.659551760939168e-06, 'epoch': 2.6680896478121667}\n",
            "{'loss': 2.4433, 'grad_norm': 1.9921875, 'learning_rate': 6.326040554962647e-06, 'epoch': 2.7347918890074707}\n",
            "{'loss': 2.4415, 'grad_norm': 2.359375, 'learning_rate': 5.992529348986127e-06, 'epoch': 2.8014941302027747}\n",
            "{'eval_loss': 2.2428839206695557, 'eval_rouge1': 0.382, 'eval_rouge2': 0.124, 'eval_rougeL': 0.2207, 'eval_rougeLsum': 0.2209, 'eval_gen_len': 128.0, 'eval_runtime': 5375.8276, 'eval_samples_per_second': 1.046, 'eval_steps_per_second': 0.174, 'epoch': 2.8014941302027747}\n",
            "{'loss': 2.422, 'grad_norm': 1.9453125, 'learning_rate': 5.659018143009606e-06, 'epoch': 2.8681963713980787}\n",
            "{'loss': 2.4327, 'grad_norm': 2.796875, 'learning_rate': 5.325506937033084e-06, 'epoch': 2.934898612593383}\n",
            "{'loss': 2.4562, 'grad_norm': 2.828125, 'learning_rate': 4.991995731056564e-06, 'epoch': 3.001600853788687}\n",
            "{'loss': 2.4422, 'grad_norm': 2.578125, 'learning_rate': 4.658484525080043e-06, 'epoch': 3.0683030949839916}\n",
            "{'loss': 2.4379, 'grad_norm': 2.8125, 'learning_rate': 4.324973319103522e-06, 'epoch': 3.1350053361792956}\n",
            "{'loss': 2.4518, 'grad_norm': 1.9453125, 'learning_rate': 3.9914621131270015e-06, 'epoch': 3.2017075773746}\n",
            "{'eval_loss': 2.2428431510925293, 'eval_rouge1': 0.3816, 'eval_rouge2': 0.1237, 'eval_rougeL': 0.2204, 'eval_rougeLsum': 0.2205, 'eval_gen_len': 128.0, 'eval_runtime': 5393.5985, 'eval_samples_per_second': 1.042, 'eval_steps_per_second': 0.174, 'epoch': 3.2017075773746}\n",
            "{'loss': 2.4261, 'grad_norm': 1.90625, 'learning_rate': 3.6579509071504803e-06, 'epoch': 3.268409818569904}\n",
            "{'loss': 2.4406, 'grad_norm': 10.0, 'learning_rate': 3.32443970117396e-06, 'epoch': 3.335112059765208}\n",
            "{'loss': 2.4224, 'grad_norm': 1.9453125, 'learning_rate': 2.990928495197439e-06, 'epoch': 3.4018143009605124}\n",
            "{'loss': 2.4412, 'grad_norm': 1.9609375, 'learning_rate': 2.657417289220918e-06, 'epoch': 3.4685165421558164}\n",
            "{'loss': 2.4396, 'grad_norm': 2.65625, 'learning_rate': 2.323906083244397e-06, 'epoch': 3.5352187833511204}\n",
            "{'loss': 2.4282, 'grad_norm': 2.5, 'learning_rate': 1.9903948772678763e-06, 'epoch': 3.601921024546425}\n",
            "{'eval_loss': 2.2428481578826904, 'eval_rouge1': 0.3814, 'eval_rouge2': 0.1237, 'eval_rougeL': 0.2206, 'eval_rougeLsum': 0.2207, 'eval_gen_len': 128.0, 'eval_runtime': 5327.3111, 'eval_samples_per_second': 1.055, 'eval_steps_per_second': 0.176, 'epoch': 3.601921024546425}\n",
            "{'loss': 2.4508, 'grad_norm': 2.09375, 'learning_rate': 1.6568836712913555e-06, 'epoch': 3.668623265741729}\n",
            "{'loss': 2.4504, 'grad_norm': 2.8125, 'learning_rate': 1.3233724653148348e-06, 'epoch': 3.7353255069370332}\n",
            "{'loss': 2.4515, 'grad_norm': 2.21875, 'learning_rate': 9.898612593383139e-07, 'epoch': 3.8020277481323372}\n",
            "{'loss': 2.4631, 'grad_norm': 2.359375, 'learning_rate': 6.563500533617929e-07, 'epoch': 3.8687299893276412}\n",
            "{'loss': 2.4337, 'grad_norm': 2.46875, 'learning_rate': 3.228388473852722e-07, 'epoch': 3.9354322305229457}\n",
            "{'train_runtime': 62662.2645, 'train_samples_per_second': 2.871, 'train_steps_per_second': 0.479, 'train_loss': 2.4645582950229707, 'epoch': 4.0}\n",
            "{'train_runtime': 62662.2645, 'train_samples_per_second': 2.871, 'train_steps_per_second': 0.479, 'train_loss': 2.4645582950229707, 'epoch': 4.0}\n"
          ]
        },
        {
          "output_type": "display_data",
          "data": {
            "text/plain": [
              "README.md:   0%|          | 0.00/8.47k [00:00<?, ?B/s]"
            ],
            "application/vnd.jupyter.widget-view+json": {
              "version_major": 2,
              "version_minor": 0,
              "model_id": "ede8f3ca77134fa19a632c63d4107957"
            }
          },
          "metadata": {
            "application/vnd.jupyter.widget-view+json": {
              "colab": {
                "custom_widget_manager": {
                  "url": "https://ssl.gstatic.com/colaboratory-static/widgets/colab-cdn-widget-manager/2b70e893a8ba7c0f/manager.min.js"
                }
              }
            }
          }
        },
        {
          "output_type": "stream",
          "name": "stderr",
          "text": [
            "2024/11/21 15:35:23 WARNING mlflow.utils.requirements_utils: Found torch version (2.5.1+cu121) contains a local version label (+cu121). MLflow logged a pip requirement for this package as 'torch==2.5.1' without the local version label to make it installable from PyPI. To specify pip requirements containing local version labels, please use `conda_env` or `pip_requirements`.\n",
            "2024/11/21 15:35:23 WARNING mlflow.utils.requirements_utils: Found torchvision version (0.20.1+cu121) contains a local version label (+cu121). MLflow logged a pip requirement for this package as 'torchvision==0.20.1' without the local version label to make it installable from PyPI. To specify pip requirements containing local version labels, please use `conda_env` or `pip_requirements`.\n",
            "2024/11/21 15:35:37 WARNING mlflow.utils.requirements_utils: Found torchvision version (0.20.1+cu121) contains a local version label (+cu121). MLflow logged a pip requirement for this package as 'torchvision==0.20.1' without the local version label to make it installable from PyPI. To specify pip requirements containing local version labels, please use `conda_env` or `pip_requirements`.\n"
          ]
        },
        {
          "output_type": "stream",
          "name": "stdout",
          "text": [
            "None\n",
            "🏃 View run fine_tune_model at: http://127.0.0.1:5000/#/experiments/177008978387414440/runs/64ae3c4e52854bcf82de3c50f93a55f3\n",
            "🧪 View experiment at: http://127.0.0.1:5000/#/experiments/177008978387414440\n"
          ]
        }
      ]
    },
    {
      "cell_type": "code",
      "source": [
        "MLFLOW_TRACKING_URI=\"databricks\"\n",
        "# Specify the workspace hostname and token\n",
        "DATABRICKS_HOST=\"https://adb-2467347032368999.19.azuredatabricks.net/\"\n",
        "DATABRICKS_TOKEN=userdata.get('DATABRCKS_TTOKEN')"
      ],
      "metadata": {
        "id": "IGPJ2-NSpAg7"
      },
      "execution_count": 80,
      "outputs": []
    },
    {
      "cell_type": "code",
      "source": [
        "\n",
        "if \"MLFLOW_TRACKING_URI\" not in os.environ:\n",
        "    os.environ[\"MLFLOW_TRACKING_URI\"] = MLFLOW_TRACKING_URI\n",
        "if \"DATABRICKS_HOST\" not in os.environ:\n",
        "    os.environ[\"DATABRICKS_HOST\"] = DATABRICKS_HOST\n",
        "if \"DATABRICKS_TOKEN\" not in os.environ:\n",
        "    os.environ[\"DATABRICKS_TOKEN\"] = DATABRICKS_TOKEN"
      ],
      "metadata": {
        "id": "Yg9212Wwpf6R"
      },
      "execution_count": 81,
      "outputs": []
    },
    {
      "cell_type": "code",
      "source": [
        "mlflow.set_tracking_uri(MLFLOW_TRACKING_URI)"
      ],
      "metadata": {
        "id": "Wpdb4XWmq6L7"
      },
      "execution_count": 88,
      "outputs": []
    },
    {
      "cell_type": "code",
      "source": [
        "mlflow.set_experiment(\"/Users/***REMOVED***/summarization_fine_tuning\")"
      ],
      "metadata": {
        "colab": {
          "base_uri": "https://localhost:8080/"
        },
        "id": "dAQTftglnV40",
        "outputId": "f1ea850d-d135-465a-8d2b-191b356b2327"
      },
      "execution_count": 89,
      "outputs": [
        {
          "output_type": "stream",
          "name": "stderr",
          "text": [
            "2024/11/21 17:01:36 INFO mlflow.tracking.fluent: Experiment with name '/Users/***REMOVED***/summarization_fine_tuning' does not exist. Creating a new experiment.\n"
          ]
        },
        {
          "output_type": "execute_result",
          "data": {
            "text/plain": [
              "<Experiment: artifact_location='dbfs:/databricks/mlflow-tracking/837187481682972', creation_time=1732208495910, experiment_id='837187481682972', last_update_time=1732208495910, lifecycle_stage='active', name='/Users/***REMOVED***/summarization_fine_tuning', tags={'mlflow.experiment.sourceName': '/Users/***REMOVED***/summarization_fine_tuning',\n",
              " 'mlflow.experimentType': 'MLFLOW_EXPERIMENT',\n",
              " 'mlflow.ownerEmail': '***REMOVED***',\n",
              " 'mlflow.ownerId': '1331640755799986'}>"
            ]
          },
          "metadata": {},
          "execution_count": 89
        }
      ]
    },
    {
      "cell_type": "code",
      "source": [
        "mlflow.end_run()\n",
        "del trainer"
      ],
      "metadata": {
        "id": "lN6NgGL3qoai"
      },
      "execution_count": 124,
      "outputs": []
    },
    {
      "cell_type": "code",
      "source": [
        "with mlflow.start_run() as run :\n",
        "  model_info = mlflow.transformers.log_model(\n",
        "          transformers_model=transformers_model,\n",
        "          artifact_path=\"text_summarizer\",\n",
        "          task=task,\n",
        "      )"
      ],
      "metadata": {
        "colab": {
          "base_uri": "https://localhost:8080/",
          "height": 364,
          "referenced_widgets": [
            "f0bdacd54e9d4c1d9f2f0b5654b78e5a",
            "bd02d777bdc04a308fe32e5a0199253a",
            "b1f9c5d4942348b8b4bf50286cfc9582",
            "6272b6a674214101b355a294cbb4ab92",
            "02e32045917b49d9b730fca7d2ff68c2",
            "b2ebc52eb8bf4ca58bbafda31a19ddb2",
            "7957fff702644881a3ed3332f07091b2",
            "bec11369f6464088aa7dabb5930a7d41",
            "cdf39a4f35f7440a962e26fd78cb57ed",
            "63fd278ce71440e59f403c81b27b8617",
            "f24a84865ffe4e2bba84c7fcbcd7fcc7"
          ]
        },
        "id": "XhIVkuQZqANE",
        "outputId": "6b159afa-379f-41b2-9357-0108cdf8428a"
      },
      "execution_count": 96,
      "outputs": [
        {
          "output_type": "stream",
          "name": "stderr",
          "text": [
            "2024/11/21 17:04:17 WARNING mlflow.utils.requirements_utils: Found torch version (2.5.1+cu121) contains a local version label (+cu121). MLflow logged a pip requirement for this package as 'torch==2.5.1' without the local version label to make it installable from PyPI. To specify pip requirements containing local version labels, please use `conda_env` or `pip_requirements`.\n",
            "2024/11/21 17:04:17 WARNING mlflow.utils.requirements_utils: Found torchvision version (0.20.1+cu121) contains a local version label (+cu121). MLflow logged a pip requirement for this package as 'torchvision==0.20.1' without the local version label to make it installable from PyPI. To specify pip requirements containing local version labels, please use `conda_env` or `pip_requirements`.\n",
            "2024/11/21 17:04:28 WARNING mlflow.utils.requirements_utils: Found torchvision version (0.20.1+cu121) contains a local version label (+cu121). MLflow logged a pip requirement for this package as 'torchvision==0.20.1' without the local version label to make it installable from PyPI. To specify pip requirements containing local version labels, please use `conda_env` or `pip_requirements`.\n"
          ]
        },
        {
          "output_type": "display_data",
          "data": {
            "text/plain": [
              "Uploading artifacts:   0%|          | 0/17 [00:00<?, ?it/s]"
            ],
            "application/vnd.jupyter.widget-view+json": {
              "version_major": 2,
              "version_minor": 0,
              "model_id": "f0bdacd54e9d4c1d9f2f0b5654b78e5a"
            }
          },
          "metadata": {
            "application/vnd.jupyter.widget-view+json": {
              "colab": {
                "custom_widget_manager": {
                  "url": "https://ssl.gstatic.com/colaboratory-static/widgets/colab-cdn-widget-manager/2b70e893a8ba7c0f/manager.min.js"
                }
              }
            }
          }
        },
        {
          "output_type": "stream",
          "name": "stderr",
          "text": [
            "WARNING:urllib3.connectionpool:Connection pool is full, discarding connection: dbstoragehxvzfnone7t6e.dfs.core.windows.net. Connection pool size: 10\n",
            "WARNING:urllib3.connectionpool:Connection pool is full, discarding connection: dbstoragehxvzfnone7t6e.dfs.core.windows.net. Connection pool size: 10\n",
            "WARNING:urllib3.connectionpool:Connection pool is full, discarding connection: dbstoragehxvzfnone7t6e.dfs.core.windows.net. Connection pool size: 10\n",
            "WARNING:urllib3.connectionpool:Connection pool is full, discarding connection: dbstoragehxvzfnone7t6e.dfs.core.windows.net. Connection pool size: 10\n",
            "WARNING:urllib3.connectionpool:Connection pool is full, discarding connection: dbstoragehxvzfnone7t6e.dfs.core.windows.net. Connection pool size: 10\n",
            "WARNING:urllib3.connectionpool:Connection pool is full, discarding connection: dbstoragehxvzfnone7t6e.dfs.core.windows.net. Connection pool size: 10\n",
            "WARNING:urllib3.connectionpool:Connection pool is full, discarding connection: dbstoragehxvzfnone7t6e.dfs.core.windows.net. Connection pool size: 10\n",
            "WARNING:urllib3.connectionpool:Connection pool is full, discarding connection: dbstoragehxvzfnone7t6e.dfs.core.windows.net. Connection pool size: 10\n",
            "WARNING:urllib3.connectionpool:Connection pool is full, discarding connection: dbstoragehxvzfnone7t6e.dfs.core.windows.net. Connection pool size: 10\n",
            "WARNING:urllib3.connectionpool:Connection pool is full, discarding connection: dbstoragehxvzfnone7t6e.dfs.core.windows.net. Connection pool size: 10\n",
            "WARNING:urllib3.connectionpool:Connection pool is full, discarding connection: dbstoragehxvzfnone7t6e.dfs.core.windows.net. Connection pool size: 10\n",
            "WARNING:urllib3.connectionpool:Connection pool is full, discarding connection: dbstoragehxvzfnone7t6e.dfs.core.windows.net. Connection pool size: 10\n"
          ]
        },
        {
          "output_type": "stream",
          "name": "stdout",
          "text": [
            "🏃 View run indecisive-cub-192 at: https://adb-2467347032368999.19.azuredatabricks.net/ml/experiments/837187481682972/runs/a3cb2376e04b48c8b654ac42401dd387\n",
            "🧪 View experiment at: https://adb-2467347032368999.19.azuredatabricks.net/ml/experiments/837187481682972\n"
          ]
        }
      ]
    },
    {
      "cell_type": "code",
      "source": [
        "print(model_info.metadata)"
      ],
      "metadata": {
        "colab": {
          "base_uri": "https://localhost:8080/"
        },
        "id": "u9ivdG2F9PXk",
        "outputId": "bd54329c-ee18-430c-d9ea-52ddffbac5f6"
      },
      "execution_count": 97,
      "outputs": [
        {
          "output_type": "stream",
          "name": "stdout",
          "text": [
            "None\n"
          ]
        }
      ]
    },
    {
      "cell_type": "code",
      "source": [
        "run.to_dictionary()\n"
      ],
      "metadata": {
        "colab": {
          "base_uri": "https://localhost:8080/"
        },
        "id": "sHVbIQiM9N2_",
        "outputId": "b3b4a7e3-b18b-4762-d9c5-a8ada1aaf640"
      },
      "execution_count": 98,
      "outputs": [
        {
          "output_type": "execute_result",
          "data": {
            "text/plain": [
              "{'info': {'artifact_uri': 'dbfs:/databricks/mlflow-tracking/837187481682972/a3cb2376e04b48c8b654ac42401dd387/artifacts',\n",
              "  'end_time': None,\n",
              "  'experiment_id': '837187481682972',\n",
              "  'lifecycle_stage': 'active',\n",
              "  'run_id': 'a3cb2376e04b48c8b654ac42401dd387',\n",
              "  'run_name': 'indecisive-cub-192',\n",
              "  'run_uuid': 'a3cb2376e04b48c8b654ac42401dd387',\n",
              "  'start_time': 1732208655077,\n",
              "  'status': 'RUNNING',\n",
              "  'user_id': ''},\n",
              " 'data': {'metrics': {},\n",
              "  'params': {},\n",
              "  'tags': {'mlflow.runColor': '#da4c4c',\n",
              "   'mlflow.runName': 'indecisive-cub-192',\n",
              "   'mlflow.source.name': '/usr/local/lib/python3.10/dist-packages/colab_kernel_launcher.py',\n",
              "   'mlflow.source.type': 'LOCAL',\n",
              "   'mlflow.user': '1331640755799986'}}}"
            ]
          },
          "metadata": {},
          "execution_count": 98
        }
      ]
    },
    {
      "cell_type": "code",
      "source": [
        "run.data"
      ],
      "metadata": {
        "colab": {
          "base_uri": "https://localhost:8080/"
        },
        "id": "61MRXEznhsbs",
        "outputId": "d88d7c6e-0d63-466b-d480-d6ed46576f27"
      },
      "execution_count": 99,
      "outputs": [
        {
          "output_type": "execute_result",
          "data": {
            "text/plain": [
              "<RunData: metrics={}, params={}, tags={'mlflow.runColor': '#da4c4c',\n",
              " 'mlflow.runName': 'indecisive-cub-192',\n",
              " 'mlflow.source.name': '/usr/local/lib/python3.10/dist-packages/colab_kernel_launcher.py',\n",
              " 'mlflow.source.type': 'LOCAL',\n",
              " 'mlflow.user': '1331640755799986'}>"
            ]
          },
          "metadata": {},
          "execution_count": 99
        }
      ]
    },
    {
      "cell_type": "code",
      "source": [
        "import transformers\n",
        "from mlflow.models import infer_signature\n",
        "from mlflow.transformers import generate_signature_output\n",
        "import locale\n",
        "def getpreferredencoding(do_setlocale = True):\n",
        "    return \"UTF-8\"\n",
        "locale.getpreferredencoding = getpreferredencoding"
      ],
      "metadata": {
        "id": "zGWfGr8ehvTJ"
      },
      "execution_count": 100,
      "outputs": []
    },
    {
      "cell_type": "code",
      "source": [
        "import gc\n",
        "import torch\n",
        "torch.cuda.empty_cache()\n",
        "gc.collect()"
      ],
      "metadata": {
        "colab": {
          "base_uri": "https://localhost:8080/"
        },
        "id": "wTJHF3Xnmo1s",
        "outputId": "dfbe2463-3e11-4521-ce26-81ca6e146bf1"
      },
      "execution_count": 126,
      "outputs": [
        {
          "output_type": "execute_result",
          "data": {
            "text/plain": [
              "0"
            ]
          },
          "metadata": {},
          "execution_count": 126
        }
      ]
    },
    {
      "cell_type": "code",
      "source": [
        "model_info.artifact_path\n"
      ],
      "metadata": {
        "colab": {
          "base_uri": "https://localhost:8080/",
          "height": 35
        },
        "id": "uTeGUEcXhxT7",
        "outputId": "2d9e4afb-71f1-4f58-988f-02c807f74555"
      },
      "execution_count": 127,
      "outputs": [
        {
          "output_type": "execute_result",
          "data": {
            "text/plain": [
              "'text_summarizer'"
            ],
            "application/vnd.google.colaboratory.intrinsic+json": {
              "type": "string"
            }
          },
          "metadata": {},
          "execution_count": 127
        }
      ]
    },
    {
      "cell_type": "code",
      "source": [
        " model_info.model_uri"
      ],
      "metadata": {
        "colab": {
          "base_uri": "https://localhost:8080/",
          "height": 35
        },
        "id": "sJgXQRw0h1H9",
        "outputId": "c53ff54c-ad68-42fb-8b7f-6f773a5455fd"
      },
      "execution_count": 128,
      "outputs": [
        {
          "output_type": "execute_result",
          "data": {
            "text/plain": [
              "'runs:/a3cb2376e04b48c8b654ac42401dd387/text_summarizer'"
            ],
            "application/vnd.google.colaboratory.intrinsic+json": {
              "type": "string"
            }
          },
          "metadata": {},
          "execution_count": 128
        }
      ]
    },
    {
      "cell_type": "code",
      "source": [
        "summarization_components = mlflow.transformers.load_model(\n",
        "    model_info.model_uri, return_type=\"components\"\n",
        ")"
      ],
      "metadata": {
        "colab": {
          "base_uri": "https://localhost:8080/",
          "height": 168,
          "referenced_widgets": [
            "069b9c11a5ac4fc2b4fe2926517989ad",
            "63faf9d0e693481cb6cf2bd2acbdf931",
            "cd028ba46a8f4cf5bbcff0054c440e81",
            "daf240ab31b344139d780e759442c3b7",
            "5449831ac7474567b2435881eeb3d810",
            "6480cef57ea74ae1b30e092abfb84a8d",
            "d0568cc1fc014543a258580a64be6a0e",
            "c59f0923bc934aafafef6333af566eb7",
            "d90b944f11e44b788d49de54bd2d0e78",
            "c0939fc04a1d484ba43c8fa268da149d",
            "ec45af5fddba4406942aee7862060077",
            "d377ae4a4b4f42d08a39ddf8bcdad215",
            "a678a8c5f2934381bd90c249efcd7011",
            "c0a78c9d9eb74254b45271defe2e4911",
            "352da5f873134788a2246ff57540898f",
            "503982465b77454aad47a73032e025f2",
            "74bc4c69a2a442828404f4766eb3a1f4",
            "552912952d054aef933bb9c99bf750f6",
            "f388931fe7bf419fa42279a08f6367f8",
            "873adf8cd0754de386e71e112ac3a1c9",
            "b615bf064ba4480f90687ff7375c365c",
            "5a663682f6af40ec8da0d5e529bc131d",
            "c7e649d6662548da846eae67a18c3a37",
            "16ddd4a77e9248db8f3579de5ccfa7b0",
            "f3c2475dc3224a40816ce056bab25899",
            "8949cb8f241e43da9a80857008af5c66",
            "e14e2a428bdb45478523acfd0e639dea",
            "a0917e50e9b54a5081886f7f6165f114",
            "d48ecdf183734308ad383a55e4010ba3",
            "259c0229f67e48a79a1ffca1edb2014e",
            "6dc8f6dc163a42cea8ef0dffe946c969",
            "baffdfcc37994e6db2c1bc3b6bb0cd4e",
            "f5ac952d77ca4b938603f4a606145f88"
          ]
        },
        "id": "FPZCFVm2h3sM",
        "outputId": "8c2795fe-a620-4f78-b669-89de6c2b04ef"
      },
      "execution_count": 104,
      "outputs": [
        {
          "output_type": "display_data",
          "data": {
            "text/plain": [
              "Downloading artifacts:   0%|          | 0/17 [00:00<?, ?it/s]"
            ],
            "application/vnd.jupyter.widget-view+json": {
              "version_major": 2,
              "version_minor": 0,
              "model_id": "069b9c11a5ac4fc2b4fe2926517989ad"
            }
          },
          "metadata": {
            "application/vnd.jupyter.widget-view+json": {
              "colab": {
                "custom_widget_manager": {
                  "url": "https://ssl.gstatic.com/colaboratory-static/widgets/colab-cdn-widget-manager/2b70e893a8ba7c0f/manager.min.js"
                }
              }
            }
          }
        },
        {
          "output_type": "stream",
          "name": "stderr",
          "text": [
            "2024/11/21 17:06:06 INFO mlflow.transformers: 'runs:/a3cb2376e04b48c8b654ac42401dd387/text_summarizer' resolved as 'dbfs:/databricks/mlflow-tracking/837187481682972/a3cb2376e04b48c8b654ac42401dd387/artifacts/text_summarizer'\n"
          ]
        },
        {
          "output_type": "display_data",
          "data": {
            "text/plain": [
              "Downloading artifacts:   0%|          | 0/1 [00:00<?, ?it/s]"
            ],
            "application/vnd.jupyter.widget-view+json": {
              "version_major": 2,
              "version_minor": 0,
              "model_id": "5a663682f6af40ec8da0d5e529bc131d"
            }
          },
          "metadata": {
            "application/vnd.jupyter.widget-view+json": {
              "colab": {
                "custom_widget_manager": {
                  "url": "https://ssl.gstatic.com/colaboratory-static/widgets/colab-cdn-widget-manager/2b70e893a8ba7c0f/manager.min.js"
                }
              }
            }
          }
        },
        {
          "output_type": "stream",
          "name": "stderr",
          "text": [
            "2024/11/21 17:06:07 WARNING mlflow.transformers.model_io: Could not specify device parameter for this pipeline type.Falling back to loading the model with the default device.\n"
          ]
        },
        {
          "output_type": "display_data",
          "data": {
            "text/plain": [
              "Loading checkpoint shards:   0%|          | 0/3 [00:00<?, ?it/s]"
            ],
            "application/vnd.jupyter.widget-view+json": {
              "version_major": 2,
              "version_minor": 0,
              "model_id": "f5ac952d77ca4b938603f4a606145f88"
            }
          },
          "metadata": {
            "application/vnd.jupyter.widget-view+json": {
              "colab": {
                "custom_widget_manager": {
                  "url": "https://ssl.gstatic.com/colaboratory-static/widgets/colab-cdn-widget-manager/2b70e893a8ba7c0f/manager.min.js"
                }
              }
            }
          }
        }
      ]
    },
    {
      "cell_type": "code",
      "source": [
        "del summarization_components"
      ],
      "metadata": {
        "id": "Pjh7DjgAuxsb"
      },
      "execution_count": 120,
      "outputs": []
    },
    {
      "cell_type": "code",
      "source": [
        "summarization_components.keys()"
      ],
      "metadata": {
        "colab": {
          "base_uri": "https://localhost:8080/"
        },
        "id": "_EuuLS2NiASF",
        "outputId": "2396edb8-f22b-45e3-9c04-6978e9fc6ee9"
      },
      "execution_count": 105,
      "outputs": [
        {
          "output_type": "execute_result",
          "data": {
            "text/plain": [
              "dict_keys(['task', 'framework', 'device', 'torch_dtype', 'model', 'tokenizer'])"
            ]
          },
          "metadata": {},
          "execution_count": 105
        }
      ]
    },
    {
      "cell_type": "code",
      "source": [
        "import torch\n",
        "from tqdm.auto import tqdm\n",
        "\n",
        "from transformers import AutoTokenizer, AutoModelForSeq2SeqLM"
      ],
      "metadata": {
        "id": "-riZhnVSiOrs"
      },
      "execution_count": 106,
      "outputs": []
    },
    {
      "cell_type": "code",
      "source": [
        "\n",
        "! pip install  evaluate  textstat  -q"
      ],
      "metadata": {
        "id": "A4KXEmfQlF5q"
      },
      "execution_count": 107,
      "outputs": []
    },
    {
      "cell_type": "code",
      "source": [
        "del reconstructed_pipeline"
      ],
      "metadata": {
        "id": "Gj2pwWitu8FF"
      },
      "execution_count": 122,
      "outputs": []
    },
    {
      "cell_type": "code",
      "source": [
        "reconstructed_pipeline = transformers.pipeline(**summarization_components)"
      ],
      "metadata": {
        "id": "99GSvZhOiSGU"
      },
      "execution_count": 52,
      "outputs": []
    },
    {
      "cell_type": "code",
      "source": [
        "test1= dataset['test'][100]['document']"
      ],
      "metadata": {
        "id": "PktQa-Kcie9P"
      },
      "execution_count": 74,
      "outputs": []
    },
    {
      "cell_type": "code",
      "source": [
        "reconstructed_pipeline(test1)"
      ],
      "metadata": {
        "colab": {
          "base_uri": "https://localhost:8080/"
        },
        "id": "lRdYiSv9iUsF",
        "outputId": "4c405a2b-52d5-445a-c69a-09517aa3032c"
      },
      "execution_count": 108,
      "outputs": [
        {
          "output_type": "execute_result",
          "data": {
            "text/plain": [
              "[{'summary_text': '0:58 KC\\'s worst floods 1:54 KC floods: a history of the city Pause 1:55 KC Floods: A history of Kansas City 1:56 KC Firefighters recall worst flood in history 1:57 KC firefighters remember worst flood 1:59 Kansas City\\'s most devastating floods Pause 2:07 KC Police say they\\'re still looking for Kara Kopetsky, 17, and Jessica Runions, 21, who went missing in September 2016. The families of both women have been in the area. The Missouri State Highway Patrol said Tuesday afternoon. \"'}]"
            ]
          },
          "metadata": {},
          "execution_count": 108
        }
      ]
    },
    {
      "cell_type": "code",
      "source": [
        "dataset['test'][100].keys()"
      ],
      "metadata": {
        "colab": {
          "base_uri": "https://localhost:8080/"
        },
        "id": "zJYa6vV2jqIW",
        "outputId": "ab661732-f671-4aab-b05d-c329442174b7"
      },
      "execution_count": 109,
      "outputs": [
        {
          "output_type": "execute_result",
          "data": {
            "text/plain": [
              "dict_keys(['document', 'summary'])"
            ]
          },
          "metadata": {},
          "execution_count": 109
        }
      ]
    },
    {
      "cell_type": "code",
      "source": [
        "df_test = dataset['test'].to_pandas()"
      ],
      "metadata": {
        "id": "hKAFseuhkPyV"
      },
      "execution_count": 110,
      "outputs": []
    },
    {
      "cell_type": "code",
      "source": [
        "df_test.columns = ['inputs', 'summary']"
      ],
      "metadata": {
        "id": "v_AU4zsskYtI"
      },
      "execution_count": 111,
      "outputs": []
    },
    {
      "cell_type": "code",
      "source": [
        "df_test.head()"
      ],
      "metadata": {
        "colab": {
          "base_uri": "https://localhost:8080/",
          "height": 206
        },
        "id": "zs-LwAuCkYpB",
        "outputId": "187bab39-96d8-4005-8486-f856ed044638"
      },
      "execution_count": 112,
      "outputs": [
        {
          "output_type": "execute_result",
          "data": {
            "text/plain": [
              "                                              inputs  \\\n",
              "0  GOP Eyes Gains As Voters In 11 States Pick Gov...   \n",
              "1  \\n \\n \\n \\n UPDATE: 4/19/2001 Read Richard Met...   \n",
              "2  It's the Golden State's latest version of the ...   \n",
              "3  The seed for this crawl was a list of every ho...   \n",
              "4  After a year in which liberals scored impressi...   \n",
              "\n",
              "                                             summary  \n",
              "0  – It's a race for the governor's mansion in 11...  \n",
              "1  – It turns out Facebook is only guilty of abou...  \n",
              "2  – Not a big fan of Southern California? Neithe...  \n",
              "3  – Why did Microsoft buy Nokia's phone business...  \n",
              "4  – The Supreme Court is facing a docket of high...  "
            ],
            "text/html": [
              "\n",
              "  <div id=\"df-f7a2da42-7ed6-4c0e-8ffa-9d806cba5c3f\" class=\"colab-df-container\">\n",
              "    <div>\n",
              "<style scoped>\n",
              "    .dataframe tbody tr th:only-of-type {\n",
              "        vertical-align: middle;\n",
              "    }\n",
              "\n",
              "    .dataframe tbody tr th {\n",
              "        vertical-align: top;\n",
              "    }\n",
              "\n",
              "    .dataframe thead th {\n",
              "        text-align: right;\n",
              "    }\n",
              "</style>\n",
              "<table border=\"1\" class=\"dataframe\">\n",
              "  <thead>\n",
              "    <tr style=\"text-align: right;\">\n",
              "      <th></th>\n",
              "      <th>inputs</th>\n",
              "      <th>summary</th>\n",
              "    </tr>\n",
              "  </thead>\n",
              "  <tbody>\n",
              "    <tr>\n",
              "      <th>0</th>\n",
              "      <td>GOP Eyes Gains As Voters In 11 States Pick Gov...</td>\n",
              "      <td>– It's a race for the governor's mansion in 11...</td>\n",
              "    </tr>\n",
              "    <tr>\n",
              "      <th>1</th>\n",
              "      <td>\\n \\n \\n \\n UPDATE: 4/19/2001 Read Richard Met...</td>\n",
              "      <td>– It turns out Facebook is only guilty of abou...</td>\n",
              "    </tr>\n",
              "    <tr>\n",
              "      <th>2</th>\n",
              "      <td>It's the Golden State's latest version of the ...</td>\n",
              "      <td>– Not a big fan of Southern California? Neithe...</td>\n",
              "    </tr>\n",
              "    <tr>\n",
              "      <th>3</th>\n",
              "      <td>The seed for this crawl was a list of every ho...</td>\n",
              "      <td>– Why did Microsoft buy Nokia's phone business...</td>\n",
              "    </tr>\n",
              "    <tr>\n",
              "      <th>4</th>\n",
              "      <td>After a year in which liberals scored impressi...</td>\n",
              "      <td>– The Supreme Court is facing a docket of high...</td>\n",
              "    </tr>\n",
              "  </tbody>\n",
              "</table>\n",
              "</div>\n",
              "    <div class=\"colab-df-buttons\">\n",
              "\n",
              "  <div class=\"colab-df-container\">\n",
              "    <button class=\"colab-df-convert\" onclick=\"convertToInteractive('df-f7a2da42-7ed6-4c0e-8ffa-9d806cba5c3f')\"\n",
              "            title=\"Convert this dataframe to an interactive table.\"\n",
              "            style=\"display:none;\">\n",
              "\n",
              "  <svg xmlns=\"http://www.w3.org/2000/svg\" height=\"24px\" viewBox=\"0 -960 960 960\">\n",
              "    <path d=\"M120-120v-720h720v720H120Zm60-500h600v-160H180v160Zm220 220h160v-160H400v160Zm0 220h160v-160H400v160ZM180-400h160v-160H180v160Zm440 0h160v-160H620v160ZM180-180h160v-160H180v160Zm440 0h160v-160H620v160Z\"/>\n",
              "  </svg>\n",
              "    </button>\n",
              "\n",
              "  <style>\n",
              "    .colab-df-container {\n",
              "      display:flex;\n",
              "      gap: 12px;\n",
              "    }\n",
              "\n",
              "    .colab-df-convert {\n",
              "      background-color: #E8F0FE;\n",
              "      border: none;\n",
              "      border-radius: 50%;\n",
              "      cursor: pointer;\n",
              "      display: none;\n",
              "      fill: #1967D2;\n",
              "      height: 32px;\n",
              "      padding: 0 0 0 0;\n",
              "      width: 32px;\n",
              "    }\n",
              "\n",
              "    .colab-df-convert:hover {\n",
              "      background-color: #E2EBFA;\n",
              "      box-shadow: 0px 1px 2px rgba(60, 64, 67, 0.3), 0px 1px 3px 1px rgba(60, 64, 67, 0.15);\n",
              "      fill: #174EA6;\n",
              "    }\n",
              "\n",
              "    .colab-df-buttons div {\n",
              "      margin-bottom: 4px;\n",
              "    }\n",
              "\n",
              "    [theme=dark] .colab-df-convert {\n",
              "      background-color: #3B4455;\n",
              "      fill: #D2E3FC;\n",
              "    }\n",
              "\n",
              "    [theme=dark] .colab-df-convert:hover {\n",
              "      background-color: #434B5C;\n",
              "      box-shadow: 0px 1px 3px 1px rgba(0, 0, 0, 0.15);\n",
              "      filter: drop-shadow(0px 1px 2px rgba(0, 0, 0, 0.3));\n",
              "      fill: #FFFFFF;\n",
              "    }\n",
              "  </style>\n",
              "\n",
              "    <script>\n",
              "      const buttonEl =\n",
              "        document.querySelector('#df-f7a2da42-7ed6-4c0e-8ffa-9d806cba5c3f button.colab-df-convert');\n",
              "      buttonEl.style.display =\n",
              "        google.colab.kernel.accessAllowed ? 'block' : 'none';\n",
              "\n",
              "      async function convertToInteractive(key) {\n",
              "        const element = document.querySelector('#df-f7a2da42-7ed6-4c0e-8ffa-9d806cba5c3f');\n",
              "        const dataTable =\n",
              "          await google.colab.kernel.invokeFunction('convertToInteractive',\n",
              "                                                    [key], {});\n",
              "        if (!dataTable) return;\n",
              "\n",
              "        const docLinkHtml = 'Like what you see? Visit the ' +\n",
              "          '<a target=\"_blank\" href=https://colab.research.google.com/notebooks/data_table.ipynb>data table notebook</a>'\n",
              "          + ' to learn more about interactive tables.';\n",
              "        element.innerHTML = '';\n",
              "        dataTable['output_type'] = 'display_data';\n",
              "        await google.colab.output.renderOutput(dataTable, element);\n",
              "        const docLink = document.createElement('div');\n",
              "        docLink.innerHTML = docLinkHtml;\n",
              "        element.appendChild(docLink);\n",
              "      }\n",
              "    </script>\n",
              "  </div>\n",
              "\n",
              "\n",
              "<div id=\"df-cc248591-8522-4da8-ba2d-a2b4594d8127\">\n",
              "  <button class=\"colab-df-quickchart\" onclick=\"quickchart('df-cc248591-8522-4da8-ba2d-a2b4594d8127')\"\n",
              "            title=\"Suggest charts\"\n",
              "            style=\"display:none;\">\n",
              "\n",
              "<svg xmlns=\"http://www.w3.org/2000/svg\" height=\"24px\"viewBox=\"0 0 24 24\"\n",
              "     width=\"24px\">\n",
              "    <g>\n",
              "        <path d=\"M19 3H5c-1.1 0-2 .9-2 2v14c0 1.1.9 2 2 2h14c1.1 0 2-.9 2-2V5c0-1.1-.9-2-2-2zM9 17H7v-7h2v7zm4 0h-2V7h2v10zm4 0h-2v-4h2v4z\"/>\n",
              "    </g>\n",
              "</svg>\n",
              "  </button>\n",
              "\n",
              "<style>\n",
              "  .colab-df-quickchart {\n",
              "      --bg-color: #E8F0FE;\n",
              "      --fill-color: #1967D2;\n",
              "      --hover-bg-color: #E2EBFA;\n",
              "      --hover-fill-color: #174EA6;\n",
              "      --disabled-fill-color: #AAA;\n",
              "      --disabled-bg-color: #DDD;\n",
              "  }\n",
              "\n",
              "  [theme=dark] .colab-df-quickchart {\n",
              "      --bg-color: #3B4455;\n",
              "      --fill-color: #D2E3FC;\n",
              "      --hover-bg-color: #434B5C;\n",
              "      --hover-fill-color: #FFFFFF;\n",
              "      --disabled-bg-color: #3B4455;\n",
              "      --disabled-fill-color: #666;\n",
              "  }\n",
              "\n",
              "  .colab-df-quickchart {\n",
              "    background-color: var(--bg-color);\n",
              "    border: none;\n",
              "    border-radius: 50%;\n",
              "    cursor: pointer;\n",
              "    display: none;\n",
              "    fill: var(--fill-color);\n",
              "    height: 32px;\n",
              "    padding: 0;\n",
              "    width: 32px;\n",
              "  }\n",
              "\n",
              "  .colab-df-quickchart:hover {\n",
              "    background-color: var(--hover-bg-color);\n",
              "    box-shadow: 0 1px 2px rgba(60, 64, 67, 0.3), 0 1px 3px 1px rgba(60, 64, 67, 0.15);\n",
              "    fill: var(--button-hover-fill-color);\n",
              "  }\n",
              "\n",
              "  .colab-df-quickchart-complete:disabled,\n",
              "  .colab-df-quickchart-complete:disabled:hover {\n",
              "    background-color: var(--disabled-bg-color);\n",
              "    fill: var(--disabled-fill-color);\n",
              "    box-shadow: none;\n",
              "  }\n",
              "\n",
              "  .colab-df-spinner {\n",
              "    border: 2px solid var(--fill-color);\n",
              "    border-color: transparent;\n",
              "    border-bottom-color: var(--fill-color);\n",
              "    animation:\n",
              "      spin 1s steps(1) infinite;\n",
              "  }\n",
              "\n",
              "  @keyframes spin {\n",
              "    0% {\n",
              "      border-color: transparent;\n",
              "      border-bottom-color: var(--fill-color);\n",
              "      border-left-color: var(--fill-color);\n",
              "    }\n",
              "    20% {\n",
              "      border-color: transparent;\n",
              "      border-left-color: var(--fill-color);\n",
              "      border-top-color: var(--fill-color);\n",
              "    }\n",
              "    30% {\n",
              "      border-color: transparent;\n",
              "      border-left-color: var(--fill-color);\n",
              "      border-top-color: var(--fill-color);\n",
              "      border-right-color: var(--fill-color);\n",
              "    }\n",
              "    40% {\n",
              "      border-color: transparent;\n",
              "      border-right-color: var(--fill-color);\n",
              "      border-top-color: var(--fill-color);\n",
              "    }\n",
              "    60% {\n",
              "      border-color: transparent;\n",
              "      border-right-color: var(--fill-color);\n",
              "    }\n",
              "    80% {\n",
              "      border-color: transparent;\n",
              "      border-right-color: var(--fill-color);\n",
              "      border-bottom-color: var(--fill-color);\n",
              "    }\n",
              "    90% {\n",
              "      border-color: transparent;\n",
              "      border-bottom-color: var(--fill-color);\n",
              "    }\n",
              "  }\n",
              "</style>\n",
              "\n",
              "  <script>\n",
              "    async function quickchart(key) {\n",
              "      const quickchartButtonEl =\n",
              "        document.querySelector('#' + key + ' button');\n",
              "      quickchartButtonEl.disabled = true;  // To prevent multiple clicks.\n",
              "      quickchartButtonEl.classList.add('colab-df-spinner');\n",
              "      try {\n",
              "        const charts = await google.colab.kernel.invokeFunction(\n",
              "            'suggestCharts', [key], {});\n",
              "      } catch (error) {\n",
              "        console.error('Error during call to suggestCharts:', error);\n",
              "      }\n",
              "      quickchartButtonEl.classList.remove('colab-df-spinner');\n",
              "      quickchartButtonEl.classList.add('colab-df-quickchart-complete');\n",
              "    }\n",
              "    (() => {\n",
              "      let quickchartButtonEl =\n",
              "        document.querySelector('#df-cc248591-8522-4da8-ba2d-a2b4594d8127 button');\n",
              "      quickchartButtonEl.style.display =\n",
              "        google.colab.kernel.accessAllowed ? 'block' : 'none';\n",
              "    })();\n",
              "  </script>\n",
              "</div>\n",
              "\n",
              "    </div>\n",
              "  </div>\n"
            ],
            "application/vnd.google.colaboratory.intrinsic+json": {
              "type": "dataframe",
              "variable_name": "df_test",
              "summary": "{\n  \"name\": \"df_test\",\n  \"rows\": 5622,\n  \"fields\": [\n    {\n      \"column\": \"inputs\",\n      \"properties\": {\n        \"dtype\": \"string\",\n        \"num_unique_values\": 5620,\n        \"samples\": [\n          \"Photo \\n \\n Many teenagers who never would have smoked cigarettes are now \\u201cvaping\\u201d with flavored e-cigarettes, leading to a new generation using nicotine at rates not seen since the 1990s, a new study suggests. \\n \\n The study, released Monday in the journal Pediatrics, tracked the use of cigarettes and e-cigarettes among 5,490 California high school seniors who graduated between 1995 and 2014. E-cigarettes do not burn tobacco, but are battery-operated inhalers that heat up and vaporize liquid containing flavors and nicotine, a practice known as vaping. The liquids used in vaping range in taste from traditional tobacco and menthol flavors to fruity and sweet combinations like gummi bear, banana bread and cotton candy. \\n \\n When e-cigarettes came on the market in 2007, some public health experts hoped that they would serve as a substitute for traditional tobacco products and lead to declines in tobacco use. \\n \\n But the data from the latest study, conducted by researchers at the University of Southern California, tell a different story. E-cigarettes do not appear to have made a dent in regular cigarette use \\u2014 the number of high school seniors who reported smoking tobacco in the past 30 days has largely plateaued. In 2004, the number of 12th graders who reported smoking tobacco in the past 30 days was 9 percent; in 2014 that number was just under 8 percent. \\n \\n But the rate of teenagers using nicotine \\u2014 either through tobacco cigarettes or e-cigarettes \\u2014 is on the rise. About 14 percent of Southern California high school seniors in 2014 said they had smoked or vaped in the last 30 days. Researchers say they have not seen similar levels of nicotine use among teenagers since 1995, when 12th-grade smoking rates were 19 percent. \\n \\n The numbers suggest that rather than prompting teenagers to replace cigarette smoking with vaping, e-cigarettes instead have enticed an entirely new group of teenagers to use nicotine. While the study focused on California teenagers, researchers say the numbers are consistent with national trends. \\n \\n \\u201cKids are not just using e-cigarettes instead of cigarettes. That is what we were frankly hoping to find,\\u201d said Jessica Barrington-Trimis, the lead author of the study and a postdoctoral scholar research associate in the department of preventive medicine at the U.S.C. Keck School of Medicine. All of the teenagers that were expected to be using cigarettes in 2014 are using them, she said, \\u201cand then there is a whole group of kids using e-cigarettes on top of that.\\u201d \\n \\n The amount of nicotine in the liquids used with e-cigarettes \\u2014 often called \\u201cvape juice\\u201d \\u2014 varies, and users can purchase liquid with no nicotine or nicotine content ranging from 3 milligrams per milliliter to 18 milligrams per milliliter or even higher. While earlier studies have suggested that some teens are using nicotine-free vaping liquids, researchers say the majority of teens appear to be using nicotine-infused liquid in their e-cigarettes. \\n \\n Dr. Jonathan Winickoff, professor of pediatrics at MassGeneral Hospital for Children and Harvard Medical School, who wrote an accompanying paper in Pediatrics, said this is the first study of e-cigarette use in adolescents to show such a strong longitudinal sample with such a drastic effect. \\n \\n \\u201cWe had a trend of decreasing nicotine use,\\u201d said Dr. Winickoff. \\u201cWhat the e-cigarette has done is halted that decrease in its tracks\\u2026. We don\\u2019t want a fifth of our high school students graduating with nicotine addiction.\\u201d \\n \\n While e-cigarettes do appear to be safer than smoking tobacco, they are not risk free. Nicotine disrupts neurotransmitter activity and is highly addictive, particularly in a developing brain. And the liquids contain solvents, formaldehyde and other ingredients that pose health risks when inhaled. \\n \\n While it\\u2019s true that there are nicotine-free vaping liquids, the e-cigarette industry is not regulated, which makes it hard to know what ingredients are actually in any given product. Though the Food and Drug Administration recently took jurisdiction over e-cigarettes, it will be years before any regulations are put into effect. Currently, many products continue to be made in China with little \\u2014 if any \\u2014 oversight by the United States. \\n \\n \\u201cThe F.D.A. has done tests on these vaping products that supposedly do and do not contain nicotine, and what is advertised is really not what\\u2019s in the product,\\u201d Dr. Winickoff said. \\u201cWhen the product is labeled as no nicotine, they\\u2019ve found nicotine. So kids don\\u2019t know what they\\u2019re getting, and as a pediatrician it really scares me.\\u201d \\n \\n Not everyone agrees that e-cigarettes pose a significant risk to teenagers. Dr. Michael Siegel, professor of community health sciences at the Boston University School of Public Health, countered that many teenagers say they are using e-cigarettes that contain only flavorings and no nicotine, and therefore are not getting addicted. \\n \\n \\u201cE-cigarette use among teenagers is a largely social phenomenon,\\u201d he said. \\u201cThe fact that you tend to see teenagers doing this in groups, not out in the cold vaping alone, suggests that e-cigarettes are not addictive.\\u201d \\n \\n But there is a growing body of research showing that e-cigarettes do serve as a gateway to traditional tobacco products. Last month, the U.S.C. researchers also reported in Pediatrics that adolescents who vape are six times more likely to smoke cigarettes in early adulthood as nonusers. \\n \\n \\u201cOnce kids get hooked on e-cigarettes, they are more likely to go on to become cigarette smokers,\\u201d said Stanton A. Glantz, director of the Center for Tobacco Control Research and Education at the University of California, San Francisco. ||||| Abstract BACKGROUND: Adolescent e-cigarette use has increased rapidly in recent years, but it is unclear whether e-cigarettes are merely substituting for cigarettes or whether e-cigarettes are being used by those who would not otherwise have smoked. To understand the role of e-cigarettes in overall tobacco product use, we examine prevalence rates from Southern California adolescents over 2 decades. METHODS: The Children\\u2019s Health Study is a longitudinal study of cohorts reaching 12th grade in 1995, 1998, 2001, 2004, and 2014. Cohorts were enrolled from entire classrooms in schools in selected communities and followed prospectively through completion of secondary school. Analyses used data from grades 11 and 12 of each cohort (N = 5490). RESULTS: Among 12th-grade students, the combined adjusted prevalence of current cigarette or e-cigarette use in 2014 was 13.7%. This was substantially greater than the 9.0% adjusted prevalence of current cigarette use in 2004, before e-cigarettes were available (P = .003) and only slightly less than the 14.7% adjusted prevalence of smoking in 2001 (P = .54). Similar patterns were observed for prevalence rates in 11th grade, for rates of ever use, and among both male and female adolescents and both Hispanic and Non-Hispanic White adolescents. CONCLUSIONS: Smoking prevalence among Southern California adolescents has declined over 2 decades, but the high prevalence of combined e-cigarette or cigarette use in 2014, compared with historical Southern California smoking prevalence, suggests that e-cigarettes are not merely substituting for cigarettes and indicates that e-cigarette use is occurring in adolescents who would not otherwise have used tobacco products. \\n \\n What\\u2019s Known on This Subject: E-cigarette use has increased rapidly in recent years among adolescents. It is unknown whether e-cigarettes are merely substituting for cigarettes or whether e-cigarettes are increasing total adolescent tobacco product use via initiation by those who would not otherwise have smoked. \\n \\n What This Study Adds: The high prevalence of combined e-cigarette or cigarette use in 2014, compared with historical Southern California smoking prevalence, suggests that e-cigarette use is occurring in adolescents who would not otherwise have used tobacco products. \\n \\n Since the introduction of electronic cigarettes into the US market in 2007,1 adolescent use has increased rapidly, particularly in the past several years. Data from the National Youth Tobacco Survey (NYTS), a nationally representative cross-sectional survey of adolescents in the United States, show that current (past 30-day) use of e-cigarettes increased exponentially from 1.1% in 2011 to 16.0% in 2015 among high school students.2\\u20136 While the prevalence of e-cigarette use is increasing, cigarette use is generally declining among adolescents; in the NYTS, current cigarette use among high school students fell from 15.8% in 2011 to 9.2% in 2014,2,3,5,6 continuing the decline in prevalence of cigarette use among adolescents from its most recent peak in the mid-1990s when the prevalence of current smoking reached 35%.7 Of note, the prevalence of cigarette smoking did not continue to decline from 2014 (9.2%) to 2015 (9.3%).6 In 2014, current use of e-cigarettes surpassed current cigarette use for the first time in several national studies (including the NYTS2 and the Monitoring the Future Study8), as well as in a number of local and state-level studies,9\\u201311 including our study of Southern California adolescents.12 \\n \\n There are multiple interpretations of recent trends in e-cigarette and cigarette use among adolescents. Adolescents who otherwise would have smoked may be using e-cigarettes instead of cigarettes. Alternatively, e-cigarettes may be recruiting new users who otherwise would not have initiated cigarette use (or perhaps any other tobacco product) if e-cigarettes were not available. Recent data from the 2015 NYTS found a small, nonsignificant increase in the use of any tobacco product from 2013 to 2015 (from 22.9% to 25.3%).2,6 The increase in overall tobacco product use appears to be largely driven by increases in e-cigarette and hookah use in 2013 and 2014, and continued increases in e-cigarette use in 2015, along with no decline in cigarette smoking from 2014 to 2015.2,3 Although these data provide insight into trends over the preceding 3 years, adolescent tobacco use has declined for >20 years.7 The impact of e-cigarettes on adolescent tobacco use trends that have evolved over longer periods is unknown. \\n \\n We analyzed data from the Southern California Children\\u2019s Health Study (CHS), a prospective study of 5 cohorts reaching 12th grade in 1995, 1998, 2001, 2004, and 2014, to describe patterns of smoking among adolescents across these years. On the basis of historical data on smoking initiation over the course of adolescence in these cohorts, we compared the rate of total e-cigarette or cigarette use in 2014 to the rate of cigarette use in 2004 before e-cigarettes were available; we hypothesized that an increase from this benchmark may indicate that e-cigarettes are currently being used by adolescents who would not otherwise have smoked if e-cigarettes were not available. \\n \\n Methods Study Sample The CHS is a prospective cohort study (1993\\u2013present), originally designed to study the effects of childhood air pollution exposure.13\\u201315 It comprises 5 cohorts of adolescents (Cohorts A\\u2013E) who were recruited and followed through 12th grade (Table 1). Recruitment methods and data collection procedures have been described previously.12\\u201315 Briefly, participants were enrolled from entire classrooms in schools in selected communities in Southern California12,14 in 10th grade (Cohort A, 1993), seventh grade (Cohort B, 1993), fourth grade (Cohort C, 1993 and Cohort D, 1996), kindergarten (Cohort E1, 2003), or first grade (Cohort E2, 2003). The current analysis uses available data from grades 11 and 12 of each cohort from participants who answered questions about tobacco product use (N = 5490; 11th grade: mean age [SD] = 16.9 [0.4]; 12th grade: mean age [SD] = 17.9 [0.4]. In Cohorts A through D, history of cigarette use was collected by in-person interview every year at schools as they were followed over time.15,16 Among participants in Cohorts A through D with data available from 11th or 12th grade, 85.7% of the sample provided information on smoking history in both 11th and 12th grades and therefore contributed to prevalence estimates in both years; 10.6% contributed to 11th grade analyses only and 3.7% contributed to 12th grade analyses only. In Cohorts E1 and E2, who were separated by 1 grade, smoking history was collected every other year, so both 11th- and 12th-grade subjects were included in the 2014 survey. In 2014, smoking history in Cohorts E1 and E2 was collected by self-administered questionnaires under study staff supervision. Cohort A through D subjects were all recruited from the same 12 communities; Cohorts E1 and E2 were recruited from 13 communities, of which 12 participated in the 2014 data collection and 8 were the same as Cohorts A through D. TABLE 1 Grade of Adolescents Included in Each Cohort in Each Year of the CHS, 1994\\u20132014 Ethics Statement The study was approved by the University of Southern California Institutional Review Board. Written informed consent was obtained before data collection. Cigarette and E-Cigarette Use In all CHS cohorts, participants were asked the number of cigarettes or packs of cigarettes that they had smoked in the past 24 hours, past week, past month, past year, and in their lifetime. In each year, participants were classified as current users if they reported smoking \\u22651 cigarettes in the past 24 hours, past week, or past month; participants were classified as ever users if they reported either (1) use in the past year or in their lifetime or (2) listed an age at which they had first smoked. This classification was used for all prevalence estimates of cigarette use alone, across all cohorts. In 2014, smoking history was assessed in Cohort E participants (in grades 11 and 12) using the same question as in Cohorts A through D, along with 2 additional questions that asked about the age at which each participant had first used a cigarette (\\u201ceven 1 or 2 puffs\\u201d) and the number of days smoked in the past 30 days. In addition, use of e-cigarettes was assessed for the first time using the new questions. Adolescents who had used cigarettes or e-cigarettes on at least 1 of the past 30 days were classified as \\u201ccurrent users\\u201d of that product. \\u201cEver users\\u201d were adolescents who reported having ever tried a product. Analyses evaluating combined product use of cigarettes or e-cigarettes in Cohorts E1 and E2 were based on responses to the new questions. The prevalence rates both for current and ever cigarette use were quite similar using either set of questions, differing by 0.1% for current use and 1.6% for prevalence of ever smoking, and the results of analyses were not substantively different using either set of questions. Therefore, in Cohort E we used the prevalence rates derived from the new questions about cigarette use, which we have reported previously12 and which were common to those used to assess e-cigarette prevalence rates. Statistical Analysis Prevalence estimates for ever and current cigarette use were calculated by cohort and grade, using the questionnaire items assessed across all cohorts. In Cohort E (in 2014), we calculated the combined prevalence of cigarette or e-cigarette use (ever or current), which included adolescents who reported use of either product or dual use of both products. Logistic regression models were used to estimate smoking prevalence for each cohort by grade, with adjustment for self-reported sex, ethnicity (Hispanic, non-Hispanic white, or other), and parental education (less than high school education, high school graduate, some college, college degree, some graduate school or higher, unknown/missing). Adjusted models were used to account for the different distribution across cohorts of socioeconomic factors known to be associated with cigarette use. These models were applied separately to current smoking and ever smoking. The distributions of sex, ethnicity, and parental education in Cohort E were used as the reference for calculating the adjusted prevalence estimates from the logistic model. Logistic regression models were also used to evaluate trends in the prevalence of cigarette use (ever or current) over calendar time, by including year of data collection as a continuous predictor variable in separate analyses by grade. Logistic regression models with an interaction term were used to evaluate whether the pattern of cigarette use across cohorts varied by ethnicity or sex. In analyses to assess the sensitivity of results to the participation of different Southern California communities in different cohorts, we additionally restricted analyses to the 8 communities common to all years of all cohorts and adjusted for community. The Statistical Analysis System (SAS, version 9.4) was used for analyses, and figures were created using Stata, version 13.1. All hypothesis testing was conducted assuming a .05 significance level. \\n \\n Results Demographic characteristics for each cohort are shown in Table 2. The earlier cohorts (A\\u2013D) included a greater proportion of non-Hispanic white adolescents (54%\\u201359%), whereas Cohorts E1 and E2 included more Hispanic adolescents (49%\\u201353%). The distributions of the highest level of parental education differed among the cohorts. TABLE 2 Demographic Characteristics of Participants Enrolled in the CHS, by Cohort, 1994\\u20132014, N = 5490 The adjusted prevalence of current smoking among high school students decreased over time from 1995 to 2014 in both 11th and 12th grades (P trend < .0001; Fig 1 A and B). Among 12th-grade students in Cohort A (1995), the adjusted prevalence of current smoking was 19.1%; prevalence of use decreased to 17.1% in Cohort B (1998), 14.7% in Cohort C (2001), 9.0% in Cohort D (2004), and 7.8% in Cohort E (2014). Although the prevalence of current cigarette use was lowest among students in both grades in 2014, the combined prevalence of current cigarette and/or e-cigarette use was similar to or greater than that for cigarette use alone 10 to 15 years ago, before e-cigarettes were available (Fig 1 A and B). For example, among 12th-grade students, the adjusted prevalence of combined use of either product in 2014 was 13.7% (3.8% dual users of cigarettes and e-cigarettes, 3.9% cigarette only users, and 6.0% e-cigarette only users), which was similar to the 14.7% prevalence of cigarette use in 2001 (P = .54), and nearly 5 percentage points higher than the adjusted prevalence of current cigarette use in 2004 (9.0%; P = .003). FIGURE 1 Adjusted prevalence estimates among adolescents in the CHS by cohort for current cigarette use (all cohorts), and current cigarette or e-cigarette use (Cohort E) in (A) grade 11 and (B) grade 12 and for ever cigarette use (all cohorts) and ever cigarette or e-cigarette use (Cohort E) in (C) grade 11 and (D) grade 12, 1994\\u20132014. The prevalence of ever cigarette use followed similar patterns of an overall decrease over time across Cohort A (1994\\u20131995) to Cohort E (2014) for both 11th- and 12th-grade students (P trend < .0001; Fig 1 C and D). However, the 11th- and 12th-grade prevalence rates for ever cigarette use in 2014 were not statistically significantly lower than the prevalence in Cohort D 10 years earlier in 2003\\u20132004 (P = .59, 0.56, respectively). The prevalence of combined ever use of cigarettes or e-cigarettes also surpassed rates of ever cigarette use more than a decade ago. Among 12th-grade students, the adjusted prevalence of ever use of either cigarettes or e-cigarettes in 2014 was 32.1%, substantially higher than the adjusted prevalence of ever cigarette use in 2004 (20.4%; P < .0001), and slightly higher than the adjusted prevalence in 2001 (30.2%; P = .41). Among both male and female adolescents, the prevalence of cigarette or e-cigarette use (ever or current) in both 11th and 12th grades in 2014 was higher than the prevalence of smoking in 2003\\u20132004 and was generally similar to the prevalence of smoking in 2000\\u20132001 (Fig 2 A\\u2013D). There was no difference between sexes in these patterns of decline in smoking over time (interaction P > .05). The prevalence of current and ever use of cigarettes within cohorts was higher among male than among female adolescents, with more pronounced differences observed among 12th-grade students; combined rates of e-cigarette or cigarette use in 2014 were also larger in male than female adolescents. FIGURE 2 Prevalence estimates among adolescents in the CHS by cohort and sex for current cigarette use (all cohorts) and current cigarette or e-cigarette use (Cohort E) in (A) grade 11 and (B) grade 12 and for ever cigarette use (all cohorts) and ever cigarette or e-cigarette use (Cohort E) in (C) grade 11 and (D) grade 12, 1994\\u20132014. The prevalence of current and ever smoking also decreased over time from 1994 to 2014 among both non-Hispanic white adolescents and Hispanic adolescents (P < .0001; Fig 3 A\\u2013D; interaction P for ethnicity >.05). In both ethnic groups, the combined prevalence of current cigarette or e-cigarette use in 2014 exceeded the rate of current cigarette use in 2003 (11th grade) or 2004 (12th grade). For example, among non-Hispanic white 12th-grade students, the combined rate of current cigarette or e-cigarette use in 2014 in Cohort E was identical to the rate of smoking in 2001 (17.2%; 5.0% dual use, 4.4% cigarette only use, 7.8% e-cigarette only use); the rate of combined use among Hispanic white adolescents in 2014 (12.0%; 2.9% dual use, 5.0% cigarette only use, 4.1% e-cigarette only use) was >3 percentage points higher than the rate of smoking in 2004 (8.8%) and only slightly less than the rate of smoking in 2001 (13.8%). Similar patterns were observed for ever use in both ethnicities; the combined rate of cigarette or e-cigarette use in 2014 in 11th- and 12th-grade students was higher than the rates of smoking 10 years earlier in both ethnic groups. We did observe differences in rates of smoking within cohorts between Hispanic and non-Hispanic white study participants. Current smoking prevalence was consistently higher among non-Hispanic white adolescents than among Hispanic white adolescents (Fig 3 A and B), but ever use was generally similar or modestly higher among Hispanic white adolescents than among non-Hispanic white adolescents (Fig 3 C and D). In 2014 the combined prevalence of e-cigarette or cigarette use (both current and ever) was greater in Hispanic whites than non-Hispanic whites in 11th grade, which appears to result from higher prevalence of cigarette only use (dual and e-cigarette only use was similar across both groups). In 12th grade, the combined prevalence of e-cigarette or cigarette use was greater in non-Hispanic whites than Hispanic white youth, largely resulting from greater levels of e-cigarette and dual product use. FIGURE 3 Prevalence estimates among adolescents in the CHS by cohort and by ethnicity for current cigarette use (all cohorts), and current cigarette or e-cigarette use (Cohort E) in (A) grade 11 and (B) grade 12 and for ever cigarette use (all cohorts) and ever cigarette or e-cigarette use (Cohort E) in (C) grade 11 and (D) grade 12, 1994\\u20132014. HW, Hispanic white; NHW, non-Hispanic white. In analyses restricted to the 8 communities with data available across all cohorts, trends in prevalence across cohorts and across grades within cohorts, as well as the ethnic- and sex-specific patterns, were similar to those observed in the entire sample (data not shown). \\n \\n Discussion These Southern California communities have experienced a marked decrease in adolescent cigarette use over the past 2 decades. However, among both 11th- and 12th-grade students, the combined prevalence of current cigarette or e-cigarette use in 2014 was substantially greater than the prevalence of smoking in 2004 (among 12th graders, eg, 13.7% and 9.0%, respectively) and was almost as high as the prevalence of smoking in 2001 (14.7% for 12th graders). This substantially increased combined prevalence of cigarette smoking or e-cigarette use in 2014, compared with smoking rates a decade earlier, when e-cigarettes were not available, suggests that e-cigarettes are not used only by adolescents who would otherwise be smoking cigarettes. If, for example, the current rates of smoking would not have changed from 2004 to 2014 in the absence of e-cigarettes, then 1.2% of adolescents in Southern California, the difference between the 7.8% adjusted prevalence of cigarette use in 2014 and 9.0% in 2004, may be substituting e-cigarettes for cigarettes. An additional 4.7% of e-cigarette users, the difference between the 13.7% combined prevalence of e-cigarette or cigarette use in 2014 and the 9.0% prevalence of cigarette use in 2004 likely would not have used cigarettes if e-cigarettes were not available, under the assumption that the rate of smoking from 2004 to 2014 would not have changed. The assumption that smoking rates would not have decreased in the absence of e-cigarettes likely makes this estimate of the proportion of e-cigarette users who would not otherwise have used cigarettes conservative. The general prevalence patterns and the findings compared with the 2004 data were similar among Hispanic and non-Hispanic white participants and in male and female participants; thus, tobacco control interventions geared toward youth are equally needed for youth of both sexes and ethnicities. The prevalence of cigarette use or combined use (Cohort E only) did differ by gender and ethnicity within each cohort. Hispanic adolescents were less likely to report cigarette use in each cohort among both 11th- and 12th-grade students but as likely to report ever use, a pattern consistent with historically reported ethnic comparisons.3,7,17,18 Male respondents were generally more likely to report use of cigarettes, e-cigarettes, or combined use of cigarettes or e-cigarettes, which is also consistent with previous literature.2,7,12,19 A major strength of this study is the use of >20 years of data collected across 5 cohorts drawn from the same CHS communities to assess patterns of change in cigarette use in Southern California. Because all results were adjusted for the Cohort E distribution of race/ethnicity, sex, and parental education, it is unlikely that differences across cohorts were influenced by changes in sociodemographic characteristics of the population over time. The study is also subject to some limitations. Data on use of tobacco products other than cigarettes were not collected from earlier cohorts. Thus, the contribution of hookah, cigar/cigarillo, pipe, or smokeless tobacco use to the prevalence of all tobacco product use in earlier cohorts is not known. Data from the NYTS have shown relatively stable prevalence of use of cigars and smokeless tobacco from 2000 to 2012,20 followed by a decrease in cigar and pipe use and in smokeless tobacco use from 2011 to 2014.2 Although national results may not be generalizable to Southern California (and vice versa), we cannot exclude the possibility that e-cigarette use is substituting for these combustible tobacco products. No data are available on trends in hookah use across the periods of interest in this study, but prevalence of hookah use increased in the NYTS from 2011 to 2014,2 so it seems unlikely that the increase in prevalence of e-cigarette use during this period reflects substitution of e-cigarettes for hookah use among participants who otherwise would have smoked hookah use in previous cohorts. Analyses were restricted to Hispanic youth (historically an underrepresented population in tobacco regulatory science research) and non-Hispanic white youth, who comprise the majority of the Southern California population; the prevalence estimates were imprecise in other racial/ethnic groups in our study, which made up <20% of the sample. Additional research is needed to determine whether similar patterns of product use over time occurred in other racial groups and in other geographic regions. E-cigarettes have gained popularity in recent years, in part because of availability in a wide variety of flavorings21 that may be appealing to adolescents and young adults,22 the perception that e-cigarettes are less harmful than smoking,23 absence or poor enforcement of regulations on indoor use,24 and the recent popularity of product-specific venues that encourage use of these products in social situations, such as vape shops.25 Such characteristics of e-cigarettes may be recruiting new users who are deterred from initiating cigarettes because of concerns about the health hazards of smoking and social stigmatization of cigarette use.7 There is concern that the increasing prevalence of e-cigarette use could even lead to initiation of smoking among previously nonsmoking adolescent e-cigarette users in what has been described as a \\u201cgateway effect,\\u201d either as a result of social normalization of alternative product use and smoking behaviors more generally, leading to renormalization of smoking or by directly increasing use of cigarettes through establishment of reward seeking behaviors (eg, nicotine dependence).26\\u201330 Although our results demonstrated a decline in cigarette use in the past decade, we also have observed a markedly increased likelihood of intention to use cigarettes31 among e-cigarette users in the CHS in 2014 who had never smoked, results which are consistent with 2 recent studies examining the association of e-cigarette use with susceptibility to smoking,28,30 and recent longitudinal studies that have found that never-smoking e-cigarette users were more likely to report use of cigarettes a year later than never e-cigarette users.32\\u201334 The use of e-cigarettes by nonsmoking adolescents poses several potential public health problems. First, use of e-cigarettes containing nicotine may directly contribute to nicotine dependence in late adolescence or early adulthood, putting adolescents at risk for lifelong nicotine dependence.35,36 Use of e-cigarettes, even without nicotine, may normalize tobacco product use behaviors more generally, which could then lead to increased rates of addiction via use of other nicotine-containing products, including cigarettes and other harmful combustible tobacco products.35\\u201337 Second, in addition to lifelong problems associated with nicotine dependence, exposure to nicotine in adolescence adversely affects cognitive function and development.19 There is also evidence that e-cigarettes may generate aldehydes and other toxic chemicals and that flavoring additives may induce adverse respiratory health effects in e-cigarette users.38 Although the adverse health effects of e-cigarettes may be less than those of cigarettes, the long-term consequences of e-cigarette use are not known because these products have been on the market for less than a decade. \\n \\n Conclusions Longitudinal data on emerging adolescent tobacco and alternative tobacco product use, including detailed information on topography of e-cigarette use and dose of nicotine, are needed to understand the role of e-cigarettes in nicotine addiction and whether e-cigarette users who have not used combustible cigarettes will, in the future, continue using e-cigarettes only, quit using tobacco products altogether, or progress to combustible cigarette users or dual users of both products. However, the high combined prevalence of e-cigarette use or cigarette use in 2014, compared with historical Southern California smoking prevalence, suggests that adolescents are not merely substituting e-cigarettes for cigarettes but that e-cigarettes are instead recruiting a new group of users who would not likely have initiated combustible tobacco product use in the absence of e-cigarettes, which poses a potential threat to the public health of adolescent populations. ||||| E-Cigarettes 101 \\n \\n \\n \\n WebMD Feature By R. Morgan Griffin WebMD Feature \\n \\n Reviewed by Jennifer Robinson, MD \\n \\n WebMD Feature Archive \\n \\n Electronic cigarettes: Are they safer than tobacco? Or are they a high-tech way to hook a new generation on a bad nicotine habit? \\n \\n Nobody knows yet. \\n \\n Research into the effects of e-cigarettes lags behind their popularity. But ready or not, the era of e-cigarettes is here. It\\u2019s a booming, billion-dollar industry -- on track to outsell tobacco products within a decade. The number of teens and tweens using these products doubled between 2011 and 2012. \\n \\n The time to get informed about these products is now. \\n \\n How E-Cigarettes Work \\n \\n They look like the real thing. The end glows as you inhale. As you exhale, you puff out a cloud of what looks like smoke. It's vapor, similar to the fog you might see at rock shows, says M. Brad Drummond, MD. He's an assistant professor of medicine at Johns Hopkins University School of Medicine. \\n \\n All e-cigarettes work basically the same way. Inside, there's a battery, a heating element, and a cartridge that holds nicotine and other liquids and flavorings. Features and costs vary. Some are disposable. Others have a rechargeable battery and refillable cartridges. \\n \\n Using an e-cigarette is called \\\"vaping.\\\" \\n \\n Are They Safe? \\n \\n The nicotine inside the cartridges is addictive. When you stop using it, you can get withdrawal symptoms including feeling irritable, depressed, restless and anxious. It can be dangerous for people with heart problems. It may also harm your arteries over time. \\n \\n So far, evidence suggests that e-cigarettes may be safer than regular cigarettes. The biggest danger from tobacco is the smoke, and e-cigarettes don't burn. Tests show the levels of dangerous chemicals they give off are a fraction of what you'd get from a real cigarette. But what's in them can vary. \\n \\n \\\"E-cigarettes may be less harmful than cigarettes,\\\" Drummond says. \\\"But we still don't know enough about their long-term risks or the effects of secondhand exposure.\\\" \\n \\n Pro and Con \\n \\n E-cigarettes have triggered a fierce debate among health experts who share the same goal -- reducing the disease and death caused by tobacco. But they disagree about whether e-cigarettes make the problem better or worse. ||||| Nicotine experimentation could become nicotine addiction for youth who never used any other tobacco products, USC study suggests \\n \\n A new USC study debunks the popular belief that electronic cigarettes are merely a substitute for cigarettes among teens. Instead, the study suggests that some teens who never would have smoked cigarettes are now vaping. \\n \\n E-cigarettes, which entered the U.S. market in 2007, vaporize liquids that may or may not contain nicotine. In 2011, about 1.5 percent of high schoolers had vaped in the past 30 days, according to the National Youth Tobacco Survey. Four years later, that number skyrocketed to 16 percent. \\n \\n A USC study of 5,490 high school juniors and seniors shows tobacco use among teens in Southern California is on the rise. \\n \\n In 2014, about 14 percent of 12th-graders said they had either smoked or vaped in the previous 30 days. A decade earlier -- before e-cigarettes were sold in the United States -- 9 percent of surveyed teens in this age group reported that they had smoked, said Jessica Barrington-Trimis, lead author and a postdoctoral scholar research associate in the Department of Preventive Medicine at the Keck School of Medicine of USC. \\n \\n \\\"If teenagers who vape are using e-cigarettes instead of cigarettes, we would have expected to see the decline in smoking rates continue through 2014,\\\" Barrington-Trimis said. \\\"But what we've seen is a downward trend in cigarette use from 1995 to 2004 but no further decrease in cigarette smoking rates in 2014. The combined e-cigarette and cigarette use in 2014 far exceeded what we would have expected if teens were simply substituting cigarettes with e-cigarettes. The data suggest that at least some of the teens who are vaping would not have smoked cigarettes.\\\" \\n \\n The study, published on July 11 in the journal Pediatrics, followed five groups of high schoolers who graduated in 1995, 1998, 2001, 2004 and 2014. Researchers collected the history of tobacco use in an individually administered questionnaire. \\n \\n Cigarette use is the largest preventable cause of death and disease in the United States. Cigarette smoking kills more than 480,000 Americans annually, according to the Centers for Disease Control. \\n \\n \\\"An important question in the rapidly evolving landscape of youth tobacco product use is whether e-cigarettes are replacing cigarettes,\\\" said Rob McConnell, the study's senior author and professor of preventive medicine at Keck Medicine of USC. \\\"However, use of e-cigarettes by youth who would not otherwise have smoked results in exposure to the hazards of inhaled vaporized liquids and flavorings in e-cigarettes and may result in exposure to nicotine that can damage the adolescent brain.\\\" \\n \\n USC is one of 14 U.S. research institutions that received National Institutes of Health funding to establish the Tobacco Centers of Regulatory Science. \\n \\n What the numbers suggest \\n \\n The National Youth Tobacco Survey has reported a long-term decline in teen smoking rates followed by a leveling off between 2014 and 2015. \\n \\n The USC study found that the number of 12th-graders in Southern California who had smoked in the past 30 days dropped from 19 percent in 1995 to about 9 percent in 2004 and then leveled off, with the rate of smoking just under 8 percent in 2014. \\n \\n But when cigarettes and e-cigarettes were combined, some 14 percent of high school seniors in 2014 said they had smoked or vaped in the last 30 days. \\n \\n \\\"Because e-cigarettes are perceived as less harmful and less dangerous than combustible cigarettes, another concern is that teens may be introduced to nicotine use via e-cigarettes,\\\" Barrington-Trimis said. \\\"In California, where smoking rates are among the lowest in the country, the increase in vaping, possibly followed by increases in smoking, could erode the progress that has been made over the last several decades in tobacco control.\\\" \\n \\n A perilous experiment \\n \\n In fact, older teens who experiment with electronic cigarettes are six times more likely to try regular cigarettes within about a year when compared to those who have never vaped, reported Barrington-Trimis and her USC colleagues in a study published last month in Pediatrics. \\n \\n Although some e-liquid providers say their products do not contain nicotine, this industry has not been regulated until just recently. The U.S. Food and Drug Administration announced plans to regulate all tobacco products -- including e-cigarettes, cigars and hookah tobacco -- in May. Last month, California became the second state, behind Hawaii, to raise the age of tobacco purchase -- including e-cigarettes -- from 18 to 21. \\n \\n \\\"E-cigarettes may be recruiting a new group of kids to tobacco use,\\\" Barrington-Trimis said. \\\"E-cigarettes may be safer than regular cigarettes for adults who are transitioning from smoking to vaping, but for youth who have never used any other tobacco products, nicotine experimentation could become nicotine addiction.\\\" \\n \\n ### \\n \\n The study was supported by the National Institutes of Health National Cancer Institute and the Food and Drug Administration Center for Tobacco Products (P50CA180905). ||||| Abstract BACKGROUND: There has been little research examining whether e-cigarette use increases the risk of cigarette initiation among adolescents in the transition to adulthood when the sale of cigarettes becomes legal. METHODS: The Children\\u2019s Health Study is a prospectively followed cohort in Southern California. Data on e-cigarette use were collected in 11th and 12th grade (mean age = 17.4); follow-up data on tobacco product use were collected an average of 16 months later from never-smoking e-cigarette users at initial evaluation (n = 146) and from a sample of never-smoking, never e-cigarette users (n = 152) frequency matched to e-cigarette users on gender, ethnicity, and grade. RESULTS: Cigarette initiation during follow-up was reported by 40.4% of e-cigarette users (n = 59) and 10.5% of never users (n = 16). E-cigarette users had 6.17 times (95% confidence interval: 3.30\\u201311.6) the odds of initiating cigarettes as never e-cigarette users. Results were robust to adjustment for potential confounders and in analyses restricted to never users of any combustible tobacco product. Associations were stronger in adolescents with no intention of smoking at initial evaluation. E-cigarette users were also more likely to initiate use of any combustible product (odds ratio = 4.98; 95% confidence interval: 2.37\\u201310.4), including hookah, cigars, or pipes. CONCLUSIONS: E-cigarette use in never-smoking youth may increase risk of subsequent initiation of cigarettes and other combustible products during the transition to adulthood when the purchase of tobacco products becomes legal. Stronger associations in participants with no intention of smoking suggests that e-cigarette use was not simply a marker for individuals who would have gone on to smoke regardless of e-cigarette use. \\n \\n What\\u2019s Known on This Subject: Three studies have found associations between e-cigarette use and subsequent cigarette use in adolescents. However, the risk of initiation of cigarettes as adolescents reach an age at which the purchase of tobacco products becomes legal is unknown. \\n \\n What This Study Adds: Adolescents who reported e-cigarette use had more than six times the odds of initiating cigarette use as never e-cigarette users. These findings suggest e-cigarette use may increase the risk of smoking during the transition to adulthood. \\n \\n Adolescent use of e-cigarettes has increased rapidly in recent years,1 with several studies reporting higher rates of e-cigarette use than combustible cigarette use among high school students in 2014.1\\u20136 Among high school students in the National Youth Tobacco Survey, 13.4% of adolescents reported past 30-day use of e-cigarettes in 2014, compared with 9.2% of adolescents who reported past 30-day use of cigarettes.1 Among high school students participating in the Southern California Children\\u2019s Health Study (CHS), we found that 24.0% had ever tried e-cigarettes (including 9.6% who reported use in the past 30 days), compared with 18.7% who had tried cigarettes (5.7% in the past 30 days); >40% of e-cigarette users had never smoked a combustible cigarette.6 A critical question is whether e-cigarette use in adolescents who have never smoked cigarettes will lead to subsequent initiation of cigarette or other combustible product use. \\n \\n The initial data addressing this question came from several cross-sectional studies that examined the association between e-cigarette use and self-reported intention to use cigarettes among adolescents with no previous history of cigarette use, using validated survey measures.7\\u201313 E-cigarette users, representing several age groups and geographic locations, had 2 to 4 times the odds of indicating an intention to use cigarettes as never users,7,8 results consistent with those we reported in the CHS.9 To date there have been 3 reports from prospective cohort studies examining the relationship between e-cigarette use and subsequent initiation of combustible cigarette use in adolescence, including a study of 9th-grade students (mean age 14.1),14 a second study of 9th and 10th-grade students (mean age 14.7),15 and another small study of 16- to 26-year-olds, with few never-smoking e-cigarette users at baseline that was not able to examine associations within specific developmental periods in this age range.16 All studies found that e-cigarette use was associated with elevated risk of initiation of combustible cigarettes. However, the risk of initiation of combustible cigarettes is likely to vary by age17; the developmental context of the end of high school is unique, because those turning 18 face particular challenges associated with the transition to adulthood, including postsecondary education or employment seeking, which co-occur at the age (18 years) at which the purchase of tobacco products becomes legal. \\n \\n We examined whether e-cigarette use among older adolescents in the transition to adulthood leads to greater likelihood of initiation of cigarettes as they reach the legal age to purchase cigarettes. We used prospective data from the CHS, a population-based cohort of adolescents from whom data on e-cigarette use were first collected in grades 11 or 12 (mean age 17.4) in spring of 2014, to examine risk of initiation of combustible tobacco products at follow-up (median 15.6 months later). We hypothesized that never-smoking e-cigarette users in this critical age range would be more likely than never-smoking never e-cigarette users to begin using combustible cigarettes during the subsequent year. \\n \\n Methods Study Design and Sample Participants enrolled in the CHS completed the initial evaluation questionnaire in school classrooms when they were in 11th or 12th grade. Questionnaires were completed with study staff supervision between January 2014 and June 2014, when use of e-cigarettes was first assessed in the cohort.6,18 To maximize efficiency in the design of the prospective follow-up study to evaluate the risk of cigarette and other combustible tobacco product initiation associated with e-cigarette use, we used an exposure frequency-matched cohort study design in which we contacted never-smoking e-cigarette users and a sample of never-smoking never e-cigarette users to complete a follow-up questionnaire (Fig 1). We attempted to contact all never-smoking e-cigarette users (n = 213) and a randomly selected frequency matched sample of never-smoking, never e-cigarette users (n = 213) from among all never-smoking never e-cigarette users in the cohort at initial evaluation; never-users were frequency matched to e-cigarette users by gender, ethnicity, and grade (11 or 12). Participants completed an online follow-up questionnaire between February 2015 and March 2016. Follow-up questionnaires were completed by 149 (70.0%) e-cigarette users and 154 (72.3%) never e-cigarette users; 146 e-cigarette users and 152 never users provided complete data on their use of cigarettes between initial evaluation and follow-up and were included in analyses. All participants were 18 years of age or older at follow-up. Participants turning 18 were sent a link to the follow-up online survey by e-mail (using e-mail address provided at the 11th- and 12th-grade data collection); additional attempts to contact participants were made by text message and telephone calls. Those not responding or who had not provided other contact information were sent letters soliciting participation to the last known residential address or were contacted through parents or other contacts previously provided by participants. FIGURE 1 Selection of participants for assessment of the association between e-cigarette use and subsequent initiation of combustible cigarettes. Ethics Statement The study was approved by the University of Southern California Institutional Review Board. Participants aged 18 or older provided written informed consent. Written parental informed consent and student assent were obtained for all CHS participants before data collection in 2014. Measures Tobacco and Alternative Tobacco Product Use At each survey, participants were asked whether they had ever tried e-cigarettes, cigarettes, cigars, pipes, or hookah and the number of days each product was used in the past 30 days.6 Participants who had \\u201cnever tried\\u201d a product (not \\u201ceven 1 or 2 puffs\\u201d) were classified as \\u201cnever users.\\u201d Those reporting an age at first use of each tobacco product were classified as \\u201cever users\\u201d of that product. All analyses were restricted to never cigarette smokers at initial evaluation. Sociodemographic Characteristics Self-administered questionnaires completed by parents of participants18 were used to assess gender, ethnicity (Hispanic, non-Hispanic white, other), and parental education (highest level of education of either parent; <12th grade, high school diploma or general equivalency diploma, some college, college degree, some graduate school or higher). Susceptibility to Cigarette Use Susceptibility to tobacco product use has been defined as the absence of a firm commitment not to smoke.10,11,13 In the current study, susceptibility to future cigarette use was assessed using validated measures (see Supplemental Material). Adolescents were classified as having no susceptibility if they responded \\u201cdefinitely not\\u201d to questions about intention to initiate use of cigarettes in the future.10 Social Environment The cigarette social environment was evaluated based on the following questions: (1) \\u201cHow many of your 4 closest friends use [cigarettes]?\\u201d (0\\u20134 friends); (2) \\u201cHow would your best friends act toward you if you used [cigarettes]?\\u201d (very unfriendly, unfriendly, friendly, or very friendly); and (3) \\u201cDoes anyone who lives with you now use [cigarettes]?\\u201d (yes/no). These factors have been strongly associated with cigarette use17 and more recently have been associated with e-cigarette use in the CHS.6 Statistical Analysis On the basis of prospectively collected data, we used unconditional logistic regression models to evaluate the association between e-cigarette use at initial evaluation and subsequent cigarette use at follow-up. Odds ratios (ORs) and 95% confidence intervals (CIs) were used to estimate the odds of smoking initiation. All models were adjusted for gender, ethnicity, grade and highest parental education, factors that have been associated both with e-cigarette use and cigarette use in previous studies.17,19 Potential confounding by history of combustible tobacco use other than cigarettes at initial evaluation, social environment characteristics, age at initial evaluation, age at follow-up, and time from initial evaluation to follow-up (in months) was evaluated on the basis of a change in effect estimate of >10% with inclusion of any of these variables. A missing indicator category was included where appropriate. Formal tests of interaction were used to evaluate whether effect estimates differed by gender, ethnicity (Hispanic white, non-Hispanic white, other), grade (11 or 12), ever use of hookah (a combustible product that has been previously associated with e-cigarette use,20 yes versus no), or susceptibility to smoking at initial evaluation (yes vs no). Additional analyses evaluated the risk of initiation of any combustible tobacco product (cigarettes, cigars, hookah, or pipes) associated with e-cigarette use at initial evaluation. Polytomous regression models were used to evaluate the risk of initiation of cigarette use (but no use in the past 30 days) and the risk of past 30-day cigarette use, relative to participants not initiating use of cigarettes. In sensitivity analyses, models evaluating the risk of initiation of cigarettes were restricted to nonusers of any combustible tobacco product at initial evaluation (cigarettes, cigars, hookah, pipes). All statistical analyses were based on 2-sided hypotheses tested at a .05 level of significance. Analyses were performed using SAS 9.4. Role of the Funding Source The funder had no role in the design and conduct of the study; collection, management, analysis, or interpretation of the data; or preparation, review, or approval of the manuscript. \\n \\n Results E-cigarette users and never users were similar on matching factors (gender, ethnicity, grade) and parental education. In adjusted models males were more likely to initiate cigarette use (OR = 1.84; 95% CI: 1.04\\u20133.26; Table 1). Adolescents who were classified as susceptible to cigarette use were more likely to report e-cigarette use at initial evaluation (OR = 2.48; 95% CI: 1.44\\u20134.27) and to report cigarette use at follow-up (OR = 3.03; 95% CI: 1.71\\u20135.39). Having one or more friends who smoked combustible tobacco products also increased the likelihood of e-cigarette use at initial evaluation (OR = 2.61; 95% CI: 1.35\\u20135.06) and cigarette use at follow-up (OR = 2.58; 95% CI: 1.30\\u20135.09); having friends who were friendly to cigarette use was associated with e-cigarette use at initial evaluation (OR = 2.13; 95% CI: 1.24\\u20133.65) but not with cigarette use at follow-up. The median age of participants at initial evaluation was 17.4 years (interquartile range [IQR]: 16.8\\u201317.9); median age at follow-up was 18.6 years (IQR: 18.3\\u201319.0 years); median time from initial evaluation to follow-up was 15.6 months (IQR: 12.6\\u201318.2 months). TABLE 1 Demographic Characteristics of Participants by E-Cigarette Use at Initial Assessment and by Cigarette Use at Follow-up, N = 298 To assess the potential for selection bias, we compared sociodemographic characteristics of study participants for whom follow-up data were obtained with those lost to follow-up. Participants from whom follow-up data were collected were more likely to have a parent with at least a college education (Supplemental Table 5). No notable differences in gender, ethnicity, grade, or susceptibility to cigarette use were observed between retained participants and those lost to follow up. Among never e-cigarette users at initial evaluation, 16 (10.5%) reported use of cigarettes at follow-up; among ever e-cigarette users at the initial evaluation, 59 (40.4%) reported use of cigarettes at follow-up (Table 2). The adjusted OR for the association of e-cigarette use with subsequent smoking of combustible cigarettes was 6.17 (95% CI: 3.30\\u201311.6). After further adjustment for cigar, pipe, or hookah use at initial evaluation, the association of e-cigarette use with subsequent smoking was slightly attenuated but still statistically significant (OR = 5.48; 95% CI: 2.69\\u201311.2). Results did not differ appreciably after additional adjustment for social environment characteristics at initial evaluation (whether others in the home smoked, number of friends who smoked, friends\\u2019 attitudes toward smoking), age at initial evaluation, age at follow-up, or time in months from initial evaluation to follow-up (results not shown). E-cigarette users had 5.49 times (95% CI: 2.68\\u201311.2) the odds of initiating cigarette smoking but not having smoked in the past 30 days, and 7.50 times (95% CI: 2.41\\u201323.4) the odds of reporting use of cigarettes in the past 30 days at follow-up compared with never e-cigarette users. Estimates were based on 39 (27.1%) initiators and 18 (12.5%) past 30-day cigarette users among e-cigarette users at baseline, compared with 12 (7.9%) initiators and 4 (2.6%) past 30-day cigarette users among never e-cigarette users at baseline; 2 participants reported initiation of smoking but did not report the number of days smoked in the past 30 days (results not tabulated). TABLE 2 Association Between E-Cigarette Use at Initial Assessment in 2014 and Subsequent Cigarette Use at Follow-up in 2015 Among adolescents who were not classified as susceptible to cigarette use at initial evaluation, 36.2% (n = 34) of e-cigarette users and 5.7% (n = 7) of never e-cigarette users reported initiation of cigarettes at follow up (OR not susceptible = 9.69; 95% CI: 4.02\\u201323.4; Table 3). In contrast, among those who were classified as susceptible to smoking at initial evaluation, e-cigarette users were only slightly more likely to initiate cigarette use at follow-up (47.1% v. 32.1%; OR susceptible = 2.12; 95% CI: 0.79, 5.74; interaction P = .03). We also examined interactions of e-cigarette use at initial evaluation with gender, ethnicity, grade level, time from initial contact to completion of follow-up questionnaire, and use of hookah at initial evaluation. The risk of initiation of cigarette use associated with e-cigarettes did not differ by these characteristics. TABLE 3 Association Between E-Cigarette Use at Initial Assessment in 2014 and Subsequent Cigarette Use at Follow-up in 2015 by Indication of Susceptibility to Smoking at Initial Evaluation In an analysis restricted to those who reported no use of any combustible tobacco product at initial evaluation, e-cigarette users were also more likely to initiate use of any combustible tobacco product at follow-up (OR = 4.98; 95% CI: 2.37\\u201310.4; Table 4) and to initiate use of cigarettes (OR = 4.29; 95% CI: 1.84\\u201310.0), hookah (OR = 2.86; 95% CI: 1.21\\u20136.78), cigars (OR = 4.39; 95% CI: 1.72\\u201311.2), and pipes (OR = 8.21; 95% CI: 1.20\\u201356.2). TABLE 4 Association Between E-Cigarette Use at Initial Assessment in 2014 and Subsequent Cigarette Use at Follow-up in 2015, Restricted to Never Users of Any Combustible Tobacco Product \\n \\n Discussion We prospectively evaluated the risk of smoking initiation associated with e-cigarette use in the transition to adulthood when it becomes legal to purchase cigarettes. In this sample of never cigarette users at initial evaluation, >40% of e-cigarette users initiated cigarette use during the 16-month (average) follow-up. Those who reported e-cigarette use had >6 times the odds of initiating cigarette use as never e-cigarette users. The associations remained statistically significant after adjustment for use of other combustible tobacco products at study entry and for social environmental factors. The increased risk of smoking initiation associated with previous e-cigarette use was also observed in sensitivity analyses restricted to never-users of any combustible tobacco product at initial evaluation; moreover, risk of subsequent initiation of any combustible tobacco product was also increased. Notably, the association of e-cigarettes with initiation of cigarette use was much stronger among those classified as not susceptible to becoming smokers. These findings suggest that e-cigarette use may promote smoking during the transition to adulthood, even in those considered to be at lower risk because of personal or environmental factors. Three studies on the longitudinal association between e-cigarette use and subsequent cigarette use among adolescents have been published.14\\u201316 In the first, among ninth-grade students (mean age 14.1 years) with no history of combustible tobacco product use at initial evaluation, those who reported ever use of e-cigarettes had 1.75 (95% CI: 1.10\\u20132.77) times the odds as never users of reporting subsequent use of cigarettes 12 months later, and 2.73 (95% CI: 2.00\\u20133.73) times the odds of reporting use of any combustible tobacco product after adjustment for ever use of nonnicotine or tobacco substances, smoking expectancies (whether adolescents think they will enjoy smoking, or feel bad from smoking), and other potentially confounding characteristics at study entry.14 The second study was also among younger youth in grades 9 and 10 at baseline (mean age 14.7 years) and found similar results: e-cigarette users had 2.87 (95% CI: 2.03\\u20134.05) times the odds of initiating combustible cigarette use between baseline and follow-up 1 year later as never users, after adjustment for age, gender, ethnicity, parental education, parental support, and rebelliousness.15 The third study found similar prospective associations in adolescents and young adults 16 to 26 years of age who reported being nonsusceptible to smoking at baseline, but the estimates were based on only 16 never-smoking e-cigarette users at initial evaluation.16 The current results extend the literature by showing that these associations generalize to the period at the end of high school. Our findings, together with those from the other prospective studies of youth and young adult populations, suggest that e-cigarette use is a clear and consistent indicator of likelihood of subsequent initiation of cigarette and other combustible tobacco product use at ages spanning from early adolescence through emerging adulthood. It is possible in principle that e-cigarette use among never smoking adolescents is a marker for those who would have begun to smoke even if e-cigarettes were not available. In these adolescents, the availability of e-cigarettes use may have delayed the initiation of smoking among those who would have gone on to smoke anyway. However, the risk of smoking associated with e-cigarette use was even higher among participants who reported no intention to smoke at initial assessment than among the group of adolescents who indicated they were likely to begin smoking. Among nonsusceptible individuals, 36% of e-cigarette users initiated cigarette use, compared with only 6% of nonusers (Table 3). Another recent study found that e-cigarette users had different psychological profiles than cigarette users.21,22 Together, these findings suggest that e-cigarettes are not merely a marker for individuals who would have gone on to smoke combustible cigarettes, regardless of the availability of e-cigarettes, but that e-cigarette use is likely introducing new youth to tobacco products and is increasing the likelihood of future smoking among the low-risk group who expressed confidence that they would not do so. It is also possible that e-cigarette users who initiated smoking were more likely to be experimenting with cigarettes and less likely than other initiators to progress to regular cigarette use and nicotine dependence. The duration of follow-up and small sample size (particularly among never e-cigarette users who began smoking) was insufficient to fully address this question. However, the prospective association of e-cigarette use with cigarette use in the past 30 days was similar to that for initiation but no use in the past 30 days. These results provide no evidence that e-cigarette users who initiate smoking are any less likely to progress to regular use of cigarettes than youth who did not begin tobacco use with e-cigarettes. There are some uncertainties to the conclusions from this study. Participants who were lost to follow-up were less likely to have a parent with at least a college education. However, in analyses examining whether the risk of initiation of smoking associated with e-cigarette use differed by education, no interaction was observed, nor were the estimates of effect of e-cigarette use on cigarette initiation confounded by education; thus, differential loss to follow-up in the cohort seems unlikely to be an explanation for the observed results. We did not collect information on type of e-cigarette used or nicotine content of e-cigarette at initial evaluation, factors that may increase the likelihood of transition from e-cigarette to cigarette or other combustible tobacco use. Although the study addresses a potentially vulnerable age range, results may not be generalizable to older populations or to other geographic regions. Finally, because the rate of initiation of cigarette use in never e-cigarette users was low in our Southern California population (10.5% based on 16 new users), the odds ratio associated with e-cigarette use was not precisely estimated. However, the associations were large and highly statistically significant. There are several plausible mechanisms through which e-cigarette use in adolescence may lead to subsequent initiation of cigarettes or other combustible tobacco products.17,23,24 E-cigarettes may lead to initiation of use of other combustible products because flavorings desensitize users\\u2019 lungs to the harsh and aversive effects of nicotine inhalation, providing a more gradual transition from never smoking to use of combustible cigarettes or other combustible products. Flavorings, in combination with devices appealing to youth in this technological age (eg, \\u201ctechie\\u201d e-devices with programmable settings) may act to promote smoking initiation among adolescents and may also play a role in product use maintenance or progression to greater levels of use. Regular use of nicotine, and the development of nicotine dependence, may also lead adolescents to seek other forms of nicotine. Adolescents first introduced to nicotine via e-cigarettes may develop a dependence on nicotine and may then move on to other forms of nicotine, including cigarettes or other combustible products. Individuals genetically susceptible to the addictive properties of nicotine may be at particularly high risk. Finally, rapid increases in e-cigarette use in adolescent populations have already begun to contribute to the normalization of e-cigarette use, which indirectly functions to normalize \\u201csmoking-like\\u201d behaviors more generally (eg, clouds of smoke/vapor in public places become normative). The normalization of these social behaviors may facilitate initiation of cigarette smoking if society becomes more accepting of alternative tobacco product use. Future work exploring these and other mechanisms through which e-cigarette use in adolescence may influence willingness to initiate cigarette smoking is warranted. Regardless of the mechanisms underlying the associations of e-cigarettes with cigarette use, this research adds much needed data to the emerging evidence that e-cigarettes are associated with increased risk of smoking among adolescents. Because e-cigarette use is common in adolescents and young adults, further prospective follow-up of this and other cohorts is needed to determine whether e-cigarette use will increase population rates of cigarette and other combustible tobacco products and their associated burden of disease. \\n \\n Footnotes Accepted April 7, 2016. \\n \\n April 7, 2016. Address correspondence to Jessica Barrington-Trimis, PhD, 2001 N. Soto St, 230-D, Los Angeles, CA 90089. E-mail: jtrimis{at}usc.edu \\n \\n FINANCIAL DISCLOSURE: The authors have indicated they have no financial relationships relevant to this article to disclose. \\n \\n FUNDING: Research reported in this publication was supported by grant P50CA180905 from the National Cancer Institute at the National Institutes of Health and the Food and Drug Administration Center for Tobacco Products. The funder had no role in the design and conduct of the study; collection, management, analysis, or interpretation of the data; or preparation, review, or approval of the manuscript. Funded by the National Institutes of Health (NIH). \\n \\n POTENTIAL CONFLICT OF INTEREST: The authors have indicated they have no potential conflicts of interest to disclose.\",\n          \"Natasha Exelby has paid a high price for her weekend blooper, after the humorless management at ABC24 banned the newsreader from playing any future on-air role. \\n \\n Exelby, who only recently returned from a foreign correspondent and anchor role with Turkish broadcaster TRT World, was told Monday she has been axed from newsreading duties, after being caught off guard during a live news shift Sunday. \\n \\n In video that has since gone viral, the former \\u201cWake Up!\\u201d co-host is seen looking startled as she suddenly realizes the cameras have returned to her after a prerecorded package has finished. \\n \\n It\\u2019s a slip-up almost every newsreader in the world has committed, but rarely costs the TV presenter their on-air job. \\n \\n The decision to bench the freelance newsreader and producer comes from the same broadcaster widely criticized for the more serious charge of failing to vet the audience of its panel program \\u201cQ&A\\u201d and allowing one-time terror suspect Zaky Mallah to join the live TV debate. \\n \\n The error, described by then-Prime Minister Tony Abbott as \\u201ccompletely incomprehensible\\u201d and compounded when it was rebroadcast on ABC24, saw no one from the program sacked. \\n \\n Most viewers laughed off Exelby\\u2019s innocuous gaffe, posted by the ABC\\u2019s own Media Watch program \\u2014 it sparked waves of support, rather than acrimony, for the \\u201cmortified\\u201d news professional. \\n \\n SBS newsreader Janice Petersen tweeted a screen grab of herself caught putting lipstick on while live, writing in solidarity: \\u201cit happens.\\u201d \\n \\n Sky News political reporter Samantha Maiden celebrated the human error, telling her Twitter followers: \\u201cthat\\u2019s @NatashaExelby and she\\u2019s awesome. She\\u2019s too much for @ABCmediawatch. Too fabulous.\\u201d \\n \\n Exelby told News Corp. \\u201cit would be inappropriate for me to comment.\\u201d \\n \\n Exelby was told Monday she would no longer be used in an on-air role, an ABC spokesman said in a statement: \\u201cNatasha Exelby is a casual contributor, not a staff member. She has been booked for occasional on-air shifts when needed, and also does other occasional shifts for the ABC News channel. \\n \\n \\u201cContributors work out their shifts with managers on a per needs basis. Details of individuals\\u2019 shifts are confidential to them and not something the ABC publicly comments on.\\u201d \\n \\n News Corp. is pursuing ABC management for further comment, addressing directly her removal from newsreading duties, either as a freelancer or otherwise. ||||| This article is over 1 year old \\n \\n Freelance journalist Natasha Exelby \\u2018read the riot act\\u2019 and offered more training after series of missteps, but will remain in casual production role \\n \\n \\u2018Slip-ups will happen\\u2019: ABC says presenter won\\u2019t be fired over TV blooper \\n \\n A casual journalist at the ABC, Natasha Exelby, has been taken off air after she missed her cue on live TV and video of her dramatic reaction went viral. \\n \\n The ABC director of news, Gaven Morris, has denied Exelby is being punished and said reports she had been fired or banned were untrue. \\n \\n \\n \\n \\u201cLive television is a demanding art and slip-ups will happen \\u2013 our presenters are humans, not robots,\\u201d Morris said. \\n \\n \\u201cWe take on-air standards extremely seriously, but we don\\u2019t expect perfection. No one would ever be punished for a blooper and, while it isn\\u2019t appropriate to publicly discuss confidential details of people\\u2019s personal work arrangements, this has not happened to Natasha.\\u201d \\n \\n Morris said he has assured Exelby the ABC wants her to continue working various shifts she has been rostered for. \\n \\n \\u201cWhile she is not currently doing any on-air shifts, this will be subject to normal performance management. I have spoken to Natasha and conveyed our regret that this has attracted such attention.\\u201d \\n \\n Footage of Exelby playing with her pen then apparently realising she is on air and gasping in horror has endeared her to the public, with calls for her to return to Australia\\u2019s TV screens and a petition, which had garnered more than 3,000 signatures by Tuesday morning. \\n \\n The ABC has denied Exelby has been banned or sacked. \\n \\n Guardian Australia understands that after a series of missteps including Sunday\\u2019s high-profile blooper she was \\u201cread the riot act\\u201d by news management on Monday. \\n \\n Sources said Exelby had been offered more training and may be given on-air shifts again at a later stage. \\n \\n Natasha Exelby (@NatashaExelby) Thank U all for ur generous support. Not my finest hour. Myself and my mesmerising pen honourably salute you! \\n \\n After the Daily Telegraph reported on Monday that the Queensland-born journalist had been \\u201cbanned\\u201d, the opposition leader, Bill Shorten, led calls on Twitter for her reinstatement. \\n \\n Bill Shorten (@billshortenmp) It's live TV. This is just ridiculous.https://t.co/xy6dp7nKwi \\n \\n Russell Crowe (@russellcrowe) Come on ABC - Australian Broadcasting Commission - talk about an over reaction to an over reaction . Free @NatashaExelby !!! https://t.co/4xALx8V5PN \\n \\n Kevin Rudd (@MrKRudd) Don't worry @NatashaExelby. Just a flesh wound. Check out my swearing video if you want a serious #blooper. Australia wants you back on air. pic.twitter.com/RSDTgR1X3U \\n \\n Presenters and other journalists shared stories about their embarrassing mistakes while at work. \\n \\n Grant Denyer (@grantdenyer) Nothing wrong with a bit of day dreaming at work @NatashaExelby . I fell asleep while on air. #putyourbloopersout pic.twitter.com/10CE3Cqkph \\n \\n Sally Rawsthorne (@sallyrawsthorne) I asked for an interview with someone who has been dead since 1962 #putyourbloopersout \\n \\n Amelia Gilbert (@ameliagilbert) Sorry @NatashaExelby, but @LeeLinChinSBS had the greatest blooper of all time https://t.co/SqXtA3S9Sd #PutYourBloopersOut \\n \\n It\\u2019s not the first time Exelby has been caught in an inappropriate reaction on live TV. Several years ago on Ten she giggled repeatedly while reading serious news items about deaths and disasters. \\n \\n Facebook Twitter Pinterest Natasha Exelby giggles while reading the news \\n \\n The ABC would not be drawn on the circumstances of the blooper and released a statement saying Exelby was a casual contributor and not a staff member: \\u201cShe has been booked for occasional on-air shifts when needed, and also does other occasional shifts for the ABC News channel. Contributors work out their shifts with managers on a per-needs basis. We don\\u2019t comment on the details of people\\u2019s work arrangements.\\u201d \\n \\n Exelby is best known as a co-host of the disastrous breakfast show Wake Up on Ten, which was launched by the former Seven Sunrise executive producer Adam Boland in late 2012. \\n \\n She was dumped as co-host after just 13 days on air and rock-bottom ratings. Boland blamed her sudden exit on her \\u201cchemistry\\u201d with the two other co-hosts, James Mathieson and Natarsha Belling. \\n \\n The entire show was axed in May 2014 owing to lacklustre ratings. ||||| \\\"She has been booked for occasional on-air shifts when needed, and also does other shifts for the ABC News channel. Contributors work out their appearances with managers on a per needs basis. Details of individuals' shifts are confidential to them and not something the ABC publicly comments on,\\\" the spokesman said.\",\n          \"White House communications director Anthony Scaramucci took a page out of President Trump\\u2019s playbook Wednesday night with a tweet threatening to sic the FBI on a supposed information leaker. \\u201cIn light of the leak of my financial disclosure info which is a felony. I will be contacting the FBI and the Justice Department,\\u201d Scaramucci wrote, inexplicably tagging White House Chief of Staff Reince Priebus. Scaramucci did not specify what information was leaked, but a Politico article cited the incoming communications director\\u2019s required financial disclosure in reporting he earned $4.9 million since last year from his ownership stake in investment firm SkyBridge. Scaramucci appeared to delete the tweet, but in a subsequent post said Priebus was among the senior White House officials helping to crack down on leaks. ||||| The incoming White House communications director earned $4.9 million from his ownership stake in SkyBridge. | Pablo Martinez Monsivais/AP Scaramucci still stands to profit from SkyBridge from the White House The newly named White House communications director has earned millions from ownership stake since last year, according to his financial disclosure. \\n \\n Anthony Scaramucci finally has his White House job, but he still stands to profit from an ownership stake in his investment firm SkyBridge Capital. \\n \\n The incoming White House communications director earned $4.9 million from his ownership stake in SkyBridge in addition to more than $5 million in salary between Jan. 1, 2016, and the end of June, when he joined the Export-Import Bank, according to a financial disclosure filed with the Office of Government Ethics. \\n \\n Story Continued Below \\n \\n The disclosure form, which is publicly available upon request, hasn\\u2019t been previously reported. \\n \\n The disclosure highlights the extensive wealth Scaramucci has accumulated in his career \\u2014 much like many of Trump\\u2019s other top advisers and Cabinet secretaries \\u2014 and also the challenge he faces in extracting himself from the potential conflicts his investments could pose. \\n \\n Scaramucci\\u2019s financial filing values SkyBridge Capital at more than $50 million and states that he owns nearly 44 percent of the firm. When the sale of the company is completed, expected to be in the third quarter of this year, he will receive \\u201cthe agreed-upon purchase price for his share of the sale proceeds,\\u201d according to the filing. \\n \\n Bloomberg valued the Skybridge deal at between $200 million and $230 million when it was announced in January. \\n \\n \\u201cIt\\u2019s black and white that he\\u2019s going to get money,\\u201d said Austin Evers, executive director at American Oversight, a watchdog group that focuses on transparency in government. \\n \\n The SkyBridge website continues to advertise Scaramucci as the firm's managing director, despite the fact that he has been a government employee for more than a month. A SkyBridge spokeswoman said Scaramucci stepped down from the executive post Jan. 17, when the company\\u2019s sale was announced. He remained an employee of the firm, collecting a salary, until starting at Ex-Im last month. \\n \\n The investment firm, which Scaramucci founded in 2005, is in the process of being sold to RON Transatlantic and Chinese conglomerate HNA Group. The sale, set in motion in January when Scaramucci was shedding his holdings in anticipation of landing an administration job, has drawn the scrutiny of regulators and is taking longer than expected to close. \\n \\n The interagency Committee on Foreign Investment in the United States is examining the deal to ensure that it carries no risk to national security. The panel\\u2019s review, which comes amid ramped-up scrutiny of business dealings with China, ultimately can be overruled by President Donald Trump. \\n \\n Scaramucci said Friday his start date wouldn\\u2019t be until August so that everything can be \\u201c100 percent totally cleansed and clean and I don\\u2019t see an issue with it.\\u201d \\n \\n White House spokeswoman Natalie Strom referred questions about Scaramucci\\u2019s SkyBridge investment to the Treasury. Treasury spokeswoman Marisol Garibay did not respond to requests for comment. \\n \\n Scaramucci, a Trump fundraiser and frequent campaign surrogate whose appointment to an administration post was delayed in part because of the complicated nature of the SkyBridge sale, joined Ex-Im in June. \\n \\n Ex-Im was seen as a \\\"very temporary move,\\\" a way to get the Trump loyalist to Washington until a higher-level position could be found, according to one White House adviser. \\n \\n The bank is across the street from the White House, where Scaramucci was free to come and go thanks to security credentials that gave him 24-hour access. That allowed him to elude the detection of senior White House staffers, including chief of staff Reince Priebus. \\n \\n Scaramucci has been on unpaid leave from Ex-Im since the day he started there, June 19, a bank spokeswoman said, forgoing his $172,100 salary as chief strategy officer. \\n \\n A friend said Scaramucci thought his stay at the bank would be longer-lived and that the White House job came unexpectedly. \\n \\n In his disclosure, Scaramucci listed assets worth as much as $85 million. He has several real estate investments, including single-family rental homes on Long Island. \\n \\n A minority stake in the New York Mets is worth as much as $5 million. He also is an investor in Juice Press, a chain of snack and smoothie shops in the Northeast. \\n \\n Scaramucci earned $200,000 in income from a majority stake in Hastings Capital Group, according to his financial disclosure. That ownership share also will be sold as part of the SkyBridge deal with RON and HNA. \\n \\n As a contributor to Fox News, Scaramucci earned about $88,000, according to his financial disclosure. \\n \\n He has three mortgages with U.S. Bank for a total liability of $2.5 million to $7 million. \\n \\n Josh Dawsey contributed to this report. ||||| Tweet with a location \\n \\n You can add location information to your Tweets, such as your city or precise location, from the web and via third-party applications. You always have the option to delete your Tweet location history. Learn more ||||| WASHINGTON \\u2014 In the five days since he was named White House communications director, Anthony Scaramucci has vowed to hunt down leakers and fire anyone he catches. By the end of his fifth day, he was on the receiving end of what he called a leak about himself. \\n \\n The financial disclosure form that Mr. Scaramucci filed with the government appeared on Politico\\u2019s website on Wednesday night, showing that he has assets worth as much as $85 million. He made $5 million in salary and another $4.9 million from his ownership stake in his investment firm SkyBridge Capital in the first six months of this year, according to the filing. \\n \\n Mr. Scaramucci responded angrily. \\u201cIn light of the leak of my financial disclosure info which is a felony,\\u201d he wrote on Twitter, \\u201cI will be contacting @FBI and the @TheJusticeDept.\\u201d \\n \\n He added the hashtag #swamp, reflecting President Trump\\u2019s promise to drain the swamp, and then included the Twitter handle of Reince Priebus, the White House chief of staff, who opposed Mr. Scaramucci\\u2019s appointment last week.\"\n        ],\n        \"semantic_type\": \"\",\n        \"description\": \"\"\n      }\n    },\n    {\n      \"column\": \"summary\",\n      \"properties\": {\n        \"dtype\": \"string\",\n        \"num_unique_values\": 5622,\n        \"samples\": [\n          \"\\u2013 Denis Finley has taken to Twitter to call Politico a \\\"whore,\\\" sniff about David Letterman's upcoming Netflix show featuring Barack Obama, and call for the destruction of all office buildings, but it was his tweets about a potential change to Vermont's driver's licenses that cost him his job as editor of the Burlington Free Press. The paper reports Finley was fired by honchos at parent company Gannett on Monday evening after he was found to have repeatedly flouted its social media rules. \\\"We encourage our journalists to engage in a meaningful dialogue on social media, but ... the conversation [should] adhere to our overarching values of fairness, balance, and objectivity,\\\" says an exec from the USA Today Network, Gannett's main brand. Poynter explains Finley's demise came after he reacted to Vermont's proposal to add the gender option \\\"X\\\" to \\\"F\\\" and \\\"M\\\" on driver's licenses. The Washington Post documents the Twitter exchange between commenters who were lauding Vermont's decision and Finley. After one user noted the news was \\\"awesome,\\\" Finley replied: \\\"Awesome! That makes us one step closer to the apocalypse.\\\" When someone else tweeted the recognition of different genders was awesome, Finley wrote: \\\"All recognition? \\u2026 What if someone said it's awesome they are going to recognize pedophiliacs on licenses? I'm not being snarky, I'm just asking.\\\" Poynter notes some readers threatened to cancel their Free Press subscriptions over the tweets. \\\"'Reader engagement' is not making provocative statements and then picking fights with people who disagree,\\\" an editor for a string of other local Vermont papers says. Emilie Stigliani, the Free Press' planning editor, will temporarily step in as Finley's replacement.\",\n          \"\\u2013 CNN's Piers Morgan thinks gun-rights proponent Alex Jones's memorable appearance on his show last night made a fine case\\u2014for his opponents. \\\"He was the best advertisement for gun control you could wish for,\\\" Morgan tells Politico, referring to the conservative radio host. \\\"That kind of vitriol, hatred, and zealotry is really quite scary.\\\" Jones is the guy who started the White House petition to get Morgan deported because of the CNN host's push for stricter gun laws. The White House last night promised to respond to the petition because it easily surpassed the threshold of 25,000 signatures, notes the Daily Caller. But \\\"it is worth remembering that the freedom of expression is a bedrock principle in our democracy,\\\" said spokesman Jay Carney, suggesting Jones better not hold his breath. Jones himself, meanwhile, posted a video after his CNN appearance, telling supporters that \\\"if something happens to us, or we\\u2019re killed by crackheads, it was the NYPD or mafia they hired,\\\" reports Mediaite. Yeah, that's right: \\u201cIf you don\\u2019t know that (Mayor) Bloomberg is total mafia, you\\u2019re on another planet.\\\"\",\n          \"\\u2013 New White House communications director Anthony Scaramucci was not happy about what he believed was a leak of information from his financial disclosure Wednesday\\u2014though it later emerged that the form was available to the public. \\\"In light of the leak of my financial disclosure info which is a felony. I will be contacting @FBI and @TheJusticeDept #swamp @Reince45,\\\" Scaramucci said in a now-deleted tweet, per the Daily Beast. Scaramucci later denied suggestions that his tagging of Reince Priebus was a declaration of war on the White House chief of staff. \\\"Wrong! Tweet was public notice to leakers that all Sr Adm officials are helping to end illegal leaks,\\\" Scaramucci said in a second tweet. The disclosure information believed to have enraged Scaramucci appeared in a Politico report late Wednesday. According to the report, Scaramucci earned $4.9 million from his ownership stake in the SkyBridge Capital plus more than $5 million in salary from Jan. 1, 2016, to the end of June this year, when he began a short-lived stint at the federal Export-Import Bank. The New York Times notes that Scaramucci filed the disclosure form June 23 and under federal law, it would have been available to the public 30 days later. \\\"They aren't in process yet,\\\" Scaramucci wrote to the Times after being asked why he thought the report had been leaked. He didn't respond after being told it would have been available July 23.\"\n        ],\n        \"semantic_type\": \"\",\n        \"description\": \"\"\n      }\n    }\n  ]\n}"
            }
          },
          "metadata": {},
          "execution_count": 112
        }
      ]
    },
    {
      "cell_type": "code",
      "source": [
        "import gc\n",
        "import torch\n",
        "torch.cuda.empty_cache()\n",
        "gc.collect()"
      ],
      "metadata": {
        "colab": {
          "base_uri": "https://localhost:8080/"
        },
        "id": "ot0GPa8Nm3f_",
        "outputId": "8b712b5a-4687-4258-9573-4374ffb977c9"
      },
      "execution_count": 113,
      "outputs": [
        {
          "output_type": "execute_result",
          "data": {
            "text/plain": [
              "52"
            ]
          },
          "metadata": {},
          "execution_count": 113
        }
      ]
    },
    {
      "cell_type": "code",
      "source": [
        "\n",
        "with mlflow.start_run() as run:\n",
        "\n",
        "    results = mlflow.evaluate(\n",
        "         model_info.model_uri,\n",
        "         df_test[:100],\n",
        "        targets=\"summary\",  # specify which column corresponds to the expected output\n",
        "        model_type=\"text-summarization\",  # model type indicates which metrics are relevant for this task\n",
        "        evaluators=\"default\",\n",
        "    )\n",
        "results.metrics"
      ],
      "metadata": {
        "colab": {
          "base_uri": "https://localhost:8080/",
          "height": 631,
          "referenced_widgets": [
            "f218538a16e249edb197392309574644",
            "aa30529c815442bea524f4769ba03fea",
            "d6ea423f8cde457d9901bca6e1ce13aa",
            "a6d97590e917400fbee4a74bdc54e906",
            "527adb266b1144b68e478af246f96cdc",
            "a8eaf8da62424170aa2c1f64c0741e2e",
            "4b1dd62880734c49ada381436e09baf2",
            "70460dfd9645479a9ae832bc87743818",
            "3845e3f810d941278bd7bb70ab4e7f8c",
            "b1ebc5df5be649ee8e7a7548b85133f0",
            "11b26c4e820d47dc8f501a3ba24abc3e",
            "155b15682063421081481623a967fb4e",
            "0d67925ec0be4b268b58562fdba07b5c",
            "afc6603020704e84b72c29da0a8fe0ca",
            "ce753ebfdcee41b5a3ae201ccc504940",
            "864da80dea444c8e9b4ab9c5be458668",
            "067b34e2d1c0401ea90616c31fc7bfbc",
            "0971df60146d4e64a73b8cc1e1ae966c",
            "bacba2429a78478fbd1248f79b7d4a40",
            "88b0ac6041c14dddae08b66d52e1c34c",
            "983e9fd469ec4ec58e20776493f7f52a",
            "0938a285f8c2452ca6ed6f5e02b15f9b"
          ]
        },
        "id": "VHvEUakrjb4L",
        "outputId": "8cf4c8ff-2486-4301-c1d7-f43c61dbabe8"
      },
      "execution_count": 115,
      "outputs": [
        {
          "output_type": "display_data",
          "data": {
            "text/plain": [
              "Downloading artifacts:   0%|          | 0/17 [00:00<?, ?it/s]"
            ],
            "application/vnd.jupyter.widget-view+json": {
              "version_major": 2,
              "version_minor": 0,
              "model_id": "f218538a16e249edb197392309574644"
            }
          },
          "metadata": {
            "application/vnd.jupyter.widget-view+json": {
              "colab": {
                "custom_widget_manager": {
                  "url": "https://ssl.gstatic.com/colaboratory-static/widgets/colab-cdn-widget-manager/2b70e893a8ba7c0f/manager.min.js"
                }
              }
            }
          }
        },
        {
          "output_type": "stream",
          "name": "stderr",
          "text": [
            "2024/11/21 17:13:29 WARNING mlflow.transformers.model_io: Could not specify device parameter for this pipeline type.Falling back to loading the model with the default device.\n"
          ]
        },
        {
          "output_type": "display_data",
          "data": {
            "text/plain": [
              "Loading checkpoint shards:   0%|          | 0/3 [00:00<?, ?it/s]"
            ],
            "application/vnd.jupyter.widget-view+json": {
              "version_major": 2,
              "version_minor": 0,
              "model_id": "0938a285f8c2452ca6ed6f5e02b15f9b"
            }
          },
          "metadata": {
            "application/vnd.jupyter.widget-view+json": {
              "colab": {
                "custom_widget_manager": {
                  "url": "https://ssl.gstatic.com/colaboratory-static/widgets/colab-cdn-widget-manager/2b70e893a8ba7c0f/manager.min.js"
                }
              }
            }
          }
        },
        {
          "output_type": "stream",
          "name": "stderr",
          "text": [
            "2024/11/21 17:13:33 INFO mlflow.models.evaluation.evaluators.default: Computing model predictions.\n"
          ]
        },
        {
          "output_type": "stream",
          "name": "stdout",
          "text": [
            "🏃 View run painted-doe-711 at: https://adb-2467347032368999.19.azuredatabricks.net/ml/experiments/837187481682972/runs/f558b0651c554a7185dd8eec734e829b\n",
            "🧪 View experiment at: https://adb-2467347032368999.19.azuredatabricks.net/ml/experiments/837187481682972\n"
          ]
        },
        {
          "output_type": "error",
          "ename": "OutOfMemoryError",
          "evalue": "CUDA out of memory. Tried to allocate 1.13 GiB. GPU 0 has a total capacity of 39.56 GiB of which 1.08 GiB is free. Process 765051 has 38.48 GiB memory in use. Of the allocated memory 37.25 GiB is allocated by PyTorch, and 746.91 MiB is reserved by PyTorch but unallocated. If reserved but unallocated memory is large try setting PYTORCH_CUDA_ALLOC_CONF=expandable_segments:True to avoid fragmentation.  See documentation for Memory Management  (https://pytorch.org/docs/stable/notes/cuda.html#environment-variables)",
          "traceback": [
            "\u001b[0;31m---------------------------------------------------------------------------\u001b[0m",
            "\u001b[0;31mOutOfMemoryError\u001b[0m                          Traceback (most recent call last)",
            "\u001b[0;32m<ipython-input-115-9a7f006bcc2c>\u001b[0m in \u001b[0;36m<cell line: 1>\u001b[0;34m()\u001b[0m\n\u001b[1;32m      1\u001b[0m \u001b[0;32mwith\u001b[0m \u001b[0mmlflow\u001b[0m\u001b[0;34m.\u001b[0m\u001b[0mstart_run\u001b[0m\u001b[0;34m(\u001b[0m\u001b[0;34m)\u001b[0m \u001b[0;32mas\u001b[0m \u001b[0mrun\u001b[0m\u001b[0;34m:\u001b[0m\u001b[0;34m\u001b[0m\u001b[0;34m\u001b[0m\u001b[0m\n\u001b[1;32m      2\u001b[0m \u001b[0;34m\u001b[0m\u001b[0m\n\u001b[0;32m----> 3\u001b[0;31m     results = mlflow.evaluate(\n\u001b[0m\u001b[1;32m      4\u001b[0m          \u001b[0mmodel_info\u001b[0m\u001b[0;34m.\u001b[0m\u001b[0mmodel_uri\u001b[0m\u001b[0;34m,\u001b[0m\u001b[0;34m\u001b[0m\u001b[0;34m\u001b[0m\u001b[0m\n\u001b[1;32m      5\u001b[0m          \u001b[0mdf_test\u001b[0m\u001b[0;34m[\u001b[0m\u001b[0;34m:\u001b[0m\u001b[0;36m100\u001b[0m\u001b[0;34m]\u001b[0m\u001b[0;34m,\u001b[0m\u001b[0;34m\u001b[0m\u001b[0;34m\u001b[0m\u001b[0m\n",
            "\u001b[0;32m/usr/local/lib/python3.10/dist-packages/mlflow/models/evaluation/base.py\u001b[0m in \u001b[0;36mevaluate\u001b[0;34m(model, data, model_type, targets, predictions, dataset_path, feature_names, evaluators, evaluator_config, custom_metrics, extra_metrics, custom_artifacts, validation_thresholds, baseline_model, env_manager, model_config, baseline_config, inference_params)\u001b[0m\n\u001b[1;32m   1736\u001b[0m \u001b[0;34m\u001b[0m\u001b[0m\n\u001b[1;32m   1737\u001b[0m         \u001b[0;32mtry\u001b[0m\u001b[0;34m:\u001b[0m\u001b[0;34m\u001b[0m\u001b[0;34m\u001b[0m\u001b[0m\n\u001b[0;32m-> 1738\u001b[0;31m             evaluate_result = _evaluate(\n\u001b[0m\u001b[1;32m   1739\u001b[0m                 \u001b[0mmodel\u001b[0m\u001b[0;34m=\u001b[0m\u001b[0mmodel\u001b[0m\u001b[0;34m,\u001b[0m\u001b[0;34m\u001b[0m\u001b[0;34m\u001b[0m\u001b[0m\n\u001b[1;32m   1740\u001b[0m                 \u001b[0mmodel_type\u001b[0m\u001b[0;34m=\u001b[0m\u001b[0mmodel_type\u001b[0m\u001b[0;34m,\u001b[0m\u001b[0;34m\u001b[0m\u001b[0;34m\u001b[0m\u001b[0m\n",
            "\u001b[0;32m/usr/local/lib/python3.10/dist-packages/mlflow/models/evaluation/base.py\u001b[0m in \u001b[0;36m_evaluate\u001b[0;34m(model, model_type, dataset, run_id, evaluator_name_list, evaluator_name_to_conf_map, custom_metrics, extra_metrics, custom_artifacts, predictions, evaluators)\u001b[0m\n\u001b[1;32m   1004\u001b[0m         \u001b[0m_last_failed_evaluator\u001b[0m \u001b[0;34m=\u001b[0m \u001b[0meval_\u001b[0m\u001b[0;34m.\u001b[0m\u001b[0mname\u001b[0m\u001b[0;34m\u001b[0m\u001b[0;34m\u001b[0m\u001b[0m\n\u001b[1;32m   1005\u001b[0m         \u001b[0;32mif\u001b[0m \u001b[0meval_\u001b[0m\u001b[0;34m.\u001b[0m\u001b[0mevaluator\u001b[0m\u001b[0;34m.\u001b[0m\u001b[0mcan_evaluate\u001b[0m\u001b[0;34m(\u001b[0m\u001b[0mmodel_type\u001b[0m\u001b[0;34m=\u001b[0m\u001b[0mmodel_type\u001b[0m\u001b[0;34m,\u001b[0m \u001b[0mevaluator_config\u001b[0m\u001b[0;34m=\u001b[0m\u001b[0meval_\u001b[0m\u001b[0;34m.\u001b[0m\u001b[0mconfig\u001b[0m\u001b[0;34m)\u001b[0m\u001b[0;34m:\u001b[0m\u001b[0;34m\u001b[0m\u001b[0;34m\u001b[0m\u001b[0m\n\u001b[0;32m-> 1006\u001b[0;31m             eval_result = eval_.evaluator.evaluate(\n\u001b[0m\u001b[1;32m   1007\u001b[0m                 \u001b[0mmodel\u001b[0m\u001b[0;34m=\u001b[0m\u001b[0mmodel\u001b[0m\u001b[0;34m,\u001b[0m\u001b[0;34m\u001b[0m\u001b[0;34m\u001b[0m\u001b[0m\n\u001b[1;32m   1008\u001b[0m                 \u001b[0mmodel_type\u001b[0m\u001b[0;34m=\u001b[0m\u001b[0mmodel_type\u001b[0m\u001b[0;34m,\u001b[0m\u001b[0;34m\u001b[0m\u001b[0;34m\u001b[0m\u001b[0m\n",
            "\u001b[0;32m/usr/local/lib/python3.10/dist-packages/mlflow/models/evaluation/default_evaluator.py\u001b[0m in \u001b[0;36mevaluate\u001b[0;34m(self, model_type, dataset, run_id, evaluator_config, model, custom_metrics, extra_metrics, custom_artifacts, predictions, **kwargs)\u001b[0m\n\u001b[1;32m    873\u001b[0m         ):\n\u001b[1;32m    874\u001b[0m             \u001b[0mself\u001b[0m\u001b[0;34m.\u001b[0m\u001b[0mtemp_dir\u001b[0m \u001b[0;34m=\u001b[0m \u001b[0mtemp_dir\u001b[0m\u001b[0;34m\u001b[0m\u001b[0;34m\u001b[0m\u001b[0m\n\u001b[0;32m--> 875\u001b[0;31m             \u001b[0;32mreturn\u001b[0m \u001b[0mself\u001b[0m\u001b[0;34m.\u001b[0m\u001b[0m_evaluate\u001b[0m\u001b[0;34m(\u001b[0m\u001b[0mmodel\u001b[0m\u001b[0;34m,\u001b[0m \u001b[0mextra_metrics\u001b[0m\u001b[0;34m,\u001b[0m \u001b[0mcustom_artifacts\u001b[0m\u001b[0;34m)\u001b[0m\u001b[0;34m\u001b[0m\u001b[0;34m\u001b[0m\u001b[0m\n\u001b[0m\u001b[1;32m    876\u001b[0m \u001b[0;34m\u001b[0m\u001b[0m\n\u001b[1;32m    877\u001b[0m     \u001b[0;34m@\u001b[0m\u001b[0mproperty\u001b[0m\u001b[0;34m\u001b[0m\u001b[0;34m\u001b[0m\u001b[0m\n",
            "\u001b[0;32m/usr/local/lib/python3.10/dist-packages/mlflow/models/evaluation/evaluators/default.py\u001b[0m in \u001b[0;36m_evaluate\u001b[0;34m(self, model, extra_metrics, custom_artifacts, **kwargs)\u001b[0m\n\u001b[1;32m     69\u001b[0m \u001b[0;34m\u001b[0m\u001b[0m\n\u001b[1;32m     70\u001b[0m         \u001b[0;31m# Generate model predictions and evaluate metrics\u001b[0m\u001b[0;34m\u001b[0m\u001b[0;34m\u001b[0m\u001b[0m\n\u001b[0;32m---> 71\u001b[0;31m         y_pred, other_model_outputs, self.predictions = self._generate_model_predictions(\n\u001b[0m\u001b[1;32m     72\u001b[0m             \u001b[0mmodel\u001b[0m\u001b[0;34m,\u001b[0m \u001b[0minput_df\u001b[0m\u001b[0;34m=\u001b[0m\u001b[0mself\u001b[0m\u001b[0;34m.\u001b[0m\u001b[0mX\u001b[0m\u001b[0;34m.\u001b[0m\u001b[0mcopy_to_avoid_mutation\u001b[0m\u001b[0;34m(\u001b[0m\u001b[0;34m)\u001b[0m\u001b[0;34m,\u001b[0m \u001b[0mcompute_latency\u001b[0m\u001b[0;34m=\u001b[0m\u001b[0mcompute_latency\u001b[0m\u001b[0;34m\u001b[0m\u001b[0;34m\u001b[0m\u001b[0m\n\u001b[1;32m     73\u001b[0m         )\n",
            "\u001b[0;32m/usr/local/lib/python3.10/dist-packages/mlflow/models/evaluation/evaluators/default.py\u001b[0m in \u001b[0;36m_generate_model_predictions\u001b[0;34m(self, model, input_df, compute_latency)\u001b[0m\n\u001b[1;32m    183\u001b[0m                 \u001b[0mmodel_predictions\u001b[0m \u001b[0;34m=\u001b[0m \u001b[0mpredict_with_latency\u001b[0m\u001b[0;34m(\u001b[0m\u001b[0minput_df\u001b[0m\u001b[0;34m)\u001b[0m\u001b[0;34m\u001b[0m\u001b[0;34m\u001b[0m\u001b[0m\n\u001b[1;32m    184\u001b[0m             \u001b[0;32melse\u001b[0m\u001b[0;34m:\u001b[0m\u001b[0;34m\u001b[0m\u001b[0;34m\u001b[0m\u001b[0m\n\u001b[0;32m--> 185\u001b[0;31m                 \u001b[0mmodel_predictions\u001b[0m \u001b[0;34m=\u001b[0m \u001b[0mpredict_fn\u001b[0m\u001b[0;34m(\u001b[0m\u001b[0minput_df\u001b[0m\u001b[0;34m)\u001b[0m\u001b[0;34m\u001b[0m\u001b[0;34m\u001b[0m\u001b[0m\n\u001b[0m\u001b[1;32m    186\u001b[0m         \u001b[0;32melse\u001b[0m\u001b[0;34m:\u001b[0m\u001b[0;34m\u001b[0m\u001b[0;34m\u001b[0m\u001b[0m\n\u001b[1;32m    187\u001b[0m             \u001b[0;32mif\u001b[0m \u001b[0mcompute_latency\u001b[0m\u001b[0;34m:\u001b[0m\u001b[0;34m\u001b[0m\u001b[0;34m\u001b[0m\u001b[0m\n",
            "\u001b[0;32m/usr/local/lib/python3.10/dist-packages/mlflow/models/evaluation/evaluators/default.py\u001b[0m in \u001b[0;36mnew_pred_fn\u001b[0;34m(*args, **kwargs)\u001b[0m\n\u001b[1;32m    243\u001b[0m     \u001b[0;32mdef\u001b[0m \u001b[0mnew_pred_fn\u001b[0m\u001b[0;34m(\u001b[0m\u001b[0;34m*\u001b[0m\u001b[0margs\u001b[0m\u001b[0;34m,\u001b[0m \u001b[0;34m**\u001b[0m\u001b[0mkwargs\u001b[0m\u001b[0;34m)\u001b[0m\u001b[0;34m:\u001b[0m\u001b[0;34m\u001b[0m\u001b[0;34m\u001b[0m\u001b[0m\n\u001b[1;32m    244\u001b[0m         \u001b[0;32mwith\u001b[0m \u001b[0mmlflow\u001b[0m\u001b[0;34m.\u001b[0m\u001b[0mutils\u001b[0m\u001b[0;34m.\u001b[0m\u001b[0mautologging_utils\u001b[0m\u001b[0;34m.\u001b[0m\u001b[0mrestrict_langchain_autologging_to_traces_only\u001b[0m\u001b[0;34m(\u001b[0m\u001b[0;34m)\u001b[0m\u001b[0;34m:\u001b[0m\u001b[0;34m\u001b[0m\u001b[0;34m\u001b[0m\u001b[0m\n\u001b[0;32m--> 245\u001b[0;31m             \u001b[0;32mreturn\u001b[0m \u001b[0mpred_fn\u001b[0m\u001b[0;34m(\u001b[0m\u001b[0;34m*\u001b[0m\u001b[0margs\u001b[0m\u001b[0;34m,\u001b[0m \u001b[0;34m**\u001b[0m\u001b[0mkwargs\u001b[0m\u001b[0;34m)\u001b[0m\u001b[0;34m\u001b[0m\u001b[0;34m\u001b[0m\u001b[0m\n\u001b[0m\u001b[1;32m    246\u001b[0m \u001b[0;34m\u001b[0m\u001b[0m\n\u001b[1;32m    247\u001b[0m     \u001b[0;32mreturn\u001b[0m \u001b[0mnew_pred_fn\u001b[0m\u001b[0;34m\u001b[0m\u001b[0;34m\u001b[0m\u001b[0m\n",
            "\u001b[0;32m/usr/local/lib/python3.10/dist-packages/mlflow/pyfunc/__init__.py\u001b[0m in \u001b[0;36mpredict\u001b[0;34m(self, data, params)\u001b[0m\n\u001b[1;32m    761\u001b[0m             \u001b[0;32mif\u001b[0m \u001b[0mschema\u001b[0m \u001b[0;34m:=\u001b[0m \u001b[0m_get_dependencies_schema_from_model\u001b[0m\u001b[0;34m(\u001b[0m\u001b[0mself\u001b[0m\u001b[0;34m.\u001b[0m\u001b[0m_model_meta\u001b[0m\u001b[0;34m)\u001b[0m\u001b[0;34m:\u001b[0m\u001b[0;34m\u001b[0m\u001b[0;34m\u001b[0m\u001b[0m\n\u001b[1;32m    762\u001b[0m                 \u001b[0mcontext\u001b[0m\u001b[0;34m.\u001b[0m\u001b[0mupdate\u001b[0m\u001b[0;34m(\u001b[0m\u001b[0;34m**\u001b[0m\u001b[0mschema\u001b[0m\u001b[0;34m)\u001b[0m\u001b[0;34m\u001b[0m\u001b[0;34m\u001b[0m\u001b[0m\n\u001b[0;32m--> 763\u001b[0;31m             \u001b[0;32mreturn\u001b[0m \u001b[0mself\u001b[0m\u001b[0;34m.\u001b[0m\u001b[0m_predict\u001b[0m\u001b[0;34m(\u001b[0m\u001b[0mdata\u001b[0m\u001b[0;34m,\u001b[0m \u001b[0mparams\u001b[0m\u001b[0;34m)\u001b[0m\u001b[0;34m\u001b[0m\u001b[0;34m\u001b[0m\u001b[0m\n\u001b[0m\u001b[1;32m    764\u001b[0m \u001b[0;34m\u001b[0m\u001b[0m\n\u001b[1;32m    765\u001b[0m     \u001b[0;32mdef\u001b[0m \u001b[0m_predict\u001b[0m\u001b[0;34m(\u001b[0m\u001b[0mself\u001b[0m\u001b[0;34m,\u001b[0m \u001b[0mdata\u001b[0m\u001b[0;34m:\u001b[0m \u001b[0mPyFuncInput\u001b[0m\u001b[0;34m,\u001b[0m \u001b[0mparams\u001b[0m\u001b[0;34m:\u001b[0m \u001b[0mOptional\u001b[0m\u001b[0;34m[\u001b[0m\u001b[0mdict\u001b[0m\u001b[0;34m[\u001b[0m\u001b[0mstr\u001b[0m\u001b[0;34m,\u001b[0m \u001b[0mAny\u001b[0m\u001b[0;34m]\u001b[0m\u001b[0;34m]\u001b[0m \u001b[0;34m=\u001b[0m \u001b[0;32mNone\u001b[0m\u001b[0;34m)\u001b[0m \u001b[0;34m->\u001b[0m \u001b[0mPyFuncOutput\u001b[0m\u001b[0;34m:\u001b[0m\u001b[0;34m\u001b[0m\u001b[0;34m\u001b[0m\u001b[0m\n",
            "\u001b[0;32m/usr/local/lib/python3.10/dist-packages/mlflow/pyfunc/__init__.py\u001b[0m in \u001b[0;36m_predict\u001b[0;34m(self, data, params)\u001b[0m\n\u001b[1;32m    799\u001b[0m         \u001b[0mparams_arg\u001b[0m \u001b[0;34m=\u001b[0m \u001b[0minspect\u001b[0m\u001b[0;34m.\u001b[0m\u001b[0msignature\u001b[0m\u001b[0;34m(\u001b[0m\u001b[0mself\u001b[0m\u001b[0;34m.\u001b[0m\u001b[0m_predict_fn\u001b[0m\u001b[0;34m)\u001b[0m\u001b[0;34m.\u001b[0m\u001b[0mparameters\u001b[0m\u001b[0;34m.\u001b[0m\u001b[0mget\u001b[0m\u001b[0;34m(\u001b[0m\u001b[0;34m\"params\"\u001b[0m\u001b[0;34m)\u001b[0m\u001b[0;34m\u001b[0m\u001b[0;34m\u001b[0m\u001b[0m\n\u001b[1;32m    800\u001b[0m         \u001b[0;32mif\u001b[0m \u001b[0mparams_arg\u001b[0m \u001b[0;32mand\u001b[0m \u001b[0mparams_arg\u001b[0m\u001b[0;34m.\u001b[0m\u001b[0mkind\u001b[0m \u001b[0;34m!=\u001b[0m \u001b[0minspect\u001b[0m\u001b[0;34m.\u001b[0m\u001b[0mParameter\u001b[0m\u001b[0;34m.\u001b[0m\u001b[0mVAR_KEYWORD\u001b[0m\u001b[0;34m:\u001b[0m\u001b[0;34m\u001b[0m\u001b[0;34m\u001b[0m\u001b[0m\n\u001b[0;32m--> 801\u001b[0;31m             \u001b[0;32mreturn\u001b[0m \u001b[0mself\u001b[0m\u001b[0;34m.\u001b[0m\u001b[0m_predict_fn\u001b[0m\u001b[0;34m(\u001b[0m\u001b[0mdata\u001b[0m\u001b[0;34m,\u001b[0m \u001b[0mparams\u001b[0m\u001b[0;34m=\u001b[0m\u001b[0mparams\u001b[0m\u001b[0;34m)\u001b[0m\u001b[0;34m\u001b[0m\u001b[0;34m\u001b[0m\u001b[0m\n\u001b[0m\u001b[1;32m    802\u001b[0m \u001b[0;34m\u001b[0m\u001b[0m\n\u001b[1;32m    803\u001b[0m         \u001b[0m_log_warning_if_params_not_in_predict_signature\u001b[0m\u001b[0;34m(\u001b[0m\u001b[0m_logger\u001b[0m\u001b[0;34m,\u001b[0m \u001b[0mparams\u001b[0m\u001b[0;34m)\u001b[0m\u001b[0;34m\u001b[0m\u001b[0;34m\u001b[0m\u001b[0m\n",
            "\u001b[0;32m/usr/local/lib/python3.10/dist-packages/mlflow/transformers/__init__.py\u001b[0m in \u001b[0;36mpredict\u001b[0;34m(self, data, params)\u001b[0m\n\u001b[1;32m   1885\u001b[0m                 \u001b[0;32mfor\u001b[0m \u001b[0mx\u001b[0m \u001b[0;32min\u001b[0m \u001b[0minput_data\u001b[0m\u001b[0;34m\u001b[0m\u001b[0;34m\u001b[0m\u001b[0m\n\u001b[1;32m   1886\u001b[0m             )\n\u001b[0;32m-> 1887\u001b[0;31m         \u001b[0;32mreturn\u001b[0m \u001b[0mself\u001b[0m\u001b[0;34m.\u001b[0m\u001b[0m_predict\u001b[0m\u001b[0;34m(\u001b[0m\u001b[0minput_data\u001b[0m\u001b[0;34m,\u001b[0m \u001b[0mparams\u001b[0m\u001b[0;34m)\u001b[0m\u001b[0;34m\u001b[0m\u001b[0;34m\u001b[0m\u001b[0m\n\u001b[0m\u001b[1;32m   1888\u001b[0m \u001b[0;34m\u001b[0m\u001b[0m\n\u001b[1;32m   1889\u001b[0m     \u001b[0;32mdef\u001b[0m \u001b[0m_predict\u001b[0m\u001b[0;34m(\u001b[0m\u001b[0mself\u001b[0m\u001b[0;34m,\u001b[0m \u001b[0mdata\u001b[0m\u001b[0;34m,\u001b[0m \u001b[0mmodel_config\u001b[0m\u001b[0;34m)\u001b[0m\u001b[0;34m:\u001b[0m\u001b[0;34m\u001b[0m\u001b[0;34m\u001b[0m\u001b[0m\n",
            "\u001b[0;32m/usr/local/lib/python3.10/dist-packages/mlflow/transformers/__init__.py\u001b[0m in \u001b[0;36m_predict\u001b[0;34m(self, data, model_config)\u001b[0m\n\u001b[1;32m   1978\u001b[0m                 \u001b[0moutput_key\u001b[0m \u001b[0;34m=\u001b[0m \u001b[0;34m\"generated_token_ids\"\u001b[0m\u001b[0;34m\u001b[0m\u001b[0;34m\u001b[0m\u001b[0m\n\u001b[1;32m   1979\u001b[0m \u001b[0;34m\u001b[0m\u001b[0m\n\u001b[0;32m-> 1980\u001b[0;31m             raw_output = self._validate_model_config_and_return_output(\n\u001b[0m\u001b[1;32m   1981\u001b[0m                 \u001b[0mdata\u001b[0m\u001b[0;34m,\u001b[0m \u001b[0mmodel_config\u001b[0m\u001b[0;34m=\u001b[0m\u001b[0mmodel_config\u001b[0m\u001b[0;34m,\u001b[0m \u001b[0mreturn_tensors\u001b[0m\u001b[0;34m=\u001b[0m\u001b[0mreturn_tensors\u001b[0m\u001b[0;34m\u001b[0m\u001b[0;34m\u001b[0m\u001b[0m\n\u001b[1;32m   1982\u001b[0m             )\n",
            "\u001b[0;32m/usr/local/lib/python3.10/dist-packages/mlflow/transformers/__init__.py\u001b[0m in \u001b[0;36m_validate_model_config_and_return_output\u001b[0;34m(self, data, model_config, return_tensors)\u001b[0m\n\u001b[1;32m   1805\u001b[0m             \u001b[0;32mif\u001b[0m \u001b[0misinstance\u001b[0m\u001b[0;34m(\u001b[0m\u001b[0mdata\u001b[0m\u001b[0;34m,\u001b[0m \u001b[0mdict\u001b[0m\u001b[0;34m)\u001b[0m\u001b[0;34m:\u001b[0m\u001b[0;34m\u001b[0m\u001b[0;34m\u001b[0m\u001b[0m\n\u001b[1;32m   1806\u001b[0m                 \u001b[0;32mreturn\u001b[0m \u001b[0mself\u001b[0m\u001b[0;34m.\u001b[0m\u001b[0mpipeline\u001b[0m\u001b[0;34m(\u001b[0m\u001b[0;34m**\u001b[0m\u001b[0mdata\u001b[0m\u001b[0;34m,\u001b[0m \u001b[0;34m**\u001b[0m\u001b[0mmodel_config\u001b[0m\u001b[0;34m)\u001b[0m\u001b[0;34m\u001b[0m\u001b[0;34m\u001b[0m\u001b[0m\n\u001b[0;32m-> 1807\u001b[0;31m             \u001b[0;32mreturn\u001b[0m \u001b[0mself\u001b[0m\u001b[0;34m.\u001b[0m\u001b[0mpipeline\u001b[0m\u001b[0;34m(\u001b[0m\u001b[0mdata\u001b[0m\u001b[0;34m,\u001b[0m \u001b[0;34m**\u001b[0m\u001b[0mmodel_config\u001b[0m\u001b[0;34m)\u001b[0m\u001b[0;34m\u001b[0m\u001b[0;34m\u001b[0m\u001b[0m\n\u001b[0m\u001b[1;32m   1808\u001b[0m         \u001b[0;32mexcept\u001b[0m \u001b[0mValueError\u001b[0m \u001b[0;32mas\u001b[0m \u001b[0me\u001b[0m\u001b[0;34m:\u001b[0m\u001b[0;34m\u001b[0m\u001b[0;34m\u001b[0m\u001b[0m\n\u001b[1;32m   1809\u001b[0m             \u001b[0;32mif\u001b[0m \u001b[0;34m\"The following `model_kwargs` are not used by the model\"\u001b[0m \u001b[0;32min\u001b[0m \u001b[0mstr\u001b[0m\u001b[0;34m(\u001b[0m\u001b[0me\u001b[0m\u001b[0;34m)\u001b[0m\u001b[0;34m:\u001b[0m\u001b[0;34m\u001b[0m\u001b[0;34m\u001b[0m\u001b[0m\n",
            "\u001b[0;32m/usr/local/lib/python3.10/dist-packages/transformers/pipelines/text2text_generation.py\u001b[0m in \u001b[0;36m__call__\u001b[0;34m(self, *args, **kwargs)\u001b[0m\n\u001b[1;32m    272\u001b[0m               \u001b[0mids\u001b[0m \u001b[0mof\u001b[0m \u001b[0mthe\u001b[0m \u001b[0msummary\u001b[0m\u001b[0;34m.\u001b[0m\u001b[0;34m\u001b[0m\u001b[0;34m\u001b[0m\u001b[0m\n\u001b[1;32m    273\u001b[0m         \"\"\"\n\u001b[0;32m--> 274\u001b[0;31m         \u001b[0;32mreturn\u001b[0m \u001b[0msuper\u001b[0m\u001b[0;34m(\u001b[0m\u001b[0;34m)\u001b[0m\u001b[0;34m.\u001b[0m\u001b[0m__call__\u001b[0m\u001b[0;34m(\u001b[0m\u001b[0;34m*\u001b[0m\u001b[0margs\u001b[0m\u001b[0;34m,\u001b[0m \u001b[0;34m**\u001b[0m\u001b[0mkwargs\u001b[0m\u001b[0;34m)\u001b[0m\u001b[0;34m\u001b[0m\u001b[0;34m\u001b[0m\u001b[0m\n\u001b[0m\u001b[1;32m    275\u001b[0m \u001b[0;34m\u001b[0m\u001b[0m\n\u001b[1;32m    276\u001b[0m     \u001b[0;32mdef\u001b[0m \u001b[0mcheck_inputs\u001b[0m\u001b[0;34m(\u001b[0m\u001b[0mself\u001b[0m\u001b[0;34m,\u001b[0m \u001b[0minput_length\u001b[0m\u001b[0;34m:\u001b[0m \u001b[0mint\u001b[0m\u001b[0;34m,\u001b[0m \u001b[0mmin_length\u001b[0m\u001b[0;34m:\u001b[0m \u001b[0mint\u001b[0m\u001b[0;34m,\u001b[0m \u001b[0mmax_length\u001b[0m\u001b[0;34m:\u001b[0m \u001b[0mint\u001b[0m\u001b[0;34m)\u001b[0m \u001b[0;34m->\u001b[0m \u001b[0mbool\u001b[0m\u001b[0;34m:\u001b[0m\u001b[0;34m\u001b[0m\u001b[0;34m\u001b[0m\u001b[0m\n",
            "\u001b[0;32m/usr/local/lib/python3.10/dist-packages/transformers/pipelines/text2text_generation.py\u001b[0m in \u001b[0;36m__call__\u001b[0;34m(self, *args, **kwargs)\u001b[0m\n\u001b[1;32m    165\u001b[0m         \"\"\"\n\u001b[1;32m    166\u001b[0m \u001b[0;34m\u001b[0m\u001b[0m\n\u001b[0;32m--> 167\u001b[0;31m         \u001b[0mresult\u001b[0m \u001b[0;34m=\u001b[0m \u001b[0msuper\u001b[0m\u001b[0;34m(\u001b[0m\u001b[0;34m)\u001b[0m\u001b[0;34m.\u001b[0m\u001b[0m__call__\u001b[0m\u001b[0;34m(\u001b[0m\u001b[0;34m*\u001b[0m\u001b[0margs\u001b[0m\u001b[0;34m,\u001b[0m \u001b[0;34m**\u001b[0m\u001b[0mkwargs\u001b[0m\u001b[0;34m)\u001b[0m\u001b[0;34m\u001b[0m\u001b[0;34m\u001b[0m\u001b[0m\n\u001b[0m\u001b[1;32m    168\u001b[0m         if (\n\u001b[1;32m    169\u001b[0m             \u001b[0misinstance\u001b[0m\u001b[0;34m(\u001b[0m\u001b[0margs\u001b[0m\u001b[0;34m[\u001b[0m\u001b[0;36m0\u001b[0m\u001b[0;34m]\u001b[0m\u001b[0;34m,\u001b[0m \u001b[0mlist\u001b[0m\u001b[0;34m)\u001b[0m\u001b[0;34m\u001b[0m\u001b[0;34m\u001b[0m\u001b[0m\n",
            "\u001b[0;32m/usr/local/lib/python3.10/dist-packages/transformers/pipelines/base.py\u001b[0m in \u001b[0;36m__call__\u001b[0;34m(self, inputs, num_workers, batch_size, *args, **kwargs)\u001b[0m\n\u001b[1;32m   1281\u001b[0m                     \u001b[0minputs\u001b[0m\u001b[0;34m,\u001b[0m \u001b[0mnum_workers\u001b[0m\u001b[0;34m,\u001b[0m \u001b[0mbatch_size\u001b[0m\u001b[0;34m,\u001b[0m \u001b[0mpreprocess_params\u001b[0m\u001b[0;34m,\u001b[0m \u001b[0mforward_params\u001b[0m\u001b[0;34m,\u001b[0m \u001b[0mpostprocess_params\u001b[0m\u001b[0;34m\u001b[0m\u001b[0;34m\u001b[0m\u001b[0m\n\u001b[1;32m   1282\u001b[0m                 )\n\u001b[0;32m-> 1283\u001b[0;31m                 \u001b[0moutputs\u001b[0m \u001b[0;34m=\u001b[0m \u001b[0mlist\u001b[0m\u001b[0;34m(\u001b[0m\u001b[0mfinal_iterator\u001b[0m\u001b[0;34m)\u001b[0m\u001b[0;34m\u001b[0m\u001b[0;34m\u001b[0m\u001b[0m\n\u001b[0m\u001b[1;32m   1284\u001b[0m                 \u001b[0;32mreturn\u001b[0m \u001b[0moutputs\u001b[0m\u001b[0;34m\u001b[0m\u001b[0;34m\u001b[0m\u001b[0m\n\u001b[1;32m   1285\u001b[0m             \u001b[0;32melse\u001b[0m\u001b[0;34m:\u001b[0m\u001b[0;34m\u001b[0m\u001b[0;34m\u001b[0m\u001b[0m\n",
            "\u001b[0;32m/usr/local/lib/python3.10/dist-packages/transformers/pipelines/pt_utils.py\u001b[0m in \u001b[0;36m__next__\u001b[0;34m(self)\u001b[0m\n\u001b[1;32m    122\u001b[0m \u001b[0;34m\u001b[0m\u001b[0m\n\u001b[1;32m    123\u001b[0m         \u001b[0;31m# We're out of items within a batch\u001b[0m\u001b[0;34m\u001b[0m\u001b[0;34m\u001b[0m\u001b[0m\n\u001b[0;32m--> 124\u001b[0;31m         \u001b[0mitem\u001b[0m \u001b[0;34m=\u001b[0m \u001b[0mnext\u001b[0m\u001b[0;34m(\u001b[0m\u001b[0mself\u001b[0m\u001b[0;34m.\u001b[0m\u001b[0miterator\u001b[0m\u001b[0;34m)\u001b[0m\u001b[0;34m\u001b[0m\u001b[0;34m\u001b[0m\u001b[0m\n\u001b[0m\u001b[1;32m    125\u001b[0m         \u001b[0mprocessed\u001b[0m \u001b[0;34m=\u001b[0m \u001b[0mself\u001b[0m\u001b[0;34m.\u001b[0m\u001b[0minfer\u001b[0m\u001b[0;34m(\u001b[0m\u001b[0mitem\u001b[0m\u001b[0;34m,\u001b[0m \u001b[0;34m**\u001b[0m\u001b[0mself\u001b[0m\u001b[0;34m.\u001b[0m\u001b[0mparams\u001b[0m\u001b[0;34m)\u001b[0m\u001b[0;34m\u001b[0m\u001b[0;34m\u001b[0m\u001b[0m\n\u001b[1;32m    126\u001b[0m         \u001b[0;31m# We now have a batch of \"inferred things\".\u001b[0m\u001b[0;34m\u001b[0m\u001b[0;34m\u001b[0m\u001b[0m\n",
            "\u001b[0;32m/usr/local/lib/python3.10/dist-packages/transformers/pipelines/pt_utils.py\u001b[0m in \u001b[0;36m__next__\u001b[0;34m(self)\u001b[0m\n\u001b[1;32m    123\u001b[0m         \u001b[0;31m# We're out of items within a batch\u001b[0m\u001b[0;34m\u001b[0m\u001b[0;34m\u001b[0m\u001b[0m\n\u001b[1;32m    124\u001b[0m         \u001b[0mitem\u001b[0m \u001b[0;34m=\u001b[0m \u001b[0mnext\u001b[0m\u001b[0;34m(\u001b[0m\u001b[0mself\u001b[0m\u001b[0;34m.\u001b[0m\u001b[0miterator\u001b[0m\u001b[0;34m)\u001b[0m\u001b[0;34m\u001b[0m\u001b[0;34m\u001b[0m\u001b[0m\n\u001b[0;32m--> 125\u001b[0;31m         \u001b[0mprocessed\u001b[0m \u001b[0;34m=\u001b[0m \u001b[0mself\u001b[0m\u001b[0;34m.\u001b[0m\u001b[0minfer\u001b[0m\u001b[0;34m(\u001b[0m\u001b[0mitem\u001b[0m\u001b[0;34m,\u001b[0m \u001b[0;34m**\u001b[0m\u001b[0mself\u001b[0m\u001b[0;34m.\u001b[0m\u001b[0mparams\u001b[0m\u001b[0;34m)\u001b[0m\u001b[0;34m\u001b[0m\u001b[0;34m\u001b[0m\u001b[0m\n\u001b[0m\u001b[1;32m    126\u001b[0m         \u001b[0;31m# We now have a batch of \"inferred things\".\u001b[0m\u001b[0;34m\u001b[0m\u001b[0;34m\u001b[0m\u001b[0m\n\u001b[1;32m    127\u001b[0m         \u001b[0;32mif\u001b[0m \u001b[0mself\u001b[0m\u001b[0;34m.\u001b[0m\u001b[0mloader_batch_size\u001b[0m \u001b[0;32mis\u001b[0m \u001b[0;32mnot\u001b[0m \u001b[0;32mNone\u001b[0m\u001b[0;34m:\u001b[0m\u001b[0;34m\u001b[0m\u001b[0;34m\u001b[0m\u001b[0m\n",
            "\u001b[0;32m/usr/local/lib/python3.10/dist-packages/transformers/pipelines/base.py\u001b[0m in \u001b[0;36mforward\u001b[0;34m(self, model_inputs, **forward_params)\u001b[0m\n\u001b[1;32m   1207\u001b[0m                 \u001b[0;32mwith\u001b[0m \u001b[0minference_context\u001b[0m\u001b[0;34m(\u001b[0m\u001b[0;34m)\u001b[0m\u001b[0;34m:\u001b[0m\u001b[0;34m\u001b[0m\u001b[0;34m\u001b[0m\u001b[0m\n\u001b[1;32m   1208\u001b[0m                     \u001b[0mmodel_inputs\u001b[0m \u001b[0;34m=\u001b[0m \u001b[0mself\u001b[0m\u001b[0;34m.\u001b[0m\u001b[0m_ensure_tensor_on_device\u001b[0m\u001b[0;34m(\u001b[0m\u001b[0mmodel_inputs\u001b[0m\u001b[0;34m,\u001b[0m \u001b[0mdevice\u001b[0m\u001b[0;34m=\u001b[0m\u001b[0mself\u001b[0m\u001b[0;34m.\u001b[0m\u001b[0mdevice\u001b[0m\u001b[0;34m)\u001b[0m\u001b[0;34m\u001b[0m\u001b[0;34m\u001b[0m\u001b[0m\n\u001b[0;32m-> 1209\u001b[0;31m                     \u001b[0mmodel_outputs\u001b[0m \u001b[0;34m=\u001b[0m \u001b[0mself\u001b[0m\u001b[0;34m.\u001b[0m\u001b[0m_forward\u001b[0m\u001b[0;34m(\u001b[0m\u001b[0mmodel_inputs\u001b[0m\u001b[0;34m,\u001b[0m \u001b[0;34m**\u001b[0m\u001b[0mforward_params\u001b[0m\u001b[0;34m)\u001b[0m\u001b[0;34m\u001b[0m\u001b[0;34m\u001b[0m\u001b[0m\n\u001b[0m\u001b[1;32m   1210\u001b[0m                     \u001b[0mmodel_outputs\u001b[0m \u001b[0;34m=\u001b[0m \u001b[0mself\u001b[0m\u001b[0;34m.\u001b[0m\u001b[0m_ensure_tensor_on_device\u001b[0m\u001b[0;34m(\u001b[0m\u001b[0mmodel_outputs\u001b[0m\u001b[0;34m,\u001b[0m \u001b[0mdevice\u001b[0m\u001b[0;34m=\u001b[0m\u001b[0mtorch\u001b[0m\u001b[0;34m.\u001b[0m\u001b[0mdevice\u001b[0m\u001b[0;34m(\u001b[0m\u001b[0;34m\"cpu\"\u001b[0m\u001b[0;34m)\u001b[0m\u001b[0;34m)\u001b[0m\u001b[0;34m\u001b[0m\u001b[0;34m\u001b[0m\u001b[0m\n\u001b[1;32m   1211\u001b[0m             \u001b[0;32melse\u001b[0m\u001b[0;34m:\u001b[0m\u001b[0;34m\u001b[0m\u001b[0;34m\u001b[0m\u001b[0m\n",
            "\u001b[0;32m/usr/local/lib/python3.10/dist-packages/transformers/pipelines/text2text_generation.py\u001b[0m in \u001b[0;36m_forward\u001b[0;34m(self, model_inputs, **generate_kwargs)\u001b[0m\n\u001b[1;32m    194\u001b[0m             \u001b[0mgenerate_kwargs\u001b[0m\u001b[0;34m[\u001b[0m\u001b[0;34m\"generation_config\"\u001b[0m\u001b[0;34m]\u001b[0m \u001b[0;34m=\u001b[0m \u001b[0mself\u001b[0m\u001b[0;34m.\u001b[0m\u001b[0mgeneration_config\u001b[0m\u001b[0;34m\u001b[0m\u001b[0;34m\u001b[0m\u001b[0m\n\u001b[1;32m    195\u001b[0m \u001b[0;34m\u001b[0m\u001b[0m\n\u001b[0;32m--> 196\u001b[0;31m         \u001b[0moutput_ids\u001b[0m \u001b[0;34m=\u001b[0m \u001b[0mself\u001b[0m\u001b[0;34m.\u001b[0m\u001b[0mmodel\u001b[0m\u001b[0;34m.\u001b[0m\u001b[0mgenerate\u001b[0m\u001b[0;34m(\u001b[0m\u001b[0;34m**\u001b[0m\u001b[0mmodel_inputs\u001b[0m\u001b[0;34m,\u001b[0m \u001b[0;34m**\u001b[0m\u001b[0mgenerate_kwargs\u001b[0m\u001b[0;34m)\u001b[0m\u001b[0;34m\u001b[0m\u001b[0;34m\u001b[0m\u001b[0m\n\u001b[0m\u001b[1;32m    197\u001b[0m         \u001b[0mout_b\u001b[0m \u001b[0;34m=\u001b[0m \u001b[0moutput_ids\u001b[0m\u001b[0;34m.\u001b[0m\u001b[0mshape\u001b[0m\u001b[0;34m[\u001b[0m\u001b[0;36m0\u001b[0m\u001b[0;34m]\u001b[0m\u001b[0;34m\u001b[0m\u001b[0;34m\u001b[0m\u001b[0m\n\u001b[1;32m    198\u001b[0m         \u001b[0;32mif\u001b[0m \u001b[0mself\u001b[0m\u001b[0;34m.\u001b[0m\u001b[0mframework\u001b[0m \u001b[0;34m==\u001b[0m \u001b[0;34m\"pt\"\u001b[0m\u001b[0;34m:\u001b[0m\u001b[0;34m\u001b[0m\u001b[0;34m\u001b[0m\u001b[0m\n",
            "\u001b[0;32m/usr/local/lib/python3.10/dist-packages/torch/utils/_contextlib.py\u001b[0m in \u001b[0;36mdecorate_context\u001b[0;34m(*args, **kwargs)\u001b[0m\n\u001b[1;32m    114\u001b[0m     \u001b[0;32mdef\u001b[0m \u001b[0mdecorate_context\u001b[0m\u001b[0;34m(\u001b[0m\u001b[0;34m*\u001b[0m\u001b[0margs\u001b[0m\u001b[0;34m,\u001b[0m \u001b[0;34m**\u001b[0m\u001b[0mkwargs\u001b[0m\u001b[0;34m)\u001b[0m\u001b[0;34m:\u001b[0m\u001b[0;34m\u001b[0m\u001b[0;34m\u001b[0m\u001b[0m\n\u001b[1;32m    115\u001b[0m         \u001b[0;32mwith\u001b[0m \u001b[0mctx_factory\u001b[0m\u001b[0;34m(\u001b[0m\u001b[0;34m)\u001b[0m\u001b[0;34m:\u001b[0m\u001b[0;34m\u001b[0m\u001b[0;34m\u001b[0m\u001b[0m\n\u001b[0;32m--> 116\u001b[0;31m             \u001b[0;32mreturn\u001b[0m \u001b[0mfunc\u001b[0m\u001b[0;34m(\u001b[0m\u001b[0;34m*\u001b[0m\u001b[0margs\u001b[0m\u001b[0;34m,\u001b[0m \u001b[0;34m**\u001b[0m\u001b[0mkwargs\u001b[0m\u001b[0;34m)\u001b[0m\u001b[0;34m\u001b[0m\u001b[0;34m\u001b[0m\u001b[0m\n\u001b[0m\u001b[1;32m    117\u001b[0m \u001b[0;34m\u001b[0m\u001b[0m\n\u001b[1;32m    118\u001b[0m     \u001b[0;32mreturn\u001b[0m \u001b[0mdecorate_context\u001b[0m\u001b[0;34m\u001b[0m\u001b[0;34m\u001b[0m\u001b[0m\n",
            "\u001b[0;32m/usr/local/lib/python3.10/dist-packages/transformers/generation/utils.py\u001b[0m in \u001b[0;36mgenerate\u001b[0;34m(self, inputs, generation_config, logits_processor, stopping_criteria, prefix_allowed_tokens_fn, synced_gpus, assistant_model, streamer, negative_prompt_ids, negative_prompt_attention_mask, **kwargs)\u001b[0m\n\u001b[1;32m   2025\u001b[0m         \u001b[0;32mif\u001b[0m \u001b[0mself\u001b[0m\u001b[0;34m.\u001b[0m\u001b[0mconfig\u001b[0m\u001b[0;34m.\u001b[0m\u001b[0mis_encoder_decoder\u001b[0m \u001b[0;32mand\u001b[0m \u001b[0;34m\"encoder_outputs\"\u001b[0m \u001b[0;32mnot\u001b[0m \u001b[0;32min\u001b[0m \u001b[0mmodel_kwargs\u001b[0m\u001b[0;34m:\u001b[0m\u001b[0;34m\u001b[0m\u001b[0;34m\u001b[0m\u001b[0m\n\u001b[1;32m   2026\u001b[0m             \u001b[0;31m# if model is encoder decoder encoder_outputs are created and added to `model_kwargs`\u001b[0m\u001b[0;34m\u001b[0m\u001b[0;34m\u001b[0m\u001b[0m\n\u001b[0;32m-> 2027\u001b[0;31m             model_kwargs = self._prepare_encoder_decoder_kwargs_for_generation(\n\u001b[0m\u001b[1;32m   2028\u001b[0m                 \u001b[0minputs_tensor\u001b[0m\u001b[0;34m,\u001b[0m \u001b[0mmodel_kwargs\u001b[0m\u001b[0;34m,\u001b[0m \u001b[0mmodel_input_name\u001b[0m\u001b[0;34m,\u001b[0m \u001b[0mgeneration_config\u001b[0m\u001b[0;34m\u001b[0m\u001b[0;34m\u001b[0m\u001b[0m\n\u001b[1;32m   2029\u001b[0m             )\n",
            "\u001b[0;32m/usr/local/lib/python3.10/dist-packages/transformers/generation/utils.py\u001b[0m in \u001b[0;36m_prepare_encoder_decoder_kwargs_for_generation\u001b[0;34m(self, inputs_tensor, model_kwargs, model_input_name, generation_config)\u001b[0m\n\u001b[1;32m    633\u001b[0m         \u001b[0mencoder_kwargs\u001b[0m\u001b[0;34m[\u001b[0m\u001b[0;34m\"return_dict\"\u001b[0m\u001b[0;34m]\u001b[0m \u001b[0;34m=\u001b[0m \u001b[0;32mTrue\u001b[0m\u001b[0;34m\u001b[0m\u001b[0;34m\u001b[0m\u001b[0m\n\u001b[1;32m    634\u001b[0m         \u001b[0mencoder_kwargs\u001b[0m\u001b[0;34m[\u001b[0m\u001b[0mmodel_input_name\u001b[0m\u001b[0;34m]\u001b[0m \u001b[0;34m=\u001b[0m \u001b[0minputs_tensor\u001b[0m\u001b[0;34m\u001b[0m\u001b[0;34m\u001b[0m\u001b[0m\n\u001b[0;32m--> 635\u001b[0;31m         \u001b[0mmodel_kwargs\u001b[0m\u001b[0;34m[\u001b[0m\u001b[0;34m\"encoder_outputs\"\u001b[0m\u001b[0;34m]\u001b[0m\u001b[0;34m:\u001b[0m \u001b[0mModelOutput\u001b[0m \u001b[0;34m=\u001b[0m \u001b[0mencoder\u001b[0m\u001b[0;34m(\u001b[0m\u001b[0;34m**\u001b[0m\u001b[0mencoder_kwargs\u001b[0m\u001b[0;34m)\u001b[0m  \u001b[0;31m# type: ignore\u001b[0m\u001b[0;34m\u001b[0m\u001b[0;34m\u001b[0m\u001b[0m\n\u001b[0m\u001b[1;32m    636\u001b[0m \u001b[0;34m\u001b[0m\u001b[0m\n\u001b[1;32m    637\u001b[0m         \u001b[0;32mreturn\u001b[0m \u001b[0mmodel_kwargs\u001b[0m\u001b[0;34m\u001b[0m\u001b[0;34m\u001b[0m\u001b[0m\n",
            "\u001b[0;32m/usr/local/lib/python3.10/dist-packages/torch/nn/modules/module.py\u001b[0m in \u001b[0;36m_wrapped_call_impl\u001b[0;34m(self, *args, **kwargs)\u001b[0m\n\u001b[1;32m   1734\u001b[0m             \u001b[0;32mreturn\u001b[0m \u001b[0mself\u001b[0m\u001b[0;34m.\u001b[0m\u001b[0m_compiled_call_impl\u001b[0m\u001b[0;34m(\u001b[0m\u001b[0;34m*\u001b[0m\u001b[0margs\u001b[0m\u001b[0;34m,\u001b[0m \u001b[0;34m**\u001b[0m\u001b[0mkwargs\u001b[0m\u001b[0;34m)\u001b[0m  \u001b[0;31m# type: ignore[misc]\u001b[0m\u001b[0;34m\u001b[0m\u001b[0;34m\u001b[0m\u001b[0m\n\u001b[1;32m   1735\u001b[0m         \u001b[0;32melse\u001b[0m\u001b[0;34m:\u001b[0m\u001b[0;34m\u001b[0m\u001b[0;34m\u001b[0m\u001b[0m\n\u001b[0;32m-> 1736\u001b[0;31m             \u001b[0;32mreturn\u001b[0m \u001b[0mself\u001b[0m\u001b[0;34m.\u001b[0m\u001b[0m_call_impl\u001b[0m\u001b[0;34m(\u001b[0m\u001b[0;34m*\u001b[0m\u001b[0margs\u001b[0m\u001b[0;34m,\u001b[0m \u001b[0;34m**\u001b[0m\u001b[0mkwargs\u001b[0m\u001b[0;34m)\u001b[0m\u001b[0;34m\u001b[0m\u001b[0;34m\u001b[0m\u001b[0m\n\u001b[0m\u001b[1;32m   1737\u001b[0m \u001b[0;34m\u001b[0m\u001b[0m\n\u001b[1;32m   1738\u001b[0m     \u001b[0;31m# torchrec tests the code consistency with the following code\u001b[0m\u001b[0;34m\u001b[0m\u001b[0;34m\u001b[0m\u001b[0m\n",
            "\u001b[0;32m/usr/local/lib/python3.10/dist-packages/torch/nn/modules/module.py\u001b[0m in \u001b[0;36m_call_impl\u001b[0;34m(self, *args, **kwargs)\u001b[0m\n\u001b[1;32m   1745\u001b[0m                 \u001b[0;32mor\u001b[0m \u001b[0m_global_backward_pre_hooks\u001b[0m \u001b[0;32mor\u001b[0m \u001b[0m_global_backward_hooks\u001b[0m\u001b[0;34m\u001b[0m\u001b[0;34m\u001b[0m\u001b[0m\n\u001b[1;32m   1746\u001b[0m                 or _global_forward_hooks or _global_forward_pre_hooks):\n\u001b[0;32m-> 1747\u001b[0;31m             \u001b[0;32mreturn\u001b[0m \u001b[0mforward_call\u001b[0m\u001b[0;34m(\u001b[0m\u001b[0;34m*\u001b[0m\u001b[0margs\u001b[0m\u001b[0;34m,\u001b[0m \u001b[0;34m**\u001b[0m\u001b[0mkwargs\u001b[0m\u001b[0;34m)\u001b[0m\u001b[0;34m\u001b[0m\u001b[0;34m\u001b[0m\u001b[0m\n\u001b[0m\u001b[1;32m   1748\u001b[0m \u001b[0;34m\u001b[0m\u001b[0m\n\u001b[1;32m   1749\u001b[0m         \u001b[0mresult\u001b[0m \u001b[0;34m=\u001b[0m \u001b[0;32mNone\u001b[0m\u001b[0;34m\u001b[0m\u001b[0;34m\u001b[0m\u001b[0m\n",
            "\u001b[0;32m/usr/local/lib/python3.10/dist-packages/transformers/models/t5/modeling_t5.py\u001b[0m in \u001b[0;36mforward\u001b[0;34m(self, input_ids, attention_mask, encoder_hidden_states, encoder_attention_mask, inputs_embeds, head_mask, cross_attn_head_mask, past_key_values, use_cache, output_attentions, output_hidden_states, return_dict, cache_position)\u001b[0m\n\u001b[1;32m   1122\u001b[0m                 )\n\u001b[1;32m   1123\u001b[0m             \u001b[0;32melse\u001b[0m\u001b[0;34m:\u001b[0m\u001b[0;34m\u001b[0m\u001b[0;34m\u001b[0m\u001b[0m\n\u001b[0;32m-> 1124\u001b[0;31m                 layer_outputs = layer_module(\n\u001b[0m\u001b[1;32m   1125\u001b[0m                     \u001b[0mhidden_states\u001b[0m\u001b[0;34m,\u001b[0m\u001b[0;34m\u001b[0m\u001b[0;34m\u001b[0m\u001b[0m\n\u001b[1;32m   1126\u001b[0m                     \u001b[0mattention_mask\u001b[0m\u001b[0;34m=\u001b[0m\u001b[0mcausal_mask\u001b[0m\u001b[0;34m,\u001b[0m\u001b[0;34m\u001b[0m\u001b[0;34m\u001b[0m\u001b[0m\n",
            "\u001b[0;32m/usr/local/lib/python3.10/dist-packages/torch/nn/modules/module.py\u001b[0m in \u001b[0;36m_wrapped_call_impl\u001b[0;34m(self, *args, **kwargs)\u001b[0m\n\u001b[1;32m   1734\u001b[0m             \u001b[0;32mreturn\u001b[0m \u001b[0mself\u001b[0m\u001b[0;34m.\u001b[0m\u001b[0m_compiled_call_impl\u001b[0m\u001b[0;34m(\u001b[0m\u001b[0;34m*\u001b[0m\u001b[0margs\u001b[0m\u001b[0;34m,\u001b[0m \u001b[0;34m**\u001b[0m\u001b[0mkwargs\u001b[0m\u001b[0;34m)\u001b[0m  \u001b[0;31m# type: ignore[misc]\u001b[0m\u001b[0;34m\u001b[0m\u001b[0;34m\u001b[0m\u001b[0m\n\u001b[1;32m   1735\u001b[0m         \u001b[0;32melse\u001b[0m\u001b[0;34m:\u001b[0m\u001b[0;34m\u001b[0m\u001b[0;34m\u001b[0m\u001b[0m\n\u001b[0;32m-> 1736\u001b[0;31m             \u001b[0;32mreturn\u001b[0m \u001b[0mself\u001b[0m\u001b[0;34m.\u001b[0m\u001b[0m_call_impl\u001b[0m\u001b[0;34m(\u001b[0m\u001b[0;34m*\u001b[0m\u001b[0margs\u001b[0m\u001b[0;34m,\u001b[0m \u001b[0;34m**\u001b[0m\u001b[0mkwargs\u001b[0m\u001b[0;34m)\u001b[0m\u001b[0;34m\u001b[0m\u001b[0;34m\u001b[0m\u001b[0m\n\u001b[0m\u001b[1;32m   1737\u001b[0m \u001b[0;34m\u001b[0m\u001b[0m\n\u001b[1;32m   1738\u001b[0m     \u001b[0;31m# torchrec tests the code consistency with the following code\u001b[0m\u001b[0;34m\u001b[0m\u001b[0;34m\u001b[0m\u001b[0m\n",
            "\u001b[0;32m/usr/local/lib/python3.10/dist-packages/torch/nn/modules/module.py\u001b[0m in \u001b[0;36m_call_impl\u001b[0;34m(self, *args, **kwargs)\u001b[0m\n\u001b[1;32m   1745\u001b[0m                 \u001b[0;32mor\u001b[0m \u001b[0m_global_backward_pre_hooks\u001b[0m \u001b[0;32mor\u001b[0m \u001b[0m_global_backward_hooks\u001b[0m\u001b[0;34m\u001b[0m\u001b[0;34m\u001b[0m\u001b[0m\n\u001b[1;32m   1746\u001b[0m                 or _global_forward_hooks or _global_forward_pre_hooks):\n\u001b[0;32m-> 1747\u001b[0;31m             \u001b[0;32mreturn\u001b[0m \u001b[0mforward_call\u001b[0m\u001b[0;34m(\u001b[0m\u001b[0;34m*\u001b[0m\u001b[0margs\u001b[0m\u001b[0;34m,\u001b[0m \u001b[0;34m**\u001b[0m\u001b[0mkwargs\u001b[0m\u001b[0;34m)\u001b[0m\u001b[0;34m\u001b[0m\u001b[0;34m\u001b[0m\u001b[0m\n\u001b[0m\u001b[1;32m   1748\u001b[0m \u001b[0;34m\u001b[0m\u001b[0m\n\u001b[1;32m   1749\u001b[0m         \u001b[0mresult\u001b[0m \u001b[0;34m=\u001b[0m \u001b[0;32mNone\u001b[0m\u001b[0;34m\u001b[0m\u001b[0;34m\u001b[0m\u001b[0m\n",
            "\u001b[0;32m/usr/local/lib/python3.10/dist-packages/transformers/models/t5/modeling_t5.py\u001b[0m in \u001b[0;36mforward\u001b[0;34m(self, hidden_states, attention_mask, position_bias, encoder_hidden_states, encoder_attention_mask, encoder_decoder_position_bias, layer_head_mask, cross_attn_layer_head_mask, past_key_value, use_cache, output_attentions, return_dict, cache_position)\u001b[0m\n\u001b[1;32m    673\u001b[0m         \u001b[0mcache_position\u001b[0m\u001b[0;34m=\u001b[0m\u001b[0;32mNone\u001b[0m\u001b[0;34m,\u001b[0m\u001b[0;34m\u001b[0m\u001b[0;34m\u001b[0m\u001b[0m\n\u001b[1;32m    674\u001b[0m     ):\n\u001b[0;32m--> 675\u001b[0;31m         self_attention_outputs = self.layer[0](\n\u001b[0m\u001b[1;32m    676\u001b[0m             \u001b[0mhidden_states\u001b[0m\u001b[0;34m,\u001b[0m\u001b[0;34m\u001b[0m\u001b[0;34m\u001b[0m\u001b[0m\n\u001b[1;32m    677\u001b[0m             \u001b[0mattention_mask\u001b[0m\u001b[0;34m=\u001b[0m\u001b[0mattention_mask\u001b[0m\u001b[0;34m,\u001b[0m\u001b[0;34m\u001b[0m\u001b[0;34m\u001b[0m\u001b[0m\n",
            "\u001b[0;32m/usr/local/lib/python3.10/dist-packages/torch/nn/modules/module.py\u001b[0m in \u001b[0;36m_wrapped_call_impl\u001b[0;34m(self, *args, **kwargs)\u001b[0m\n\u001b[1;32m   1734\u001b[0m             \u001b[0;32mreturn\u001b[0m \u001b[0mself\u001b[0m\u001b[0;34m.\u001b[0m\u001b[0m_compiled_call_impl\u001b[0m\u001b[0;34m(\u001b[0m\u001b[0;34m*\u001b[0m\u001b[0margs\u001b[0m\u001b[0;34m,\u001b[0m \u001b[0;34m**\u001b[0m\u001b[0mkwargs\u001b[0m\u001b[0;34m)\u001b[0m  \u001b[0;31m# type: ignore[misc]\u001b[0m\u001b[0;34m\u001b[0m\u001b[0;34m\u001b[0m\u001b[0m\n\u001b[1;32m   1735\u001b[0m         \u001b[0;32melse\u001b[0m\u001b[0;34m:\u001b[0m\u001b[0;34m\u001b[0m\u001b[0;34m\u001b[0m\u001b[0m\n\u001b[0;32m-> 1736\u001b[0;31m             \u001b[0;32mreturn\u001b[0m \u001b[0mself\u001b[0m\u001b[0;34m.\u001b[0m\u001b[0m_call_impl\u001b[0m\u001b[0;34m(\u001b[0m\u001b[0;34m*\u001b[0m\u001b[0margs\u001b[0m\u001b[0;34m,\u001b[0m \u001b[0;34m**\u001b[0m\u001b[0mkwargs\u001b[0m\u001b[0;34m)\u001b[0m\u001b[0;34m\u001b[0m\u001b[0;34m\u001b[0m\u001b[0m\n\u001b[0m\u001b[1;32m   1737\u001b[0m \u001b[0;34m\u001b[0m\u001b[0m\n\u001b[1;32m   1738\u001b[0m     \u001b[0;31m# torchrec tests the code consistency with the following code\u001b[0m\u001b[0;34m\u001b[0m\u001b[0;34m\u001b[0m\u001b[0m\n",
            "\u001b[0;32m/usr/local/lib/python3.10/dist-packages/torch/nn/modules/module.py\u001b[0m in \u001b[0;36m_call_impl\u001b[0;34m(self, *args, **kwargs)\u001b[0m\n\u001b[1;32m   1745\u001b[0m                 \u001b[0;32mor\u001b[0m \u001b[0m_global_backward_pre_hooks\u001b[0m \u001b[0;32mor\u001b[0m \u001b[0m_global_backward_hooks\u001b[0m\u001b[0;34m\u001b[0m\u001b[0;34m\u001b[0m\u001b[0m\n\u001b[1;32m   1746\u001b[0m                 or _global_forward_hooks or _global_forward_pre_hooks):\n\u001b[0;32m-> 1747\u001b[0;31m             \u001b[0;32mreturn\u001b[0m \u001b[0mforward_call\u001b[0m\u001b[0;34m(\u001b[0m\u001b[0;34m*\u001b[0m\u001b[0margs\u001b[0m\u001b[0;34m,\u001b[0m \u001b[0;34m**\u001b[0m\u001b[0mkwargs\u001b[0m\u001b[0;34m)\u001b[0m\u001b[0;34m\u001b[0m\u001b[0;34m\u001b[0m\u001b[0m\n\u001b[0m\u001b[1;32m   1748\u001b[0m \u001b[0;34m\u001b[0m\u001b[0m\n\u001b[1;32m   1749\u001b[0m         \u001b[0mresult\u001b[0m \u001b[0;34m=\u001b[0m \u001b[0;32mNone\u001b[0m\u001b[0;34m\u001b[0m\u001b[0;34m\u001b[0m\u001b[0m\n",
            "\u001b[0;32m/usr/local/lib/python3.10/dist-packages/transformers/models/t5/modeling_t5.py\u001b[0m in \u001b[0;36mforward\u001b[0;34m(self, hidden_states, attention_mask, position_bias, layer_head_mask, past_key_value, use_cache, output_attentions, cache_position)\u001b[0m\n\u001b[1;32m    591\u001b[0m     ):\n\u001b[1;32m    592\u001b[0m         \u001b[0mnormed_hidden_states\u001b[0m \u001b[0;34m=\u001b[0m \u001b[0mself\u001b[0m\u001b[0;34m.\u001b[0m\u001b[0mlayer_norm\u001b[0m\u001b[0;34m(\u001b[0m\u001b[0mhidden_states\u001b[0m\u001b[0;34m)\u001b[0m\u001b[0;34m\u001b[0m\u001b[0;34m\u001b[0m\u001b[0m\n\u001b[0;32m--> 593\u001b[0;31m         attention_output = self.SelfAttention(\n\u001b[0m\u001b[1;32m    594\u001b[0m             \u001b[0mnormed_hidden_states\u001b[0m\u001b[0;34m,\u001b[0m\u001b[0;34m\u001b[0m\u001b[0;34m\u001b[0m\u001b[0m\n\u001b[1;32m    595\u001b[0m             \u001b[0mmask\u001b[0m\u001b[0;34m=\u001b[0m\u001b[0mattention_mask\u001b[0m\u001b[0;34m,\u001b[0m\u001b[0;34m\u001b[0m\u001b[0;34m\u001b[0m\u001b[0m\n",
            "\u001b[0;32m/usr/local/lib/python3.10/dist-packages/torch/nn/modules/module.py\u001b[0m in \u001b[0;36m_wrapped_call_impl\u001b[0;34m(self, *args, **kwargs)\u001b[0m\n\u001b[1;32m   1734\u001b[0m             \u001b[0;32mreturn\u001b[0m \u001b[0mself\u001b[0m\u001b[0;34m.\u001b[0m\u001b[0m_compiled_call_impl\u001b[0m\u001b[0;34m(\u001b[0m\u001b[0;34m*\u001b[0m\u001b[0margs\u001b[0m\u001b[0;34m,\u001b[0m \u001b[0;34m**\u001b[0m\u001b[0mkwargs\u001b[0m\u001b[0;34m)\u001b[0m  \u001b[0;31m# type: ignore[misc]\u001b[0m\u001b[0;34m\u001b[0m\u001b[0;34m\u001b[0m\u001b[0m\n\u001b[1;32m   1735\u001b[0m         \u001b[0;32melse\u001b[0m\u001b[0;34m:\u001b[0m\u001b[0;34m\u001b[0m\u001b[0;34m\u001b[0m\u001b[0m\n\u001b[0;32m-> 1736\u001b[0;31m             \u001b[0;32mreturn\u001b[0m \u001b[0mself\u001b[0m\u001b[0;34m.\u001b[0m\u001b[0m_call_impl\u001b[0m\u001b[0;34m(\u001b[0m\u001b[0;34m*\u001b[0m\u001b[0margs\u001b[0m\u001b[0;34m,\u001b[0m \u001b[0;34m**\u001b[0m\u001b[0mkwargs\u001b[0m\u001b[0;34m)\u001b[0m\u001b[0;34m\u001b[0m\u001b[0;34m\u001b[0m\u001b[0m\n\u001b[0m\u001b[1;32m   1737\u001b[0m \u001b[0;34m\u001b[0m\u001b[0m\n\u001b[1;32m   1738\u001b[0m     \u001b[0;31m# torchrec tests the code consistency with the following code\u001b[0m\u001b[0;34m\u001b[0m\u001b[0;34m\u001b[0m\u001b[0m\n",
            "\u001b[0;32m/usr/local/lib/python3.10/dist-packages/torch/nn/modules/module.py\u001b[0m in \u001b[0;36m_call_impl\u001b[0;34m(self, *args, **kwargs)\u001b[0m\n\u001b[1;32m   1745\u001b[0m                 \u001b[0;32mor\u001b[0m \u001b[0m_global_backward_pre_hooks\u001b[0m \u001b[0;32mor\u001b[0m \u001b[0m_global_backward_hooks\u001b[0m\u001b[0;34m\u001b[0m\u001b[0;34m\u001b[0m\u001b[0m\n\u001b[1;32m   1746\u001b[0m                 or _global_forward_hooks or _global_forward_pre_hooks):\n\u001b[0;32m-> 1747\u001b[0;31m             \u001b[0;32mreturn\u001b[0m \u001b[0mforward_call\u001b[0m\u001b[0;34m(\u001b[0m\u001b[0;34m*\u001b[0m\u001b[0margs\u001b[0m\u001b[0;34m,\u001b[0m \u001b[0;34m**\u001b[0m\u001b[0mkwargs\u001b[0m\u001b[0;34m)\u001b[0m\u001b[0;34m\u001b[0m\u001b[0;34m\u001b[0m\u001b[0m\n\u001b[0m\u001b[1;32m   1748\u001b[0m \u001b[0;34m\u001b[0m\u001b[0m\n\u001b[1;32m   1749\u001b[0m         \u001b[0mresult\u001b[0m \u001b[0;34m=\u001b[0m \u001b[0;32mNone\u001b[0m\u001b[0;34m\u001b[0m\u001b[0;34m\u001b[0m\u001b[0m\n",
            "\u001b[0;32m/usr/local/lib/python3.10/dist-packages/transformers/models/t5/modeling_t5.py\u001b[0m in \u001b[0;36mforward\u001b[0;34m(self, hidden_states, mask, key_value_states, position_bias, past_key_value, layer_head_mask, query_length, use_cache, output_attentions, cache_position)\u001b[0m\n\u001b[1;32m    531\u001b[0m                     \u001b[0mposition_bias\u001b[0m\u001b[0;34m.\u001b[0m\u001b[0mrequires_grad\u001b[0m \u001b[0;34m=\u001b[0m \u001b[0;32mTrue\u001b[0m\u001b[0;34m\u001b[0m\u001b[0;34m\u001b[0m\u001b[0m\n\u001b[1;32m    532\u001b[0m             \u001b[0;32melse\u001b[0m\u001b[0;34m:\u001b[0m\u001b[0;34m\u001b[0m\u001b[0;34m\u001b[0m\u001b[0m\n\u001b[0;32m--> 533\u001b[0;31m                 position_bias = self.compute_bias(\n\u001b[0m\u001b[1;32m    534\u001b[0m                     \u001b[0mreal_seq_length\u001b[0m\u001b[0;34m,\u001b[0m \u001b[0mkey_length\u001b[0m\u001b[0;34m,\u001b[0m \u001b[0mdevice\u001b[0m\u001b[0;34m=\u001b[0m\u001b[0mscores\u001b[0m\u001b[0;34m.\u001b[0m\u001b[0mdevice\u001b[0m\u001b[0;34m,\u001b[0m \u001b[0mcache_position\u001b[0m\u001b[0;34m=\u001b[0m\u001b[0mcache_position\u001b[0m\u001b[0;34m\u001b[0m\u001b[0;34m\u001b[0m\u001b[0m\n\u001b[1;32m    535\u001b[0m                 )\n",
            "\u001b[0;32m/usr/local/lib/python3.10/dist-packages/transformers/models/t5/modeling_t5.py\u001b[0m in \u001b[0;36mcompute_bias\u001b[0;34m(self, query_length, key_length, device, cache_position)\u001b[0m\n\u001b[1;32m    452\u001b[0m         \u001b[0mmemory_position\u001b[0m \u001b[0;34m=\u001b[0m \u001b[0mtorch\u001b[0m\u001b[0;34m.\u001b[0m\u001b[0marange\u001b[0m\u001b[0;34m(\u001b[0m\u001b[0mkey_length\u001b[0m\u001b[0;34m,\u001b[0m \u001b[0mdtype\u001b[0m\u001b[0;34m=\u001b[0m\u001b[0mtorch\u001b[0m\u001b[0;34m.\u001b[0m\u001b[0mlong\u001b[0m\u001b[0;34m,\u001b[0m \u001b[0mdevice\u001b[0m\u001b[0;34m=\u001b[0m\u001b[0mdevice\u001b[0m\u001b[0;34m)\u001b[0m\u001b[0;34m[\u001b[0m\u001b[0;32mNone\u001b[0m\u001b[0;34m,\u001b[0m \u001b[0;34m:\u001b[0m\u001b[0;34m]\u001b[0m\u001b[0;34m\u001b[0m\u001b[0;34m\u001b[0m\u001b[0m\n\u001b[1;32m    453\u001b[0m         \u001b[0mrelative_position\u001b[0m \u001b[0;34m=\u001b[0m \u001b[0mmemory_position\u001b[0m \u001b[0;34m-\u001b[0m \u001b[0mcontext_position\u001b[0m  \u001b[0;31m# shape (query_length, key_length)\u001b[0m\u001b[0;34m\u001b[0m\u001b[0;34m\u001b[0m\u001b[0m\n\u001b[0;32m--> 454\u001b[0;31m         relative_position_bucket = self._relative_position_bucket(\n\u001b[0m\u001b[1;32m    455\u001b[0m             \u001b[0mrelative_position\u001b[0m\u001b[0;34m,\u001b[0m  \u001b[0;31m# shape (query_length, key_length)\u001b[0m\u001b[0;34m\u001b[0m\u001b[0;34m\u001b[0m\u001b[0m\n\u001b[1;32m    456\u001b[0m             \u001b[0mbidirectional\u001b[0m\u001b[0;34m=\u001b[0m\u001b[0;34m(\u001b[0m\u001b[0;32mnot\u001b[0m \u001b[0mself\u001b[0m\u001b[0;34m.\u001b[0m\u001b[0mis_decoder\u001b[0m\u001b[0;34m)\u001b[0m\u001b[0;34m,\u001b[0m\u001b[0;34m\u001b[0m\u001b[0;34m\u001b[0m\u001b[0m\n",
            "\u001b[0;32m/usr/local/lib/python3.10/dist-packages/transformers/models/t5/modeling_t5.py\u001b[0m in \u001b[0;36m_relative_position_bucket\u001b[0;34m(relative_position, bidirectional, num_buckets, max_distance)\u001b[0m\n\u001b[1;32m    430\u001b[0m \u001b[0;34m\u001b[0m\u001b[0m\n\u001b[1;32m    431\u001b[0m         \u001b[0;31m# The other half of the buckets are for logarithmically bigger bins in positions up to max_distance\u001b[0m\u001b[0;34m\u001b[0m\u001b[0;34m\u001b[0m\u001b[0m\n\u001b[0;32m--> 432\u001b[0;31m         relative_position_if_large = max_exact + (\n\u001b[0m\u001b[1;32m    433\u001b[0m             \u001b[0mtorch\u001b[0m\u001b[0;34m.\u001b[0m\u001b[0mlog\u001b[0m\u001b[0;34m(\u001b[0m\u001b[0mrelative_position\u001b[0m\u001b[0;34m.\u001b[0m\u001b[0mfloat\u001b[0m\u001b[0;34m(\u001b[0m\u001b[0;34m)\u001b[0m \u001b[0;34m/\u001b[0m \u001b[0mmax_exact\u001b[0m\u001b[0;34m)\u001b[0m\u001b[0;34m\u001b[0m\u001b[0;34m\u001b[0m\u001b[0m\n\u001b[1;32m    434\u001b[0m             \u001b[0;34m/\u001b[0m \u001b[0mmath\u001b[0m\u001b[0;34m.\u001b[0m\u001b[0mlog\u001b[0m\u001b[0;34m(\u001b[0m\u001b[0mmax_distance\u001b[0m \u001b[0;34m/\u001b[0m \u001b[0mmax_exact\u001b[0m\u001b[0;34m)\u001b[0m\u001b[0;34m\u001b[0m\u001b[0;34m\u001b[0m\u001b[0m\n",
            "\u001b[0;31mOutOfMemoryError\u001b[0m: CUDA out of memory. Tried to allocate 1.13 GiB. GPU 0 has a total capacity of 39.56 GiB of which 1.08 GiB is free. Process 765051 has 38.48 GiB memory in use. Of the allocated memory 37.25 GiB is allocated by PyTorch, and 746.91 MiB is reserved by PyTorch but unallocated. If reserved but unallocated memory is large try setting PYTORCH_CUDA_ALLOC_CONF=expandable_segments:True to avoid fragmentation.  See documentation for Memory Management  (https://pytorch.org/docs/stable/notes/cuda.html#environment-variables)"
          ]
        }
      ]
    }
  ]
}