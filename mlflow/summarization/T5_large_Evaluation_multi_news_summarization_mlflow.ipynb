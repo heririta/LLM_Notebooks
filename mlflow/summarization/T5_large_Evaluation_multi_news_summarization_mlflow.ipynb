{
  "nbformat": 4,
  "nbformat_minor": 0,
  "metadata": {
    "colab": {
      "provenance": [],
      "machine_shape": "hm",
      "gpuType": "A100",
      "authorship_tag": "ABX9TyOlgChkTEU4atenzrVDF8Oz",
      "include_colab_link": true
    },
    "kernelspec": {
      "name": "python3",
      "display_name": "Python 3"
    },
    "language_info": {
      "name": "python"
    },
    "accelerator": "GPU",
    "widgets": {
      "application/vnd.jupyter.widget-state+json": {
        "bda27314652a4f5ebc30eb91ee71247e": {
          "model_module": "@jupyter-widgets/controls",
          "model_name": "HBoxModel",
          "model_module_version": "1.5.0",
          "state": {
            "_dom_classes": [],
            "_model_module": "@jupyter-widgets/controls",
            "_model_module_version": "1.5.0",
            "_model_name": "HBoxModel",
            "_view_count": null,
            "_view_module": "@jupyter-widgets/controls",
            "_view_module_version": "1.5.0",
            "_view_name": "HBoxView",
            "box_style": "",
            "children": [
              "IPY_MODEL_139a94c948c0413eabffb7967dffbdde",
              "IPY_MODEL_61f7379eab2c412e97c23f3fc7cbbb76",
              "IPY_MODEL_12129c19f8fa4815bf54108a68679c8a"
            ],
            "layout": "IPY_MODEL_d91809e698154b7b8d8a11e1935071bc"
          }
        },
        "139a94c948c0413eabffb7967dffbdde": {
          "model_module": "@jupyter-widgets/controls",
          "model_name": "HTMLModel",
          "model_module_version": "1.5.0",
          "state": {
            "_dom_classes": [],
            "_model_module": "@jupyter-widgets/controls",
            "_model_module_version": "1.5.0",
            "_model_name": "HTMLModel",
            "_view_count": null,
            "_view_module": "@jupyter-widgets/controls",
            "_view_module_version": "1.5.0",
            "_view_name": "HTMLView",
            "description": "",
            "description_tooltip": null,
            "layout": "IPY_MODEL_951e46ee4e264b978bc50195ffa85db2",
            "placeholder": "​",
            "style": "IPY_MODEL_32b4565fc64a4ac89ef90145f0e9aea6",
            "value": "Downloading artifacts: 100%"
          }
        },
        "61f7379eab2c412e97c23f3fc7cbbb76": {
          "model_module": "@jupyter-widgets/controls",
          "model_name": "FloatProgressModel",
          "model_module_version": "1.5.0",
          "state": {
            "_dom_classes": [],
            "_model_module": "@jupyter-widgets/controls",
            "_model_module_version": "1.5.0",
            "_model_name": "FloatProgressModel",
            "_view_count": null,
            "_view_module": "@jupyter-widgets/controls",
            "_view_module_version": "1.5.0",
            "_view_name": "ProgressView",
            "bar_style": "success",
            "description": "",
            "description_tooltip": null,
            "layout": "IPY_MODEL_17c4a60722034abfb5a622620230295c",
            "max": 17,
            "min": 0,
            "orientation": "horizontal",
            "style": "IPY_MODEL_160d33b174ac40d8ad08e63b31ab3ea8",
            "value": 17
          }
        },
        "12129c19f8fa4815bf54108a68679c8a": {
          "model_module": "@jupyter-widgets/controls",
          "model_name": "HTMLModel",
          "model_module_version": "1.5.0",
          "state": {
            "_dom_classes": [],
            "_model_module": "@jupyter-widgets/controls",
            "_model_module_version": "1.5.0",
            "_model_name": "HTMLModel",
            "_view_count": null,
            "_view_module": "@jupyter-widgets/controls",
            "_view_module_version": "1.5.0",
            "_view_name": "HTMLView",
            "description": "",
            "description_tooltip": null,
            "layout": "IPY_MODEL_0604a41d1d7245a8b3594c9a338f3094",
            "placeholder": "​",
            "style": "IPY_MODEL_1620cc4900464fe1b171cd0621f193a6",
            "value": " 17/17 [00:28&lt;00:00,  3.83s/it]"
          }
        },
        "d91809e698154b7b8d8a11e1935071bc": {
          "model_module": "@jupyter-widgets/base",
          "model_name": "LayoutModel",
          "model_module_version": "1.2.0",
          "state": {
            "_model_module": "@jupyter-widgets/base",
            "_model_module_version": "1.2.0",
            "_model_name": "LayoutModel",
            "_view_count": null,
            "_view_module": "@jupyter-widgets/base",
            "_view_module_version": "1.2.0",
            "_view_name": "LayoutView",
            "align_content": null,
            "align_items": null,
            "align_self": null,
            "border": null,
            "bottom": null,
            "display": null,
            "flex": null,
            "flex_flow": null,
            "grid_area": null,
            "grid_auto_columns": null,
            "grid_auto_flow": null,
            "grid_auto_rows": null,
            "grid_column": null,
            "grid_gap": null,
            "grid_row": null,
            "grid_template_areas": null,
            "grid_template_columns": null,
            "grid_template_rows": null,
            "height": null,
            "justify_content": null,
            "justify_items": null,
            "left": null,
            "margin": null,
            "max_height": null,
            "max_width": null,
            "min_height": null,
            "min_width": null,
            "object_fit": null,
            "object_position": null,
            "order": null,
            "overflow": null,
            "overflow_x": null,
            "overflow_y": null,
            "padding": null,
            "right": null,
            "top": null,
            "visibility": null,
            "width": null
          }
        },
        "951e46ee4e264b978bc50195ffa85db2": {
          "model_module": "@jupyter-widgets/base",
          "model_name": "LayoutModel",
          "model_module_version": "1.2.0",
          "state": {
            "_model_module": "@jupyter-widgets/base",
            "_model_module_version": "1.2.0",
            "_model_name": "LayoutModel",
            "_view_count": null,
            "_view_module": "@jupyter-widgets/base",
            "_view_module_version": "1.2.0",
            "_view_name": "LayoutView",
            "align_content": null,
            "align_items": null,
            "align_self": null,
            "border": null,
            "bottom": null,
            "display": null,
            "flex": null,
            "flex_flow": null,
            "grid_area": null,
            "grid_auto_columns": null,
            "grid_auto_flow": null,
            "grid_auto_rows": null,
            "grid_column": null,
            "grid_gap": null,
            "grid_row": null,
            "grid_template_areas": null,
            "grid_template_columns": null,
            "grid_template_rows": null,
            "height": null,
            "justify_content": null,
            "justify_items": null,
            "left": null,
            "margin": null,
            "max_height": null,
            "max_width": null,
            "min_height": null,
            "min_width": null,
            "object_fit": null,
            "object_position": null,
            "order": null,
            "overflow": null,
            "overflow_x": null,
            "overflow_y": null,
            "padding": null,
            "right": null,
            "top": null,
            "visibility": null,
            "width": null
          }
        },
        "32b4565fc64a4ac89ef90145f0e9aea6": {
          "model_module": "@jupyter-widgets/controls",
          "model_name": "DescriptionStyleModel",
          "model_module_version": "1.5.0",
          "state": {
            "_model_module": "@jupyter-widgets/controls",
            "_model_module_version": "1.5.0",
            "_model_name": "DescriptionStyleModel",
            "_view_count": null,
            "_view_module": "@jupyter-widgets/base",
            "_view_module_version": "1.2.0",
            "_view_name": "StyleView",
            "description_width": ""
          }
        },
        "17c4a60722034abfb5a622620230295c": {
          "model_module": "@jupyter-widgets/base",
          "model_name": "LayoutModel",
          "model_module_version": "1.2.0",
          "state": {
            "_model_module": "@jupyter-widgets/base",
            "_model_module_version": "1.2.0",
            "_model_name": "LayoutModel",
            "_view_count": null,
            "_view_module": "@jupyter-widgets/base",
            "_view_module_version": "1.2.0",
            "_view_name": "LayoutView",
            "align_content": null,
            "align_items": null,
            "align_self": null,
            "border": null,
            "bottom": null,
            "display": null,
            "flex": null,
            "flex_flow": null,
            "grid_area": null,
            "grid_auto_columns": null,
            "grid_auto_flow": null,
            "grid_auto_rows": null,
            "grid_column": null,
            "grid_gap": null,
            "grid_row": null,
            "grid_template_areas": null,
            "grid_template_columns": null,
            "grid_template_rows": null,
            "height": null,
            "justify_content": null,
            "justify_items": null,
            "left": null,
            "margin": null,
            "max_height": null,
            "max_width": null,
            "min_height": null,
            "min_width": null,
            "object_fit": null,
            "object_position": null,
            "order": null,
            "overflow": null,
            "overflow_x": null,
            "overflow_y": null,
            "padding": null,
            "right": null,
            "top": null,
            "visibility": null,
            "width": null
          }
        },
        "160d33b174ac40d8ad08e63b31ab3ea8": {
          "model_module": "@jupyter-widgets/controls",
          "model_name": "ProgressStyleModel",
          "model_module_version": "1.5.0",
          "state": {
            "_model_module": "@jupyter-widgets/controls",
            "_model_module_version": "1.5.0",
            "_model_name": "ProgressStyleModel",
            "_view_count": null,
            "_view_module": "@jupyter-widgets/base",
            "_view_module_version": "1.2.0",
            "_view_name": "StyleView",
            "bar_color": null,
            "description_width": ""
          }
        },
        "0604a41d1d7245a8b3594c9a338f3094": {
          "model_module": "@jupyter-widgets/base",
          "model_name": "LayoutModel",
          "model_module_version": "1.2.0",
          "state": {
            "_model_module": "@jupyter-widgets/base",
            "_model_module_version": "1.2.0",
            "_model_name": "LayoutModel",
            "_view_count": null,
            "_view_module": "@jupyter-widgets/base",
            "_view_module_version": "1.2.0",
            "_view_name": "LayoutView",
            "align_content": null,
            "align_items": null,
            "align_self": null,
            "border": null,
            "bottom": null,
            "display": null,
            "flex": null,
            "flex_flow": null,
            "grid_area": null,
            "grid_auto_columns": null,
            "grid_auto_flow": null,
            "grid_auto_rows": null,
            "grid_column": null,
            "grid_gap": null,
            "grid_row": null,
            "grid_template_areas": null,
            "grid_template_columns": null,
            "grid_template_rows": null,
            "height": null,
            "justify_content": null,
            "justify_items": null,
            "left": null,
            "margin": null,
            "max_height": null,
            "max_width": null,
            "min_height": null,
            "min_width": null,
            "object_fit": null,
            "object_position": null,
            "order": null,
            "overflow": null,
            "overflow_x": null,
            "overflow_y": null,
            "padding": null,
            "right": null,
            "top": null,
            "visibility": null,
            "width": null
          }
        },
        "1620cc4900464fe1b171cd0621f193a6": {
          "model_module": "@jupyter-widgets/controls",
          "model_name": "DescriptionStyleModel",
          "model_module_version": "1.5.0",
          "state": {
            "_model_module": "@jupyter-widgets/controls",
            "_model_module_version": "1.5.0",
            "_model_name": "DescriptionStyleModel",
            "_view_count": null,
            "_view_module": "@jupyter-widgets/base",
            "_view_module_version": "1.2.0",
            "_view_name": "StyleView",
            "description_width": ""
          }
        },
        "09c5eb22e1ed472db853cf2dd8197c12": {
          "model_module": "@jupyter-widgets/base",
          "model_name": "LayoutModel",
          "model_module_version": "1.2.0",
          "state": {
            "_model_module": "@jupyter-widgets/base",
            "_model_module_version": "1.2.0",
            "_model_name": "LayoutModel",
            "_view_count": null,
            "_view_module": "@jupyter-widgets/base",
            "_view_module_version": "1.2.0",
            "_view_name": "LayoutView",
            "align_content": null,
            "align_items": null,
            "align_self": null,
            "border": null,
            "bottom": null,
            "display": null,
            "flex": null,
            "flex_flow": null,
            "grid_area": null,
            "grid_auto_columns": null,
            "grid_auto_flow": null,
            "grid_auto_rows": null,
            "grid_column": null,
            "grid_gap": null,
            "grid_row": null,
            "grid_template_areas": null,
            "grid_template_columns": null,
            "grid_template_rows": null,
            "height": null,
            "justify_content": null,
            "justify_items": null,
            "left": null,
            "margin": null,
            "max_height": null,
            "max_width": null,
            "min_height": null,
            "min_width": null,
            "object_fit": null,
            "object_position": null,
            "order": null,
            "overflow": null,
            "overflow_x": null,
            "overflow_y": null,
            "padding": null,
            "right": null,
            "top": null,
            "visibility": null,
            "width": null
          }
        },
        "f4dd870586f047fabec786d2a515f2f0": {
          "model_module": "@jupyter-widgets/controls",
          "model_name": "ProgressStyleModel",
          "model_module_version": "1.5.0",
          "state": {
            "_model_module": "@jupyter-widgets/controls",
            "_model_module_version": "1.5.0",
            "_model_name": "ProgressStyleModel",
            "_view_count": null,
            "_view_module": "@jupyter-widgets/base",
            "_view_module_version": "1.2.0",
            "_view_name": "StyleView",
            "bar_color": null,
            "description_width": ""
          }
        },
        "b27bca2191094037b61c2ab23cd06c76": {
          "model_module": "@jupyter-widgets/base",
          "model_name": "LayoutModel",
          "model_module_version": "1.2.0",
          "state": {
            "_model_module": "@jupyter-widgets/base",
            "_model_module_version": "1.2.0",
            "_model_name": "LayoutModel",
            "_view_count": null,
            "_view_module": "@jupyter-widgets/base",
            "_view_module_version": "1.2.0",
            "_view_name": "LayoutView",
            "align_content": null,
            "align_items": null,
            "align_self": null,
            "border": null,
            "bottom": null,
            "display": null,
            "flex": null,
            "flex_flow": null,
            "grid_area": null,
            "grid_auto_columns": null,
            "grid_auto_flow": null,
            "grid_auto_rows": null,
            "grid_column": null,
            "grid_gap": null,
            "grid_row": null,
            "grid_template_areas": null,
            "grid_template_columns": null,
            "grid_template_rows": null,
            "height": null,
            "justify_content": null,
            "justify_items": null,
            "left": null,
            "margin": null,
            "max_height": null,
            "max_width": null,
            "min_height": null,
            "min_width": null,
            "object_fit": null,
            "object_position": null,
            "order": null,
            "overflow": null,
            "overflow_x": null,
            "overflow_y": null,
            "padding": null,
            "right": null,
            "top": null,
            "visibility": null,
            "width": null
          }
        },
        "3108b5f4ef334220b03d280ee20ba8fd": {
          "model_module": "@jupyter-widgets/controls",
          "model_name": "DescriptionStyleModel",
          "model_module_version": "1.5.0",
          "state": {
            "_model_module": "@jupyter-widgets/controls",
            "_model_module_version": "1.5.0",
            "_model_name": "DescriptionStyleModel",
            "_view_count": null,
            "_view_module": "@jupyter-widgets/base",
            "_view_module_version": "1.2.0",
            "_view_name": "StyleView",
            "description_width": ""
          }
        },
        "32dcbb4ba46c43c1804105316d0ff95c": {
          "model_module": "@jupyter-widgets/base",
          "model_name": "LayoutModel",
          "model_module_version": "1.2.0",
          "state": {
            "_model_module": "@jupyter-widgets/base",
            "_model_module_version": "1.2.0",
            "_model_name": "LayoutModel",
            "_view_count": null,
            "_view_module": "@jupyter-widgets/base",
            "_view_module_version": "1.2.0",
            "_view_name": "LayoutView",
            "align_content": null,
            "align_items": null,
            "align_self": null,
            "border": null,
            "bottom": null,
            "display": null,
            "flex": null,
            "flex_flow": null,
            "grid_area": null,
            "grid_auto_columns": null,
            "grid_auto_flow": null,
            "grid_auto_rows": null,
            "grid_column": null,
            "grid_gap": null,
            "grid_row": null,
            "grid_template_areas": null,
            "grid_template_columns": null,
            "grid_template_rows": null,
            "height": null,
            "justify_content": null,
            "justify_items": null,
            "left": null,
            "margin": null,
            "max_height": null,
            "max_width": null,
            "min_height": null,
            "min_width": null,
            "object_fit": null,
            "object_position": null,
            "order": null,
            "overflow": null,
            "overflow_x": null,
            "overflow_y": null,
            "padding": null,
            "right": null,
            "top": null,
            "visibility": null,
            "width": null
          }
        },
        "c65b35a46434451aa9162a8d28c17943": {
          "model_module": "@jupyter-widgets/controls",
          "model_name": "DescriptionStyleModel",
          "model_module_version": "1.5.0",
          "state": {
            "_model_module": "@jupyter-widgets/controls",
            "_model_module_version": "1.5.0",
            "_model_name": "DescriptionStyleModel",
            "_view_count": null,
            "_view_module": "@jupyter-widgets/base",
            "_view_module_version": "1.2.0",
            "_view_name": "StyleView",
            "description_width": ""
          }
        },
        "701aa2302bef40039ceafcf984ec9d52": {
          "model_module": "@jupyter-widgets/controls",
          "model_name": "HTMLModel",
          "model_module_version": "1.5.0",
          "state": {
            "_dom_classes": [],
            "_model_module": "@jupyter-widgets/controls",
            "_model_module_version": "1.5.0",
            "_model_name": "HTMLModel",
            "_view_count": null,
            "_view_module": "@jupyter-widgets/controls",
            "_view_module_version": "1.5.0",
            "_view_name": "HTMLView",
            "description": "",
            "description_tooltip": null,
            "layout": "IPY_MODEL_b27bca2191094037b61c2ab23cd06c76",
            "placeholder": "​",
            "style": "IPY_MODEL_3108b5f4ef334220b03d280ee20ba8fd",
            "value": "Downloading artifacts: 100%"
          }
        },
        "4929ffd669204d2690e1d1c97ffe283f": {
          "model_module": "@jupyter-widgets/controls",
          "model_name": "FloatProgressModel",
          "model_module_version": "1.5.0",
          "state": {
            "_dom_classes": [],
            "_model_module": "@jupyter-widgets/controls",
            "_model_module_version": "1.5.0",
            "_model_name": "FloatProgressModel",
            "_view_count": null,
            "_view_module": "@jupyter-widgets/controls",
            "_view_module_version": "1.5.0",
            "_view_name": "ProgressView",
            "bar_style": "success",
            "description": "",
            "description_tooltip": null,
            "layout": "IPY_MODEL_09c5eb22e1ed472db853cf2dd8197c12",
            "max": 1,
            "min": 0,
            "orientation": "horizontal",
            "style": "IPY_MODEL_f4dd870586f047fabec786d2a515f2f0",
            "value": 1
          }
        },
        "8635081472de4ee08303220b1d7f278f": {
          "model_module": "@jupyter-widgets/controls",
          "model_name": "HTMLModel",
          "model_module_version": "1.5.0",
          "state": {
            "_dom_classes": [],
            "_model_module": "@jupyter-widgets/controls",
            "_model_module_version": "1.5.0",
            "_model_name": "HTMLModel",
            "_view_count": null,
            "_view_module": "@jupyter-widgets/controls",
            "_view_module_version": "1.5.0",
            "_view_name": "HTMLView",
            "description": "",
            "description_tooltip": null,
            "layout": "IPY_MODEL_32dcbb4ba46c43c1804105316d0ff95c",
            "placeholder": "​",
            "style": "IPY_MODEL_c65b35a46434451aa9162a8d28c17943",
            "value": " 1/1 [00:00&lt;00:00,  1.82it/s]"
          }
        },
        "c1836190b3ce4e5da90c7e0974c1e60c": {
          "model_module": "@jupyter-widgets/base",
          "model_name": "LayoutModel",
          "model_module_version": "1.2.0",
          "state": {
            "_model_module": "@jupyter-widgets/base",
            "_model_module_version": "1.2.0",
            "_model_name": "LayoutModel",
            "_view_count": null,
            "_view_module": "@jupyter-widgets/base",
            "_view_module_version": "1.2.0",
            "_view_name": "LayoutView",
            "align_content": null,
            "align_items": null,
            "align_self": null,
            "border": null,
            "bottom": null,
            "display": null,
            "flex": null,
            "flex_flow": null,
            "grid_area": null,
            "grid_auto_columns": null,
            "grid_auto_flow": null,
            "grid_auto_rows": null,
            "grid_column": null,
            "grid_gap": null,
            "grid_row": null,
            "grid_template_areas": null,
            "grid_template_columns": null,
            "grid_template_rows": null,
            "height": null,
            "justify_content": null,
            "justify_items": null,
            "left": null,
            "margin": null,
            "max_height": null,
            "max_width": null,
            "min_height": null,
            "min_width": null,
            "object_fit": null,
            "object_position": null,
            "order": null,
            "overflow": null,
            "overflow_x": null,
            "overflow_y": null,
            "padding": null,
            "right": null,
            "top": null,
            "visibility": null,
            "width": null
          }
        },
        "96f24d6d5312452a81992e62a629f32e": {
          "model_module": "@jupyter-widgets/controls",
          "model_name": "HBoxModel",
          "model_module_version": "1.5.0",
          "state": {
            "_dom_classes": [],
            "_model_module": "@jupyter-widgets/controls",
            "_model_module_version": "1.5.0",
            "_model_name": "HBoxModel",
            "_view_count": null,
            "_view_module": "@jupyter-widgets/controls",
            "_view_module_version": "1.5.0",
            "_view_name": "HBoxView",
            "box_style": "",
            "children": [
              "IPY_MODEL_701aa2302bef40039ceafcf984ec9d52",
              "IPY_MODEL_4929ffd669204d2690e1d1c97ffe283f",
              "IPY_MODEL_8635081472de4ee08303220b1d7f278f"
            ],
            "layout": "IPY_MODEL_c1836190b3ce4e5da90c7e0974c1e60c"
          }
        },
        "19f0beff67774ac391f21caef5a3eab7": {
          "model_module": "@jupyter-widgets/base",
          "model_name": "LayoutModel",
          "model_module_version": "1.2.0",
          "state": {
            "_model_module": "@jupyter-widgets/base",
            "_model_module_version": "1.2.0",
            "_model_name": "LayoutModel",
            "_view_count": null,
            "_view_module": "@jupyter-widgets/base",
            "_view_module_version": "1.2.0",
            "_view_name": "LayoutView",
            "align_content": null,
            "align_items": null,
            "align_self": null,
            "border": null,
            "bottom": null,
            "display": null,
            "flex": null,
            "flex_flow": null,
            "grid_area": null,
            "grid_auto_columns": null,
            "grid_auto_flow": null,
            "grid_auto_rows": null,
            "grid_column": null,
            "grid_gap": null,
            "grid_row": null,
            "grid_template_areas": null,
            "grid_template_columns": null,
            "grid_template_rows": null,
            "height": null,
            "justify_content": null,
            "justify_items": null,
            "left": null,
            "margin": null,
            "max_height": null,
            "max_width": null,
            "min_height": null,
            "min_width": null,
            "object_fit": null,
            "object_position": null,
            "order": null,
            "overflow": null,
            "overflow_x": null,
            "overflow_y": null,
            "padding": null,
            "right": null,
            "top": null,
            "visibility": null,
            "width": null
          }
        },
        "52c3ea722c624d44b119e4b1d6c789a1": {
          "model_module": "@jupyter-widgets/controls",
          "model_name": "ProgressStyleModel",
          "model_module_version": "1.5.0",
          "state": {
            "_model_module": "@jupyter-widgets/controls",
            "_model_module_version": "1.5.0",
            "_model_name": "ProgressStyleModel",
            "_view_count": null,
            "_view_module": "@jupyter-widgets/base",
            "_view_module_version": "1.2.0",
            "_view_name": "StyleView",
            "bar_color": null,
            "description_width": ""
          }
        },
        "da50161b4ed24844a7aa1baed28eec28": {
          "model_module": "@jupyter-widgets/base",
          "model_name": "LayoutModel",
          "model_module_version": "1.2.0",
          "state": {
            "_model_module": "@jupyter-widgets/base",
            "_model_module_version": "1.2.0",
            "_model_name": "LayoutModel",
            "_view_count": null,
            "_view_module": "@jupyter-widgets/base",
            "_view_module_version": "1.2.0",
            "_view_name": "LayoutView",
            "align_content": null,
            "align_items": null,
            "align_self": null,
            "border": null,
            "bottom": null,
            "display": null,
            "flex": null,
            "flex_flow": null,
            "grid_area": null,
            "grid_auto_columns": null,
            "grid_auto_flow": null,
            "grid_auto_rows": null,
            "grid_column": null,
            "grid_gap": null,
            "grid_row": null,
            "grid_template_areas": null,
            "grid_template_columns": null,
            "grid_template_rows": null,
            "height": null,
            "justify_content": null,
            "justify_items": null,
            "left": null,
            "margin": null,
            "max_height": null,
            "max_width": null,
            "min_height": null,
            "min_width": null,
            "object_fit": null,
            "object_position": null,
            "order": null,
            "overflow": null,
            "overflow_x": null,
            "overflow_y": null,
            "padding": null,
            "right": null,
            "top": null,
            "visibility": null,
            "width": null
          }
        },
        "a567f1cd1f304775857c291ab805f5e7": {
          "model_module": "@jupyter-widgets/controls",
          "model_name": "DescriptionStyleModel",
          "model_module_version": "1.5.0",
          "state": {
            "_model_module": "@jupyter-widgets/controls",
            "_model_module_version": "1.5.0",
            "_model_name": "DescriptionStyleModel",
            "_view_count": null,
            "_view_module": "@jupyter-widgets/base",
            "_view_module_version": "1.2.0",
            "_view_name": "StyleView",
            "description_width": ""
          }
        },
        "4afcee7ed94940d0ad184664047e4007": {
          "model_module": "@jupyter-widgets/base",
          "model_name": "LayoutModel",
          "model_module_version": "1.2.0",
          "state": {
            "_model_module": "@jupyter-widgets/base",
            "_model_module_version": "1.2.0",
            "_model_name": "LayoutModel",
            "_view_count": null,
            "_view_module": "@jupyter-widgets/base",
            "_view_module_version": "1.2.0",
            "_view_name": "LayoutView",
            "align_content": null,
            "align_items": null,
            "align_self": null,
            "border": null,
            "bottom": null,
            "display": null,
            "flex": null,
            "flex_flow": null,
            "grid_area": null,
            "grid_auto_columns": null,
            "grid_auto_flow": null,
            "grid_auto_rows": null,
            "grid_column": null,
            "grid_gap": null,
            "grid_row": null,
            "grid_template_areas": null,
            "grid_template_columns": null,
            "grid_template_rows": null,
            "height": null,
            "justify_content": null,
            "justify_items": null,
            "left": null,
            "margin": null,
            "max_height": null,
            "max_width": null,
            "min_height": null,
            "min_width": null,
            "object_fit": null,
            "object_position": null,
            "order": null,
            "overflow": null,
            "overflow_x": null,
            "overflow_y": null,
            "padding": null,
            "right": null,
            "top": null,
            "visibility": null,
            "width": null
          }
        },
        "4a6b5440042d4906b66a34758470d0b0": {
          "model_module": "@jupyter-widgets/controls",
          "model_name": "DescriptionStyleModel",
          "model_module_version": "1.5.0",
          "state": {
            "_model_module": "@jupyter-widgets/controls",
            "_model_module_version": "1.5.0",
            "_model_name": "DescriptionStyleModel",
            "_view_count": null,
            "_view_module": "@jupyter-widgets/base",
            "_view_module_version": "1.2.0",
            "_view_name": "StyleView",
            "description_width": ""
          }
        },
        "8a4d1f69217a4b8ab667b5be2cb8d90c": {
          "model_module": "@jupyter-widgets/controls",
          "model_name": "HTMLModel",
          "model_module_version": "1.5.0",
          "state": {
            "_dom_classes": [],
            "_model_module": "@jupyter-widgets/controls",
            "_model_module_version": "1.5.0",
            "_model_name": "HTMLModel",
            "_view_count": null,
            "_view_module": "@jupyter-widgets/controls",
            "_view_module_version": "1.5.0",
            "_view_name": "HTMLView",
            "description": "",
            "description_tooltip": null,
            "layout": "IPY_MODEL_da50161b4ed24844a7aa1baed28eec28",
            "placeholder": "​",
            "style": "IPY_MODEL_a567f1cd1f304775857c291ab805f5e7",
            "value": "Loading checkpoint shards: 100%"
          }
        },
        "ef00847cb03b4a71a0f7cad5c2d2d7a1": {
          "model_module": "@jupyter-widgets/controls",
          "model_name": "FloatProgressModel",
          "model_module_version": "1.5.0",
          "state": {
            "_dom_classes": [],
            "_model_module": "@jupyter-widgets/controls",
            "_model_module_version": "1.5.0",
            "_model_name": "FloatProgressModel",
            "_view_count": null,
            "_view_module": "@jupyter-widgets/controls",
            "_view_module_version": "1.5.0",
            "_view_name": "ProgressView",
            "bar_style": "success",
            "description": "",
            "description_tooltip": null,
            "layout": "IPY_MODEL_19f0beff67774ac391f21caef5a3eab7",
            "max": 3,
            "min": 0,
            "orientation": "horizontal",
            "style": "IPY_MODEL_52c3ea722c624d44b119e4b1d6c789a1",
            "value": 3
          }
        },
        "9d362959a43c4d129eca320fa80bfca6": {
          "model_module": "@jupyter-widgets/controls",
          "model_name": "HTMLModel",
          "model_module_version": "1.5.0",
          "state": {
            "_dom_classes": [],
            "_model_module": "@jupyter-widgets/controls",
            "_model_module_version": "1.5.0",
            "_model_name": "HTMLModel",
            "_view_count": null,
            "_view_module": "@jupyter-widgets/controls",
            "_view_module_version": "1.5.0",
            "_view_name": "HTMLView",
            "description": "",
            "description_tooltip": null,
            "layout": "IPY_MODEL_4afcee7ed94940d0ad184664047e4007",
            "placeholder": "​",
            "style": "IPY_MODEL_4a6b5440042d4906b66a34758470d0b0",
            "value": " 3/3 [00:01&lt;00:00,  2.54it/s]"
          }
        },
        "c486688ac001483a8f11f233240f353a": {
          "model_module": "@jupyter-widgets/base",
          "model_name": "LayoutModel",
          "model_module_version": "1.2.0",
          "state": {
            "_model_module": "@jupyter-widgets/base",
            "_model_module_version": "1.2.0",
            "_model_name": "LayoutModel",
            "_view_count": null,
            "_view_module": "@jupyter-widgets/base",
            "_view_module_version": "1.2.0",
            "_view_name": "LayoutView",
            "align_content": null,
            "align_items": null,
            "align_self": null,
            "border": null,
            "bottom": null,
            "display": null,
            "flex": null,
            "flex_flow": null,
            "grid_area": null,
            "grid_auto_columns": null,
            "grid_auto_flow": null,
            "grid_auto_rows": null,
            "grid_column": null,
            "grid_gap": null,
            "grid_row": null,
            "grid_template_areas": null,
            "grid_template_columns": null,
            "grid_template_rows": null,
            "height": null,
            "justify_content": null,
            "justify_items": null,
            "left": null,
            "margin": null,
            "max_height": null,
            "max_width": null,
            "min_height": null,
            "min_width": null,
            "object_fit": null,
            "object_position": null,
            "order": null,
            "overflow": null,
            "overflow_x": null,
            "overflow_y": null,
            "padding": null,
            "right": null,
            "top": null,
            "visibility": null,
            "width": null
          }
        },
        "05b4f3fe6b024c6785c9171014b3b111": {
          "model_module": "@jupyter-widgets/controls",
          "model_name": "HBoxModel",
          "model_module_version": "1.5.0",
          "state": {
            "_dom_classes": [],
            "_model_module": "@jupyter-widgets/controls",
            "_model_module_version": "1.5.0",
            "_model_name": "HBoxModel",
            "_view_count": null,
            "_view_module": "@jupyter-widgets/controls",
            "_view_module_version": "1.5.0",
            "_view_name": "HBoxView",
            "box_style": "",
            "children": [
              "IPY_MODEL_8a4d1f69217a4b8ab667b5be2cb8d90c",
              "IPY_MODEL_ef00847cb03b4a71a0f7cad5c2d2d7a1",
              "IPY_MODEL_9d362959a43c4d129eca320fa80bfca6"
            ],
            "layout": "IPY_MODEL_c486688ac001483a8f11f233240f353a"
          }
        },
        "f5263905885844e0a8559093bafb1976": {
          "model_module": "@jupyter-widgets/controls",
          "model_name": "HBoxModel",
          "model_module_version": "1.5.0",
          "state": {
            "_dom_classes": [],
            "_model_module": "@jupyter-widgets/controls",
            "_model_module_version": "1.5.0",
            "_model_name": "HBoxModel",
            "_view_count": null,
            "_view_module": "@jupyter-widgets/controls",
            "_view_module_version": "1.5.0",
            "_view_name": "HBoxView",
            "box_style": "",
            "children": [
              "IPY_MODEL_5f13737547df4bfcae49f3b895c7c6ad",
              "IPY_MODEL_7f17baddf6fb4c64b612d65f6610f46b",
              "IPY_MODEL_52c9b1ed16ce4691b1d064e9c57f754c"
            ],
            "layout": "IPY_MODEL_235175f30095482187bc23c4ee8c790c"
          }
        },
        "5f13737547df4bfcae49f3b895c7c6ad": {
          "model_module": "@jupyter-widgets/controls",
          "model_name": "HTMLModel",
          "model_module_version": "1.5.0",
          "state": {
            "_dom_classes": [],
            "_model_module": "@jupyter-widgets/controls",
            "_model_module_version": "1.5.0",
            "_model_name": "HTMLModel",
            "_view_count": null,
            "_view_module": "@jupyter-widgets/controls",
            "_view_module_version": "1.5.0",
            "_view_name": "HTMLView",
            "description": "",
            "description_tooltip": null,
            "layout": "IPY_MODEL_a7eab6f08a3848e5b2341d0f057a1cd7",
            "placeholder": "​",
            "style": "IPY_MODEL_d4f6260420d24149b0e1ea11abd3015d",
            "value": "Downloading artifacts: 100%"
          }
        },
        "7f17baddf6fb4c64b612d65f6610f46b": {
          "model_module": "@jupyter-widgets/controls",
          "model_name": "FloatProgressModel",
          "model_module_version": "1.5.0",
          "state": {
            "_dom_classes": [],
            "_model_module": "@jupyter-widgets/controls",
            "_model_module_version": "1.5.0",
            "_model_name": "FloatProgressModel",
            "_view_count": null,
            "_view_module": "@jupyter-widgets/controls",
            "_view_module_version": "1.5.0",
            "_view_name": "ProgressView",
            "bar_style": "success",
            "description": "",
            "description_tooltip": null,
            "layout": "IPY_MODEL_f6b179b0a3bd400a8f0e2f48ee0429c0",
            "max": 17,
            "min": 0,
            "orientation": "horizontal",
            "style": "IPY_MODEL_2bbb302aac294db39e8dc9a4bff72157",
            "value": 17
          }
        },
        "52c9b1ed16ce4691b1d064e9c57f754c": {
          "model_module": "@jupyter-widgets/controls",
          "model_name": "HTMLModel",
          "model_module_version": "1.5.0",
          "state": {
            "_dom_classes": [],
            "_model_module": "@jupyter-widgets/controls",
            "_model_module_version": "1.5.0",
            "_model_name": "HTMLModel",
            "_view_count": null,
            "_view_module": "@jupyter-widgets/controls",
            "_view_module_version": "1.5.0",
            "_view_name": "HTMLView",
            "description": "",
            "description_tooltip": null,
            "layout": "IPY_MODEL_1fc8c756b591496587262999da41a460",
            "placeholder": "​",
            "style": "IPY_MODEL_458ac63d78f64224a3c1750621a94067",
            "value": " 17/17 [00:39&lt;00:00,  5.05s/it]"
          }
        },
        "235175f30095482187bc23c4ee8c790c": {
          "model_module": "@jupyter-widgets/base",
          "model_name": "LayoutModel",
          "model_module_version": "1.2.0",
          "state": {
            "_model_module": "@jupyter-widgets/base",
            "_model_module_version": "1.2.0",
            "_model_name": "LayoutModel",
            "_view_count": null,
            "_view_module": "@jupyter-widgets/base",
            "_view_module_version": "1.2.0",
            "_view_name": "LayoutView",
            "align_content": null,
            "align_items": null,
            "align_self": null,
            "border": null,
            "bottom": null,
            "display": null,
            "flex": null,
            "flex_flow": null,
            "grid_area": null,
            "grid_auto_columns": null,
            "grid_auto_flow": null,
            "grid_auto_rows": null,
            "grid_column": null,
            "grid_gap": null,
            "grid_row": null,
            "grid_template_areas": null,
            "grid_template_columns": null,
            "grid_template_rows": null,
            "height": null,
            "justify_content": null,
            "justify_items": null,
            "left": null,
            "margin": null,
            "max_height": null,
            "max_width": null,
            "min_height": null,
            "min_width": null,
            "object_fit": null,
            "object_position": null,
            "order": null,
            "overflow": null,
            "overflow_x": null,
            "overflow_y": null,
            "padding": null,
            "right": null,
            "top": null,
            "visibility": null,
            "width": null
          }
        },
        "a7eab6f08a3848e5b2341d0f057a1cd7": {
          "model_module": "@jupyter-widgets/base",
          "model_name": "LayoutModel",
          "model_module_version": "1.2.0",
          "state": {
            "_model_module": "@jupyter-widgets/base",
            "_model_module_version": "1.2.0",
            "_model_name": "LayoutModel",
            "_view_count": null,
            "_view_module": "@jupyter-widgets/base",
            "_view_module_version": "1.2.0",
            "_view_name": "LayoutView",
            "align_content": null,
            "align_items": null,
            "align_self": null,
            "border": null,
            "bottom": null,
            "display": null,
            "flex": null,
            "flex_flow": null,
            "grid_area": null,
            "grid_auto_columns": null,
            "grid_auto_flow": null,
            "grid_auto_rows": null,
            "grid_column": null,
            "grid_gap": null,
            "grid_row": null,
            "grid_template_areas": null,
            "grid_template_columns": null,
            "grid_template_rows": null,
            "height": null,
            "justify_content": null,
            "justify_items": null,
            "left": null,
            "margin": null,
            "max_height": null,
            "max_width": null,
            "min_height": null,
            "min_width": null,
            "object_fit": null,
            "object_position": null,
            "order": null,
            "overflow": null,
            "overflow_x": null,
            "overflow_y": null,
            "padding": null,
            "right": null,
            "top": null,
            "visibility": null,
            "width": null
          }
        },
        "d4f6260420d24149b0e1ea11abd3015d": {
          "model_module": "@jupyter-widgets/controls",
          "model_name": "DescriptionStyleModel",
          "model_module_version": "1.5.0",
          "state": {
            "_model_module": "@jupyter-widgets/controls",
            "_model_module_version": "1.5.0",
            "_model_name": "DescriptionStyleModel",
            "_view_count": null,
            "_view_module": "@jupyter-widgets/base",
            "_view_module_version": "1.2.0",
            "_view_name": "StyleView",
            "description_width": ""
          }
        },
        "f6b179b0a3bd400a8f0e2f48ee0429c0": {
          "model_module": "@jupyter-widgets/base",
          "model_name": "LayoutModel",
          "model_module_version": "1.2.0",
          "state": {
            "_model_module": "@jupyter-widgets/base",
            "_model_module_version": "1.2.0",
            "_model_name": "LayoutModel",
            "_view_count": null,
            "_view_module": "@jupyter-widgets/base",
            "_view_module_version": "1.2.0",
            "_view_name": "LayoutView",
            "align_content": null,
            "align_items": null,
            "align_self": null,
            "border": null,
            "bottom": null,
            "display": null,
            "flex": null,
            "flex_flow": null,
            "grid_area": null,
            "grid_auto_columns": null,
            "grid_auto_flow": null,
            "grid_auto_rows": null,
            "grid_column": null,
            "grid_gap": null,
            "grid_row": null,
            "grid_template_areas": null,
            "grid_template_columns": null,
            "grid_template_rows": null,
            "height": null,
            "justify_content": null,
            "justify_items": null,
            "left": null,
            "margin": null,
            "max_height": null,
            "max_width": null,
            "min_height": null,
            "min_width": null,
            "object_fit": null,
            "object_position": null,
            "order": null,
            "overflow": null,
            "overflow_x": null,
            "overflow_y": null,
            "padding": null,
            "right": null,
            "top": null,
            "visibility": null,
            "width": null
          }
        },
        "2bbb302aac294db39e8dc9a4bff72157": {
          "model_module": "@jupyter-widgets/controls",
          "model_name": "ProgressStyleModel",
          "model_module_version": "1.5.0",
          "state": {
            "_model_module": "@jupyter-widgets/controls",
            "_model_module_version": "1.5.0",
            "_model_name": "ProgressStyleModel",
            "_view_count": null,
            "_view_module": "@jupyter-widgets/base",
            "_view_module_version": "1.2.0",
            "_view_name": "StyleView",
            "bar_color": null,
            "description_width": ""
          }
        },
        "1fc8c756b591496587262999da41a460": {
          "model_module": "@jupyter-widgets/base",
          "model_name": "LayoutModel",
          "model_module_version": "1.2.0",
          "state": {
            "_model_module": "@jupyter-widgets/base",
            "_model_module_version": "1.2.0",
            "_model_name": "LayoutModel",
            "_view_count": null,
            "_view_module": "@jupyter-widgets/base",
            "_view_module_version": "1.2.0",
            "_view_name": "LayoutView",
            "align_content": null,
            "align_items": null,
            "align_self": null,
            "border": null,
            "bottom": null,
            "display": null,
            "flex": null,
            "flex_flow": null,
            "grid_area": null,
            "grid_auto_columns": null,
            "grid_auto_flow": null,
            "grid_auto_rows": null,
            "grid_column": null,
            "grid_gap": null,
            "grid_row": null,
            "grid_template_areas": null,
            "grid_template_columns": null,
            "grid_template_rows": null,
            "height": null,
            "justify_content": null,
            "justify_items": null,
            "left": null,
            "margin": null,
            "max_height": null,
            "max_width": null,
            "min_height": null,
            "min_width": null,
            "object_fit": null,
            "object_position": null,
            "order": null,
            "overflow": null,
            "overflow_x": null,
            "overflow_y": null,
            "padding": null,
            "right": null,
            "top": null,
            "visibility": null,
            "width": null
          }
        },
        "458ac63d78f64224a3c1750621a94067": {
          "model_module": "@jupyter-widgets/controls",
          "model_name": "DescriptionStyleModel",
          "model_module_version": "1.5.0",
          "state": {
            "_model_module": "@jupyter-widgets/controls",
            "_model_module_version": "1.5.0",
            "_model_name": "DescriptionStyleModel",
            "_view_count": null,
            "_view_module": "@jupyter-widgets/base",
            "_view_module_version": "1.2.0",
            "_view_name": "StyleView",
            "description_width": ""
          }
        },
        "d49a13cb76194f6caf7140e468f185a0": {
          "model_module": "@jupyter-widgets/base",
          "model_name": "LayoutModel",
          "model_module_version": "1.2.0",
          "state": {
            "_model_module": "@jupyter-widgets/base",
            "_model_module_version": "1.2.0",
            "_model_name": "LayoutModel",
            "_view_count": null,
            "_view_module": "@jupyter-widgets/base",
            "_view_module_version": "1.2.0",
            "_view_name": "LayoutView",
            "align_content": null,
            "align_items": null,
            "align_self": null,
            "border": null,
            "bottom": null,
            "display": null,
            "flex": null,
            "flex_flow": null,
            "grid_area": null,
            "grid_auto_columns": null,
            "grid_auto_flow": null,
            "grid_auto_rows": null,
            "grid_column": null,
            "grid_gap": null,
            "grid_row": null,
            "grid_template_areas": null,
            "grid_template_columns": null,
            "grid_template_rows": null,
            "height": null,
            "justify_content": null,
            "justify_items": null,
            "left": null,
            "margin": null,
            "max_height": null,
            "max_width": null,
            "min_height": null,
            "min_width": null,
            "object_fit": null,
            "object_position": null,
            "order": null,
            "overflow": null,
            "overflow_x": null,
            "overflow_y": null,
            "padding": null,
            "right": null,
            "top": null,
            "visibility": null,
            "width": null
          }
        },
        "51c5fab191364428b0eddf1dab95a187": {
          "model_module": "@jupyter-widgets/controls",
          "model_name": "ProgressStyleModel",
          "model_module_version": "1.5.0",
          "state": {
            "_model_module": "@jupyter-widgets/controls",
            "_model_module_version": "1.5.0",
            "_model_name": "ProgressStyleModel",
            "_view_count": null,
            "_view_module": "@jupyter-widgets/base",
            "_view_module_version": "1.2.0",
            "_view_name": "StyleView",
            "bar_color": null,
            "description_width": ""
          }
        },
        "762a18e37ce04b88a6242b3c53cc7b3e": {
          "model_module": "@jupyter-widgets/base",
          "model_name": "LayoutModel",
          "model_module_version": "1.2.0",
          "state": {
            "_model_module": "@jupyter-widgets/base",
            "_model_module_version": "1.2.0",
            "_model_name": "LayoutModel",
            "_view_count": null,
            "_view_module": "@jupyter-widgets/base",
            "_view_module_version": "1.2.0",
            "_view_name": "LayoutView",
            "align_content": null,
            "align_items": null,
            "align_self": null,
            "border": null,
            "bottom": null,
            "display": null,
            "flex": null,
            "flex_flow": null,
            "grid_area": null,
            "grid_auto_columns": null,
            "grid_auto_flow": null,
            "grid_auto_rows": null,
            "grid_column": null,
            "grid_gap": null,
            "grid_row": null,
            "grid_template_areas": null,
            "grid_template_columns": null,
            "grid_template_rows": null,
            "height": null,
            "justify_content": null,
            "justify_items": null,
            "left": null,
            "margin": null,
            "max_height": null,
            "max_width": null,
            "min_height": null,
            "min_width": null,
            "object_fit": null,
            "object_position": null,
            "order": null,
            "overflow": null,
            "overflow_x": null,
            "overflow_y": null,
            "padding": null,
            "right": null,
            "top": null,
            "visibility": null,
            "width": null
          }
        },
        "7feacc1ec03347a6a6a9b132f3150ef5": {
          "model_module": "@jupyter-widgets/controls",
          "model_name": "DescriptionStyleModel",
          "model_module_version": "1.5.0",
          "state": {
            "_model_module": "@jupyter-widgets/controls",
            "_model_module_version": "1.5.0",
            "_model_name": "DescriptionStyleModel",
            "_view_count": null,
            "_view_module": "@jupyter-widgets/base",
            "_view_module_version": "1.2.0",
            "_view_name": "StyleView",
            "description_width": ""
          }
        },
        "7c32bf44ba104885ab2254f5da30edcd": {
          "model_module": "@jupyter-widgets/base",
          "model_name": "LayoutModel",
          "model_module_version": "1.2.0",
          "state": {
            "_model_module": "@jupyter-widgets/base",
            "_model_module_version": "1.2.0",
            "_model_name": "LayoutModel",
            "_view_count": null,
            "_view_module": "@jupyter-widgets/base",
            "_view_module_version": "1.2.0",
            "_view_name": "LayoutView",
            "align_content": null,
            "align_items": null,
            "align_self": null,
            "border": null,
            "bottom": null,
            "display": null,
            "flex": null,
            "flex_flow": null,
            "grid_area": null,
            "grid_auto_columns": null,
            "grid_auto_flow": null,
            "grid_auto_rows": null,
            "grid_column": null,
            "grid_gap": null,
            "grid_row": null,
            "grid_template_areas": null,
            "grid_template_columns": null,
            "grid_template_rows": null,
            "height": null,
            "justify_content": null,
            "justify_items": null,
            "left": null,
            "margin": null,
            "max_height": null,
            "max_width": null,
            "min_height": null,
            "min_width": null,
            "object_fit": null,
            "object_position": null,
            "order": null,
            "overflow": null,
            "overflow_x": null,
            "overflow_y": null,
            "padding": null,
            "right": null,
            "top": null,
            "visibility": null,
            "width": null
          }
        },
        "79b3df2580b04e41920a43a80052b308": {
          "model_module": "@jupyter-widgets/controls",
          "model_name": "DescriptionStyleModel",
          "model_module_version": "1.5.0",
          "state": {
            "_model_module": "@jupyter-widgets/controls",
            "_model_module_version": "1.5.0",
            "_model_name": "DescriptionStyleModel",
            "_view_count": null,
            "_view_module": "@jupyter-widgets/base",
            "_view_module_version": "1.2.0",
            "_view_name": "StyleView",
            "description_width": ""
          }
        },
        "8c15bb77419744f09ecb7bd73981f483": {
          "model_module": "@jupyter-widgets/controls",
          "model_name": "HTMLModel",
          "model_module_version": "1.5.0",
          "state": {
            "_dom_classes": [],
            "_model_module": "@jupyter-widgets/controls",
            "_model_module_version": "1.5.0",
            "_model_name": "HTMLModel",
            "_view_count": null,
            "_view_module": "@jupyter-widgets/controls",
            "_view_module_version": "1.5.0",
            "_view_name": "HTMLView",
            "description": "",
            "description_tooltip": null,
            "layout": "IPY_MODEL_762a18e37ce04b88a6242b3c53cc7b3e",
            "placeholder": "​",
            "style": "IPY_MODEL_7feacc1ec03347a6a6a9b132f3150ef5",
            "value": "Loading checkpoint shards: 100%"
          }
        },
        "493d5de15a9a46a8814528aa70aefe92": {
          "model_module": "@jupyter-widgets/controls",
          "model_name": "FloatProgressModel",
          "model_module_version": "1.5.0",
          "state": {
            "_dom_classes": [],
            "_model_module": "@jupyter-widgets/controls",
            "_model_module_version": "1.5.0",
            "_model_name": "FloatProgressModel",
            "_view_count": null,
            "_view_module": "@jupyter-widgets/controls",
            "_view_module_version": "1.5.0",
            "_view_name": "ProgressView",
            "bar_style": "success",
            "description": "",
            "description_tooltip": null,
            "layout": "IPY_MODEL_d49a13cb76194f6caf7140e468f185a0",
            "max": 3,
            "min": 0,
            "orientation": "horizontal",
            "style": "IPY_MODEL_51c5fab191364428b0eddf1dab95a187",
            "value": 3
          }
        },
        "0d788f0e37864e62a9e3bd9accd3f37d": {
          "model_module": "@jupyter-widgets/controls",
          "model_name": "HTMLModel",
          "model_module_version": "1.5.0",
          "state": {
            "_dom_classes": [],
            "_model_module": "@jupyter-widgets/controls",
            "_model_module_version": "1.5.0",
            "_model_name": "HTMLModel",
            "_view_count": null,
            "_view_module": "@jupyter-widgets/controls",
            "_view_module_version": "1.5.0",
            "_view_name": "HTMLView",
            "description": "",
            "description_tooltip": null,
            "layout": "IPY_MODEL_7c32bf44ba104885ab2254f5da30edcd",
            "placeholder": "​",
            "style": "IPY_MODEL_79b3df2580b04e41920a43a80052b308",
            "value": " 3/3 [00:01&lt;00:00,  2.42it/s]"
          }
        },
        "d29db37f5bf8431e8231127604675c0e": {
          "model_module": "@jupyter-widgets/base",
          "model_name": "LayoutModel",
          "model_module_version": "1.2.0",
          "state": {
            "_model_module": "@jupyter-widgets/base",
            "_model_module_version": "1.2.0",
            "_model_name": "LayoutModel",
            "_view_count": null,
            "_view_module": "@jupyter-widgets/base",
            "_view_module_version": "1.2.0",
            "_view_name": "LayoutView",
            "align_content": null,
            "align_items": null,
            "align_self": null,
            "border": null,
            "bottom": null,
            "display": null,
            "flex": null,
            "flex_flow": null,
            "grid_area": null,
            "grid_auto_columns": null,
            "grid_auto_flow": null,
            "grid_auto_rows": null,
            "grid_column": null,
            "grid_gap": null,
            "grid_row": null,
            "grid_template_areas": null,
            "grid_template_columns": null,
            "grid_template_rows": null,
            "height": null,
            "justify_content": null,
            "justify_items": null,
            "left": null,
            "margin": null,
            "max_height": null,
            "max_width": null,
            "min_height": null,
            "min_width": null,
            "object_fit": null,
            "object_position": null,
            "order": null,
            "overflow": null,
            "overflow_x": null,
            "overflow_y": null,
            "padding": null,
            "right": null,
            "top": null,
            "visibility": null,
            "width": null
          }
        },
        "37be284112df44d2ac3cc522a668b456": {
          "model_module": "@jupyter-widgets/controls",
          "model_name": "HBoxModel",
          "model_module_version": "1.5.0",
          "state": {
            "_dom_classes": [],
            "_model_module": "@jupyter-widgets/controls",
            "_model_module_version": "1.5.0",
            "_model_name": "HBoxModel",
            "_view_count": null,
            "_view_module": "@jupyter-widgets/controls",
            "_view_module_version": "1.5.0",
            "_view_name": "HBoxView",
            "box_style": "",
            "children": [
              "IPY_MODEL_8c15bb77419744f09ecb7bd73981f483",
              "IPY_MODEL_493d5de15a9a46a8814528aa70aefe92",
              "IPY_MODEL_0d788f0e37864e62a9e3bd9accd3f37d"
            ],
            "layout": "IPY_MODEL_d29db37f5bf8431e8231127604675c0e"
          }
        },
        "e9876e0db9794b42b75f9568c9878cbf": {
          "model_module": "@jupyter-widgets/controls",
          "model_name": "HBoxModel",
          "model_module_version": "1.5.0",
          "state": {
            "_dom_classes": [],
            "_model_module": "@jupyter-widgets/controls",
            "_model_module_version": "1.5.0",
            "_model_name": "HBoxModel",
            "_view_count": null,
            "_view_module": "@jupyter-widgets/controls",
            "_view_module_version": "1.5.0",
            "_view_name": "HBoxView",
            "box_style": "",
            "children": [
              "IPY_MODEL_fa3926e39dfe4c8987c5fd74d41a336a",
              "IPY_MODEL_0f7be65f2eb543e4adb7da21082b2484",
              "IPY_MODEL_43b1f0a077b24f15b09cff8817631fc7"
            ],
            "layout": "IPY_MODEL_445c8b27d85942c4882374a970471413"
          }
        },
        "fa3926e39dfe4c8987c5fd74d41a336a": {
          "model_module": "@jupyter-widgets/controls",
          "model_name": "HTMLModel",
          "model_module_version": "1.5.0",
          "state": {
            "_dom_classes": [],
            "_model_module": "@jupyter-widgets/controls",
            "_model_module_version": "1.5.0",
            "_model_name": "HTMLModel",
            "_view_count": null,
            "_view_module": "@jupyter-widgets/controls",
            "_view_module_version": "1.5.0",
            "_view_name": "HTMLView",
            "description": "",
            "description_tooltip": null,
            "layout": "IPY_MODEL_37ecd595eecc4fd8ab9e58b9e1f6cab2",
            "placeholder": "​",
            "style": "IPY_MODEL_814ccccf1c0849f9b247da1866b81120",
            "value": "Downloading artifacts: 100%"
          }
        },
        "0f7be65f2eb543e4adb7da21082b2484": {
          "model_module": "@jupyter-widgets/controls",
          "model_name": "FloatProgressModel",
          "model_module_version": "1.5.0",
          "state": {
            "_dom_classes": [],
            "_model_module": "@jupyter-widgets/controls",
            "_model_module_version": "1.5.0",
            "_model_name": "FloatProgressModel",
            "_view_count": null,
            "_view_module": "@jupyter-widgets/controls",
            "_view_module_version": "1.5.0",
            "_view_name": "ProgressView",
            "bar_style": "success",
            "description": "",
            "description_tooltip": null,
            "layout": "IPY_MODEL_79579758b4ba43a3adac1aa68a59e9ef",
            "max": 17,
            "min": 0,
            "orientation": "horizontal",
            "style": "IPY_MODEL_5b3e33cd92c643e0b39725c6da355be7",
            "value": 17
          }
        },
        "43b1f0a077b24f15b09cff8817631fc7": {
          "model_module": "@jupyter-widgets/controls",
          "model_name": "HTMLModel",
          "model_module_version": "1.5.0",
          "state": {
            "_dom_classes": [],
            "_model_module": "@jupyter-widgets/controls",
            "_model_module_version": "1.5.0",
            "_model_name": "HTMLModel",
            "_view_count": null,
            "_view_module": "@jupyter-widgets/controls",
            "_view_module_version": "1.5.0",
            "_view_name": "HTMLView",
            "description": "",
            "description_tooltip": null,
            "layout": "IPY_MODEL_e88d01fe734f4e4c9fdb06a4b10fd388",
            "placeholder": "​",
            "style": "IPY_MODEL_9b1df707448345159c51fc35ecfecd1a",
            "value": " 17/17 [00:19&lt;00:00,  1.76s/it]"
          }
        },
        "445c8b27d85942c4882374a970471413": {
          "model_module": "@jupyter-widgets/base",
          "model_name": "LayoutModel",
          "model_module_version": "1.2.0",
          "state": {
            "_model_module": "@jupyter-widgets/base",
            "_model_module_version": "1.2.0",
            "_model_name": "LayoutModel",
            "_view_count": null,
            "_view_module": "@jupyter-widgets/base",
            "_view_module_version": "1.2.0",
            "_view_name": "LayoutView",
            "align_content": null,
            "align_items": null,
            "align_self": null,
            "border": null,
            "bottom": null,
            "display": null,
            "flex": null,
            "flex_flow": null,
            "grid_area": null,
            "grid_auto_columns": null,
            "grid_auto_flow": null,
            "grid_auto_rows": null,
            "grid_column": null,
            "grid_gap": null,
            "grid_row": null,
            "grid_template_areas": null,
            "grid_template_columns": null,
            "grid_template_rows": null,
            "height": null,
            "justify_content": null,
            "justify_items": null,
            "left": null,
            "margin": null,
            "max_height": null,
            "max_width": null,
            "min_height": null,
            "min_width": null,
            "object_fit": null,
            "object_position": null,
            "order": null,
            "overflow": null,
            "overflow_x": null,
            "overflow_y": null,
            "padding": null,
            "right": null,
            "top": null,
            "visibility": null,
            "width": null
          }
        },
        "37ecd595eecc4fd8ab9e58b9e1f6cab2": {
          "model_module": "@jupyter-widgets/base",
          "model_name": "LayoutModel",
          "model_module_version": "1.2.0",
          "state": {
            "_model_module": "@jupyter-widgets/base",
            "_model_module_version": "1.2.0",
            "_model_name": "LayoutModel",
            "_view_count": null,
            "_view_module": "@jupyter-widgets/base",
            "_view_module_version": "1.2.0",
            "_view_name": "LayoutView",
            "align_content": null,
            "align_items": null,
            "align_self": null,
            "border": null,
            "bottom": null,
            "display": null,
            "flex": null,
            "flex_flow": null,
            "grid_area": null,
            "grid_auto_columns": null,
            "grid_auto_flow": null,
            "grid_auto_rows": null,
            "grid_column": null,
            "grid_gap": null,
            "grid_row": null,
            "grid_template_areas": null,
            "grid_template_columns": null,
            "grid_template_rows": null,
            "height": null,
            "justify_content": null,
            "justify_items": null,
            "left": null,
            "margin": null,
            "max_height": null,
            "max_width": null,
            "min_height": null,
            "min_width": null,
            "object_fit": null,
            "object_position": null,
            "order": null,
            "overflow": null,
            "overflow_x": null,
            "overflow_y": null,
            "padding": null,
            "right": null,
            "top": null,
            "visibility": null,
            "width": null
          }
        },
        "814ccccf1c0849f9b247da1866b81120": {
          "model_module": "@jupyter-widgets/controls",
          "model_name": "DescriptionStyleModel",
          "model_module_version": "1.5.0",
          "state": {
            "_model_module": "@jupyter-widgets/controls",
            "_model_module_version": "1.5.0",
            "_model_name": "DescriptionStyleModel",
            "_view_count": null,
            "_view_module": "@jupyter-widgets/base",
            "_view_module_version": "1.2.0",
            "_view_name": "StyleView",
            "description_width": ""
          }
        },
        "79579758b4ba43a3adac1aa68a59e9ef": {
          "model_module": "@jupyter-widgets/base",
          "model_name": "LayoutModel",
          "model_module_version": "1.2.0",
          "state": {
            "_model_module": "@jupyter-widgets/base",
            "_model_module_version": "1.2.0",
            "_model_name": "LayoutModel",
            "_view_count": null,
            "_view_module": "@jupyter-widgets/base",
            "_view_module_version": "1.2.0",
            "_view_name": "LayoutView",
            "align_content": null,
            "align_items": null,
            "align_self": null,
            "border": null,
            "bottom": null,
            "display": null,
            "flex": null,
            "flex_flow": null,
            "grid_area": null,
            "grid_auto_columns": null,
            "grid_auto_flow": null,
            "grid_auto_rows": null,
            "grid_column": null,
            "grid_gap": null,
            "grid_row": null,
            "grid_template_areas": null,
            "grid_template_columns": null,
            "grid_template_rows": null,
            "height": null,
            "justify_content": null,
            "justify_items": null,
            "left": null,
            "margin": null,
            "max_height": null,
            "max_width": null,
            "min_height": null,
            "min_width": null,
            "object_fit": null,
            "object_position": null,
            "order": null,
            "overflow": null,
            "overflow_x": null,
            "overflow_y": null,
            "padding": null,
            "right": null,
            "top": null,
            "visibility": null,
            "width": null
          }
        },
        "5b3e33cd92c643e0b39725c6da355be7": {
          "model_module": "@jupyter-widgets/controls",
          "model_name": "ProgressStyleModel",
          "model_module_version": "1.5.0",
          "state": {
            "_model_module": "@jupyter-widgets/controls",
            "_model_module_version": "1.5.0",
            "_model_name": "ProgressStyleModel",
            "_view_count": null,
            "_view_module": "@jupyter-widgets/base",
            "_view_module_version": "1.2.0",
            "_view_name": "StyleView",
            "bar_color": null,
            "description_width": ""
          }
        },
        "e88d01fe734f4e4c9fdb06a4b10fd388": {
          "model_module": "@jupyter-widgets/base",
          "model_name": "LayoutModel",
          "model_module_version": "1.2.0",
          "state": {
            "_model_module": "@jupyter-widgets/base",
            "_model_module_version": "1.2.0",
            "_model_name": "LayoutModel",
            "_view_count": null,
            "_view_module": "@jupyter-widgets/base",
            "_view_module_version": "1.2.0",
            "_view_name": "LayoutView",
            "align_content": null,
            "align_items": null,
            "align_self": null,
            "border": null,
            "bottom": null,
            "display": null,
            "flex": null,
            "flex_flow": null,
            "grid_area": null,
            "grid_auto_columns": null,
            "grid_auto_flow": null,
            "grid_auto_rows": null,
            "grid_column": null,
            "grid_gap": null,
            "grid_row": null,
            "grid_template_areas": null,
            "grid_template_columns": null,
            "grid_template_rows": null,
            "height": null,
            "justify_content": null,
            "justify_items": null,
            "left": null,
            "margin": null,
            "max_height": null,
            "max_width": null,
            "min_height": null,
            "min_width": null,
            "object_fit": null,
            "object_position": null,
            "order": null,
            "overflow": null,
            "overflow_x": null,
            "overflow_y": null,
            "padding": null,
            "right": null,
            "top": null,
            "visibility": null,
            "width": null
          }
        },
        "9b1df707448345159c51fc35ecfecd1a": {
          "model_module": "@jupyter-widgets/controls",
          "model_name": "DescriptionStyleModel",
          "model_module_version": "1.5.0",
          "state": {
            "_model_module": "@jupyter-widgets/controls",
            "_model_module_version": "1.5.0",
            "_model_name": "DescriptionStyleModel",
            "_view_count": null,
            "_view_module": "@jupyter-widgets/base",
            "_view_module_version": "1.2.0",
            "_view_name": "StyleView",
            "description_width": ""
          }
        },
        "180eb5eda54c4ff68936b2f41e7f4f50": {
          "model_module": "@jupyter-widgets/base",
          "model_name": "LayoutModel",
          "model_module_version": "1.2.0",
          "state": {
            "_model_module": "@jupyter-widgets/base",
            "_model_module_version": "1.2.0",
            "_model_name": "LayoutModel",
            "_view_count": null,
            "_view_module": "@jupyter-widgets/base",
            "_view_module_version": "1.2.0",
            "_view_name": "LayoutView",
            "align_content": null,
            "align_items": null,
            "align_self": null,
            "border": null,
            "bottom": null,
            "display": null,
            "flex": null,
            "flex_flow": null,
            "grid_area": null,
            "grid_auto_columns": null,
            "grid_auto_flow": null,
            "grid_auto_rows": null,
            "grid_column": null,
            "grid_gap": null,
            "grid_row": null,
            "grid_template_areas": null,
            "grid_template_columns": null,
            "grid_template_rows": null,
            "height": null,
            "justify_content": null,
            "justify_items": null,
            "left": null,
            "margin": null,
            "max_height": null,
            "max_width": null,
            "min_height": null,
            "min_width": null,
            "object_fit": null,
            "object_position": null,
            "order": null,
            "overflow": null,
            "overflow_x": null,
            "overflow_y": null,
            "padding": null,
            "right": null,
            "top": null,
            "visibility": null,
            "width": null
          }
        },
        "3d2a1d80cf2342238adb085c35a624fd": {
          "model_module": "@jupyter-widgets/controls",
          "model_name": "ProgressStyleModel",
          "model_module_version": "1.5.0",
          "state": {
            "_model_module": "@jupyter-widgets/controls",
            "_model_module_version": "1.5.0",
            "_model_name": "ProgressStyleModel",
            "_view_count": null,
            "_view_module": "@jupyter-widgets/base",
            "_view_module_version": "1.2.0",
            "_view_name": "StyleView",
            "bar_color": null,
            "description_width": ""
          }
        },
        "9e85d1cdc1ac40c4b1218b4a63404ea4": {
          "model_module": "@jupyter-widgets/base",
          "model_name": "LayoutModel",
          "model_module_version": "1.2.0",
          "state": {
            "_model_module": "@jupyter-widgets/base",
            "_model_module_version": "1.2.0",
            "_model_name": "LayoutModel",
            "_view_count": null,
            "_view_module": "@jupyter-widgets/base",
            "_view_module_version": "1.2.0",
            "_view_name": "LayoutView",
            "align_content": null,
            "align_items": null,
            "align_self": null,
            "border": null,
            "bottom": null,
            "display": null,
            "flex": null,
            "flex_flow": null,
            "grid_area": null,
            "grid_auto_columns": null,
            "grid_auto_flow": null,
            "grid_auto_rows": null,
            "grid_column": null,
            "grid_gap": null,
            "grid_row": null,
            "grid_template_areas": null,
            "grid_template_columns": null,
            "grid_template_rows": null,
            "height": null,
            "justify_content": null,
            "justify_items": null,
            "left": null,
            "margin": null,
            "max_height": null,
            "max_width": null,
            "min_height": null,
            "min_width": null,
            "object_fit": null,
            "object_position": null,
            "order": null,
            "overflow": null,
            "overflow_x": null,
            "overflow_y": null,
            "padding": null,
            "right": null,
            "top": null,
            "visibility": null,
            "width": null
          }
        },
        "93baf97b61aa4e3ba27bc2810072889c": {
          "model_module": "@jupyter-widgets/controls",
          "model_name": "DescriptionStyleModel",
          "model_module_version": "1.5.0",
          "state": {
            "_model_module": "@jupyter-widgets/controls",
            "_model_module_version": "1.5.0",
            "_model_name": "DescriptionStyleModel",
            "_view_count": null,
            "_view_module": "@jupyter-widgets/base",
            "_view_module_version": "1.2.0",
            "_view_name": "StyleView",
            "description_width": ""
          }
        },
        "df1fad8da29e441c8f1fedde3638c43c": {
          "model_module": "@jupyter-widgets/base",
          "model_name": "LayoutModel",
          "model_module_version": "1.2.0",
          "state": {
            "_model_module": "@jupyter-widgets/base",
            "_model_module_version": "1.2.0",
            "_model_name": "LayoutModel",
            "_view_count": null,
            "_view_module": "@jupyter-widgets/base",
            "_view_module_version": "1.2.0",
            "_view_name": "LayoutView",
            "align_content": null,
            "align_items": null,
            "align_self": null,
            "border": null,
            "bottom": null,
            "display": null,
            "flex": null,
            "flex_flow": null,
            "grid_area": null,
            "grid_auto_columns": null,
            "grid_auto_flow": null,
            "grid_auto_rows": null,
            "grid_column": null,
            "grid_gap": null,
            "grid_row": null,
            "grid_template_areas": null,
            "grid_template_columns": null,
            "grid_template_rows": null,
            "height": null,
            "justify_content": null,
            "justify_items": null,
            "left": null,
            "margin": null,
            "max_height": null,
            "max_width": null,
            "min_height": null,
            "min_width": null,
            "object_fit": null,
            "object_position": null,
            "order": null,
            "overflow": null,
            "overflow_x": null,
            "overflow_y": null,
            "padding": null,
            "right": null,
            "top": null,
            "visibility": null,
            "width": null
          }
        },
        "fd8d868f9ed34dfc8187c8deb967d36f": {
          "model_module": "@jupyter-widgets/controls",
          "model_name": "DescriptionStyleModel",
          "model_module_version": "1.5.0",
          "state": {
            "_model_module": "@jupyter-widgets/controls",
            "_model_module_version": "1.5.0",
            "_model_name": "DescriptionStyleModel",
            "_view_count": null,
            "_view_module": "@jupyter-widgets/base",
            "_view_module_version": "1.2.0",
            "_view_name": "StyleView",
            "description_width": ""
          }
        },
        "5c8bf4fbb95b4430b02137dc1017af3a": {
          "model_module": "@jupyter-widgets/controls",
          "model_name": "HTMLModel",
          "model_module_version": "1.5.0",
          "state": {
            "_dom_classes": [],
            "_model_module": "@jupyter-widgets/controls",
            "_model_module_version": "1.5.0",
            "_model_name": "HTMLModel",
            "_view_count": null,
            "_view_module": "@jupyter-widgets/controls",
            "_view_module_version": "1.5.0",
            "_view_name": "HTMLView",
            "description": "",
            "description_tooltip": null,
            "layout": "IPY_MODEL_9e85d1cdc1ac40c4b1218b4a63404ea4",
            "placeholder": "​",
            "style": "IPY_MODEL_93baf97b61aa4e3ba27bc2810072889c",
            "value": "Loading checkpoint shards: 100%"
          }
        },
        "27bb395bcd6c47c38675ecfda830e7ab": {
          "model_module": "@jupyter-widgets/controls",
          "model_name": "FloatProgressModel",
          "model_module_version": "1.5.0",
          "state": {
            "_dom_classes": [],
            "_model_module": "@jupyter-widgets/controls",
            "_model_module_version": "1.5.0",
            "_model_name": "FloatProgressModel",
            "_view_count": null,
            "_view_module": "@jupyter-widgets/controls",
            "_view_module_version": "1.5.0",
            "_view_name": "ProgressView",
            "bar_style": "success",
            "description": "",
            "description_tooltip": null,
            "layout": "IPY_MODEL_180eb5eda54c4ff68936b2f41e7f4f50",
            "max": 3,
            "min": 0,
            "orientation": "horizontal",
            "style": "IPY_MODEL_3d2a1d80cf2342238adb085c35a624fd",
            "value": 3
          }
        },
        "6ee4e5c51577486caa1b0f101235e5cb": {
          "model_module": "@jupyter-widgets/controls",
          "model_name": "HTMLModel",
          "model_module_version": "1.5.0",
          "state": {
            "_dom_classes": [],
            "_model_module": "@jupyter-widgets/controls",
            "_model_module_version": "1.5.0",
            "_model_name": "HTMLModel",
            "_view_count": null,
            "_view_module": "@jupyter-widgets/controls",
            "_view_module_version": "1.5.0",
            "_view_name": "HTMLView",
            "description": "",
            "description_tooltip": null,
            "layout": "IPY_MODEL_df1fad8da29e441c8f1fedde3638c43c",
            "placeholder": "​",
            "style": "IPY_MODEL_fd8d868f9ed34dfc8187c8deb967d36f",
            "value": " 3/3 [00:01&lt;00:00,  2.31it/s]"
          }
        },
        "d6b8da55f58d4aa4b38795c68677404a": {
          "model_module": "@jupyter-widgets/base",
          "model_name": "LayoutModel",
          "model_module_version": "1.2.0",
          "state": {
            "_model_module": "@jupyter-widgets/base",
            "_model_module_version": "1.2.0",
            "_model_name": "LayoutModel",
            "_view_count": null,
            "_view_module": "@jupyter-widgets/base",
            "_view_module_version": "1.2.0",
            "_view_name": "LayoutView",
            "align_content": null,
            "align_items": null,
            "align_self": null,
            "border": null,
            "bottom": null,
            "display": null,
            "flex": null,
            "flex_flow": null,
            "grid_area": null,
            "grid_auto_columns": null,
            "grid_auto_flow": null,
            "grid_auto_rows": null,
            "grid_column": null,
            "grid_gap": null,
            "grid_row": null,
            "grid_template_areas": null,
            "grid_template_columns": null,
            "grid_template_rows": null,
            "height": null,
            "justify_content": null,
            "justify_items": null,
            "left": null,
            "margin": null,
            "max_height": null,
            "max_width": null,
            "min_height": null,
            "min_width": null,
            "object_fit": null,
            "object_position": null,
            "order": null,
            "overflow": null,
            "overflow_x": null,
            "overflow_y": null,
            "padding": null,
            "right": null,
            "top": null,
            "visibility": null,
            "width": null
          }
        },
        "dd7db17992804a20bfb948b3408e38ee": {
          "model_module": "@jupyter-widgets/controls",
          "model_name": "HBoxModel",
          "model_module_version": "1.5.0",
          "state": {
            "_dom_classes": [],
            "_model_module": "@jupyter-widgets/controls",
            "_model_module_version": "1.5.0",
            "_model_name": "HBoxModel",
            "_view_count": null,
            "_view_module": "@jupyter-widgets/controls",
            "_view_module_version": "1.5.0",
            "_view_name": "HBoxView",
            "box_style": "",
            "children": [
              "IPY_MODEL_5c8bf4fbb95b4430b02137dc1017af3a",
              "IPY_MODEL_27bb395bcd6c47c38675ecfda830e7ab",
              "IPY_MODEL_6ee4e5c51577486caa1b0f101235e5cb"
            ],
            "layout": "IPY_MODEL_d6b8da55f58d4aa4b38795c68677404a"
          }
        }
      }
    }
  },
  "cells": [
    {
      "cell_type": "markdown",
      "metadata": {
        "id": "view-in-github",
        "colab_type": "text"
      },
      "source": [
        "<a href=\"https://colab.research.google.com/github/olonok69/LLM_Notebooks/blob/main/mlflow/summarization/T5_large_Evaluation_multi_news_summarization_mlflow.ipynb\" target=\"_parent\"><img src=\"https://colab.research.google.com/assets/colab-badge.svg\" alt=\"Open In Colab\"/></a>"
      ]
    },
    {
      "cell_type": "code",
      "execution_count": 1,
      "metadata": {
        "colab": {
          "base_uri": "https://localhost:8080/"
        },
        "id": "uzu0R8y3oqj7",
        "outputId": "57187c56-b8f0-4654-893d-0060239a77b1"
      },
      "outputs": [
        {
          "output_type": "stream",
          "name": "stdout",
          "text": [
            "Drive already mounted at /content/drive; to attempt to forcibly remount, call drive.mount(\"/content/drive\", force_remount=True).\n"
          ]
        }
      ],
      "source": [
        "from google.colab import drive\n",
        "drive.mount('/content/drive')"
      ]
    },
    {
      "cell_type": "code",
      "source": [
        "!pip install mlflow pyngrok  --quiet\n",
        "! pip install  evaluate  textstat tiktoken -q\n",
        "! pip install psutil pynvml"
      ],
      "metadata": {
        "id": "PNaQgd55pPCn",
        "colab": {
          "base_uri": "https://localhost:8080/"
        },
        "outputId": "fc7f85d7-6806-4e7b-c912-6abdf21f68f9"
      },
      "execution_count": 44,
      "outputs": [
        {
          "output_type": "stream",
          "name": "stdout",
          "text": [
            "Requirement already satisfied: psutil in /usr/local/lib/python3.10/dist-packages (5.9.5)\n",
            "Collecting pynvml\n",
            "  Downloading pynvml-11.5.3-py3-none-any.whl.metadata (8.8 kB)\n",
            "Downloading pynvml-11.5.3-py3-none-any.whl (53 kB)\n",
            "\u001b[?25l   \u001b[90m━━━━━━━━━━━━━━━━━━━━━━━━━━━━━━━━━━━━━━━━\u001b[0m \u001b[32m0.0/53.1 kB\u001b[0m \u001b[31m?\u001b[0m eta \u001b[36m-:--:--\u001b[0m\r\u001b[2K   \u001b[90m━━━━━━━━━━━━━━━━━━━━━━━━━━━━━━━━━━━━━━━━\u001b[0m \u001b[32m53.1/53.1 kB\u001b[0m \u001b[31m2.3 MB/s\u001b[0m eta \u001b[36m0:00:00\u001b[0m\n",
            "\u001b[?25hInstalling collected packages: pynvml\n",
            "Successfully installed pynvml-11.5.3\n"
          ]
        }
      ]
    },
    {
      "cell_type": "code",
      "source": [
        "# Transformers installation\n",
        "! pip install -q --disable-pip-version-check py7zr sentencepiece loralib peft trl\n",
        "! pip install -q    wandb bitsandbytes\n",
        "! pip install datasets evaluate rouge_score -q\n",
        "! pip install transformers[torch] -q\n",
        "! pip install accelerate -U -q\n",
        "# To install from source instead of the last release, comment the command above and uncomment the following one.\n",
        "# ! pip install git+https://github.com/huggingface/transformers.git"
      ],
      "metadata": {
        "id": "_4BthcQkpsWX"
      },
      "execution_count": 3,
      "outputs": []
    },
    {
      "cell_type": "code",
      "source": [
        "from google.colab import userdata\n",
        "NGROK_AUTH_TOKEN  = userdata.get('NGROK')\n",
        "\n"
      ],
      "metadata": {
        "id": "taUuIbADpcaR"
      },
      "execution_count": 4,
      "outputs": []
    },
    {
      "cell_type": "code",
      "source": [
        "\n",
        "import argparse\n",
        "import bitsandbytes as bnb\n",
        "from datasets import load_dataset\n",
        "from functools import partial\n",
        "import os\n",
        "from peft import LoraConfig, get_peft_model, prepare_model_for_kbit_training, AutoPeftModelForCausalLM\n",
        "import torch\n",
        "from transformers import AutoModelForCausalLM, AutoTokenizer, set_seed, Trainer, TrainingArguments, BitsAndBytesConfig, \\\n",
        "    DataCollatorForLanguageModeling, Trainer, TrainingArguments\n",
        "from datasets import load_dataset\n",
        "from torch import cuda, bfloat16\n",
        "import transformers\n",
        "\n",
        "import torch\n",
        "import torch.nn as nn\n",
        "from google.colab import userdata"
      ],
      "metadata": {
        "id": "CicPfY0RrsR2"
      },
      "execution_count": 5,
      "outputs": []
    },
    {
      "cell_type": "code",
      "source": [
        "\n",
        "from google.colab import output\n",
        "output.enable_custom_widget_manager()\n",
        "\n",
        "from transformers.utils import logging\n"
      ],
      "metadata": {
        "id": "K7vZHAW_sdrj"
      },
      "execution_count": 6,
      "outputs": []
    },
    {
      "cell_type": "code",
      "source": [
        "logging.set_verbosity_warning()\n",
        "\n",
        "os.environ[\"TRANSFORMERS_VERBOSITY\"] = \"warning\""
      ],
      "metadata": {
        "id": "Gvyw8-W7wJkd"
      },
      "execution_count": 7,
      "outputs": []
    },
    {
      "cell_type": "code",
      "source": [
        "\n",
        "\n",
        "device = f'cuda:{cuda.current_device()}' if cuda.is_available() else 'cpu'\n",
        "device\n"
      ],
      "metadata": {
        "colab": {
          "base_uri": "https://localhost:8080/",
          "height": 35
        },
        "id": "i4BfxrozshY3",
        "outputId": "1694adc9-c0b0-419a-af70-05338d03238c"
      },
      "execution_count": 8,
      "outputs": [
        {
          "output_type": "execute_result",
          "data": {
            "text/plain": [
              "'cuda:0'"
            ],
            "application/vnd.google.colaboratory.intrinsic+json": {
              "type": "string"
            }
          },
          "metadata": {},
          "execution_count": 8
        }
      ]
    },
    {
      "cell_type": "markdown",
      "source": [
        "# Load multi_news dataset\n",
        "https://huggingface.co/datasets/multi_news"
      ],
      "metadata": {
        "id": "aYqFueQisnwC"
      }
    },
    {
      "cell_type": "code",
      "source": [
        "from datasets import load_dataset\n",
        "\n",
        "dataset  = load_dataset(\"multi_news\", trust_remote_code=True)"
      ],
      "metadata": {
        "id": "t2mbJh_qsoKL"
      },
      "execution_count": 9,
      "outputs": []
    },
    {
      "cell_type": "code",
      "source": [
        "dataset"
      ],
      "metadata": {
        "colab": {
          "base_uri": "https://localhost:8080/"
        },
        "id": "KEsfRYLKtwDn",
        "outputId": "5a87de2c-f9a6-4fae-dfd5-4e690ba5ab0c"
      },
      "execution_count": 10,
      "outputs": [
        {
          "output_type": "execute_result",
          "data": {
            "text/plain": [
              "DatasetDict({\n",
              "    train: Dataset({\n",
              "        features: ['document', 'summary'],\n",
              "        num_rows: 44972\n",
              "    })\n",
              "    validation: Dataset({\n",
              "        features: ['document', 'summary'],\n",
              "        num_rows: 5622\n",
              "    })\n",
              "    test: Dataset({\n",
              "        features: ['document', 'summary'],\n",
              "        num_rows: 5622\n",
              "    })\n",
              "})"
            ]
          },
          "metadata": {},
          "execution_count": 10
        }
      ]
    },
    {
      "cell_type": "code",
      "source": [
        "\n",
        "print(f\"Train dataset size: {len(dataset['train'])}\")\n",
        "print(f\"test dataset size: {len(dataset['test'])}\")\n",
        "print(f\"Validation dataset size: {len(dataset['validation'])}\")"
      ],
      "metadata": {
        "colab": {
          "base_uri": "https://localhost:8080/"
        },
        "id": "eekbGsBhtwA-",
        "outputId": "3d40514e-a816-4d17-8677-4190719393af"
      },
      "execution_count": 11,
      "outputs": [
        {
          "output_type": "stream",
          "name": "stdout",
          "text": [
            "Train dataset size: 44972\n",
            "test dataset size: 5622\n",
            "Validation dataset size: 5622\n"
          ]
        }
      ]
    },
    {
      "cell_type": "code",
      "source": [
        "dataset['train'][100]['document']"
      ],
      "metadata": {
        "colab": {
          "base_uri": "https://localhost:8080/",
          "height": 122
        },
        "id": "sh7XMDXRtv-O",
        "outputId": "c434576d-b799-4c38-b049-45e8d24eadcf"
      },
      "execution_count": 12,
      "outputs": [
        {
          "output_type": "execute_result",
          "data": {
            "text/plain": [
              "'Katy Perry is all about breaking conventional beauty rules, from her love of everything technicolor and coated in glitter, to her no-brows, black lipstick Met Gala look. So, of course, the pop star — and face of CoverGirl — was the perfect person to help announce that the beauty brand has named its first-ever male CoverGirl, social media star James Charles. \\n \\n According to a press release from the brand, all CoverGirls “are role models and boundary-breakers, fearlessly expressing themselves, standing up for what they believe, and redefining what it means to be beautiful,” and who better to embody that ethos than Instagram sensation James Charles. After launching his beauty account a year ago, the teen has since quickly attracted hundreds of thousands of followers (427,000 to be exact) thanks to his unique, transformative approach to makeup artistry. \\n \\n RELATED PHOTOS: Katy Perry’s Most Outrageous Twitpics \\n \\n While Charles’ partnership with the brand kicks off today, we’ll have to wait until later this month to see him debut the brand’s new mascara designed to work on all lash types, CoverGirl So Lashy! by blastPRO Mascara. His first launch will include TV, print and digital components and he will continue to promote the brand and generally slay for the rest of 2017. \\n \\n What do you think of the first male CoverGirl? Sound off below! ||||| James Charles, a 17-year-old New York-based makeup artist, might want to rethink the word “aspiring” in his Instagram bio. \\n \\n He’s the first ever male CoverGirl, an honor revealed Tuesday on Katy Perry’s Instagram. \\n \\n Just wrapped another great @COVERGIRL shoot. Honored to have the pleasure to announce the very first COVERBOY, James Charles! Follow him @JCharlesBeauty! #COVERGIRLJames #glam❗️ A photo posted by KATY PERRY (@katyperry) on Oct 10, 2016 at 10:52pm PDT \\n \\n “Just wrapped another great @CoverGirl shoot. Honored to have the pleasure to announce the very first COVERBOY, James Charles! Follow him @JCharlesBeauty!” she captioned a photo of the two of them. \\n \\n James Charles, who only started trying makeup a year ago, will appear in campaigns for CoverGirl’s newest mascara, “So Lashy.” The brand explained in a press release that its newest launch is designed to work on all lash types, and shared why he’s the perfect person to front the campaign. \\n \\n CoverGirl Those brows, though? \\n \\n “All of our CoverGirls are role models and boundary-breakers, fearlessly expressing themselves, standing up for what they believe, and redefining what it means to be beautiful,” read the statement. “James Charles is no exception. One year ago, he boldly chose to launch his Instagram to the world, using transformative, dynamic makeup looks to showcase the many facets of his personality, serving as an inspiration to anyone who might have been afraid to do the same.” \\n \\n James Charles has racked up over 400,000 followers in just one year of posting, thanks to masterful skills and an extensive array of looks, ranging from wild... \\n \\n ... to just plain stunning. \\n \\n Oh, and did we mention this kid’s got personality? Take these epic senior photos as proof. \\n \\n I mean are we really that surprised? 😂😂 Shoutout to Carlyn Studios for dealing with my extra ass 💀😂 A photo posted by JAMES CHARLES (@jcharlesbeauty) on Sep 5, 2016 at 3:08pm PDT ||||| Just wrapped another great @COVERGIRL shoot. Honored to have the pleasure to announce the very first COVERBOY, James Charles! Follow him @JCharlesBeauty ||||| If you happen to land on James Charles\\'s Instagram feed, you\\'ll immediately note that the talented teen has perfected the art of the dramatic lash, otherworldly highlight, artistic eye, and more. In fact, you may remember that his strobing skills are so good, they even got a shout-out from Zendaya one time. And it looks like a certain brand has just taken note of James\\'s major beauty moves, and decided to bring them to an even broader audience in the coolest way. Today, we found out that Covergirl Cosmetics is naming the Instagram superstar their first male spokesperson, and we are so here for it. \\n \\n As the beauty community has grown over time, we\\'ve noted boy beauty gurus like Manny Gutierrez and Patrick Starr taking to social media to share their skills and breaking down gender boundaries at the same time. We\\'re firm believers that anyone on the gender spectrum should be able to share their passion for makeup without facing outdated stereotypes and negative judgement, and we couldn\\'t be happier to see Covergirl and James take an amazing step forward. As the brand noted, they\\'ve always chosen to partner with \"role models and boundary-breakers, fearlessly expressing themselves, standing up for what they believe, and redefining what it means to be beautiful.\" We think the glam guru totally embodies that description, and it sounds like Covergirl agrees, citing him as \"as an inspiration to anyone who might have been afraid to do the same.\" We\\'re feeling inspired by this announcement for sure, and we can\\'t wait to see what this cool collab brings. We\\'ll be watching! \\n \\n Loading View on Instagram \\n \\n Related: \\n \\n 8 Makeup Tutorials By Boys That Will Blow Your Mind \\n \\n The Brave Reason Manny Gutierrez Gave Up Medical School for a Beauty Career \\n \\n Here\\'s Why Patrick Starr Uses TWO Mirrors to Get Glam ||||| The \"aspiring makeup artist\", according to his Instagram account bio, should really change it to \"inspiring\". At only 17 years old, James Charles has risen in popularity thanks to his Instagram account, which already has more than 431,000 followers after only one year. His account showcases makeup styles including pixellated lips and his signature bold galaxy look. \\n \\n No wonder that his unique and daring style got him Katy Perry\\'s full support. The face of CoverGirl and outspoken pop star announced on her Instagram page that the beauty brand has named its first ever male CoverGirl. \"Just wrapped another great @CoverGirl shoot. Honored to have the pleasure to announce the very first COVERBOY, James Charles! Follow him @JCharlesBeauty!\" she captioned the picture of the both of them. \\n \\n CoverGirl published its own statement and explained why James Charles is the perfect fit for their campaign.'"
            ],
            "application/vnd.google.colaboratory.intrinsic+json": {
              "type": "string"
            }
          },
          "metadata": {},
          "execution_count": 12
        }
      ]
    },
    {
      "cell_type": "code",
      "source": [
        "\n",
        "len(dataset['train'][100]['document'])"
      ],
      "metadata": {
        "colab": {
          "base_uri": "https://localhost:8080/"
        },
        "id": "uD6HcoF3tv7H",
        "outputId": "9468516f-8536-49a0-f7d2-5f8e9afda310"
      },
      "execution_count": 13,
      "outputs": [
        {
          "output_type": "execute_result",
          "data": {
            "text/plain": [
              "6217"
            ]
          },
          "metadata": {},
          "execution_count": 13
        }
      ]
    },
    {
      "cell_type": "code",
      "source": [
        "\n",
        "len(dataset['train'][100]['summary'])"
      ],
      "metadata": {
        "colab": {
          "base_uri": "https://localhost:8080/"
        },
        "id": "87pL5yuit7KC",
        "outputId": "1a8a419b-08e7-4060-f1df-91fe204a0f25"
      },
      "execution_count": 14,
      "outputs": [
        {
          "output_type": "execute_result",
          "data": {
            "text/plain": [
              "1268"
            ]
          },
          "metadata": {},
          "execution_count": 14
        }
      ]
    },
    {
      "cell_type": "code",
      "source": [
        "import transformers\n",
        "from mlflow.models import infer_signature\n",
        "from mlflow.transformers import generate_signature_output\n",
        "import locale\n",
        "import mlflow\n",
        "def getpreferredencoding(do_setlocale = True):\n",
        "    return \"UTF-8\"\n",
        "locale.getpreferredencoding = getpreferredencoding"
      ],
      "metadata": {
        "id": "OD53Wb7qwbZD"
      },
      "execution_count": 15,
      "outputs": []
    },
    {
      "cell_type": "code",
      "source": [
        "model_uri = \"runs:/a3cb2376e04b48c8b654ac42401dd387/text_summarizer\""
      ],
      "metadata": {
        "id": "00yW5HmGt-h4"
      },
      "execution_count": 16,
      "outputs": []
    },
    {
      "cell_type": "code",
      "source": [
        "MLFLOW_TRACKING_URI=\"databricks\"\n",
        "# Specify the workspace hostname and token\n",
        "DATABRICKS_HOST=\"https://adb-2467347032368999.19.azuredatabricks.net/\"\n",
        "DATABRICKS_TOKEN=userdata.get('DATABRCKS_TTOKEN')"
      ],
      "metadata": {
        "id": "iQMCpdWkuu1Q"
      },
      "execution_count": 17,
      "outputs": []
    },
    {
      "cell_type": "code",
      "source": [
        "\n",
        "\n",
        "if \"MLFLOW_TRACKING_URI\" not in os.environ:\n",
        "    os.environ[\"MLFLOW_TRACKING_URI\"] = MLFLOW_TRACKING_URI\n",
        "if \"DATABRICKS_HOST\" not in os.environ:\n",
        "    os.environ[\"DATABRICKS_HOST\"] = DATABRICKS_HOST\n",
        "if \"DATABRICKS_TOKEN\" not in os.environ:\n",
        "    os.environ[\"DATABRICKS_TOKEN\"] = DATABRICKS_TOKEN"
      ],
      "metadata": {
        "id": "zUweE6gbuyYI"
      },
      "execution_count": 18,
      "outputs": []
    },
    {
      "cell_type": "code",
      "source": [
        "mlflow.set_tracking_uri(MLFLOW_TRACKING_URI)"
      ],
      "metadata": {
        "id": "qbn0XCE3vm9U"
      },
      "execution_count": 19,
      "outputs": []
    },
    {
      "cell_type": "code",
      "source": [
        "\n",
        "mlflow.set_experiment(\"/Users/***REMOVED***/summarization_fine_tuning\")\n"
      ],
      "metadata": {
        "colab": {
          "base_uri": "https://localhost:8080/"
        },
        "id": "X9Wk76w6vowx",
        "outputId": "6e26f57c-b9d9-458d-b1ad-78e17c505b58"
      },
      "execution_count": 20,
      "outputs": [
        {
          "output_type": "execute_result",
          "data": {
            "text/plain": [
              "<Experiment: artifact_location='dbfs:/databricks/mlflow-tracking/837187481682972', creation_time=1732208495910, experiment_id='837187481682972', last_update_time=1732210306651, lifecycle_stage='active', name='/Users/***REMOVED***/summarization_fine_tuning', tags={'mlflow.experiment.sourceName': '/Users/***REMOVED***/summarization_fine_tuning',\n",
              " 'mlflow.experimentType': 'MLFLOW_EXPERIMENT',\n",
              " 'mlflow.ownerEmail': '***REMOVED***',\n",
              " 'mlflow.ownerId': '1331640755799986'}>"
            ]
          },
          "metadata": {},
          "execution_count": 20
        }
      ]
    },
    {
      "cell_type": "code",
      "source": [
        "mlflow.end_run()"
      ],
      "metadata": {
        "id": "zegpmMnFvrtV"
      },
      "execution_count": 21,
      "outputs": []
    },
    {
      "cell_type": "code",
      "source": [
        "summarization_components = mlflow.transformers.load_model(\n",
        "    model_uri, return_type=\"components\"\n",
        ")"
      ],
      "metadata": {
        "id": "zvUjNxw_wKAQ",
        "colab": {
          "base_uri": "https://localhost:8080/",
          "height": 168,
          "referenced_widgets": [
            "bda27314652a4f5ebc30eb91ee71247e",
            "139a94c948c0413eabffb7967dffbdde",
            "61f7379eab2c412e97c23f3fc7cbbb76",
            "12129c19f8fa4815bf54108a68679c8a",
            "d91809e698154b7b8d8a11e1935071bc",
            "951e46ee4e264b978bc50195ffa85db2",
            "32b4565fc64a4ac89ef90145f0e9aea6",
            "17c4a60722034abfb5a622620230295c",
            "160d33b174ac40d8ad08e63b31ab3ea8",
            "0604a41d1d7245a8b3594c9a338f3094",
            "1620cc4900464fe1b171cd0621f193a6",
            "09c5eb22e1ed472db853cf2dd8197c12",
            "f4dd870586f047fabec786d2a515f2f0",
            "b27bca2191094037b61c2ab23cd06c76",
            "3108b5f4ef334220b03d280ee20ba8fd",
            "32dcbb4ba46c43c1804105316d0ff95c",
            "c65b35a46434451aa9162a8d28c17943",
            "701aa2302bef40039ceafcf984ec9d52",
            "4929ffd669204d2690e1d1c97ffe283f",
            "8635081472de4ee08303220b1d7f278f",
            "c1836190b3ce4e5da90c7e0974c1e60c",
            "96f24d6d5312452a81992e62a629f32e",
            "19f0beff67774ac391f21caef5a3eab7",
            "52c3ea722c624d44b119e4b1d6c789a1",
            "da50161b4ed24844a7aa1baed28eec28",
            "a567f1cd1f304775857c291ab805f5e7",
            "4afcee7ed94940d0ad184664047e4007",
            "4a6b5440042d4906b66a34758470d0b0",
            "8a4d1f69217a4b8ab667b5be2cb8d90c",
            "ef00847cb03b4a71a0f7cad5c2d2d7a1",
            "9d362959a43c4d129eca320fa80bfca6",
            "c486688ac001483a8f11f233240f353a",
            "05b4f3fe6b024c6785c9171014b3b111"
          ]
        },
        "outputId": "d97efabc-4470-4bab-be13-027c474a6dfe"
      },
      "execution_count": 22,
      "outputs": [
        {
          "output_type": "display_data",
          "data": {
            "text/plain": [
              "Downloading artifacts:   0%|          | 0/17 [00:00<?, ?it/s]"
            ],
            "application/vnd.jupyter.widget-view+json": {
              "version_major": 2,
              "version_minor": 0,
              "model_id": "bda27314652a4f5ebc30eb91ee71247e"
            }
          },
          "metadata": {
            "application/vnd.jupyter.widget-view+json": {
              "colab": {
                "custom_widget_manager": {
                  "url": "https://ssl.gstatic.com/colaboratory-static/widgets/colab-cdn-widget-manager/2b70e893a8ba7c0f/manager.min.js"
                }
              }
            }
          }
        },
        {
          "output_type": "stream",
          "name": "stderr",
          "text": [
            "2024/11/21 17:38:09 INFO mlflow.transformers: 'runs:/a3cb2376e04b48c8b654ac42401dd387/text_summarizer' resolved as 'dbfs:/databricks/mlflow-tracking/837187481682972/a3cb2376e04b48c8b654ac42401dd387/artifacts/text_summarizer'\n"
          ]
        },
        {
          "output_type": "display_data",
          "data": {
            "text/plain": [
              "Downloading artifacts:   0%|          | 0/1 [00:00<?, ?it/s]"
            ],
            "application/vnd.jupyter.widget-view+json": {
              "version_major": 2,
              "version_minor": 0,
              "model_id": "96f24d6d5312452a81992e62a629f32e"
            }
          },
          "metadata": {
            "application/vnd.jupyter.widget-view+json": {
              "colab": {
                "custom_widget_manager": {
                  "url": "https://ssl.gstatic.com/colaboratory-static/widgets/colab-cdn-widget-manager/2b70e893a8ba7c0f/manager.min.js"
                }
              }
            }
          }
        },
        {
          "output_type": "stream",
          "name": "stderr",
          "text": [
            "2024/11/21 17:38:10 WARNING mlflow.transformers.model_io: Could not specify device parameter for this pipeline type.Falling back to loading the model with the default device.\n"
          ]
        },
        {
          "output_type": "display_data",
          "data": {
            "text/plain": [
              "Loading checkpoint shards:   0%|          | 0/3 [00:00<?, ?it/s]"
            ],
            "application/vnd.jupyter.widget-view+json": {
              "version_major": 2,
              "version_minor": 0,
              "model_id": "05b4f3fe6b024c6785c9171014b3b111"
            }
          },
          "metadata": {
            "application/vnd.jupyter.widget-view+json": {
              "colab": {
                "custom_widget_manager": {
                  "url": "https://ssl.gstatic.com/colaboratory-static/widgets/colab-cdn-widget-manager/2b70e893a8ba7c0f/manager.min.js"
                }
              }
            }
          }
        }
      ]
    },
    {
      "cell_type": "code",
      "source": [
        "summarization_components.keys()"
      ],
      "metadata": {
        "id": "W9IqRGGx6jLv",
        "colab": {
          "base_uri": "https://localhost:8080/"
        },
        "outputId": "229466ee-a6bb-479f-e31a-ed003939ae72"
      },
      "execution_count": 23,
      "outputs": [
        {
          "output_type": "execute_result",
          "data": {
            "text/plain": [
              "dict_keys(['task', 'framework', 'device', 'torch_dtype', 'model', 'tokenizer'])"
            ]
          },
          "metadata": {},
          "execution_count": 23
        }
      ]
    },
    {
      "cell_type": "code",
      "source": [
        "import torch\n",
        "from tqdm.auto import tqdm\n",
        "\n",
        "from transformers import AutoTokenizer, AutoModelForSeq2SeqLM"
      ],
      "metadata": {
        "id": "dj6i-SyQ82bl"
      },
      "execution_count": 24,
      "outputs": []
    },
    {
      "cell_type": "code",
      "source": [
        "reconstructed_pipeline = transformers.pipeline(**summarization_components)"
      ],
      "metadata": {
        "id": "hESolGE9-kya"
      },
      "execution_count": 25,
      "outputs": []
    },
    {
      "cell_type": "code",
      "source": [
        "test1= dataset['test'][100]['document']"
      ],
      "metadata": {
        "id": "_HwIpZRlBie3"
      },
      "execution_count": 26,
      "outputs": []
    },
    {
      "cell_type": "code",
      "source": [
        "reconstructed_pipeline(test1)"
      ],
      "metadata": {
        "id": "rky8tk-vBsrY",
        "colab": {
          "base_uri": "https://localhost:8080/"
        },
        "outputId": "705fa1cb-f316-46fb-de58-aef0a1731a53"
      },
      "execution_count": 27,
      "outputs": [
        {
          "output_type": "execute_result",
          "data": {
            "text/plain": [
              "[{'summary_text': '0:58 KC\\'s worst floods 1:54 KC floods: a history of the city Pause 1:55 KC Floods: A history of Kansas City 1:56 KC Firefighters recall worst flood in history 1:57 KC firefighters remember worst flood 1:59 Kansas City\\'s most devastating floods Pause 2:07 KC Police say they\\'re still looking for Kara Kopetsky, 17, and Jessica Runions, 21, who went missing in September 2016. The families of both women have been in the area. The Missouri State Highway Patrol said Tuesday afternoon. \"'}]"
            ]
          },
          "metadata": {},
          "execution_count": 27
        }
      ]
    },
    {
      "cell_type": "code",
      "source": [
        "df_test = dataset['test'].to_pandas()"
      ],
      "metadata": {
        "id": "qQbbFLsTBvng"
      },
      "execution_count": 28,
      "outputs": []
    },
    {
      "cell_type": "code",
      "source": [
        "df_test.columns = ['inputs', 'summary']"
      ],
      "metadata": {
        "id": "QgsZXItiB_oz"
      },
      "execution_count": 29,
      "outputs": []
    },
    {
      "cell_type": "code",
      "source": [
        "df_test.head()"
      ],
      "metadata": {
        "id": "4zKOdZ9uCXpR",
        "colab": {
          "base_uri": "https://localhost:8080/",
          "height": 206
        },
        "outputId": "ced6ed86-9fbe-4630-a755-f35fadb6af02"
      },
      "execution_count": 30,
      "outputs": [
        {
          "output_type": "execute_result",
          "data": {
            "text/plain": [
              "                                              inputs  \\\n",
              "0  GOP Eyes Gains As Voters In 11 States Pick Gov...   \n",
              "1  \\n \\n \\n \\n UPDATE: 4/19/2001 Read Richard Met...   \n",
              "2  It's the Golden State's latest version of the ...   \n",
              "3  The seed for this crawl was a list of every ho...   \n",
              "4  After a year in which liberals scored impressi...   \n",
              "\n",
              "                                             summary  \n",
              "0  – It's a race for the governor's mansion in 11...  \n",
              "1  – It turns out Facebook is only guilty of abou...  \n",
              "2  – Not a big fan of Southern California? Neithe...  \n",
              "3  – Why did Microsoft buy Nokia's phone business...  \n",
              "4  – The Supreme Court is facing a docket of high...  "
            ],
            "text/html": [
              "\n",
              "  <div id=\"df-57c0bea6-0ee8-45d2-bb3f-2c89e791868b\" class=\"colab-df-container\">\n",
              "    <div>\n",
              "<style scoped>\n",
              "    .dataframe tbody tr th:only-of-type {\n",
              "        vertical-align: middle;\n",
              "    }\n",
              "\n",
              "    .dataframe tbody tr th {\n",
              "        vertical-align: top;\n",
              "    }\n",
              "\n",
              "    .dataframe thead th {\n",
              "        text-align: right;\n",
              "    }\n",
              "</style>\n",
              "<table border=\"1\" class=\"dataframe\">\n",
              "  <thead>\n",
              "    <tr style=\"text-align: right;\">\n",
              "      <th></th>\n",
              "      <th>inputs</th>\n",
              "      <th>summary</th>\n",
              "    </tr>\n",
              "  </thead>\n",
              "  <tbody>\n",
              "    <tr>\n",
              "      <th>0</th>\n",
              "      <td>GOP Eyes Gains As Voters In 11 States Pick Gov...</td>\n",
              "      <td>– It's a race for the governor's mansion in 11...</td>\n",
              "    </tr>\n",
              "    <tr>\n",
              "      <th>1</th>\n",
              "      <td>\\n \\n \\n \\n UPDATE: 4/19/2001 Read Richard Met...</td>\n",
              "      <td>– It turns out Facebook is only guilty of abou...</td>\n",
              "    </tr>\n",
              "    <tr>\n",
              "      <th>2</th>\n",
              "      <td>It's the Golden State's latest version of the ...</td>\n",
              "      <td>– Not a big fan of Southern California? Neithe...</td>\n",
              "    </tr>\n",
              "    <tr>\n",
              "      <th>3</th>\n",
              "      <td>The seed for this crawl was a list of every ho...</td>\n",
              "      <td>– Why did Microsoft buy Nokia's phone business...</td>\n",
              "    </tr>\n",
              "    <tr>\n",
              "      <th>4</th>\n",
              "      <td>After a year in which liberals scored impressi...</td>\n",
              "      <td>– The Supreme Court is facing a docket of high...</td>\n",
              "    </tr>\n",
              "  </tbody>\n",
              "</table>\n",
              "</div>\n",
              "    <div class=\"colab-df-buttons\">\n",
              "\n",
              "  <div class=\"colab-df-container\">\n",
              "    <button class=\"colab-df-convert\" onclick=\"convertToInteractive('df-57c0bea6-0ee8-45d2-bb3f-2c89e791868b')\"\n",
              "            title=\"Convert this dataframe to an interactive table.\"\n",
              "            style=\"display:none;\">\n",
              "\n",
              "  <svg xmlns=\"http://www.w3.org/2000/svg\" height=\"24px\" viewBox=\"0 -960 960 960\">\n",
              "    <path d=\"M120-120v-720h720v720H120Zm60-500h600v-160H180v160Zm220 220h160v-160H400v160Zm0 220h160v-160H400v160ZM180-400h160v-160H180v160Zm440 0h160v-160H620v160ZM180-180h160v-160H180v160Zm440 0h160v-160H620v160Z\"/>\n",
              "  </svg>\n",
              "    </button>\n",
              "\n",
              "  <style>\n",
              "    .colab-df-container {\n",
              "      display:flex;\n",
              "      gap: 12px;\n",
              "    }\n",
              "\n",
              "    .colab-df-convert {\n",
              "      background-color: #E8F0FE;\n",
              "      border: none;\n",
              "      border-radius: 50%;\n",
              "      cursor: pointer;\n",
              "      display: none;\n",
              "      fill: #1967D2;\n",
              "      height: 32px;\n",
              "      padding: 0 0 0 0;\n",
              "      width: 32px;\n",
              "    }\n",
              "\n",
              "    .colab-df-convert:hover {\n",
              "      background-color: #E2EBFA;\n",
              "      box-shadow: 0px 1px 2px rgba(60, 64, 67, 0.3), 0px 1px 3px 1px rgba(60, 64, 67, 0.15);\n",
              "      fill: #174EA6;\n",
              "    }\n",
              "\n",
              "    .colab-df-buttons div {\n",
              "      margin-bottom: 4px;\n",
              "    }\n",
              "\n",
              "    [theme=dark] .colab-df-convert {\n",
              "      background-color: #3B4455;\n",
              "      fill: #D2E3FC;\n",
              "    }\n",
              "\n",
              "    [theme=dark] .colab-df-convert:hover {\n",
              "      background-color: #434B5C;\n",
              "      box-shadow: 0px 1px 3px 1px rgba(0, 0, 0, 0.15);\n",
              "      filter: drop-shadow(0px 1px 2px rgba(0, 0, 0, 0.3));\n",
              "      fill: #FFFFFF;\n",
              "    }\n",
              "  </style>\n",
              "\n",
              "    <script>\n",
              "      const buttonEl =\n",
              "        document.querySelector('#df-57c0bea6-0ee8-45d2-bb3f-2c89e791868b button.colab-df-convert');\n",
              "      buttonEl.style.display =\n",
              "        google.colab.kernel.accessAllowed ? 'block' : 'none';\n",
              "\n",
              "      async function convertToInteractive(key) {\n",
              "        const element = document.querySelector('#df-57c0bea6-0ee8-45d2-bb3f-2c89e791868b');\n",
              "        const dataTable =\n",
              "          await google.colab.kernel.invokeFunction('convertToInteractive',\n",
              "                                                    [key], {});\n",
              "        if (!dataTable) return;\n",
              "\n",
              "        const docLinkHtml = 'Like what you see? Visit the ' +\n",
              "          '<a target=\"_blank\" href=https://colab.research.google.com/notebooks/data_table.ipynb>data table notebook</a>'\n",
              "          + ' to learn more about interactive tables.';\n",
              "        element.innerHTML = '';\n",
              "        dataTable['output_type'] = 'display_data';\n",
              "        await google.colab.output.renderOutput(dataTable, element);\n",
              "        const docLink = document.createElement('div');\n",
              "        docLink.innerHTML = docLinkHtml;\n",
              "        element.appendChild(docLink);\n",
              "      }\n",
              "    </script>\n",
              "  </div>\n",
              "\n",
              "\n",
              "<div id=\"df-cf3cdd69-bb17-4145-9ad9-15bb4c6a73b8\">\n",
              "  <button class=\"colab-df-quickchart\" onclick=\"quickchart('df-cf3cdd69-bb17-4145-9ad9-15bb4c6a73b8')\"\n",
              "            title=\"Suggest charts\"\n",
              "            style=\"display:none;\">\n",
              "\n",
              "<svg xmlns=\"http://www.w3.org/2000/svg\" height=\"24px\"viewBox=\"0 0 24 24\"\n",
              "     width=\"24px\">\n",
              "    <g>\n",
              "        <path d=\"M19 3H5c-1.1 0-2 .9-2 2v14c0 1.1.9 2 2 2h14c1.1 0 2-.9 2-2V5c0-1.1-.9-2-2-2zM9 17H7v-7h2v7zm4 0h-2V7h2v10zm4 0h-2v-4h2v4z\"/>\n",
              "    </g>\n",
              "</svg>\n",
              "  </button>\n",
              "\n",
              "<style>\n",
              "  .colab-df-quickchart {\n",
              "      --bg-color: #E8F0FE;\n",
              "      --fill-color: #1967D2;\n",
              "      --hover-bg-color: #E2EBFA;\n",
              "      --hover-fill-color: #174EA6;\n",
              "      --disabled-fill-color: #AAA;\n",
              "      --disabled-bg-color: #DDD;\n",
              "  }\n",
              "\n",
              "  [theme=dark] .colab-df-quickchart {\n",
              "      --bg-color: #3B4455;\n",
              "      --fill-color: #D2E3FC;\n",
              "      --hover-bg-color: #434B5C;\n",
              "      --hover-fill-color: #FFFFFF;\n",
              "      --disabled-bg-color: #3B4455;\n",
              "      --disabled-fill-color: #666;\n",
              "  }\n",
              "\n",
              "  .colab-df-quickchart {\n",
              "    background-color: var(--bg-color);\n",
              "    border: none;\n",
              "    border-radius: 50%;\n",
              "    cursor: pointer;\n",
              "    display: none;\n",
              "    fill: var(--fill-color);\n",
              "    height: 32px;\n",
              "    padding: 0;\n",
              "    width: 32px;\n",
              "  }\n",
              "\n",
              "  .colab-df-quickchart:hover {\n",
              "    background-color: var(--hover-bg-color);\n",
              "    box-shadow: 0 1px 2px rgba(60, 64, 67, 0.3), 0 1px 3px 1px rgba(60, 64, 67, 0.15);\n",
              "    fill: var(--button-hover-fill-color);\n",
              "  }\n",
              "\n",
              "  .colab-df-quickchart-complete:disabled,\n",
              "  .colab-df-quickchart-complete:disabled:hover {\n",
              "    background-color: var(--disabled-bg-color);\n",
              "    fill: var(--disabled-fill-color);\n",
              "    box-shadow: none;\n",
              "  }\n",
              "\n",
              "  .colab-df-spinner {\n",
              "    border: 2px solid var(--fill-color);\n",
              "    border-color: transparent;\n",
              "    border-bottom-color: var(--fill-color);\n",
              "    animation:\n",
              "      spin 1s steps(1) infinite;\n",
              "  }\n",
              "\n",
              "  @keyframes spin {\n",
              "    0% {\n",
              "      border-color: transparent;\n",
              "      border-bottom-color: var(--fill-color);\n",
              "      border-left-color: var(--fill-color);\n",
              "    }\n",
              "    20% {\n",
              "      border-color: transparent;\n",
              "      border-left-color: var(--fill-color);\n",
              "      border-top-color: var(--fill-color);\n",
              "    }\n",
              "    30% {\n",
              "      border-color: transparent;\n",
              "      border-left-color: var(--fill-color);\n",
              "      border-top-color: var(--fill-color);\n",
              "      border-right-color: var(--fill-color);\n",
              "    }\n",
              "    40% {\n",
              "      border-color: transparent;\n",
              "      border-right-color: var(--fill-color);\n",
              "      border-top-color: var(--fill-color);\n",
              "    }\n",
              "    60% {\n",
              "      border-color: transparent;\n",
              "      border-right-color: var(--fill-color);\n",
              "    }\n",
              "    80% {\n",
              "      border-color: transparent;\n",
              "      border-right-color: var(--fill-color);\n",
              "      border-bottom-color: var(--fill-color);\n",
              "    }\n",
              "    90% {\n",
              "      border-color: transparent;\n",
              "      border-bottom-color: var(--fill-color);\n",
              "    }\n",
              "  }\n",
              "</style>\n",
              "\n",
              "  <script>\n",
              "    async function quickchart(key) {\n",
              "      const quickchartButtonEl =\n",
              "        document.querySelector('#' + key + ' button');\n",
              "      quickchartButtonEl.disabled = true;  // To prevent multiple clicks.\n",
              "      quickchartButtonEl.classList.add('colab-df-spinner');\n",
              "      try {\n",
              "        const charts = await google.colab.kernel.invokeFunction(\n",
              "            'suggestCharts', [key], {});\n",
              "      } catch (error) {\n",
              "        console.error('Error during call to suggestCharts:', error);\n",
              "      }\n",
              "      quickchartButtonEl.classList.remove('colab-df-spinner');\n",
              "      quickchartButtonEl.classList.add('colab-df-quickchart-complete');\n",
              "    }\n",
              "    (() => {\n",
              "      let quickchartButtonEl =\n",
              "        document.querySelector('#df-cf3cdd69-bb17-4145-9ad9-15bb4c6a73b8 button');\n",
              "      quickchartButtonEl.style.display =\n",
              "        google.colab.kernel.accessAllowed ? 'block' : 'none';\n",
              "    })();\n",
              "  </script>\n",
              "</div>\n",
              "\n",
              "    </div>\n",
              "  </div>\n"
            ],
            "application/vnd.google.colaboratory.intrinsic+json": {
              "type": "dataframe",
              "variable_name": "df_test",
              "summary": "{\n  \"name\": \"df_test\",\n  \"rows\": 5622,\n  \"fields\": [\n    {\n      \"column\": \"inputs\",\n      \"properties\": {\n        \"dtype\": \"string\",\n        \"num_unique_values\": 5620,\n        \"samples\": [\n          \"Photo \\n \\n Many teenagers who never would have smoked cigarettes are now \\u201cvaping\\u201d with flavored e-cigarettes, leading to a new generation using nicotine at rates not seen since the 1990s, a new study suggests. \\n \\n The study, released Monday in the journal Pediatrics, tracked the use of cigarettes and e-cigarettes among 5,490 California high school seniors who graduated between 1995 and 2014. E-cigarettes do not burn tobacco, but are battery-operated inhalers that heat up and vaporize liquid containing flavors and nicotine, a practice known as vaping. The liquids used in vaping range in taste from traditional tobacco and menthol flavors to fruity and sweet combinations like gummi bear, banana bread and cotton candy. \\n \\n When e-cigarettes came on the market in 2007, some public health experts hoped that they would serve as a substitute for traditional tobacco products and lead to declines in tobacco use. \\n \\n But the data from the latest study, conducted by researchers at the University of Southern California, tell a different story. E-cigarettes do not appear to have made a dent in regular cigarette use \\u2014 the number of high school seniors who reported smoking tobacco in the past 30 days has largely plateaued. In 2004, the number of 12th graders who reported smoking tobacco in the past 30 days was 9 percent; in 2014 that number was just under 8 percent. \\n \\n But the rate of teenagers using nicotine \\u2014 either through tobacco cigarettes or e-cigarettes \\u2014 is on the rise. About 14 percent of Southern California high school seniors in 2014 said they had smoked or vaped in the last 30 days. Researchers say they have not seen similar levels of nicotine use among teenagers since 1995, when 12th-grade smoking rates were 19 percent. \\n \\n The numbers suggest that rather than prompting teenagers to replace cigarette smoking with vaping, e-cigarettes instead have enticed an entirely new group of teenagers to use nicotine. While the study focused on California teenagers, researchers say the numbers are consistent with national trends. \\n \\n \\u201cKids are not just using e-cigarettes instead of cigarettes. That is what we were frankly hoping to find,\\u201d said Jessica Barrington-Trimis, the lead author of the study and a postdoctoral scholar research associate in the department of preventive medicine at the U.S.C. Keck School of Medicine. All of the teenagers that were expected to be using cigarettes in 2014 are using them, she said, \\u201cand then there is a whole group of kids using e-cigarettes on top of that.\\u201d \\n \\n The amount of nicotine in the liquids used with e-cigarettes \\u2014 often called \\u201cvape juice\\u201d \\u2014 varies, and users can purchase liquid with no nicotine or nicotine content ranging from 3 milligrams per milliliter to 18 milligrams per milliliter or even higher. While earlier studies have suggested that some teens are using nicotine-free vaping liquids, researchers say the majority of teens appear to be using nicotine-infused liquid in their e-cigarettes. \\n \\n Dr. Jonathan Winickoff, professor of pediatrics at MassGeneral Hospital for Children and Harvard Medical School, who wrote an accompanying paper in Pediatrics, said this is the first study of e-cigarette use in adolescents to show such a strong longitudinal sample with such a drastic effect. \\n \\n \\u201cWe had a trend of decreasing nicotine use,\\u201d said Dr. Winickoff. \\u201cWhat the e-cigarette has done is halted that decrease in its tracks\\u2026. We don\\u2019t want a fifth of our high school students graduating with nicotine addiction.\\u201d \\n \\n While e-cigarettes do appear to be safer than smoking tobacco, they are not risk free. Nicotine disrupts neurotransmitter activity and is highly addictive, particularly in a developing brain. And the liquids contain solvents, formaldehyde and other ingredients that pose health risks when inhaled. \\n \\n While it\\u2019s true that there are nicotine-free vaping liquids, the e-cigarette industry is not regulated, which makes it hard to know what ingredients are actually in any given product. Though the Food and Drug Administration recently took jurisdiction over e-cigarettes, it will be years before any regulations are put into effect. Currently, many products continue to be made in China with little \\u2014 if any \\u2014 oversight by the United States. \\n \\n \\u201cThe F.D.A. has done tests on these vaping products that supposedly do and do not contain nicotine, and what is advertised is really not what\\u2019s in the product,\\u201d Dr. Winickoff said. \\u201cWhen the product is labeled as no nicotine, they\\u2019ve found nicotine. So kids don\\u2019t know what they\\u2019re getting, and as a pediatrician it really scares me.\\u201d \\n \\n Not everyone agrees that e-cigarettes pose a significant risk to teenagers. Dr. Michael Siegel, professor of community health sciences at the Boston University School of Public Health, countered that many teenagers say they are using e-cigarettes that contain only flavorings and no nicotine, and therefore are not getting addicted. \\n \\n \\u201cE-cigarette use among teenagers is a largely social phenomenon,\\u201d he said. \\u201cThe fact that you tend to see teenagers doing this in groups, not out in the cold vaping alone, suggests that e-cigarettes are not addictive.\\u201d \\n \\n But there is a growing body of research showing that e-cigarettes do serve as a gateway to traditional tobacco products. Last month, the U.S.C. researchers also reported in Pediatrics that adolescents who vape are six times more likely to smoke cigarettes in early adulthood as nonusers. \\n \\n \\u201cOnce kids get hooked on e-cigarettes, they are more likely to go on to become cigarette smokers,\\u201d said Stanton A. Glantz, director of the Center for Tobacco Control Research and Education at the University of California, San Francisco. ||||| Abstract BACKGROUND: Adolescent e-cigarette use has increased rapidly in recent years, but it is unclear whether e-cigarettes are merely substituting for cigarettes or whether e-cigarettes are being used by those who would not otherwise have smoked. To understand the role of e-cigarettes in overall tobacco product use, we examine prevalence rates from Southern California adolescents over 2 decades. METHODS: The Children\\u2019s Health Study is a longitudinal study of cohorts reaching 12th grade in 1995, 1998, 2001, 2004, and 2014. Cohorts were enrolled from entire classrooms in schools in selected communities and followed prospectively through completion of secondary school. Analyses used data from grades 11 and 12 of each cohort (N = 5490). RESULTS: Among 12th-grade students, the combined adjusted prevalence of current cigarette or e-cigarette use in 2014 was 13.7%. This was substantially greater than the 9.0% adjusted prevalence of current cigarette use in 2004, before e-cigarettes were available (P = .003) and only slightly less than the 14.7% adjusted prevalence of smoking in 2001 (P = .54). Similar patterns were observed for prevalence rates in 11th grade, for rates of ever use, and among both male and female adolescents and both Hispanic and Non-Hispanic White adolescents. CONCLUSIONS: Smoking prevalence among Southern California adolescents has declined over 2 decades, but the high prevalence of combined e-cigarette or cigarette use in 2014, compared with historical Southern California smoking prevalence, suggests that e-cigarettes are not merely substituting for cigarettes and indicates that e-cigarette use is occurring in adolescents who would not otherwise have used tobacco products. \\n \\n What\\u2019s Known on This Subject: E-cigarette use has increased rapidly in recent years among adolescents. It is unknown whether e-cigarettes are merely substituting for cigarettes or whether e-cigarettes are increasing total adolescent tobacco product use via initiation by those who would not otherwise have smoked. \\n \\n What This Study Adds: The high prevalence of combined e-cigarette or cigarette use in 2014, compared with historical Southern California smoking prevalence, suggests that e-cigarette use is occurring in adolescents who would not otherwise have used tobacco products. \\n \\n Since the introduction of electronic cigarettes into the US market in 2007,1 adolescent use has increased rapidly, particularly in the past several years. Data from the National Youth Tobacco Survey (NYTS), a nationally representative cross-sectional survey of adolescents in the United States, show that current (past 30-day) use of e-cigarettes increased exponentially from 1.1% in 2011 to 16.0% in 2015 among high school students.2\\u20136 While the prevalence of e-cigarette use is increasing, cigarette use is generally declining among adolescents; in the NYTS, current cigarette use among high school students fell from 15.8% in 2011 to 9.2% in 2014,2,3,5,6 continuing the decline in prevalence of cigarette use among adolescents from its most recent peak in the mid-1990s when the prevalence of current smoking reached 35%.7 Of note, the prevalence of cigarette smoking did not continue to decline from 2014 (9.2%) to 2015 (9.3%).6 In 2014, current use of e-cigarettes surpassed current cigarette use for the first time in several national studies (including the NYTS2 and the Monitoring the Future Study8), as well as in a number of local and state-level studies,9\\u201311 including our study of Southern California adolescents.12 \\n \\n There are multiple interpretations of recent trends in e-cigarette and cigarette use among adolescents. Adolescents who otherwise would have smoked may be using e-cigarettes instead of cigarettes. Alternatively, e-cigarettes may be recruiting new users who otherwise would not have initiated cigarette use (or perhaps any other tobacco product) if e-cigarettes were not available. Recent data from the 2015 NYTS found a small, nonsignificant increase in the use of any tobacco product from 2013 to 2015 (from 22.9% to 25.3%).2,6 The increase in overall tobacco product use appears to be largely driven by increases in e-cigarette and hookah use in 2013 and 2014, and continued increases in e-cigarette use in 2015, along with no decline in cigarette smoking from 2014 to 2015.2,3 Although these data provide insight into trends over the preceding 3 years, adolescent tobacco use has declined for >20 years.7 The impact of e-cigarettes on adolescent tobacco use trends that have evolved over longer periods is unknown. \\n \\n We analyzed data from the Southern California Children\\u2019s Health Study (CHS), a prospective study of 5 cohorts reaching 12th grade in 1995, 1998, 2001, 2004, and 2014, to describe patterns of smoking among adolescents across these years. On the basis of historical data on smoking initiation over the course of adolescence in these cohorts, we compared the rate of total e-cigarette or cigarette use in 2014 to the rate of cigarette use in 2004 before e-cigarettes were available; we hypothesized that an increase from this benchmark may indicate that e-cigarettes are currently being used by adolescents who would not otherwise have smoked if e-cigarettes were not available. \\n \\n Methods Study Sample The CHS is a prospective cohort study (1993\\u2013present), originally designed to study the effects of childhood air pollution exposure.13\\u201315 It comprises 5 cohorts of adolescents (Cohorts A\\u2013E) who were recruited and followed through 12th grade (Table 1). Recruitment methods and data collection procedures have been described previously.12\\u201315 Briefly, participants were enrolled from entire classrooms in schools in selected communities in Southern California12,14 in 10th grade (Cohort A, 1993), seventh grade (Cohort B, 1993), fourth grade (Cohort C, 1993 and Cohort D, 1996), kindergarten (Cohort E1, 2003), or first grade (Cohort E2, 2003). The current analysis uses available data from grades 11 and 12 of each cohort from participants who answered questions about tobacco product use (N = 5490; 11th grade: mean age [SD] = 16.9 [0.4]; 12th grade: mean age [SD] = 17.9 [0.4]. In Cohorts A through D, history of cigarette use was collected by in-person interview every year at schools as they were followed over time.15,16 Among participants in Cohorts A through D with data available from 11th or 12th grade, 85.7% of the sample provided information on smoking history in both 11th and 12th grades and therefore contributed to prevalence estimates in both years; 10.6% contributed to 11th grade analyses only and 3.7% contributed to 12th grade analyses only. In Cohorts E1 and E2, who were separated by 1 grade, smoking history was collected every other year, so both 11th- and 12th-grade subjects were included in the 2014 survey. In 2014, smoking history in Cohorts E1 and E2 was collected by self-administered questionnaires under study staff supervision. Cohort A through D subjects were all recruited from the same 12 communities; Cohorts E1 and E2 were recruited from 13 communities, of which 12 participated in the 2014 data collection and 8 were the same as Cohorts A through D. TABLE 1 Grade of Adolescents Included in Each Cohort in Each Year of the CHS, 1994\\u20132014 Ethics Statement The study was approved by the University of Southern California Institutional Review Board. Written informed consent was obtained before data collection. Cigarette and E-Cigarette Use In all CHS cohorts, participants were asked the number of cigarettes or packs of cigarettes that they had smoked in the past 24 hours, past week, past month, past year, and in their lifetime. In each year, participants were classified as current users if they reported smoking \\u22651 cigarettes in the past 24 hours, past week, or past month; participants were classified as ever users if they reported either (1) use in the past year or in their lifetime or (2) listed an age at which they had first smoked. This classification was used for all prevalence estimates of cigarette use alone, across all cohorts. In 2014, smoking history was assessed in Cohort E participants (in grades 11 and 12) using the same question as in Cohorts A through D, along with 2 additional questions that asked about the age at which each participant had first used a cigarette (\\u201ceven 1 or 2 puffs\\u201d) and the number of days smoked in the past 30 days. In addition, use of e-cigarettes was assessed for the first time using the new questions. Adolescents who had used cigarettes or e-cigarettes on at least 1 of the past 30 days were classified as \\u201ccurrent users\\u201d of that product. \\u201cEver users\\u201d were adolescents who reported having ever tried a product. Analyses evaluating combined product use of cigarettes or e-cigarettes in Cohorts E1 and E2 were based on responses to the new questions. The prevalence rates both for current and ever cigarette use were quite similar using either set of questions, differing by 0.1% for current use and 1.6% for prevalence of ever smoking, and the results of analyses were not substantively different using either set of questions. Therefore, in Cohort E we used the prevalence rates derived from the new questions about cigarette use, which we have reported previously12 and which were common to those used to assess e-cigarette prevalence rates. Statistical Analysis Prevalence estimates for ever and current cigarette use were calculated by cohort and grade, using the questionnaire items assessed across all cohorts. In Cohort E (in 2014), we calculated the combined prevalence of cigarette or e-cigarette use (ever or current), which included adolescents who reported use of either product or dual use of both products. Logistic regression models were used to estimate smoking prevalence for each cohort by grade, with adjustment for self-reported sex, ethnicity (Hispanic, non-Hispanic white, or other), and parental education (less than high school education, high school graduate, some college, college degree, some graduate school or higher, unknown/missing). Adjusted models were used to account for the different distribution across cohorts of socioeconomic factors known to be associated with cigarette use. These models were applied separately to current smoking and ever smoking. The distributions of sex, ethnicity, and parental education in Cohort E were used as the reference for calculating the adjusted prevalence estimates from the logistic model. Logistic regression models were also used to evaluate trends in the prevalence of cigarette use (ever or current) over calendar time, by including year of data collection as a continuous predictor variable in separate analyses by grade. Logistic regression models with an interaction term were used to evaluate whether the pattern of cigarette use across cohorts varied by ethnicity or sex. In analyses to assess the sensitivity of results to the participation of different Southern California communities in different cohorts, we additionally restricted analyses to the 8 communities common to all years of all cohorts and adjusted for community. The Statistical Analysis System (SAS, version 9.4) was used for analyses, and figures were created using Stata, version 13.1. All hypothesis testing was conducted assuming a .05 significance level. \\n \\n Results Demographic characteristics for each cohort are shown in Table 2. The earlier cohorts (A\\u2013D) included a greater proportion of non-Hispanic white adolescents (54%\\u201359%), whereas Cohorts E1 and E2 included more Hispanic adolescents (49%\\u201353%). The distributions of the highest level of parental education differed among the cohorts. TABLE 2 Demographic Characteristics of Participants Enrolled in the CHS, by Cohort, 1994\\u20132014, N = 5490 The adjusted prevalence of current smoking among high school students decreased over time from 1995 to 2014 in both 11th and 12th grades (P trend < .0001; Fig 1 A and B). Among 12th-grade students in Cohort A (1995), the adjusted prevalence of current smoking was 19.1%; prevalence of use decreased to 17.1% in Cohort B (1998), 14.7% in Cohort C (2001), 9.0% in Cohort D (2004), and 7.8% in Cohort E (2014). Although the prevalence of current cigarette use was lowest among students in both grades in 2014, the combined prevalence of current cigarette and/or e-cigarette use was similar to or greater than that for cigarette use alone 10 to 15 years ago, before e-cigarettes were available (Fig 1 A and B). For example, among 12th-grade students, the adjusted prevalence of combined use of either product in 2014 was 13.7% (3.8% dual users of cigarettes and e-cigarettes, 3.9% cigarette only users, and 6.0% e-cigarette only users), which was similar to the 14.7% prevalence of cigarette use in 2001 (P = .54), and nearly 5 percentage points higher than the adjusted prevalence of current cigarette use in 2004 (9.0%; P = .003). FIGURE 1 Adjusted prevalence estimates among adolescents in the CHS by cohort for current cigarette use (all cohorts), and current cigarette or e-cigarette use (Cohort E) in (A) grade 11 and (B) grade 12 and for ever cigarette use (all cohorts) and ever cigarette or e-cigarette use (Cohort E) in (C) grade 11 and (D) grade 12, 1994\\u20132014. The prevalence of ever cigarette use followed similar patterns of an overall decrease over time across Cohort A (1994\\u20131995) to Cohort E (2014) for both 11th- and 12th-grade students (P trend < .0001; Fig 1 C and D). However, the 11th- and 12th-grade prevalence rates for ever cigarette use in 2014 were not statistically significantly lower than the prevalence in Cohort D 10 years earlier in 2003\\u20132004 (P = .59, 0.56, respectively). The prevalence of combined ever use of cigarettes or e-cigarettes also surpassed rates of ever cigarette use more than a decade ago. Among 12th-grade students, the adjusted prevalence of ever use of either cigarettes or e-cigarettes in 2014 was 32.1%, substantially higher than the adjusted prevalence of ever cigarette use in 2004 (20.4%; P < .0001), and slightly higher than the adjusted prevalence in 2001 (30.2%; P = .41). Among both male and female adolescents, the prevalence of cigarette or e-cigarette use (ever or current) in both 11th and 12th grades in 2014 was higher than the prevalence of smoking in 2003\\u20132004 and was generally similar to the prevalence of smoking in 2000\\u20132001 (Fig 2 A\\u2013D). There was no difference between sexes in these patterns of decline in smoking over time (interaction P > .05). The prevalence of current and ever use of cigarettes within cohorts was higher among male than among female adolescents, with more pronounced differences observed among 12th-grade students; combined rates of e-cigarette or cigarette use in 2014 were also larger in male than female adolescents. FIGURE 2 Prevalence estimates among adolescents in the CHS by cohort and sex for current cigarette use (all cohorts) and current cigarette or e-cigarette use (Cohort E) in (A) grade 11 and (B) grade 12 and for ever cigarette use (all cohorts) and ever cigarette or e-cigarette use (Cohort E) in (C) grade 11 and (D) grade 12, 1994\\u20132014. The prevalence of current and ever smoking also decreased over time from 1994 to 2014 among both non-Hispanic white adolescents and Hispanic adolescents (P < .0001; Fig 3 A\\u2013D; interaction P for ethnicity >.05). In both ethnic groups, the combined prevalence of current cigarette or e-cigarette use in 2014 exceeded the rate of current cigarette use in 2003 (11th grade) or 2004 (12th grade). For example, among non-Hispanic white 12th-grade students, the combined rate of current cigarette or e-cigarette use in 2014 in Cohort E was identical to the rate of smoking in 2001 (17.2%; 5.0% dual use, 4.4% cigarette only use, 7.8% e-cigarette only use); the rate of combined use among Hispanic white adolescents in 2014 (12.0%; 2.9% dual use, 5.0% cigarette only use, 4.1% e-cigarette only use) was >3 percentage points higher than the rate of smoking in 2004 (8.8%) and only slightly less than the rate of smoking in 2001 (13.8%). Similar patterns were observed for ever use in both ethnicities; the combined rate of cigarette or e-cigarette use in 2014 in 11th- and 12th-grade students was higher than the rates of smoking 10 years earlier in both ethnic groups. We did observe differences in rates of smoking within cohorts between Hispanic and non-Hispanic white study participants. Current smoking prevalence was consistently higher among non-Hispanic white adolescents than among Hispanic white adolescents (Fig 3 A and B), but ever use was generally similar or modestly higher among Hispanic white adolescents than among non-Hispanic white adolescents (Fig 3 C and D). In 2014 the combined prevalence of e-cigarette or cigarette use (both current and ever) was greater in Hispanic whites than non-Hispanic whites in 11th grade, which appears to result from higher prevalence of cigarette only use (dual and e-cigarette only use was similar across both groups). In 12th grade, the combined prevalence of e-cigarette or cigarette use was greater in non-Hispanic whites than Hispanic white youth, largely resulting from greater levels of e-cigarette and dual product use. FIGURE 3 Prevalence estimates among adolescents in the CHS by cohort and by ethnicity for current cigarette use (all cohorts), and current cigarette or e-cigarette use (Cohort E) in (A) grade 11 and (B) grade 12 and for ever cigarette use (all cohorts) and ever cigarette or e-cigarette use (Cohort E) in (C) grade 11 and (D) grade 12, 1994\\u20132014. HW, Hispanic white; NHW, non-Hispanic white. In analyses restricted to the 8 communities with data available across all cohorts, trends in prevalence across cohorts and across grades within cohorts, as well as the ethnic- and sex-specific patterns, were similar to those observed in the entire sample (data not shown). \\n \\n Discussion These Southern California communities have experienced a marked decrease in adolescent cigarette use over the past 2 decades. However, among both 11th- and 12th-grade students, the combined prevalence of current cigarette or e-cigarette use in 2014 was substantially greater than the prevalence of smoking in 2004 (among 12th graders, eg, 13.7% and 9.0%, respectively) and was almost as high as the prevalence of smoking in 2001 (14.7% for 12th graders). This substantially increased combined prevalence of cigarette smoking or e-cigarette use in 2014, compared with smoking rates a decade earlier, when e-cigarettes were not available, suggests that e-cigarettes are not used only by adolescents who would otherwise be smoking cigarettes. If, for example, the current rates of smoking would not have changed from 2004 to 2014 in the absence of e-cigarettes, then 1.2% of adolescents in Southern California, the difference between the 7.8% adjusted prevalence of cigarette use in 2014 and 9.0% in 2004, may be substituting e-cigarettes for cigarettes. An additional 4.7% of e-cigarette users, the difference between the 13.7% combined prevalence of e-cigarette or cigarette use in 2014 and the 9.0% prevalence of cigarette use in 2004 likely would not have used cigarettes if e-cigarettes were not available, under the assumption that the rate of smoking from 2004 to 2014 would not have changed. The assumption that smoking rates would not have decreased in the absence of e-cigarettes likely makes this estimate of the proportion of e-cigarette users who would not otherwise have used cigarettes conservative. The general prevalence patterns and the findings compared with the 2004 data were similar among Hispanic and non-Hispanic white participants and in male and female participants; thus, tobacco control interventions geared toward youth are equally needed for youth of both sexes and ethnicities. The prevalence of cigarette use or combined use (Cohort E only) did differ by gender and ethnicity within each cohort. Hispanic adolescents were less likely to report cigarette use in each cohort among both 11th- and 12th-grade students but as likely to report ever use, a pattern consistent with historically reported ethnic comparisons.3,7,17,18 Male respondents were generally more likely to report use of cigarettes, e-cigarettes, or combined use of cigarettes or e-cigarettes, which is also consistent with previous literature.2,7,12,19 A major strength of this study is the use of >20 years of data collected across 5 cohorts drawn from the same CHS communities to assess patterns of change in cigarette use in Southern California. Because all results were adjusted for the Cohort E distribution of race/ethnicity, sex, and parental education, it is unlikely that differences across cohorts were influenced by changes in sociodemographic characteristics of the population over time. The study is also subject to some limitations. Data on use of tobacco products other than cigarettes were not collected from earlier cohorts. Thus, the contribution of hookah, cigar/cigarillo, pipe, or smokeless tobacco use to the prevalence of all tobacco product use in earlier cohorts is not known. Data from the NYTS have shown relatively stable prevalence of use of cigars and smokeless tobacco from 2000 to 2012,20 followed by a decrease in cigar and pipe use and in smokeless tobacco use from 2011 to 2014.2 Although national results may not be generalizable to Southern California (and vice versa), we cannot exclude the possibility that e-cigarette use is substituting for these combustible tobacco products. No data are available on trends in hookah use across the periods of interest in this study, but prevalence of hookah use increased in the NYTS from 2011 to 2014,2 so it seems unlikely that the increase in prevalence of e-cigarette use during this period reflects substitution of e-cigarettes for hookah use among participants who otherwise would have smoked hookah use in previous cohorts. Analyses were restricted to Hispanic youth (historically an underrepresented population in tobacco regulatory science research) and non-Hispanic white youth, who comprise the majority of the Southern California population; the prevalence estimates were imprecise in other racial/ethnic groups in our study, which made up <20% of the sample. Additional research is needed to determine whether similar patterns of product use over time occurred in other racial groups and in other geographic regions. E-cigarettes have gained popularity in recent years, in part because of availability in a wide variety of flavorings21 that may be appealing to adolescents and young adults,22 the perception that e-cigarettes are less harmful than smoking,23 absence or poor enforcement of regulations on indoor use,24 and the recent popularity of product-specific venues that encourage use of these products in social situations, such as vape shops.25 Such characteristics of e-cigarettes may be recruiting new users who are deterred from initiating cigarettes because of concerns about the health hazards of smoking and social stigmatization of cigarette use.7 There is concern that the increasing prevalence of e-cigarette use could even lead to initiation of smoking among previously nonsmoking adolescent e-cigarette users in what has been described as a \\u201cgateway effect,\\u201d either as a result of social normalization of alternative product use and smoking behaviors more generally, leading to renormalization of smoking or by directly increasing use of cigarettes through establishment of reward seeking behaviors (eg, nicotine dependence).26\\u201330 Although our results demonstrated a decline in cigarette use in the past decade, we also have observed a markedly increased likelihood of intention to use cigarettes31 among e-cigarette users in the CHS in 2014 who had never smoked, results which are consistent with 2 recent studies examining the association of e-cigarette use with susceptibility to smoking,28,30 and recent longitudinal studies that have found that never-smoking e-cigarette users were more likely to report use of cigarettes a year later than never e-cigarette users.32\\u201334 The use of e-cigarettes by nonsmoking adolescents poses several potential public health problems. First, use of e-cigarettes containing nicotine may directly contribute to nicotine dependence in late adolescence or early adulthood, putting adolescents at risk for lifelong nicotine dependence.35,36 Use of e-cigarettes, even without nicotine, may normalize tobacco product use behaviors more generally, which could then lead to increased rates of addiction via use of other nicotine-containing products, including cigarettes and other harmful combustible tobacco products.35\\u201337 Second, in addition to lifelong problems associated with nicotine dependence, exposure to nicotine in adolescence adversely affects cognitive function and development.19 There is also evidence that e-cigarettes may generate aldehydes and other toxic chemicals and that flavoring additives may induce adverse respiratory health effects in e-cigarette users.38 Although the adverse health effects of e-cigarettes may be less than those of cigarettes, the long-term consequences of e-cigarette use are not known because these products have been on the market for less than a decade. \\n \\n Conclusions Longitudinal data on emerging adolescent tobacco and alternative tobacco product use, including detailed information on topography of e-cigarette use and dose of nicotine, are needed to understand the role of e-cigarettes in nicotine addiction and whether e-cigarette users who have not used combustible cigarettes will, in the future, continue using e-cigarettes only, quit using tobacco products altogether, or progress to combustible cigarette users or dual users of both products. However, the high combined prevalence of e-cigarette use or cigarette use in 2014, compared with historical Southern California smoking prevalence, suggests that adolescents are not merely substituting e-cigarettes for cigarettes but that e-cigarettes are instead recruiting a new group of users who would not likely have initiated combustible tobacco product use in the absence of e-cigarettes, which poses a potential threat to the public health of adolescent populations. ||||| E-Cigarettes 101 \\n \\n \\n \\n WebMD Feature By R. Morgan Griffin WebMD Feature \\n \\n Reviewed by Jennifer Robinson, MD \\n \\n WebMD Feature Archive \\n \\n Electronic cigarettes: Are they safer than tobacco? Or are they a high-tech way to hook a new generation on a bad nicotine habit? \\n \\n Nobody knows yet. \\n \\n Research into the effects of e-cigarettes lags behind their popularity. But ready or not, the era of e-cigarettes is here. It\\u2019s a booming, billion-dollar industry -- on track to outsell tobacco products within a decade. The number of teens and tweens using these products doubled between 2011 and 2012. \\n \\n The time to get informed about these products is now. \\n \\n How E-Cigarettes Work \\n \\n They look like the real thing. The end glows as you inhale. As you exhale, you puff out a cloud of what looks like smoke. It's vapor, similar to the fog you might see at rock shows, says M. Brad Drummond, MD. He's an assistant professor of medicine at Johns Hopkins University School of Medicine. \\n \\n All e-cigarettes work basically the same way. Inside, there's a battery, a heating element, and a cartridge that holds nicotine and other liquids and flavorings. Features and costs vary. Some are disposable. Others have a rechargeable battery and refillable cartridges. \\n \\n Using an e-cigarette is called \\\"vaping.\\\" \\n \\n Are They Safe? \\n \\n The nicotine inside the cartridges is addictive. When you stop using it, you can get withdrawal symptoms including feeling irritable, depressed, restless and anxious. It can be dangerous for people with heart problems. It may also harm your arteries over time. \\n \\n So far, evidence suggests that e-cigarettes may be safer than regular cigarettes. The biggest danger from tobacco is the smoke, and e-cigarettes don't burn. Tests show the levels of dangerous chemicals they give off are a fraction of what you'd get from a real cigarette. But what's in them can vary. \\n \\n \\\"E-cigarettes may be less harmful than cigarettes,\\\" Drummond says. \\\"But we still don't know enough about their long-term risks or the effects of secondhand exposure.\\\" \\n \\n Pro and Con \\n \\n E-cigarettes have triggered a fierce debate among health experts who share the same goal -- reducing the disease and death caused by tobacco. But they disagree about whether e-cigarettes make the problem better or worse. ||||| Nicotine experimentation could become nicotine addiction for youth who never used any other tobacco products, USC study suggests \\n \\n A new USC study debunks the popular belief that electronic cigarettes are merely a substitute for cigarettes among teens. Instead, the study suggests that some teens who never would have smoked cigarettes are now vaping. \\n \\n E-cigarettes, which entered the U.S. market in 2007, vaporize liquids that may or may not contain nicotine. In 2011, about 1.5 percent of high schoolers had vaped in the past 30 days, according to the National Youth Tobacco Survey. Four years later, that number skyrocketed to 16 percent. \\n \\n A USC study of 5,490 high school juniors and seniors shows tobacco use among teens in Southern California is on the rise. \\n \\n In 2014, about 14 percent of 12th-graders said they had either smoked or vaped in the previous 30 days. A decade earlier -- before e-cigarettes were sold in the United States -- 9 percent of surveyed teens in this age group reported that they had smoked, said Jessica Barrington-Trimis, lead author and a postdoctoral scholar research associate in the Department of Preventive Medicine at the Keck School of Medicine of USC. \\n \\n \\\"If teenagers who vape are using e-cigarettes instead of cigarettes, we would have expected to see the decline in smoking rates continue through 2014,\\\" Barrington-Trimis said. \\\"But what we've seen is a downward trend in cigarette use from 1995 to 2004 but no further decrease in cigarette smoking rates in 2014. The combined e-cigarette and cigarette use in 2014 far exceeded what we would have expected if teens were simply substituting cigarettes with e-cigarettes. The data suggest that at least some of the teens who are vaping would not have smoked cigarettes.\\\" \\n \\n The study, published on July 11 in the journal Pediatrics, followed five groups of high schoolers who graduated in 1995, 1998, 2001, 2004 and 2014. Researchers collected the history of tobacco use in an individually administered questionnaire. \\n \\n Cigarette use is the largest preventable cause of death and disease in the United States. Cigarette smoking kills more than 480,000 Americans annually, according to the Centers for Disease Control. \\n \\n \\\"An important question in the rapidly evolving landscape of youth tobacco product use is whether e-cigarettes are replacing cigarettes,\\\" said Rob McConnell, the study's senior author and professor of preventive medicine at Keck Medicine of USC. \\\"However, use of e-cigarettes by youth who would not otherwise have smoked results in exposure to the hazards of inhaled vaporized liquids and flavorings in e-cigarettes and may result in exposure to nicotine that can damage the adolescent brain.\\\" \\n \\n USC is one of 14 U.S. research institutions that received National Institutes of Health funding to establish the Tobacco Centers of Regulatory Science. \\n \\n What the numbers suggest \\n \\n The National Youth Tobacco Survey has reported a long-term decline in teen smoking rates followed by a leveling off between 2014 and 2015. \\n \\n The USC study found that the number of 12th-graders in Southern California who had smoked in the past 30 days dropped from 19 percent in 1995 to about 9 percent in 2004 and then leveled off, with the rate of smoking just under 8 percent in 2014. \\n \\n But when cigarettes and e-cigarettes were combined, some 14 percent of high school seniors in 2014 said they had smoked or vaped in the last 30 days. \\n \\n \\\"Because e-cigarettes are perceived as less harmful and less dangerous than combustible cigarettes, another concern is that teens may be introduced to nicotine use via e-cigarettes,\\\" Barrington-Trimis said. \\\"In California, where smoking rates are among the lowest in the country, the increase in vaping, possibly followed by increases in smoking, could erode the progress that has been made over the last several decades in tobacco control.\\\" \\n \\n A perilous experiment \\n \\n In fact, older teens who experiment with electronic cigarettes are six times more likely to try regular cigarettes within about a year when compared to those who have never vaped, reported Barrington-Trimis and her USC colleagues in a study published last month in Pediatrics. \\n \\n Although some e-liquid providers say their products do not contain nicotine, this industry has not been regulated until just recently. The U.S. Food and Drug Administration announced plans to regulate all tobacco products -- including e-cigarettes, cigars and hookah tobacco -- in May. Last month, California became the second state, behind Hawaii, to raise the age of tobacco purchase -- including e-cigarettes -- from 18 to 21. \\n \\n \\\"E-cigarettes may be recruiting a new group of kids to tobacco use,\\\" Barrington-Trimis said. \\\"E-cigarettes may be safer than regular cigarettes for adults who are transitioning from smoking to vaping, but for youth who have never used any other tobacco products, nicotine experimentation could become nicotine addiction.\\\" \\n \\n ### \\n \\n The study was supported by the National Institutes of Health National Cancer Institute and the Food and Drug Administration Center for Tobacco Products (P50CA180905). ||||| Abstract BACKGROUND: There has been little research examining whether e-cigarette use increases the risk of cigarette initiation among adolescents in the transition to adulthood when the sale of cigarettes becomes legal. METHODS: The Children\\u2019s Health Study is a prospectively followed cohort in Southern California. Data on e-cigarette use were collected in 11th and 12th grade (mean age = 17.4); follow-up data on tobacco product use were collected an average of 16 months later from never-smoking e-cigarette users at initial evaluation (n = 146) and from a sample of never-smoking, never e-cigarette users (n = 152) frequency matched to e-cigarette users on gender, ethnicity, and grade. RESULTS: Cigarette initiation during follow-up was reported by 40.4% of e-cigarette users (n = 59) and 10.5% of never users (n = 16). E-cigarette users had 6.17 times (95% confidence interval: 3.30\\u201311.6) the odds of initiating cigarettes as never e-cigarette users. Results were robust to adjustment for potential confounders and in analyses restricted to never users of any combustible tobacco product. Associations were stronger in adolescents with no intention of smoking at initial evaluation. E-cigarette users were also more likely to initiate use of any combustible product (odds ratio = 4.98; 95% confidence interval: 2.37\\u201310.4), including hookah, cigars, or pipes. CONCLUSIONS: E-cigarette use in never-smoking youth may increase risk of subsequent initiation of cigarettes and other combustible products during the transition to adulthood when the purchase of tobacco products becomes legal. Stronger associations in participants with no intention of smoking suggests that e-cigarette use was not simply a marker for individuals who would have gone on to smoke regardless of e-cigarette use. \\n \\n What\\u2019s Known on This Subject: Three studies have found associations between e-cigarette use and subsequent cigarette use in adolescents. However, the risk of initiation of cigarettes as adolescents reach an age at which the purchase of tobacco products becomes legal is unknown. \\n \\n What This Study Adds: Adolescents who reported e-cigarette use had more than six times the odds of initiating cigarette use as never e-cigarette users. These findings suggest e-cigarette use may increase the risk of smoking during the transition to adulthood. \\n \\n Adolescent use of e-cigarettes has increased rapidly in recent years,1 with several studies reporting higher rates of e-cigarette use than combustible cigarette use among high school students in 2014.1\\u20136 Among high school students in the National Youth Tobacco Survey, 13.4% of adolescents reported past 30-day use of e-cigarettes in 2014, compared with 9.2% of adolescents who reported past 30-day use of cigarettes.1 Among high school students participating in the Southern California Children\\u2019s Health Study (CHS), we found that 24.0% had ever tried e-cigarettes (including 9.6% who reported use in the past 30 days), compared with 18.7% who had tried cigarettes (5.7% in the past 30 days); >40% of e-cigarette users had never smoked a combustible cigarette.6 A critical question is whether e-cigarette use in adolescents who have never smoked cigarettes will lead to subsequent initiation of cigarette or other combustible product use. \\n \\n The initial data addressing this question came from several cross-sectional studies that examined the association between e-cigarette use and self-reported intention to use cigarettes among adolescents with no previous history of cigarette use, using validated survey measures.7\\u201313 E-cigarette users, representing several age groups and geographic locations, had 2 to 4 times the odds of indicating an intention to use cigarettes as never users,7,8 results consistent with those we reported in the CHS.9 To date there have been 3 reports from prospective cohort studies examining the relationship between e-cigarette use and subsequent initiation of combustible cigarette use in adolescence, including a study of 9th-grade students (mean age 14.1),14 a second study of 9th and 10th-grade students (mean age 14.7),15 and another small study of 16- to 26-year-olds, with few never-smoking e-cigarette users at baseline that was not able to examine associations within specific developmental periods in this age range.16 All studies found that e-cigarette use was associated with elevated risk of initiation of combustible cigarettes. However, the risk of initiation of combustible cigarettes is likely to vary by age17; the developmental context of the end of high school is unique, because those turning 18 face particular challenges associated with the transition to adulthood, including postsecondary education or employment seeking, which co-occur at the age (18 years) at which the purchase of tobacco products becomes legal. \\n \\n We examined whether e-cigarette use among older adolescents in the transition to adulthood leads to greater likelihood of initiation of cigarettes as they reach the legal age to purchase cigarettes. We used prospective data from the CHS, a population-based cohort of adolescents from whom data on e-cigarette use were first collected in grades 11 or 12 (mean age 17.4) in spring of 2014, to examine risk of initiation of combustible tobacco products at follow-up (median 15.6 months later). We hypothesized that never-smoking e-cigarette users in this critical age range would be more likely than never-smoking never e-cigarette users to begin using combustible cigarettes during the subsequent year. \\n \\n Methods Study Design and Sample Participants enrolled in the CHS completed the initial evaluation questionnaire in school classrooms when they were in 11th or 12th grade. Questionnaires were completed with study staff supervision between January 2014 and June 2014, when use of e-cigarettes was first assessed in the cohort.6,18 To maximize efficiency in the design of the prospective follow-up study to evaluate the risk of cigarette and other combustible tobacco product initiation associated with e-cigarette use, we used an exposure frequency-matched cohort study design in which we contacted never-smoking e-cigarette users and a sample of never-smoking never e-cigarette users to complete a follow-up questionnaire (Fig 1). We attempted to contact all never-smoking e-cigarette users (n = 213) and a randomly selected frequency matched sample of never-smoking, never e-cigarette users (n = 213) from among all never-smoking never e-cigarette users in the cohort at initial evaluation; never-users were frequency matched to e-cigarette users by gender, ethnicity, and grade (11 or 12). Participants completed an online follow-up questionnaire between February 2015 and March 2016. Follow-up questionnaires were completed by 149 (70.0%) e-cigarette users and 154 (72.3%) never e-cigarette users; 146 e-cigarette users and 152 never users provided complete data on their use of cigarettes between initial evaluation and follow-up and were included in analyses. All participants were 18 years of age or older at follow-up. Participants turning 18 were sent a link to the follow-up online survey by e-mail (using e-mail address provided at the 11th- and 12th-grade data collection); additional attempts to contact participants were made by text message and telephone calls. Those not responding or who had not provided other contact information were sent letters soliciting participation to the last known residential address or were contacted through parents or other contacts previously provided by participants. FIGURE 1 Selection of participants for assessment of the association between e-cigarette use and subsequent initiation of combustible cigarettes. Ethics Statement The study was approved by the University of Southern California Institutional Review Board. Participants aged 18 or older provided written informed consent. Written parental informed consent and student assent were obtained for all CHS participants before data collection in 2014. Measures Tobacco and Alternative Tobacco Product Use At each survey, participants were asked whether they had ever tried e-cigarettes, cigarettes, cigars, pipes, or hookah and the number of days each product was used in the past 30 days.6 Participants who had \\u201cnever tried\\u201d a product (not \\u201ceven 1 or 2 puffs\\u201d) were classified as \\u201cnever users.\\u201d Those reporting an age at first use of each tobacco product were classified as \\u201cever users\\u201d of that product. All analyses were restricted to never cigarette smokers at initial evaluation. Sociodemographic Characteristics Self-administered questionnaires completed by parents of participants18 were used to assess gender, ethnicity (Hispanic, non-Hispanic white, other), and parental education (highest level of education of either parent; <12th grade, high school diploma or general equivalency diploma, some college, college degree, some graduate school or higher). Susceptibility to Cigarette Use Susceptibility to tobacco product use has been defined as the absence of a firm commitment not to smoke.10,11,13 In the current study, susceptibility to future cigarette use was assessed using validated measures (see Supplemental Material). Adolescents were classified as having no susceptibility if they responded \\u201cdefinitely not\\u201d to questions about intention to initiate use of cigarettes in the future.10 Social Environment The cigarette social environment was evaluated based on the following questions: (1) \\u201cHow many of your 4 closest friends use [cigarettes]?\\u201d (0\\u20134 friends); (2) \\u201cHow would your best friends act toward you if you used [cigarettes]?\\u201d (very unfriendly, unfriendly, friendly, or very friendly); and (3) \\u201cDoes anyone who lives with you now use [cigarettes]?\\u201d (yes/no). These factors have been strongly associated with cigarette use17 and more recently have been associated with e-cigarette use in the CHS.6 Statistical Analysis On the basis of prospectively collected data, we used unconditional logistic regression models to evaluate the association between e-cigarette use at initial evaluation and subsequent cigarette use at follow-up. Odds ratios (ORs) and 95% confidence intervals (CIs) were used to estimate the odds of smoking initiation. All models were adjusted for gender, ethnicity, grade and highest parental education, factors that have been associated both with e-cigarette use and cigarette use in previous studies.17,19 Potential confounding by history of combustible tobacco use other than cigarettes at initial evaluation, social environment characteristics, age at initial evaluation, age at follow-up, and time from initial evaluation to follow-up (in months) was evaluated on the basis of a change in effect estimate of >10% with inclusion of any of these variables. A missing indicator category was included where appropriate. Formal tests of interaction were used to evaluate whether effect estimates differed by gender, ethnicity (Hispanic white, non-Hispanic white, other), grade (11 or 12), ever use of hookah (a combustible product that has been previously associated with e-cigarette use,20 yes versus no), or susceptibility to smoking at initial evaluation (yes vs no). Additional analyses evaluated the risk of initiation of any combustible tobacco product (cigarettes, cigars, hookah, or pipes) associated with e-cigarette use at initial evaluation. Polytomous regression models were used to evaluate the risk of initiation of cigarette use (but no use in the past 30 days) and the risk of past 30-day cigarette use, relative to participants not initiating use of cigarettes. In sensitivity analyses, models evaluating the risk of initiation of cigarettes were restricted to nonusers of any combustible tobacco product at initial evaluation (cigarettes, cigars, hookah, pipes). All statistical analyses were based on 2-sided hypotheses tested at a .05 level of significance. Analyses were performed using SAS 9.4. Role of the Funding Source The funder had no role in the design and conduct of the study; collection, management, analysis, or interpretation of the data; or preparation, review, or approval of the manuscript. \\n \\n Results E-cigarette users and never users were similar on matching factors (gender, ethnicity, grade) and parental education. In adjusted models males were more likely to initiate cigarette use (OR = 1.84; 95% CI: 1.04\\u20133.26; Table 1). Adolescents who were classified as susceptible to cigarette use were more likely to report e-cigarette use at initial evaluation (OR = 2.48; 95% CI: 1.44\\u20134.27) and to report cigarette use at follow-up (OR = 3.03; 95% CI: 1.71\\u20135.39). Having one or more friends who smoked combustible tobacco products also increased the likelihood of e-cigarette use at initial evaluation (OR = 2.61; 95% CI: 1.35\\u20135.06) and cigarette use at follow-up (OR = 2.58; 95% CI: 1.30\\u20135.09); having friends who were friendly to cigarette use was associated with e-cigarette use at initial evaluation (OR = 2.13; 95% CI: 1.24\\u20133.65) but not with cigarette use at follow-up. The median age of participants at initial evaluation was 17.4 years (interquartile range [IQR]: 16.8\\u201317.9); median age at follow-up was 18.6 years (IQR: 18.3\\u201319.0 years); median time from initial evaluation to follow-up was 15.6 months (IQR: 12.6\\u201318.2 months). TABLE 1 Demographic Characteristics of Participants by E-Cigarette Use at Initial Assessment and by Cigarette Use at Follow-up, N = 298 To assess the potential for selection bias, we compared sociodemographic characteristics of study participants for whom follow-up data were obtained with those lost to follow-up. Participants from whom follow-up data were collected were more likely to have a parent with at least a college education (Supplemental Table 5). No notable differences in gender, ethnicity, grade, or susceptibility to cigarette use were observed between retained participants and those lost to follow up. Among never e-cigarette users at initial evaluation, 16 (10.5%) reported use of cigarettes at follow-up; among ever e-cigarette users at the initial evaluation, 59 (40.4%) reported use of cigarettes at follow-up (Table 2). The adjusted OR for the association of e-cigarette use with subsequent smoking of combustible cigarettes was 6.17 (95% CI: 3.30\\u201311.6). After further adjustment for cigar, pipe, or hookah use at initial evaluation, the association of e-cigarette use with subsequent smoking was slightly attenuated but still statistically significant (OR = 5.48; 95% CI: 2.69\\u201311.2). Results did not differ appreciably after additional adjustment for social environment characteristics at initial evaluation (whether others in the home smoked, number of friends who smoked, friends\\u2019 attitudes toward smoking), age at initial evaluation, age at follow-up, or time in months from initial evaluation to follow-up (results not shown). E-cigarette users had 5.49 times (95% CI: 2.68\\u201311.2) the odds of initiating cigarette smoking but not having smoked in the past 30 days, and 7.50 times (95% CI: 2.41\\u201323.4) the odds of reporting use of cigarettes in the past 30 days at follow-up compared with never e-cigarette users. Estimates were based on 39 (27.1%) initiators and 18 (12.5%) past 30-day cigarette users among e-cigarette users at baseline, compared with 12 (7.9%) initiators and 4 (2.6%) past 30-day cigarette users among never e-cigarette users at baseline; 2 participants reported initiation of smoking but did not report the number of days smoked in the past 30 days (results not tabulated). TABLE 2 Association Between E-Cigarette Use at Initial Assessment in 2014 and Subsequent Cigarette Use at Follow-up in 2015 Among adolescents who were not classified as susceptible to cigarette use at initial evaluation, 36.2% (n = 34) of e-cigarette users and 5.7% (n = 7) of never e-cigarette users reported initiation of cigarettes at follow up (OR not susceptible = 9.69; 95% CI: 4.02\\u201323.4; Table 3). In contrast, among those who were classified as susceptible to smoking at initial evaluation, e-cigarette users were only slightly more likely to initiate cigarette use at follow-up (47.1% v. 32.1%; OR susceptible = 2.12; 95% CI: 0.79, 5.74; interaction P = .03). We also examined interactions of e-cigarette use at initial evaluation with gender, ethnicity, grade level, time from initial contact to completion of follow-up questionnaire, and use of hookah at initial evaluation. The risk of initiation of cigarette use associated with e-cigarettes did not differ by these characteristics. TABLE 3 Association Between E-Cigarette Use at Initial Assessment in 2014 and Subsequent Cigarette Use at Follow-up in 2015 by Indication of Susceptibility to Smoking at Initial Evaluation In an analysis restricted to those who reported no use of any combustible tobacco product at initial evaluation, e-cigarette users were also more likely to initiate use of any combustible tobacco product at follow-up (OR = 4.98; 95% CI: 2.37\\u201310.4; Table 4) and to initiate use of cigarettes (OR = 4.29; 95% CI: 1.84\\u201310.0), hookah (OR = 2.86; 95% CI: 1.21\\u20136.78), cigars (OR = 4.39; 95% CI: 1.72\\u201311.2), and pipes (OR = 8.21; 95% CI: 1.20\\u201356.2). TABLE 4 Association Between E-Cigarette Use at Initial Assessment in 2014 and Subsequent Cigarette Use at Follow-up in 2015, Restricted to Never Users of Any Combustible Tobacco Product \\n \\n Discussion We prospectively evaluated the risk of smoking initiation associated with e-cigarette use in the transition to adulthood when it becomes legal to purchase cigarettes. In this sample of never cigarette users at initial evaluation, >40% of e-cigarette users initiated cigarette use during the 16-month (average) follow-up. Those who reported e-cigarette use had >6 times the odds of initiating cigarette use as never e-cigarette users. The associations remained statistically significant after adjustment for use of other combustible tobacco products at study entry and for social environmental factors. The increased risk of smoking initiation associated with previous e-cigarette use was also observed in sensitivity analyses restricted to never-users of any combustible tobacco product at initial evaluation; moreover, risk of subsequent initiation of any combustible tobacco product was also increased. Notably, the association of e-cigarettes with initiation of cigarette use was much stronger among those classified as not susceptible to becoming smokers. These findings suggest that e-cigarette use may promote smoking during the transition to adulthood, even in those considered to be at lower risk because of personal or environmental factors. Three studies on the longitudinal association between e-cigarette use and subsequent cigarette use among adolescents have been published.14\\u201316 In the first, among ninth-grade students (mean age 14.1 years) with no history of combustible tobacco product use at initial evaluation, those who reported ever use of e-cigarettes had 1.75 (95% CI: 1.10\\u20132.77) times the odds as never users of reporting subsequent use of cigarettes 12 months later, and 2.73 (95% CI: 2.00\\u20133.73) times the odds of reporting use of any combustible tobacco product after adjustment for ever use of nonnicotine or tobacco substances, smoking expectancies (whether adolescents think they will enjoy smoking, or feel bad from smoking), and other potentially confounding characteristics at study entry.14 The second study was also among younger youth in grades 9 and 10 at baseline (mean age 14.7 years) and found similar results: e-cigarette users had 2.87 (95% CI: 2.03\\u20134.05) times the odds of initiating combustible cigarette use between baseline and follow-up 1 year later as never users, after adjustment for age, gender, ethnicity, parental education, parental support, and rebelliousness.15 The third study found similar prospective associations in adolescents and young adults 16 to 26 years of age who reported being nonsusceptible to smoking at baseline, but the estimates were based on only 16 never-smoking e-cigarette users at initial evaluation.16 The current results extend the literature by showing that these associations generalize to the period at the end of high school. Our findings, together with those from the other prospective studies of youth and young adult populations, suggest that e-cigarette use is a clear and consistent indicator of likelihood of subsequent initiation of cigarette and other combustible tobacco product use at ages spanning from early adolescence through emerging adulthood. It is possible in principle that e-cigarette use among never smoking adolescents is a marker for those who would have begun to smoke even if e-cigarettes were not available. In these adolescents, the availability of e-cigarettes use may have delayed the initiation of smoking among those who would have gone on to smoke anyway. However, the risk of smoking associated with e-cigarette use was even higher among participants who reported no intention to smoke at initial assessment than among the group of adolescents who indicated they were likely to begin smoking. Among nonsusceptible individuals, 36% of e-cigarette users initiated cigarette use, compared with only 6% of nonusers (Table 3). Another recent study found that e-cigarette users had different psychological profiles than cigarette users.21,22 Together, these findings suggest that e-cigarettes are not merely a marker for individuals who would have gone on to smoke combustible cigarettes, regardless of the availability of e-cigarettes, but that e-cigarette use is likely introducing new youth to tobacco products and is increasing the likelihood of future smoking among the low-risk group who expressed confidence that they would not do so. It is also possible that e-cigarette users who initiated smoking were more likely to be experimenting with cigarettes and less likely than other initiators to progress to regular cigarette use and nicotine dependence. The duration of follow-up and small sample size (particularly among never e-cigarette users who began smoking) was insufficient to fully address this question. However, the prospective association of e-cigarette use with cigarette use in the past 30 days was similar to that for initiation but no use in the past 30 days. These results provide no evidence that e-cigarette users who initiate smoking are any less likely to progress to regular use of cigarettes than youth who did not begin tobacco use with e-cigarettes. There are some uncertainties to the conclusions from this study. Participants who were lost to follow-up were less likely to have a parent with at least a college education. However, in analyses examining whether the risk of initiation of smoking associated with e-cigarette use differed by education, no interaction was observed, nor were the estimates of effect of e-cigarette use on cigarette initiation confounded by education; thus, differential loss to follow-up in the cohort seems unlikely to be an explanation for the observed results. We did not collect information on type of e-cigarette used or nicotine content of e-cigarette at initial evaluation, factors that may increase the likelihood of transition from e-cigarette to cigarette or other combustible tobacco use. Although the study addresses a potentially vulnerable age range, results may not be generalizable to older populations or to other geographic regions. Finally, because the rate of initiation of cigarette use in never e-cigarette users was low in our Southern California population (10.5% based on 16 new users), the odds ratio associated with e-cigarette use was not precisely estimated. However, the associations were large and highly statistically significant. There are several plausible mechanisms through which e-cigarette use in adolescence may lead to subsequent initiation of cigarettes or other combustible tobacco products.17,23,24 E-cigarettes may lead to initiation of use of other combustible products because flavorings desensitize users\\u2019 lungs to the harsh and aversive effects of nicotine inhalation, providing a more gradual transition from never smoking to use of combustible cigarettes or other combustible products. Flavorings, in combination with devices appealing to youth in this technological age (eg, \\u201ctechie\\u201d e-devices with programmable settings) may act to promote smoking initiation among adolescents and may also play a role in product use maintenance or progression to greater levels of use. Regular use of nicotine, and the development of nicotine dependence, may also lead adolescents to seek other forms of nicotine. Adolescents first introduced to nicotine via e-cigarettes may develop a dependence on nicotine and may then move on to other forms of nicotine, including cigarettes or other combustible products. Individuals genetically susceptible to the addictive properties of nicotine may be at particularly high risk. Finally, rapid increases in e-cigarette use in adolescent populations have already begun to contribute to the normalization of e-cigarette use, which indirectly functions to normalize \\u201csmoking-like\\u201d behaviors more generally (eg, clouds of smoke/vapor in public places become normative). The normalization of these social behaviors may facilitate initiation of cigarette smoking if society becomes more accepting of alternative tobacco product use. Future work exploring these and other mechanisms through which e-cigarette use in adolescence may influence willingness to initiate cigarette smoking is warranted. Regardless of the mechanisms underlying the associations of e-cigarettes with cigarette use, this research adds much needed data to the emerging evidence that e-cigarettes are associated with increased risk of smoking among adolescents. Because e-cigarette use is common in adolescents and young adults, further prospective follow-up of this and other cohorts is needed to determine whether e-cigarette use will increase population rates of cigarette and other combustible tobacco products and their associated burden of disease. \\n \\n Footnotes Accepted April 7, 2016. \\n \\n April 7, 2016. Address correspondence to Jessica Barrington-Trimis, PhD, 2001 N. Soto St, 230-D, Los Angeles, CA 90089. E-mail: jtrimis{at}usc.edu \\n \\n FINANCIAL DISCLOSURE: The authors have indicated they have no financial relationships relevant to this article to disclose. \\n \\n FUNDING: Research reported in this publication was supported by grant P50CA180905 from the National Cancer Institute at the National Institutes of Health and the Food and Drug Administration Center for Tobacco Products. The funder had no role in the design and conduct of the study; collection, management, analysis, or interpretation of the data; or preparation, review, or approval of the manuscript. Funded by the National Institutes of Health (NIH). \\n \\n POTENTIAL CONFLICT OF INTEREST: The authors have indicated they have no potential conflicts of interest to disclose.\",\n          \"Natasha Exelby has paid a high price for her weekend blooper, after the humorless management at ABC24 banned the newsreader from playing any future on-air role. \\n \\n Exelby, who only recently returned from a foreign correspondent and anchor role with Turkish broadcaster TRT World, was told Monday she has been axed from newsreading duties, after being caught off guard during a live news shift Sunday. \\n \\n In video that has since gone viral, the former \\u201cWake Up!\\u201d co-host is seen looking startled as she suddenly realizes the cameras have returned to her after a prerecorded package has finished. \\n \\n It\\u2019s a slip-up almost every newsreader in the world has committed, but rarely costs the TV presenter their on-air job. \\n \\n The decision to bench the freelance newsreader and producer comes from the same broadcaster widely criticized for the more serious charge of failing to vet the audience of its panel program \\u201cQ&A\\u201d and allowing one-time terror suspect Zaky Mallah to join the live TV debate. \\n \\n The error, described by then-Prime Minister Tony Abbott as \\u201ccompletely incomprehensible\\u201d and compounded when it was rebroadcast on ABC24, saw no one from the program sacked. \\n \\n Most viewers laughed off Exelby\\u2019s innocuous gaffe, posted by the ABC\\u2019s own Media Watch program \\u2014 it sparked waves of support, rather than acrimony, for the \\u201cmortified\\u201d news professional. \\n \\n SBS newsreader Janice Petersen tweeted a screen grab of herself caught putting lipstick on while live, writing in solidarity: \\u201cit happens.\\u201d \\n \\n Sky News political reporter Samantha Maiden celebrated the human error, telling her Twitter followers: \\u201cthat\\u2019s @NatashaExelby and she\\u2019s awesome. She\\u2019s too much for @ABCmediawatch. Too fabulous.\\u201d \\n \\n Exelby told News Corp. \\u201cit would be inappropriate for me to comment.\\u201d \\n \\n Exelby was told Monday she would no longer be used in an on-air role, an ABC spokesman said in a statement: \\u201cNatasha Exelby is a casual contributor, not a staff member. She has been booked for occasional on-air shifts when needed, and also does other occasional shifts for the ABC News channel. \\n \\n \\u201cContributors work out their shifts with managers on a per needs basis. Details of individuals\\u2019 shifts are confidential to them and not something the ABC publicly comments on.\\u201d \\n \\n News Corp. is pursuing ABC management for further comment, addressing directly her removal from newsreading duties, either as a freelancer or otherwise. ||||| This article is over 1 year old \\n \\n Freelance journalist Natasha Exelby \\u2018read the riot act\\u2019 and offered more training after series of missteps, but will remain in casual production role \\n \\n \\u2018Slip-ups will happen\\u2019: ABC says presenter won\\u2019t be fired over TV blooper \\n \\n A casual journalist at the ABC, Natasha Exelby, has been taken off air after she missed her cue on live TV and video of her dramatic reaction went viral. \\n \\n The ABC director of news, Gaven Morris, has denied Exelby is being punished and said reports she had been fired or banned were untrue. \\n \\n \\n \\n \\u201cLive television is a demanding art and slip-ups will happen \\u2013 our presenters are humans, not robots,\\u201d Morris said. \\n \\n \\u201cWe take on-air standards extremely seriously, but we don\\u2019t expect perfection. No one would ever be punished for a blooper and, while it isn\\u2019t appropriate to publicly discuss confidential details of people\\u2019s personal work arrangements, this has not happened to Natasha.\\u201d \\n \\n Morris said he has assured Exelby the ABC wants her to continue working various shifts she has been rostered for. \\n \\n \\u201cWhile she is not currently doing any on-air shifts, this will be subject to normal performance management. I have spoken to Natasha and conveyed our regret that this has attracted such attention.\\u201d \\n \\n Footage of Exelby playing with her pen then apparently realising she is on air and gasping in horror has endeared her to the public, with calls for her to return to Australia\\u2019s TV screens and a petition, which had garnered more than 3,000 signatures by Tuesday morning. \\n \\n The ABC has denied Exelby has been banned or sacked. \\n \\n Guardian Australia understands that after a series of missteps including Sunday\\u2019s high-profile blooper she was \\u201cread the riot act\\u201d by news management on Monday. \\n \\n Sources said Exelby had been offered more training and may be given on-air shifts again at a later stage. \\n \\n Natasha Exelby (@NatashaExelby) Thank U all for ur generous support. Not my finest hour. Myself and my mesmerising pen honourably salute you! \\n \\n After the Daily Telegraph reported on Monday that the Queensland-born journalist had been \\u201cbanned\\u201d, the opposition leader, Bill Shorten, led calls on Twitter for her reinstatement. \\n \\n Bill Shorten (@billshortenmp) It's live TV. This is just ridiculous.https://t.co/xy6dp7nKwi \\n \\n Russell Crowe (@russellcrowe) Come on ABC - Australian Broadcasting Commission - talk about an over reaction to an over reaction . Free @NatashaExelby !!! https://t.co/4xALx8V5PN \\n \\n Kevin Rudd (@MrKRudd) Don't worry @NatashaExelby. Just a flesh wound. Check out my swearing video if you want a serious #blooper. Australia wants you back on air. pic.twitter.com/RSDTgR1X3U \\n \\n Presenters and other journalists shared stories about their embarrassing mistakes while at work. \\n \\n Grant Denyer (@grantdenyer) Nothing wrong with a bit of day dreaming at work @NatashaExelby . I fell asleep while on air. #putyourbloopersout pic.twitter.com/10CE3Cqkph \\n \\n Sally Rawsthorne (@sallyrawsthorne) I asked for an interview with someone who has been dead since 1962 #putyourbloopersout \\n \\n Amelia Gilbert (@ameliagilbert) Sorry @NatashaExelby, but @LeeLinChinSBS had the greatest blooper of all time https://t.co/SqXtA3S9Sd #PutYourBloopersOut \\n \\n It\\u2019s not the first time Exelby has been caught in an inappropriate reaction on live TV. Several years ago on Ten she giggled repeatedly while reading serious news items about deaths and disasters. \\n \\n Facebook Twitter Pinterest Natasha Exelby giggles while reading the news \\n \\n The ABC would not be drawn on the circumstances of the blooper and released a statement saying Exelby was a casual contributor and not a staff member: \\u201cShe has been booked for occasional on-air shifts when needed, and also does other occasional shifts for the ABC News channel. Contributors work out their shifts with managers on a per-needs basis. We don\\u2019t comment on the details of people\\u2019s work arrangements.\\u201d \\n \\n Exelby is best known as a co-host of the disastrous breakfast show Wake Up on Ten, which was launched by the former Seven Sunrise executive producer Adam Boland in late 2012. \\n \\n She was dumped as co-host after just 13 days on air and rock-bottom ratings. Boland blamed her sudden exit on her \\u201cchemistry\\u201d with the two other co-hosts, James Mathieson and Natarsha Belling. \\n \\n The entire show was axed in May 2014 owing to lacklustre ratings. ||||| \\\"She has been booked for occasional on-air shifts when needed, and also does other shifts for the ABC News channel. Contributors work out their appearances with managers on a per needs basis. Details of individuals' shifts are confidential to them and not something the ABC publicly comments on,\\\" the spokesman said.\",\n          \"White House communications director Anthony Scaramucci took a page out of President Trump\\u2019s playbook Wednesday night with a tweet threatening to sic the FBI on a supposed information leaker. \\u201cIn light of the leak of my financial disclosure info which is a felony. I will be contacting the FBI and the Justice Department,\\u201d Scaramucci wrote, inexplicably tagging White House Chief of Staff Reince Priebus. Scaramucci did not specify what information was leaked, but a Politico article cited the incoming communications director\\u2019s required financial disclosure in reporting he earned $4.9 million since last year from his ownership stake in investment firm SkyBridge. Scaramucci appeared to delete the tweet, but in a subsequent post said Priebus was among the senior White House officials helping to crack down on leaks. ||||| The incoming White House communications director earned $4.9 million from his ownership stake in SkyBridge. | Pablo Martinez Monsivais/AP Scaramucci still stands to profit from SkyBridge from the White House The newly named White House communications director has earned millions from ownership stake since last year, according to his financial disclosure. \\n \\n Anthony Scaramucci finally has his White House job, but he still stands to profit from an ownership stake in his investment firm SkyBridge Capital. \\n \\n The incoming White House communications director earned $4.9 million from his ownership stake in SkyBridge in addition to more than $5 million in salary between Jan. 1, 2016, and the end of June, when he joined the Export-Import Bank, according to a financial disclosure filed with the Office of Government Ethics. \\n \\n Story Continued Below \\n \\n The disclosure form, which is publicly available upon request, hasn\\u2019t been previously reported. \\n \\n The disclosure highlights the extensive wealth Scaramucci has accumulated in his career \\u2014 much like many of Trump\\u2019s other top advisers and Cabinet secretaries \\u2014 and also the challenge he faces in extracting himself from the potential conflicts his investments could pose. \\n \\n Scaramucci\\u2019s financial filing values SkyBridge Capital at more than $50 million and states that he owns nearly 44 percent of the firm. When the sale of the company is completed, expected to be in the third quarter of this year, he will receive \\u201cthe agreed-upon purchase price for his share of the sale proceeds,\\u201d according to the filing. \\n \\n Bloomberg valued the Skybridge deal at between $200 million and $230 million when it was announced in January. \\n \\n \\u201cIt\\u2019s black and white that he\\u2019s going to get money,\\u201d said Austin Evers, executive director at American Oversight, a watchdog group that focuses on transparency in government. \\n \\n The SkyBridge website continues to advertise Scaramucci as the firm's managing director, despite the fact that he has been a government employee for more than a month. A SkyBridge spokeswoman said Scaramucci stepped down from the executive post Jan. 17, when the company\\u2019s sale was announced. He remained an employee of the firm, collecting a salary, until starting at Ex-Im last month. \\n \\n The investment firm, which Scaramucci founded in 2005, is in the process of being sold to RON Transatlantic and Chinese conglomerate HNA Group. The sale, set in motion in January when Scaramucci was shedding his holdings in anticipation of landing an administration job, has drawn the scrutiny of regulators and is taking longer than expected to close. \\n \\n The interagency Committee on Foreign Investment in the United States is examining the deal to ensure that it carries no risk to national security. The panel\\u2019s review, which comes amid ramped-up scrutiny of business dealings with China, ultimately can be overruled by President Donald Trump. \\n \\n Scaramucci said Friday his start date wouldn\\u2019t be until August so that everything can be \\u201c100 percent totally cleansed and clean and I don\\u2019t see an issue with it.\\u201d \\n \\n White House spokeswoman Natalie Strom referred questions about Scaramucci\\u2019s SkyBridge investment to the Treasury. Treasury spokeswoman Marisol Garibay did not respond to requests for comment. \\n \\n Scaramucci, a Trump fundraiser and frequent campaign surrogate whose appointment to an administration post was delayed in part because of the complicated nature of the SkyBridge sale, joined Ex-Im in June. \\n \\n Ex-Im was seen as a \\\"very temporary move,\\\" a way to get the Trump loyalist to Washington until a higher-level position could be found, according to one White House adviser. \\n \\n The bank is across the street from the White House, where Scaramucci was free to come and go thanks to security credentials that gave him 24-hour access. That allowed him to elude the detection of senior White House staffers, including chief of staff Reince Priebus. \\n \\n Scaramucci has been on unpaid leave from Ex-Im since the day he started there, June 19, a bank spokeswoman said, forgoing his $172,100 salary as chief strategy officer. \\n \\n A friend said Scaramucci thought his stay at the bank would be longer-lived and that the White House job came unexpectedly. \\n \\n In his disclosure, Scaramucci listed assets worth as much as $85 million. He has several real estate investments, including single-family rental homes on Long Island. \\n \\n A minority stake in the New York Mets is worth as much as $5 million. He also is an investor in Juice Press, a chain of snack and smoothie shops in the Northeast. \\n \\n Scaramucci earned $200,000 in income from a majority stake in Hastings Capital Group, according to his financial disclosure. That ownership share also will be sold as part of the SkyBridge deal with RON and HNA. \\n \\n As a contributor to Fox News, Scaramucci earned about $88,000, according to his financial disclosure. \\n \\n He has three mortgages with U.S. Bank for a total liability of $2.5 million to $7 million. \\n \\n Josh Dawsey contributed to this report. ||||| Tweet with a location \\n \\n You can add location information to your Tweets, such as your city or precise location, from the web and via third-party applications. You always have the option to delete your Tweet location history. Learn more ||||| WASHINGTON \\u2014 In the five days since he was named White House communications director, Anthony Scaramucci has vowed to hunt down leakers and fire anyone he catches. By the end of his fifth day, he was on the receiving end of what he called a leak about himself. \\n \\n The financial disclosure form that Mr. Scaramucci filed with the government appeared on Politico\\u2019s website on Wednesday night, showing that he has assets worth as much as $85 million. He made $5 million in salary and another $4.9 million from his ownership stake in his investment firm SkyBridge Capital in the first six months of this year, according to the filing. \\n \\n Mr. Scaramucci responded angrily. \\u201cIn light of the leak of my financial disclosure info which is a felony,\\u201d he wrote on Twitter, \\u201cI will be contacting @FBI and the @TheJusticeDept.\\u201d \\n \\n He added the hashtag #swamp, reflecting President Trump\\u2019s promise to drain the swamp, and then included the Twitter handle of Reince Priebus, the White House chief of staff, who opposed Mr. Scaramucci\\u2019s appointment last week.\"\n        ],\n        \"semantic_type\": \"\",\n        \"description\": \"\"\n      }\n    },\n    {\n      \"column\": \"summary\",\n      \"properties\": {\n        \"dtype\": \"string\",\n        \"num_unique_values\": 5622,\n        \"samples\": [\n          \"\\u2013 Denis Finley has taken to Twitter to call Politico a \\\"whore,\\\" sniff about David Letterman's upcoming Netflix show featuring Barack Obama, and call for the destruction of all office buildings, but it was his tweets about a potential change to Vermont's driver's licenses that cost him his job as editor of the Burlington Free Press. The paper reports Finley was fired by honchos at parent company Gannett on Monday evening after he was found to have repeatedly flouted its social media rules. \\\"We encourage our journalists to engage in a meaningful dialogue on social media, but ... the conversation [should] adhere to our overarching values of fairness, balance, and objectivity,\\\" says an exec from the USA Today Network, Gannett's main brand. Poynter explains Finley's demise came after he reacted to Vermont's proposal to add the gender option \\\"X\\\" to \\\"F\\\" and \\\"M\\\" on driver's licenses. The Washington Post documents the Twitter exchange between commenters who were lauding Vermont's decision and Finley. After one user noted the news was \\\"awesome,\\\" Finley replied: \\\"Awesome! That makes us one step closer to the apocalypse.\\\" When someone else tweeted the recognition of different genders was awesome, Finley wrote: \\\"All recognition? \\u2026 What if someone said it's awesome they are going to recognize pedophiliacs on licenses? I'm not being snarky, I'm just asking.\\\" Poynter notes some readers threatened to cancel their Free Press subscriptions over the tweets. \\\"'Reader engagement' is not making provocative statements and then picking fights with people who disagree,\\\" an editor for a string of other local Vermont papers says. Emilie Stigliani, the Free Press' planning editor, will temporarily step in as Finley's replacement.\",\n          \"\\u2013 CNN's Piers Morgan thinks gun-rights proponent Alex Jones's memorable appearance on his show last night made a fine case\\u2014for his opponents. \\\"He was the best advertisement for gun control you could wish for,\\\" Morgan tells Politico, referring to the conservative radio host. \\\"That kind of vitriol, hatred, and zealotry is really quite scary.\\\" Jones is the guy who started the White House petition to get Morgan deported because of the CNN host's push for stricter gun laws. The White House last night promised to respond to the petition because it easily surpassed the threshold of 25,000 signatures, notes the Daily Caller. But \\\"it is worth remembering that the freedom of expression is a bedrock principle in our democracy,\\\" said spokesman Jay Carney, suggesting Jones better not hold his breath. Jones himself, meanwhile, posted a video after his CNN appearance, telling supporters that \\\"if something happens to us, or we\\u2019re killed by crackheads, it was the NYPD or mafia they hired,\\\" reports Mediaite. Yeah, that's right: \\u201cIf you don\\u2019t know that (Mayor) Bloomberg is total mafia, you\\u2019re on another planet.\\\"\",\n          \"\\u2013 New White House communications director Anthony Scaramucci was not happy about what he believed was a leak of information from his financial disclosure Wednesday\\u2014though it later emerged that the form was available to the public. \\\"In light of the leak of my financial disclosure info which is a felony. I will be contacting @FBI and @TheJusticeDept #swamp @Reince45,\\\" Scaramucci said in a now-deleted tweet, per the Daily Beast. Scaramucci later denied suggestions that his tagging of Reince Priebus was a declaration of war on the White House chief of staff. \\\"Wrong! Tweet was public notice to leakers that all Sr Adm officials are helping to end illegal leaks,\\\" Scaramucci said in a second tweet. The disclosure information believed to have enraged Scaramucci appeared in a Politico report late Wednesday. According to the report, Scaramucci earned $4.9 million from his ownership stake in the SkyBridge Capital plus more than $5 million in salary from Jan. 1, 2016, to the end of June this year, when he began a short-lived stint at the federal Export-Import Bank. The New York Times notes that Scaramucci filed the disclosure form June 23 and under federal law, it would have been available to the public 30 days later. \\\"They aren't in process yet,\\\" Scaramucci wrote to the Times after being asked why he thought the report had been leaked. He didn't respond after being told it would have been available July 23.\"\n        ],\n        \"semantic_type\": \"\",\n        \"description\": \"\"\n      }\n    }\n  ]\n}"
            }
          },
          "metadata": {},
          "execution_count": 30
        }
      ]
    },
    {
      "cell_type": "code",
      "source": [
        "import gc\n",
        "import torch\n",
        "torch.cuda.empty_cache()\n",
        "gc.collect()"
      ],
      "metadata": {
        "colab": {
          "base_uri": "https://localhost:8080/"
        },
        "id": "-hPEjg32zAbt",
        "outputId": "ea08ab67-b72c-43ae-b39d-83c217be0243"
      },
      "execution_count": 40,
      "outputs": [
        {
          "data": {
            "text/plain": [
              "322"
            ]
          },
          "execution_count": 40,
          "metadata": {},
          "output_type": "execute_result"
        }
      ]
    },
    {
      "cell_type": "code",
      "source": [
        "with mlflow.start_run() as run:\n",
        "\n",
        "    results = mlflow.evaluate(\n",
        "         model_uri,\n",
        "         df_test[:10],\n",
        "        targets=\"summary\",  # specify which column corresponds to the expected output\n",
        "        model_type=\"text-summarization\",  # model type indicates which metrics are relevant for this task\n",
        "        evaluators=\"default\",\n",
        "    )\n",
        "results.metrics"
      ],
      "metadata": {
        "colab": {
          "base_uri": "https://localhost:8080/",
          "height": 550,
          "referenced_widgets": [
            "f5263905885844e0a8559093bafb1976",
            "5f13737547df4bfcae49f3b895c7c6ad",
            "7f17baddf6fb4c64b612d65f6610f46b",
            "52c9b1ed16ce4691b1d064e9c57f754c",
            "235175f30095482187bc23c4ee8c790c",
            "a7eab6f08a3848e5b2341d0f057a1cd7",
            "d4f6260420d24149b0e1ea11abd3015d",
            "f6b179b0a3bd400a8f0e2f48ee0429c0",
            "2bbb302aac294db39e8dc9a4bff72157",
            "1fc8c756b591496587262999da41a460",
            "458ac63d78f64224a3c1750621a94067",
            "d49a13cb76194f6caf7140e468f185a0",
            "51c5fab191364428b0eddf1dab95a187",
            "762a18e37ce04b88a6242b3c53cc7b3e",
            "7feacc1ec03347a6a6a9b132f3150ef5",
            "7c32bf44ba104885ab2254f5da30edcd",
            "79b3df2580b04e41920a43a80052b308",
            "8c15bb77419744f09ecb7bd73981f483",
            "493d5de15a9a46a8814528aa70aefe92",
            "0d788f0e37864e62a9e3bd9accd3f37d",
            "d29db37f5bf8431e8231127604675c0e",
            "37be284112df44d2ac3cc522a668b456"
          ]
        },
        "id": "p8aYj2B8Cj1U",
        "outputId": "373afb2d-1c06-43df-94d9-b2adbb466e20"
      },
      "execution_count": 36,
      "outputs": [
        {
          "output_type": "display_data",
          "data": {
            "text/plain": [
              "Downloading artifacts:   0%|          | 0/17 [00:00<?, ?it/s]"
            ],
            "application/vnd.jupyter.widget-view+json": {
              "version_major": 2,
              "version_minor": 0,
              "model_id": "f5263905885844e0a8559093bafb1976"
            }
          },
          "metadata": {
            "application/vnd.jupyter.widget-view+json": {
              "colab": {
                "custom_widget_manager": {
                  "url": "https://ssl.gstatic.com/colaboratory-static/widgets/colab-cdn-widget-manager/2b70e893a8ba7c0f/manager.min.js"
                }
              }
            }
          }
        },
        {
          "output_type": "stream",
          "name": "stderr",
          "text": [
            "2024/11/21 17:52:58 WARNING mlflow.transformers.model_io: Could not specify device parameter for this pipeline type.Falling back to loading the model with the default device.\n"
          ]
        },
        {
          "output_type": "display_data",
          "data": {
            "text/plain": [
              "Loading checkpoint shards:   0%|          | 0/3 [00:00<?, ?it/s]"
            ],
            "application/vnd.jupyter.widget-view+json": {
              "version_major": 2,
              "version_minor": 0,
              "model_id": "37be284112df44d2ac3cc522a668b456"
            }
          },
          "metadata": {
            "application/vnd.jupyter.widget-view+json": {
              "colab": {
                "custom_widget_manager": {
                  "url": "https://ssl.gstatic.com/colaboratory-static/widgets/colab-cdn-widget-manager/2b70e893a8ba7c0f/manager.min.js"
                }
              }
            }
          }
        },
        {
          "output_type": "stream",
          "name": "stderr",
          "text": [
            "2024/11/21 17:53:02 INFO mlflow.models.evaluation.evaluators.default: Computing model predictions.\n",
            "2024/11/21 17:54:03 INFO mlflow.models.evaluation.default_evaluator: Testing metrics on first row...\n"
          ]
        },
        {
          "output_type": "stream",
          "name": "stdout",
          "text": [
            "🏃 View run grandiose-bug-824 at: https://adb-2467347032368999.19.azuredatabricks.net/ml/experiments/837187481682972/runs/4f5429e4ab7e479f8007637b61ac9fbe\n",
            "🧪 View experiment at: https://adb-2467347032368999.19.azuredatabricks.net/ml/experiments/837187481682972\n"
          ]
        },
        {
          "output_type": "execute_result",
          "data": {
            "text/plain": [
              "{'toxicity/v1/mean': 0.001971986719581764,\n",
              " 'toxicity/v1/variance': 2.6699768090500807e-06,\n",
              " 'toxicity/v1/p90': 0.004177085403352976,\n",
              " 'toxicity/v1/ratio': 0.0,\n",
              " 'flesch_kincaid_grade_level/v1/mean': 8.24,\n",
              " 'flesch_kincaid_grade_level/v1/variance': 4.626400000000001,\n",
              " 'flesch_kincaid_grade_level/v1/p90': 10.94,\n",
              " 'ari_grade_level/v1/mean': 10.78,\n",
              " 'ari_grade_level/v1/variance': 7.945600000000001,\n",
              " 'ari_grade_level/v1/p90': 13.6,\n",
              " 'rouge1/v1/mean': 0.2911511575750777,\n",
              " 'rouge1/v1/variance': 0.005443754674541205,\n",
              " 'rouge1/v1/p90': 0.3537939297124601,\n",
              " 'rouge2/v1/mean': 0.07808118158615665,\n",
              " 'rouge2/v1/variance': 0.0024741511638419816,\n",
              " 'rouge2/v1/p90': 0.1488422415013448,\n",
              " 'rougeL/v1/mean': 0.15508871889419978,\n",
              " 'rougeL/v1/variance': 0.002053453915922367,\n",
              " 'rougeL/v1/p90': 0.21050319488817892,\n",
              " 'rougeLsum/v1/mean': 0.15508871889419978,\n",
              " 'rougeLsum/v1/variance': 0.002053453915922367,\n",
              " 'rougeLsum/v1/p90': 0.21050319488817892}"
            ]
          },
          "metadata": {},
          "execution_count": 36
        }
      ]
    },
    {
      "cell_type": "code",
      "source": [
        "from mlflow.metrics import latency\n",
        "from mlflow.metrics.genai import answer_correctness"
      ],
      "metadata": {
        "id": "zLWwdkSe3mUo"
      },
      "execution_count": 41,
      "outputs": []
    },
    {
      "cell_type": "code",
      "source": [
        "mlflow.enable_system_metrics_logging()\n"
      ],
      "metadata": {
        "id": "gd_vXDtC_Own"
      },
      "execution_count": 45,
      "outputs": []
    },
    {
      "cell_type": "code",
      "source": [
        "with mlflow.start_run() as run:\n",
        "\n",
        "    results = mlflow.evaluate(\n",
        "         model_uri,\n",
        "         df_test[:10],\n",
        "        targets=\"summary\",  # specify which column corresponds to the expected output\n",
        "        model_type=\"text-summarization\",  # model type indicates which metrics are relevant for this task\n",
        "        evaluators=\"default\",\n",
        "         extra_metrics=[\n",
        "\n",
        "        latency(),\n",
        "    ],\n",
        "    )\n",
        "results.metrics"
      ],
      "metadata": {
        "colab": {
          "base_uri": "https://localhost:8080/",
          "height": 671,
          "referenced_widgets": [
            "e9876e0db9794b42b75f9568c9878cbf",
            "fa3926e39dfe4c8987c5fd74d41a336a",
            "0f7be65f2eb543e4adb7da21082b2484",
            "43b1f0a077b24f15b09cff8817631fc7",
            "445c8b27d85942c4882374a970471413",
            "37ecd595eecc4fd8ab9e58b9e1f6cab2",
            "814ccccf1c0849f9b247da1866b81120",
            "79579758b4ba43a3adac1aa68a59e9ef",
            "5b3e33cd92c643e0b39725c6da355be7",
            "e88d01fe734f4e4c9fdb06a4b10fd388",
            "9b1df707448345159c51fc35ecfecd1a",
            "180eb5eda54c4ff68936b2f41e7f4f50",
            "3d2a1d80cf2342238adb085c35a624fd",
            "9e85d1cdc1ac40c4b1218b4a63404ea4",
            "93baf97b61aa4e3ba27bc2810072889c",
            "df1fad8da29e441c8f1fedde3638c43c",
            "fd8d868f9ed34dfc8187c8deb967d36f",
            "5c8bf4fbb95b4430b02137dc1017af3a",
            "27bb395bcd6c47c38675ecfda830e7ab",
            "6ee4e5c51577486caa1b0f101235e5cb",
            "d6b8da55f58d4aa4b38795c68677404a",
            "dd7db17992804a20bfb948b3408e38ee"
          ]
        },
        "id": "QD-k2bqB6IyS",
        "outputId": "73a44d4d-7d15-412f-890e-f401531fd54a"
      },
      "execution_count": 47,
      "outputs": [
        {
          "output_type": "stream",
          "name": "stderr",
          "text": [
            "2024/11/21 19:47:55 INFO mlflow.system_metrics.system_metrics_monitor: Started monitoring system metrics.\n"
          ]
        },
        {
          "output_type": "display_data",
          "data": {
            "text/plain": [
              "Downloading artifacts:   0%|          | 0/17 [00:00<?, ?it/s]"
            ],
            "application/vnd.jupyter.widget-view+json": {
              "version_major": 2,
              "version_minor": 0,
              "model_id": "e9876e0db9794b42b75f9568c9878cbf"
            }
          },
          "metadata": {
            "application/vnd.jupyter.widget-view+json": {
              "colab": {
                "custom_widget_manager": {
                  "url": "https://ssl.gstatic.com/colaboratory-static/widgets/colab-cdn-widget-manager/2b70e893a8ba7c0f/manager.min.js"
                }
              }
            }
          }
        },
        {
          "output_type": "stream",
          "name": "stderr",
          "text": [
            "WARNING:urllib3.connectionpool:Connection pool is full, discarding connection: dbstoragehxvzfnone7t6e.dfs.core.windows.net. Connection pool size: 10\n",
            "2024/11/21 19:48:17 WARNING mlflow.transformers.model_io: Could not specify device parameter for this pipeline type.Falling back to loading the model with the default device.\n"
          ]
        },
        {
          "output_type": "display_data",
          "data": {
            "text/plain": [
              "Loading checkpoint shards:   0%|          | 0/3 [00:00<?, ?it/s]"
            ],
            "application/vnd.jupyter.widget-view+json": {
              "version_major": 2,
              "version_minor": 0,
              "model_id": "dd7db17992804a20bfb948b3408e38ee"
            }
          },
          "metadata": {
            "application/vnd.jupyter.widget-view+json": {
              "colab": {
                "custom_widget_manager": {
                  "url": "https://ssl.gstatic.com/colaboratory-static/widgets/colab-cdn-widget-manager/2b70e893a8ba7c0f/manager.min.js"
                }
              }
            }
          }
        },
        {
          "output_type": "stream",
          "name": "stderr",
          "text": [
            "2024/11/21 19:48:21 INFO mlflow.models.evaluation.evaluators.default: Computing model predictions.\n",
            "2024/11/21 19:49:22 INFO mlflow.models.evaluation.default_evaluator: Testing metrics on first row...\n"
          ]
        },
        {
          "output_type": "stream",
          "name": "stdout",
          "text": [
            "🏃 View run righteous-shad-441 at: https://adb-2467347032368999.19.azuredatabricks.net/ml/experiments/837187481682972/runs/ea5cf79203754a459a9cbdbf6e251d95\n",
            "🧪 View experiment at: https://adb-2467347032368999.19.azuredatabricks.net/ml/experiments/837187481682972\n"
          ]
        },
        {
          "output_type": "stream",
          "name": "stderr",
          "text": [
            "2024/11/21 19:49:29 INFO mlflow.system_metrics.system_metrics_monitor: Stopping system metrics monitoring...\n",
            "2024/11/21 19:49:30 INFO mlflow.system_metrics.system_metrics_monitor: Successfully terminated system metrics monitoring!\n"
          ]
        },
        {
          "output_type": "execute_result",
          "data": {
            "text/plain": [
              "{'latency/mean': 6.179589557647705,\n",
              " 'latency/variance': 0.10555955221127304,\n",
              " 'latency/p90': 6.747324275970459,\n",
              " 'toxicity/v1/mean': 0.001971986719581764,\n",
              " 'toxicity/v1/variance': 2.6699768090500807e-06,\n",
              " 'toxicity/v1/p90': 0.004177085403352976,\n",
              " 'toxicity/v1/ratio': 0.0,\n",
              " 'flesch_kincaid_grade_level/v1/mean': 8.24,\n",
              " 'flesch_kincaid_grade_level/v1/variance': 4.626400000000001,\n",
              " 'flesch_kincaid_grade_level/v1/p90': 10.94,\n",
              " 'ari_grade_level/v1/mean': 10.78,\n",
              " 'ari_grade_level/v1/variance': 7.945600000000001,\n",
              " 'ari_grade_level/v1/p90': 13.6,\n",
              " 'rouge1/v1/mean': 0.2911511575750777,\n",
              " 'rouge1/v1/variance': 0.005443754674541205,\n",
              " 'rouge1/v1/p90': 0.3537939297124601,\n",
              " 'rouge2/v1/mean': 0.07808118158615665,\n",
              " 'rouge2/v1/variance': 0.0024741511638419816,\n",
              " 'rouge2/v1/p90': 0.1488422415013448,\n",
              " 'rougeL/v1/mean': 0.15508871889419978,\n",
              " 'rougeL/v1/variance': 0.002053453915922367,\n",
              " 'rougeL/v1/p90': 0.21050319488817892,\n",
              " 'rougeLsum/v1/mean': 0.15508871889419978,\n",
              " 'rougeLsum/v1/variance': 0.002053453915922367,\n",
              " 'rougeLsum/v1/p90': 0.21050319488817892}"
            ]
          },
          "metadata": {},
          "execution_count": 47
        }
      ]
    },
    {
      "cell_type": "code",
      "source": [
        "results.metrics"
      ],
      "metadata": {
        "colab": {
          "base_uri": "https://localhost:8080/"
        },
        "id": "8xDZdGzJRypf",
        "outputId": "0d95bc36-1152-486a-bad1-f46948dcea09"
      },
      "execution_count": 48,
      "outputs": [
        {
          "output_type": "execute_result",
          "data": {
            "text/plain": [
              "{'latency/mean': 6.179589557647705,\n",
              " 'latency/variance': 0.10555955221127304,\n",
              " 'latency/p90': 6.747324275970459,\n",
              " 'toxicity/v1/mean': 0.001971986719581764,\n",
              " 'toxicity/v1/variance': 2.6699768090500807e-06,\n",
              " 'toxicity/v1/p90': 0.004177085403352976,\n",
              " 'toxicity/v1/ratio': 0.0,\n",
              " 'flesch_kincaid_grade_level/v1/mean': 8.24,\n",
              " 'flesch_kincaid_grade_level/v1/variance': 4.626400000000001,\n",
              " 'flesch_kincaid_grade_level/v1/p90': 10.94,\n",
              " 'ari_grade_level/v1/mean': 10.78,\n",
              " 'ari_grade_level/v1/variance': 7.945600000000001,\n",
              " 'ari_grade_level/v1/p90': 13.6,\n",
              " 'rouge1/v1/mean': 0.2911511575750777,\n",
              " 'rouge1/v1/variance': 0.005443754674541205,\n",
              " 'rouge1/v1/p90': 0.3537939297124601,\n",
              " 'rouge2/v1/mean': 0.07808118158615665,\n",
              " 'rouge2/v1/variance': 0.0024741511638419816,\n",
              " 'rouge2/v1/p90': 0.1488422415013448,\n",
              " 'rougeL/v1/mean': 0.15508871889419978,\n",
              " 'rougeL/v1/variance': 0.002053453915922367,\n",
              " 'rougeL/v1/p90': 0.21050319488817892,\n",
              " 'rougeLsum/v1/mean': 0.15508871889419978,\n",
              " 'rougeLsum/v1/variance': 0.002053453915922367,\n",
              " 'rougeLsum/v1/p90': 0.21050319488817892}"
            ]
          },
          "metadata": {},
          "execution_count": 48
        }
      ]
    }
  ]
}