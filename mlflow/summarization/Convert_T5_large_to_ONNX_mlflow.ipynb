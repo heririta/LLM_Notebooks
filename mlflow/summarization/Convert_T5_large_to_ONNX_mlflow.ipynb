{
  "nbformat": 4,
  "nbformat_minor": 0,
  "metadata": {
    "colab": {
      "provenance": [],
      "machine_shape": "hm",
      "gpuType": "L4",
      "authorship_tag": "ABX9TyO/kv7+CPpVN+ij5DUxoDtg",
      "include_colab_link": true
    },
    "kernelspec": {
      "name": "python3",
      "display_name": "Python 3"
    },
    "language_info": {
      "name": "python"
    },
    "accelerator": "GPU",
    "widgets": {
      "application/vnd.jupyter.widget-state+json": {
        "f6bc083669104405957af4ee281d6f2c": {
          "model_module": "@jupyter-widgets/controls",
          "model_name": "HBoxModel",
          "model_module_version": "1.5.0",
          "state": {
            "_dom_classes": [],
            "_model_module": "@jupyter-widgets/controls",
            "_model_module_version": "1.5.0",
            "_model_name": "HBoxModel",
            "_view_count": null,
            "_view_module": "@jupyter-widgets/controls",
            "_view_module_version": "1.5.0",
            "_view_name": "HBoxView",
            "box_style": "",
            "children": [
              "IPY_MODEL_fe8d0471009b4bc9859fb7849827cba7",
              "IPY_MODEL_2ed6ede6ec3745959d2b693e14270fe4",
              "IPY_MODEL_b0bd184cf9b946db9622b68915c761e1"
            ],
            "layout": "IPY_MODEL_3046d65b8f7249b5991ddd9deb0bf940"
          }
        },
        "fe8d0471009b4bc9859fb7849827cba7": {
          "model_module": "@jupyter-widgets/controls",
          "model_name": "HTMLModel",
          "model_module_version": "1.5.0",
          "state": {
            "_dom_classes": [],
            "_model_module": "@jupyter-widgets/controls",
            "_model_module_version": "1.5.0",
            "_model_name": "HTMLModel",
            "_view_count": null,
            "_view_module": "@jupyter-widgets/controls",
            "_view_module_version": "1.5.0",
            "_view_name": "HTMLView",
            "description": "",
            "description_tooltip": null,
            "layout": "IPY_MODEL_997057bd07e74e5cbc807aea05f5ed35",
            "placeholder": "​",
            "style": "IPY_MODEL_d02a7dbeb0d3423caaf7a8f510b62d1c",
            "value": "Downloading artifacts: 100%"
          }
        },
        "2ed6ede6ec3745959d2b693e14270fe4": {
          "model_module": "@jupyter-widgets/controls",
          "model_name": "FloatProgressModel",
          "model_module_version": "1.5.0",
          "state": {
            "_dom_classes": [],
            "_model_module": "@jupyter-widgets/controls",
            "_model_module_version": "1.5.0",
            "_model_name": "FloatProgressModel",
            "_view_count": null,
            "_view_module": "@jupyter-widgets/controls",
            "_view_module_version": "1.5.0",
            "_view_name": "ProgressView",
            "bar_style": "success",
            "description": "",
            "description_tooltip": null,
            "layout": "IPY_MODEL_527666d3ae75454abe0e0e5d09d778bb",
            "max": 17,
            "min": 0,
            "orientation": "horizontal",
            "style": "IPY_MODEL_5d1c2ddae9e0460490e87b13990d7bf2",
            "value": 17
          }
        },
        "b0bd184cf9b946db9622b68915c761e1": {
          "model_module": "@jupyter-widgets/controls",
          "model_name": "HTMLModel",
          "model_module_version": "1.5.0",
          "state": {
            "_dom_classes": [],
            "_model_module": "@jupyter-widgets/controls",
            "_model_module_version": "1.5.0",
            "_model_name": "HTMLModel",
            "_view_count": null,
            "_view_module": "@jupyter-widgets/controls",
            "_view_module_version": "1.5.0",
            "_view_name": "HTMLView",
            "description": "",
            "description_tooltip": null,
            "layout": "IPY_MODEL_fb15ceb14be746a6a0c829bd2bae0fe5",
            "placeholder": "​",
            "style": "IPY_MODEL_20791d84dff546b691519310d351f392",
            "value": " 17/17 [02:02&lt;00:00, 14.79s/it]"
          }
        },
        "3046d65b8f7249b5991ddd9deb0bf940": {
          "model_module": "@jupyter-widgets/base",
          "model_name": "LayoutModel",
          "model_module_version": "1.2.0",
          "state": {
            "_model_module": "@jupyter-widgets/base",
            "_model_module_version": "1.2.0",
            "_model_name": "LayoutModel",
            "_view_count": null,
            "_view_module": "@jupyter-widgets/base",
            "_view_module_version": "1.2.0",
            "_view_name": "LayoutView",
            "align_content": null,
            "align_items": null,
            "align_self": null,
            "border": null,
            "bottom": null,
            "display": null,
            "flex": null,
            "flex_flow": null,
            "grid_area": null,
            "grid_auto_columns": null,
            "grid_auto_flow": null,
            "grid_auto_rows": null,
            "grid_column": null,
            "grid_gap": null,
            "grid_row": null,
            "grid_template_areas": null,
            "grid_template_columns": null,
            "grid_template_rows": null,
            "height": null,
            "justify_content": null,
            "justify_items": null,
            "left": null,
            "margin": null,
            "max_height": null,
            "max_width": null,
            "min_height": null,
            "min_width": null,
            "object_fit": null,
            "object_position": null,
            "order": null,
            "overflow": null,
            "overflow_x": null,
            "overflow_y": null,
            "padding": null,
            "right": null,
            "top": null,
            "visibility": null,
            "width": null
          }
        },
        "997057bd07e74e5cbc807aea05f5ed35": {
          "model_module": "@jupyter-widgets/base",
          "model_name": "LayoutModel",
          "model_module_version": "1.2.0",
          "state": {
            "_model_module": "@jupyter-widgets/base",
            "_model_module_version": "1.2.0",
            "_model_name": "LayoutModel",
            "_view_count": null,
            "_view_module": "@jupyter-widgets/base",
            "_view_module_version": "1.2.0",
            "_view_name": "LayoutView",
            "align_content": null,
            "align_items": null,
            "align_self": null,
            "border": null,
            "bottom": null,
            "display": null,
            "flex": null,
            "flex_flow": null,
            "grid_area": null,
            "grid_auto_columns": null,
            "grid_auto_flow": null,
            "grid_auto_rows": null,
            "grid_column": null,
            "grid_gap": null,
            "grid_row": null,
            "grid_template_areas": null,
            "grid_template_columns": null,
            "grid_template_rows": null,
            "height": null,
            "justify_content": null,
            "justify_items": null,
            "left": null,
            "margin": null,
            "max_height": null,
            "max_width": null,
            "min_height": null,
            "min_width": null,
            "object_fit": null,
            "object_position": null,
            "order": null,
            "overflow": null,
            "overflow_x": null,
            "overflow_y": null,
            "padding": null,
            "right": null,
            "top": null,
            "visibility": null,
            "width": null
          }
        },
        "d02a7dbeb0d3423caaf7a8f510b62d1c": {
          "model_module": "@jupyter-widgets/controls",
          "model_name": "DescriptionStyleModel",
          "model_module_version": "1.5.0",
          "state": {
            "_model_module": "@jupyter-widgets/controls",
            "_model_module_version": "1.5.0",
            "_model_name": "DescriptionStyleModel",
            "_view_count": null,
            "_view_module": "@jupyter-widgets/base",
            "_view_module_version": "1.2.0",
            "_view_name": "StyleView",
            "description_width": ""
          }
        },
        "527666d3ae75454abe0e0e5d09d778bb": {
          "model_module": "@jupyter-widgets/base",
          "model_name": "LayoutModel",
          "model_module_version": "1.2.0",
          "state": {
            "_model_module": "@jupyter-widgets/base",
            "_model_module_version": "1.2.0",
            "_model_name": "LayoutModel",
            "_view_count": null,
            "_view_module": "@jupyter-widgets/base",
            "_view_module_version": "1.2.0",
            "_view_name": "LayoutView",
            "align_content": null,
            "align_items": null,
            "align_self": null,
            "border": null,
            "bottom": null,
            "display": null,
            "flex": null,
            "flex_flow": null,
            "grid_area": null,
            "grid_auto_columns": null,
            "grid_auto_flow": null,
            "grid_auto_rows": null,
            "grid_column": null,
            "grid_gap": null,
            "grid_row": null,
            "grid_template_areas": null,
            "grid_template_columns": null,
            "grid_template_rows": null,
            "height": null,
            "justify_content": null,
            "justify_items": null,
            "left": null,
            "margin": null,
            "max_height": null,
            "max_width": null,
            "min_height": null,
            "min_width": null,
            "object_fit": null,
            "object_position": null,
            "order": null,
            "overflow": null,
            "overflow_x": null,
            "overflow_y": null,
            "padding": null,
            "right": null,
            "top": null,
            "visibility": null,
            "width": null
          }
        },
        "5d1c2ddae9e0460490e87b13990d7bf2": {
          "model_module": "@jupyter-widgets/controls",
          "model_name": "ProgressStyleModel",
          "model_module_version": "1.5.0",
          "state": {
            "_model_module": "@jupyter-widgets/controls",
            "_model_module_version": "1.5.0",
            "_model_name": "ProgressStyleModel",
            "_view_count": null,
            "_view_module": "@jupyter-widgets/base",
            "_view_module_version": "1.2.0",
            "_view_name": "StyleView",
            "bar_color": null,
            "description_width": ""
          }
        },
        "fb15ceb14be746a6a0c829bd2bae0fe5": {
          "model_module": "@jupyter-widgets/base",
          "model_name": "LayoutModel",
          "model_module_version": "1.2.0",
          "state": {
            "_model_module": "@jupyter-widgets/base",
            "_model_module_version": "1.2.0",
            "_model_name": "LayoutModel",
            "_view_count": null,
            "_view_module": "@jupyter-widgets/base",
            "_view_module_version": "1.2.0",
            "_view_name": "LayoutView",
            "align_content": null,
            "align_items": null,
            "align_self": null,
            "border": null,
            "bottom": null,
            "display": null,
            "flex": null,
            "flex_flow": null,
            "grid_area": null,
            "grid_auto_columns": null,
            "grid_auto_flow": null,
            "grid_auto_rows": null,
            "grid_column": null,
            "grid_gap": null,
            "grid_row": null,
            "grid_template_areas": null,
            "grid_template_columns": null,
            "grid_template_rows": null,
            "height": null,
            "justify_content": null,
            "justify_items": null,
            "left": null,
            "margin": null,
            "max_height": null,
            "max_width": null,
            "min_height": null,
            "min_width": null,
            "object_fit": null,
            "object_position": null,
            "order": null,
            "overflow": null,
            "overflow_x": null,
            "overflow_y": null,
            "padding": null,
            "right": null,
            "top": null,
            "visibility": null,
            "width": null
          }
        },
        "20791d84dff546b691519310d351f392": {
          "model_module": "@jupyter-widgets/controls",
          "model_name": "DescriptionStyleModel",
          "model_module_version": "1.5.0",
          "state": {
            "_model_module": "@jupyter-widgets/controls",
            "_model_module_version": "1.5.0",
            "_model_name": "DescriptionStyleModel",
            "_view_count": null,
            "_view_module": "@jupyter-widgets/base",
            "_view_module_version": "1.2.0",
            "_view_name": "StyleView",
            "description_width": ""
          }
        },
        "5e5af64d2df148d9ba93da64c6731252": {
          "model_module": "@jupyter-widgets/base",
          "model_name": "LayoutModel",
          "model_module_version": "1.2.0",
          "state": {
            "_model_module": "@jupyter-widgets/base",
            "_model_module_version": "1.2.0",
            "_model_name": "LayoutModel",
            "_view_count": null,
            "_view_module": "@jupyter-widgets/base",
            "_view_module_version": "1.2.0",
            "_view_name": "LayoutView",
            "align_content": null,
            "align_items": null,
            "align_self": null,
            "border": null,
            "bottom": null,
            "display": null,
            "flex": null,
            "flex_flow": null,
            "grid_area": null,
            "grid_auto_columns": null,
            "grid_auto_flow": null,
            "grid_auto_rows": null,
            "grid_column": null,
            "grid_gap": null,
            "grid_row": null,
            "grid_template_areas": null,
            "grid_template_columns": null,
            "grid_template_rows": null,
            "height": null,
            "justify_content": null,
            "justify_items": null,
            "left": null,
            "margin": null,
            "max_height": null,
            "max_width": null,
            "min_height": null,
            "min_width": null,
            "object_fit": null,
            "object_position": null,
            "order": null,
            "overflow": null,
            "overflow_x": null,
            "overflow_y": null,
            "padding": null,
            "right": null,
            "top": null,
            "visibility": null,
            "width": null
          }
        },
        "641078d05df54885b8d8121266e3c94d": {
          "model_module": "@jupyter-widgets/controls",
          "model_name": "ProgressStyleModel",
          "model_module_version": "1.5.0",
          "state": {
            "_model_module": "@jupyter-widgets/controls",
            "_model_module_version": "1.5.0",
            "_model_name": "ProgressStyleModel",
            "_view_count": null,
            "_view_module": "@jupyter-widgets/base",
            "_view_module_version": "1.2.0",
            "_view_name": "StyleView",
            "bar_color": null,
            "description_width": ""
          }
        },
        "81bb6c98d03a4c86a29e3e460e177c6e": {
          "model_module": "@jupyter-widgets/base",
          "model_name": "LayoutModel",
          "model_module_version": "1.2.0",
          "state": {
            "_model_module": "@jupyter-widgets/base",
            "_model_module_version": "1.2.0",
            "_model_name": "LayoutModel",
            "_view_count": null,
            "_view_module": "@jupyter-widgets/base",
            "_view_module_version": "1.2.0",
            "_view_name": "LayoutView",
            "align_content": null,
            "align_items": null,
            "align_self": null,
            "border": null,
            "bottom": null,
            "display": null,
            "flex": null,
            "flex_flow": null,
            "grid_area": null,
            "grid_auto_columns": null,
            "grid_auto_flow": null,
            "grid_auto_rows": null,
            "grid_column": null,
            "grid_gap": null,
            "grid_row": null,
            "grid_template_areas": null,
            "grid_template_columns": null,
            "grid_template_rows": null,
            "height": null,
            "justify_content": null,
            "justify_items": null,
            "left": null,
            "margin": null,
            "max_height": null,
            "max_width": null,
            "min_height": null,
            "min_width": null,
            "object_fit": null,
            "object_position": null,
            "order": null,
            "overflow": null,
            "overflow_x": null,
            "overflow_y": null,
            "padding": null,
            "right": null,
            "top": null,
            "visibility": null,
            "width": null
          }
        },
        "20091a98a43d4389baeb76120653cc2b": {
          "model_module": "@jupyter-widgets/controls",
          "model_name": "DescriptionStyleModel",
          "model_module_version": "1.5.0",
          "state": {
            "_model_module": "@jupyter-widgets/controls",
            "_model_module_version": "1.5.0",
            "_model_name": "DescriptionStyleModel",
            "_view_count": null,
            "_view_module": "@jupyter-widgets/base",
            "_view_module_version": "1.2.0",
            "_view_name": "StyleView",
            "description_width": ""
          }
        },
        "228be1c67a574d65872ce8bc15b04483": {
          "model_module": "@jupyter-widgets/base",
          "model_name": "LayoutModel",
          "model_module_version": "1.2.0",
          "state": {
            "_model_module": "@jupyter-widgets/base",
            "_model_module_version": "1.2.0",
            "_model_name": "LayoutModel",
            "_view_count": null,
            "_view_module": "@jupyter-widgets/base",
            "_view_module_version": "1.2.0",
            "_view_name": "LayoutView",
            "align_content": null,
            "align_items": null,
            "align_self": null,
            "border": null,
            "bottom": null,
            "display": null,
            "flex": null,
            "flex_flow": null,
            "grid_area": null,
            "grid_auto_columns": null,
            "grid_auto_flow": null,
            "grid_auto_rows": null,
            "grid_column": null,
            "grid_gap": null,
            "grid_row": null,
            "grid_template_areas": null,
            "grid_template_columns": null,
            "grid_template_rows": null,
            "height": null,
            "justify_content": null,
            "justify_items": null,
            "left": null,
            "margin": null,
            "max_height": null,
            "max_width": null,
            "min_height": null,
            "min_width": null,
            "object_fit": null,
            "object_position": null,
            "order": null,
            "overflow": null,
            "overflow_x": null,
            "overflow_y": null,
            "padding": null,
            "right": null,
            "top": null,
            "visibility": null,
            "width": null
          }
        },
        "3571674221fc43cf8aaf5c319c7e4a92": {
          "model_module": "@jupyter-widgets/controls",
          "model_name": "DescriptionStyleModel",
          "model_module_version": "1.5.0",
          "state": {
            "_model_module": "@jupyter-widgets/controls",
            "_model_module_version": "1.5.0",
            "_model_name": "DescriptionStyleModel",
            "_view_count": null,
            "_view_module": "@jupyter-widgets/base",
            "_view_module_version": "1.2.0",
            "_view_name": "StyleView",
            "description_width": ""
          }
        },
        "02dfa5f74c7c4602ac914e6a10311fdf": {
          "model_module": "@jupyter-widgets/controls",
          "model_name": "HTMLModel",
          "model_module_version": "1.5.0",
          "state": {
            "_dom_classes": [],
            "_model_module": "@jupyter-widgets/controls",
            "_model_module_version": "1.5.0",
            "_model_name": "HTMLModel",
            "_view_count": null,
            "_view_module": "@jupyter-widgets/controls",
            "_view_module_version": "1.5.0",
            "_view_name": "HTMLView",
            "description": "",
            "description_tooltip": null,
            "layout": "IPY_MODEL_81bb6c98d03a4c86a29e3e460e177c6e",
            "placeholder": "​",
            "style": "IPY_MODEL_20091a98a43d4389baeb76120653cc2b",
            "value": "Downloading artifacts: 100%"
          }
        },
        "751f457f02e940fcbbe05b0e5fdd76a3": {
          "model_module": "@jupyter-widgets/controls",
          "model_name": "FloatProgressModel",
          "model_module_version": "1.5.0",
          "state": {
            "_dom_classes": [],
            "_model_module": "@jupyter-widgets/controls",
            "_model_module_version": "1.5.0",
            "_model_name": "FloatProgressModel",
            "_view_count": null,
            "_view_module": "@jupyter-widgets/controls",
            "_view_module_version": "1.5.0",
            "_view_name": "ProgressView",
            "bar_style": "success",
            "description": "",
            "description_tooltip": null,
            "layout": "IPY_MODEL_5e5af64d2df148d9ba93da64c6731252",
            "max": 1,
            "min": 0,
            "orientation": "horizontal",
            "style": "IPY_MODEL_641078d05df54885b8d8121266e3c94d",
            "value": 1
          }
        },
        "0eed398b9bee46499eec73b100fba3c9": {
          "model_module": "@jupyter-widgets/controls",
          "model_name": "HTMLModel",
          "model_module_version": "1.5.0",
          "state": {
            "_dom_classes": [],
            "_model_module": "@jupyter-widgets/controls",
            "_model_module_version": "1.5.0",
            "_model_name": "HTMLModel",
            "_view_count": null,
            "_view_module": "@jupyter-widgets/controls",
            "_view_module_version": "1.5.0",
            "_view_name": "HTMLView",
            "description": "",
            "description_tooltip": null,
            "layout": "IPY_MODEL_228be1c67a574d65872ce8bc15b04483",
            "placeholder": "​",
            "style": "IPY_MODEL_3571674221fc43cf8aaf5c319c7e4a92",
            "value": " 1/1 [00:02&lt;00:00,  2.30s/it]"
          }
        },
        "8d009ce0598b42cb850489433715d305": {
          "model_module": "@jupyter-widgets/base",
          "model_name": "LayoutModel",
          "model_module_version": "1.2.0",
          "state": {
            "_model_module": "@jupyter-widgets/base",
            "_model_module_version": "1.2.0",
            "_model_name": "LayoutModel",
            "_view_count": null,
            "_view_module": "@jupyter-widgets/base",
            "_view_module_version": "1.2.0",
            "_view_name": "LayoutView",
            "align_content": null,
            "align_items": null,
            "align_self": null,
            "border": null,
            "bottom": null,
            "display": null,
            "flex": null,
            "flex_flow": null,
            "grid_area": null,
            "grid_auto_columns": null,
            "grid_auto_flow": null,
            "grid_auto_rows": null,
            "grid_column": null,
            "grid_gap": null,
            "grid_row": null,
            "grid_template_areas": null,
            "grid_template_columns": null,
            "grid_template_rows": null,
            "height": null,
            "justify_content": null,
            "justify_items": null,
            "left": null,
            "margin": null,
            "max_height": null,
            "max_width": null,
            "min_height": null,
            "min_width": null,
            "object_fit": null,
            "object_position": null,
            "order": null,
            "overflow": null,
            "overflow_x": null,
            "overflow_y": null,
            "padding": null,
            "right": null,
            "top": null,
            "visibility": null,
            "width": null
          }
        },
        "0908cb3da0b84070880cf08a67c02fcc": {
          "model_module": "@jupyter-widgets/controls",
          "model_name": "HBoxModel",
          "model_module_version": "1.5.0",
          "state": {
            "_dom_classes": [],
            "_model_module": "@jupyter-widgets/controls",
            "_model_module_version": "1.5.0",
            "_model_name": "HBoxModel",
            "_view_count": null,
            "_view_module": "@jupyter-widgets/controls",
            "_view_module_version": "1.5.0",
            "_view_name": "HBoxView",
            "box_style": "",
            "children": [
              "IPY_MODEL_02dfa5f74c7c4602ac914e6a10311fdf",
              "IPY_MODEL_751f457f02e940fcbbe05b0e5fdd76a3",
              "IPY_MODEL_0eed398b9bee46499eec73b100fba3c9"
            ],
            "layout": "IPY_MODEL_8d009ce0598b42cb850489433715d305"
          }
        },
        "78349e0a912a4d24a01e56a82416cff1": {
          "model_module": "@jupyter-widgets/base",
          "model_name": "LayoutModel",
          "model_module_version": "1.2.0",
          "state": {
            "_model_module": "@jupyter-widgets/base",
            "_model_module_version": "1.2.0",
            "_model_name": "LayoutModel",
            "_view_count": null,
            "_view_module": "@jupyter-widgets/base",
            "_view_module_version": "1.2.0",
            "_view_name": "LayoutView",
            "align_content": null,
            "align_items": null,
            "align_self": null,
            "border": null,
            "bottom": null,
            "display": null,
            "flex": null,
            "flex_flow": null,
            "grid_area": null,
            "grid_auto_columns": null,
            "grid_auto_flow": null,
            "grid_auto_rows": null,
            "grid_column": null,
            "grid_gap": null,
            "grid_row": null,
            "grid_template_areas": null,
            "grid_template_columns": null,
            "grid_template_rows": null,
            "height": null,
            "justify_content": null,
            "justify_items": null,
            "left": null,
            "margin": null,
            "max_height": null,
            "max_width": null,
            "min_height": null,
            "min_width": null,
            "object_fit": null,
            "object_position": null,
            "order": null,
            "overflow": null,
            "overflow_x": null,
            "overflow_y": null,
            "padding": null,
            "right": null,
            "top": null,
            "visibility": null,
            "width": null
          }
        },
        "1382a909273c42228492952d34300446": {
          "model_module": "@jupyter-widgets/controls",
          "model_name": "ProgressStyleModel",
          "model_module_version": "1.5.0",
          "state": {
            "_model_module": "@jupyter-widgets/controls",
            "_model_module_version": "1.5.0",
            "_model_name": "ProgressStyleModel",
            "_view_count": null,
            "_view_module": "@jupyter-widgets/base",
            "_view_module_version": "1.2.0",
            "_view_name": "StyleView",
            "bar_color": null,
            "description_width": ""
          }
        },
        "4d680c4d8521482fa9dfb70f0583d3dd": {
          "model_module": "@jupyter-widgets/base",
          "model_name": "LayoutModel",
          "model_module_version": "1.2.0",
          "state": {
            "_model_module": "@jupyter-widgets/base",
            "_model_module_version": "1.2.0",
            "_model_name": "LayoutModel",
            "_view_count": null,
            "_view_module": "@jupyter-widgets/base",
            "_view_module_version": "1.2.0",
            "_view_name": "LayoutView",
            "align_content": null,
            "align_items": null,
            "align_self": null,
            "border": null,
            "bottom": null,
            "display": null,
            "flex": null,
            "flex_flow": null,
            "grid_area": null,
            "grid_auto_columns": null,
            "grid_auto_flow": null,
            "grid_auto_rows": null,
            "grid_column": null,
            "grid_gap": null,
            "grid_row": null,
            "grid_template_areas": null,
            "grid_template_columns": null,
            "grid_template_rows": null,
            "height": null,
            "justify_content": null,
            "justify_items": null,
            "left": null,
            "margin": null,
            "max_height": null,
            "max_width": null,
            "min_height": null,
            "min_width": null,
            "object_fit": null,
            "object_position": null,
            "order": null,
            "overflow": null,
            "overflow_x": null,
            "overflow_y": null,
            "padding": null,
            "right": null,
            "top": null,
            "visibility": null,
            "width": null
          }
        },
        "e08d40cf93984bbda5ab63291ca08489": {
          "model_module": "@jupyter-widgets/controls",
          "model_name": "DescriptionStyleModel",
          "model_module_version": "1.5.0",
          "state": {
            "_model_module": "@jupyter-widgets/controls",
            "_model_module_version": "1.5.0",
            "_model_name": "DescriptionStyleModel",
            "_view_count": null,
            "_view_module": "@jupyter-widgets/base",
            "_view_module_version": "1.2.0",
            "_view_name": "StyleView",
            "description_width": ""
          }
        },
        "7dccc8062c6845bdb25e55655bbd3e3a": {
          "model_module": "@jupyter-widgets/base",
          "model_name": "LayoutModel",
          "model_module_version": "1.2.0",
          "state": {
            "_model_module": "@jupyter-widgets/base",
            "_model_module_version": "1.2.0",
            "_model_name": "LayoutModel",
            "_view_count": null,
            "_view_module": "@jupyter-widgets/base",
            "_view_module_version": "1.2.0",
            "_view_name": "LayoutView",
            "align_content": null,
            "align_items": null,
            "align_self": null,
            "border": null,
            "bottom": null,
            "display": null,
            "flex": null,
            "flex_flow": null,
            "grid_area": null,
            "grid_auto_columns": null,
            "grid_auto_flow": null,
            "grid_auto_rows": null,
            "grid_column": null,
            "grid_gap": null,
            "grid_row": null,
            "grid_template_areas": null,
            "grid_template_columns": null,
            "grid_template_rows": null,
            "height": null,
            "justify_content": null,
            "justify_items": null,
            "left": null,
            "margin": null,
            "max_height": null,
            "max_width": null,
            "min_height": null,
            "min_width": null,
            "object_fit": null,
            "object_position": null,
            "order": null,
            "overflow": null,
            "overflow_x": null,
            "overflow_y": null,
            "padding": null,
            "right": null,
            "top": null,
            "visibility": null,
            "width": null
          }
        },
        "ad474b8a2fff41408f30c7222e660153": {
          "model_module": "@jupyter-widgets/controls",
          "model_name": "DescriptionStyleModel",
          "model_module_version": "1.5.0",
          "state": {
            "_model_module": "@jupyter-widgets/controls",
            "_model_module_version": "1.5.0",
            "_model_name": "DescriptionStyleModel",
            "_view_count": null,
            "_view_module": "@jupyter-widgets/base",
            "_view_module_version": "1.2.0",
            "_view_name": "StyleView",
            "description_width": ""
          }
        },
        "92468b56a1bc4a82998c01e968129b06": {
          "model_module": "@jupyter-widgets/controls",
          "model_name": "HTMLModel",
          "model_module_version": "1.5.0",
          "state": {
            "_dom_classes": [],
            "_model_module": "@jupyter-widgets/controls",
            "_model_module_version": "1.5.0",
            "_model_name": "HTMLModel",
            "_view_count": null,
            "_view_module": "@jupyter-widgets/controls",
            "_view_module_version": "1.5.0",
            "_view_name": "HTMLView",
            "description": "",
            "description_tooltip": null,
            "layout": "IPY_MODEL_4d680c4d8521482fa9dfb70f0583d3dd",
            "placeholder": "​",
            "style": "IPY_MODEL_e08d40cf93984bbda5ab63291ca08489",
            "value": "Loading checkpoint shards: 100%"
          }
        },
        "5414f296f4094865b222b2c191fdd8b3": {
          "model_module": "@jupyter-widgets/controls",
          "model_name": "FloatProgressModel",
          "model_module_version": "1.5.0",
          "state": {
            "_dom_classes": [],
            "_model_module": "@jupyter-widgets/controls",
            "_model_module_version": "1.5.0",
            "_model_name": "FloatProgressModel",
            "_view_count": null,
            "_view_module": "@jupyter-widgets/controls",
            "_view_module_version": "1.5.0",
            "_view_name": "ProgressView",
            "bar_style": "success",
            "description": "",
            "description_tooltip": null,
            "layout": "IPY_MODEL_78349e0a912a4d24a01e56a82416cff1",
            "max": 3,
            "min": 0,
            "orientation": "horizontal",
            "style": "IPY_MODEL_1382a909273c42228492952d34300446",
            "value": 3
          }
        },
        "e94c4dfec5b541928e6237dd41d156b3": {
          "model_module": "@jupyter-widgets/controls",
          "model_name": "HTMLModel",
          "model_module_version": "1.5.0",
          "state": {
            "_dom_classes": [],
            "_model_module": "@jupyter-widgets/controls",
            "_model_module_version": "1.5.0",
            "_model_name": "HTMLModel",
            "_view_count": null,
            "_view_module": "@jupyter-widgets/controls",
            "_view_module_version": "1.5.0",
            "_view_name": "HTMLView",
            "description": "",
            "description_tooltip": null,
            "layout": "IPY_MODEL_7dccc8062c6845bdb25e55655bbd3e3a",
            "placeholder": "​",
            "style": "IPY_MODEL_ad474b8a2fff41408f30c7222e660153",
            "value": " 3/3 [00:01&lt;00:00,  2.32it/s]"
          }
        },
        "faa0d5ed2a3d4a55b84c328c4bb9c2b4": {
          "model_module": "@jupyter-widgets/base",
          "model_name": "LayoutModel",
          "model_module_version": "1.2.0",
          "state": {
            "_model_module": "@jupyter-widgets/base",
            "_model_module_version": "1.2.0",
            "_model_name": "LayoutModel",
            "_view_count": null,
            "_view_module": "@jupyter-widgets/base",
            "_view_module_version": "1.2.0",
            "_view_name": "LayoutView",
            "align_content": null,
            "align_items": null,
            "align_self": null,
            "border": null,
            "bottom": null,
            "display": null,
            "flex": null,
            "flex_flow": null,
            "grid_area": null,
            "grid_auto_columns": null,
            "grid_auto_flow": null,
            "grid_auto_rows": null,
            "grid_column": null,
            "grid_gap": null,
            "grid_row": null,
            "grid_template_areas": null,
            "grid_template_columns": null,
            "grid_template_rows": null,
            "height": null,
            "justify_content": null,
            "justify_items": null,
            "left": null,
            "margin": null,
            "max_height": null,
            "max_width": null,
            "min_height": null,
            "min_width": null,
            "object_fit": null,
            "object_position": null,
            "order": null,
            "overflow": null,
            "overflow_x": null,
            "overflow_y": null,
            "padding": null,
            "right": null,
            "top": null,
            "visibility": null,
            "width": null
          }
        },
        "1eef1195264f474aaf57aeb0d37d60e4": {
          "model_module": "@jupyter-widgets/controls",
          "model_name": "HBoxModel",
          "model_module_version": "1.5.0",
          "state": {
            "_dom_classes": [],
            "_model_module": "@jupyter-widgets/controls",
            "_model_module_version": "1.5.0",
            "_model_name": "HBoxModel",
            "_view_count": null,
            "_view_module": "@jupyter-widgets/controls",
            "_view_module_version": "1.5.0",
            "_view_name": "HBoxView",
            "box_style": "",
            "children": [
              "IPY_MODEL_92468b56a1bc4a82998c01e968129b06",
              "IPY_MODEL_5414f296f4094865b222b2c191fdd8b3",
              "IPY_MODEL_e94c4dfec5b541928e6237dd41d156b3"
            ],
            "layout": "IPY_MODEL_faa0d5ed2a3d4a55b84c328c4bb9c2b4"
          }
        },
        "c99ada17e5444b689c8a3011a433ce6f": {
          "model_module": "@jupyter-widgets/controls",
          "model_name": "HBoxModel",
          "model_module_version": "1.5.0",
          "state": {
            "_dom_classes": [],
            "_model_module": "@jupyter-widgets/controls",
            "_model_module_version": "1.5.0",
            "_model_name": "HBoxModel",
            "_view_count": null,
            "_view_module": "@jupyter-widgets/controls",
            "_view_module_version": "1.5.0",
            "_view_name": "HBoxView",
            "box_style": "",
            "children": [
              "IPY_MODEL_daf5f14bd18349ffa0bad92e33ad23f4",
              "IPY_MODEL_77355c95d02145cf97b629f3de7aa305",
              "IPY_MODEL_42039f5a79be4d20896a5a85615c645f"
            ],
            "layout": "IPY_MODEL_1670df91b53446b7b6d37bf72f67a428"
          }
        },
        "daf5f14bd18349ffa0bad92e33ad23f4": {
          "model_module": "@jupyter-widgets/controls",
          "model_name": "HTMLModel",
          "model_module_version": "1.5.0",
          "state": {
            "_dom_classes": [],
            "_model_module": "@jupyter-widgets/controls",
            "_model_module_version": "1.5.0",
            "_model_name": "HTMLModel",
            "_view_count": null,
            "_view_module": "@jupyter-widgets/controls",
            "_view_module_version": "1.5.0",
            "_view_name": "HTMLView",
            "description": "",
            "description_tooltip": null,
            "layout": "IPY_MODEL_380e2b21cb564d74a22e783dda89a39e",
            "placeholder": "​",
            "style": "IPY_MODEL_b55e0d7db82b4e5a8bfaa03036f96286",
            "value": "Downloading artifacts: 100%"
          }
        },
        "77355c95d02145cf97b629f3de7aa305": {
          "model_module": "@jupyter-widgets/controls",
          "model_name": "FloatProgressModel",
          "model_module_version": "1.5.0",
          "state": {
            "_dom_classes": [],
            "_model_module": "@jupyter-widgets/controls",
            "_model_module_version": "1.5.0",
            "_model_name": "FloatProgressModel",
            "_view_count": null,
            "_view_module": "@jupyter-widgets/controls",
            "_view_module_version": "1.5.0",
            "_view_name": "ProgressView",
            "bar_style": "success",
            "description": "",
            "description_tooltip": null,
            "layout": "IPY_MODEL_01e32507adbc47e2bf8bb03da64a1be2",
            "max": 10,
            "min": 0,
            "orientation": "horizontal",
            "style": "IPY_MODEL_e0c6fec1d6264e53a255279d266a4c69",
            "value": 10
          }
        },
        "42039f5a79be4d20896a5a85615c645f": {
          "model_module": "@jupyter-widgets/controls",
          "model_name": "HTMLModel",
          "model_module_version": "1.5.0",
          "state": {
            "_dom_classes": [],
            "_model_module": "@jupyter-widgets/controls",
            "_model_module_version": "1.5.0",
            "_model_name": "HTMLModel",
            "_view_count": null,
            "_view_module": "@jupyter-widgets/controls",
            "_view_module_version": "1.5.0",
            "_view_name": "HTMLView",
            "description": "",
            "description_tooltip": null,
            "layout": "IPY_MODEL_cabdb6c2a62548dfb95ae380a718243c",
            "placeholder": "​",
            "style": "IPY_MODEL_fe62f1e97ac24063b7807645de3bf3a2",
            "value": " 10/10 [00:36&lt;00:00,  5.07s/it]"
          }
        },
        "1670df91b53446b7b6d37bf72f67a428": {
          "model_module": "@jupyter-widgets/base",
          "model_name": "LayoutModel",
          "model_module_version": "1.2.0",
          "state": {
            "_model_module": "@jupyter-widgets/base",
            "_model_module_version": "1.2.0",
            "_model_name": "LayoutModel",
            "_view_count": null,
            "_view_module": "@jupyter-widgets/base",
            "_view_module_version": "1.2.0",
            "_view_name": "LayoutView",
            "align_content": null,
            "align_items": null,
            "align_self": null,
            "border": null,
            "bottom": null,
            "display": null,
            "flex": null,
            "flex_flow": null,
            "grid_area": null,
            "grid_auto_columns": null,
            "grid_auto_flow": null,
            "grid_auto_rows": null,
            "grid_column": null,
            "grid_gap": null,
            "grid_row": null,
            "grid_template_areas": null,
            "grid_template_columns": null,
            "grid_template_rows": null,
            "height": null,
            "justify_content": null,
            "justify_items": null,
            "left": null,
            "margin": null,
            "max_height": null,
            "max_width": null,
            "min_height": null,
            "min_width": null,
            "object_fit": null,
            "object_position": null,
            "order": null,
            "overflow": null,
            "overflow_x": null,
            "overflow_y": null,
            "padding": null,
            "right": null,
            "top": null,
            "visibility": null,
            "width": null
          }
        },
        "380e2b21cb564d74a22e783dda89a39e": {
          "model_module": "@jupyter-widgets/base",
          "model_name": "LayoutModel",
          "model_module_version": "1.2.0",
          "state": {
            "_model_module": "@jupyter-widgets/base",
            "_model_module_version": "1.2.0",
            "_model_name": "LayoutModel",
            "_view_count": null,
            "_view_module": "@jupyter-widgets/base",
            "_view_module_version": "1.2.0",
            "_view_name": "LayoutView",
            "align_content": null,
            "align_items": null,
            "align_self": null,
            "border": null,
            "bottom": null,
            "display": null,
            "flex": null,
            "flex_flow": null,
            "grid_area": null,
            "grid_auto_columns": null,
            "grid_auto_flow": null,
            "grid_auto_rows": null,
            "grid_column": null,
            "grid_gap": null,
            "grid_row": null,
            "grid_template_areas": null,
            "grid_template_columns": null,
            "grid_template_rows": null,
            "height": null,
            "justify_content": null,
            "justify_items": null,
            "left": null,
            "margin": null,
            "max_height": null,
            "max_width": null,
            "min_height": null,
            "min_width": null,
            "object_fit": null,
            "object_position": null,
            "order": null,
            "overflow": null,
            "overflow_x": null,
            "overflow_y": null,
            "padding": null,
            "right": null,
            "top": null,
            "visibility": null,
            "width": null
          }
        },
        "b55e0d7db82b4e5a8bfaa03036f96286": {
          "model_module": "@jupyter-widgets/controls",
          "model_name": "DescriptionStyleModel",
          "model_module_version": "1.5.0",
          "state": {
            "_model_module": "@jupyter-widgets/controls",
            "_model_module_version": "1.5.0",
            "_model_name": "DescriptionStyleModel",
            "_view_count": null,
            "_view_module": "@jupyter-widgets/base",
            "_view_module_version": "1.2.0",
            "_view_name": "StyleView",
            "description_width": ""
          }
        },
        "01e32507adbc47e2bf8bb03da64a1be2": {
          "model_module": "@jupyter-widgets/base",
          "model_name": "LayoutModel",
          "model_module_version": "1.2.0",
          "state": {
            "_model_module": "@jupyter-widgets/base",
            "_model_module_version": "1.2.0",
            "_model_name": "LayoutModel",
            "_view_count": null,
            "_view_module": "@jupyter-widgets/base",
            "_view_module_version": "1.2.0",
            "_view_name": "LayoutView",
            "align_content": null,
            "align_items": null,
            "align_self": null,
            "border": null,
            "bottom": null,
            "display": null,
            "flex": null,
            "flex_flow": null,
            "grid_area": null,
            "grid_auto_columns": null,
            "grid_auto_flow": null,
            "grid_auto_rows": null,
            "grid_column": null,
            "grid_gap": null,
            "grid_row": null,
            "grid_template_areas": null,
            "grid_template_columns": null,
            "grid_template_rows": null,
            "height": null,
            "justify_content": null,
            "justify_items": null,
            "left": null,
            "margin": null,
            "max_height": null,
            "max_width": null,
            "min_height": null,
            "min_width": null,
            "object_fit": null,
            "object_position": null,
            "order": null,
            "overflow": null,
            "overflow_x": null,
            "overflow_y": null,
            "padding": null,
            "right": null,
            "top": null,
            "visibility": null,
            "width": null
          }
        },
        "e0c6fec1d6264e53a255279d266a4c69": {
          "model_module": "@jupyter-widgets/controls",
          "model_name": "ProgressStyleModel",
          "model_module_version": "1.5.0",
          "state": {
            "_model_module": "@jupyter-widgets/controls",
            "_model_module_version": "1.5.0",
            "_model_name": "ProgressStyleModel",
            "_view_count": null,
            "_view_module": "@jupyter-widgets/base",
            "_view_module_version": "1.2.0",
            "_view_name": "StyleView",
            "bar_color": null,
            "description_width": ""
          }
        },
        "cabdb6c2a62548dfb95ae380a718243c": {
          "model_module": "@jupyter-widgets/base",
          "model_name": "LayoutModel",
          "model_module_version": "1.2.0",
          "state": {
            "_model_module": "@jupyter-widgets/base",
            "_model_module_version": "1.2.0",
            "_model_name": "LayoutModel",
            "_view_count": null,
            "_view_module": "@jupyter-widgets/base",
            "_view_module_version": "1.2.0",
            "_view_name": "LayoutView",
            "align_content": null,
            "align_items": null,
            "align_self": null,
            "border": null,
            "bottom": null,
            "display": null,
            "flex": null,
            "flex_flow": null,
            "grid_area": null,
            "grid_auto_columns": null,
            "grid_auto_flow": null,
            "grid_auto_rows": null,
            "grid_column": null,
            "grid_gap": null,
            "grid_row": null,
            "grid_template_areas": null,
            "grid_template_columns": null,
            "grid_template_rows": null,
            "height": null,
            "justify_content": null,
            "justify_items": null,
            "left": null,
            "margin": null,
            "max_height": null,
            "max_width": null,
            "min_height": null,
            "min_width": null,
            "object_fit": null,
            "object_position": null,
            "order": null,
            "overflow": null,
            "overflow_x": null,
            "overflow_y": null,
            "padding": null,
            "right": null,
            "top": null,
            "visibility": null,
            "width": null
          }
        },
        "fe62f1e97ac24063b7807645de3bf3a2": {
          "model_module": "@jupyter-widgets/controls",
          "model_name": "DescriptionStyleModel",
          "model_module_version": "1.5.0",
          "state": {
            "_model_module": "@jupyter-widgets/controls",
            "_model_module_version": "1.5.0",
            "_model_name": "DescriptionStyleModel",
            "_view_count": null,
            "_view_module": "@jupyter-widgets/base",
            "_view_module_version": "1.2.0",
            "_view_name": "StyleView",
            "description_width": ""
          }
        },
        "2864c21eb5c44554a1be7d5e626aaa3b": {
          "model_module": "@jupyter-widgets/base",
          "model_name": "LayoutModel",
          "model_module_version": "1.2.0",
          "state": {
            "_model_module": "@jupyter-widgets/base",
            "_model_module_version": "1.2.0",
            "_model_name": "LayoutModel",
            "_view_count": null,
            "_view_module": "@jupyter-widgets/base",
            "_view_module_version": "1.2.0",
            "_view_name": "LayoutView",
            "align_content": null,
            "align_items": null,
            "align_self": null,
            "border": null,
            "bottom": null,
            "display": null,
            "flex": null,
            "flex_flow": null,
            "grid_area": null,
            "grid_auto_columns": null,
            "grid_auto_flow": null,
            "grid_auto_rows": null,
            "grid_column": null,
            "grid_gap": null,
            "grid_row": null,
            "grid_template_areas": null,
            "grid_template_columns": null,
            "grid_template_rows": null,
            "height": null,
            "justify_content": null,
            "justify_items": null,
            "left": null,
            "margin": null,
            "max_height": null,
            "max_width": null,
            "min_height": null,
            "min_width": null,
            "object_fit": null,
            "object_position": null,
            "order": null,
            "overflow": null,
            "overflow_x": null,
            "overflow_y": null,
            "padding": null,
            "right": null,
            "top": null,
            "visibility": null,
            "width": null
          }
        },
        "178fb4c871ca42aeb9eba22d623eeabc": {
          "model_module": "@jupyter-widgets/controls",
          "model_name": "ProgressStyleModel",
          "model_module_version": "1.5.0",
          "state": {
            "_model_module": "@jupyter-widgets/controls",
            "_model_module_version": "1.5.0",
            "_model_name": "ProgressStyleModel",
            "_view_count": null,
            "_view_module": "@jupyter-widgets/base",
            "_view_module_version": "1.2.0",
            "_view_name": "StyleView",
            "bar_color": null,
            "description_width": ""
          }
        },
        "780c06c257fb493381b86977279bea9f": {
          "model_module": "@jupyter-widgets/base",
          "model_name": "LayoutModel",
          "model_module_version": "1.2.0",
          "state": {
            "_model_module": "@jupyter-widgets/base",
            "_model_module_version": "1.2.0",
            "_model_name": "LayoutModel",
            "_view_count": null,
            "_view_module": "@jupyter-widgets/base",
            "_view_module_version": "1.2.0",
            "_view_name": "LayoutView",
            "align_content": null,
            "align_items": null,
            "align_self": null,
            "border": null,
            "bottom": null,
            "display": null,
            "flex": null,
            "flex_flow": null,
            "grid_area": null,
            "grid_auto_columns": null,
            "grid_auto_flow": null,
            "grid_auto_rows": null,
            "grid_column": null,
            "grid_gap": null,
            "grid_row": null,
            "grid_template_areas": null,
            "grid_template_columns": null,
            "grid_template_rows": null,
            "height": null,
            "justify_content": null,
            "justify_items": null,
            "left": null,
            "margin": null,
            "max_height": null,
            "max_width": null,
            "min_height": null,
            "min_width": null,
            "object_fit": null,
            "object_position": null,
            "order": null,
            "overflow": null,
            "overflow_x": null,
            "overflow_y": null,
            "padding": null,
            "right": null,
            "top": null,
            "visibility": null,
            "width": null
          }
        },
        "58704dcbed8344a283bc06b8e0718c82": {
          "model_module": "@jupyter-widgets/controls",
          "model_name": "DescriptionStyleModel",
          "model_module_version": "1.5.0",
          "state": {
            "_model_module": "@jupyter-widgets/controls",
            "_model_module_version": "1.5.0",
            "_model_name": "DescriptionStyleModel",
            "_view_count": null,
            "_view_module": "@jupyter-widgets/base",
            "_view_module_version": "1.2.0",
            "_view_name": "StyleView",
            "description_width": ""
          }
        },
        "d8245c21aa4d4e5dab34e7722a682abb": {
          "model_module": "@jupyter-widgets/base",
          "model_name": "LayoutModel",
          "model_module_version": "1.2.0",
          "state": {
            "_model_module": "@jupyter-widgets/base",
            "_model_module_version": "1.2.0",
            "_model_name": "LayoutModel",
            "_view_count": null,
            "_view_module": "@jupyter-widgets/base",
            "_view_module_version": "1.2.0",
            "_view_name": "LayoutView",
            "align_content": null,
            "align_items": null,
            "align_self": null,
            "border": null,
            "bottom": null,
            "display": null,
            "flex": null,
            "flex_flow": null,
            "grid_area": null,
            "grid_auto_columns": null,
            "grid_auto_flow": null,
            "grid_auto_rows": null,
            "grid_column": null,
            "grid_gap": null,
            "grid_row": null,
            "grid_template_areas": null,
            "grid_template_columns": null,
            "grid_template_rows": null,
            "height": null,
            "justify_content": null,
            "justify_items": null,
            "left": null,
            "margin": null,
            "max_height": null,
            "max_width": null,
            "min_height": null,
            "min_width": null,
            "object_fit": null,
            "object_position": null,
            "order": null,
            "overflow": null,
            "overflow_x": null,
            "overflow_y": null,
            "padding": null,
            "right": null,
            "top": null,
            "visibility": null,
            "width": null
          }
        },
        "3f55bb9fce95430bb8e272c48db3f32a": {
          "model_module": "@jupyter-widgets/controls",
          "model_name": "DescriptionStyleModel",
          "model_module_version": "1.5.0",
          "state": {
            "_model_module": "@jupyter-widgets/controls",
            "_model_module_version": "1.5.0",
            "_model_name": "DescriptionStyleModel",
            "_view_count": null,
            "_view_module": "@jupyter-widgets/base",
            "_view_module_version": "1.2.0",
            "_view_name": "StyleView",
            "description_width": ""
          }
        },
        "3f5d1c461461480f9d03f81c2775cbc8": {
          "model_module": "@jupyter-widgets/controls",
          "model_name": "HTMLModel",
          "model_module_version": "1.5.0",
          "state": {
            "_dom_classes": [],
            "_model_module": "@jupyter-widgets/controls",
            "_model_module_version": "1.5.0",
            "_model_name": "HTMLModel",
            "_view_count": null,
            "_view_module": "@jupyter-widgets/controls",
            "_view_module_version": "1.5.0",
            "_view_name": "HTMLView",
            "description": "",
            "description_tooltip": null,
            "layout": "IPY_MODEL_780c06c257fb493381b86977279bea9f",
            "placeholder": "​",
            "style": "IPY_MODEL_58704dcbed8344a283bc06b8e0718c82",
            "value": "Uploading artifacts: 100%"
          }
        },
        "190dc022bd644968857944724a68090d": {
          "model_module": "@jupyter-widgets/controls",
          "model_name": "FloatProgressModel",
          "model_module_version": "1.5.0",
          "state": {
            "_dom_classes": [],
            "_model_module": "@jupyter-widgets/controls",
            "_model_module_version": "1.5.0",
            "_model_name": "FloatProgressModel",
            "_view_count": null,
            "_view_module": "@jupyter-widgets/controls",
            "_view_module_version": "1.5.0",
            "_view_name": "ProgressView",
            "bar_style": "success",
            "description": "",
            "description_tooltip": null,
            "layout": "IPY_MODEL_2864c21eb5c44554a1be7d5e626aaa3b",
            "max": 17,
            "min": 0,
            "orientation": "horizontal",
            "style": "IPY_MODEL_178fb4c871ca42aeb9eba22d623eeabc",
            "value": 17
          }
        },
        "b4222e84f2b246cdac8819e1b0d8c0f6": {
          "model_module": "@jupyter-widgets/controls",
          "model_name": "HTMLModel",
          "model_module_version": "1.5.0",
          "state": {
            "_dom_classes": [],
            "_model_module": "@jupyter-widgets/controls",
            "_model_module_version": "1.5.0",
            "_model_name": "HTMLModel",
            "_view_count": null,
            "_view_module": "@jupyter-widgets/controls",
            "_view_module_version": "1.5.0",
            "_view_name": "HTMLView",
            "description": "",
            "description_tooltip": null,
            "layout": "IPY_MODEL_d8245c21aa4d4e5dab34e7722a682abb",
            "placeholder": "​",
            "style": "IPY_MODEL_3f55bb9fce95430bb8e272c48db3f32a",
            "value": " 17/17 [01:19&lt;00:00,  5.67s/it]"
          }
        },
        "23dfeb7f32864f55825979c0eed485ad": {
          "model_module": "@jupyter-widgets/base",
          "model_name": "LayoutModel",
          "model_module_version": "1.2.0",
          "state": {
            "_model_module": "@jupyter-widgets/base",
            "_model_module_version": "1.2.0",
            "_model_name": "LayoutModel",
            "_view_count": null,
            "_view_module": "@jupyter-widgets/base",
            "_view_module_version": "1.2.0",
            "_view_name": "LayoutView",
            "align_content": null,
            "align_items": null,
            "align_self": null,
            "border": null,
            "bottom": null,
            "display": null,
            "flex": null,
            "flex_flow": null,
            "grid_area": null,
            "grid_auto_columns": null,
            "grid_auto_flow": null,
            "grid_auto_rows": null,
            "grid_column": null,
            "grid_gap": null,
            "grid_row": null,
            "grid_template_areas": null,
            "grid_template_columns": null,
            "grid_template_rows": null,
            "height": null,
            "justify_content": null,
            "justify_items": null,
            "left": null,
            "margin": null,
            "max_height": null,
            "max_width": null,
            "min_height": null,
            "min_width": null,
            "object_fit": null,
            "object_position": null,
            "order": null,
            "overflow": null,
            "overflow_x": null,
            "overflow_y": null,
            "padding": null,
            "right": null,
            "top": null,
            "visibility": null,
            "width": null
          }
        },
        "6fe41e8c739642a183513250b5de9b86": {
          "model_module": "@jupyter-widgets/controls",
          "model_name": "HBoxModel",
          "model_module_version": "1.5.0",
          "state": {
            "_dom_classes": [],
            "_model_module": "@jupyter-widgets/controls",
            "_model_module_version": "1.5.0",
            "_model_name": "HBoxModel",
            "_view_count": null,
            "_view_module": "@jupyter-widgets/controls",
            "_view_module_version": "1.5.0",
            "_view_name": "HBoxView",
            "box_style": "",
            "children": [
              "IPY_MODEL_3f5d1c461461480f9d03f81c2775cbc8",
              "IPY_MODEL_190dc022bd644968857944724a68090d",
              "IPY_MODEL_b4222e84f2b246cdac8819e1b0d8c0f6"
            ],
            "layout": "IPY_MODEL_23dfeb7f32864f55825979c0eed485ad"
          }
        },
        "7fea4cb525e84185ac6d88977f24e7ec": {
          "model_module": "@jupyter-widgets/base",
          "model_name": "LayoutModel",
          "model_module_version": "1.2.0",
          "state": {
            "_model_module": "@jupyter-widgets/base",
            "_model_module_version": "1.2.0",
            "_model_name": "LayoutModel",
            "_view_count": null,
            "_view_module": "@jupyter-widgets/base",
            "_view_module_version": "1.2.0",
            "_view_name": "LayoutView",
            "align_content": null,
            "align_items": null,
            "align_self": null,
            "border": null,
            "bottom": null,
            "display": null,
            "flex": null,
            "flex_flow": null,
            "grid_area": null,
            "grid_auto_columns": null,
            "grid_auto_flow": null,
            "grid_auto_rows": null,
            "grid_column": null,
            "grid_gap": null,
            "grid_row": null,
            "grid_template_areas": null,
            "grid_template_columns": null,
            "grid_template_rows": null,
            "height": null,
            "justify_content": null,
            "justify_items": null,
            "left": null,
            "margin": null,
            "max_height": null,
            "max_width": null,
            "min_height": null,
            "min_width": null,
            "object_fit": null,
            "object_position": null,
            "order": null,
            "overflow": null,
            "overflow_x": null,
            "overflow_y": null,
            "padding": null,
            "right": null,
            "top": null,
            "visibility": null,
            "width": null
          }
        },
        "6198699c890544b898c8cf12fcade717": {
          "model_module": "@jupyter-widgets/controls",
          "model_name": "ProgressStyleModel",
          "model_module_version": "1.5.0",
          "state": {
            "_model_module": "@jupyter-widgets/controls",
            "_model_module_version": "1.5.0",
            "_model_name": "ProgressStyleModel",
            "_view_count": null,
            "_view_module": "@jupyter-widgets/base",
            "_view_module_version": "1.2.0",
            "_view_name": "StyleView",
            "bar_color": null,
            "description_width": ""
          }
        },
        "1418f36bb1e34a11a043e9fb41f8aff5": {
          "model_module": "@jupyter-widgets/base",
          "model_name": "LayoutModel",
          "model_module_version": "1.2.0",
          "state": {
            "_model_module": "@jupyter-widgets/base",
            "_model_module_version": "1.2.0",
            "_model_name": "LayoutModel",
            "_view_count": null,
            "_view_module": "@jupyter-widgets/base",
            "_view_module_version": "1.2.0",
            "_view_name": "LayoutView",
            "align_content": null,
            "align_items": null,
            "align_self": null,
            "border": null,
            "bottom": null,
            "display": null,
            "flex": null,
            "flex_flow": null,
            "grid_area": null,
            "grid_auto_columns": null,
            "grid_auto_flow": null,
            "grid_auto_rows": null,
            "grid_column": null,
            "grid_gap": null,
            "grid_row": null,
            "grid_template_areas": null,
            "grid_template_columns": null,
            "grid_template_rows": null,
            "height": null,
            "justify_content": null,
            "justify_items": null,
            "left": null,
            "margin": null,
            "max_height": null,
            "max_width": null,
            "min_height": null,
            "min_width": null,
            "object_fit": null,
            "object_position": null,
            "order": null,
            "overflow": null,
            "overflow_x": null,
            "overflow_y": null,
            "padding": null,
            "right": null,
            "top": null,
            "visibility": null,
            "width": null
          }
        },
        "6eb36dbb3e6b40d4b1ac9f9c98563c60": {
          "model_module": "@jupyter-widgets/controls",
          "model_name": "DescriptionStyleModel",
          "model_module_version": "1.5.0",
          "state": {
            "_model_module": "@jupyter-widgets/controls",
            "_model_module_version": "1.5.0",
            "_model_name": "DescriptionStyleModel",
            "_view_count": null,
            "_view_module": "@jupyter-widgets/base",
            "_view_module_version": "1.2.0",
            "_view_name": "StyleView",
            "description_width": ""
          }
        },
        "82c56764a76343b99c6c136034d9c9f0": {
          "model_module": "@jupyter-widgets/base",
          "model_name": "LayoutModel",
          "model_module_version": "1.2.0",
          "state": {
            "_model_module": "@jupyter-widgets/base",
            "_model_module_version": "1.2.0",
            "_model_name": "LayoutModel",
            "_view_count": null,
            "_view_module": "@jupyter-widgets/base",
            "_view_module_version": "1.2.0",
            "_view_name": "LayoutView",
            "align_content": null,
            "align_items": null,
            "align_self": null,
            "border": null,
            "bottom": null,
            "display": null,
            "flex": null,
            "flex_flow": null,
            "grid_area": null,
            "grid_auto_columns": null,
            "grid_auto_flow": null,
            "grid_auto_rows": null,
            "grid_column": null,
            "grid_gap": null,
            "grid_row": null,
            "grid_template_areas": null,
            "grid_template_columns": null,
            "grid_template_rows": null,
            "height": null,
            "justify_content": null,
            "justify_items": null,
            "left": null,
            "margin": null,
            "max_height": null,
            "max_width": null,
            "min_height": null,
            "min_width": null,
            "object_fit": null,
            "object_position": null,
            "order": null,
            "overflow": null,
            "overflow_x": null,
            "overflow_y": null,
            "padding": null,
            "right": null,
            "top": null,
            "visibility": null,
            "width": null
          }
        },
        "9ae51777f21840e9ae528d98483737d8": {
          "model_module": "@jupyter-widgets/controls",
          "model_name": "DescriptionStyleModel",
          "model_module_version": "1.5.0",
          "state": {
            "_model_module": "@jupyter-widgets/controls",
            "_model_module_version": "1.5.0",
            "_model_name": "DescriptionStyleModel",
            "_view_count": null,
            "_view_module": "@jupyter-widgets/base",
            "_view_module_version": "1.2.0",
            "_view_name": "StyleView",
            "description_width": ""
          }
        },
        "da408fbd458d49ca93b1d55615b2ec16": {
          "model_module": "@jupyter-widgets/controls",
          "model_name": "HTMLModel",
          "model_module_version": "1.5.0",
          "state": {
            "_dom_classes": [],
            "_model_module": "@jupyter-widgets/controls",
            "_model_module_version": "1.5.0",
            "_model_name": "HTMLModel",
            "_view_count": null,
            "_view_module": "@jupyter-widgets/controls",
            "_view_module_version": "1.5.0",
            "_view_name": "HTMLView",
            "description": "",
            "description_tooltip": null,
            "layout": "IPY_MODEL_1418f36bb1e34a11a043e9fb41f8aff5",
            "placeholder": "​",
            "style": "IPY_MODEL_6eb36dbb3e6b40d4b1ac9f9c98563c60",
            "value": "Uploading /tmp/tmphuhscxm7/model/artifacts/t5_onnx/decoder_with_past_model.onnx: 100%"
          }
        },
        "73c888a1b49741c5aebd933013cc73dc": {
          "model_module": "@jupyter-widgets/controls",
          "model_name": "FloatProgressModel",
          "model_module_version": "1.5.0",
          "state": {
            "_dom_classes": [],
            "_model_module": "@jupyter-widgets/controls",
            "_model_module_version": "1.5.0",
            "_model_name": "FloatProgressModel",
            "_view_count": null,
            "_view_module": "@jupyter-widgets/controls",
            "_view_module_version": "1.5.0",
            "_view_name": "ProgressView",
            "bar_style": "success",
            "description": "",
            "description_tooltip": null,
            "layout": "IPY_MODEL_7fea4cb525e84185ac6d88977f24e7ec",
            "max": 1541757381,
            "min": 0,
            "orientation": "horizontal",
            "style": "IPY_MODEL_6198699c890544b898c8cf12fcade717",
            "value": 1541757381
          }
        },
        "b97351a38d304520a9546a627d9a993e": {
          "model_module": "@jupyter-widgets/controls",
          "model_name": "HTMLModel",
          "model_module_version": "1.5.0",
          "state": {
            "_dom_classes": [],
            "_model_module": "@jupyter-widgets/controls",
            "_model_module_version": "1.5.0",
            "_model_name": "HTMLModel",
            "_view_count": null,
            "_view_module": "@jupyter-widgets/controls",
            "_view_module_version": "1.5.0",
            "_view_name": "HTMLView",
            "description": "",
            "description_tooltip": null,
            "layout": "IPY_MODEL_82c56764a76343b99c6c136034d9c9f0",
            "placeholder": "​",
            "style": "IPY_MODEL_9ae51777f21840e9ae528d98483737d8",
            "value": " 1.44G/1.44G [01:00&lt;00:00, 9.16MiB/s]"
          }
        },
        "7c3df9cf0a6c4921afe93fed7abcdcf5": {
          "model_module": "@jupyter-widgets/base",
          "model_name": "LayoutModel",
          "model_module_version": "1.2.0",
          "state": {
            "_model_module": "@jupyter-widgets/base",
            "_model_module_version": "1.2.0",
            "_model_name": "LayoutModel",
            "_view_count": null,
            "_view_module": "@jupyter-widgets/base",
            "_view_module_version": "1.2.0",
            "_view_name": "LayoutView",
            "align_content": null,
            "align_items": null,
            "align_self": null,
            "border": null,
            "bottom": null,
            "display": null,
            "flex": null,
            "flex_flow": null,
            "grid_area": null,
            "grid_auto_columns": null,
            "grid_auto_flow": null,
            "grid_auto_rows": null,
            "grid_column": null,
            "grid_gap": null,
            "grid_row": null,
            "grid_template_areas": null,
            "grid_template_columns": null,
            "grid_template_rows": null,
            "height": null,
            "justify_content": null,
            "justify_items": null,
            "left": null,
            "margin": null,
            "max_height": null,
            "max_width": null,
            "min_height": null,
            "min_width": null,
            "object_fit": null,
            "object_position": null,
            "order": null,
            "overflow": null,
            "overflow_x": null,
            "overflow_y": null,
            "padding": null,
            "right": null,
            "top": null,
            "visibility": null,
            "width": null
          }
        },
        "bf5917bdad714f19aefa0557805d07d1": {
          "model_module": "@jupyter-widgets/base",
          "model_name": "LayoutModel",
          "model_module_version": "1.2.0",
          "state": {
            "_model_module": "@jupyter-widgets/base",
            "_model_module_version": "1.2.0",
            "_model_name": "LayoutModel",
            "_view_count": null,
            "_view_module": "@jupyter-widgets/base",
            "_view_module_version": "1.2.0",
            "_view_name": "LayoutView",
            "align_content": null,
            "align_items": null,
            "align_self": null,
            "border": null,
            "bottom": null,
            "display": null,
            "flex": null,
            "flex_flow": null,
            "grid_area": null,
            "grid_auto_columns": null,
            "grid_auto_flow": null,
            "grid_auto_rows": null,
            "grid_column": null,
            "grid_gap": null,
            "grid_row": null,
            "grid_template_areas": null,
            "grid_template_columns": null,
            "grid_template_rows": null,
            "height": null,
            "justify_content": null,
            "justify_items": null,
            "left": null,
            "margin": null,
            "max_height": null,
            "max_width": null,
            "min_height": null,
            "min_width": null,
            "object_fit": null,
            "object_position": null,
            "order": null,
            "overflow": null,
            "overflow_x": null,
            "overflow_y": null,
            "padding": null,
            "right": null,
            "top": null,
            "visibility": null,
            "width": null
          }
        },
        "39e1e317c15b416bba71cc4615268934": {
          "model_module": "@jupyter-widgets/controls",
          "model_name": "ProgressStyleModel",
          "model_module_version": "1.5.0",
          "state": {
            "_model_module": "@jupyter-widgets/controls",
            "_model_module_version": "1.5.0",
            "_model_name": "ProgressStyleModel",
            "_view_count": null,
            "_view_module": "@jupyter-widgets/base",
            "_view_module_version": "1.2.0",
            "_view_name": "StyleView",
            "bar_color": null,
            "description_width": ""
          }
        },
        "cddbe8fcecf843c39e0476a5cb5fdf28": {
          "model_module": "@jupyter-widgets/base",
          "model_name": "LayoutModel",
          "model_module_version": "1.2.0",
          "state": {
            "_model_module": "@jupyter-widgets/base",
            "_model_module_version": "1.2.0",
            "_model_name": "LayoutModel",
            "_view_count": null,
            "_view_module": "@jupyter-widgets/base",
            "_view_module_version": "1.2.0",
            "_view_name": "LayoutView",
            "align_content": null,
            "align_items": null,
            "align_self": null,
            "border": null,
            "bottom": null,
            "display": null,
            "flex": null,
            "flex_flow": null,
            "grid_area": null,
            "grid_auto_columns": null,
            "grid_auto_flow": null,
            "grid_auto_rows": null,
            "grid_column": null,
            "grid_gap": null,
            "grid_row": null,
            "grid_template_areas": null,
            "grid_template_columns": null,
            "grid_template_rows": null,
            "height": null,
            "justify_content": null,
            "justify_items": null,
            "left": null,
            "margin": null,
            "max_height": null,
            "max_width": null,
            "min_height": null,
            "min_width": null,
            "object_fit": null,
            "object_position": null,
            "order": null,
            "overflow": null,
            "overflow_x": null,
            "overflow_y": null,
            "padding": null,
            "right": null,
            "top": null,
            "visibility": null,
            "width": null
          }
        },
        "de09545d89814871beda8845a8f4099e": {
          "model_module": "@jupyter-widgets/controls",
          "model_name": "DescriptionStyleModel",
          "model_module_version": "1.5.0",
          "state": {
            "_model_module": "@jupyter-widgets/controls",
            "_model_module_version": "1.5.0",
            "_model_name": "DescriptionStyleModel",
            "_view_count": null,
            "_view_module": "@jupyter-widgets/base",
            "_view_module_version": "1.2.0",
            "_view_name": "StyleView",
            "description_width": ""
          }
        },
        "a1b059cff16e4e47af6b42e0eb7894cd": {
          "model_module": "@jupyter-widgets/base",
          "model_name": "LayoutModel",
          "model_module_version": "1.2.0",
          "state": {
            "_model_module": "@jupyter-widgets/base",
            "_model_module_version": "1.2.0",
            "_model_name": "LayoutModel",
            "_view_count": null,
            "_view_module": "@jupyter-widgets/base",
            "_view_module_version": "1.2.0",
            "_view_name": "LayoutView",
            "align_content": null,
            "align_items": null,
            "align_self": null,
            "border": null,
            "bottom": null,
            "display": null,
            "flex": null,
            "flex_flow": null,
            "grid_area": null,
            "grid_auto_columns": null,
            "grid_auto_flow": null,
            "grid_auto_rows": null,
            "grid_column": null,
            "grid_gap": null,
            "grid_row": null,
            "grid_template_areas": null,
            "grid_template_columns": null,
            "grid_template_rows": null,
            "height": null,
            "justify_content": null,
            "justify_items": null,
            "left": null,
            "margin": null,
            "max_height": null,
            "max_width": null,
            "min_height": null,
            "min_width": null,
            "object_fit": null,
            "object_position": null,
            "order": null,
            "overflow": null,
            "overflow_x": null,
            "overflow_y": null,
            "padding": null,
            "right": null,
            "top": null,
            "visibility": null,
            "width": null
          }
        },
        "9d3270ec4f82487bb4d43d64c72001ca": {
          "model_module": "@jupyter-widgets/controls",
          "model_name": "DescriptionStyleModel",
          "model_module_version": "1.5.0",
          "state": {
            "_model_module": "@jupyter-widgets/controls",
            "_model_module_version": "1.5.0",
            "_model_name": "DescriptionStyleModel",
            "_view_count": null,
            "_view_module": "@jupyter-widgets/base",
            "_view_module_version": "1.2.0",
            "_view_name": "StyleView",
            "description_width": ""
          }
        },
        "7d7bcd3a4c9a4df1b5ec539bca73ddd3": {
          "model_module": "@jupyter-widgets/controls",
          "model_name": "HTMLModel",
          "model_module_version": "1.5.0",
          "state": {
            "_dom_classes": [],
            "_model_module": "@jupyter-widgets/controls",
            "_model_module_version": "1.5.0",
            "_model_name": "HTMLModel",
            "_view_count": null,
            "_view_module": "@jupyter-widgets/controls",
            "_view_module_version": "1.5.0",
            "_view_name": "HTMLView",
            "description": "",
            "description_tooltip": null,
            "layout": "IPY_MODEL_cddbe8fcecf843c39e0476a5cb5fdf28",
            "placeholder": "​",
            "style": "IPY_MODEL_de09545d89814871beda8845a8f4099e",
            "value": "Uploading /tmp/tmphuhscxm7/model/artifacts/t5_onnx/encoder_model.onnx: 100%"
          }
        },
        "87448bc8e6b64dc9853a6d2d6120349e": {
          "model_module": "@jupyter-widgets/controls",
          "model_name": "FloatProgressModel",
          "model_module_version": "1.5.0",
          "state": {
            "_dom_classes": [],
            "_model_module": "@jupyter-widgets/controls",
            "_model_module_version": "1.5.0",
            "_model_name": "FloatProgressModel",
            "_view_count": null,
            "_view_module": "@jupyter-widgets/controls",
            "_view_module_version": "1.5.0",
            "_view_name": "ProgressView",
            "bar_style": "success",
            "description": "",
            "description_tooltip": null,
            "layout": "IPY_MODEL_bf5917bdad714f19aefa0557805d07d1",
            "max": 1340060519,
            "min": 0,
            "orientation": "horizontal",
            "style": "IPY_MODEL_39e1e317c15b416bba71cc4615268934",
            "value": 1340060519
          }
        },
        "f03f27232db744d4860785d8b3347cd4": {
          "model_module": "@jupyter-widgets/controls",
          "model_name": "HTMLModel",
          "model_module_version": "1.5.0",
          "state": {
            "_dom_classes": [],
            "_model_module": "@jupyter-widgets/controls",
            "_model_module_version": "1.5.0",
            "_model_name": "HTMLModel",
            "_view_count": null,
            "_view_module": "@jupyter-widgets/controls",
            "_view_module_version": "1.5.0",
            "_view_name": "HTMLView",
            "description": "",
            "description_tooltip": null,
            "layout": "IPY_MODEL_a1b059cff16e4e47af6b42e0eb7894cd",
            "placeholder": "​",
            "style": "IPY_MODEL_9d3270ec4f82487bb4d43d64c72001ca",
            "value": " 1.25G/1.25G [01:00&lt;00:00, 12.6MiB/s]"
          }
        },
        "06f0d67a03c2439db1bef896beff5930": {
          "model_module": "@jupyter-widgets/base",
          "model_name": "LayoutModel",
          "model_module_version": "1.2.0",
          "state": {
            "_model_module": "@jupyter-widgets/base",
            "_model_module_version": "1.2.0",
            "_model_name": "LayoutModel",
            "_view_count": null,
            "_view_module": "@jupyter-widgets/base",
            "_view_module_version": "1.2.0",
            "_view_name": "LayoutView",
            "align_content": null,
            "align_items": null,
            "align_self": null,
            "border": null,
            "bottom": null,
            "display": null,
            "flex": null,
            "flex_flow": null,
            "grid_area": null,
            "grid_auto_columns": null,
            "grid_auto_flow": null,
            "grid_auto_rows": null,
            "grid_column": null,
            "grid_gap": null,
            "grid_row": null,
            "grid_template_areas": null,
            "grid_template_columns": null,
            "grid_template_rows": null,
            "height": null,
            "justify_content": null,
            "justify_items": null,
            "left": null,
            "margin": null,
            "max_height": null,
            "max_width": null,
            "min_height": null,
            "min_width": null,
            "object_fit": null,
            "object_position": null,
            "order": null,
            "overflow": null,
            "overflow_x": null,
            "overflow_y": null,
            "padding": null,
            "right": null,
            "top": null,
            "visibility": null,
            "width": null
          }
        },
        "278fdbd52dc24afcb44f2306764a221d": {
          "model_module": "@jupyter-widgets/controls",
          "model_name": "HBoxModel",
          "model_module_version": "1.5.0",
          "state": {
            "_dom_classes": [],
            "_model_module": "@jupyter-widgets/controls",
            "_model_module_version": "1.5.0",
            "_model_name": "HBoxModel",
            "_view_count": null,
            "_view_module": "@jupyter-widgets/controls",
            "_view_module_version": "1.5.0",
            "_view_name": "HBoxView",
            "box_style": "",
            "children": [
              "IPY_MODEL_da408fbd458d49ca93b1d55615b2ec16",
              "IPY_MODEL_73c888a1b49741c5aebd933013cc73dc",
              "IPY_MODEL_b97351a38d304520a9546a627d9a993e"
            ],
            "layout": "IPY_MODEL_7c3df9cf0a6c4921afe93fed7abcdcf5"
          }
        },
        "424269b917da4ed1bd9d7280eef91abf": {
          "model_module": "@jupyter-widgets/controls",
          "model_name": "HBoxModel",
          "model_module_version": "1.5.0",
          "state": {
            "_dom_classes": [],
            "_model_module": "@jupyter-widgets/controls",
            "_model_module_version": "1.5.0",
            "_model_name": "HBoxModel",
            "_view_count": null,
            "_view_module": "@jupyter-widgets/controls",
            "_view_module_version": "1.5.0",
            "_view_name": "HBoxView",
            "box_style": "",
            "children": [
              "IPY_MODEL_7d7bcd3a4c9a4df1b5ec539bca73ddd3",
              "IPY_MODEL_87448bc8e6b64dc9853a6d2d6120349e",
              "IPY_MODEL_f03f27232db744d4860785d8b3347cd4"
            ],
            "layout": "IPY_MODEL_06f0d67a03c2439db1bef896beff5930"
          }
        },
        "85a025651a8341b198c4987e839c73fb": {
          "model_module": "@jupyter-widgets/controls",
          "model_name": "HBoxModel",
          "model_module_version": "1.5.0",
          "state": {
            "_dom_classes": [],
            "_model_module": "@jupyter-widgets/controls",
            "_model_module_version": "1.5.0",
            "_model_name": "HBoxModel",
            "_view_count": null,
            "_view_module": "@jupyter-widgets/controls",
            "_view_module_version": "1.5.0",
            "_view_name": "HBoxView",
            "box_style": "",
            "children": [
              "IPY_MODEL_0fb0d90a63334191aaabef45465883dc",
              "IPY_MODEL_83430dc6e53d4d208a95d5a0e720b7fc",
              "IPY_MODEL_f983473ff57949598e953515e77803da"
            ],
            "layout": "IPY_MODEL_40eafe4fd40c426c973525a75af7f0b4"
          }
        },
        "0fb0d90a63334191aaabef45465883dc": {
          "model_module": "@jupyter-widgets/controls",
          "model_name": "HTMLModel",
          "model_module_version": "1.5.0",
          "state": {
            "_dom_classes": [],
            "_model_module": "@jupyter-widgets/controls",
            "_model_module_version": "1.5.0",
            "_model_name": "HTMLModel",
            "_view_count": null,
            "_view_module": "@jupyter-widgets/controls",
            "_view_module_version": "1.5.0",
            "_view_name": "HTMLView",
            "description": "",
            "description_tooltip": null,
            "layout": "IPY_MODEL_8adad095eb1f437bb7980fa0aea9b83b",
            "placeholder": "​",
            "style": "IPY_MODEL_046f862353e8405998997543bc33ba52",
            "value": "Uploading /tmp/tmphuhscxm7/model/artifacts/t5_onnx/decoder_model_merged.onnx: 100%"
          }
        },
        "83430dc6e53d4d208a95d5a0e720b7fc": {
          "model_module": "@jupyter-widgets/controls",
          "model_name": "FloatProgressModel",
          "model_module_version": "1.5.0",
          "state": {
            "_dom_classes": [],
            "_model_module": "@jupyter-widgets/controls",
            "_model_module_version": "1.5.0",
            "_model_name": "FloatProgressModel",
            "_view_count": null,
            "_view_module": "@jupyter-widgets/controls",
            "_view_module_version": "1.5.0",
            "_view_name": "ProgressView",
            "bar_style": "success",
            "description": "",
            "description_tooltip": null,
            "layout": "IPY_MODEL_84fa6d6cdcc24f72897908ddba5612ea",
            "max": 1743745283,
            "min": 0,
            "orientation": "horizontal",
            "style": "IPY_MODEL_cb88eac909184e28824a1fb459d2efa9",
            "value": 1743745283
          }
        },
        "f983473ff57949598e953515e77803da": {
          "model_module": "@jupyter-widgets/controls",
          "model_name": "HTMLModel",
          "model_module_version": "1.5.0",
          "state": {
            "_dom_classes": [],
            "_model_module": "@jupyter-widgets/controls",
            "_model_module_version": "1.5.0",
            "_model_name": "HTMLModel",
            "_view_count": null,
            "_view_module": "@jupyter-widgets/controls",
            "_view_module_version": "1.5.0",
            "_view_name": "HTMLView",
            "description": "",
            "description_tooltip": null,
            "layout": "IPY_MODEL_eb1495a261f649159749dda25906afa4",
            "placeholder": "​",
            "style": "IPY_MODEL_d1fb89ebe85141d2a9403d1cd6870e61",
            "value": " 1.62G/1.62G [01:10&lt;00:00, 13.9MiB/s]"
          }
        },
        "40eafe4fd40c426c973525a75af7f0b4": {
          "model_module": "@jupyter-widgets/base",
          "model_name": "LayoutModel",
          "model_module_version": "1.2.0",
          "state": {
            "_model_module": "@jupyter-widgets/base",
            "_model_module_version": "1.2.0",
            "_model_name": "LayoutModel",
            "_view_count": null,
            "_view_module": "@jupyter-widgets/base",
            "_view_module_version": "1.2.0",
            "_view_name": "LayoutView",
            "align_content": null,
            "align_items": null,
            "align_self": null,
            "border": null,
            "bottom": null,
            "display": null,
            "flex": null,
            "flex_flow": null,
            "grid_area": null,
            "grid_auto_columns": null,
            "grid_auto_flow": null,
            "grid_auto_rows": null,
            "grid_column": null,
            "grid_gap": null,
            "grid_row": null,
            "grid_template_areas": null,
            "grid_template_columns": null,
            "grid_template_rows": null,
            "height": null,
            "justify_content": null,
            "justify_items": null,
            "left": null,
            "margin": null,
            "max_height": null,
            "max_width": null,
            "min_height": null,
            "min_width": null,
            "object_fit": null,
            "object_position": null,
            "order": null,
            "overflow": null,
            "overflow_x": null,
            "overflow_y": null,
            "padding": null,
            "right": null,
            "top": null,
            "visibility": null,
            "width": null
          }
        },
        "8adad095eb1f437bb7980fa0aea9b83b": {
          "model_module": "@jupyter-widgets/base",
          "model_name": "LayoutModel",
          "model_module_version": "1.2.0",
          "state": {
            "_model_module": "@jupyter-widgets/base",
            "_model_module_version": "1.2.0",
            "_model_name": "LayoutModel",
            "_view_count": null,
            "_view_module": "@jupyter-widgets/base",
            "_view_module_version": "1.2.0",
            "_view_name": "LayoutView",
            "align_content": null,
            "align_items": null,
            "align_self": null,
            "border": null,
            "bottom": null,
            "display": null,
            "flex": null,
            "flex_flow": null,
            "grid_area": null,
            "grid_auto_columns": null,
            "grid_auto_flow": null,
            "grid_auto_rows": null,
            "grid_column": null,
            "grid_gap": null,
            "grid_row": null,
            "grid_template_areas": null,
            "grid_template_columns": null,
            "grid_template_rows": null,
            "height": null,
            "justify_content": null,
            "justify_items": null,
            "left": null,
            "margin": null,
            "max_height": null,
            "max_width": null,
            "min_height": null,
            "min_width": null,
            "object_fit": null,
            "object_position": null,
            "order": null,
            "overflow": null,
            "overflow_x": null,
            "overflow_y": null,
            "padding": null,
            "right": null,
            "top": null,
            "visibility": null,
            "width": null
          }
        },
        "046f862353e8405998997543bc33ba52": {
          "model_module": "@jupyter-widgets/controls",
          "model_name": "DescriptionStyleModel",
          "model_module_version": "1.5.0",
          "state": {
            "_model_module": "@jupyter-widgets/controls",
            "_model_module_version": "1.5.0",
            "_model_name": "DescriptionStyleModel",
            "_view_count": null,
            "_view_module": "@jupyter-widgets/base",
            "_view_module_version": "1.2.0",
            "_view_name": "StyleView",
            "description_width": ""
          }
        },
        "84fa6d6cdcc24f72897908ddba5612ea": {
          "model_module": "@jupyter-widgets/base",
          "model_name": "LayoutModel",
          "model_module_version": "1.2.0",
          "state": {
            "_model_module": "@jupyter-widgets/base",
            "_model_module_version": "1.2.0",
            "_model_name": "LayoutModel",
            "_view_count": null,
            "_view_module": "@jupyter-widgets/base",
            "_view_module_version": "1.2.0",
            "_view_name": "LayoutView",
            "align_content": null,
            "align_items": null,
            "align_self": null,
            "border": null,
            "bottom": null,
            "display": null,
            "flex": null,
            "flex_flow": null,
            "grid_area": null,
            "grid_auto_columns": null,
            "grid_auto_flow": null,
            "grid_auto_rows": null,
            "grid_column": null,
            "grid_gap": null,
            "grid_row": null,
            "grid_template_areas": null,
            "grid_template_columns": null,
            "grid_template_rows": null,
            "height": null,
            "justify_content": null,
            "justify_items": null,
            "left": null,
            "margin": null,
            "max_height": null,
            "max_width": null,
            "min_height": null,
            "min_width": null,
            "object_fit": null,
            "object_position": null,
            "order": null,
            "overflow": null,
            "overflow_x": null,
            "overflow_y": null,
            "padding": null,
            "right": null,
            "top": null,
            "visibility": null,
            "width": null
          }
        },
        "cb88eac909184e28824a1fb459d2efa9": {
          "model_module": "@jupyter-widgets/controls",
          "model_name": "ProgressStyleModel",
          "model_module_version": "1.5.0",
          "state": {
            "_model_module": "@jupyter-widgets/controls",
            "_model_module_version": "1.5.0",
            "_model_name": "ProgressStyleModel",
            "_view_count": null,
            "_view_module": "@jupyter-widgets/base",
            "_view_module_version": "1.2.0",
            "_view_name": "StyleView",
            "bar_color": null,
            "description_width": ""
          }
        },
        "eb1495a261f649159749dda25906afa4": {
          "model_module": "@jupyter-widgets/base",
          "model_name": "LayoutModel",
          "model_module_version": "1.2.0",
          "state": {
            "_model_module": "@jupyter-widgets/base",
            "_model_module_version": "1.2.0",
            "_model_name": "LayoutModel",
            "_view_count": null,
            "_view_module": "@jupyter-widgets/base",
            "_view_module_version": "1.2.0",
            "_view_name": "LayoutView",
            "align_content": null,
            "align_items": null,
            "align_self": null,
            "border": null,
            "bottom": null,
            "display": null,
            "flex": null,
            "flex_flow": null,
            "grid_area": null,
            "grid_auto_columns": null,
            "grid_auto_flow": null,
            "grid_auto_rows": null,
            "grid_column": null,
            "grid_gap": null,
            "grid_row": null,
            "grid_template_areas": null,
            "grid_template_columns": null,
            "grid_template_rows": null,
            "height": null,
            "justify_content": null,
            "justify_items": null,
            "left": null,
            "margin": null,
            "max_height": null,
            "max_width": null,
            "min_height": null,
            "min_width": null,
            "object_fit": null,
            "object_position": null,
            "order": null,
            "overflow": null,
            "overflow_x": null,
            "overflow_y": null,
            "padding": null,
            "right": null,
            "top": null,
            "visibility": null,
            "width": null
          }
        },
        "d1fb89ebe85141d2a9403d1cd6870e61": {
          "model_module": "@jupyter-widgets/controls",
          "model_name": "DescriptionStyleModel",
          "model_module_version": "1.5.0",
          "state": {
            "_model_module": "@jupyter-widgets/controls",
            "_model_module_version": "1.5.0",
            "_model_name": "DescriptionStyleModel",
            "_view_count": null,
            "_view_module": "@jupyter-widgets/base",
            "_view_module_version": "1.2.0",
            "_view_name": "StyleView",
            "description_width": ""
          }
        },
        "3ccbd2f20ebb4409b1b279c0638c8cb3": {
          "model_module": "@jupyter-widgets/controls",
          "model_name": "HBoxModel",
          "model_module_version": "1.5.0",
          "state": {
            "_dom_classes": [],
            "_model_module": "@jupyter-widgets/controls",
            "_model_module_version": "1.5.0",
            "_model_name": "HBoxModel",
            "_view_count": null,
            "_view_module": "@jupyter-widgets/controls",
            "_view_module_version": "1.5.0",
            "_view_name": "HBoxView",
            "box_style": "",
            "children": [
              "IPY_MODEL_8e8d51d93436439eba1de469660d63bf",
              "IPY_MODEL_05a1e0cac8b04cfb974c948c769e0f3a",
              "IPY_MODEL_1fef7ee5fa05472eaa2394b895505d26"
            ],
            "layout": "IPY_MODEL_4ba60e2f595349118c38dfa84633c043"
          }
        },
        "8e8d51d93436439eba1de469660d63bf": {
          "model_module": "@jupyter-widgets/controls",
          "model_name": "HTMLModel",
          "model_module_version": "1.5.0",
          "state": {
            "_dom_classes": [],
            "_model_module": "@jupyter-widgets/controls",
            "_model_module_version": "1.5.0",
            "_model_name": "HTMLModel",
            "_view_count": null,
            "_view_module": "@jupyter-widgets/controls",
            "_view_module_version": "1.5.0",
            "_view_name": "HTMLView",
            "description": "",
            "description_tooltip": null,
            "layout": "IPY_MODEL_66cb5ca846cb404fbfe016c1300ccc0a",
            "placeholder": "​",
            "style": "IPY_MODEL_7366603658284bbcb528f995c33aac37",
            "value": "Uploading /tmp/tmphuhscxm7/model/artifacts/t5_onnx/decoder_model.onnx: 100%"
          }
        },
        "05a1e0cac8b04cfb974c948c769e0f3a": {
          "model_module": "@jupyter-widgets/controls",
          "model_name": "FloatProgressModel",
          "model_module_version": "1.5.0",
          "state": {
            "_dom_classes": [],
            "_model_module": "@jupyter-widgets/controls",
            "_model_module_version": "1.5.0",
            "_model_name": "FloatProgressModel",
            "_view_count": null,
            "_view_module": "@jupyter-widgets/controls",
            "_view_module_version": "1.5.0",
            "_view_name": "ProgressView",
            "bar_style": "success",
            "description": "",
            "description_tooltip": null,
            "layout": "IPY_MODEL_15a7f40e50ff414ea75109e79adff43b",
            "max": 1743154907,
            "min": 0,
            "orientation": "horizontal",
            "style": "IPY_MODEL_4f50cc05db5f41629430197236135d3b",
            "value": 1743154907
          }
        },
        "1fef7ee5fa05472eaa2394b895505d26": {
          "model_module": "@jupyter-widgets/controls",
          "model_name": "HTMLModel",
          "model_module_version": "1.5.0",
          "state": {
            "_dom_classes": [],
            "_model_module": "@jupyter-widgets/controls",
            "_model_module_version": "1.5.0",
            "_model_name": "HTMLModel",
            "_view_count": null,
            "_view_module": "@jupyter-widgets/controls",
            "_view_module_version": "1.5.0",
            "_view_name": "HTMLView",
            "description": "",
            "description_tooltip": null,
            "layout": "IPY_MODEL_5ab20e5ed2274323b838d7329b1ebf02",
            "placeholder": "​",
            "style": "IPY_MODEL_afecd45b4117447a8318f6283f97ff23",
            "value": " 1.62G/1.62G [01:15&lt;00:00, 5.79MiB/s]"
          }
        },
        "4ba60e2f595349118c38dfa84633c043": {
          "model_module": "@jupyter-widgets/base",
          "model_name": "LayoutModel",
          "model_module_version": "1.2.0",
          "state": {
            "_model_module": "@jupyter-widgets/base",
            "_model_module_version": "1.2.0",
            "_model_name": "LayoutModel",
            "_view_count": null,
            "_view_module": "@jupyter-widgets/base",
            "_view_module_version": "1.2.0",
            "_view_name": "LayoutView",
            "align_content": null,
            "align_items": null,
            "align_self": null,
            "border": null,
            "bottom": null,
            "display": null,
            "flex": null,
            "flex_flow": null,
            "grid_area": null,
            "grid_auto_columns": null,
            "grid_auto_flow": null,
            "grid_auto_rows": null,
            "grid_column": null,
            "grid_gap": null,
            "grid_row": null,
            "grid_template_areas": null,
            "grid_template_columns": null,
            "grid_template_rows": null,
            "height": null,
            "justify_content": null,
            "justify_items": null,
            "left": null,
            "margin": null,
            "max_height": null,
            "max_width": null,
            "min_height": null,
            "min_width": null,
            "object_fit": null,
            "object_position": null,
            "order": null,
            "overflow": null,
            "overflow_x": null,
            "overflow_y": null,
            "padding": null,
            "right": null,
            "top": null,
            "visibility": null,
            "width": null
          }
        },
        "66cb5ca846cb404fbfe016c1300ccc0a": {
          "model_module": "@jupyter-widgets/base",
          "model_name": "LayoutModel",
          "model_module_version": "1.2.0",
          "state": {
            "_model_module": "@jupyter-widgets/base",
            "_model_module_version": "1.2.0",
            "_model_name": "LayoutModel",
            "_view_count": null,
            "_view_module": "@jupyter-widgets/base",
            "_view_module_version": "1.2.0",
            "_view_name": "LayoutView",
            "align_content": null,
            "align_items": null,
            "align_self": null,
            "border": null,
            "bottom": null,
            "display": null,
            "flex": null,
            "flex_flow": null,
            "grid_area": null,
            "grid_auto_columns": null,
            "grid_auto_flow": null,
            "grid_auto_rows": null,
            "grid_column": null,
            "grid_gap": null,
            "grid_row": null,
            "grid_template_areas": null,
            "grid_template_columns": null,
            "grid_template_rows": null,
            "height": null,
            "justify_content": null,
            "justify_items": null,
            "left": null,
            "margin": null,
            "max_height": null,
            "max_width": null,
            "min_height": null,
            "min_width": null,
            "object_fit": null,
            "object_position": null,
            "order": null,
            "overflow": null,
            "overflow_x": null,
            "overflow_y": null,
            "padding": null,
            "right": null,
            "top": null,
            "visibility": null,
            "width": null
          }
        },
        "7366603658284bbcb528f995c33aac37": {
          "model_module": "@jupyter-widgets/controls",
          "model_name": "DescriptionStyleModel",
          "model_module_version": "1.5.0",
          "state": {
            "_model_module": "@jupyter-widgets/controls",
            "_model_module_version": "1.5.0",
            "_model_name": "DescriptionStyleModel",
            "_view_count": null,
            "_view_module": "@jupyter-widgets/base",
            "_view_module_version": "1.2.0",
            "_view_name": "StyleView",
            "description_width": ""
          }
        },
        "15a7f40e50ff414ea75109e79adff43b": {
          "model_module": "@jupyter-widgets/base",
          "model_name": "LayoutModel",
          "model_module_version": "1.2.0",
          "state": {
            "_model_module": "@jupyter-widgets/base",
            "_model_module_version": "1.2.0",
            "_model_name": "LayoutModel",
            "_view_count": null,
            "_view_module": "@jupyter-widgets/base",
            "_view_module_version": "1.2.0",
            "_view_name": "LayoutView",
            "align_content": null,
            "align_items": null,
            "align_self": null,
            "border": null,
            "bottom": null,
            "display": null,
            "flex": null,
            "flex_flow": null,
            "grid_area": null,
            "grid_auto_columns": null,
            "grid_auto_flow": null,
            "grid_auto_rows": null,
            "grid_column": null,
            "grid_gap": null,
            "grid_row": null,
            "grid_template_areas": null,
            "grid_template_columns": null,
            "grid_template_rows": null,
            "height": null,
            "justify_content": null,
            "justify_items": null,
            "left": null,
            "margin": null,
            "max_height": null,
            "max_width": null,
            "min_height": null,
            "min_width": null,
            "object_fit": null,
            "object_position": null,
            "order": null,
            "overflow": null,
            "overflow_x": null,
            "overflow_y": null,
            "padding": null,
            "right": null,
            "top": null,
            "visibility": null,
            "width": null
          }
        },
        "4f50cc05db5f41629430197236135d3b": {
          "model_module": "@jupyter-widgets/controls",
          "model_name": "ProgressStyleModel",
          "model_module_version": "1.5.0",
          "state": {
            "_model_module": "@jupyter-widgets/controls",
            "_model_module_version": "1.5.0",
            "_model_name": "ProgressStyleModel",
            "_view_count": null,
            "_view_module": "@jupyter-widgets/base",
            "_view_module_version": "1.2.0",
            "_view_name": "StyleView",
            "bar_color": null,
            "description_width": ""
          }
        },
        "5ab20e5ed2274323b838d7329b1ebf02": {
          "model_module": "@jupyter-widgets/base",
          "model_name": "LayoutModel",
          "model_module_version": "1.2.0",
          "state": {
            "_model_module": "@jupyter-widgets/base",
            "_model_module_version": "1.2.0",
            "_model_name": "LayoutModel",
            "_view_count": null,
            "_view_module": "@jupyter-widgets/base",
            "_view_module_version": "1.2.0",
            "_view_name": "LayoutView",
            "align_content": null,
            "align_items": null,
            "align_self": null,
            "border": null,
            "bottom": null,
            "display": null,
            "flex": null,
            "flex_flow": null,
            "grid_area": null,
            "grid_auto_columns": null,
            "grid_auto_flow": null,
            "grid_auto_rows": null,
            "grid_column": null,
            "grid_gap": null,
            "grid_row": null,
            "grid_template_areas": null,
            "grid_template_columns": null,
            "grid_template_rows": null,
            "height": null,
            "justify_content": null,
            "justify_items": null,
            "left": null,
            "margin": null,
            "max_height": null,
            "max_width": null,
            "min_height": null,
            "min_width": null,
            "object_fit": null,
            "object_position": null,
            "order": null,
            "overflow": null,
            "overflow_x": null,
            "overflow_y": null,
            "padding": null,
            "right": null,
            "top": null,
            "visibility": null,
            "width": null
          }
        },
        "afecd45b4117447a8318f6283f97ff23": {
          "model_module": "@jupyter-widgets/controls",
          "model_name": "DescriptionStyleModel",
          "model_module_version": "1.5.0",
          "state": {
            "_model_module": "@jupyter-widgets/controls",
            "_model_module_version": "1.5.0",
            "_model_name": "DescriptionStyleModel",
            "_view_count": null,
            "_view_module": "@jupyter-widgets/base",
            "_view_module_version": "1.2.0",
            "_view_name": "StyleView",
            "description_width": ""
          }
        },
        "a502f52f694d4119a81297ee1b95198b": {
          "model_module": "@jupyter-widgets/controls",
          "model_name": "HBoxModel",
          "model_module_version": "1.5.0",
          "state": {
            "_dom_classes": [],
            "_model_module": "@jupyter-widgets/controls",
            "_model_module_version": "1.5.0",
            "_model_name": "HBoxModel",
            "_view_count": null,
            "_view_module": "@jupyter-widgets/controls",
            "_view_module_version": "1.5.0",
            "_view_name": "HBoxView",
            "box_style": "",
            "children": [
              "IPY_MODEL_8880dde28d69430c8f179d6c3966a0a4",
              "IPY_MODEL_b9ff4ec2ab134dcf97edd4c673332809",
              "IPY_MODEL_3d57e36d94c84cf99d7ca9539d8e42a9"
            ],
            "layout": "IPY_MODEL_ac13ebe667aa4f238cb03043624721a4"
          }
        },
        "8880dde28d69430c8f179d6c3966a0a4": {
          "model_module": "@jupyter-widgets/controls",
          "model_name": "HTMLModel",
          "model_module_version": "1.5.0",
          "state": {
            "_dom_classes": [],
            "_model_module": "@jupyter-widgets/controls",
            "_model_module_version": "1.5.0",
            "_model_name": "HTMLModel",
            "_view_count": null,
            "_view_module": "@jupyter-widgets/controls",
            "_view_module_version": "1.5.0",
            "_view_name": "HTMLView",
            "description": "",
            "description_tooltip": null,
            "layout": "IPY_MODEL_0b9d10a7b41e46899d2a5b378be57929",
            "placeholder": "​",
            "style": "IPY_MODEL_fa9e02635d324f9ba1fc6b3bcfaef0fe",
            "value": "Downloading artifacts: 100%"
          }
        },
        "b9ff4ec2ab134dcf97edd4c673332809": {
          "model_module": "@jupyter-widgets/controls",
          "model_name": "FloatProgressModel",
          "model_module_version": "1.5.0",
          "state": {
            "_dom_classes": [],
            "_model_module": "@jupyter-widgets/controls",
            "_model_module_version": "1.5.0",
            "_model_name": "FloatProgressModel",
            "_view_count": null,
            "_view_module": "@jupyter-widgets/controls",
            "_view_module_version": "1.5.0",
            "_view_name": "ProgressView",
            "bar_style": "success",
            "description": "",
            "description_tooltip": null,
            "layout": "IPY_MODEL_8ac277ec36b14bf8993fe898e015d2b2",
            "max": 17,
            "min": 0,
            "orientation": "horizontal",
            "style": "IPY_MODEL_d5aa2e5654a54626997aca7d95bbc814",
            "value": 17
          }
        },
        "3d57e36d94c84cf99d7ca9539d8e42a9": {
          "model_module": "@jupyter-widgets/controls",
          "model_name": "HTMLModel",
          "model_module_version": "1.5.0",
          "state": {
            "_dom_classes": [],
            "_model_module": "@jupyter-widgets/controls",
            "_model_module_version": "1.5.0",
            "_model_name": "HTMLModel",
            "_view_count": null,
            "_view_module": "@jupyter-widgets/controls",
            "_view_module_version": "1.5.0",
            "_view_name": "HTMLView",
            "description": "",
            "description_tooltip": null,
            "layout": "IPY_MODEL_e83279d81e8640a489f71c0805dc14ec",
            "placeholder": "​",
            "style": "IPY_MODEL_a4d256fa8baf46d99862c23cd580dde1",
            "value": " 17/17 [01:58&lt;00:00, 12.83s/it]"
          }
        },
        "ac13ebe667aa4f238cb03043624721a4": {
          "model_module": "@jupyter-widgets/base",
          "model_name": "LayoutModel",
          "model_module_version": "1.2.0",
          "state": {
            "_model_module": "@jupyter-widgets/base",
            "_model_module_version": "1.2.0",
            "_model_name": "LayoutModel",
            "_view_count": null,
            "_view_module": "@jupyter-widgets/base",
            "_view_module_version": "1.2.0",
            "_view_name": "LayoutView",
            "align_content": null,
            "align_items": null,
            "align_self": null,
            "border": null,
            "bottom": null,
            "display": null,
            "flex": null,
            "flex_flow": null,
            "grid_area": null,
            "grid_auto_columns": null,
            "grid_auto_flow": null,
            "grid_auto_rows": null,
            "grid_column": null,
            "grid_gap": null,
            "grid_row": null,
            "grid_template_areas": null,
            "grid_template_columns": null,
            "grid_template_rows": null,
            "height": null,
            "justify_content": null,
            "justify_items": null,
            "left": null,
            "margin": null,
            "max_height": null,
            "max_width": null,
            "min_height": null,
            "min_width": null,
            "object_fit": null,
            "object_position": null,
            "order": null,
            "overflow": null,
            "overflow_x": null,
            "overflow_y": null,
            "padding": null,
            "right": null,
            "top": null,
            "visibility": null,
            "width": null
          }
        },
        "0b9d10a7b41e46899d2a5b378be57929": {
          "model_module": "@jupyter-widgets/base",
          "model_name": "LayoutModel",
          "model_module_version": "1.2.0",
          "state": {
            "_model_module": "@jupyter-widgets/base",
            "_model_module_version": "1.2.0",
            "_model_name": "LayoutModel",
            "_view_count": null,
            "_view_module": "@jupyter-widgets/base",
            "_view_module_version": "1.2.0",
            "_view_name": "LayoutView",
            "align_content": null,
            "align_items": null,
            "align_self": null,
            "border": null,
            "bottom": null,
            "display": null,
            "flex": null,
            "flex_flow": null,
            "grid_area": null,
            "grid_auto_columns": null,
            "grid_auto_flow": null,
            "grid_auto_rows": null,
            "grid_column": null,
            "grid_gap": null,
            "grid_row": null,
            "grid_template_areas": null,
            "grid_template_columns": null,
            "grid_template_rows": null,
            "height": null,
            "justify_content": null,
            "justify_items": null,
            "left": null,
            "margin": null,
            "max_height": null,
            "max_width": null,
            "min_height": null,
            "min_width": null,
            "object_fit": null,
            "object_position": null,
            "order": null,
            "overflow": null,
            "overflow_x": null,
            "overflow_y": null,
            "padding": null,
            "right": null,
            "top": null,
            "visibility": null,
            "width": null
          }
        },
        "fa9e02635d324f9ba1fc6b3bcfaef0fe": {
          "model_module": "@jupyter-widgets/controls",
          "model_name": "DescriptionStyleModel",
          "model_module_version": "1.5.0",
          "state": {
            "_model_module": "@jupyter-widgets/controls",
            "_model_module_version": "1.5.0",
            "_model_name": "DescriptionStyleModel",
            "_view_count": null,
            "_view_module": "@jupyter-widgets/base",
            "_view_module_version": "1.2.0",
            "_view_name": "StyleView",
            "description_width": ""
          }
        },
        "8ac277ec36b14bf8993fe898e015d2b2": {
          "model_module": "@jupyter-widgets/base",
          "model_name": "LayoutModel",
          "model_module_version": "1.2.0",
          "state": {
            "_model_module": "@jupyter-widgets/base",
            "_model_module_version": "1.2.0",
            "_model_name": "LayoutModel",
            "_view_count": null,
            "_view_module": "@jupyter-widgets/base",
            "_view_module_version": "1.2.0",
            "_view_name": "LayoutView",
            "align_content": null,
            "align_items": null,
            "align_self": null,
            "border": null,
            "bottom": null,
            "display": null,
            "flex": null,
            "flex_flow": null,
            "grid_area": null,
            "grid_auto_columns": null,
            "grid_auto_flow": null,
            "grid_auto_rows": null,
            "grid_column": null,
            "grid_gap": null,
            "grid_row": null,
            "grid_template_areas": null,
            "grid_template_columns": null,
            "grid_template_rows": null,
            "height": null,
            "justify_content": null,
            "justify_items": null,
            "left": null,
            "margin": null,
            "max_height": null,
            "max_width": null,
            "min_height": null,
            "min_width": null,
            "object_fit": null,
            "object_position": null,
            "order": null,
            "overflow": null,
            "overflow_x": null,
            "overflow_y": null,
            "padding": null,
            "right": null,
            "top": null,
            "visibility": null,
            "width": null
          }
        },
        "d5aa2e5654a54626997aca7d95bbc814": {
          "model_module": "@jupyter-widgets/controls",
          "model_name": "ProgressStyleModel",
          "model_module_version": "1.5.0",
          "state": {
            "_model_module": "@jupyter-widgets/controls",
            "_model_module_version": "1.5.0",
            "_model_name": "ProgressStyleModel",
            "_view_count": null,
            "_view_module": "@jupyter-widgets/base",
            "_view_module_version": "1.2.0",
            "_view_name": "StyleView",
            "bar_color": null,
            "description_width": ""
          }
        },
        "e83279d81e8640a489f71c0805dc14ec": {
          "model_module": "@jupyter-widgets/base",
          "model_name": "LayoutModel",
          "model_module_version": "1.2.0",
          "state": {
            "_model_module": "@jupyter-widgets/base",
            "_model_module_version": "1.2.0",
            "_model_name": "LayoutModel",
            "_view_count": null,
            "_view_module": "@jupyter-widgets/base",
            "_view_module_version": "1.2.0",
            "_view_name": "LayoutView",
            "align_content": null,
            "align_items": null,
            "align_self": null,
            "border": null,
            "bottom": null,
            "display": null,
            "flex": null,
            "flex_flow": null,
            "grid_area": null,
            "grid_auto_columns": null,
            "grid_auto_flow": null,
            "grid_auto_rows": null,
            "grid_column": null,
            "grid_gap": null,
            "grid_row": null,
            "grid_template_areas": null,
            "grid_template_columns": null,
            "grid_template_rows": null,
            "height": null,
            "justify_content": null,
            "justify_items": null,
            "left": null,
            "margin": null,
            "max_height": null,
            "max_width": null,
            "min_height": null,
            "min_width": null,
            "object_fit": null,
            "object_position": null,
            "order": null,
            "overflow": null,
            "overflow_x": null,
            "overflow_y": null,
            "padding": null,
            "right": null,
            "top": null,
            "visibility": null,
            "width": null
          }
        },
        "a4d256fa8baf46d99862c23cd580dde1": {
          "model_module": "@jupyter-widgets/controls",
          "model_name": "DescriptionStyleModel",
          "model_module_version": "1.5.0",
          "state": {
            "_model_module": "@jupyter-widgets/controls",
            "_model_module_version": "1.5.0",
            "_model_name": "DescriptionStyleModel",
            "_view_count": null,
            "_view_module": "@jupyter-widgets/base",
            "_view_module_version": "1.2.0",
            "_view_name": "StyleView",
            "description_width": ""
          }
        },
        "6bf0886c68b44661bb95e6c0005b0898": {
          "model_module": "@jupyter-widgets/base",
          "model_name": "LayoutModel",
          "model_module_version": "1.2.0",
          "state": {
            "_model_module": "@jupyter-widgets/base",
            "_model_module_version": "1.2.0",
            "_model_name": "LayoutModel",
            "_view_count": null,
            "_view_module": "@jupyter-widgets/base",
            "_view_module_version": "1.2.0",
            "_view_name": "LayoutView",
            "align_content": null,
            "align_items": null,
            "align_self": null,
            "border": null,
            "bottom": null,
            "display": null,
            "flex": null,
            "flex_flow": null,
            "grid_area": null,
            "grid_auto_columns": null,
            "grid_auto_flow": null,
            "grid_auto_rows": null,
            "grid_column": null,
            "grid_gap": null,
            "grid_row": null,
            "grid_template_areas": null,
            "grid_template_columns": null,
            "grid_template_rows": null,
            "height": null,
            "justify_content": null,
            "justify_items": null,
            "left": null,
            "margin": null,
            "max_height": null,
            "max_width": null,
            "min_height": null,
            "min_width": null,
            "object_fit": null,
            "object_position": null,
            "order": null,
            "overflow": null,
            "overflow_x": null,
            "overflow_y": null,
            "padding": null,
            "right": null,
            "top": null,
            "visibility": null,
            "width": null
          }
        },
        "2ed2eae346f34b968a228646157cdbc1": {
          "model_module": "@jupyter-widgets/controls",
          "model_name": "ProgressStyleModel",
          "model_module_version": "1.5.0",
          "state": {
            "_model_module": "@jupyter-widgets/controls",
            "_model_module_version": "1.5.0",
            "_model_name": "ProgressStyleModel",
            "_view_count": null,
            "_view_module": "@jupyter-widgets/base",
            "_view_module_version": "1.2.0",
            "_view_name": "StyleView",
            "bar_color": null,
            "description_width": ""
          }
        },
        "88eeb779bff34b98b368fb1b2f72bdb8": {
          "model_module": "@jupyter-widgets/base",
          "model_name": "LayoutModel",
          "model_module_version": "1.2.0",
          "state": {
            "_model_module": "@jupyter-widgets/base",
            "_model_module_version": "1.2.0",
            "_model_name": "LayoutModel",
            "_view_count": null,
            "_view_module": "@jupyter-widgets/base",
            "_view_module_version": "1.2.0",
            "_view_name": "LayoutView",
            "align_content": null,
            "align_items": null,
            "align_self": null,
            "border": null,
            "bottom": null,
            "display": null,
            "flex": null,
            "flex_flow": null,
            "grid_area": null,
            "grid_auto_columns": null,
            "grid_auto_flow": null,
            "grid_auto_rows": null,
            "grid_column": null,
            "grid_gap": null,
            "grid_row": null,
            "grid_template_areas": null,
            "grid_template_columns": null,
            "grid_template_rows": null,
            "height": null,
            "justify_content": null,
            "justify_items": null,
            "left": null,
            "margin": null,
            "max_height": null,
            "max_width": null,
            "min_height": null,
            "min_width": null,
            "object_fit": null,
            "object_position": null,
            "order": null,
            "overflow": null,
            "overflow_x": null,
            "overflow_y": null,
            "padding": null,
            "right": null,
            "top": null,
            "visibility": null,
            "width": null
          }
        },
        "fb0e93288f6348c6bf0f7cc2b92aeb21": {
          "model_module": "@jupyter-widgets/controls",
          "model_name": "DescriptionStyleModel",
          "model_module_version": "1.5.0",
          "state": {
            "_model_module": "@jupyter-widgets/controls",
            "_model_module_version": "1.5.0",
            "_model_name": "DescriptionStyleModel",
            "_view_count": null,
            "_view_module": "@jupyter-widgets/base",
            "_view_module_version": "1.2.0",
            "_view_name": "StyleView",
            "description_width": ""
          }
        },
        "9cbf9814bd894a638cab60ca7a2bf25d": {
          "model_module": "@jupyter-widgets/base",
          "model_name": "LayoutModel",
          "model_module_version": "1.2.0",
          "state": {
            "_model_module": "@jupyter-widgets/base",
            "_model_module_version": "1.2.0",
            "_model_name": "LayoutModel",
            "_view_count": null,
            "_view_module": "@jupyter-widgets/base",
            "_view_module_version": "1.2.0",
            "_view_name": "LayoutView",
            "align_content": null,
            "align_items": null,
            "align_self": null,
            "border": null,
            "bottom": null,
            "display": null,
            "flex": null,
            "flex_flow": null,
            "grid_area": null,
            "grid_auto_columns": null,
            "grid_auto_flow": null,
            "grid_auto_rows": null,
            "grid_column": null,
            "grid_gap": null,
            "grid_row": null,
            "grid_template_areas": null,
            "grid_template_columns": null,
            "grid_template_rows": null,
            "height": null,
            "justify_content": null,
            "justify_items": null,
            "left": null,
            "margin": null,
            "max_height": null,
            "max_width": null,
            "min_height": null,
            "min_width": null,
            "object_fit": null,
            "object_position": null,
            "order": null,
            "overflow": null,
            "overflow_x": null,
            "overflow_y": null,
            "padding": null,
            "right": null,
            "top": null,
            "visibility": null,
            "width": null
          }
        },
        "134ff49490ce4bf3b28e7cb77a9d670f": {
          "model_module": "@jupyter-widgets/controls",
          "model_name": "DescriptionStyleModel",
          "model_module_version": "1.5.0",
          "state": {
            "_model_module": "@jupyter-widgets/controls",
            "_model_module_version": "1.5.0",
            "_model_name": "DescriptionStyleModel",
            "_view_count": null,
            "_view_module": "@jupyter-widgets/base",
            "_view_module_version": "1.2.0",
            "_view_name": "StyleView",
            "description_width": ""
          }
        },
        "a293476bd4d64c4896ae3bd890c115eb": {
          "model_module": "@jupyter-widgets/controls",
          "model_name": "HTMLModel",
          "model_module_version": "1.5.0",
          "state": {
            "_dom_classes": [],
            "_model_module": "@jupyter-widgets/controls",
            "_model_module_version": "1.5.0",
            "_model_name": "HTMLModel",
            "_view_count": null,
            "_view_module": "@jupyter-widgets/controls",
            "_view_module_version": "1.5.0",
            "_view_name": "HTMLView",
            "description": "",
            "description_tooltip": null,
            "layout": "IPY_MODEL_88eeb779bff34b98b368fb1b2f72bdb8",
            "placeholder": "​",
            "style": "IPY_MODEL_fb0e93288f6348c6bf0f7cc2b92aeb21",
            "value": "Downloading /tmp/tmpyzl3lutb/t5-summarization-onnx/artifacts/t5_onnx/decoder_model_merged.onnx: 100%"
          }
        },
        "ce5db0091f42485680b8e9d4694924e9": {
          "model_module": "@jupyter-widgets/controls",
          "model_name": "FloatProgressModel",
          "model_module_version": "1.5.0",
          "state": {
            "_dom_classes": [],
            "_model_module": "@jupyter-widgets/controls",
            "_model_module_version": "1.5.0",
            "_model_name": "FloatProgressModel",
            "_view_count": null,
            "_view_module": "@jupyter-widgets/controls",
            "_view_module_version": "1.5.0",
            "_view_name": "ProgressView",
            "bar_style": "success",
            "description": "",
            "description_tooltip": null,
            "layout": "IPY_MODEL_6bf0886c68b44661bb95e6c0005b0898",
            "max": 1743745283,
            "min": 0,
            "orientation": "horizontal",
            "style": "IPY_MODEL_2ed2eae346f34b968a228646157cdbc1",
            "value": 1743745283
          }
        },
        "8cc250fb907943b4b20f81bcb364d9aa": {
          "model_module": "@jupyter-widgets/controls",
          "model_name": "HTMLModel",
          "model_module_version": "1.5.0",
          "state": {
            "_dom_classes": [],
            "_model_module": "@jupyter-widgets/controls",
            "_model_module_version": "1.5.0",
            "_model_name": "HTMLModel",
            "_view_count": null,
            "_view_module": "@jupyter-widgets/controls",
            "_view_module_version": "1.5.0",
            "_view_name": "HTMLView",
            "description": "",
            "description_tooltip": null,
            "layout": "IPY_MODEL_9cbf9814bd894a638cab60ca7a2bf25d",
            "placeholder": "​",
            "style": "IPY_MODEL_134ff49490ce4bf3b28e7cb77a9d670f",
            "value": " 1.62G/1.62G [00:38&lt;00:00, 82.7MiB/s]"
          }
        },
        "f917eb10b3214118954c59e5e028e0d4": {
          "model_module": "@jupyter-widgets/base",
          "model_name": "LayoutModel",
          "model_module_version": "1.2.0",
          "state": {
            "_model_module": "@jupyter-widgets/base",
            "_model_module_version": "1.2.0",
            "_model_name": "LayoutModel",
            "_view_count": null,
            "_view_module": "@jupyter-widgets/base",
            "_view_module_version": "1.2.0",
            "_view_name": "LayoutView",
            "align_content": null,
            "align_items": null,
            "align_self": null,
            "border": null,
            "bottom": null,
            "display": null,
            "flex": null,
            "flex_flow": null,
            "grid_area": null,
            "grid_auto_columns": null,
            "grid_auto_flow": null,
            "grid_auto_rows": null,
            "grid_column": null,
            "grid_gap": null,
            "grid_row": null,
            "grid_template_areas": null,
            "grid_template_columns": null,
            "grid_template_rows": null,
            "height": null,
            "justify_content": null,
            "justify_items": null,
            "left": null,
            "margin": null,
            "max_height": null,
            "max_width": null,
            "min_height": null,
            "min_width": null,
            "object_fit": null,
            "object_position": null,
            "order": null,
            "overflow": null,
            "overflow_x": null,
            "overflow_y": null,
            "padding": null,
            "right": null,
            "top": null,
            "visibility": null,
            "width": null
          }
        },
        "a2490deaf9d24dedad9d3bbbb4b08b52": {
          "model_module": "@jupyter-widgets/controls",
          "model_name": "HBoxModel",
          "model_module_version": "1.5.0",
          "state": {
            "_dom_classes": [],
            "_model_module": "@jupyter-widgets/controls",
            "_model_module_version": "1.5.0",
            "_model_name": "HBoxModel",
            "_view_count": null,
            "_view_module": "@jupyter-widgets/controls",
            "_view_module_version": "1.5.0",
            "_view_name": "HBoxView",
            "box_style": "",
            "children": [
              "IPY_MODEL_a293476bd4d64c4896ae3bd890c115eb",
              "IPY_MODEL_ce5db0091f42485680b8e9d4694924e9",
              "IPY_MODEL_8cc250fb907943b4b20f81bcb364d9aa"
            ],
            "layout": "IPY_MODEL_f917eb10b3214118954c59e5e028e0d4"
          }
        },
        "1a778df7c8c848509ba0a7e8511ec603": {
          "model_module": "@jupyter-widgets/controls",
          "model_name": "HBoxModel",
          "model_module_version": "1.5.0",
          "state": {
            "_dom_classes": [],
            "_model_module": "@jupyter-widgets/controls",
            "_model_module_version": "1.5.0",
            "_model_name": "HBoxModel",
            "_view_count": null,
            "_view_module": "@jupyter-widgets/controls",
            "_view_module_version": "1.5.0",
            "_view_name": "HBoxView",
            "box_style": "",
            "children": [
              "IPY_MODEL_574e86312f0c4fea901ec576a7344f99",
              "IPY_MODEL_f6a46ff0aed24c0fba0eb11c5b67d8dc",
              "IPY_MODEL_3b96f9afecfd417b84e292a79c594784"
            ],
            "layout": "IPY_MODEL_8c58dbd99d9d4801b809c744d1d42a75"
          }
        },
        "574e86312f0c4fea901ec576a7344f99": {
          "model_module": "@jupyter-widgets/controls",
          "model_name": "HTMLModel",
          "model_module_version": "1.5.0",
          "state": {
            "_dom_classes": [],
            "_model_module": "@jupyter-widgets/controls",
            "_model_module_version": "1.5.0",
            "_model_name": "HTMLModel",
            "_view_count": null,
            "_view_module": "@jupyter-widgets/controls",
            "_view_module_version": "1.5.0",
            "_view_name": "HTMLView",
            "description": "",
            "description_tooltip": null,
            "layout": "IPY_MODEL_92d1f5f1f73d4048823c13f9dbe6ced8",
            "placeholder": "​",
            "style": "IPY_MODEL_5f62ffabc9d049858224ef73aa8d6f63",
            "value": "Downloading /tmp/tmpyzl3lutb/t5-summarization-onnx/artifacts/t5_onnx/encoder_model.onnx: 100%"
          }
        },
        "f6a46ff0aed24c0fba0eb11c5b67d8dc": {
          "model_module": "@jupyter-widgets/controls",
          "model_name": "FloatProgressModel",
          "model_module_version": "1.5.0",
          "state": {
            "_dom_classes": [],
            "_model_module": "@jupyter-widgets/controls",
            "_model_module_version": "1.5.0",
            "_model_name": "FloatProgressModel",
            "_view_count": null,
            "_view_module": "@jupyter-widgets/controls",
            "_view_module_version": "1.5.0",
            "_view_name": "ProgressView",
            "bar_style": "success",
            "description": "",
            "description_tooltip": null,
            "layout": "IPY_MODEL_0a3737798dc74266ad080d94289a5e33",
            "max": 1340060519,
            "min": 0,
            "orientation": "horizontal",
            "style": "IPY_MODEL_b0fda6f4eec540ac9caec08f5be71533",
            "value": 1340060519
          }
        },
        "3b96f9afecfd417b84e292a79c594784": {
          "model_module": "@jupyter-widgets/controls",
          "model_name": "HTMLModel",
          "model_module_version": "1.5.0",
          "state": {
            "_dom_classes": [],
            "_model_module": "@jupyter-widgets/controls",
            "_model_module_version": "1.5.0",
            "_model_name": "HTMLModel",
            "_view_count": null,
            "_view_module": "@jupyter-widgets/controls",
            "_view_module_version": "1.5.0",
            "_view_name": "HTMLView",
            "description": "",
            "description_tooltip": null,
            "layout": "IPY_MODEL_d66ff07998be4deabbcbd2b6784a6f29",
            "placeholder": "​",
            "style": "IPY_MODEL_0cdcd4149e6842ba9617df033bd6a17e",
            "value": " 1.25G/1.25G [01:56&lt;00:00, 15.4MiB/s]"
          }
        },
        "8c58dbd99d9d4801b809c744d1d42a75": {
          "model_module": "@jupyter-widgets/base",
          "model_name": "LayoutModel",
          "model_module_version": "1.2.0",
          "state": {
            "_model_module": "@jupyter-widgets/base",
            "_model_module_version": "1.2.0",
            "_model_name": "LayoutModel",
            "_view_count": null,
            "_view_module": "@jupyter-widgets/base",
            "_view_module_version": "1.2.0",
            "_view_name": "LayoutView",
            "align_content": null,
            "align_items": null,
            "align_self": null,
            "border": null,
            "bottom": null,
            "display": null,
            "flex": null,
            "flex_flow": null,
            "grid_area": null,
            "grid_auto_columns": null,
            "grid_auto_flow": null,
            "grid_auto_rows": null,
            "grid_column": null,
            "grid_gap": null,
            "grid_row": null,
            "grid_template_areas": null,
            "grid_template_columns": null,
            "grid_template_rows": null,
            "height": null,
            "justify_content": null,
            "justify_items": null,
            "left": null,
            "margin": null,
            "max_height": null,
            "max_width": null,
            "min_height": null,
            "min_width": null,
            "object_fit": null,
            "object_position": null,
            "order": null,
            "overflow": null,
            "overflow_x": null,
            "overflow_y": null,
            "padding": null,
            "right": null,
            "top": null,
            "visibility": null,
            "width": null
          }
        },
        "92d1f5f1f73d4048823c13f9dbe6ced8": {
          "model_module": "@jupyter-widgets/base",
          "model_name": "LayoutModel",
          "model_module_version": "1.2.0",
          "state": {
            "_model_module": "@jupyter-widgets/base",
            "_model_module_version": "1.2.0",
            "_model_name": "LayoutModel",
            "_view_count": null,
            "_view_module": "@jupyter-widgets/base",
            "_view_module_version": "1.2.0",
            "_view_name": "LayoutView",
            "align_content": null,
            "align_items": null,
            "align_self": null,
            "border": null,
            "bottom": null,
            "display": null,
            "flex": null,
            "flex_flow": null,
            "grid_area": null,
            "grid_auto_columns": null,
            "grid_auto_flow": null,
            "grid_auto_rows": null,
            "grid_column": null,
            "grid_gap": null,
            "grid_row": null,
            "grid_template_areas": null,
            "grid_template_columns": null,
            "grid_template_rows": null,
            "height": null,
            "justify_content": null,
            "justify_items": null,
            "left": null,
            "margin": null,
            "max_height": null,
            "max_width": null,
            "min_height": null,
            "min_width": null,
            "object_fit": null,
            "object_position": null,
            "order": null,
            "overflow": null,
            "overflow_x": null,
            "overflow_y": null,
            "padding": null,
            "right": null,
            "top": null,
            "visibility": null,
            "width": null
          }
        },
        "5f62ffabc9d049858224ef73aa8d6f63": {
          "model_module": "@jupyter-widgets/controls",
          "model_name": "DescriptionStyleModel",
          "model_module_version": "1.5.0",
          "state": {
            "_model_module": "@jupyter-widgets/controls",
            "_model_module_version": "1.5.0",
            "_model_name": "DescriptionStyleModel",
            "_view_count": null,
            "_view_module": "@jupyter-widgets/base",
            "_view_module_version": "1.2.0",
            "_view_name": "StyleView",
            "description_width": ""
          }
        },
        "0a3737798dc74266ad080d94289a5e33": {
          "model_module": "@jupyter-widgets/base",
          "model_name": "LayoutModel",
          "model_module_version": "1.2.0",
          "state": {
            "_model_module": "@jupyter-widgets/base",
            "_model_module_version": "1.2.0",
            "_model_name": "LayoutModel",
            "_view_count": null,
            "_view_module": "@jupyter-widgets/base",
            "_view_module_version": "1.2.0",
            "_view_name": "LayoutView",
            "align_content": null,
            "align_items": null,
            "align_self": null,
            "border": null,
            "bottom": null,
            "display": null,
            "flex": null,
            "flex_flow": null,
            "grid_area": null,
            "grid_auto_columns": null,
            "grid_auto_flow": null,
            "grid_auto_rows": null,
            "grid_column": null,
            "grid_gap": null,
            "grid_row": null,
            "grid_template_areas": null,
            "grid_template_columns": null,
            "grid_template_rows": null,
            "height": null,
            "justify_content": null,
            "justify_items": null,
            "left": null,
            "margin": null,
            "max_height": null,
            "max_width": null,
            "min_height": null,
            "min_width": null,
            "object_fit": null,
            "object_position": null,
            "order": null,
            "overflow": null,
            "overflow_x": null,
            "overflow_y": null,
            "padding": null,
            "right": null,
            "top": null,
            "visibility": null,
            "width": null
          }
        },
        "b0fda6f4eec540ac9caec08f5be71533": {
          "model_module": "@jupyter-widgets/controls",
          "model_name": "ProgressStyleModel",
          "model_module_version": "1.5.0",
          "state": {
            "_model_module": "@jupyter-widgets/controls",
            "_model_module_version": "1.5.0",
            "_model_name": "ProgressStyleModel",
            "_view_count": null,
            "_view_module": "@jupyter-widgets/base",
            "_view_module_version": "1.2.0",
            "_view_name": "StyleView",
            "bar_color": null,
            "description_width": ""
          }
        },
        "d66ff07998be4deabbcbd2b6784a6f29": {
          "model_module": "@jupyter-widgets/base",
          "model_name": "LayoutModel",
          "model_module_version": "1.2.0",
          "state": {
            "_model_module": "@jupyter-widgets/base",
            "_model_module_version": "1.2.0",
            "_model_name": "LayoutModel",
            "_view_count": null,
            "_view_module": "@jupyter-widgets/base",
            "_view_module_version": "1.2.0",
            "_view_name": "LayoutView",
            "align_content": null,
            "align_items": null,
            "align_self": null,
            "border": null,
            "bottom": null,
            "display": null,
            "flex": null,
            "flex_flow": null,
            "grid_area": null,
            "grid_auto_columns": null,
            "grid_auto_flow": null,
            "grid_auto_rows": null,
            "grid_column": null,
            "grid_gap": null,
            "grid_row": null,
            "grid_template_areas": null,
            "grid_template_columns": null,
            "grid_template_rows": null,
            "height": null,
            "justify_content": null,
            "justify_items": null,
            "left": null,
            "margin": null,
            "max_height": null,
            "max_width": null,
            "min_height": null,
            "min_width": null,
            "object_fit": null,
            "object_position": null,
            "order": null,
            "overflow": null,
            "overflow_x": null,
            "overflow_y": null,
            "padding": null,
            "right": null,
            "top": null,
            "visibility": null,
            "width": null
          }
        },
        "0cdcd4149e6842ba9617df033bd6a17e": {
          "model_module": "@jupyter-widgets/controls",
          "model_name": "DescriptionStyleModel",
          "model_module_version": "1.5.0",
          "state": {
            "_model_module": "@jupyter-widgets/controls",
            "_model_module_version": "1.5.0",
            "_model_name": "DescriptionStyleModel",
            "_view_count": null,
            "_view_module": "@jupyter-widgets/base",
            "_view_module_version": "1.2.0",
            "_view_name": "StyleView",
            "description_width": ""
          }
        },
        "860caa9acf4047ddb3002404409c42cb": {
          "model_module": "@jupyter-widgets/controls",
          "model_name": "HBoxModel",
          "model_module_version": "1.5.0",
          "state": {
            "_dom_classes": [],
            "_model_module": "@jupyter-widgets/controls",
            "_model_module_version": "1.5.0",
            "_model_name": "HBoxModel",
            "_view_count": null,
            "_view_module": "@jupyter-widgets/controls",
            "_view_module_version": "1.5.0",
            "_view_name": "HBoxView",
            "box_style": "",
            "children": [
              "IPY_MODEL_041ecdfd1b054437bc9529083fcacbb6",
              "IPY_MODEL_26eeab82425a4c4c856d618b809d2af4",
              "IPY_MODEL_0e6ddb9072794025abe39c81dd2eaeb6"
            ],
            "layout": "IPY_MODEL_3866295ed49945f8aab1c5ccaeae3806"
          }
        },
        "041ecdfd1b054437bc9529083fcacbb6": {
          "model_module": "@jupyter-widgets/controls",
          "model_name": "HTMLModel",
          "model_module_version": "1.5.0",
          "state": {
            "_dom_classes": [],
            "_model_module": "@jupyter-widgets/controls",
            "_model_module_version": "1.5.0",
            "_model_name": "HTMLModel",
            "_view_count": null,
            "_view_module": "@jupyter-widgets/controls",
            "_view_module_version": "1.5.0",
            "_view_name": "HTMLView",
            "description": "",
            "description_tooltip": null,
            "layout": "IPY_MODEL_9a596cffa3bd467dbb66e16a26023310",
            "placeholder": "​",
            "style": "IPY_MODEL_1c09f86be11f4f5b8b05934c46e4c149",
            "value": "Downloading /tmp/tmpyzl3lutb/t5-summarization-onnx/artifacts/t5_onnx/decoder_with_past_model.onnx: 100%"
          }
        },
        "26eeab82425a4c4c856d618b809d2af4": {
          "model_module": "@jupyter-widgets/controls",
          "model_name": "FloatProgressModel",
          "model_module_version": "1.5.0",
          "state": {
            "_dom_classes": [],
            "_model_module": "@jupyter-widgets/controls",
            "_model_module_version": "1.5.0",
            "_model_name": "FloatProgressModel",
            "_view_count": null,
            "_view_module": "@jupyter-widgets/controls",
            "_view_module_version": "1.5.0",
            "_view_name": "ProgressView",
            "bar_style": "success",
            "description": "",
            "description_tooltip": null,
            "layout": "IPY_MODEL_a787d32614334c22aea49d6af550818b",
            "max": 1541757381,
            "min": 0,
            "orientation": "horizontal",
            "style": "IPY_MODEL_da17e9c5b4174fd38e0cac2e31a37b27",
            "value": 1541757381
          }
        },
        "0e6ddb9072794025abe39c81dd2eaeb6": {
          "model_module": "@jupyter-widgets/controls",
          "model_name": "HTMLModel",
          "model_module_version": "1.5.0",
          "state": {
            "_dom_classes": [],
            "_model_module": "@jupyter-widgets/controls",
            "_model_module_version": "1.5.0",
            "_model_name": "HTMLModel",
            "_view_count": null,
            "_view_module": "@jupyter-widgets/controls",
            "_view_module_version": "1.5.0",
            "_view_name": "HTMLView",
            "description": "",
            "description_tooltip": null,
            "layout": "IPY_MODEL_87fb3e11494e43688cc7f0a1d7d2ba4a",
            "placeholder": "​",
            "style": "IPY_MODEL_36cba95da19c4311b62079b658003082",
            "value": " 1.44G/1.44G [01:04&lt;00:00, 85.3MiB/s]"
          }
        },
        "3866295ed49945f8aab1c5ccaeae3806": {
          "model_module": "@jupyter-widgets/base",
          "model_name": "LayoutModel",
          "model_module_version": "1.2.0",
          "state": {
            "_model_module": "@jupyter-widgets/base",
            "_model_module_version": "1.2.0",
            "_model_name": "LayoutModel",
            "_view_count": null,
            "_view_module": "@jupyter-widgets/base",
            "_view_module_version": "1.2.0",
            "_view_name": "LayoutView",
            "align_content": null,
            "align_items": null,
            "align_self": null,
            "border": null,
            "bottom": null,
            "display": null,
            "flex": null,
            "flex_flow": null,
            "grid_area": null,
            "grid_auto_columns": null,
            "grid_auto_flow": null,
            "grid_auto_rows": null,
            "grid_column": null,
            "grid_gap": null,
            "grid_row": null,
            "grid_template_areas": null,
            "grid_template_columns": null,
            "grid_template_rows": null,
            "height": null,
            "justify_content": null,
            "justify_items": null,
            "left": null,
            "margin": null,
            "max_height": null,
            "max_width": null,
            "min_height": null,
            "min_width": null,
            "object_fit": null,
            "object_position": null,
            "order": null,
            "overflow": null,
            "overflow_x": null,
            "overflow_y": null,
            "padding": null,
            "right": null,
            "top": null,
            "visibility": null,
            "width": null
          }
        },
        "9a596cffa3bd467dbb66e16a26023310": {
          "model_module": "@jupyter-widgets/base",
          "model_name": "LayoutModel",
          "model_module_version": "1.2.0",
          "state": {
            "_model_module": "@jupyter-widgets/base",
            "_model_module_version": "1.2.0",
            "_model_name": "LayoutModel",
            "_view_count": null,
            "_view_module": "@jupyter-widgets/base",
            "_view_module_version": "1.2.0",
            "_view_name": "LayoutView",
            "align_content": null,
            "align_items": null,
            "align_self": null,
            "border": null,
            "bottom": null,
            "display": null,
            "flex": null,
            "flex_flow": null,
            "grid_area": null,
            "grid_auto_columns": null,
            "grid_auto_flow": null,
            "grid_auto_rows": null,
            "grid_column": null,
            "grid_gap": null,
            "grid_row": null,
            "grid_template_areas": null,
            "grid_template_columns": null,
            "grid_template_rows": null,
            "height": null,
            "justify_content": null,
            "justify_items": null,
            "left": null,
            "margin": null,
            "max_height": null,
            "max_width": null,
            "min_height": null,
            "min_width": null,
            "object_fit": null,
            "object_position": null,
            "order": null,
            "overflow": null,
            "overflow_x": null,
            "overflow_y": null,
            "padding": null,
            "right": null,
            "top": null,
            "visibility": null,
            "width": null
          }
        },
        "1c09f86be11f4f5b8b05934c46e4c149": {
          "model_module": "@jupyter-widgets/controls",
          "model_name": "DescriptionStyleModel",
          "model_module_version": "1.5.0",
          "state": {
            "_model_module": "@jupyter-widgets/controls",
            "_model_module_version": "1.5.0",
            "_model_name": "DescriptionStyleModel",
            "_view_count": null,
            "_view_module": "@jupyter-widgets/base",
            "_view_module_version": "1.2.0",
            "_view_name": "StyleView",
            "description_width": ""
          }
        },
        "a787d32614334c22aea49d6af550818b": {
          "model_module": "@jupyter-widgets/base",
          "model_name": "LayoutModel",
          "model_module_version": "1.2.0",
          "state": {
            "_model_module": "@jupyter-widgets/base",
            "_model_module_version": "1.2.0",
            "_model_name": "LayoutModel",
            "_view_count": null,
            "_view_module": "@jupyter-widgets/base",
            "_view_module_version": "1.2.0",
            "_view_name": "LayoutView",
            "align_content": null,
            "align_items": null,
            "align_self": null,
            "border": null,
            "bottom": null,
            "display": null,
            "flex": null,
            "flex_flow": null,
            "grid_area": null,
            "grid_auto_columns": null,
            "grid_auto_flow": null,
            "grid_auto_rows": null,
            "grid_column": null,
            "grid_gap": null,
            "grid_row": null,
            "grid_template_areas": null,
            "grid_template_columns": null,
            "grid_template_rows": null,
            "height": null,
            "justify_content": null,
            "justify_items": null,
            "left": null,
            "margin": null,
            "max_height": null,
            "max_width": null,
            "min_height": null,
            "min_width": null,
            "object_fit": null,
            "object_position": null,
            "order": null,
            "overflow": null,
            "overflow_x": null,
            "overflow_y": null,
            "padding": null,
            "right": null,
            "top": null,
            "visibility": null,
            "width": null
          }
        },
        "da17e9c5b4174fd38e0cac2e31a37b27": {
          "model_module": "@jupyter-widgets/controls",
          "model_name": "ProgressStyleModel",
          "model_module_version": "1.5.0",
          "state": {
            "_model_module": "@jupyter-widgets/controls",
            "_model_module_version": "1.5.0",
            "_model_name": "ProgressStyleModel",
            "_view_count": null,
            "_view_module": "@jupyter-widgets/base",
            "_view_module_version": "1.2.0",
            "_view_name": "StyleView",
            "bar_color": null,
            "description_width": ""
          }
        },
        "87fb3e11494e43688cc7f0a1d7d2ba4a": {
          "model_module": "@jupyter-widgets/base",
          "model_name": "LayoutModel",
          "model_module_version": "1.2.0",
          "state": {
            "_model_module": "@jupyter-widgets/base",
            "_model_module_version": "1.2.0",
            "_model_name": "LayoutModel",
            "_view_count": null,
            "_view_module": "@jupyter-widgets/base",
            "_view_module_version": "1.2.0",
            "_view_name": "LayoutView",
            "align_content": null,
            "align_items": null,
            "align_self": null,
            "border": null,
            "bottom": null,
            "display": null,
            "flex": null,
            "flex_flow": null,
            "grid_area": null,
            "grid_auto_columns": null,
            "grid_auto_flow": null,
            "grid_auto_rows": null,
            "grid_column": null,
            "grid_gap": null,
            "grid_row": null,
            "grid_template_areas": null,
            "grid_template_columns": null,
            "grid_template_rows": null,
            "height": null,
            "justify_content": null,
            "justify_items": null,
            "left": null,
            "margin": null,
            "max_height": null,
            "max_width": null,
            "min_height": null,
            "min_width": null,
            "object_fit": null,
            "object_position": null,
            "order": null,
            "overflow": null,
            "overflow_x": null,
            "overflow_y": null,
            "padding": null,
            "right": null,
            "top": null,
            "visibility": null,
            "width": null
          }
        },
        "36cba95da19c4311b62079b658003082": {
          "model_module": "@jupyter-widgets/controls",
          "model_name": "DescriptionStyleModel",
          "model_module_version": "1.5.0",
          "state": {
            "_model_module": "@jupyter-widgets/controls",
            "_model_module_version": "1.5.0",
            "_model_name": "DescriptionStyleModel",
            "_view_count": null,
            "_view_module": "@jupyter-widgets/base",
            "_view_module_version": "1.2.0",
            "_view_name": "StyleView",
            "description_width": ""
          }
        },
        "91eaf07a7c184adea8b312a49d1645b5": {
          "model_module": "@jupyter-widgets/controls",
          "model_name": "HBoxModel",
          "model_module_version": "1.5.0",
          "state": {
            "_dom_classes": [],
            "_model_module": "@jupyter-widgets/controls",
            "_model_module_version": "1.5.0",
            "_model_name": "HBoxModel",
            "_view_count": null,
            "_view_module": "@jupyter-widgets/controls",
            "_view_module_version": "1.5.0",
            "_view_name": "HBoxView",
            "box_style": "",
            "children": [
              "IPY_MODEL_71036b46b4db40f3aab5f6bbda469fad",
              "IPY_MODEL_3dfc6e89a9f246b3b0ab5199e68c84de",
              "IPY_MODEL_d83f9df03e954e4e833586bd3a96bf3d"
            ],
            "layout": "IPY_MODEL_abdb2efabd5d443db3b55f826cfbccc8"
          }
        },
        "71036b46b4db40f3aab5f6bbda469fad": {
          "model_module": "@jupyter-widgets/controls",
          "model_name": "HTMLModel",
          "model_module_version": "1.5.0",
          "state": {
            "_dom_classes": [],
            "_model_module": "@jupyter-widgets/controls",
            "_model_module_version": "1.5.0",
            "_model_name": "HTMLModel",
            "_view_count": null,
            "_view_module": "@jupyter-widgets/controls",
            "_view_module_version": "1.5.0",
            "_view_name": "HTMLView",
            "description": "",
            "description_tooltip": null,
            "layout": "IPY_MODEL_1fc7888fa0cc469bae00cc11c6f19633",
            "placeholder": "​",
            "style": "IPY_MODEL_58e9786bd6a4411a96264a38e9d519a4",
            "value": "Downloading /tmp/tmpyzl3lutb/t5-summarization-onnx/artifacts/t5_onnx/decoder_model.onnx: 100%"
          }
        },
        "3dfc6e89a9f246b3b0ab5199e68c84de": {
          "model_module": "@jupyter-widgets/controls",
          "model_name": "FloatProgressModel",
          "model_module_version": "1.5.0",
          "state": {
            "_dom_classes": [],
            "_model_module": "@jupyter-widgets/controls",
            "_model_module_version": "1.5.0",
            "_model_name": "FloatProgressModel",
            "_view_count": null,
            "_view_module": "@jupyter-widgets/controls",
            "_view_module_version": "1.5.0",
            "_view_name": "ProgressView",
            "bar_style": "success",
            "description": "",
            "description_tooltip": null,
            "layout": "IPY_MODEL_d44a682659d14b0689c3230c932d9ad4",
            "max": 1743154907,
            "min": 0,
            "orientation": "horizontal",
            "style": "IPY_MODEL_af1b7fffd1ea41b389bbfa70511b382f",
            "value": 1743154907
          }
        },
        "d83f9df03e954e4e833586bd3a96bf3d": {
          "model_module": "@jupyter-widgets/controls",
          "model_name": "HTMLModel",
          "model_module_version": "1.5.0",
          "state": {
            "_dom_classes": [],
            "_model_module": "@jupyter-widgets/controls",
            "_model_module_version": "1.5.0",
            "_model_name": "HTMLModel",
            "_view_count": null,
            "_view_module": "@jupyter-widgets/controls",
            "_view_module_version": "1.5.0",
            "_view_name": "HTMLView",
            "description": "",
            "description_tooltip": null,
            "layout": "IPY_MODEL_5769192dffcf451ea1d0b82a623b6595",
            "placeholder": "​",
            "style": "IPY_MODEL_5db115f943144747bc1a6b9b8d3adbb5",
            "value": " 1.62G/1.62G [01:29&lt;00:00, 59.5MiB/s]"
          }
        },
        "abdb2efabd5d443db3b55f826cfbccc8": {
          "model_module": "@jupyter-widgets/base",
          "model_name": "LayoutModel",
          "model_module_version": "1.2.0",
          "state": {
            "_model_module": "@jupyter-widgets/base",
            "_model_module_version": "1.2.0",
            "_model_name": "LayoutModel",
            "_view_count": null,
            "_view_module": "@jupyter-widgets/base",
            "_view_module_version": "1.2.0",
            "_view_name": "LayoutView",
            "align_content": null,
            "align_items": null,
            "align_self": null,
            "border": null,
            "bottom": null,
            "display": null,
            "flex": null,
            "flex_flow": null,
            "grid_area": null,
            "grid_auto_columns": null,
            "grid_auto_flow": null,
            "grid_auto_rows": null,
            "grid_column": null,
            "grid_gap": null,
            "grid_row": null,
            "grid_template_areas": null,
            "grid_template_columns": null,
            "grid_template_rows": null,
            "height": null,
            "justify_content": null,
            "justify_items": null,
            "left": null,
            "margin": null,
            "max_height": null,
            "max_width": null,
            "min_height": null,
            "min_width": null,
            "object_fit": null,
            "object_position": null,
            "order": null,
            "overflow": null,
            "overflow_x": null,
            "overflow_y": null,
            "padding": null,
            "right": null,
            "top": null,
            "visibility": null,
            "width": null
          }
        },
        "1fc7888fa0cc469bae00cc11c6f19633": {
          "model_module": "@jupyter-widgets/base",
          "model_name": "LayoutModel",
          "model_module_version": "1.2.0",
          "state": {
            "_model_module": "@jupyter-widgets/base",
            "_model_module_version": "1.2.0",
            "_model_name": "LayoutModel",
            "_view_count": null,
            "_view_module": "@jupyter-widgets/base",
            "_view_module_version": "1.2.0",
            "_view_name": "LayoutView",
            "align_content": null,
            "align_items": null,
            "align_self": null,
            "border": null,
            "bottom": null,
            "display": null,
            "flex": null,
            "flex_flow": null,
            "grid_area": null,
            "grid_auto_columns": null,
            "grid_auto_flow": null,
            "grid_auto_rows": null,
            "grid_column": null,
            "grid_gap": null,
            "grid_row": null,
            "grid_template_areas": null,
            "grid_template_columns": null,
            "grid_template_rows": null,
            "height": null,
            "justify_content": null,
            "justify_items": null,
            "left": null,
            "margin": null,
            "max_height": null,
            "max_width": null,
            "min_height": null,
            "min_width": null,
            "object_fit": null,
            "object_position": null,
            "order": null,
            "overflow": null,
            "overflow_x": null,
            "overflow_y": null,
            "padding": null,
            "right": null,
            "top": null,
            "visibility": null,
            "width": null
          }
        },
        "58e9786bd6a4411a96264a38e9d519a4": {
          "model_module": "@jupyter-widgets/controls",
          "model_name": "DescriptionStyleModel",
          "model_module_version": "1.5.0",
          "state": {
            "_model_module": "@jupyter-widgets/controls",
            "_model_module_version": "1.5.0",
            "_model_name": "DescriptionStyleModel",
            "_view_count": null,
            "_view_module": "@jupyter-widgets/base",
            "_view_module_version": "1.2.0",
            "_view_name": "StyleView",
            "description_width": ""
          }
        },
        "d44a682659d14b0689c3230c932d9ad4": {
          "model_module": "@jupyter-widgets/base",
          "model_name": "LayoutModel",
          "model_module_version": "1.2.0",
          "state": {
            "_model_module": "@jupyter-widgets/base",
            "_model_module_version": "1.2.0",
            "_model_name": "LayoutModel",
            "_view_count": null,
            "_view_module": "@jupyter-widgets/base",
            "_view_module_version": "1.2.0",
            "_view_name": "LayoutView",
            "align_content": null,
            "align_items": null,
            "align_self": null,
            "border": null,
            "bottom": null,
            "display": null,
            "flex": null,
            "flex_flow": null,
            "grid_area": null,
            "grid_auto_columns": null,
            "grid_auto_flow": null,
            "grid_auto_rows": null,
            "grid_column": null,
            "grid_gap": null,
            "grid_row": null,
            "grid_template_areas": null,
            "grid_template_columns": null,
            "grid_template_rows": null,
            "height": null,
            "justify_content": null,
            "justify_items": null,
            "left": null,
            "margin": null,
            "max_height": null,
            "max_width": null,
            "min_height": null,
            "min_width": null,
            "object_fit": null,
            "object_position": null,
            "order": null,
            "overflow": null,
            "overflow_x": null,
            "overflow_y": null,
            "padding": null,
            "right": null,
            "top": null,
            "visibility": null,
            "width": null
          }
        },
        "af1b7fffd1ea41b389bbfa70511b382f": {
          "model_module": "@jupyter-widgets/controls",
          "model_name": "ProgressStyleModel",
          "model_module_version": "1.5.0",
          "state": {
            "_model_module": "@jupyter-widgets/controls",
            "_model_module_version": "1.5.0",
            "_model_name": "ProgressStyleModel",
            "_view_count": null,
            "_view_module": "@jupyter-widgets/base",
            "_view_module_version": "1.2.0",
            "_view_name": "StyleView",
            "bar_color": null,
            "description_width": ""
          }
        },
        "5769192dffcf451ea1d0b82a623b6595": {
          "model_module": "@jupyter-widgets/base",
          "model_name": "LayoutModel",
          "model_module_version": "1.2.0",
          "state": {
            "_model_module": "@jupyter-widgets/base",
            "_model_module_version": "1.2.0",
            "_model_name": "LayoutModel",
            "_view_count": null,
            "_view_module": "@jupyter-widgets/base",
            "_view_module_version": "1.2.0",
            "_view_name": "LayoutView",
            "align_content": null,
            "align_items": null,
            "align_self": null,
            "border": null,
            "bottom": null,
            "display": null,
            "flex": null,
            "flex_flow": null,
            "grid_area": null,
            "grid_auto_columns": null,
            "grid_auto_flow": null,
            "grid_auto_rows": null,
            "grid_column": null,
            "grid_gap": null,
            "grid_row": null,
            "grid_template_areas": null,
            "grid_template_columns": null,
            "grid_template_rows": null,
            "height": null,
            "justify_content": null,
            "justify_items": null,
            "left": null,
            "margin": null,
            "max_height": null,
            "max_width": null,
            "min_height": null,
            "min_width": null,
            "object_fit": null,
            "object_position": null,
            "order": null,
            "overflow": null,
            "overflow_x": null,
            "overflow_y": null,
            "padding": null,
            "right": null,
            "top": null,
            "visibility": null,
            "width": null
          }
        },
        "5db115f943144747bc1a6b9b8d3adbb5": {
          "model_module": "@jupyter-widgets/controls",
          "model_name": "DescriptionStyleModel",
          "model_module_version": "1.5.0",
          "state": {
            "_model_module": "@jupyter-widgets/controls",
            "_model_module_version": "1.5.0",
            "_model_name": "DescriptionStyleModel",
            "_view_count": null,
            "_view_module": "@jupyter-widgets/base",
            "_view_module_version": "1.2.0",
            "_view_name": "StyleView",
            "description_width": ""
          }
        },
        "e1623663f3e4493992add57d737d7e0c": {
          "model_module": "@jupyter-widgets/controls",
          "model_name": "HBoxModel",
          "model_module_version": "1.5.0",
          "state": {
            "_dom_classes": [],
            "_model_module": "@jupyter-widgets/controls",
            "_model_module_version": "1.5.0",
            "_model_name": "HBoxModel",
            "_view_count": null,
            "_view_module": "@jupyter-widgets/controls",
            "_view_module_version": "1.5.0",
            "_view_name": "HBoxView",
            "box_style": "",
            "children": [
              "IPY_MODEL_6dee59fe8bb144ef855062a8913e17f3",
              "IPY_MODEL_8c586c97437b4f03aff54585ffd388c9",
              "IPY_MODEL_7e582d67d9a7458db2f794b4281ab1b9"
            ],
            "layout": "IPY_MODEL_55ff64d8fb2849fa8088c1643949f529"
          }
        },
        "6dee59fe8bb144ef855062a8913e17f3": {
          "model_module": "@jupyter-widgets/controls",
          "model_name": "HTMLModel",
          "model_module_version": "1.5.0",
          "state": {
            "_dom_classes": [],
            "_model_module": "@jupyter-widgets/controls",
            "_model_module_version": "1.5.0",
            "_model_name": "HTMLModel",
            "_view_count": null,
            "_view_module": "@jupyter-widgets/controls",
            "_view_module_version": "1.5.0",
            "_view_name": "HTMLView",
            "description": "",
            "description_tooltip": null,
            "layout": "IPY_MODEL_24c067ff73b14b7aaf3473adb9c94d7e",
            "placeholder": "​",
            "style": "IPY_MODEL_dda676bf34c24b3da5036ac1299c3d57",
            "value": "Downloading artifacts: 100%"
          }
        },
        "8c586c97437b4f03aff54585ffd388c9": {
          "model_module": "@jupyter-widgets/controls",
          "model_name": "FloatProgressModel",
          "model_module_version": "1.5.0",
          "state": {
            "_dom_classes": [],
            "_model_module": "@jupyter-widgets/controls",
            "_model_module_version": "1.5.0",
            "_model_name": "FloatProgressModel",
            "_view_count": null,
            "_view_module": "@jupyter-widgets/controls",
            "_view_module_version": "1.5.0",
            "_view_name": "ProgressView",
            "bar_style": "success",
            "description": "",
            "description_tooltip": null,
            "layout": "IPY_MODEL_419ed717212a413f9a13317a62353c9a",
            "max": 11,
            "min": 0,
            "orientation": "horizontal",
            "style": "IPY_MODEL_174222834e1143f8aa778f63d1017a1c",
            "value": 11
          }
        },
        "7e582d67d9a7458db2f794b4281ab1b9": {
          "model_module": "@jupyter-widgets/controls",
          "model_name": "HTMLModel",
          "model_module_version": "1.5.0",
          "state": {
            "_dom_classes": [],
            "_model_module": "@jupyter-widgets/controls",
            "_model_module_version": "1.5.0",
            "_model_name": "HTMLModel",
            "_view_count": null,
            "_view_module": "@jupyter-widgets/controls",
            "_view_module_version": "1.5.0",
            "_view_name": "HTMLView",
            "description": "",
            "description_tooltip": null,
            "layout": "IPY_MODEL_4e6ad494be7c49269502aba2024d0fcd",
            "placeholder": "​",
            "style": "IPY_MODEL_1f808ecdf0af485eb951088a3ffb295e",
            "value": " 11/11 [00:43&lt;00:00,  4.31s/it]"
          }
        },
        "55ff64d8fb2849fa8088c1643949f529": {
          "model_module": "@jupyter-widgets/base",
          "model_name": "LayoutModel",
          "model_module_version": "1.2.0",
          "state": {
            "_model_module": "@jupyter-widgets/base",
            "_model_module_version": "1.2.0",
            "_model_name": "LayoutModel",
            "_view_count": null,
            "_view_module": "@jupyter-widgets/base",
            "_view_module_version": "1.2.0",
            "_view_name": "LayoutView",
            "align_content": null,
            "align_items": null,
            "align_self": null,
            "border": null,
            "bottom": null,
            "display": null,
            "flex": null,
            "flex_flow": null,
            "grid_area": null,
            "grid_auto_columns": null,
            "grid_auto_flow": null,
            "grid_auto_rows": null,
            "grid_column": null,
            "grid_gap": null,
            "grid_row": null,
            "grid_template_areas": null,
            "grid_template_columns": null,
            "grid_template_rows": null,
            "height": null,
            "justify_content": null,
            "justify_items": null,
            "left": null,
            "margin": null,
            "max_height": null,
            "max_width": null,
            "min_height": null,
            "min_width": null,
            "object_fit": null,
            "object_position": null,
            "order": null,
            "overflow": null,
            "overflow_x": null,
            "overflow_y": null,
            "padding": null,
            "right": null,
            "top": null,
            "visibility": null,
            "width": null
          }
        },
        "24c067ff73b14b7aaf3473adb9c94d7e": {
          "model_module": "@jupyter-widgets/base",
          "model_name": "LayoutModel",
          "model_module_version": "1.2.0",
          "state": {
            "_model_module": "@jupyter-widgets/base",
            "_model_module_version": "1.2.0",
            "_model_name": "LayoutModel",
            "_view_count": null,
            "_view_module": "@jupyter-widgets/base",
            "_view_module_version": "1.2.0",
            "_view_name": "LayoutView",
            "align_content": null,
            "align_items": null,
            "align_self": null,
            "border": null,
            "bottom": null,
            "display": null,
            "flex": null,
            "flex_flow": null,
            "grid_area": null,
            "grid_auto_columns": null,
            "grid_auto_flow": null,
            "grid_auto_rows": null,
            "grid_column": null,
            "grid_gap": null,
            "grid_row": null,
            "grid_template_areas": null,
            "grid_template_columns": null,
            "grid_template_rows": null,
            "height": null,
            "justify_content": null,
            "justify_items": null,
            "left": null,
            "margin": null,
            "max_height": null,
            "max_width": null,
            "min_height": null,
            "min_width": null,
            "object_fit": null,
            "object_position": null,
            "order": null,
            "overflow": null,
            "overflow_x": null,
            "overflow_y": null,
            "padding": null,
            "right": null,
            "top": null,
            "visibility": null,
            "width": null
          }
        },
        "dda676bf34c24b3da5036ac1299c3d57": {
          "model_module": "@jupyter-widgets/controls",
          "model_name": "DescriptionStyleModel",
          "model_module_version": "1.5.0",
          "state": {
            "_model_module": "@jupyter-widgets/controls",
            "_model_module_version": "1.5.0",
            "_model_name": "DescriptionStyleModel",
            "_view_count": null,
            "_view_module": "@jupyter-widgets/base",
            "_view_module_version": "1.2.0",
            "_view_name": "StyleView",
            "description_width": ""
          }
        },
        "419ed717212a413f9a13317a62353c9a": {
          "model_module": "@jupyter-widgets/base",
          "model_name": "LayoutModel",
          "model_module_version": "1.2.0",
          "state": {
            "_model_module": "@jupyter-widgets/base",
            "_model_module_version": "1.2.0",
            "_model_name": "LayoutModel",
            "_view_count": null,
            "_view_module": "@jupyter-widgets/base",
            "_view_module_version": "1.2.0",
            "_view_name": "LayoutView",
            "align_content": null,
            "align_items": null,
            "align_self": null,
            "border": null,
            "bottom": null,
            "display": null,
            "flex": null,
            "flex_flow": null,
            "grid_area": null,
            "grid_auto_columns": null,
            "grid_auto_flow": null,
            "grid_auto_rows": null,
            "grid_column": null,
            "grid_gap": null,
            "grid_row": null,
            "grid_template_areas": null,
            "grid_template_columns": null,
            "grid_template_rows": null,
            "height": null,
            "justify_content": null,
            "justify_items": null,
            "left": null,
            "margin": null,
            "max_height": null,
            "max_width": null,
            "min_height": null,
            "min_width": null,
            "object_fit": null,
            "object_position": null,
            "order": null,
            "overflow": null,
            "overflow_x": null,
            "overflow_y": null,
            "padding": null,
            "right": null,
            "top": null,
            "visibility": null,
            "width": null
          }
        },
        "174222834e1143f8aa778f63d1017a1c": {
          "model_module": "@jupyter-widgets/controls",
          "model_name": "ProgressStyleModel",
          "model_module_version": "1.5.0",
          "state": {
            "_model_module": "@jupyter-widgets/controls",
            "_model_module_version": "1.5.0",
            "_model_name": "ProgressStyleModel",
            "_view_count": null,
            "_view_module": "@jupyter-widgets/base",
            "_view_module_version": "1.2.0",
            "_view_name": "StyleView",
            "bar_color": null,
            "description_width": ""
          }
        },
        "4e6ad494be7c49269502aba2024d0fcd": {
          "model_module": "@jupyter-widgets/base",
          "model_name": "LayoutModel",
          "model_module_version": "1.2.0",
          "state": {
            "_model_module": "@jupyter-widgets/base",
            "_model_module_version": "1.2.0",
            "_model_name": "LayoutModel",
            "_view_count": null,
            "_view_module": "@jupyter-widgets/base",
            "_view_module_version": "1.2.0",
            "_view_name": "LayoutView",
            "align_content": null,
            "align_items": null,
            "align_self": null,
            "border": null,
            "bottom": null,
            "display": null,
            "flex": null,
            "flex_flow": null,
            "grid_area": null,
            "grid_auto_columns": null,
            "grid_auto_flow": null,
            "grid_auto_rows": null,
            "grid_column": null,
            "grid_gap": null,
            "grid_row": null,
            "grid_template_areas": null,
            "grid_template_columns": null,
            "grid_template_rows": null,
            "height": null,
            "justify_content": null,
            "justify_items": null,
            "left": null,
            "margin": null,
            "max_height": null,
            "max_width": null,
            "min_height": null,
            "min_width": null,
            "object_fit": null,
            "object_position": null,
            "order": null,
            "overflow": null,
            "overflow_x": null,
            "overflow_y": null,
            "padding": null,
            "right": null,
            "top": null,
            "visibility": null,
            "width": null
          }
        },
        "1f808ecdf0af485eb951088a3ffb295e": {
          "model_module": "@jupyter-widgets/controls",
          "model_name": "DescriptionStyleModel",
          "model_module_version": "1.5.0",
          "state": {
            "_model_module": "@jupyter-widgets/controls",
            "_model_module_version": "1.5.0",
            "_model_name": "DescriptionStyleModel",
            "_view_count": null,
            "_view_module": "@jupyter-widgets/base",
            "_view_module_version": "1.2.0",
            "_view_name": "StyleView",
            "description_width": ""
          }
        },
        "3345da0320a5464d8471afb96660c17b": {
          "model_module": "@jupyter-widgets/base",
          "model_name": "LayoutModel",
          "model_module_version": "1.2.0",
          "state": {
            "_model_module": "@jupyter-widgets/base",
            "_model_module_version": "1.2.0",
            "_model_name": "LayoutModel",
            "_view_count": null,
            "_view_module": "@jupyter-widgets/base",
            "_view_module_version": "1.2.0",
            "_view_name": "LayoutView",
            "align_content": null,
            "align_items": null,
            "align_self": null,
            "border": null,
            "bottom": null,
            "display": null,
            "flex": null,
            "flex_flow": null,
            "grid_area": null,
            "grid_auto_columns": null,
            "grid_auto_flow": null,
            "grid_auto_rows": null,
            "grid_column": null,
            "grid_gap": null,
            "grid_row": null,
            "grid_template_areas": null,
            "grid_template_columns": null,
            "grid_template_rows": null,
            "height": null,
            "justify_content": null,
            "justify_items": null,
            "left": null,
            "margin": null,
            "max_height": null,
            "max_width": null,
            "min_height": null,
            "min_width": null,
            "object_fit": null,
            "object_position": null,
            "order": null,
            "overflow": null,
            "overflow_x": null,
            "overflow_y": null,
            "padding": null,
            "right": null,
            "top": null,
            "visibility": null,
            "width": null
          }
        },
        "edf42a14cbab4060bda237c0dabf81f7": {
          "model_module": "@jupyter-widgets/controls",
          "model_name": "ProgressStyleModel",
          "model_module_version": "1.5.0",
          "state": {
            "_model_module": "@jupyter-widgets/controls",
            "_model_module_version": "1.5.0",
            "_model_name": "ProgressStyleModel",
            "_view_count": null,
            "_view_module": "@jupyter-widgets/base",
            "_view_module_version": "1.2.0",
            "_view_name": "StyleView",
            "bar_color": null,
            "description_width": ""
          }
        },
        "8737b51bfc844cbe9652e494e706e721": {
          "model_module": "@jupyter-widgets/base",
          "model_name": "LayoutModel",
          "model_module_version": "1.2.0",
          "state": {
            "_model_module": "@jupyter-widgets/base",
            "_model_module_version": "1.2.0",
            "_model_name": "LayoutModel",
            "_view_count": null,
            "_view_module": "@jupyter-widgets/base",
            "_view_module_version": "1.2.0",
            "_view_name": "LayoutView",
            "align_content": null,
            "align_items": null,
            "align_self": null,
            "border": null,
            "bottom": null,
            "display": null,
            "flex": null,
            "flex_flow": null,
            "grid_area": null,
            "grid_auto_columns": null,
            "grid_auto_flow": null,
            "grid_auto_rows": null,
            "grid_column": null,
            "grid_gap": null,
            "grid_row": null,
            "grid_template_areas": null,
            "grid_template_columns": null,
            "grid_template_rows": null,
            "height": null,
            "justify_content": null,
            "justify_items": null,
            "left": null,
            "margin": null,
            "max_height": null,
            "max_width": null,
            "min_height": null,
            "min_width": null,
            "object_fit": null,
            "object_position": null,
            "order": null,
            "overflow": null,
            "overflow_x": null,
            "overflow_y": null,
            "padding": null,
            "right": null,
            "top": null,
            "visibility": null,
            "width": null
          }
        },
        "cb0adec5c8684dfb943b769a49ba2a2c": {
          "model_module": "@jupyter-widgets/controls",
          "model_name": "DescriptionStyleModel",
          "model_module_version": "1.5.0",
          "state": {
            "_model_module": "@jupyter-widgets/controls",
            "_model_module_version": "1.5.0",
            "_model_name": "DescriptionStyleModel",
            "_view_count": null,
            "_view_module": "@jupyter-widgets/base",
            "_view_module_version": "1.2.0",
            "_view_name": "StyleView",
            "description_width": ""
          }
        },
        "e3325eec128c4e2685285108dfc3687d": {
          "model_module": "@jupyter-widgets/base",
          "model_name": "LayoutModel",
          "model_module_version": "1.2.0",
          "state": {
            "_model_module": "@jupyter-widgets/base",
            "_model_module_version": "1.2.0",
            "_model_name": "LayoutModel",
            "_view_count": null,
            "_view_module": "@jupyter-widgets/base",
            "_view_module_version": "1.2.0",
            "_view_name": "LayoutView",
            "align_content": null,
            "align_items": null,
            "align_self": null,
            "border": null,
            "bottom": null,
            "display": null,
            "flex": null,
            "flex_flow": null,
            "grid_area": null,
            "grid_auto_columns": null,
            "grid_auto_flow": null,
            "grid_auto_rows": null,
            "grid_column": null,
            "grid_gap": null,
            "grid_row": null,
            "grid_template_areas": null,
            "grid_template_columns": null,
            "grid_template_rows": null,
            "height": null,
            "justify_content": null,
            "justify_items": null,
            "left": null,
            "margin": null,
            "max_height": null,
            "max_width": null,
            "min_height": null,
            "min_width": null,
            "object_fit": null,
            "object_position": null,
            "order": null,
            "overflow": null,
            "overflow_x": null,
            "overflow_y": null,
            "padding": null,
            "right": null,
            "top": null,
            "visibility": null,
            "width": null
          }
        },
        "1d4799345bf845a3a1cc18541561d64c": {
          "model_module": "@jupyter-widgets/controls",
          "model_name": "DescriptionStyleModel",
          "model_module_version": "1.5.0",
          "state": {
            "_model_module": "@jupyter-widgets/controls",
            "_model_module_version": "1.5.0",
            "_model_name": "DescriptionStyleModel",
            "_view_count": null,
            "_view_module": "@jupyter-widgets/base",
            "_view_module_version": "1.2.0",
            "_view_name": "StyleView",
            "description_width": ""
          }
        },
        "a4050d5c4ebd4ae3857ea2fc99eb1b2a": {
          "model_module": "@jupyter-widgets/controls",
          "model_name": "HTMLModel",
          "model_module_version": "1.5.0",
          "state": {
            "_dom_classes": [],
            "_model_module": "@jupyter-widgets/controls",
            "_model_module_version": "1.5.0",
            "_model_name": "HTMLModel",
            "_view_count": null,
            "_view_module": "@jupyter-widgets/controls",
            "_view_module_version": "1.5.0",
            "_view_name": "HTMLView",
            "description": "",
            "description_tooltip": null,
            "layout": "IPY_MODEL_8737b51bfc844cbe9652e494e706e721",
            "placeholder": "​",
            "style": "IPY_MODEL_cb0adec5c8684dfb943b769a49ba2a2c",
            "value": "Uploading artifacts: 100%"
          }
        },
        "dd9773e818e549389b2fd620bdb8f6bf": {
          "model_module": "@jupyter-widgets/controls",
          "model_name": "FloatProgressModel",
          "model_module_version": "1.5.0",
          "state": {
            "_dom_classes": [],
            "_model_module": "@jupyter-widgets/controls",
            "_model_module_version": "1.5.0",
            "_model_name": "FloatProgressModel",
            "_view_count": null,
            "_view_module": "@jupyter-widgets/controls",
            "_view_module_version": "1.5.0",
            "_view_name": "ProgressView",
            "bar_style": "success",
            "description": "",
            "description_tooltip": null,
            "layout": "IPY_MODEL_3345da0320a5464d8471afb96660c17b",
            "max": 18,
            "min": 0,
            "orientation": "horizontal",
            "style": "IPY_MODEL_edf42a14cbab4060bda237c0dabf81f7",
            "value": 18
          }
        },
        "6ca5f580322f426aa982c349d8c9ce4d": {
          "model_module": "@jupyter-widgets/controls",
          "model_name": "HTMLModel",
          "model_module_version": "1.5.0",
          "state": {
            "_dom_classes": [],
            "_model_module": "@jupyter-widgets/controls",
            "_model_module_version": "1.5.0",
            "_model_name": "HTMLModel",
            "_view_count": null,
            "_view_module": "@jupyter-widgets/controls",
            "_view_module_version": "1.5.0",
            "_view_name": "HTMLView",
            "description": "",
            "description_tooltip": null,
            "layout": "IPY_MODEL_e3325eec128c4e2685285108dfc3687d",
            "placeholder": "​",
            "style": "IPY_MODEL_1d4799345bf845a3a1cc18541561d64c",
            "value": " 18/18 [01:23&lt;00:00,  7.96s/it]"
          }
        },
        "ef80a091a0764e56a8a83de06e10dafb": {
          "model_module": "@jupyter-widgets/base",
          "model_name": "LayoutModel",
          "model_module_version": "1.2.0",
          "state": {
            "_model_module": "@jupyter-widgets/base",
            "_model_module_version": "1.2.0",
            "_model_name": "LayoutModel",
            "_view_count": null,
            "_view_module": "@jupyter-widgets/base",
            "_view_module_version": "1.2.0",
            "_view_name": "LayoutView",
            "align_content": null,
            "align_items": null,
            "align_self": null,
            "border": null,
            "bottom": null,
            "display": null,
            "flex": null,
            "flex_flow": null,
            "grid_area": null,
            "grid_auto_columns": null,
            "grid_auto_flow": null,
            "grid_auto_rows": null,
            "grid_column": null,
            "grid_gap": null,
            "grid_row": null,
            "grid_template_areas": null,
            "grid_template_columns": null,
            "grid_template_rows": null,
            "height": null,
            "justify_content": null,
            "justify_items": null,
            "left": null,
            "margin": null,
            "max_height": null,
            "max_width": null,
            "min_height": null,
            "min_width": null,
            "object_fit": null,
            "object_position": null,
            "order": null,
            "overflow": null,
            "overflow_x": null,
            "overflow_y": null,
            "padding": null,
            "right": null,
            "top": null,
            "visibility": null,
            "width": null
          }
        },
        "681a5ea6dab14f94b15df67dee0ad3ce": {
          "model_module": "@jupyter-widgets/controls",
          "model_name": "HBoxModel",
          "model_module_version": "1.5.0",
          "state": {
            "_dom_classes": [],
            "_model_module": "@jupyter-widgets/controls",
            "_model_module_version": "1.5.0",
            "_model_name": "HBoxModel",
            "_view_count": null,
            "_view_module": "@jupyter-widgets/controls",
            "_view_module_version": "1.5.0",
            "_view_name": "HBoxView",
            "box_style": "",
            "children": [
              "IPY_MODEL_a4050d5c4ebd4ae3857ea2fc99eb1b2a",
              "IPY_MODEL_dd9773e818e549389b2fd620bdb8f6bf",
              "IPY_MODEL_6ca5f580322f426aa982c349d8c9ce4d"
            ],
            "layout": "IPY_MODEL_ef80a091a0764e56a8a83de06e10dafb"
          }
        },
        "f86870767a254aca9c66708e08a95df2": {
          "model_module": "@jupyter-widgets/base",
          "model_name": "LayoutModel",
          "model_module_version": "1.2.0",
          "state": {
            "_model_module": "@jupyter-widgets/base",
            "_model_module_version": "1.2.0",
            "_model_name": "LayoutModel",
            "_view_count": null,
            "_view_module": "@jupyter-widgets/base",
            "_view_module_version": "1.2.0",
            "_view_name": "LayoutView",
            "align_content": null,
            "align_items": null,
            "align_self": null,
            "border": null,
            "bottom": null,
            "display": null,
            "flex": null,
            "flex_flow": null,
            "grid_area": null,
            "grid_auto_columns": null,
            "grid_auto_flow": null,
            "grid_auto_rows": null,
            "grid_column": null,
            "grid_gap": null,
            "grid_row": null,
            "grid_template_areas": null,
            "grid_template_columns": null,
            "grid_template_rows": null,
            "height": null,
            "justify_content": null,
            "justify_items": null,
            "left": null,
            "margin": null,
            "max_height": null,
            "max_width": null,
            "min_height": null,
            "min_width": null,
            "object_fit": null,
            "object_position": null,
            "order": null,
            "overflow": null,
            "overflow_x": null,
            "overflow_y": null,
            "padding": null,
            "right": null,
            "top": null,
            "visibility": null,
            "width": null
          }
        },
        "eb92067a880e494b9dbe39489ea79c74": {
          "model_module": "@jupyter-widgets/controls",
          "model_name": "ProgressStyleModel",
          "model_module_version": "1.5.0",
          "state": {
            "_model_module": "@jupyter-widgets/controls",
            "_model_module_version": "1.5.0",
            "_model_name": "ProgressStyleModel",
            "_view_count": null,
            "_view_module": "@jupyter-widgets/base",
            "_view_module_version": "1.2.0",
            "_view_name": "StyleView",
            "bar_color": null,
            "description_width": ""
          }
        },
        "760c3fd6efed4d58a07420cfab17e425": {
          "model_module": "@jupyter-widgets/base",
          "model_name": "LayoutModel",
          "model_module_version": "1.2.0",
          "state": {
            "_model_module": "@jupyter-widgets/base",
            "_model_module_version": "1.2.0",
            "_model_name": "LayoutModel",
            "_view_count": null,
            "_view_module": "@jupyter-widgets/base",
            "_view_module_version": "1.2.0",
            "_view_name": "LayoutView",
            "align_content": null,
            "align_items": null,
            "align_self": null,
            "border": null,
            "bottom": null,
            "display": null,
            "flex": null,
            "flex_flow": null,
            "grid_area": null,
            "grid_auto_columns": null,
            "grid_auto_flow": null,
            "grid_auto_rows": null,
            "grid_column": null,
            "grid_gap": null,
            "grid_row": null,
            "grid_template_areas": null,
            "grid_template_columns": null,
            "grid_template_rows": null,
            "height": null,
            "justify_content": null,
            "justify_items": null,
            "left": null,
            "margin": null,
            "max_height": null,
            "max_width": null,
            "min_height": null,
            "min_width": null,
            "object_fit": null,
            "object_position": null,
            "order": null,
            "overflow": null,
            "overflow_x": null,
            "overflow_y": null,
            "padding": null,
            "right": null,
            "top": null,
            "visibility": null,
            "width": null
          }
        },
        "0c2132634f8d4f87a8389220ca4c7cc3": {
          "model_module": "@jupyter-widgets/controls",
          "model_name": "DescriptionStyleModel",
          "model_module_version": "1.5.0",
          "state": {
            "_model_module": "@jupyter-widgets/controls",
            "_model_module_version": "1.5.0",
            "_model_name": "DescriptionStyleModel",
            "_view_count": null,
            "_view_module": "@jupyter-widgets/base",
            "_view_module_version": "1.2.0",
            "_view_name": "StyleView",
            "description_width": ""
          }
        },
        "1c5dc238f8544a03aa3319f6371e2666": {
          "model_module": "@jupyter-widgets/base",
          "model_name": "LayoutModel",
          "model_module_version": "1.2.0",
          "state": {
            "_model_module": "@jupyter-widgets/base",
            "_model_module_version": "1.2.0",
            "_model_name": "LayoutModel",
            "_view_count": null,
            "_view_module": "@jupyter-widgets/base",
            "_view_module_version": "1.2.0",
            "_view_name": "LayoutView",
            "align_content": null,
            "align_items": null,
            "align_self": null,
            "border": null,
            "bottom": null,
            "display": null,
            "flex": null,
            "flex_flow": null,
            "grid_area": null,
            "grid_auto_columns": null,
            "grid_auto_flow": null,
            "grid_auto_rows": null,
            "grid_column": null,
            "grid_gap": null,
            "grid_row": null,
            "grid_template_areas": null,
            "grid_template_columns": null,
            "grid_template_rows": null,
            "height": null,
            "justify_content": null,
            "justify_items": null,
            "left": null,
            "margin": null,
            "max_height": null,
            "max_width": null,
            "min_height": null,
            "min_width": null,
            "object_fit": null,
            "object_position": null,
            "order": null,
            "overflow": null,
            "overflow_x": null,
            "overflow_y": null,
            "padding": null,
            "right": null,
            "top": null,
            "visibility": null,
            "width": null
          }
        },
        "889f06602ac94c229a78a08aa3e70642": {
          "model_module": "@jupyter-widgets/controls",
          "model_name": "DescriptionStyleModel",
          "model_module_version": "1.5.0",
          "state": {
            "_model_module": "@jupyter-widgets/controls",
            "_model_module_version": "1.5.0",
            "_model_name": "DescriptionStyleModel",
            "_view_count": null,
            "_view_module": "@jupyter-widgets/base",
            "_view_module_version": "1.2.0",
            "_view_name": "StyleView",
            "description_width": ""
          }
        },
        "494bf5fdbb2e480cbaab4604345ff864": {
          "model_module": "@jupyter-widgets/controls",
          "model_name": "HTMLModel",
          "model_module_version": "1.5.0",
          "state": {
            "_dom_classes": [],
            "_model_module": "@jupyter-widgets/controls",
            "_model_module_version": "1.5.0",
            "_model_name": "HTMLModel",
            "_view_count": null,
            "_view_module": "@jupyter-widgets/controls",
            "_view_module_version": "1.5.0",
            "_view_name": "HTMLView",
            "description": "",
            "description_tooltip": null,
            "layout": "IPY_MODEL_760c3fd6efed4d58a07420cfab17e425",
            "placeholder": "​",
            "style": "IPY_MODEL_0c2132634f8d4f87a8389220ca4c7cc3",
            "value": "Uploading /tmp/tmp9e_7mz99/model/artifacts/t5_onnx_2/encoder_model.onnx: 100%"
          }
        },
        "cbbb67279b104e87ab305286a9deeac2": {
          "model_module": "@jupyter-widgets/controls",
          "model_name": "FloatProgressModel",
          "model_module_version": "1.5.0",
          "state": {
            "_dom_classes": [],
            "_model_module": "@jupyter-widgets/controls",
            "_model_module_version": "1.5.0",
            "_model_name": "FloatProgressModel",
            "_view_count": null,
            "_view_module": "@jupyter-widgets/controls",
            "_view_module_version": "1.5.0",
            "_view_name": "ProgressView",
            "bar_style": "success",
            "description": "",
            "description_tooltip": null,
            "layout": "IPY_MODEL_f86870767a254aca9c66708e08a95df2",
            "max": 1339962387,
            "min": 0,
            "orientation": "horizontal",
            "style": "IPY_MODEL_eb92067a880e494b9dbe39489ea79c74",
            "value": 1339962387
          }
        },
        "09790234a898430a8f50ad8a57d43f44": {
          "model_module": "@jupyter-widgets/controls",
          "model_name": "HTMLModel",
          "model_module_version": "1.5.0",
          "state": {
            "_dom_classes": [],
            "_model_module": "@jupyter-widgets/controls",
            "_model_module_version": "1.5.0",
            "_model_name": "HTMLModel",
            "_view_count": null,
            "_view_module": "@jupyter-widgets/controls",
            "_view_module_version": "1.5.0",
            "_view_name": "HTMLView",
            "description": "",
            "description_tooltip": null,
            "layout": "IPY_MODEL_1c5dc238f8544a03aa3319f6371e2666",
            "placeholder": "​",
            "style": "IPY_MODEL_889f06602ac94c229a78a08aa3e70642",
            "value": " 1.25G/1.25G [00:23&lt;00:00, 15.4MiB/s]"
          }
        },
        "064af531cda3447e81f105820a6a7021": {
          "model_module": "@jupyter-widgets/base",
          "model_name": "LayoutModel",
          "model_module_version": "1.2.0",
          "state": {
            "_model_module": "@jupyter-widgets/base",
            "_model_module_version": "1.2.0",
            "_model_name": "LayoutModel",
            "_view_count": null,
            "_view_module": "@jupyter-widgets/base",
            "_view_module_version": "1.2.0",
            "_view_name": "LayoutView",
            "align_content": null,
            "align_items": null,
            "align_self": null,
            "border": null,
            "bottom": null,
            "display": null,
            "flex": null,
            "flex_flow": null,
            "grid_area": null,
            "grid_auto_columns": null,
            "grid_auto_flow": null,
            "grid_auto_rows": null,
            "grid_column": null,
            "grid_gap": null,
            "grid_row": null,
            "grid_template_areas": null,
            "grid_template_columns": null,
            "grid_template_rows": null,
            "height": null,
            "justify_content": null,
            "justify_items": null,
            "left": null,
            "margin": null,
            "max_height": null,
            "max_width": null,
            "min_height": null,
            "min_width": null,
            "object_fit": null,
            "object_position": null,
            "order": null,
            "overflow": null,
            "overflow_x": null,
            "overflow_y": null,
            "padding": null,
            "right": null,
            "top": null,
            "visibility": null,
            "width": null
          }
        },
        "bf4090c0d0b94d0485550231948229ad": {
          "model_module": "@jupyter-widgets/controls",
          "model_name": "HBoxModel",
          "model_module_version": "1.5.0",
          "state": {
            "_dom_classes": [],
            "_model_module": "@jupyter-widgets/controls",
            "_model_module_version": "1.5.0",
            "_model_name": "HBoxModel",
            "_view_count": null,
            "_view_module": "@jupyter-widgets/controls",
            "_view_module_version": "1.5.0",
            "_view_name": "HBoxView",
            "box_style": "",
            "children": [
              "IPY_MODEL_494bf5fdbb2e480cbaab4604345ff864",
              "IPY_MODEL_cbbb67279b104e87ab305286a9deeac2",
              "IPY_MODEL_09790234a898430a8f50ad8a57d43f44"
            ],
            "layout": "IPY_MODEL_064af531cda3447e81f105820a6a7021"
          }
        },
        "bb14d1fa4efc4ea0a49e1e464b453eee": {
          "model_module": "@jupyter-widgets/controls",
          "model_name": "HBoxModel",
          "model_module_version": "1.5.0",
          "state": {
            "_dom_classes": [],
            "_model_module": "@jupyter-widgets/controls",
            "_model_module_version": "1.5.0",
            "_model_name": "HBoxModel",
            "_view_count": null,
            "_view_module": "@jupyter-widgets/controls",
            "_view_module_version": "1.5.0",
            "_view_name": "HBoxView",
            "box_style": "",
            "children": [
              "IPY_MODEL_d6ba0615517341b48b8d55d281375706",
              "IPY_MODEL_6dc63de504c0450b9d544a0a080f4703",
              "IPY_MODEL_542f04427bf44e869bcff8ae3baa7146"
            ],
            "layout": "IPY_MODEL_0c9c03ed13f3431bae03390b7b4670ee"
          }
        },
        "d6ba0615517341b48b8d55d281375706": {
          "model_module": "@jupyter-widgets/controls",
          "model_name": "HTMLModel",
          "model_module_version": "1.5.0",
          "state": {
            "_dom_classes": [],
            "_model_module": "@jupyter-widgets/controls",
            "_model_module_version": "1.5.0",
            "_model_name": "HTMLModel",
            "_view_count": null,
            "_view_module": "@jupyter-widgets/controls",
            "_view_module_version": "1.5.0",
            "_view_name": "HTMLView",
            "description": "",
            "description_tooltip": null,
            "layout": "IPY_MODEL_b40346d0032f4b40be53d0677af03283",
            "placeholder": "​",
            "style": "IPY_MODEL_dfdc66fa23894ad4bd6ba1d837e61ac4",
            "value": "Uploading /tmp/tmp9e_7mz99/model/artifacts/t5_onnx_2/decoder_model.onnx: 100%"
          }
        },
        "6dc63de504c0450b9d544a0a080f4703": {
          "model_module": "@jupyter-widgets/controls",
          "model_name": "FloatProgressModel",
          "model_module_version": "1.5.0",
          "state": {
            "_dom_classes": [],
            "_model_module": "@jupyter-widgets/controls",
            "_model_module_version": "1.5.0",
            "_model_name": "FloatProgressModel",
            "_view_count": null,
            "_view_module": "@jupyter-widgets/controls",
            "_view_module_version": "1.5.0",
            "_view_name": "ProgressView",
            "bar_style": "success",
            "description": "",
            "description_tooltip": null,
            "layout": "IPY_MODEL_73d1676167934f219ad833618c6f2213",
            "max": 1742964457,
            "min": 0,
            "orientation": "horizontal",
            "style": "IPY_MODEL_1f5c23a051cc48ecb60dc8d4e10591df",
            "value": 1742964457
          }
        },
        "542f04427bf44e869bcff8ae3baa7146": {
          "model_module": "@jupyter-widgets/controls",
          "model_name": "HTMLModel",
          "model_module_version": "1.5.0",
          "state": {
            "_dom_classes": [],
            "_model_module": "@jupyter-widgets/controls",
            "_model_module_version": "1.5.0",
            "_model_name": "HTMLModel",
            "_view_count": null,
            "_view_module": "@jupyter-widgets/controls",
            "_view_module_version": "1.5.0",
            "_view_name": "HTMLView",
            "description": "",
            "description_tooltip": null,
            "layout": "IPY_MODEL_55960cdbf5c24700a4a92fe4f4357b6e",
            "placeholder": "​",
            "style": "IPY_MODEL_d90817ffb7644c51b904380d0766ee02",
            "value": " 1.62G/1.62G [00:46&lt;00:00, 15.3MiB/s]"
          }
        },
        "0c9c03ed13f3431bae03390b7b4670ee": {
          "model_module": "@jupyter-widgets/base",
          "model_name": "LayoutModel",
          "model_module_version": "1.2.0",
          "state": {
            "_model_module": "@jupyter-widgets/base",
            "_model_module_version": "1.2.0",
            "_model_name": "LayoutModel",
            "_view_count": null,
            "_view_module": "@jupyter-widgets/base",
            "_view_module_version": "1.2.0",
            "_view_name": "LayoutView",
            "align_content": null,
            "align_items": null,
            "align_self": null,
            "border": null,
            "bottom": null,
            "display": null,
            "flex": null,
            "flex_flow": null,
            "grid_area": null,
            "grid_auto_columns": null,
            "grid_auto_flow": null,
            "grid_auto_rows": null,
            "grid_column": null,
            "grid_gap": null,
            "grid_row": null,
            "grid_template_areas": null,
            "grid_template_columns": null,
            "grid_template_rows": null,
            "height": null,
            "justify_content": null,
            "justify_items": null,
            "left": null,
            "margin": null,
            "max_height": null,
            "max_width": null,
            "min_height": null,
            "min_width": null,
            "object_fit": null,
            "object_position": null,
            "order": null,
            "overflow": null,
            "overflow_x": null,
            "overflow_y": null,
            "padding": null,
            "right": null,
            "top": null,
            "visibility": null,
            "width": null
          }
        },
        "b40346d0032f4b40be53d0677af03283": {
          "model_module": "@jupyter-widgets/base",
          "model_name": "LayoutModel",
          "model_module_version": "1.2.0",
          "state": {
            "_model_module": "@jupyter-widgets/base",
            "_model_module_version": "1.2.0",
            "_model_name": "LayoutModel",
            "_view_count": null,
            "_view_module": "@jupyter-widgets/base",
            "_view_module_version": "1.2.0",
            "_view_name": "LayoutView",
            "align_content": null,
            "align_items": null,
            "align_self": null,
            "border": null,
            "bottom": null,
            "display": null,
            "flex": null,
            "flex_flow": null,
            "grid_area": null,
            "grid_auto_columns": null,
            "grid_auto_flow": null,
            "grid_auto_rows": null,
            "grid_column": null,
            "grid_gap": null,
            "grid_row": null,
            "grid_template_areas": null,
            "grid_template_columns": null,
            "grid_template_rows": null,
            "height": null,
            "justify_content": null,
            "justify_items": null,
            "left": null,
            "margin": null,
            "max_height": null,
            "max_width": null,
            "min_height": null,
            "min_width": null,
            "object_fit": null,
            "object_position": null,
            "order": null,
            "overflow": null,
            "overflow_x": null,
            "overflow_y": null,
            "padding": null,
            "right": null,
            "top": null,
            "visibility": null,
            "width": null
          }
        },
        "dfdc66fa23894ad4bd6ba1d837e61ac4": {
          "model_module": "@jupyter-widgets/controls",
          "model_name": "DescriptionStyleModel",
          "model_module_version": "1.5.0",
          "state": {
            "_model_module": "@jupyter-widgets/controls",
            "_model_module_version": "1.5.0",
            "_model_name": "DescriptionStyleModel",
            "_view_count": null,
            "_view_module": "@jupyter-widgets/base",
            "_view_module_version": "1.2.0",
            "_view_name": "StyleView",
            "description_width": ""
          }
        },
        "73d1676167934f219ad833618c6f2213": {
          "model_module": "@jupyter-widgets/base",
          "model_name": "LayoutModel",
          "model_module_version": "1.2.0",
          "state": {
            "_model_module": "@jupyter-widgets/base",
            "_model_module_version": "1.2.0",
            "_model_name": "LayoutModel",
            "_view_count": null,
            "_view_module": "@jupyter-widgets/base",
            "_view_module_version": "1.2.0",
            "_view_name": "LayoutView",
            "align_content": null,
            "align_items": null,
            "align_self": null,
            "border": null,
            "bottom": null,
            "display": null,
            "flex": null,
            "flex_flow": null,
            "grid_area": null,
            "grid_auto_columns": null,
            "grid_auto_flow": null,
            "grid_auto_rows": null,
            "grid_column": null,
            "grid_gap": null,
            "grid_row": null,
            "grid_template_areas": null,
            "grid_template_columns": null,
            "grid_template_rows": null,
            "height": null,
            "justify_content": null,
            "justify_items": null,
            "left": null,
            "margin": null,
            "max_height": null,
            "max_width": null,
            "min_height": null,
            "min_width": null,
            "object_fit": null,
            "object_position": null,
            "order": null,
            "overflow": null,
            "overflow_x": null,
            "overflow_y": null,
            "padding": null,
            "right": null,
            "top": null,
            "visibility": null,
            "width": null
          }
        },
        "1f5c23a051cc48ecb60dc8d4e10591df": {
          "model_module": "@jupyter-widgets/controls",
          "model_name": "ProgressStyleModel",
          "model_module_version": "1.5.0",
          "state": {
            "_model_module": "@jupyter-widgets/controls",
            "_model_module_version": "1.5.0",
            "_model_name": "ProgressStyleModel",
            "_view_count": null,
            "_view_module": "@jupyter-widgets/base",
            "_view_module_version": "1.2.0",
            "_view_name": "StyleView",
            "bar_color": null,
            "description_width": ""
          }
        },
        "55960cdbf5c24700a4a92fe4f4357b6e": {
          "model_module": "@jupyter-widgets/base",
          "model_name": "LayoutModel",
          "model_module_version": "1.2.0",
          "state": {
            "_model_module": "@jupyter-widgets/base",
            "_model_module_version": "1.2.0",
            "_model_name": "LayoutModel",
            "_view_count": null,
            "_view_module": "@jupyter-widgets/base",
            "_view_module_version": "1.2.0",
            "_view_name": "LayoutView",
            "align_content": null,
            "align_items": null,
            "align_self": null,
            "border": null,
            "bottom": null,
            "display": null,
            "flex": null,
            "flex_flow": null,
            "grid_area": null,
            "grid_auto_columns": null,
            "grid_auto_flow": null,
            "grid_auto_rows": null,
            "grid_column": null,
            "grid_gap": null,
            "grid_row": null,
            "grid_template_areas": null,
            "grid_template_columns": null,
            "grid_template_rows": null,
            "height": null,
            "justify_content": null,
            "justify_items": null,
            "left": null,
            "margin": null,
            "max_height": null,
            "max_width": null,
            "min_height": null,
            "min_width": null,
            "object_fit": null,
            "object_position": null,
            "order": null,
            "overflow": null,
            "overflow_x": null,
            "overflow_y": null,
            "padding": null,
            "right": null,
            "top": null,
            "visibility": null,
            "width": null
          }
        },
        "d90817ffb7644c51b904380d0766ee02": {
          "model_module": "@jupyter-widgets/controls",
          "model_name": "DescriptionStyleModel",
          "model_module_version": "1.5.0",
          "state": {
            "_model_module": "@jupyter-widgets/controls",
            "_model_module_version": "1.5.0",
            "_model_name": "DescriptionStyleModel",
            "_view_count": null,
            "_view_module": "@jupyter-widgets/base",
            "_view_module_version": "1.2.0",
            "_view_name": "StyleView",
            "description_width": ""
          }
        },
        "fa7c909e501c499aaa479715dab6aa3c": {
          "model_module": "@jupyter-widgets/controls",
          "model_name": "HBoxModel",
          "model_module_version": "1.5.0",
          "state": {
            "_dom_classes": [],
            "_model_module": "@jupyter-widgets/controls",
            "_model_module_version": "1.5.0",
            "_model_name": "HBoxModel",
            "_view_count": null,
            "_view_module": "@jupyter-widgets/controls",
            "_view_module_version": "1.5.0",
            "_view_name": "HBoxView",
            "box_style": "",
            "children": [
              "IPY_MODEL_d4d54d544f6a44cd8805ac07945d71e5",
              "IPY_MODEL_a45822696193414cafdeafa11f0e6fb8",
              "IPY_MODEL_b1e8cffcf7ce4ae09cd5226d9d0f4d9b"
            ],
            "layout": "IPY_MODEL_6be31e2274d04553b70548b212246512"
          }
        },
        "d4d54d544f6a44cd8805ac07945d71e5": {
          "model_module": "@jupyter-widgets/controls",
          "model_name": "HTMLModel",
          "model_module_version": "1.5.0",
          "state": {
            "_dom_classes": [],
            "_model_module": "@jupyter-widgets/controls",
            "_model_module_version": "1.5.0",
            "_model_name": "HTMLModel",
            "_view_count": null,
            "_view_module": "@jupyter-widgets/controls",
            "_view_module_version": "1.5.0",
            "_view_name": "HTMLView",
            "description": "",
            "description_tooltip": null,
            "layout": "IPY_MODEL_919cbb1503de405aaa5fb381462573bb",
            "placeholder": "​",
            "style": "IPY_MODEL_2fd02f2ce34f4eb5a861b8bf1d6762ba",
            "value": "Uploading /tmp/tmp9e_7mz99/model/artifacts/t5_onnx_2/decoder_with_past_model.onnx: 100%"
          }
        },
        "a45822696193414cafdeafa11f0e6fb8": {
          "model_module": "@jupyter-widgets/controls",
          "model_name": "FloatProgressModel",
          "model_module_version": "1.5.0",
          "state": {
            "_dom_classes": [],
            "_model_module": "@jupyter-widgets/controls",
            "_model_module_version": "1.5.0",
            "_model_name": "FloatProgressModel",
            "_view_count": null,
            "_view_module": "@jupyter-widgets/controls",
            "_view_module_version": "1.5.0",
            "_view_name": "ProgressView",
            "bar_style": "success",
            "description": "",
            "description_tooltip": null,
            "layout": "IPY_MODEL_9fec17ae222f4cdb8dd85e4d59486e71",
            "max": 1541580731,
            "min": 0,
            "orientation": "horizontal",
            "style": "IPY_MODEL_dfd3a4fe31d743b588e3b96d8f71d451",
            "value": 1541580731
          }
        },
        "b1e8cffcf7ce4ae09cd5226d9d0f4d9b": {
          "model_module": "@jupyter-widgets/controls",
          "model_name": "HTMLModel",
          "model_module_version": "1.5.0",
          "state": {
            "_dom_classes": [],
            "_model_module": "@jupyter-widgets/controls",
            "_model_module_version": "1.5.0",
            "_model_name": "HTMLModel",
            "_view_count": null,
            "_view_module": "@jupyter-widgets/controls",
            "_view_module_version": "1.5.0",
            "_view_name": "HTMLView",
            "description": "",
            "description_tooltip": null,
            "layout": "IPY_MODEL_00db2825f69e43d9b771f33e2116b129",
            "placeholder": "​",
            "style": "IPY_MODEL_1d120918442e4f08a6536cc7520658b8",
            "value": " 1.44G/1.44G [01:07&lt;00:00, 2.41MiB/s]"
          }
        },
        "6be31e2274d04553b70548b212246512": {
          "model_module": "@jupyter-widgets/base",
          "model_name": "LayoutModel",
          "model_module_version": "1.2.0",
          "state": {
            "_model_module": "@jupyter-widgets/base",
            "_model_module_version": "1.2.0",
            "_model_name": "LayoutModel",
            "_view_count": null,
            "_view_module": "@jupyter-widgets/base",
            "_view_module_version": "1.2.0",
            "_view_name": "LayoutView",
            "align_content": null,
            "align_items": null,
            "align_self": null,
            "border": null,
            "bottom": null,
            "display": null,
            "flex": null,
            "flex_flow": null,
            "grid_area": null,
            "grid_auto_columns": null,
            "grid_auto_flow": null,
            "grid_auto_rows": null,
            "grid_column": null,
            "grid_gap": null,
            "grid_row": null,
            "grid_template_areas": null,
            "grid_template_columns": null,
            "grid_template_rows": null,
            "height": null,
            "justify_content": null,
            "justify_items": null,
            "left": null,
            "margin": null,
            "max_height": null,
            "max_width": null,
            "min_height": null,
            "min_width": null,
            "object_fit": null,
            "object_position": null,
            "order": null,
            "overflow": null,
            "overflow_x": null,
            "overflow_y": null,
            "padding": null,
            "right": null,
            "top": null,
            "visibility": null,
            "width": null
          }
        },
        "919cbb1503de405aaa5fb381462573bb": {
          "model_module": "@jupyter-widgets/base",
          "model_name": "LayoutModel",
          "model_module_version": "1.2.0",
          "state": {
            "_model_module": "@jupyter-widgets/base",
            "_model_module_version": "1.2.0",
            "_model_name": "LayoutModel",
            "_view_count": null,
            "_view_module": "@jupyter-widgets/base",
            "_view_module_version": "1.2.0",
            "_view_name": "LayoutView",
            "align_content": null,
            "align_items": null,
            "align_self": null,
            "border": null,
            "bottom": null,
            "display": null,
            "flex": null,
            "flex_flow": null,
            "grid_area": null,
            "grid_auto_columns": null,
            "grid_auto_flow": null,
            "grid_auto_rows": null,
            "grid_column": null,
            "grid_gap": null,
            "grid_row": null,
            "grid_template_areas": null,
            "grid_template_columns": null,
            "grid_template_rows": null,
            "height": null,
            "justify_content": null,
            "justify_items": null,
            "left": null,
            "margin": null,
            "max_height": null,
            "max_width": null,
            "min_height": null,
            "min_width": null,
            "object_fit": null,
            "object_position": null,
            "order": null,
            "overflow": null,
            "overflow_x": null,
            "overflow_y": null,
            "padding": null,
            "right": null,
            "top": null,
            "visibility": null,
            "width": null
          }
        },
        "2fd02f2ce34f4eb5a861b8bf1d6762ba": {
          "model_module": "@jupyter-widgets/controls",
          "model_name": "DescriptionStyleModel",
          "model_module_version": "1.5.0",
          "state": {
            "_model_module": "@jupyter-widgets/controls",
            "_model_module_version": "1.5.0",
            "_model_name": "DescriptionStyleModel",
            "_view_count": null,
            "_view_module": "@jupyter-widgets/base",
            "_view_module_version": "1.2.0",
            "_view_name": "StyleView",
            "description_width": ""
          }
        },
        "9fec17ae222f4cdb8dd85e4d59486e71": {
          "model_module": "@jupyter-widgets/base",
          "model_name": "LayoutModel",
          "model_module_version": "1.2.0",
          "state": {
            "_model_module": "@jupyter-widgets/base",
            "_model_module_version": "1.2.0",
            "_model_name": "LayoutModel",
            "_view_count": null,
            "_view_module": "@jupyter-widgets/base",
            "_view_module_version": "1.2.0",
            "_view_name": "LayoutView",
            "align_content": null,
            "align_items": null,
            "align_self": null,
            "border": null,
            "bottom": null,
            "display": null,
            "flex": null,
            "flex_flow": null,
            "grid_area": null,
            "grid_auto_columns": null,
            "grid_auto_flow": null,
            "grid_auto_rows": null,
            "grid_column": null,
            "grid_gap": null,
            "grid_row": null,
            "grid_template_areas": null,
            "grid_template_columns": null,
            "grid_template_rows": null,
            "height": null,
            "justify_content": null,
            "justify_items": null,
            "left": null,
            "margin": null,
            "max_height": null,
            "max_width": null,
            "min_height": null,
            "min_width": null,
            "object_fit": null,
            "object_position": null,
            "order": null,
            "overflow": null,
            "overflow_x": null,
            "overflow_y": null,
            "padding": null,
            "right": null,
            "top": null,
            "visibility": null,
            "width": null
          }
        },
        "dfd3a4fe31d743b588e3b96d8f71d451": {
          "model_module": "@jupyter-widgets/controls",
          "model_name": "ProgressStyleModel",
          "model_module_version": "1.5.0",
          "state": {
            "_model_module": "@jupyter-widgets/controls",
            "_model_module_version": "1.5.0",
            "_model_name": "ProgressStyleModel",
            "_view_count": null,
            "_view_module": "@jupyter-widgets/base",
            "_view_module_version": "1.2.0",
            "_view_name": "StyleView",
            "bar_color": null,
            "description_width": ""
          }
        },
        "00db2825f69e43d9b771f33e2116b129": {
          "model_module": "@jupyter-widgets/base",
          "model_name": "LayoutModel",
          "model_module_version": "1.2.0",
          "state": {
            "_model_module": "@jupyter-widgets/base",
            "_model_module_version": "1.2.0",
            "_model_name": "LayoutModel",
            "_view_count": null,
            "_view_module": "@jupyter-widgets/base",
            "_view_module_version": "1.2.0",
            "_view_name": "LayoutView",
            "align_content": null,
            "align_items": null,
            "align_self": null,
            "border": null,
            "bottom": null,
            "display": null,
            "flex": null,
            "flex_flow": null,
            "grid_area": null,
            "grid_auto_columns": null,
            "grid_auto_flow": null,
            "grid_auto_rows": null,
            "grid_column": null,
            "grid_gap": null,
            "grid_row": null,
            "grid_template_areas": null,
            "grid_template_columns": null,
            "grid_template_rows": null,
            "height": null,
            "justify_content": null,
            "justify_items": null,
            "left": null,
            "margin": null,
            "max_height": null,
            "max_width": null,
            "min_height": null,
            "min_width": null,
            "object_fit": null,
            "object_position": null,
            "order": null,
            "overflow": null,
            "overflow_x": null,
            "overflow_y": null,
            "padding": null,
            "right": null,
            "top": null,
            "visibility": null,
            "width": null
          }
        },
        "1d120918442e4f08a6536cc7520658b8": {
          "model_module": "@jupyter-widgets/controls",
          "model_name": "DescriptionStyleModel",
          "model_module_version": "1.5.0",
          "state": {
            "_model_module": "@jupyter-widgets/controls",
            "_model_module_version": "1.5.0",
            "_model_name": "DescriptionStyleModel",
            "_view_count": null,
            "_view_module": "@jupyter-widgets/base",
            "_view_module_version": "1.2.0",
            "_view_name": "StyleView",
            "description_width": ""
          }
        },
        "acf139d13e4043cd8c21b1aefeeba00f": {
          "model_module": "@jupyter-widgets/controls",
          "model_name": "HBoxModel",
          "model_module_version": "1.5.0",
          "state": {
            "_dom_classes": [],
            "_model_module": "@jupyter-widgets/controls",
            "_model_module_version": "1.5.0",
            "_model_name": "HBoxModel",
            "_view_count": null,
            "_view_module": "@jupyter-widgets/controls",
            "_view_module_version": "1.5.0",
            "_view_name": "HBoxView",
            "box_style": "",
            "children": [
              "IPY_MODEL_4c1f14219ced410c81e6c1f6cd067f83",
              "IPY_MODEL_3d52d311f94248faa83176128ea51601",
              "IPY_MODEL_8372c03b3d764502a01c8673040a2853"
            ],
            "layout": "IPY_MODEL_7e78b21dc7b2413a9b94d8053ce8dd02"
          }
        },
        "4c1f14219ced410c81e6c1f6cd067f83": {
          "model_module": "@jupyter-widgets/controls",
          "model_name": "HTMLModel",
          "model_module_version": "1.5.0",
          "state": {
            "_dom_classes": [],
            "_model_module": "@jupyter-widgets/controls",
            "_model_module_version": "1.5.0",
            "_model_name": "HTMLModel",
            "_view_count": null,
            "_view_module": "@jupyter-widgets/controls",
            "_view_module_version": "1.5.0",
            "_view_name": "HTMLView",
            "description": "",
            "description_tooltip": null,
            "layout": "IPY_MODEL_d16abcb4fe81437d8d38be913a1dab40",
            "placeholder": "​",
            "style": "IPY_MODEL_9d66145901ad49469b5971d2e3df433c",
            "value": "Uploading /tmp/tmp9e_7mz99/model/artifacts/t5_onnx_2/decoder_model_merged.onnx: 100%"
          }
        },
        "3d52d311f94248faa83176128ea51601": {
          "model_module": "@jupyter-widgets/controls",
          "model_name": "FloatProgressModel",
          "model_module_version": "1.5.0",
          "state": {
            "_dom_classes": [],
            "_model_module": "@jupyter-widgets/controls",
            "_model_module_version": "1.5.0",
            "_model_name": "FloatProgressModel",
            "_view_count": null,
            "_view_module": "@jupyter-widgets/controls",
            "_view_module_version": "1.5.0",
            "_view_name": "ProgressView",
            "bar_style": "success",
            "description": "",
            "description_tooltip": null,
            "layout": "IPY_MODEL_fb780de5be424d7db52e3f1e2f19f347",
            "max": 1743377979,
            "min": 0,
            "orientation": "horizontal",
            "style": "IPY_MODEL_af8d9057993e471ea837e8606d23f3b4",
            "value": 1743377979
          }
        },
        "8372c03b3d764502a01c8673040a2853": {
          "model_module": "@jupyter-widgets/controls",
          "model_name": "HTMLModel",
          "model_module_version": "1.5.0",
          "state": {
            "_dom_classes": [],
            "_model_module": "@jupyter-widgets/controls",
            "_model_module_version": "1.5.0",
            "_model_name": "HTMLModel",
            "_view_count": null,
            "_view_module": "@jupyter-widgets/controls",
            "_view_module_version": "1.5.0",
            "_view_name": "HTMLView",
            "description": "",
            "description_tooltip": null,
            "layout": "IPY_MODEL_1ff538801cf341b4b3f9600fc62d866d",
            "placeholder": "​",
            "style": "IPY_MODEL_e54d6b5c7fff4be08172998964a028ca",
            "value": " 1.62G/1.62G [01:19&lt;00:00, 7.58MiB/s]"
          }
        },
        "7e78b21dc7b2413a9b94d8053ce8dd02": {
          "model_module": "@jupyter-widgets/base",
          "model_name": "LayoutModel",
          "model_module_version": "1.2.0",
          "state": {
            "_model_module": "@jupyter-widgets/base",
            "_model_module_version": "1.2.0",
            "_model_name": "LayoutModel",
            "_view_count": null,
            "_view_module": "@jupyter-widgets/base",
            "_view_module_version": "1.2.0",
            "_view_name": "LayoutView",
            "align_content": null,
            "align_items": null,
            "align_self": null,
            "border": null,
            "bottom": null,
            "display": null,
            "flex": null,
            "flex_flow": null,
            "grid_area": null,
            "grid_auto_columns": null,
            "grid_auto_flow": null,
            "grid_auto_rows": null,
            "grid_column": null,
            "grid_gap": null,
            "grid_row": null,
            "grid_template_areas": null,
            "grid_template_columns": null,
            "grid_template_rows": null,
            "height": null,
            "justify_content": null,
            "justify_items": null,
            "left": null,
            "margin": null,
            "max_height": null,
            "max_width": null,
            "min_height": null,
            "min_width": null,
            "object_fit": null,
            "object_position": null,
            "order": null,
            "overflow": null,
            "overflow_x": null,
            "overflow_y": null,
            "padding": null,
            "right": null,
            "top": null,
            "visibility": null,
            "width": null
          }
        },
        "d16abcb4fe81437d8d38be913a1dab40": {
          "model_module": "@jupyter-widgets/base",
          "model_name": "LayoutModel",
          "model_module_version": "1.2.0",
          "state": {
            "_model_module": "@jupyter-widgets/base",
            "_model_module_version": "1.2.0",
            "_model_name": "LayoutModel",
            "_view_count": null,
            "_view_module": "@jupyter-widgets/base",
            "_view_module_version": "1.2.0",
            "_view_name": "LayoutView",
            "align_content": null,
            "align_items": null,
            "align_self": null,
            "border": null,
            "bottom": null,
            "display": null,
            "flex": null,
            "flex_flow": null,
            "grid_area": null,
            "grid_auto_columns": null,
            "grid_auto_flow": null,
            "grid_auto_rows": null,
            "grid_column": null,
            "grid_gap": null,
            "grid_row": null,
            "grid_template_areas": null,
            "grid_template_columns": null,
            "grid_template_rows": null,
            "height": null,
            "justify_content": null,
            "justify_items": null,
            "left": null,
            "margin": null,
            "max_height": null,
            "max_width": null,
            "min_height": null,
            "min_width": null,
            "object_fit": null,
            "object_position": null,
            "order": null,
            "overflow": null,
            "overflow_x": null,
            "overflow_y": null,
            "padding": null,
            "right": null,
            "top": null,
            "visibility": null,
            "width": null
          }
        },
        "9d66145901ad49469b5971d2e3df433c": {
          "model_module": "@jupyter-widgets/controls",
          "model_name": "DescriptionStyleModel",
          "model_module_version": "1.5.0",
          "state": {
            "_model_module": "@jupyter-widgets/controls",
            "_model_module_version": "1.5.0",
            "_model_name": "DescriptionStyleModel",
            "_view_count": null,
            "_view_module": "@jupyter-widgets/base",
            "_view_module_version": "1.2.0",
            "_view_name": "StyleView",
            "description_width": ""
          }
        },
        "fb780de5be424d7db52e3f1e2f19f347": {
          "model_module": "@jupyter-widgets/base",
          "model_name": "LayoutModel",
          "model_module_version": "1.2.0",
          "state": {
            "_model_module": "@jupyter-widgets/base",
            "_model_module_version": "1.2.0",
            "_model_name": "LayoutModel",
            "_view_count": null,
            "_view_module": "@jupyter-widgets/base",
            "_view_module_version": "1.2.0",
            "_view_name": "LayoutView",
            "align_content": null,
            "align_items": null,
            "align_self": null,
            "border": null,
            "bottom": null,
            "display": null,
            "flex": null,
            "flex_flow": null,
            "grid_area": null,
            "grid_auto_columns": null,
            "grid_auto_flow": null,
            "grid_auto_rows": null,
            "grid_column": null,
            "grid_gap": null,
            "grid_row": null,
            "grid_template_areas": null,
            "grid_template_columns": null,
            "grid_template_rows": null,
            "height": null,
            "justify_content": null,
            "justify_items": null,
            "left": null,
            "margin": null,
            "max_height": null,
            "max_width": null,
            "min_height": null,
            "min_width": null,
            "object_fit": null,
            "object_position": null,
            "order": null,
            "overflow": null,
            "overflow_x": null,
            "overflow_y": null,
            "padding": null,
            "right": null,
            "top": null,
            "visibility": null,
            "width": null
          }
        },
        "af8d9057993e471ea837e8606d23f3b4": {
          "model_module": "@jupyter-widgets/controls",
          "model_name": "ProgressStyleModel",
          "model_module_version": "1.5.0",
          "state": {
            "_model_module": "@jupyter-widgets/controls",
            "_model_module_version": "1.5.0",
            "_model_name": "ProgressStyleModel",
            "_view_count": null,
            "_view_module": "@jupyter-widgets/base",
            "_view_module_version": "1.2.0",
            "_view_name": "StyleView",
            "bar_color": null,
            "description_width": ""
          }
        },
        "1ff538801cf341b4b3f9600fc62d866d": {
          "model_module": "@jupyter-widgets/base",
          "model_name": "LayoutModel",
          "model_module_version": "1.2.0",
          "state": {
            "_model_module": "@jupyter-widgets/base",
            "_model_module_version": "1.2.0",
            "_model_name": "LayoutModel",
            "_view_count": null,
            "_view_module": "@jupyter-widgets/base",
            "_view_module_version": "1.2.0",
            "_view_name": "LayoutView",
            "align_content": null,
            "align_items": null,
            "align_self": null,
            "border": null,
            "bottom": null,
            "display": null,
            "flex": null,
            "flex_flow": null,
            "grid_area": null,
            "grid_auto_columns": null,
            "grid_auto_flow": null,
            "grid_auto_rows": null,
            "grid_column": null,
            "grid_gap": null,
            "grid_row": null,
            "grid_template_areas": null,
            "grid_template_columns": null,
            "grid_template_rows": null,
            "height": null,
            "justify_content": null,
            "justify_items": null,
            "left": null,
            "margin": null,
            "max_height": null,
            "max_width": null,
            "min_height": null,
            "min_width": null,
            "object_fit": null,
            "object_position": null,
            "order": null,
            "overflow": null,
            "overflow_x": null,
            "overflow_y": null,
            "padding": null,
            "right": null,
            "top": null,
            "visibility": null,
            "width": null
          }
        },
        "e54d6b5c7fff4be08172998964a028ca": {
          "model_module": "@jupyter-widgets/controls",
          "model_name": "DescriptionStyleModel",
          "model_module_version": "1.5.0",
          "state": {
            "_model_module": "@jupyter-widgets/controls",
            "_model_module_version": "1.5.0",
            "_model_name": "DescriptionStyleModel",
            "_view_count": null,
            "_view_module": "@jupyter-widgets/base",
            "_view_module_version": "1.2.0",
            "_view_name": "StyleView",
            "description_width": ""
          }
        },
        "1418f72ee9e44c9da053458ecac4a535": {
          "model_module": "@jupyter-widgets/controls",
          "model_name": "HBoxModel",
          "model_module_version": "1.5.0",
          "state": {
            "_dom_classes": [],
            "_model_module": "@jupyter-widgets/controls",
            "_model_module_version": "1.5.0",
            "_model_name": "HBoxModel",
            "_view_count": null,
            "_view_module": "@jupyter-widgets/controls",
            "_view_module_version": "1.5.0",
            "_view_name": "HBoxView",
            "box_style": "",
            "children": [
              "IPY_MODEL_2656e3f4ac814b798feb79edf430c636",
              "IPY_MODEL_63830cf67a94476b9da01b8a743b2736",
              "IPY_MODEL_9292a61c76f2405799be1f45a28d0ac5"
            ],
            "layout": "IPY_MODEL_62204c40b3964cf085e61afbb0fe2310"
          }
        },
        "2656e3f4ac814b798feb79edf430c636": {
          "model_module": "@jupyter-widgets/controls",
          "model_name": "HTMLModel",
          "model_module_version": "1.5.0",
          "state": {
            "_dom_classes": [],
            "_model_module": "@jupyter-widgets/controls",
            "_model_module_version": "1.5.0",
            "_model_name": "HTMLModel",
            "_view_count": null,
            "_view_module": "@jupyter-widgets/controls",
            "_view_module_version": "1.5.0",
            "_view_name": "HTMLView",
            "description": "",
            "description_tooltip": null,
            "layout": "IPY_MODEL_6b4adae386f54524bba48f75b6c516d1",
            "placeholder": "​",
            "style": "IPY_MODEL_1df2c7e54cfa4e6bb03d9f34b89f98c7",
            "value": "Downloading artifacts: 100%"
          }
        },
        "63830cf67a94476b9da01b8a743b2736": {
          "model_module": "@jupyter-widgets/controls",
          "model_name": "FloatProgressModel",
          "model_module_version": "1.5.0",
          "state": {
            "_dom_classes": [],
            "_model_module": "@jupyter-widgets/controls",
            "_model_module_version": "1.5.0",
            "_model_name": "FloatProgressModel",
            "_view_count": null,
            "_view_module": "@jupyter-widgets/controls",
            "_view_module_version": "1.5.0",
            "_view_name": "ProgressView",
            "bar_style": "success",
            "description": "",
            "description_tooltip": null,
            "layout": "IPY_MODEL_093e291e3e2e44828ce83d40d81508d2",
            "max": 18,
            "min": 0,
            "orientation": "horizontal",
            "style": "IPY_MODEL_5686526d8eb34c919a9c231ef3611d21",
            "value": 18
          }
        },
        "9292a61c76f2405799be1f45a28d0ac5": {
          "model_module": "@jupyter-widgets/controls",
          "model_name": "HTMLModel",
          "model_module_version": "1.5.0",
          "state": {
            "_dom_classes": [],
            "_model_module": "@jupyter-widgets/controls",
            "_model_module_version": "1.5.0",
            "_model_name": "HTMLModel",
            "_view_count": null,
            "_view_module": "@jupyter-widgets/controls",
            "_view_module_version": "1.5.0",
            "_view_name": "HTMLView",
            "description": "",
            "description_tooltip": null,
            "layout": "IPY_MODEL_7be36a16fd8742e58f990a88b9d174e9",
            "placeholder": "​",
            "style": "IPY_MODEL_d6a5a93db35b414ca1c8b30b9ffaf09a",
            "value": " 18/18 [01:55&lt;00:00, 15.36s/it]"
          }
        },
        "62204c40b3964cf085e61afbb0fe2310": {
          "model_module": "@jupyter-widgets/base",
          "model_name": "LayoutModel",
          "model_module_version": "1.2.0",
          "state": {
            "_model_module": "@jupyter-widgets/base",
            "_model_module_version": "1.2.0",
            "_model_name": "LayoutModel",
            "_view_count": null,
            "_view_module": "@jupyter-widgets/base",
            "_view_module_version": "1.2.0",
            "_view_name": "LayoutView",
            "align_content": null,
            "align_items": null,
            "align_self": null,
            "border": null,
            "bottom": null,
            "display": null,
            "flex": null,
            "flex_flow": null,
            "grid_area": null,
            "grid_auto_columns": null,
            "grid_auto_flow": null,
            "grid_auto_rows": null,
            "grid_column": null,
            "grid_gap": null,
            "grid_row": null,
            "grid_template_areas": null,
            "grid_template_columns": null,
            "grid_template_rows": null,
            "height": null,
            "justify_content": null,
            "justify_items": null,
            "left": null,
            "margin": null,
            "max_height": null,
            "max_width": null,
            "min_height": null,
            "min_width": null,
            "object_fit": null,
            "object_position": null,
            "order": null,
            "overflow": null,
            "overflow_x": null,
            "overflow_y": null,
            "padding": null,
            "right": null,
            "top": null,
            "visibility": null,
            "width": null
          }
        },
        "6b4adae386f54524bba48f75b6c516d1": {
          "model_module": "@jupyter-widgets/base",
          "model_name": "LayoutModel",
          "model_module_version": "1.2.0",
          "state": {
            "_model_module": "@jupyter-widgets/base",
            "_model_module_version": "1.2.0",
            "_model_name": "LayoutModel",
            "_view_count": null,
            "_view_module": "@jupyter-widgets/base",
            "_view_module_version": "1.2.0",
            "_view_name": "LayoutView",
            "align_content": null,
            "align_items": null,
            "align_self": null,
            "border": null,
            "bottom": null,
            "display": null,
            "flex": null,
            "flex_flow": null,
            "grid_area": null,
            "grid_auto_columns": null,
            "grid_auto_flow": null,
            "grid_auto_rows": null,
            "grid_column": null,
            "grid_gap": null,
            "grid_row": null,
            "grid_template_areas": null,
            "grid_template_columns": null,
            "grid_template_rows": null,
            "height": null,
            "justify_content": null,
            "justify_items": null,
            "left": null,
            "margin": null,
            "max_height": null,
            "max_width": null,
            "min_height": null,
            "min_width": null,
            "object_fit": null,
            "object_position": null,
            "order": null,
            "overflow": null,
            "overflow_x": null,
            "overflow_y": null,
            "padding": null,
            "right": null,
            "top": null,
            "visibility": null,
            "width": null
          }
        },
        "1df2c7e54cfa4e6bb03d9f34b89f98c7": {
          "model_module": "@jupyter-widgets/controls",
          "model_name": "DescriptionStyleModel",
          "model_module_version": "1.5.0",
          "state": {
            "_model_module": "@jupyter-widgets/controls",
            "_model_module_version": "1.5.0",
            "_model_name": "DescriptionStyleModel",
            "_view_count": null,
            "_view_module": "@jupyter-widgets/base",
            "_view_module_version": "1.2.0",
            "_view_name": "StyleView",
            "description_width": ""
          }
        },
        "093e291e3e2e44828ce83d40d81508d2": {
          "model_module": "@jupyter-widgets/base",
          "model_name": "LayoutModel",
          "model_module_version": "1.2.0",
          "state": {
            "_model_module": "@jupyter-widgets/base",
            "_model_module_version": "1.2.0",
            "_model_name": "LayoutModel",
            "_view_count": null,
            "_view_module": "@jupyter-widgets/base",
            "_view_module_version": "1.2.0",
            "_view_name": "LayoutView",
            "align_content": null,
            "align_items": null,
            "align_self": null,
            "border": null,
            "bottom": null,
            "display": null,
            "flex": null,
            "flex_flow": null,
            "grid_area": null,
            "grid_auto_columns": null,
            "grid_auto_flow": null,
            "grid_auto_rows": null,
            "grid_column": null,
            "grid_gap": null,
            "grid_row": null,
            "grid_template_areas": null,
            "grid_template_columns": null,
            "grid_template_rows": null,
            "height": null,
            "justify_content": null,
            "justify_items": null,
            "left": null,
            "margin": null,
            "max_height": null,
            "max_width": null,
            "min_height": null,
            "min_width": null,
            "object_fit": null,
            "object_position": null,
            "order": null,
            "overflow": null,
            "overflow_x": null,
            "overflow_y": null,
            "padding": null,
            "right": null,
            "top": null,
            "visibility": null,
            "width": null
          }
        },
        "5686526d8eb34c919a9c231ef3611d21": {
          "model_module": "@jupyter-widgets/controls",
          "model_name": "ProgressStyleModel",
          "model_module_version": "1.5.0",
          "state": {
            "_model_module": "@jupyter-widgets/controls",
            "_model_module_version": "1.5.0",
            "_model_name": "ProgressStyleModel",
            "_view_count": null,
            "_view_module": "@jupyter-widgets/base",
            "_view_module_version": "1.2.0",
            "_view_name": "StyleView",
            "bar_color": null,
            "description_width": ""
          }
        },
        "7be36a16fd8742e58f990a88b9d174e9": {
          "model_module": "@jupyter-widgets/base",
          "model_name": "LayoutModel",
          "model_module_version": "1.2.0",
          "state": {
            "_model_module": "@jupyter-widgets/base",
            "_model_module_version": "1.2.0",
            "_model_name": "LayoutModel",
            "_view_count": null,
            "_view_module": "@jupyter-widgets/base",
            "_view_module_version": "1.2.0",
            "_view_name": "LayoutView",
            "align_content": null,
            "align_items": null,
            "align_self": null,
            "border": null,
            "bottom": null,
            "display": null,
            "flex": null,
            "flex_flow": null,
            "grid_area": null,
            "grid_auto_columns": null,
            "grid_auto_flow": null,
            "grid_auto_rows": null,
            "grid_column": null,
            "grid_gap": null,
            "grid_row": null,
            "grid_template_areas": null,
            "grid_template_columns": null,
            "grid_template_rows": null,
            "height": null,
            "justify_content": null,
            "justify_items": null,
            "left": null,
            "margin": null,
            "max_height": null,
            "max_width": null,
            "min_height": null,
            "min_width": null,
            "object_fit": null,
            "object_position": null,
            "order": null,
            "overflow": null,
            "overflow_x": null,
            "overflow_y": null,
            "padding": null,
            "right": null,
            "top": null,
            "visibility": null,
            "width": null
          }
        },
        "d6a5a93db35b414ca1c8b30b9ffaf09a": {
          "model_module": "@jupyter-widgets/controls",
          "model_name": "DescriptionStyleModel",
          "model_module_version": "1.5.0",
          "state": {
            "_model_module": "@jupyter-widgets/controls",
            "_model_module_version": "1.5.0",
            "_model_name": "DescriptionStyleModel",
            "_view_count": null,
            "_view_module": "@jupyter-widgets/base",
            "_view_module_version": "1.2.0",
            "_view_name": "StyleView",
            "description_width": ""
          }
        },
        "3ceb43a04be941d1a6926c5dd5efb51b": {
          "model_module": "@jupyter-widgets/base",
          "model_name": "LayoutModel",
          "model_module_version": "1.2.0",
          "state": {
            "_model_module": "@jupyter-widgets/base",
            "_model_module_version": "1.2.0",
            "_model_name": "LayoutModel",
            "_view_count": null,
            "_view_module": "@jupyter-widgets/base",
            "_view_module_version": "1.2.0",
            "_view_name": "LayoutView",
            "align_content": null,
            "align_items": null,
            "align_self": null,
            "border": null,
            "bottom": null,
            "display": null,
            "flex": null,
            "flex_flow": null,
            "grid_area": null,
            "grid_auto_columns": null,
            "grid_auto_flow": null,
            "grid_auto_rows": null,
            "grid_column": null,
            "grid_gap": null,
            "grid_row": null,
            "grid_template_areas": null,
            "grid_template_columns": null,
            "grid_template_rows": null,
            "height": null,
            "justify_content": null,
            "justify_items": null,
            "left": null,
            "margin": null,
            "max_height": null,
            "max_width": null,
            "min_height": null,
            "min_width": null,
            "object_fit": null,
            "object_position": null,
            "order": null,
            "overflow": null,
            "overflow_x": null,
            "overflow_y": null,
            "padding": null,
            "right": null,
            "top": null,
            "visibility": null,
            "width": null
          }
        },
        "9e01d466f0824483927a895aabc9b62c": {
          "model_module": "@jupyter-widgets/controls",
          "model_name": "ProgressStyleModel",
          "model_module_version": "1.5.0",
          "state": {
            "_model_module": "@jupyter-widgets/controls",
            "_model_module_version": "1.5.0",
            "_model_name": "ProgressStyleModel",
            "_view_count": null,
            "_view_module": "@jupyter-widgets/base",
            "_view_module_version": "1.2.0",
            "_view_name": "StyleView",
            "bar_color": null,
            "description_width": ""
          }
        },
        "4352e1b4630f445ea4e38470da70aad1": {
          "model_module": "@jupyter-widgets/base",
          "model_name": "LayoutModel",
          "model_module_version": "1.2.0",
          "state": {
            "_model_module": "@jupyter-widgets/base",
            "_model_module_version": "1.2.0",
            "_model_name": "LayoutModel",
            "_view_count": null,
            "_view_module": "@jupyter-widgets/base",
            "_view_module_version": "1.2.0",
            "_view_name": "LayoutView",
            "align_content": null,
            "align_items": null,
            "align_self": null,
            "border": null,
            "bottom": null,
            "display": null,
            "flex": null,
            "flex_flow": null,
            "grid_area": null,
            "grid_auto_columns": null,
            "grid_auto_flow": null,
            "grid_auto_rows": null,
            "grid_column": null,
            "grid_gap": null,
            "grid_row": null,
            "grid_template_areas": null,
            "grid_template_columns": null,
            "grid_template_rows": null,
            "height": null,
            "justify_content": null,
            "justify_items": null,
            "left": null,
            "margin": null,
            "max_height": null,
            "max_width": null,
            "min_height": null,
            "min_width": null,
            "object_fit": null,
            "object_position": null,
            "order": null,
            "overflow": null,
            "overflow_x": null,
            "overflow_y": null,
            "padding": null,
            "right": null,
            "top": null,
            "visibility": null,
            "width": null
          }
        },
        "f072a465093949bcb3e93bfddb0a2d55": {
          "model_module": "@jupyter-widgets/controls",
          "model_name": "DescriptionStyleModel",
          "model_module_version": "1.5.0",
          "state": {
            "_model_module": "@jupyter-widgets/controls",
            "_model_module_version": "1.5.0",
            "_model_name": "DescriptionStyleModel",
            "_view_count": null,
            "_view_module": "@jupyter-widgets/base",
            "_view_module_version": "1.2.0",
            "_view_name": "StyleView",
            "description_width": ""
          }
        },
        "8ed28b8f0aff4cd1825a92b8cb66ec60": {
          "model_module": "@jupyter-widgets/base",
          "model_name": "LayoutModel",
          "model_module_version": "1.2.0",
          "state": {
            "_model_module": "@jupyter-widgets/base",
            "_model_module_version": "1.2.0",
            "_model_name": "LayoutModel",
            "_view_count": null,
            "_view_module": "@jupyter-widgets/base",
            "_view_module_version": "1.2.0",
            "_view_name": "LayoutView",
            "align_content": null,
            "align_items": null,
            "align_self": null,
            "border": null,
            "bottom": null,
            "display": null,
            "flex": null,
            "flex_flow": null,
            "grid_area": null,
            "grid_auto_columns": null,
            "grid_auto_flow": null,
            "grid_auto_rows": null,
            "grid_column": null,
            "grid_gap": null,
            "grid_row": null,
            "grid_template_areas": null,
            "grid_template_columns": null,
            "grid_template_rows": null,
            "height": null,
            "justify_content": null,
            "justify_items": null,
            "left": null,
            "margin": null,
            "max_height": null,
            "max_width": null,
            "min_height": null,
            "min_width": null,
            "object_fit": null,
            "object_position": null,
            "order": null,
            "overflow": null,
            "overflow_x": null,
            "overflow_y": null,
            "padding": null,
            "right": null,
            "top": null,
            "visibility": null,
            "width": null
          }
        },
        "718be46ec9b547e89e6120f767d7527f": {
          "model_module": "@jupyter-widgets/controls",
          "model_name": "ProgressStyleModel",
          "model_module_version": "1.5.0",
          "state": {
            "_model_module": "@jupyter-widgets/controls",
            "_model_module_version": "1.5.0",
            "_model_name": "ProgressStyleModel",
            "_view_count": null,
            "_view_module": "@jupyter-widgets/base",
            "_view_module_version": "1.2.0",
            "_view_name": "StyleView",
            "bar_color": null,
            "description_width": ""
          }
        },
        "ef81c5242e434485a66ad3476bce6984": {
          "model_module": "@jupyter-widgets/base",
          "model_name": "LayoutModel",
          "model_module_version": "1.2.0",
          "state": {
            "_model_module": "@jupyter-widgets/base",
            "_model_module_version": "1.2.0",
            "_model_name": "LayoutModel",
            "_view_count": null,
            "_view_module": "@jupyter-widgets/base",
            "_view_module_version": "1.2.0",
            "_view_name": "LayoutView",
            "align_content": null,
            "align_items": null,
            "align_self": null,
            "border": null,
            "bottom": null,
            "display": null,
            "flex": null,
            "flex_flow": null,
            "grid_area": null,
            "grid_auto_columns": null,
            "grid_auto_flow": null,
            "grid_auto_rows": null,
            "grid_column": null,
            "grid_gap": null,
            "grid_row": null,
            "grid_template_areas": null,
            "grid_template_columns": null,
            "grid_template_rows": null,
            "height": null,
            "justify_content": null,
            "justify_items": null,
            "left": null,
            "margin": null,
            "max_height": null,
            "max_width": null,
            "min_height": null,
            "min_width": null,
            "object_fit": null,
            "object_position": null,
            "order": null,
            "overflow": null,
            "overflow_x": null,
            "overflow_y": null,
            "padding": null,
            "right": null,
            "top": null,
            "visibility": null,
            "width": null
          }
        },
        "f2d25452cb03412aa430f00a1f327052": {
          "model_module": "@jupyter-widgets/controls",
          "model_name": "ProgressStyleModel",
          "model_module_version": "1.5.0",
          "state": {
            "_model_module": "@jupyter-widgets/controls",
            "_model_module_version": "1.5.0",
            "_model_name": "ProgressStyleModel",
            "_view_count": null,
            "_view_module": "@jupyter-widgets/base",
            "_view_module_version": "1.2.0",
            "_view_name": "StyleView",
            "bar_color": null,
            "description_width": ""
          }
        },
        "c5cf2affd88b4a05ae8cbefd6d41d811": {
          "model_module": "@jupyter-widgets/base",
          "model_name": "LayoutModel",
          "model_module_version": "1.2.0",
          "state": {
            "_model_module": "@jupyter-widgets/base",
            "_model_module_version": "1.2.0",
            "_model_name": "LayoutModel",
            "_view_count": null,
            "_view_module": "@jupyter-widgets/base",
            "_view_module_version": "1.2.0",
            "_view_name": "LayoutView",
            "align_content": null,
            "align_items": null,
            "align_self": null,
            "border": null,
            "bottom": null,
            "display": null,
            "flex": null,
            "flex_flow": null,
            "grid_area": null,
            "grid_auto_columns": null,
            "grid_auto_flow": null,
            "grid_auto_rows": null,
            "grid_column": null,
            "grid_gap": null,
            "grid_row": null,
            "grid_template_areas": null,
            "grid_template_columns": null,
            "grid_template_rows": null,
            "height": null,
            "justify_content": null,
            "justify_items": null,
            "left": null,
            "margin": null,
            "max_height": null,
            "max_width": null,
            "min_height": null,
            "min_width": null,
            "object_fit": null,
            "object_position": null,
            "order": null,
            "overflow": null,
            "overflow_x": null,
            "overflow_y": null,
            "padding": null,
            "right": null,
            "top": null,
            "visibility": null,
            "width": null
          }
        },
        "1f7fb966b90c4d19b0796e6390bbd02c": {
          "model_module": "@jupyter-widgets/controls",
          "model_name": "DescriptionStyleModel",
          "model_module_version": "1.5.0",
          "state": {
            "_model_module": "@jupyter-widgets/controls",
            "_model_module_version": "1.5.0",
            "_model_name": "DescriptionStyleModel",
            "_view_count": null,
            "_view_module": "@jupyter-widgets/base",
            "_view_module_version": "1.2.0",
            "_view_name": "StyleView",
            "description_width": ""
          }
        },
        "6e3455ffca80419689c2a4f36e702fa7": {
          "model_module": "@jupyter-widgets/base",
          "model_name": "LayoutModel",
          "model_module_version": "1.2.0",
          "state": {
            "_model_module": "@jupyter-widgets/base",
            "_model_module_version": "1.2.0",
            "_model_name": "LayoutModel",
            "_view_count": null,
            "_view_module": "@jupyter-widgets/base",
            "_view_module_version": "1.2.0",
            "_view_name": "LayoutView",
            "align_content": null,
            "align_items": null,
            "align_self": null,
            "border": null,
            "bottom": null,
            "display": null,
            "flex": null,
            "flex_flow": null,
            "grid_area": null,
            "grid_auto_columns": null,
            "grid_auto_flow": null,
            "grid_auto_rows": null,
            "grid_column": null,
            "grid_gap": null,
            "grid_row": null,
            "grid_template_areas": null,
            "grid_template_columns": null,
            "grid_template_rows": null,
            "height": null,
            "justify_content": null,
            "justify_items": null,
            "left": null,
            "margin": null,
            "max_height": null,
            "max_width": null,
            "min_height": null,
            "min_width": null,
            "object_fit": null,
            "object_position": null,
            "order": null,
            "overflow": null,
            "overflow_x": null,
            "overflow_y": null,
            "padding": null,
            "right": null,
            "top": null,
            "visibility": null,
            "width": null
          }
        },
        "f40f31a76844465e9faec94468b9831b": {
          "model_module": "@jupyter-widgets/controls",
          "model_name": "DescriptionStyleModel",
          "model_module_version": "1.5.0",
          "state": {
            "_model_module": "@jupyter-widgets/controls",
            "_model_module_version": "1.5.0",
            "_model_name": "DescriptionStyleModel",
            "_view_count": null,
            "_view_module": "@jupyter-widgets/base",
            "_view_module_version": "1.2.0",
            "_view_name": "StyleView",
            "description_width": ""
          }
        },
        "532d2a01459f4b188ca9b2128a6473b9": {
          "model_module": "@jupyter-widgets/controls",
          "model_name": "HTMLModel",
          "model_module_version": "1.5.0",
          "state": {
            "_dom_classes": [],
            "_model_module": "@jupyter-widgets/controls",
            "_model_module_version": "1.5.0",
            "_model_name": "HTMLModel",
            "_view_count": null,
            "_view_module": "@jupyter-widgets/controls",
            "_view_module_version": "1.5.0",
            "_view_name": "HTMLView",
            "description": "",
            "description_tooltip": null,
            "layout": "IPY_MODEL_c5cf2affd88b4a05ae8cbefd6d41d811",
            "placeholder": "​",
            "style": "IPY_MODEL_1f7fb966b90c4d19b0796e6390bbd02c",
            "value": "Downloading /tmp/tmpo50l4w26/t5-summarization-onnx/artifacts/t5_onnx_2/decoder_model.onnx: 100%"
          }
        },
        "ef6ea3d4c0854494b567a9edc9fdb624": {
          "model_module": "@jupyter-widgets/controls",
          "model_name": "FloatProgressModel",
          "model_module_version": "1.5.0",
          "state": {
            "_dom_classes": [],
            "_model_module": "@jupyter-widgets/controls",
            "_model_module_version": "1.5.0",
            "_model_name": "FloatProgressModel",
            "_view_count": null,
            "_view_module": "@jupyter-widgets/controls",
            "_view_module_version": "1.5.0",
            "_view_name": "ProgressView",
            "bar_style": "success",
            "description": "",
            "description_tooltip": null,
            "layout": "IPY_MODEL_ef81c5242e434485a66ad3476bce6984",
            "max": 1742964457,
            "min": 0,
            "orientation": "horizontal",
            "style": "IPY_MODEL_f2d25452cb03412aa430f00a1f327052",
            "value": 1742964457
          }
        },
        "f79e1734d3684410b14745fd18ff11a4": {
          "model_module": "@jupyter-widgets/controls",
          "model_name": "HTMLModel",
          "model_module_version": "1.5.0",
          "state": {
            "_dom_classes": [],
            "_model_module": "@jupyter-widgets/controls",
            "_model_module_version": "1.5.0",
            "_model_name": "HTMLModel",
            "_view_count": null,
            "_view_module": "@jupyter-widgets/controls",
            "_view_module_version": "1.5.0",
            "_view_name": "HTMLView",
            "description": "",
            "description_tooltip": null,
            "layout": "IPY_MODEL_6e3455ffca80419689c2a4f36e702fa7",
            "placeholder": "​",
            "style": "IPY_MODEL_f40f31a76844465e9faec94468b9831b",
            "value": " 1.62G/1.62G [01:39&lt;00:00, 23.4MiB/s]"
          }
        },
        "be2d95424c2b4f00b032495aa065519f": {
          "model_module": "@jupyter-widgets/base",
          "model_name": "LayoutModel",
          "model_module_version": "1.2.0",
          "state": {
            "_model_module": "@jupyter-widgets/base",
            "_model_module_version": "1.2.0",
            "_model_name": "LayoutModel",
            "_view_count": null,
            "_view_module": "@jupyter-widgets/base",
            "_view_module_version": "1.2.0",
            "_view_name": "LayoutView",
            "align_content": null,
            "align_items": null,
            "align_self": null,
            "border": null,
            "bottom": null,
            "display": null,
            "flex": null,
            "flex_flow": null,
            "grid_area": null,
            "grid_auto_columns": null,
            "grid_auto_flow": null,
            "grid_auto_rows": null,
            "grid_column": null,
            "grid_gap": null,
            "grid_row": null,
            "grid_template_areas": null,
            "grid_template_columns": null,
            "grid_template_rows": null,
            "height": null,
            "justify_content": null,
            "justify_items": null,
            "left": null,
            "margin": null,
            "max_height": null,
            "max_width": null,
            "min_height": null,
            "min_width": null,
            "object_fit": null,
            "object_position": null,
            "order": null,
            "overflow": null,
            "overflow_x": null,
            "overflow_y": null,
            "padding": null,
            "right": null,
            "top": null,
            "visibility": null,
            "width": null
          }
        },
        "03ea8a7cc8cf4c1a8569785fbb91c957": {
          "model_module": "@jupyter-widgets/base",
          "model_name": "LayoutModel",
          "model_module_version": "1.2.0",
          "state": {
            "_model_module": "@jupyter-widgets/base",
            "_model_module_version": "1.2.0",
            "_model_name": "LayoutModel",
            "_view_count": null,
            "_view_module": "@jupyter-widgets/base",
            "_view_module_version": "1.2.0",
            "_view_name": "LayoutView",
            "align_content": null,
            "align_items": null,
            "align_self": null,
            "border": null,
            "bottom": null,
            "display": null,
            "flex": null,
            "flex_flow": null,
            "grid_area": null,
            "grid_auto_columns": null,
            "grid_auto_flow": null,
            "grid_auto_rows": null,
            "grid_column": null,
            "grid_gap": null,
            "grid_row": null,
            "grid_template_areas": null,
            "grid_template_columns": null,
            "grid_template_rows": null,
            "height": null,
            "justify_content": null,
            "justify_items": null,
            "left": null,
            "margin": null,
            "max_height": null,
            "max_width": null,
            "min_height": null,
            "min_width": null,
            "object_fit": null,
            "object_position": null,
            "order": null,
            "overflow": null,
            "overflow_x": null,
            "overflow_y": null,
            "padding": null,
            "right": null,
            "top": null,
            "visibility": null,
            "width": null
          }
        },
        "5af1af208d414622994566ea4d3499e0": {
          "model_module": "@jupyter-widgets/controls",
          "model_name": "DescriptionStyleModel",
          "model_module_version": "1.5.0",
          "state": {
            "_model_module": "@jupyter-widgets/controls",
            "_model_module_version": "1.5.0",
            "_model_name": "DescriptionStyleModel",
            "_view_count": null,
            "_view_module": "@jupyter-widgets/base",
            "_view_module_version": "1.2.0",
            "_view_name": "StyleView",
            "description_width": ""
          }
        },
        "1a077997970f4007aa2cf7fe5ff4bec6": {
          "model_module": "@jupyter-widgets/controls",
          "model_name": "HTMLModel",
          "model_module_version": "1.5.0",
          "state": {
            "_dom_classes": [],
            "_model_module": "@jupyter-widgets/controls",
            "_model_module_version": "1.5.0",
            "_model_name": "HTMLModel",
            "_view_count": null,
            "_view_module": "@jupyter-widgets/controls",
            "_view_module_version": "1.5.0",
            "_view_name": "HTMLView",
            "description": "",
            "description_tooltip": null,
            "layout": "IPY_MODEL_4352e1b4630f445ea4e38470da70aad1",
            "placeholder": "​",
            "style": "IPY_MODEL_f072a465093949bcb3e93bfddb0a2d55",
            "value": "Downloading /tmp/tmpo50l4w26/t5-summarization-onnx/artifacts/t5_onnx_2/decoder_with_past_model.onnx: 100%"
          }
        },
        "ee8bd12574e34ded80d917ba1d0a2056": {
          "model_module": "@jupyter-widgets/controls",
          "model_name": "FloatProgressModel",
          "model_module_version": "1.5.0",
          "state": {
            "_dom_classes": [],
            "_model_module": "@jupyter-widgets/controls",
            "_model_module_version": "1.5.0",
            "_model_name": "FloatProgressModel",
            "_view_count": null,
            "_view_module": "@jupyter-widgets/controls",
            "_view_module_version": "1.5.0",
            "_view_name": "ProgressView",
            "bar_style": "success",
            "description": "",
            "description_tooltip": null,
            "layout": "IPY_MODEL_3ceb43a04be941d1a6926c5dd5efb51b",
            "max": 1541580731,
            "min": 0,
            "orientation": "horizontal",
            "style": "IPY_MODEL_9e01d466f0824483927a895aabc9b62c",
            "value": 1541580731
          }
        },
        "58116964a8ff4de695434a408b0fd607": {
          "model_module": "@jupyter-widgets/controls",
          "model_name": "HTMLModel",
          "model_module_version": "1.5.0",
          "state": {
            "_dom_classes": [],
            "_model_module": "@jupyter-widgets/controls",
            "_model_module_version": "1.5.0",
            "_model_name": "HTMLModel",
            "_view_count": null,
            "_view_module": "@jupyter-widgets/controls",
            "_view_module_version": "1.5.0",
            "_view_name": "HTMLView",
            "description": "",
            "description_tooltip": null,
            "layout": "IPY_MODEL_03ea8a7cc8cf4c1a8569785fbb91c957",
            "placeholder": "​",
            "style": "IPY_MODEL_5af1af208d414622994566ea4d3499e0",
            "value": " 1.44G/1.44G [00:52&lt;00:00, 31.0MiB/s]"
          }
        },
        "8e53831d7a95472eaa9fd091f173f58c": {
          "model_module": "@jupyter-widgets/base",
          "model_name": "LayoutModel",
          "model_module_version": "1.2.0",
          "state": {
            "_model_module": "@jupyter-widgets/base",
            "_model_module_version": "1.2.0",
            "_model_name": "LayoutModel",
            "_view_count": null,
            "_view_module": "@jupyter-widgets/base",
            "_view_module_version": "1.2.0",
            "_view_name": "LayoutView",
            "align_content": null,
            "align_items": null,
            "align_self": null,
            "border": null,
            "bottom": null,
            "display": null,
            "flex": null,
            "flex_flow": null,
            "grid_area": null,
            "grid_auto_columns": null,
            "grid_auto_flow": null,
            "grid_auto_rows": null,
            "grid_column": null,
            "grid_gap": null,
            "grid_row": null,
            "grid_template_areas": null,
            "grid_template_columns": null,
            "grid_template_rows": null,
            "height": null,
            "justify_content": null,
            "justify_items": null,
            "left": null,
            "margin": null,
            "max_height": null,
            "max_width": null,
            "min_height": null,
            "min_width": null,
            "object_fit": null,
            "object_position": null,
            "order": null,
            "overflow": null,
            "overflow_x": null,
            "overflow_y": null,
            "padding": null,
            "right": null,
            "top": null,
            "visibility": null,
            "width": null
          }
        },
        "0000d48f14bc43a7a426ab38da31130c": {
          "model_module": "@jupyter-widgets/base",
          "model_name": "LayoutModel",
          "model_module_version": "1.2.0",
          "state": {
            "_model_module": "@jupyter-widgets/base",
            "_model_module_version": "1.2.0",
            "_model_name": "LayoutModel",
            "_view_count": null,
            "_view_module": "@jupyter-widgets/base",
            "_view_module_version": "1.2.0",
            "_view_name": "LayoutView",
            "align_content": null,
            "align_items": null,
            "align_self": null,
            "border": null,
            "bottom": null,
            "display": null,
            "flex": null,
            "flex_flow": null,
            "grid_area": null,
            "grid_auto_columns": null,
            "grid_auto_flow": null,
            "grid_auto_rows": null,
            "grid_column": null,
            "grid_gap": null,
            "grid_row": null,
            "grid_template_areas": null,
            "grid_template_columns": null,
            "grid_template_rows": null,
            "height": null,
            "justify_content": null,
            "justify_items": null,
            "left": null,
            "margin": null,
            "max_height": null,
            "max_width": null,
            "min_height": null,
            "min_width": null,
            "object_fit": null,
            "object_position": null,
            "order": null,
            "overflow": null,
            "overflow_x": null,
            "overflow_y": null,
            "padding": null,
            "right": null,
            "top": null,
            "visibility": null,
            "width": null
          }
        },
        "f46dc96e0bcf4c188c09d41568b2ec26": {
          "model_module": "@jupyter-widgets/controls",
          "model_name": "ProgressStyleModel",
          "model_module_version": "1.5.0",
          "state": {
            "_model_module": "@jupyter-widgets/controls",
            "_model_module_version": "1.5.0",
            "_model_name": "ProgressStyleModel",
            "_view_count": null,
            "_view_module": "@jupyter-widgets/base",
            "_view_module_version": "1.2.0",
            "_view_name": "StyleView",
            "bar_color": null,
            "description_width": ""
          }
        },
        "f85ab61745f049e7bb4f7ea1e9871011": {
          "model_module": "@jupyter-widgets/base",
          "model_name": "LayoutModel",
          "model_module_version": "1.2.0",
          "state": {
            "_model_module": "@jupyter-widgets/base",
            "_model_module_version": "1.2.0",
            "_model_name": "LayoutModel",
            "_view_count": null,
            "_view_module": "@jupyter-widgets/base",
            "_view_module_version": "1.2.0",
            "_view_name": "LayoutView",
            "align_content": null,
            "align_items": null,
            "align_self": null,
            "border": null,
            "bottom": null,
            "display": null,
            "flex": null,
            "flex_flow": null,
            "grid_area": null,
            "grid_auto_columns": null,
            "grid_auto_flow": null,
            "grid_auto_rows": null,
            "grid_column": null,
            "grid_gap": null,
            "grid_row": null,
            "grid_template_areas": null,
            "grid_template_columns": null,
            "grid_template_rows": null,
            "height": null,
            "justify_content": null,
            "justify_items": null,
            "left": null,
            "margin": null,
            "max_height": null,
            "max_width": null,
            "min_height": null,
            "min_width": null,
            "object_fit": null,
            "object_position": null,
            "order": null,
            "overflow": null,
            "overflow_x": null,
            "overflow_y": null,
            "padding": null,
            "right": null,
            "top": null,
            "visibility": null,
            "width": null
          }
        },
        "da1639d15a454087a63a839175844cdd": {
          "model_module": "@jupyter-widgets/controls",
          "model_name": "DescriptionStyleModel",
          "model_module_version": "1.5.0",
          "state": {
            "_model_module": "@jupyter-widgets/controls",
            "_model_module_version": "1.5.0",
            "_model_name": "DescriptionStyleModel",
            "_view_count": null,
            "_view_module": "@jupyter-widgets/base",
            "_view_module_version": "1.2.0",
            "_view_name": "StyleView",
            "description_width": ""
          }
        },
        "939cbba39bbf4b87abd4e2fb910b3739": {
          "model_module": "@jupyter-widgets/base",
          "model_name": "LayoutModel",
          "model_module_version": "1.2.0",
          "state": {
            "_model_module": "@jupyter-widgets/base",
            "_model_module_version": "1.2.0",
            "_model_name": "LayoutModel",
            "_view_count": null,
            "_view_module": "@jupyter-widgets/base",
            "_view_module_version": "1.2.0",
            "_view_name": "LayoutView",
            "align_content": null,
            "align_items": null,
            "align_self": null,
            "border": null,
            "bottom": null,
            "display": null,
            "flex": null,
            "flex_flow": null,
            "grid_area": null,
            "grid_auto_columns": null,
            "grid_auto_flow": null,
            "grid_auto_rows": null,
            "grid_column": null,
            "grid_gap": null,
            "grid_row": null,
            "grid_template_areas": null,
            "grid_template_columns": null,
            "grid_template_rows": null,
            "height": null,
            "justify_content": null,
            "justify_items": null,
            "left": null,
            "margin": null,
            "max_height": null,
            "max_width": null,
            "min_height": null,
            "min_width": null,
            "object_fit": null,
            "object_position": null,
            "order": null,
            "overflow": null,
            "overflow_x": null,
            "overflow_y": null,
            "padding": null,
            "right": null,
            "top": null,
            "visibility": null,
            "width": null
          }
        },
        "c2e627f76c6a4ad6a6e00f35172f5650": {
          "model_module": "@jupyter-widgets/controls",
          "model_name": "DescriptionStyleModel",
          "model_module_version": "1.5.0",
          "state": {
            "_model_module": "@jupyter-widgets/controls",
            "_model_module_version": "1.5.0",
            "_model_name": "DescriptionStyleModel",
            "_view_count": null,
            "_view_module": "@jupyter-widgets/base",
            "_view_module_version": "1.2.0",
            "_view_name": "StyleView",
            "description_width": ""
          }
        },
        "44da6c9454ea468384c84cb03705519a": {
          "model_module": "@jupyter-widgets/controls",
          "model_name": "HTMLModel",
          "model_module_version": "1.5.0",
          "state": {
            "_dom_classes": [],
            "_model_module": "@jupyter-widgets/controls",
            "_model_module_version": "1.5.0",
            "_model_name": "HTMLModel",
            "_view_count": null,
            "_view_module": "@jupyter-widgets/controls",
            "_view_module_version": "1.5.0",
            "_view_name": "HTMLView",
            "description": "",
            "description_tooltip": null,
            "layout": "IPY_MODEL_f85ab61745f049e7bb4f7ea1e9871011",
            "placeholder": "​",
            "style": "IPY_MODEL_da1639d15a454087a63a839175844cdd",
            "value": "Downloading /tmp/tmpo50l4w26/t5-summarization-onnx/artifacts/t5_onnx_2/encoder_model.onnx: 100%"
          }
        },
        "cdfef5e01bac453ba22ecf95eac0a6f2": {
          "model_module": "@jupyter-widgets/controls",
          "model_name": "FloatProgressModel",
          "model_module_version": "1.5.0",
          "state": {
            "_dom_classes": [],
            "_model_module": "@jupyter-widgets/controls",
            "_model_module_version": "1.5.0",
            "_model_name": "FloatProgressModel",
            "_view_count": null,
            "_view_module": "@jupyter-widgets/controls",
            "_view_module_version": "1.5.0",
            "_view_name": "ProgressView",
            "bar_style": "success",
            "description": "",
            "description_tooltip": null,
            "layout": "IPY_MODEL_8ed28b8f0aff4cd1825a92b8cb66ec60",
            "max": 1339962387,
            "min": 0,
            "orientation": "horizontal",
            "style": "IPY_MODEL_718be46ec9b547e89e6120f767d7527f",
            "value": 1339962387
          }
        },
        "60f86b5107bb416d8ad7cfa2ed48bf6c": {
          "model_module": "@jupyter-widgets/controls",
          "model_name": "HTMLModel",
          "model_module_version": "1.5.0",
          "state": {
            "_dom_classes": [],
            "_model_module": "@jupyter-widgets/controls",
            "_model_module_version": "1.5.0",
            "_model_name": "HTMLModel",
            "_view_count": null,
            "_view_module": "@jupyter-widgets/controls",
            "_view_module_version": "1.5.0",
            "_view_name": "HTMLView",
            "description": "",
            "description_tooltip": null,
            "layout": "IPY_MODEL_939cbba39bbf4b87abd4e2fb910b3739",
            "placeholder": "​",
            "style": "IPY_MODEL_c2e627f76c6a4ad6a6e00f35172f5650",
            "value": " 1.25G/1.25G [01:07&lt;00:00, 89.7MiB/s]"
          }
        },
        "a586a60e6903469dbf102bcee4a5fc8a": {
          "model_module": "@jupyter-widgets/base",
          "model_name": "LayoutModel",
          "model_module_version": "1.2.0",
          "state": {
            "_model_module": "@jupyter-widgets/base",
            "_model_module_version": "1.2.0",
            "_model_name": "LayoutModel",
            "_view_count": null,
            "_view_module": "@jupyter-widgets/base",
            "_view_module_version": "1.2.0",
            "_view_name": "LayoutView",
            "align_content": null,
            "align_items": null,
            "align_self": null,
            "border": null,
            "bottom": null,
            "display": null,
            "flex": null,
            "flex_flow": null,
            "grid_area": null,
            "grid_auto_columns": null,
            "grid_auto_flow": null,
            "grid_auto_rows": null,
            "grid_column": null,
            "grid_gap": null,
            "grid_row": null,
            "grid_template_areas": null,
            "grid_template_columns": null,
            "grid_template_rows": null,
            "height": null,
            "justify_content": null,
            "justify_items": null,
            "left": null,
            "margin": null,
            "max_height": null,
            "max_width": null,
            "min_height": null,
            "min_width": null,
            "object_fit": null,
            "object_position": null,
            "order": null,
            "overflow": null,
            "overflow_x": null,
            "overflow_y": null,
            "padding": null,
            "right": null,
            "top": null,
            "visibility": null,
            "width": null
          }
        },
        "e96729e00bd34b1c8438d135aa28a806": {
          "model_module": "@jupyter-widgets/base",
          "model_name": "LayoutModel",
          "model_module_version": "1.2.0",
          "state": {
            "_model_module": "@jupyter-widgets/base",
            "_model_module_version": "1.2.0",
            "_model_name": "LayoutModel",
            "_view_count": null,
            "_view_module": "@jupyter-widgets/base",
            "_view_module_version": "1.2.0",
            "_view_name": "LayoutView",
            "align_content": null,
            "align_items": null,
            "align_self": null,
            "border": null,
            "bottom": null,
            "display": null,
            "flex": null,
            "flex_flow": null,
            "grid_area": null,
            "grid_auto_columns": null,
            "grid_auto_flow": null,
            "grid_auto_rows": null,
            "grid_column": null,
            "grid_gap": null,
            "grid_row": null,
            "grid_template_areas": null,
            "grid_template_columns": null,
            "grid_template_rows": null,
            "height": null,
            "justify_content": null,
            "justify_items": null,
            "left": null,
            "margin": null,
            "max_height": null,
            "max_width": null,
            "min_height": null,
            "min_width": null,
            "object_fit": null,
            "object_position": null,
            "order": null,
            "overflow": null,
            "overflow_x": null,
            "overflow_y": null,
            "padding": null,
            "right": null,
            "top": null,
            "visibility": null,
            "width": null
          }
        },
        "89d53e2709724ec988b4f60f0c536a6b": {
          "model_module": "@jupyter-widgets/controls",
          "model_name": "DescriptionStyleModel",
          "model_module_version": "1.5.0",
          "state": {
            "_model_module": "@jupyter-widgets/controls",
            "_model_module_version": "1.5.0",
            "_model_name": "DescriptionStyleModel",
            "_view_count": null,
            "_view_module": "@jupyter-widgets/base",
            "_view_module_version": "1.2.0",
            "_view_name": "StyleView",
            "description_width": ""
          }
        },
        "244cdc4d8362471fbda88696abb356a9": {
          "model_module": "@jupyter-widgets/base",
          "model_name": "LayoutModel",
          "model_module_version": "1.2.0",
          "state": {
            "_model_module": "@jupyter-widgets/base",
            "_model_module_version": "1.2.0",
            "_model_name": "LayoutModel",
            "_view_count": null,
            "_view_module": "@jupyter-widgets/base",
            "_view_module_version": "1.2.0",
            "_view_name": "LayoutView",
            "align_content": null,
            "align_items": null,
            "align_self": null,
            "border": null,
            "bottom": null,
            "display": null,
            "flex": null,
            "flex_flow": null,
            "grid_area": null,
            "grid_auto_columns": null,
            "grid_auto_flow": null,
            "grid_auto_rows": null,
            "grid_column": null,
            "grid_gap": null,
            "grid_row": null,
            "grid_template_areas": null,
            "grid_template_columns": null,
            "grid_template_rows": null,
            "height": null,
            "justify_content": null,
            "justify_items": null,
            "left": null,
            "margin": null,
            "max_height": null,
            "max_width": null,
            "min_height": null,
            "min_width": null,
            "object_fit": null,
            "object_position": null,
            "order": null,
            "overflow": null,
            "overflow_x": null,
            "overflow_y": null,
            "padding": null,
            "right": null,
            "top": null,
            "visibility": null,
            "width": null
          }
        },
        "77f3adb02b6e465a8c30895ae21345a2": {
          "model_module": "@jupyter-widgets/controls",
          "model_name": "DescriptionStyleModel",
          "model_module_version": "1.5.0",
          "state": {
            "_model_module": "@jupyter-widgets/controls",
            "_model_module_version": "1.5.0",
            "_model_name": "DescriptionStyleModel",
            "_view_count": null,
            "_view_module": "@jupyter-widgets/base",
            "_view_module_version": "1.2.0",
            "_view_name": "StyleView",
            "description_width": ""
          }
        },
        "196ceb8d2bc9482a9bf77523a3385728": {
          "model_module": "@jupyter-widgets/controls",
          "model_name": "HTMLModel",
          "model_module_version": "1.5.0",
          "state": {
            "_dom_classes": [],
            "_model_module": "@jupyter-widgets/controls",
            "_model_module_version": "1.5.0",
            "_model_name": "HTMLModel",
            "_view_count": null,
            "_view_module": "@jupyter-widgets/controls",
            "_view_module_version": "1.5.0",
            "_view_name": "HTMLView",
            "description": "",
            "description_tooltip": null,
            "layout": "IPY_MODEL_e96729e00bd34b1c8438d135aa28a806",
            "placeholder": "​",
            "style": "IPY_MODEL_89d53e2709724ec988b4f60f0c536a6b",
            "value": "Downloading /tmp/tmpo50l4w26/t5-summarization-onnx/artifacts/t5_onnx_2/decoder_model_merged.onnx: 100%"
          }
        },
        "0acaa44b9c004b17b90a6033cf3f1be0": {
          "model_module": "@jupyter-widgets/controls",
          "model_name": "FloatProgressModel",
          "model_module_version": "1.5.0",
          "state": {
            "_dom_classes": [],
            "_model_module": "@jupyter-widgets/controls",
            "_model_module_version": "1.5.0",
            "_model_name": "FloatProgressModel",
            "_view_count": null,
            "_view_module": "@jupyter-widgets/controls",
            "_view_module_version": "1.5.0",
            "_view_name": "ProgressView",
            "bar_style": "success",
            "description": "",
            "description_tooltip": null,
            "layout": "IPY_MODEL_0000d48f14bc43a7a426ab38da31130c",
            "max": 1743377979,
            "min": 0,
            "orientation": "horizontal",
            "style": "IPY_MODEL_f46dc96e0bcf4c188c09d41568b2ec26",
            "value": 1743377979
          }
        },
        "11c1b4adb8c846eb904cf6fe8e495101": {
          "model_module": "@jupyter-widgets/controls",
          "model_name": "HTMLModel",
          "model_module_version": "1.5.0",
          "state": {
            "_dom_classes": [],
            "_model_module": "@jupyter-widgets/controls",
            "_model_module_version": "1.5.0",
            "_model_name": "HTMLModel",
            "_view_count": null,
            "_view_module": "@jupyter-widgets/controls",
            "_view_module_version": "1.5.0",
            "_view_name": "HTMLView",
            "description": "",
            "description_tooltip": null,
            "layout": "IPY_MODEL_244cdc4d8362471fbda88696abb356a9",
            "placeholder": "​",
            "style": "IPY_MODEL_77f3adb02b6e465a8c30895ae21345a2",
            "value": " 1.62G/1.62G [01:53&lt;00:00, 30.7MiB/s]"
          }
        },
        "d95f65131771481599206c8f7e6ce3fe": {
          "model_module": "@jupyter-widgets/base",
          "model_name": "LayoutModel",
          "model_module_version": "1.2.0",
          "state": {
            "_model_module": "@jupyter-widgets/base",
            "_model_module_version": "1.2.0",
            "_model_name": "LayoutModel",
            "_view_count": null,
            "_view_module": "@jupyter-widgets/base",
            "_view_module_version": "1.2.0",
            "_view_name": "LayoutView",
            "align_content": null,
            "align_items": null,
            "align_self": null,
            "border": null,
            "bottom": null,
            "display": null,
            "flex": null,
            "flex_flow": null,
            "grid_area": null,
            "grid_auto_columns": null,
            "grid_auto_flow": null,
            "grid_auto_rows": null,
            "grid_column": null,
            "grid_gap": null,
            "grid_row": null,
            "grid_template_areas": null,
            "grid_template_columns": null,
            "grid_template_rows": null,
            "height": null,
            "justify_content": null,
            "justify_items": null,
            "left": null,
            "margin": null,
            "max_height": null,
            "max_width": null,
            "min_height": null,
            "min_width": null,
            "object_fit": null,
            "object_position": null,
            "order": null,
            "overflow": null,
            "overflow_x": null,
            "overflow_y": null,
            "padding": null,
            "right": null,
            "top": null,
            "visibility": null,
            "width": null
          }
        },
        "173dcc586bee47edad928833b94434c9": {
          "model_module": "@jupyter-widgets/controls",
          "model_name": "HBoxModel",
          "model_module_version": "1.5.0",
          "state": {
            "_dom_classes": [],
            "_model_module": "@jupyter-widgets/controls",
            "_model_module_version": "1.5.0",
            "_model_name": "HBoxModel",
            "_view_count": null,
            "_view_module": "@jupyter-widgets/controls",
            "_view_module_version": "1.5.0",
            "_view_name": "HBoxView",
            "box_style": "",
            "children": [
              "IPY_MODEL_532d2a01459f4b188ca9b2128a6473b9",
              "IPY_MODEL_ef6ea3d4c0854494b567a9edc9fdb624",
              "IPY_MODEL_f79e1734d3684410b14745fd18ff11a4"
            ],
            "layout": "IPY_MODEL_be2d95424c2b4f00b032495aa065519f"
          }
        },
        "7546c5a7db254c5e86eb418fd0e4123d": {
          "model_module": "@jupyter-widgets/controls",
          "model_name": "HBoxModel",
          "model_module_version": "1.5.0",
          "state": {
            "_dom_classes": [],
            "_model_module": "@jupyter-widgets/controls",
            "_model_module_version": "1.5.0",
            "_model_name": "HBoxModel",
            "_view_count": null,
            "_view_module": "@jupyter-widgets/controls",
            "_view_module_version": "1.5.0",
            "_view_name": "HBoxView",
            "box_style": "",
            "children": [
              "IPY_MODEL_44da6c9454ea468384c84cb03705519a",
              "IPY_MODEL_cdfef5e01bac453ba22ecf95eac0a6f2",
              "IPY_MODEL_60f86b5107bb416d8ad7cfa2ed48bf6c"
            ],
            "layout": "IPY_MODEL_a586a60e6903469dbf102bcee4a5fc8a"
          }
        },
        "25be02207c8947ae956141a2fff64be0": {
          "model_module": "@jupyter-widgets/controls",
          "model_name": "HBoxModel",
          "model_module_version": "1.5.0",
          "state": {
            "_dom_classes": [],
            "_model_module": "@jupyter-widgets/controls",
            "_model_module_version": "1.5.0",
            "_model_name": "HBoxModel",
            "_view_count": null,
            "_view_module": "@jupyter-widgets/controls",
            "_view_module_version": "1.5.0",
            "_view_name": "HBoxView",
            "box_style": "",
            "children": [
              "IPY_MODEL_1a077997970f4007aa2cf7fe5ff4bec6",
              "IPY_MODEL_ee8bd12574e34ded80d917ba1d0a2056",
              "IPY_MODEL_58116964a8ff4de695434a408b0fd607"
            ],
            "layout": "IPY_MODEL_8e53831d7a95472eaa9fd091f173f58c"
          }
        },
        "acb8e2681f0c4bd8bef5ab731db11ca4": {
          "model_module": "@jupyter-widgets/controls",
          "model_name": "HBoxModel",
          "model_module_version": "1.5.0",
          "state": {
            "_dom_classes": [],
            "_model_module": "@jupyter-widgets/controls",
            "_model_module_version": "1.5.0",
            "_model_name": "HBoxModel",
            "_view_count": null,
            "_view_module": "@jupyter-widgets/controls",
            "_view_module_version": "1.5.0",
            "_view_name": "HBoxView",
            "box_style": "",
            "children": [
              "IPY_MODEL_196ceb8d2bc9482a9bf77523a3385728",
              "IPY_MODEL_0acaa44b9c004b17b90a6033cf3f1be0",
              "IPY_MODEL_11c1b4adb8c846eb904cf6fe8e495101"
            ],
            "layout": "IPY_MODEL_d95f65131771481599206c8f7e6ce3fe"
          }
        },
        "ec38043d00bf4f1693b50b07ac2cb78c": {
          "model_module": "@jupyter-widgets/controls",
          "model_name": "HBoxModel",
          "model_module_version": "1.5.0",
          "state": {
            "_dom_classes": [],
            "_model_module": "@jupyter-widgets/controls",
            "_model_module_version": "1.5.0",
            "_model_name": "HBoxModel",
            "_view_count": null,
            "_view_module": "@jupyter-widgets/controls",
            "_view_module_version": "1.5.0",
            "_view_name": "HBoxView",
            "box_style": "",
            "children": [
              "IPY_MODEL_b0a82d88b23a4804b11cd718c4d29d6e",
              "IPY_MODEL_d73efbd05dd94f198a797738c4e0468c",
              "IPY_MODEL_c07af3b09c8d4b87b76617f0378e7b26"
            ],
            "layout": "IPY_MODEL_6c2fcdd14e0d4947b334d05e39cea27d"
          }
        },
        "b0a82d88b23a4804b11cd718c4d29d6e": {
          "model_module": "@jupyter-widgets/controls",
          "model_name": "HTMLModel",
          "model_module_version": "1.5.0",
          "state": {
            "_dom_classes": [],
            "_model_module": "@jupyter-widgets/controls",
            "_model_module_version": "1.5.0",
            "_model_name": "HTMLModel",
            "_view_count": null,
            "_view_module": "@jupyter-widgets/controls",
            "_view_module_version": "1.5.0",
            "_view_name": "HTMLView",
            "description": "",
            "description_tooltip": null,
            "layout": "IPY_MODEL_bea059edf6424c7794c122deac347b90",
            "placeholder": "​",
            "style": "IPY_MODEL_6acc0c255ea34ede9889190cc0a77e20",
            "value": "Downloading artifacts: 100%"
          }
        },
        "d73efbd05dd94f198a797738c4e0468c": {
          "model_module": "@jupyter-widgets/controls",
          "model_name": "FloatProgressModel",
          "model_module_version": "1.5.0",
          "state": {
            "_dom_classes": [],
            "_model_module": "@jupyter-widgets/controls",
            "_model_module_version": "1.5.0",
            "_model_name": "FloatProgressModel",
            "_view_count": null,
            "_view_module": "@jupyter-widgets/controls",
            "_view_module_version": "1.5.0",
            "_view_name": "ProgressView",
            "bar_style": "success",
            "description": "",
            "description_tooltip": null,
            "layout": "IPY_MODEL_114b63763a994ecaaf54716cdd83df4c",
            "max": 9,
            "min": 0,
            "orientation": "horizontal",
            "style": "IPY_MODEL_6576579154044478a00df93af53735c4",
            "value": 9
          }
        },
        "c07af3b09c8d4b87b76617f0378e7b26": {
          "model_module": "@jupyter-widgets/controls",
          "model_name": "HTMLModel",
          "model_module_version": "1.5.0",
          "state": {
            "_dom_classes": [],
            "_model_module": "@jupyter-widgets/controls",
            "_model_module_version": "1.5.0",
            "_model_name": "HTMLModel",
            "_view_count": null,
            "_view_module": "@jupyter-widgets/controls",
            "_view_module_version": "1.5.0",
            "_view_name": "HTMLView",
            "description": "",
            "description_tooltip": null,
            "layout": "IPY_MODEL_1c5311f828214068bf9c1fc4540a705b",
            "placeholder": "​",
            "style": "IPY_MODEL_1c7af6639e7c44f999be1b46b296861e",
            "value": " 9/9 [00:01&lt;00:00,  5.63it/s]"
          }
        },
        "6c2fcdd14e0d4947b334d05e39cea27d": {
          "model_module": "@jupyter-widgets/base",
          "model_name": "LayoutModel",
          "model_module_version": "1.2.0",
          "state": {
            "_model_module": "@jupyter-widgets/base",
            "_model_module_version": "1.2.0",
            "_model_name": "LayoutModel",
            "_view_count": null,
            "_view_module": "@jupyter-widgets/base",
            "_view_module_version": "1.2.0",
            "_view_name": "LayoutView",
            "align_content": null,
            "align_items": null,
            "align_self": null,
            "border": null,
            "bottom": null,
            "display": null,
            "flex": null,
            "flex_flow": null,
            "grid_area": null,
            "grid_auto_columns": null,
            "grid_auto_flow": null,
            "grid_auto_rows": null,
            "grid_column": null,
            "grid_gap": null,
            "grid_row": null,
            "grid_template_areas": null,
            "grid_template_columns": null,
            "grid_template_rows": null,
            "height": null,
            "justify_content": null,
            "justify_items": null,
            "left": null,
            "margin": null,
            "max_height": null,
            "max_width": null,
            "min_height": null,
            "min_width": null,
            "object_fit": null,
            "object_position": null,
            "order": null,
            "overflow": null,
            "overflow_x": null,
            "overflow_y": null,
            "padding": null,
            "right": null,
            "top": null,
            "visibility": null,
            "width": null
          }
        },
        "bea059edf6424c7794c122deac347b90": {
          "model_module": "@jupyter-widgets/base",
          "model_name": "LayoutModel",
          "model_module_version": "1.2.0",
          "state": {
            "_model_module": "@jupyter-widgets/base",
            "_model_module_version": "1.2.0",
            "_model_name": "LayoutModel",
            "_view_count": null,
            "_view_module": "@jupyter-widgets/base",
            "_view_module_version": "1.2.0",
            "_view_name": "LayoutView",
            "align_content": null,
            "align_items": null,
            "align_self": null,
            "border": null,
            "bottom": null,
            "display": null,
            "flex": null,
            "flex_flow": null,
            "grid_area": null,
            "grid_auto_columns": null,
            "grid_auto_flow": null,
            "grid_auto_rows": null,
            "grid_column": null,
            "grid_gap": null,
            "grid_row": null,
            "grid_template_areas": null,
            "grid_template_columns": null,
            "grid_template_rows": null,
            "height": null,
            "justify_content": null,
            "justify_items": null,
            "left": null,
            "margin": null,
            "max_height": null,
            "max_width": null,
            "min_height": null,
            "min_width": null,
            "object_fit": null,
            "object_position": null,
            "order": null,
            "overflow": null,
            "overflow_x": null,
            "overflow_y": null,
            "padding": null,
            "right": null,
            "top": null,
            "visibility": null,
            "width": null
          }
        },
        "6acc0c255ea34ede9889190cc0a77e20": {
          "model_module": "@jupyter-widgets/controls",
          "model_name": "DescriptionStyleModel",
          "model_module_version": "1.5.0",
          "state": {
            "_model_module": "@jupyter-widgets/controls",
            "_model_module_version": "1.5.0",
            "_model_name": "DescriptionStyleModel",
            "_view_count": null,
            "_view_module": "@jupyter-widgets/base",
            "_view_module_version": "1.2.0",
            "_view_name": "StyleView",
            "description_width": ""
          }
        },
        "114b63763a994ecaaf54716cdd83df4c": {
          "model_module": "@jupyter-widgets/base",
          "model_name": "LayoutModel",
          "model_module_version": "1.2.0",
          "state": {
            "_model_module": "@jupyter-widgets/base",
            "_model_module_version": "1.2.0",
            "_model_name": "LayoutModel",
            "_view_count": null,
            "_view_module": "@jupyter-widgets/base",
            "_view_module_version": "1.2.0",
            "_view_name": "LayoutView",
            "align_content": null,
            "align_items": null,
            "align_self": null,
            "border": null,
            "bottom": null,
            "display": null,
            "flex": null,
            "flex_flow": null,
            "grid_area": null,
            "grid_auto_columns": null,
            "grid_auto_flow": null,
            "grid_auto_rows": null,
            "grid_column": null,
            "grid_gap": null,
            "grid_row": null,
            "grid_template_areas": null,
            "grid_template_columns": null,
            "grid_template_rows": null,
            "height": null,
            "justify_content": null,
            "justify_items": null,
            "left": null,
            "margin": null,
            "max_height": null,
            "max_width": null,
            "min_height": null,
            "min_width": null,
            "object_fit": null,
            "object_position": null,
            "order": null,
            "overflow": null,
            "overflow_x": null,
            "overflow_y": null,
            "padding": null,
            "right": null,
            "top": null,
            "visibility": null,
            "width": null
          }
        },
        "6576579154044478a00df93af53735c4": {
          "model_module": "@jupyter-widgets/controls",
          "model_name": "ProgressStyleModel",
          "model_module_version": "1.5.0",
          "state": {
            "_model_module": "@jupyter-widgets/controls",
            "_model_module_version": "1.5.0",
            "_model_name": "ProgressStyleModel",
            "_view_count": null,
            "_view_module": "@jupyter-widgets/base",
            "_view_module_version": "1.2.0",
            "_view_name": "StyleView",
            "bar_color": null,
            "description_width": ""
          }
        },
        "1c5311f828214068bf9c1fc4540a705b": {
          "model_module": "@jupyter-widgets/base",
          "model_name": "LayoutModel",
          "model_module_version": "1.2.0",
          "state": {
            "_model_module": "@jupyter-widgets/base",
            "_model_module_version": "1.2.0",
            "_model_name": "LayoutModel",
            "_view_count": null,
            "_view_module": "@jupyter-widgets/base",
            "_view_module_version": "1.2.0",
            "_view_name": "LayoutView",
            "align_content": null,
            "align_items": null,
            "align_self": null,
            "border": null,
            "bottom": null,
            "display": null,
            "flex": null,
            "flex_flow": null,
            "grid_area": null,
            "grid_auto_columns": null,
            "grid_auto_flow": null,
            "grid_auto_rows": null,
            "grid_column": null,
            "grid_gap": null,
            "grid_row": null,
            "grid_template_areas": null,
            "grid_template_columns": null,
            "grid_template_rows": null,
            "height": null,
            "justify_content": null,
            "justify_items": null,
            "left": null,
            "margin": null,
            "max_height": null,
            "max_width": null,
            "min_height": null,
            "min_width": null,
            "object_fit": null,
            "object_position": null,
            "order": null,
            "overflow": null,
            "overflow_x": null,
            "overflow_y": null,
            "padding": null,
            "right": null,
            "top": null,
            "visibility": null,
            "width": null
          }
        },
        "1c7af6639e7c44f999be1b46b296861e": {
          "model_module": "@jupyter-widgets/controls",
          "model_name": "DescriptionStyleModel",
          "model_module_version": "1.5.0",
          "state": {
            "_model_module": "@jupyter-widgets/controls",
            "_model_module_version": "1.5.0",
            "_model_name": "DescriptionStyleModel",
            "_view_count": null,
            "_view_module": "@jupyter-widgets/base",
            "_view_module_version": "1.2.0",
            "_view_name": "StyleView",
            "description_width": ""
          }
        },
        "97c00a54e3474e6ba9b6ea6565aed401": {
          "model_module": "@jupyter-widgets/base",
          "model_name": "LayoutModel",
          "model_module_version": "1.2.0",
          "state": {
            "_model_module": "@jupyter-widgets/base",
            "_model_module_version": "1.2.0",
            "_model_name": "LayoutModel",
            "_view_count": null,
            "_view_module": "@jupyter-widgets/base",
            "_view_module_version": "1.2.0",
            "_view_name": "LayoutView",
            "align_content": null,
            "align_items": null,
            "align_self": null,
            "border": null,
            "bottom": null,
            "display": null,
            "flex": null,
            "flex_flow": null,
            "grid_area": null,
            "grid_auto_columns": null,
            "grid_auto_flow": null,
            "grid_auto_rows": null,
            "grid_column": null,
            "grid_gap": null,
            "grid_row": null,
            "grid_template_areas": null,
            "grid_template_columns": null,
            "grid_template_rows": null,
            "height": null,
            "justify_content": null,
            "justify_items": null,
            "left": null,
            "margin": null,
            "max_height": null,
            "max_width": null,
            "min_height": null,
            "min_width": null,
            "object_fit": null,
            "object_position": null,
            "order": null,
            "overflow": null,
            "overflow_x": null,
            "overflow_y": null,
            "padding": null,
            "right": null,
            "top": null,
            "visibility": null,
            "width": null
          }
        },
        "efb74eb614214d788977732a449f3e9c": {
          "model_module": "@jupyter-widgets/controls",
          "model_name": "ProgressStyleModel",
          "model_module_version": "1.5.0",
          "state": {
            "_model_module": "@jupyter-widgets/controls",
            "_model_module_version": "1.5.0",
            "_model_name": "ProgressStyleModel",
            "_view_count": null,
            "_view_module": "@jupyter-widgets/base",
            "_view_module_version": "1.2.0",
            "_view_name": "StyleView",
            "bar_color": null,
            "description_width": ""
          }
        },
        "1c3ad3285dc44e168b7634a6e2abd665": {
          "model_module": "@jupyter-widgets/base",
          "model_name": "LayoutModel",
          "model_module_version": "1.2.0",
          "state": {
            "_model_module": "@jupyter-widgets/base",
            "_model_module_version": "1.2.0",
            "_model_name": "LayoutModel",
            "_view_count": null,
            "_view_module": "@jupyter-widgets/base",
            "_view_module_version": "1.2.0",
            "_view_name": "LayoutView",
            "align_content": null,
            "align_items": null,
            "align_self": null,
            "border": null,
            "bottom": null,
            "display": null,
            "flex": null,
            "flex_flow": null,
            "grid_area": null,
            "grid_auto_columns": null,
            "grid_auto_flow": null,
            "grid_auto_rows": null,
            "grid_column": null,
            "grid_gap": null,
            "grid_row": null,
            "grid_template_areas": null,
            "grid_template_columns": null,
            "grid_template_rows": null,
            "height": null,
            "justify_content": null,
            "justify_items": null,
            "left": null,
            "margin": null,
            "max_height": null,
            "max_width": null,
            "min_height": null,
            "min_width": null,
            "object_fit": null,
            "object_position": null,
            "order": null,
            "overflow": null,
            "overflow_x": null,
            "overflow_y": null,
            "padding": null,
            "right": null,
            "top": null,
            "visibility": null,
            "width": null
          }
        },
        "871c04556a6340b08078ab1bb5e4a649": {
          "model_module": "@jupyter-widgets/controls",
          "model_name": "DescriptionStyleModel",
          "model_module_version": "1.5.0",
          "state": {
            "_model_module": "@jupyter-widgets/controls",
            "_model_module_version": "1.5.0",
            "_model_name": "DescriptionStyleModel",
            "_view_count": null,
            "_view_module": "@jupyter-widgets/base",
            "_view_module_version": "1.2.0",
            "_view_name": "StyleView",
            "description_width": ""
          }
        },
        "7587fbbd64bc4a4ab6e2c70b6c3f2298": {
          "model_module": "@jupyter-widgets/base",
          "model_name": "LayoutModel",
          "model_module_version": "1.2.0",
          "state": {
            "_model_module": "@jupyter-widgets/base",
            "_model_module_version": "1.2.0",
            "_model_name": "LayoutModel",
            "_view_count": null,
            "_view_module": "@jupyter-widgets/base",
            "_view_module_version": "1.2.0",
            "_view_name": "LayoutView",
            "align_content": null,
            "align_items": null,
            "align_self": null,
            "border": null,
            "bottom": null,
            "display": null,
            "flex": null,
            "flex_flow": null,
            "grid_area": null,
            "grid_auto_columns": null,
            "grid_auto_flow": null,
            "grid_auto_rows": null,
            "grid_column": null,
            "grid_gap": null,
            "grid_row": null,
            "grid_template_areas": null,
            "grid_template_columns": null,
            "grid_template_rows": null,
            "height": null,
            "justify_content": null,
            "justify_items": null,
            "left": null,
            "margin": null,
            "max_height": null,
            "max_width": null,
            "min_height": null,
            "min_width": null,
            "object_fit": null,
            "object_position": null,
            "order": null,
            "overflow": null,
            "overflow_x": null,
            "overflow_y": null,
            "padding": null,
            "right": null,
            "top": null,
            "visibility": null,
            "width": null
          }
        },
        "0ab370d223074a2fa1690edf51133682": {
          "model_module": "@jupyter-widgets/controls",
          "model_name": "DescriptionStyleModel",
          "model_module_version": "1.5.0",
          "state": {
            "_model_module": "@jupyter-widgets/controls",
            "_model_module_version": "1.5.0",
            "_model_name": "DescriptionStyleModel",
            "_view_count": null,
            "_view_module": "@jupyter-widgets/base",
            "_view_module_version": "1.2.0",
            "_view_name": "StyleView",
            "description_width": ""
          }
        },
        "36fcdfdba1474b9683cd196b7db19efc": {
          "model_module": "@jupyter-widgets/controls",
          "model_name": "HTMLModel",
          "model_module_version": "1.5.0",
          "state": {
            "_dom_classes": [],
            "_model_module": "@jupyter-widgets/controls",
            "_model_module_version": "1.5.0",
            "_model_name": "HTMLModel",
            "_view_count": null,
            "_view_module": "@jupyter-widgets/controls",
            "_view_module_version": "1.5.0",
            "_view_name": "HTMLView",
            "description": "",
            "description_tooltip": null,
            "layout": "IPY_MODEL_1c3ad3285dc44e168b7634a6e2abd665",
            "placeholder": "​",
            "style": "IPY_MODEL_871c04556a6340b08078ab1bb5e4a649",
            "value": "Uploading artifacts: 100%"
          }
        },
        "6d94ad72983f493591119b0e598e298b": {
          "model_module": "@jupyter-widgets/controls",
          "model_name": "FloatProgressModel",
          "model_module_version": "1.5.0",
          "state": {
            "_dom_classes": [],
            "_model_module": "@jupyter-widgets/controls",
            "_model_module_version": "1.5.0",
            "_model_name": "FloatProgressModel",
            "_view_count": null,
            "_view_module": "@jupyter-widgets/controls",
            "_view_module_version": "1.5.0",
            "_view_name": "ProgressView",
            "bar_style": "success",
            "description": "",
            "description_tooltip": null,
            "layout": "IPY_MODEL_97c00a54e3474e6ba9b6ea6565aed401",
            "max": 16,
            "min": 0,
            "orientation": "horizontal",
            "style": "IPY_MODEL_efb74eb614214d788977732a449f3e9c",
            "value": 16
          }
        },
        "03ffb8f2575145949118a5d0705a9b14": {
          "model_module": "@jupyter-widgets/controls",
          "model_name": "HTMLModel",
          "model_module_version": "1.5.0",
          "state": {
            "_dom_classes": [],
            "_model_module": "@jupyter-widgets/controls",
            "_model_module_version": "1.5.0",
            "_model_name": "HTMLModel",
            "_view_count": null,
            "_view_module": "@jupyter-widgets/controls",
            "_view_module_version": "1.5.0",
            "_view_name": "HTMLView",
            "description": "",
            "description_tooltip": null,
            "layout": "IPY_MODEL_7587fbbd64bc4a4ab6e2c70b6c3f2298",
            "placeholder": "​",
            "style": "IPY_MODEL_0ab370d223074a2fa1690edf51133682",
            "value": " 16/16 [00:26&lt;00:00,  2.15s/it]"
          }
        },
        "9dadf2c371074e839092057078a82f05": {
          "model_module": "@jupyter-widgets/base",
          "model_name": "LayoutModel",
          "model_module_version": "1.2.0",
          "state": {
            "_model_module": "@jupyter-widgets/base",
            "_model_module_version": "1.2.0",
            "_model_name": "LayoutModel",
            "_view_count": null,
            "_view_module": "@jupyter-widgets/base",
            "_view_module_version": "1.2.0",
            "_view_name": "LayoutView",
            "align_content": null,
            "align_items": null,
            "align_self": null,
            "border": null,
            "bottom": null,
            "display": null,
            "flex": null,
            "flex_flow": null,
            "grid_area": null,
            "grid_auto_columns": null,
            "grid_auto_flow": null,
            "grid_auto_rows": null,
            "grid_column": null,
            "grid_gap": null,
            "grid_row": null,
            "grid_template_areas": null,
            "grid_template_columns": null,
            "grid_template_rows": null,
            "height": null,
            "justify_content": null,
            "justify_items": null,
            "left": null,
            "margin": null,
            "max_height": null,
            "max_width": null,
            "min_height": null,
            "min_width": null,
            "object_fit": null,
            "object_position": null,
            "order": null,
            "overflow": null,
            "overflow_x": null,
            "overflow_y": null,
            "padding": null,
            "right": null,
            "top": null,
            "visibility": null,
            "width": null
          }
        },
        "4d985c07be244a6283536dd280105861": {
          "model_module": "@jupyter-widgets/controls",
          "model_name": "HBoxModel",
          "model_module_version": "1.5.0",
          "state": {
            "_dom_classes": [],
            "_model_module": "@jupyter-widgets/controls",
            "_model_module_version": "1.5.0",
            "_model_name": "HBoxModel",
            "_view_count": null,
            "_view_module": "@jupyter-widgets/controls",
            "_view_module_version": "1.5.0",
            "_view_name": "HBoxView",
            "box_style": "",
            "children": [
              "IPY_MODEL_36fcdfdba1474b9683cd196b7db19efc",
              "IPY_MODEL_6d94ad72983f493591119b0e598e298b",
              "IPY_MODEL_03ffb8f2575145949118a5d0705a9b14"
            ],
            "layout": "IPY_MODEL_9dadf2c371074e839092057078a82f05"
          }
        },
        "9a0b72d0eaf849159073874a47501085": {
          "model_module": "@jupyter-widgets/controls",
          "model_name": "HBoxModel",
          "model_module_version": "1.5.0",
          "state": {
            "_dom_classes": [],
            "_model_module": "@jupyter-widgets/controls",
            "_model_module_version": "1.5.0",
            "_model_name": "HBoxModel",
            "_view_count": null,
            "_view_module": "@jupyter-widgets/controls",
            "_view_module_version": "1.5.0",
            "_view_name": "HBoxView",
            "box_style": "",
            "children": [
              "IPY_MODEL_eb86664b689346b49b8b22f23d3a4e76",
              "IPY_MODEL_8a80d74c823f4bc597539242b5ce8ef3",
              "IPY_MODEL_8fca3797dfcf4a95b343e49cef13a8fd"
            ],
            "layout": "IPY_MODEL_f9ab38010ba3430aae7c275fa29e16a9"
          }
        },
        "eb86664b689346b49b8b22f23d3a4e76": {
          "model_module": "@jupyter-widgets/controls",
          "model_name": "HTMLModel",
          "model_module_version": "1.5.0",
          "state": {
            "_dom_classes": [],
            "_model_module": "@jupyter-widgets/controls",
            "_model_module_version": "1.5.0",
            "_model_name": "HTMLModel",
            "_view_count": null,
            "_view_module": "@jupyter-widgets/controls",
            "_view_module_version": "1.5.0",
            "_view_name": "HTMLView",
            "description": "",
            "description_tooltip": null,
            "layout": "IPY_MODEL_2e7321f3cc4e4fab887100238c9dc730",
            "placeholder": "​",
            "style": "IPY_MODEL_3c777b37fdbd4be68a684daeafe804e5",
            "value": "Downloading artifacts: 100%"
          }
        },
        "8a80d74c823f4bc597539242b5ce8ef3": {
          "model_module": "@jupyter-widgets/controls",
          "model_name": "FloatProgressModel",
          "model_module_version": "1.5.0",
          "state": {
            "_dom_classes": [],
            "_model_module": "@jupyter-widgets/controls",
            "_model_module_version": "1.5.0",
            "_model_name": "FloatProgressModel",
            "_view_count": null,
            "_view_module": "@jupyter-widgets/controls",
            "_view_module_version": "1.5.0",
            "_view_name": "ProgressView",
            "bar_style": "success",
            "description": "",
            "description_tooltip": null,
            "layout": "IPY_MODEL_5e6b032fd0c04a0b9950be0f2e927da0",
            "max": 17,
            "min": 0,
            "orientation": "horizontal",
            "style": "IPY_MODEL_6c37cd91297649e48ed5bf10883c4919",
            "value": 17
          }
        },
        "8fca3797dfcf4a95b343e49cef13a8fd": {
          "model_module": "@jupyter-widgets/controls",
          "model_name": "HTMLModel",
          "model_module_version": "1.5.0",
          "state": {
            "_dom_classes": [],
            "_model_module": "@jupyter-widgets/controls",
            "_model_module_version": "1.5.0",
            "_model_name": "HTMLModel",
            "_view_count": null,
            "_view_module": "@jupyter-widgets/controls",
            "_view_module_version": "1.5.0",
            "_view_name": "HTMLView",
            "description": "",
            "description_tooltip": null,
            "layout": "IPY_MODEL_2dda36041425428dbafadbcdb1547c8d",
            "placeholder": "​",
            "style": "IPY_MODEL_f1ae17d241bb4ff681ab23017878f43d",
            "value": " 17/17 [02:06&lt;00:00, 15.13s/it]"
          }
        },
        "f9ab38010ba3430aae7c275fa29e16a9": {
          "model_module": "@jupyter-widgets/base",
          "model_name": "LayoutModel",
          "model_module_version": "1.2.0",
          "state": {
            "_model_module": "@jupyter-widgets/base",
            "_model_module_version": "1.2.0",
            "_model_name": "LayoutModel",
            "_view_count": null,
            "_view_module": "@jupyter-widgets/base",
            "_view_module_version": "1.2.0",
            "_view_name": "LayoutView",
            "align_content": null,
            "align_items": null,
            "align_self": null,
            "border": null,
            "bottom": null,
            "display": null,
            "flex": null,
            "flex_flow": null,
            "grid_area": null,
            "grid_auto_columns": null,
            "grid_auto_flow": null,
            "grid_auto_rows": null,
            "grid_column": null,
            "grid_gap": null,
            "grid_row": null,
            "grid_template_areas": null,
            "grid_template_columns": null,
            "grid_template_rows": null,
            "height": null,
            "justify_content": null,
            "justify_items": null,
            "left": null,
            "margin": null,
            "max_height": null,
            "max_width": null,
            "min_height": null,
            "min_width": null,
            "object_fit": null,
            "object_position": null,
            "order": null,
            "overflow": null,
            "overflow_x": null,
            "overflow_y": null,
            "padding": null,
            "right": null,
            "top": null,
            "visibility": null,
            "width": null
          }
        },
        "2e7321f3cc4e4fab887100238c9dc730": {
          "model_module": "@jupyter-widgets/base",
          "model_name": "LayoutModel",
          "model_module_version": "1.2.0",
          "state": {
            "_model_module": "@jupyter-widgets/base",
            "_model_module_version": "1.2.0",
            "_model_name": "LayoutModel",
            "_view_count": null,
            "_view_module": "@jupyter-widgets/base",
            "_view_module_version": "1.2.0",
            "_view_name": "LayoutView",
            "align_content": null,
            "align_items": null,
            "align_self": null,
            "border": null,
            "bottom": null,
            "display": null,
            "flex": null,
            "flex_flow": null,
            "grid_area": null,
            "grid_auto_columns": null,
            "grid_auto_flow": null,
            "grid_auto_rows": null,
            "grid_column": null,
            "grid_gap": null,
            "grid_row": null,
            "grid_template_areas": null,
            "grid_template_columns": null,
            "grid_template_rows": null,
            "height": null,
            "justify_content": null,
            "justify_items": null,
            "left": null,
            "margin": null,
            "max_height": null,
            "max_width": null,
            "min_height": null,
            "min_width": null,
            "object_fit": null,
            "object_position": null,
            "order": null,
            "overflow": null,
            "overflow_x": null,
            "overflow_y": null,
            "padding": null,
            "right": null,
            "top": null,
            "visibility": null,
            "width": null
          }
        },
        "3c777b37fdbd4be68a684daeafe804e5": {
          "model_module": "@jupyter-widgets/controls",
          "model_name": "DescriptionStyleModel",
          "model_module_version": "1.5.0",
          "state": {
            "_model_module": "@jupyter-widgets/controls",
            "_model_module_version": "1.5.0",
            "_model_name": "DescriptionStyleModel",
            "_view_count": null,
            "_view_module": "@jupyter-widgets/base",
            "_view_module_version": "1.2.0",
            "_view_name": "StyleView",
            "description_width": ""
          }
        },
        "5e6b032fd0c04a0b9950be0f2e927da0": {
          "model_module": "@jupyter-widgets/base",
          "model_name": "LayoutModel",
          "model_module_version": "1.2.0",
          "state": {
            "_model_module": "@jupyter-widgets/base",
            "_model_module_version": "1.2.0",
            "_model_name": "LayoutModel",
            "_view_count": null,
            "_view_module": "@jupyter-widgets/base",
            "_view_module_version": "1.2.0",
            "_view_name": "LayoutView",
            "align_content": null,
            "align_items": null,
            "align_self": null,
            "border": null,
            "bottom": null,
            "display": null,
            "flex": null,
            "flex_flow": null,
            "grid_area": null,
            "grid_auto_columns": null,
            "grid_auto_flow": null,
            "grid_auto_rows": null,
            "grid_column": null,
            "grid_gap": null,
            "grid_row": null,
            "grid_template_areas": null,
            "grid_template_columns": null,
            "grid_template_rows": null,
            "height": null,
            "justify_content": null,
            "justify_items": null,
            "left": null,
            "margin": null,
            "max_height": null,
            "max_width": null,
            "min_height": null,
            "min_width": null,
            "object_fit": null,
            "object_position": null,
            "order": null,
            "overflow": null,
            "overflow_x": null,
            "overflow_y": null,
            "padding": null,
            "right": null,
            "top": null,
            "visibility": null,
            "width": null
          }
        },
        "6c37cd91297649e48ed5bf10883c4919": {
          "model_module": "@jupyter-widgets/controls",
          "model_name": "ProgressStyleModel",
          "model_module_version": "1.5.0",
          "state": {
            "_model_module": "@jupyter-widgets/controls",
            "_model_module_version": "1.5.0",
            "_model_name": "ProgressStyleModel",
            "_view_count": null,
            "_view_module": "@jupyter-widgets/base",
            "_view_module_version": "1.2.0",
            "_view_name": "StyleView",
            "bar_color": null,
            "description_width": ""
          }
        },
        "2dda36041425428dbafadbcdb1547c8d": {
          "model_module": "@jupyter-widgets/base",
          "model_name": "LayoutModel",
          "model_module_version": "1.2.0",
          "state": {
            "_model_module": "@jupyter-widgets/base",
            "_model_module_version": "1.2.0",
            "_model_name": "LayoutModel",
            "_view_count": null,
            "_view_module": "@jupyter-widgets/base",
            "_view_module_version": "1.2.0",
            "_view_name": "LayoutView",
            "align_content": null,
            "align_items": null,
            "align_self": null,
            "border": null,
            "bottom": null,
            "display": null,
            "flex": null,
            "flex_flow": null,
            "grid_area": null,
            "grid_auto_columns": null,
            "grid_auto_flow": null,
            "grid_auto_rows": null,
            "grid_column": null,
            "grid_gap": null,
            "grid_row": null,
            "grid_template_areas": null,
            "grid_template_columns": null,
            "grid_template_rows": null,
            "height": null,
            "justify_content": null,
            "justify_items": null,
            "left": null,
            "margin": null,
            "max_height": null,
            "max_width": null,
            "min_height": null,
            "min_width": null,
            "object_fit": null,
            "object_position": null,
            "order": null,
            "overflow": null,
            "overflow_x": null,
            "overflow_y": null,
            "padding": null,
            "right": null,
            "top": null,
            "visibility": null,
            "width": null
          }
        },
        "f1ae17d241bb4ff681ab23017878f43d": {
          "model_module": "@jupyter-widgets/controls",
          "model_name": "DescriptionStyleModel",
          "model_module_version": "1.5.0",
          "state": {
            "_model_module": "@jupyter-widgets/controls",
            "_model_module_version": "1.5.0",
            "_model_name": "DescriptionStyleModel",
            "_view_count": null,
            "_view_module": "@jupyter-widgets/base",
            "_view_module_version": "1.2.0",
            "_view_name": "StyleView",
            "description_width": ""
          }
        },
        "11be22c706e64ac1aef3781a4a3dd345": {
          "model_module": "@jupyter-widgets/base",
          "model_name": "LayoutModel",
          "model_module_version": "1.2.0",
          "state": {
            "_model_module": "@jupyter-widgets/base",
            "_model_module_version": "1.2.0",
            "_model_name": "LayoutModel",
            "_view_count": null,
            "_view_module": "@jupyter-widgets/base",
            "_view_module_version": "1.2.0",
            "_view_name": "LayoutView",
            "align_content": null,
            "align_items": null,
            "align_self": null,
            "border": null,
            "bottom": null,
            "display": null,
            "flex": null,
            "flex_flow": null,
            "grid_area": null,
            "grid_auto_columns": null,
            "grid_auto_flow": null,
            "grid_auto_rows": null,
            "grid_column": null,
            "grid_gap": null,
            "grid_row": null,
            "grid_template_areas": null,
            "grid_template_columns": null,
            "grid_template_rows": null,
            "height": null,
            "justify_content": null,
            "justify_items": null,
            "left": null,
            "margin": null,
            "max_height": null,
            "max_width": null,
            "min_height": null,
            "min_width": null,
            "object_fit": null,
            "object_position": null,
            "order": null,
            "overflow": null,
            "overflow_x": null,
            "overflow_y": null,
            "padding": null,
            "right": null,
            "top": null,
            "visibility": null,
            "width": null
          }
        },
        "422c8c62fc7443f0a4b3d9e83c7927d2": {
          "model_module": "@jupyter-widgets/controls",
          "model_name": "ProgressStyleModel",
          "model_module_version": "1.5.0",
          "state": {
            "_model_module": "@jupyter-widgets/controls",
            "_model_module_version": "1.5.0",
            "_model_name": "ProgressStyleModel",
            "_view_count": null,
            "_view_module": "@jupyter-widgets/base",
            "_view_module_version": "1.2.0",
            "_view_name": "StyleView",
            "bar_color": null,
            "description_width": ""
          }
        },
        "d383b39b892f4e6a98fc0ea9f0429275": {
          "model_module": "@jupyter-widgets/base",
          "model_name": "LayoutModel",
          "model_module_version": "1.2.0",
          "state": {
            "_model_module": "@jupyter-widgets/base",
            "_model_module_version": "1.2.0",
            "_model_name": "LayoutModel",
            "_view_count": null,
            "_view_module": "@jupyter-widgets/base",
            "_view_module_version": "1.2.0",
            "_view_name": "LayoutView",
            "align_content": null,
            "align_items": null,
            "align_self": null,
            "border": null,
            "bottom": null,
            "display": null,
            "flex": null,
            "flex_flow": null,
            "grid_area": null,
            "grid_auto_columns": null,
            "grid_auto_flow": null,
            "grid_auto_rows": null,
            "grid_column": null,
            "grid_gap": null,
            "grid_row": null,
            "grid_template_areas": null,
            "grid_template_columns": null,
            "grid_template_rows": null,
            "height": null,
            "justify_content": null,
            "justify_items": null,
            "left": null,
            "margin": null,
            "max_height": null,
            "max_width": null,
            "min_height": null,
            "min_width": null,
            "object_fit": null,
            "object_position": null,
            "order": null,
            "overflow": null,
            "overflow_x": null,
            "overflow_y": null,
            "padding": null,
            "right": null,
            "top": null,
            "visibility": null,
            "width": null
          }
        },
        "92a5510116ce42c5b4b00561922a55d4": {
          "model_module": "@jupyter-widgets/controls",
          "model_name": "DescriptionStyleModel",
          "model_module_version": "1.5.0",
          "state": {
            "_model_module": "@jupyter-widgets/controls",
            "_model_module_version": "1.5.0",
            "_model_name": "DescriptionStyleModel",
            "_view_count": null,
            "_view_module": "@jupyter-widgets/base",
            "_view_module_version": "1.2.0",
            "_view_name": "StyleView",
            "description_width": ""
          }
        },
        "c9f7f3bc084041ea8053c177c34ca881": {
          "model_module": "@jupyter-widgets/base",
          "model_name": "LayoutModel",
          "model_module_version": "1.2.0",
          "state": {
            "_model_module": "@jupyter-widgets/base",
            "_model_module_version": "1.2.0",
            "_model_name": "LayoutModel",
            "_view_count": null,
            "_view_module": "@jupyter-widgets/base",
            "_view_module_version": "1.2.0",
            "_view_name": "LayoutView",
            "align_content": null,
            "align_items": null,
            "align_self": null,
            "border": null,
            "bottom": null,
            "display": null,
            "flex": null,
            "flex_flow": null,
            "grid_area": null,
            "grid_auto_columns": null,
            "grid_auto_flow": null,
            "grid_auto_rows": null,
            "grid_column": null,
            "grid_gap": null,
            "grid_row": null,
            "grid_template_areas": null,
            "grid_template_columns": null,
            "grid_template_rows": null,
            "height": null,
            "justify_content": null,
            "justify_items": null,
            "left": null,
            "margin": null,
            "max_height": null,
            "max_width": null,
            "min_height": null,
            "min_width": null,
            "object_fit": null,
            "object_position": null,
            "order": null,
            "overflow": null,
            "overflow_x": null,
            "overflow_y": null,
            "padding": null,
            "right": null,
            "top": null,
            "visibility": null,
            "width": null
          }
        },
        "654a8a809d664057bc99a2fe802b60d3": {
          "model_module": "@jupyter-widgets/controls",
          "model_name": "DescriptionStyleModel",
          "model_module_version": "1.5.0",
          "state": {
            "_model_module": "@jupyter-widgets/controls",
            "_model_module_version": "1.5.0",
            "_model_name": "DescriptionStyleModel",
            "_view_count": null,
            "_view_module": "@jupyter-widgets/base",
            "_view_module_version": "1.2.0",
            "_view_name": "StyleView",
            "description_width": ""
          }
        },
        "8c9670dcc09d473099a0241cb4e54f6b": {
          "model_module": "@jupyter-widgets/controls",
          "model_name": "HTMLModel",
          "model_module_version": "1.5.0",
          "state": {
            "_dom_classes": [],
            "_model_module": "@jupyter-widgets/controls",
            "_model_module_version": "1.5.0",
            "_model_name": "HTMLModel",
            "_view_count": null,
            "_view_module": "@jupyter-widgets/controls",
            "_view_module_version": "1.5.0",
            "_view_name": "HTMLView",
            "description": "",
            "description_tooltip": null,
            "layout": "IPY_MODEL_d383b39b892f4e6a98fc0ea9f0429275",
            "placeholder": "​",
            "style": "IPY_MODEL_92a5510116ce42c5b4b00561922a55d4",
            "value": "Loading checkpoint shards: 100%"
          }
        },
        "8eae270a85454e6a96f59711bac5b11c": {
          "model_module": "@jupyter-widgets/controls",
          "model_name": "FloatProgressModel",
          "model_module_version": "1.5.0",
          "state": {
            "_dom_classes": [],
            "_model_module": "@jupyter-widgets/controls",
            "_model_module_version": "1.5.0",
            "_model_name": "FloatProgressModel",
            "_view_count": null,
            "_view_module": "@jupyter-widgets/controls",
            "_view_module_version": "1.5.0",
            "_view_name": "ProgressView",
            "bar_style": "success",
            "description": "",
            "description_tooltip": null,
            "layout": "IPY_MODEL_11be22c706e64ac1aef3781a4a3dd345",
            "max": 3,
            "min": 0,
            "orientation": "horizontal",
            "style": "IPY_MODEL_422c8c62fc7443f0a4b3d9e83c7927d2",
            "value": 3
          }
        },
        "87547328dd0b46909e5c86345c228436": {
          "model_module": "@jupyter-widgets/controls",
          "model_name": "HTMLModel",
          "model_module_version": "1.5.0",
          "state": {
            "_dom_classes": [],
            "_model_module": "@jupyter-widgets/controls",
            "_model_module_version": "1.5.0",
            "_model_name": "HTMLModel",
            "_view_count": null,
            "_view_module": "@jupyter-widgets/controls",
            "_view_module_version": "1.5.0",
            "_view_name": "HTMLView",
            "description": "",
            "description_tooltip": null,
            "layout": "IPY_MODEL_c9f7f3bc084041ea8053c177c34ca881",
            "placeholder": "​",
            "style": "IPY_MODEL_654a8a809d664057bc99a2fe802b60d3",
            "value": " 3/3 [00:01&lt;00:00,  2.26it/s]"
          }
        },
        "c2f0aef68c93404a942dde6ee5c33388": {
          "model_module": "@jupyter-widgets/base",
          "model_name": "LayoutModel",
          "model_module_version": "1.2.0",
          "state": {
            "_model_module": "@jupyter-widgets/base",
            "_model_module_version": "1.2.0",
            "_model_name": "LayoutModel",
            "_view_count": null,
            "_view_module": "@jupyter-widgets/base",
            "_view_module_version": "1.2.0",
            "_view_name": "LayoutView",
            "align_content": null,
            "align_items": null,
            "align_self": null,
            "border": null,
            "bottom": null,
            "display": null,
            "flex": null,
            "flex_flow": null,
            "grid_area": null,
            "grid_auto_columns": null,
            "grid_auto_flow": null,
            "grid_auto_rows": null,
            "grid_column": null,
            "grid_gap": null,
            "grid_row": null,
            "grid_template_areas": null,
            "grid_template_columns": null,
            "grid_template_rows": null,
            "height": null,
            "justify_content": null,
            "justify_items": null,
            "left": null,
            "margin": null,
            "max_height": null,
            "max_width": null,
            "min_height": null,
            "min_width": null,
            "object_fit": null,
            "object_position": null,
            "order": null,
            "overflow": null,
            "overflow_x": null,
            "overflow_y": null,
            "padding": null,
            "right": null,
            "top": null,
            "visibility": null,
            "width": null
          }
        },
        "c46946dce841443ebba27f0abb30b446": {
          "model_module": "@jupyter-widgets/controls",
          "model_name": "HBoxModel",
          "model_module_version": "1.5.0",
          "state": {
            "_dom_classes": [],
            "_model_module": "@jupyter-widgets/controls",
            "_model_module_version": "1.5.0",
            "_model_name": "HBoxModel",
            "_view_count": null,
            "_view_module": "@jupyter-widgets/controls",
            "_view_module_version": "1.5.0",
            "_view_name": "HBoxView",
            "box_style": "",
            "children": [
              "IPY_MODEL_8c9670dcc09d473099a0241cb4e54f6b",
              "IPY_MODEL_8eae270a85454e6a96f59711bac5b11c",
              "IPY_MODEL_87547328dd0b46909e5c86345c228436"
            ],
            "layout": "IPY_MODEL_c2f0aef68c93404a942dde6ee5c33388"
          }
        }
      }
    }
  },
  "cells": [
    {
      "cell_type": "markdown",
      "metadata": {
        "id": "view-in-github",
        "colab_type": "text"
      },
      "source": [
        "<a href=\"https://colab.research.google.com/github/olonok69/LLM_Notebooks/blob/main/mlflow/summarization/Convert_T5_large_to_ONNX_mlflow.ipynb\" target=\"_parent\"><img src=\"https://colab.research.google.com/assets/colab-badge.svg\" alt=\"Open In Colab\"/></a>"
      ]
    },
    {
      "cell_type": "markdown",
      "source": [
        "# T5 finetuning for text Summarization\n",
        "\n",
        "- Extractive: extract the most relevant information from a document.\n",
        "- Abstractive: generate new text that captures the most relevant information.\n",
        "\n",
        "https://arxiv.org/pdf/1910.10683\n",
        "\n",
        "https://huggingface.co/docs/transformers/model_doc/t5\n",
        "\n",
        "\n",
        "- T5 is an encoder-decoder model pre-trained on a multi-task mixture of unsupervised and supervised tasks and for which each task is converted into a text-to-text format. T5 works well on a variety of tasks out-of-the-box by prepending a different prefix to the input corresponding to each task, e.g., for translation: translate English to German: …, for summarization: summarize: ….\n",
        "\n",
        "- The pretraining includes both supervised and self-supervised training. Supervised training is conducted on downstream tasks provided by the GLUE and SuperGLUE benchmarks (converting them into text-to-text tasks as explained above).\n",
        "\n",
        "- Self-supervised training uses corrupted tokens, by randomly removing 15% of the tokens and replacing them with individual sentinel tokens (if several consecutive tokens are marked for removal, the whole group is replaced with a single sentinel token). The input of the encoder is the corrupted sentence, the input of the decoder is the original sentence and the target is then the dropped out tokens delimited by their sentinel tokens."
      ],
      "metadata": {
        "id": "ZwXW4fvYpgly"
      }
    },
    {
      "cell_type": "markdown",
      "source": [
        "![image.png](data:image/png;base64,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)"
      ],
      "metadata": {
        "id": "BgKOFqf4pi3F"
      }
    },
    {
      "cell_type": "code",
      "execution_count": 1,
      "metadata": {
        "colab": {
          "base_uri": "https://localhost:8080/"
        },
        "id": "uzu0R8y3oqj7",
        "outputId": "91df2511-e4b6-4eb9-d775-f38d41f7ca5e"
      },
      "outputs": [
        {
          "output_type": "stream",
          "name": "stdout",
          "text": [
            "Mounted at /content/drive\n"
          ]
        }
      ],
      "source": [
        "from google.colab import drive\n",
        "drive.mount('/content/drive')"
      ]
    },
    {
      "cell_type": "code",
      "source": [
        "!pip install mlflow   optimum --quiet\n",
        "! pip install  evaluate  textstat tiktoken -q\n",
        "! pip install psutil pynvml -q"
      ],
      "metadata": {
        "id": "PNaQgd55pPCn",
        "colab": {
          "base_uri": "https://localhost:8080/"
        },
        "outputId": "aa3f2476-216d-4c97-fb95-94df1b597bae"
      },
      "execution_count": 2,
      "outputs": [
        {
          "output_type": "stream",
          "name": "stdout",
          "text": [
            "\u001b[2K   \u001b[90m━━━━━━━━━━━━━━━━━━━━━━━━━━━━━━━━━━━━━━━━\u001b[0m \u001b[32m27.3/27.3 MB\u001b[0m \u001b[31m22.2 MB/s\u001b[0m eta \u001b[36m0:00:00\u001b[0m\n",
            "\u001b[2K   \u001b[90m━━━━━━━━━━━━━━━━━━━━━━━━━━━━━━━━━━━━━━━━\u001b[0m \u001b[32m5.8/5.8 MB\u001b[0m \u001b[31m88.7 MB/s\u001b[0m eta \u001b[36m0:00:00\u001b[0m\n",
            "\u001b[2K   \u001b[90m━━━━━━━━━━━━━━━━━━━━━━━━━━━━━━━━━━━━━━━━\u001b[0m \u001b[32m424.1/424.1 kB\u001b[0m \u001b[31m33.6 MB/s\u001b[0m eta \u001b[36m0:00:00\u001b[0m\n",
            "\u001b[2K   \u001b[90m━━━━━━━━━━━━━━━━━━━━━━━━━━━━━━━━━━━━━━━━\u001b[0m \u001b[32m233.5/233.5 kB\u001b[0m \u001b[31m24.4 MB/s\u001b[0m eta \u001b[36m0:00:00\u001b[0m\n",
            "\u001b[2K   \u001b[90m━━━━━━━━━━━━━━━━━━━━━━━━━━━━━━━━━━━━━━━━\u001b[0m \u001b[32m147.8/147.8 kB\u001b[0m \u001b[31m16.9 MB/s\u001b[0m eta \u001b[36m0:00:00\u001b[0m\n",
            "\u001b[2K   \u001b[90m━━━━━━━━━━━━━━━━━━━━━━━━━━━━━━━━━━━━━━━━\u001b[0m \u001b[32m114.9/114.9 kB\u001b[0m \u001b[31m12.4 MB/s\u001b[0m eta \u001b[36m0:00:00\u001b[0m\n",
            "\u001b[2K   \u001b[90m━━━━━━━━━━━━━━━━━━━━━━━━━━━━━━━━━━━━━━━━\u001b[0m \u001b[32m85.0/85.0 kB\u001b[0m \u001b[31m9.8 MB/s\u001b[0m eta \u001b[36m0:00:00\u001b[0m\n",
            "\u001b[2K   \u001b[90m━━━━━━━━━━━━━━━━━━━━━━━━━━━━━━━━━━━━━━━━\u001b[0m \u001b[32m46.0/46.0 kB\u001b[0m \u001b[31m5.2 MB/s\u001b[0m eta \u001b[36m0:00:00\u001b[0m\n",
            "\u001b[2K   \u001b[90m━━━━━━━━━━━━━━━━━━━━━━━━━━━━━━━━━━━━━━━━\u001b[0m \u001b[32m480.6/480.6 kB\u001b[0m \u001b[31m35.2 MB/s\u001b[0m eta \u001b[36m0:00:00\u001b[0m\n",
            "\u001b[2K   \u001b[90m━━━━━━━━━━━━━━━━━━━━━━━━━━━━━━━━━━━━━━━━\u001b[0m \u001b[32m575.1/575.1 kB\u001b[0m \u001b[31m44.0 MB/s\u001b[0m eta \u001b[36m0:00:00\u001b[0m\n",
            "\u001b[2K   \u001b[90m━━━━━━━━━━━━━━━━━━━━━━━━━━━━━━━━━━━━━━━━\u001b[0m \u001b[32m116.3/116.3 kB\u001b[0m \u001b[31m13.0 MB/s\u001b[0m eta \u001b[36m0:00:00\u001b[0m\n",
            "\u001b[2K   \u001b[90m━━━━━━━━━━━━━━━━━━━━━━━━━━━━━━━━━━━━━━━━\u001b[0m \u001b[32m179.3/179.3 kB\u001b[0m \u001b[31m19.5 MB/s\u001b[0m eta \u001b[36m0:00:00\u001b[0m\n",
            "\u001b[2K   \u001b[90m━━━━━━━━━━━━━━━━━━━━━━━━━━━━━━━━━━━━━━━━\u001b[0m \u001b[32m203.2/203.2 kB\u001b[0m \u001b[31m22.7 MB/s\u001b[0m eta \u001b[36m0:00:00\u001b[0m\n",
            "\u001b[2K   \u001b[90m━━━━━━━━━━━━━━━━━━━━━━━━━━━━━━━━━━━━━━━━\u001b[0m \u001b[32m86.8/86.8 kB\u001b[0m \u001b[31m9.9 MB/s\u001b[0m eta \u001b[36m0:00:00\u001b[0m\n",
            "\u001b[2K   \u001b[90m━━━━━━━━━━━━━━━━━━━━━━━━━━━━━━━━━━━━━━━━\u001b[0m \u001b[32m134.8/134.8 kB\u001b[0m \u001b[31m15.0 MB/s\u001b[0m eta \u001b[36m0:00:00\u001b[0m\n",
            "\u001b[2K   \u001b[90m━━━━━━━━━━━━━━━━━━━━━━━━━━━━━━━━━━━━━━━━\u001b[0m \u001b[32m78.6/78.6 kB\u001b[0m \u001b[31m9.1 MB/s\u001b[0m eta \u001b[36m0:00:00\u001b[0m\n",
            "\u001b[2K   \u001b[90m━━━━━━━━━━━━━━━━━━━━━━━━━━━━━━━━━━━━━━━━\u001b[0m \u001b[32m194.1/194.1 kB\u001b[0m \u001b[31m21.3 MB/s\u001b[0m eta \u001b[36m0:00:00\u001b[0m\n",
            "\u001b[?25h\u001b[31mERROR: pip's dependency resolver does not currently take into account all the packages that are installed. This behaviour is the source of the following dependency conflicts.\n",
            "gcsfs 2024.10.0 requires fsspec==2024.10.0, but you have fsspec 2024.9.0 which is incompatible.\u001b[0m\u001b[31m\n",
            "\u001b[2K   \u001b[90m━━━━━━━━━━━━━━━━━━━━━━━━━━━━━━━━━━━━━━━━\u001b[0m \u001b[32m84.0/84.0 kB\u001b[0m \u001b[31m8.4 MB/s\u001b[0m eta \u001b[36m0:00:00\u001b[0m\n",
            "\u001b[2K   \u001b[90m━━━━━━━━━━━━━━━━━━━━━━━━━━━━━━━━━━━━━━━━\u001b[0m \u001b[32m105.1/105.1 kB\u001b[0m \u001b[31m11.2 MB/s\u001b[0m eta \u001b[36m0:00:00\u001b[0m\n",
            "\u001b[2K   \u001b[90m━━━━━━━━━━━━━━━━━━━━━━━━━━━━━━━━━━━━━━━━\u001b[0m \u001b[32m1.2/1.2 MB\u001b[0m \u001b[31m58.6 MB/s\u001b[0m eta \u001b[36m0:00:00\u001b[0m\n",
            "\u001b[2K   \u001b[90m━━━━━━━━━━━━━━━━━━━━━━━━━━━━━━━━━━━━━━━━\u001b[0m \u001b[32m2.1/2.1 MB\u001b[0m \u001b[31m74.7 MB/s\u001b[0m eta \u001b[36m0:00:00\u001b[0m\n",
            "\u001b[2K   \u001b[90m━━━━━━━━━━━━━━━━━━━━━━━━━━━━━━━━━━━━━━━━\u001b[0m \u001b[32m53.1/53.1 kB\u001b[0m \u001b[31m6.1 MB/s\u001b[0m eta \u001b[36m0:00:00\u001b[0m\n",
            "\u001b[?25h"
          ]
        }
      ]
    },
    {
      "cell_type": "code",
      "source": [
        "# Transformers installation\n",
        "! pip install -q --disable-pip-version-check py7zr sentencepiece loralib peft trl\n",
        "! pip install -q   bitsandbytes\n",
        "! pip install datasets evaluate rouge_score -q\n",
        "! pip install transformers[torch] -q\n",
        "! pip install accelerate -U -q\n",
        "# To install from source instead of the last release, comment the command above and uncomment the following one.\n",
        "# ! pip install git+https://github.com/huggingface/transformers.git"
      ],
      "metadata": {
        "id": "_4BthcQkpsWX",
        "colab": {
          "base_uri": "https://localhost:8080/"
        },
        "outputId": "4c678c8e-b88e-414d-ead1-465b0dbc6473"
      },
      "execution_count": 3,
      "outputs": [
        {
          "output_type": "stream",
          "name": "stdout",
          "text": [
            "\u001b[?25l   \u001b[90m━━━━━━━━━━━━━━━━━━━━━━━━━━━━━━━━━━━━━━━━\u001b[0m \u001b[32m0.0/67.9 kB\u001b[0m \u001b[31m?\u001b[0m eta \u001b[36m-:--:--\u001b[0m\r\u001b[2K   \u001b[90m━━━━━━━━━━━━━━━━━━━━━━━━━━━━━━━━━━━━━━━━\u001b[0m \u001b[32m67.9/67.9 kB\u001b[0m \u001b[31m6.0 MB/s\u001b[0m eta \u001b[36m0:00:00\u001b[0m\n",
            "\u001b[?25h\u001b[?25l   \u001b[90m━━━━━━━━━━━━━━━━━━━━━━━━━━━━━━━━━━━━━━━━\u001b[0m \u001b[32m0.0/310.9 kB\u001b[0m \u001b[31m?\u001b[0m eta \u001b[36m-:--:--\u001b[0m\r\u001b[2K   \u001b[90m━━━━━━━━━━━━━━━━━━━━━━━━━━━━━━━━━━━━━━━━\u001b[0m \u001b[32m310.9/310.9 kB\u001b[0m \u001b[31m29.8 MB/s\u001b[0m eta \u001b[36m0:00:00\u001b[0m\n",
            "\u001b[?25h\u001b[?25l   \u001b[90m━━━━━━━━━━━━━━━━━━━━━━━━━━━━━━━━━━━━━━━━\u001b[0m \u001b[32m0.0/3.0 MB\u001b[0m \u001b[31m?\u001b[0m eta \u001b[36m-:--:--\u001b[0m\r\u001b[2K   \u001b[90m━━━━━━━━━━━━━━━━━━━━━━━━━━━━━━━━━━━━━━━━\u001b[0m \u001b[32m3.0/3.0 MB\u001b[0m \u001b[31m90.5 MB/s\u001b[0m eta \u001b[36m0:00:00\u001b[0m\n",
            "\u001b[?25h\u001b[?25l   \u001b[90m━━━━━━━━━━━━━━━━━━━━━━━━━━━━━━━━━━━━━━━━\u001b[0m \u001b[32m0.0/93.1 kB\u001b[0m \u001b[31m?\u001b[0m eta \u001b[36m-:--:--\u001b[0m\r\u001b[2K   \u001b[90m━━━━━━━━━━━━━━━━━━━━━━━━━━━━━━━━━━━━━━━━\u001b[0m \u001b[32m93.1/93.1 kB\u001b[0m \u001b[31m10.8 MB/s\u001b[0m eta \u001b[36m0:00:00\u001b[0m\n",
            "\u001b[?25h\u001b[?25l   \u001b[90m━━━━━━━━━━━━━━━━━━━━━━━━━━━━━━━━━━━━━━━━\u001b[0m \u001b[32m0.0/49.7 kB\u001b[0m \u001b[31m?\u001b[0m eta \u001b[36m-:--:--\u001b[0m\r\u001b[2K   \u001b[90m━━━━━━━━━━━━━━━━━━━━━━━━━━━━━━━━━━━━━━━━\u001b[0m \u001b[32m49.7/49.7 kB\u001b[0m \u001b[31m5.6 MB/s\u001b[0m eta \u001b[36m0:00:00\u001b[0m\n",
            "\u001b[?25h\u001b[?25l   \u001b[90m━━━━━━━━━━━━━━━━━━━━━━━━━━━━━━━━━━━━━━━━\u001b[0m \u001b[32m0.0/2.3 MB\u001b[0m \u001b[31m?\u001b[0m eta \u001b[36m-:--:--\u001b[0m\r\u001b[2K   \u001b[90m━━━━━━━━━━━━━━━━━━━━━━━━━━━━━━━━━━━━━━━━\u001b[0m \u001b[32m2.3/2.3 MB\u001b[0m \u001b[31m85.4 MB/s\u001b[0m eta \u001b[36m0:00:00\u001b[0m\n",
            "\u001b[?25h\u001b[?25l   \u001b[90m━━━━━━━━━━━━━━━━━━━━━━━━━━━━━━━━━━━━━━━━\u001b[0m \u001b[32m0.0/138.9 kB\u001b[0m \u001b[31m?\u001b[0m eta \u001b[36m-:--:--\u001b[0m\r\u001b[2K   \u001b[90m━━━━━━━━━━━━━━━━━━━━━━━━━━━━━━━━━━━━━━━━\u001b[0m \u001b[32m138.9/138.9 kB\u001b[0m \u001b[31m10.3 MB/s\u001b[0m eta \u001b[36m0:00:00\u001b[0m\n",
            "\u001b[2K   \u001b[90m━━━━━━━━━━━━━━━━━━━━━━━━━━━━━━━━━━━━━━━━\u001b[0m \u001b[32m413.7/413.7 kB\u001b[0m \u001b[31m37.8 MB/s\u001b[0m eta \u001b[36m0:00:00\u001b[0m\n",
            "\u001b[2K   \u001b[90m━━━━━━━━━━━━━━━━━━━━━━━━━━━━━━━━━━━━━━━━\u001b[0m \u001b[32m122.4/122.4 MB\u001b[0m \u001b[31m18.5 MB/s\u001b[0m eta \u001b[36m0:00:00\u001b[0m\n",
            "\u001b[?25h  Preparing metadata (setup.py) ... \u001b[?25l\u001b[?25hdone\n",
            "  Building wheel for rouge_score (setup.py) ... \u001b[?25l\u001b[?25hdone\n"
          ]
        }
      ]
    },
    {
      "cell_type": "markdown",
      "source": [
        "# Optimum\n",
        "Optimum is an extension of Transformers that provides a set of performance optimization tools to train and run models on targeted hardware with maximum efficiency.\n",
        "\n",
        "- https://huggingface.co/docs/optimum/main/en/installation\n",
        "- https://huggingface.co/docs/optimum/onnxruntime/usage_guides/models\n",
        "\n",
        "#ONNX\n",
        "ONNX Runtime is a cross-platform machine-learning model accelerator, with a flexible interface to integrate hardware-specific libraries. ONNX Runtime can be used with models from PyTorch, Tensorflow/Keras, TFLite, scikit-learn, and other frameworks.\n",
        "\n",
        "https://onnxruntime.ai/docs/"
      ],
      "metadata": {
        "id": "bm3nKAjXp8DJ"
      }
    },
    {
      "cell_type": "code",
      "source": [
        "! pip install onnxruntime -q\n",
        "! pip install optimum[onnxruntime] -q"
      ],
      "metadata": {
        "colab": {
          "base_uri": "https://localhost:8080/"
        },
        "id": "L4A5Y9YtWfjI",
        "outputId": "daf58345-197d-4ed3-ca29-6dd0d847a577"
      },
      "execution_count": 4,
      "outputs": [
        {
          "output_type": "stream",
          "name": "stdout",
          "text": [
            "\u001b[2K   \u001b[90m━━━━━━━━━━━━━━━━━━━━━━━━━━━━━━━━━━━━━━━━\u001b[0m \u001b[32m13.3/13.3 MB\u001b[0m \u001b[31m90.2 MB/s\u001b[0m eta \u001b[36m0:00:00\u001b[0m\n",
            "\u001b[2K   \u001b[90m━━━━━━━━━━━━━━━━━━━━━━━━━━━━━━━━━━━━━━━━\u001b[0m \u001b[32m16.0/16.0 MB\u001b[0m \u001b[31m103.0 MB/s\u001b[0m eta \u001b[36m0:00:00\u001b[0m\n",
            "\u001b[?25h"
          ]
        }
      ]
    },
    {
      "cell_type": "code",
      "source": [
        "from google.colab import userdata\n",
        "\n"
      ],
      "metadata": {
        "id": "taUuIbADpcaR"
      },
      "execution_count": 16,
      "outputs": []
    },
    {
      "cell_type": "code",
      "source": [
        "\n",
        "import argparse\n",
        "import bitsandbytes as bnb\n",
        "from datasets import load_dataset\n",
        "from functools import partial\n",
        "import os\n",
        "from peft import LoraConfig, get_peft_model, prepare_model_for_kbit_training, AutoPeftModelForCausalLM\n",
        "import torch\n",
        "from transformers import AutoModelForCausalLM, AutoTokenizer, set_seed, Trainer, TrainingArguments, BitsAndBytesConfig, \\\n",
        "    DataCollatorForLanguageModeling, Trainer, TrainingArguments\n",
        "from datasets import load_dataset\n",
        "from torch import cuda, bfloat16\n",
        "import transformers\n",
        "import openai\n",
        "import torch\n",
        "import torch.nn as nn\n",
        "from google.colab import userdata"
      ],
      "metadata": {
        "id": "CicPfY0RrsR2"
      },
      "execution_count": 17,
      "outputs": []
    },
    {
      "cell_type": "code",
      "source": [
        "\n",
        "from google.colab import output\n",
        "output.enable_custom_widget_manager()\n",
        "\n",
        "from transformers.utils import logging\n"
      ],
      "metadata": {
        "id": "K7vZHAW_sdrj"
      },
      "execution_count": 18,
      "outputs": []
    },
    {
      "cell_type": "code",
      "source": [
        "logging.set_verbosity_error()\n",
        "\n",
        "os.environ[\"TRANSFORMERS_VERBOSITY\"] = \"error\""
      ],
      "metadata": {
        "id": "Gvyw8-W7wJkd"
      },
      "execution_count": 8,
      "outputs": []
    },
    {
      "cell_type": "code",
      "source": [
        "\n",
        "\n",
        "device = f'cuda:{cuda.current_device()}' if cuda.is_available() else 'cpu'\n",
        "device\n"
      ],
      "metadata": {
        "colab": {
          "base_uri": "https://localhost:8080/",
          "height": 35
        },
        "id": "i4BfxrozshY3",
        "outputId": "b262fad1-0357-49e6-debe-19fe2d890a8d"
      },
      "execution_count": 9,
      "outputs": [
        {
          "output_type": "execute_result",
          "data": {
            "text/plain": [
              "'cuda:0'"
            ],
            "application/vnd.google.colaboratory.intrinsic+json": {
              "type": "string"
            }
          },
          "metadata": {},
          "execution_count": 9
        }
      ]
    },
    {
      "cell_type": "markdown",
      "source": [
        "# Load multi_news dataset\n",
        "https://huggingface.co/datasets/multi_news"
      ],
      "metadata": {
        "id": "aYqFueQisnwC"
      }
    },
    {
      "cell_type": "code",
      "source": [
        "from datasets import load_dataset\n",
        "\n",
        "dataset  = load_dataset(\"multi_news\", trust_remote_code=True)"
      ],
      "metadata": {
        "id": "t2mbJh_qsoKL"
      },
      "execution_count": 19,
      "outputs": []
    },
    {
      "cell_type": "code",
      "source": [
        "dataset"
      ],
      "metadata": {
        "colab": {
          "base_uri": "https://localhost:8080/"
        },
        "id": "KEsfRYLKtwDn",
        "outputId": "d6211e4f-dc4b-4a9a-8c1e-12f2d18708e0"
      },
      "execution_count": 20,
      "outputs": [
        {
          "output_type": "execute_result",
          "data": {
            "text/plain": [
              "DatasetDict({\n",
              "    train: Dataset({\n",
              "        features: ['document', 'summary'],\n",
              "        num_rows: 44972\n",
              "    })\n",
              "    validation: Dataset({\n",
              "        features: ['document', 'summary'],\n",
              "        num_rows: 5622\n",
              "    })\n",
              "    test: Dataset({\n",
              "        features: ['document', 'summary'],\n",
              "        num_rows: 5622\n",
              "    })\n",
              "})"
            ]
          },
          "metadata": {},
          "execution_count": 20
        }
      ]
    },
    {
      "cell_type": "code",
      "source": [
        "\n",
        "print(f\"Train dataset size: {len(dataset['train'])}\")\n",
        "print(f\"test dataset size: {len(dataset['test'])}\")\n",
        "print(f\"Validation dataset size: {len(dataset['validation'])}\")"
      ],
      "metadata": {
        "colab": {
          "base_uri": "https://localhost:8080/"
        },
        "id": "eekbGsBhtwA-",
        "outputId": "be55b79a-cc4e-4b49-f61b-87cc29da4c35"
      },
      "execution_count": 21,
      "outputs": [
        {
          "output_type": "stream",
          "name": "stdout",
          "text": [
            "Train dataset size: 44972\n",
            "test dataset size: 5622\n",
            "Validation dataset size: 5622\n"
          ]
        }
      ]
    },
    {
      "cell_type": "code",
      "source": [
        "dataset['train'][100]['document']"
      ],
      "metadata": {
        "colab": {
          "base_uri": "https://localhost:8080/",
          "height": 122
        },
        "id": "sh7XMDXRtv-O",
        "outputId": "9f276619-2a1d-4d9b-bce6-e552628ed89f"
      },
      "execution_count": 15,
      "outputs": [
        {
          "output_type": "execute_result",
          "data": {
            "text/plain": [
              "'Katy Perry is all about breaking conventional beauty rules, from her love of everything technicolor and coated in glitter, to her no-brows, black lipstick Met Gala look. So, of course, the pop star — and face of CoverGirl — was the perfect person to help announce that the beauty brand has named its first-ever male CoverGirl, social media star James Charles. \\n \\n According to a press release from the brand, all CoverGirls “are role models and boundary-breakers, fearlessly expressing themselves, standing up for what they believe, and redefining what it means to be beautiful,” and who better to embody that ethos than Instagram sensation James Charles. After launching his beauty account a year ago, the teen has since quickly attracted hundreds of thousands of followers (427,000 to be exact) thanks to his unique, transformative approach to makeup artistry. \\n \\n RELATED PHOTOS: Katy Perry’s Most Outrageous Twitpics \\n \\n While Charles’ partnership with the brand kicks off today, we’ll have to wait until later this month to see him debut the brand’s new mascara designed to work on all lash types, CoverGirl So Lashy! by blastPRO Mascara. His first launch will include TV, print and digital components and he will continue to promote the brand and generally slay for the rest of 2017. \\n \\n What do you think of the first male CoverGirl? Sound off below! ||||| James Charles, a 17-year-old New York-based makeup artist, might want to rethink the word “aspiring” in his Instagram bio. \\n \\n He’s the first ever male CoverGirl, an honor revealed Tuesday on Katy Perry’s Instagram. \\n \\n Just wrapped another great @COVERGIRL shoot. Honored to have the pleasure to announce the very first COVERBOY, James Charles! Follow him @JCharlesBeauty! #COVERGIRLJames #glam❗️ A photo posted by KATY PERRY (@katyperry) on Oct 10, 2016 at 10:52pm PDT \\n \\n “Just wrapped another great @CoverGirl shoot. Honored to have the pleasure to announce the very first COVERBOY, James Charles! Follow him @JCharlesBeauty!” she captioned a photo of the two of them. \\n \\n James Charles, who only started trying makeup a year ago, will appear in campaigns for CoverGirl’s newest mascara, “So Lashy.” The brand explained in a press release that its newest launch is designed to work on all lash types, and shared why he’s the perfect person to front the campaign. \\n \\n CoverGirl Those brows, though? \\n \\n “All of our CoverGirls are role models and boundary-breakers, fearlessly expressing themselves, standing up for what they believe, and redefining what it means to be beautiful,” read the statement. “James Charles is no exception. One year ago, he boldly chose to launch his Instagram to the world, using transformative, dynamic makeup looks to showcase the many facets of his personality, serving as an inspiration to anyone who might have been afraid to do the same.” \\n \\n James Charles has racked up over 400,000 followers in just one year of posting, thanks to masterful skills and an extensive array of looks, ranging from wild... \\n \\n ... to just plain stunning. \\n \\n Oh, and did we mention this kid’s got personality? Take these epic senior photos as proof. \\n \\n I mean are we really that surprised? 😂😂 Shoutout to Carlyn Studios for dealing with my extra ass 💀😂 A photo posted by JAMES CHARLES (@jcharlesbeauty) on Sep 5, 2016 at 3:08pm PDT ||||| Just wrapped another great @COVERGIRL shoot. Honored to have the pleasure to announce the very first COVERBOY, James Charles! Follow him @JCharlesBeauty ||||| If you happen to land on James Charles\\'s Instagram feed, you\\'ll immediately note that the talented teen has perfected the art of the dramatic lash, otherworldly highlight, artistic eye, and more. In fact, you may remember that his strobing skills are so good, they even got a shout-out from Zendaya one time. And it looks like a certain brand has just taken note of James\\'s major beauty moves, and decided to bring them to an even broader audience in the coolest way. Today, we found out that Covergirl Cosmetics is naming the Instagram superstar their first male spokesperson, and we are so here for it. \\n \\n As the beauty community has grown over time, we\\'ve noted boy beauty gurus like Manny Gutierrez and Patrick Starr taking to social media to share their skills and breaking down gender boundaries at the same time. We\\'re firm believers that anyone on the gender spectrum should be able to share their passion for makeup without facing outdated stereotypes and negative judgement, and we couldn\\'t be happier to see Covergirl and James take an amazing step forward. As the brand noted, they\\'ve always chosen to partner with \"role models and boundary-breakers, fearlessly expressing themselves, standing up for what they believe, and redefining what it means to be beautiful.\" We think the glam guru totally embodies that description, and it sounds like Covergirl agrees, citing him as \"as an inspiration to anyone who might have been afraid to do the same.\" We\\'re feeling inspired by this announcement for sure, and we can\\'t wait to see what this cool collab brings. We\\'ll be watching! \\n \\n Loading View on Instagram \\n \\n Related: \\n \\n 8 Makeup Tutorials By Boys That Will Blow Your Mind \\n \\n The Brave Reason Manny Gutierrez Gave Up Medical School for a Beauty Career \\n \\n Here\\'s Why Patrick Starr Uses TWO Mirrors to Get Glam ||||| The \"aspiring makeup artist\", according to his Instagram account bio, should really change it to \"inspiring\". At only 17 years old, James Charles has risen in popularity thanks to his Instagram account, which already has more than 431,000 followers after only one year. His account showcases makeup styles including pixellated lips and his signature bold galaxy look. \\n \\n No wonder that his unique and daring style got him Katy Perry\\'s full support. The face of CoverGirl and outspoken pop star announced on her Instagram page that the beauty brand has named its first ever male CoverGirl. \"Just wrapped another great @CoverGirl shoot. Honored to have the pleasure to announce the very first COVERBOY, James Charles! Follow him @JCharlesBeauty!\" she captioned the picture of the both of them. \\n \\n CoverGirl published its own statement and explained why James Charles is the perfect fit for their campaign.'"
            ],
            "application/vnd.google.colaboratory.intrinsic+json": {
              "type": "string"
            }
          },
          "metadata": {},
          "execution_count": 15
        }
      ]
    },
    {
      "cell_type": "code",
      "source": [
        "\n",
        "len(dataset['train'][100]['document'])"
      ],
      "metadata": {
        "colab": {
          "base_uri": "https://localhost:8080/"
        },
        "id": "uD6HcoF3tv7H",
        "outputId": "615c60a5-f829-4d30-8832-c6ec187db8a8"
      },
      "execution_count": 16,
      "outputs": [
        {
          "output_type": "execute_result",
          "data": {
            "text/plain": [
              "6217"
            ]
          },
          "metadata": {},
          "execution_count": 16
        }
      ]
    },
    {
      "cell_type": "code",
      "source": [
        "\n",
        "len(dataset['train'][100]['summary'])"
      ],
      "metadata": {
        "colab": {
          "base_uri": "https://localhost:8080/"
        },
        "id": "87pL5yuit7KC",
        "outputId": "5834c1f2-d999-4ea7-ef42-fb9d17c7079b"
      },
      "execution_count": 17,
      "outputs": [
        {
          "output_type": "execute_result",
          "data": {
            "text/plain": [
              "1268"
            ]
          },
          "metadata": {},
          "execution_count": 17
        }
      ]
    },
    {
      "cell_type": "code",
      "source": [
        "import transformers\n",
        "from mlflow.models import infer_signature\n",
        "from mlflow.transformers import generate_signature_output\n",
        "import locale\n",
        "import mlflow\n",
        "import json\n",
        "import datetime\n",
        "import pandas as pd\n",
        "import numpy as np\n",
        "import os\n",
        "import pprint\n",
        "def getpreferredencoding(do_setlocale = True):\n",
        "    return \"UTF-8\"\n",
        "locale.getpreferredencoding = getpreferredencoding"
      ],
      "metadata": {
        "id": "OD53Wb7qwbZD"
      },
      "execution_count": 22,
      "outputs": []
    },
    {
      "cell_type": "code",
      "source": [
        "model_uri = \"runs:/a3cb2376e04b48c8b654ac42401dd387/text_summarizer\""
      ],
      "metadata": {
        "id": "00yW5HmGt-h4"
      },
      "execution_count": 23,
      "outputs": []
    },
    {
      "cell_type": "code",
      "source": [
        "MLFLOW_TRACKING_URI=\"databricks\"\n",
        "# Specify the workspace hostname and token\n",
        "DATABRICKS_HOST=\"https://adb-2467347032368999.19.azuredatabricks.net/\"\n",
        "DATABRICKS_TOKEN=userdata.get('DATABRCKS_TTOKEN')"
      ],
      "metadata": {
        "id": "iQMCpdWkuu1Q"
      },
      "execution_count": 24,
      "outputs": []
    },
    {
      "cell_type": "code",
      "source": [
        "\n",
        "\n",
        "if \"MLFLOW_TRACKING_URI\" not in os.environ:\n",
        "    os.environ[\"MLFLOW_TRACKING_URI\"] = MLFLOW_TRACKING_URI\n",
        "if \"DATABRICKS_HOST\" not in os.environ:\n",
        "    os.environ[\"DATABRICKS_HOST\"] = DATABRICKS_HOST\n",
        "if \"DATABRICKS_TOKEN\" not in os.environ:\n",
        "    os.environ[\"DATABRICKS_TOKEN\"] = DATABRICKS_TOKEN"
      ],
      "metadata": {
        "id": "zUweE6gbuyYI"
      },
      "execution_count": 25,
      "outputs": []
    },
    {
      "cell_type": "code",
      "source": [
        "os.environ[\"OPENAI_API_KEY\"]=userdata.get('KEY_OPENAI')"
      ],
      "metadata": {
        "id": "gd-_NrB9UUnG"
      },
      "execution_count": 26,
      "outputs": []
    },
    {
      "cell_type": "code",
      "source": [
        "mlflow.set_tracking_uri(MLFLOW_TRACKING_URI)"
      ],
      "metadata": {
        "id": "qbn0XCE3vm9U"
      },
      "execution_count": 27,
      "outputs": []
    },
    {
      "cell_type": "code",
      "source": [
        "\n",
        "mlflow.set_experiment(\"/Users/***REMOVED***/summarization_fine_tuning\")\n"
      ],
      "metadata": {
        "colab": {
          "base_uri": "https://localhost:8080/"
        },
        "id": "X9Wk76w6vowx",
        "outputId": "cf93dcea-6cc5-48d7-ff70-0d4b76a40a2a"
      },
      "execution_count": 31,
      "outputs": [
        {
          "output_type": "execute_result",
          "data": {
            "text/plain": [
              "<Experiment: artifact_location='dbfs:/databricks/mlflow-tracking/837187481682972', creation_time=1732208495910, experiment_id='837187481682972', last_update_time=1732305891823, lifecycle_stage='active', name='/Users/***REMOVED***/summarization_fine_tuning', tags={'mlflow.experiment.sourceName': '/Users/***REMOVED***/summarization_fine_tuning',\n",
              " 'mlflow.experimentType': 'MLFLOW_EXPERIMENT',\n",
              " 'mlflow.ownerEmail': '***REMOVED***',\n",
              " 'mlflow.ownerId': '1331640755799986'}>"
            ]
          },
          "metadata": {},
          "execution_count": 31
        }
      ]
    },
    {
      "cell_type": "code",
      "source": [
        "mlflow.end_run()"
      ],
      "metadata": {
        "id": "zegpmMnFvrtV"
      },
      "execution_count": 32,
      "outputs": []
    },
    {
      "cell_type": "code",
      "source": [
        "summarization_components = mlflow.transformers.load_model(\n",
        "    model_uri, return_type=\"components\"\n",
        ")"
      ],
      "metadata": {
        "id": "zvUjNxw_wKAQ",
        "colab": {
          "base_uri": "https://localhost:8080/",
          "height": 202,
          "referenced_widgets": [
            "f6bc083669104405957af4ee281d6f2c",
            "fe8d0471009b4bc9859fb7849827cba7",
            "2ed6ede6ec3745959d2b693e14270fe4",
            "b0bd184cf9b946db9622b68915c761e1",
            "3046d65b8f7249b5991ddd9deb0bf940",
            "997057bd07e74e5cbc807aea05f5ed35",
            "d02a7dbeb0d3423caaf7a8f510b62d1c",
            "527666d3ae75454abe0e0e5d09d778bb",
            "5d1c2ddae9e0460490e87b13990d7bf2",
            "fb15ceb14be746a6a0c829bd2bae0fe5",
            "20791d84dff546b691519310d351f392",
            "5e5af64d2df148d9ba93da64c6731252",
            "641078d05df54885b8d8121266e3c94d",
            "81bb6c98d03a4c86a29e3e460e177c6e",
            "20091a98a43d4389baeb76120653cc2b",
            "228be1c67a574d65872ce8bc15b04483",
            "3571674221fc43cf8aaf5c319c7e4a92",
            "02dfa5f74c7c4602ac914e6a10311fdf",
            "751f457f02e940fcbbe05b0e5fdd76a3",
            "0eed398b9bee46499eec73b100fba3c9",
            "8d009ce0598b42cb850489433715d305",
            "0908cb3da0b84070880cf08a67c02fcc",
            "78349e0a912a4d24a01e56a82416cff1",
            "1382a909273c42228492952d34300446",
            "4d680c4d8521482fa9dfb70f0583d3dd",
            "e08d40cf93984bbda5ab63291ca08489",
            "7dccc8062c6845bdb25e55655bbd3e3a",
            "ad474b8a2fff41408f30c7222e660153",
            "92468b56a1bc4a82998c01e968129b06",
            "5414f296f4094865b222b2c191fdd8b3",
            "e94c4dfec5b541928e6237dd41d156b3",
            "faa0d5ed2a3d4a55b84c328c4bb9c2b4",
            "1eef1195264f474aaf57aeb0d37d60e4"
          ]
        },
        "outputId": "d495dc5f-ec98-4766-f78e-99f13efca694"
      },
      "execution_count": 33,
      "outputs": [
        {
          "output_type": "display_data",
          "data": {
            "text/plain": [
              "Downloading artifacts:   0%|          | 0/17 [00:00<?, ?it/s]"
            ],
            "application/vnd.jupyter.widget-view+json": {
              "version_major": 2,
              "version_minor": 0,
              "model_id": "f6bc083669104405957af4ee281d6f2c"
            }
          },
          "metadata": {
            "application/vnd.jupyter.widget-view+json": {
              "colab": {
                "custom_widget_manager": {
                  "url": "https://ssl.gstatic.com/colaboratory-static/widgets/colab-cdn-widget-manager/2b70e893a8ba7c0f/manager.min.js"
                }
              }
            }
          }
        },
        {
          "output_type": "stream",
          "name": "stderr",
          "text": [
            "WARNING:urllib3.connectionpool:Connection pool is full, discarding connection: dbstoragehxvzfnone7t6e.dfs.core.windows.net. Connection pool size: 10\n",
            "WARNING:urllib3.connectionpool:Connection pool is full, discarding connection: dbstoragehxvzfnone7t6e.dfs.core.windows.net. Connection pool size: 10\n",
            "2024/11/23 12:04:28 INFO mlflow.transformers: 'runs:/a3cb2376e04b48c8b654ac42401dd387/text_summarizer' resolved as 'dbfs:/databricks/mlflow-tracking/837187481682972/a3cb2376e04b48c8b654ac42401dd387/artifacts/text_summarizer'\n"
          ]
        },
        {
          "output_type": "display_data",
          "data": {
            "text/plain": [
              "Downloading artifacts:   0%|          | 0/1 [00:00<?, ?it/s]"
            ],
            "application/vnd.jupyter.widget-view+json": {
              "version_major": 2,
              "version_minor": 0,
              "model_id": "0908cb3da0b84070880cf08a67c02fcc"
            }
          },
          "metadata": {
            "application/vnd.jupyter.widget-view+json": {
              "colab": {
                "custom_widget_manager": {
                  "url": "https://ssl.gstatic.com/colaboratory-static/widgets/colab-cdn-widget-manager/2b70e893a8ba7c0f/manager.min.js"
                }
              }
            }
          }
        },
        {
          "output_type": "stream",
          "name": "stderr",
          "text": [
            "2024/11/23 12:04:32 WARNING mlflow.transformers.model_io: Could not specify device parameter for this pipeline type.Falling back to loading the model with the default device.\n"
          ]
        },
        {
          "output_type": "display_data",
          "data": {
            "text/plain": [
              "Loading checkpoint shards:   0%|          | 0/3 [00:00<?, ?it/s]"
            ],
            "application/vnd.jupyter.widget-view+json": {
              "version_major": 2,
              "version_minor": 0,
              "model_id": "1eef1195264f474aaf57aeb0d37d60e4"
            }
          },
          "metadata": {
            "application/vnd.jupyter.widget-view+json": {
              "colab": {
                "custom_widget_manager": {
                  "url": "https://ssl.gstatic.com/colaboratory-static/widgets/colab-cdn-widget-manager/2b70e893a8ba7c0f/manager.min.js"
                }
              }
            }
          }
        }
      ]
    },
    {
      "cell_type": "code",
      "source": [
        "summarization_components.keys()"
      ],
      "metadata": {
        "id": "W9IqRGGx6jLv",
        "colab": {
          "base_uri": "https://localhost:8080/"
        },
        "outputId": "ebd25e18-bef1-4be3-e74b-12e62c871b93"
      },
      "execution_count": 34,
      "outputs": [
        {
          "output_type": "execute_result",
          "data": {
            "text/plain": [
              "dict_keys(['task', 'framework', 'device', 'torch_dtype', 'model', 'tokenizer'])"
            ]
          },
          "metadata": {},
          "execution_count": 34
        }
      ]
    },
    {
      "cell_type": "code",
      "source": [
        "summarization_components['model'].save_pretrained(\"/content/drive/MyDrive/MODELS/t5-finetuned\")"
      ],
      "metadata": {
        "id": "hbqVZ73MYhrr"
      },
      "execution_count": 35,
      "outputs": []
    },
    {
      "cell_type": "code",
      "source": [
        "summarization_components['task'], summarization_components['framework'], summarization_components['torch_dtype']"
      ],
      "metadata": {
        "colab": {
          "base_uri": "https://localhost:8080/"
        },
        "id": "EH9wNRsfccjV",
        "outputId": "118c9aa7-9928-4875-ea6a-11d868b1fb8a"
      },
      "execution_count": 82,
      "outputs": [
        {
          "output_type": "execute_result",
          "data": {
            "text/plain": [
              "('summarization', 'pt', torch.bfloat16)"
            ]
          },
          "metadata": {},
          "execution_count": 82
        }
      ]
    },
    {
      "cell_type": "code",
      "source": [
        "\n",
        "from transformers import AutoModelForSeq2SeqLM, AutoTokenizer"
      ],
      "metadata": {
        "id": "h3vvN4p_ZtYe"
      },
      "execution_count": 37,
      "outputs": []
    },
    {
      "cell_type": "code",
      "source": [
        "model_id = \"/content/drive/MyDrive/MODELS/t5-finetuned\"\n",
        "model = summarization_components['model']\n",
        "tokenizer = summarization_components['tokenizer']\n"
      ],
      "metadata": {
        "id": "Ko_X0OS-ZtVN"
      },
      "execution_count": 40,
      "outputs": []
    },
    {
      "cell_type": "code",
      "source": [
        "from optimum.onnxruntime import ORTModelForSeq2SeqLM\n",
        "from optimum.onnxruntime import ORTQuantizer\n",
        "from optimum.pipelines import pipeline\n",
        "import mlflow\n",
        "from mlflow.models.signature import infer_signature\n",
        "from mlflow.pyfunc import PythonModel\n",
        "import pprint"
      ],
      "metadata": {
        "id": "TCL2a1iVZtSP"
      },
      "execution_count": 39,
      "outputs": []
    },
    {
      "cell_type": "markdown",
      "source": [
        "# Install Optimum\n",
        "- https://huggingface.co/docs/optimum/main/en/exporters/onnx/usage_guides/export_a_model\n",
        "\n",
        "- https://huggingface.co/docs/optimum/exporters/onnx/usage_guides/export_a_model\n",
        "\n",
        "- https://huggingface.co/docs/optimum/main/en/installation\n",
        "\n",
        "```\n",
        "python -m pip install optimum\n",
        "\n",
        "pip install --upgrade --upgrade-strategy eager optimum[onnxruntime]\n",
        "```\n",
        "\n",
        "\n",
        "```\n",
        "optimum-cli export onnx --model ./t5-finetuned --for-ort --task seq2seq-lm-with-past t5_onnx/\n",
        "```"
      ],
      "metadata": {
        "id": "bp49n8mUcL3X"
      }
    },
    {
      "cell_type": "markdown",
      "source": [
        "```\n",
        "optimum-cli export onnx --help\n",
        "\n",
        "usage: optimum-cli <command> [<args>] export onnx [-h] -m MODEL [--task TASK] [--monolith] [--device DEVICE] [--opset OPSET] [--atol ATOL]\n",
        "                                                  [--framework {pt,tf}] [--pad_token_id PAD_TOKEN_ID] [--cache_dir CACHE_DIR] [--trust-remote-code]\n",
        "                                                  [--no-post-process] [--optimize {O1,O2,O3,O4}] [--batch_size BATCH_SIZE]\n",
        "                                                  [--sequence_length SEQUENCE_LENGTH] [--num_choices NUM_CHOICES] [--width WIDTH] [--height HEIGHT]\n",
        "                                                  [--num_channels NUM_CHANNELS] [--feature_size FEATURE_SIZE] [--nb_max_frames NB_MAX_FRAMES]\n",
        "                                                  [--audio_sequence_length AUDIO_SEQUENCE_LENGTH]\n",
        "                                                  output\n",
        "\n",
        "optional arguments:\n",
        "  -h, --help            show this help message and exit\n",
        "\n",
        "Required arguments:\n",
        "  -m MODEL, --model MODEL\n",
        "                        Model ID on huggingface.co or path on disk to load model from.\n",
        "  output                Path indicating the directory where to store generated ONNX model.\n",
        "\n",
        "Optional arguments:\n",
        "  --task TASK           The task to export the model for. If not specified, the task will be auto-inferred based on the model. Available tasks depend on the model, but are among: ['default', 'fill-mask', 'text-generation', 'text2text-generation', 'text-classification', 'token-classification', 'multiple-choice', 'object-detection', 'question-answering', 'image-classification', 'image-segmentation', 'masked-im', 'semantic-segmentation', 'automatic-speech-recognition', 'audio-classification', 'audio-frame-classification', 'automatic-speech-recognition', 'audio-xvector', 'image-to-text', 'zero-shot-object-detection', 'image-to-image', 'inpainting', 'text-to-image']. For decoder models, use `xxx-with-past` to export the model using past key values in the decoder.\n",
        "  --monolith            Force to export the model as a single ONNX file. By default, the ONNX exporter may break the model in several ONNX files, for example for encoder-decoder models where the encoder should be run only once while the decoder is looped over.\n",
        "  --device DEVICE       The device to use to do the export. Defaults to \"cpu\".\n",
        "  --opset OPSET         If specified, ONNX opset version to export the model with. Otherwise, the default opset will be used.\n",
        "  --atol ATOL           If specified, the absolute difference tolerance when validating the model. Otherwise, the default atol for the model will be used.\n",
        "  --framework {pt,tf}   The framework to use for the ONNX export. If not provided, will attempt to use the local checkpoint's original framework or what is available in the environment.\n",
        "  --pad_token_id PAD_TOKEN_ID\n",
        "                        This is needed by some models, for some tasks. If not provided, will attempt to use the tokenizer to guess it.\n",
        "  --cache_dir CACHE_DIR\n",
        "                        Path indicating where to store cache.\n",
        "  --trust-remote-code   Allows to use custom code for the modeling hosted in the model repository. This option should only be set for repositories you trust and in which you have read the code, as it will execute on your local machine arbitrary code present in the model repository.\n",
        "  --no-post-process     Allows to disable any post-processing done by default on the exported ONNX models. For example, the merging of decoder and decoder-with-past models into a single ONNX model file to reduce memory usage.\n",
        "  --optimize {O1,O2,O3,O4}\n",
        "                        Allows to run ONNX Runtime optimizations directly during the export. Some of these optimizations are specific to ONNX Runtime, and the resulting ONNX will not be usable with other runtime as OpenVINO or TensorRT. Possible options:\n",
        "                            - O1: Basic general optimizations\n",
        "                            - O2: Basic and extended general optimizations, transformers-specific fusions\n",
        "                            - O3: Same as O2 with GELU approximation\n",
        "                            - O4: Same as O3 with mixed precision (fp16, GPU-only, requires `--device cuda`)\n",
        "```"
      ],
      "metadata": {
        "id": "Jq3DBValDJIe"
      }
    },
    {
      "cell_type": "code",
      "source": [
        "model = ORTModelForSeq2SeqLM.from_pretrained(\"/content/drive/MyDrive/MODELS/t5_onnx\")"
      ],
      "metadata": {
        "id": "1QP1doEvWzlI"
      },
      "execution_count": 36,
      "outputs": []
    },
    {
      "cell_type": "code",
      "source": [
        "tokenizer.save_pretrained(\"/content/drive/MyDrive/MODELS/t5_onnx\")"
      ],
      "metadata": {
        "colab": {
          "base_uri": "https://localhost:8080/"
        },
        "id": "1fV2Y-j-mU4s",
        "outputId": "dc50af1f-f603-4476-b52c-1da25b1ee6a3"
      },
      "execution_count": 38,
      "outputs": [
        {
          "output_type": "execute_result",
          "data": {
            "text/plain": [
              "('/content/drive/MyDrive/MODELS/t5_onnx/tokenizer_config.json',\n",
              " '/content/drive/MyDrive/MODELS/t5_onnx/special_tokens_map.json',\n",
              " '/content/drive/MyDrive/MODELS/t5_onnx/spiece.model',\n",
              " '/content/drive/MyDrive/MODELS/t5_onnx/added_tokens.json',\n",
              " '/content/drive/MyDrive/MODELS/t5_onnx/tokenizer.json')"
            ]
          },
          "metadata": {},
          "execution_count": 38
        }
      ]
    },
    {
      "cell_type": "code",
      "source": [
        "pipe = pipeline(summarization_components['task'], model=model, tokenizer=tokenizer)\n",
        "result = pipe(dataset['validation'][100]['document'])"
      ],
      "metadata": {
        "id": "fnB0DSq6XAU6"
      },
      "execution_count": 39,
      "outputs": []
    },
    {
      "cell_type": "code",
      "source": [
        "# pprint.pprint(dataset['validation'][100]['document'])"
      ],
      "metadata": {
        "id": "4ZkM8lsvJbUX"
      },
      "execution_count": 84,
      "outputs": []
    },
    {
      "cell_type": "code",
      "source": [
        "pprint.pprint(result[0]['summary_text'])\n",
        "\n"
      ],
      "metadata": {
        "colab": {
          "base_uri": "https://localhost:8080/"
        },
        "id": "t3tnTc2wdaI6",
        "outputId": "4b983604-e5e1-45e8-ee99-5e7870046099"
      },
      "execution_count": 40,
      "outputs": [
        {
          "output_type": "stream",
          "name": "stdout",
          "text": [
            "('||| The U.S. dollar rose to a six-month high against the euro, while the '\n",
            " '10-year Treasury yield TMUBMUSD10Y, +0.00% , used to determine rates on '\n",
            " 'consumer loans, fell to an all-time low. ||| || The Dow Jones Industrial '\n",
            " 'Average and the Nasdaq Composite fell on Friday, as investors fretted that '\n",
            " 'the eurozone’s debt crisis is escalating. The Dow lost 303 points, or 2.7%, '\n",
            " 'to 10,992.13, down 2.6% . The ECB, if Greece fails to meet the')\n"
          ]
        }
      ]
    },
    {
      "cell_type": "code",
      "source": [
        "MODEL_NAME = \"google-t5/t5-large\""
      ],
      "metadata": {
        "id": "iq8HAM6MhFnD"
      },
      "execution_count": 85,
      "outputs": []
    },
    {
      "cell_type": "code",
      "source": [
        "class ONNXModelForSeq2SeqLM(PythonModel):\n",
        "  def load_context(self, context):\n",
        "        \"\"\"\n",
        "        This method initializes the tokenizer and language model\n",
        "        using the specified model snapshot directory.\n",
        "        \"\"\"\n",
        "\n",
        "        from transformers import AutoTokenizer\n",
        "        from optimum.onnxruntime import ORTModelForSeq2SeqLM\n",
        "        from optimum.pipelines import pipeline\n",
        "\n",
        "        self.model = ORTModelForSeq2SeqLM.from_pretrained(context.artifacts[\"snapshot\"])\n",
        "        self.tokenizer = AutoTokenizer.from_pretrained(context.artifacts[\"snapshot\"])\n",
        "\n",
        "\n",
        "  def predict(self, context, model_input, params=None):\n",
        "        \"\"\"\n",
        "        This method generates prediction for the given input.\n",
        "        \"\"\"\n",
        "        prompt = model_input[\"prompt\"][0]\n",
        "         # Retrieve or use default values for temperature and max_tokens\n",
        "        temperature = params.get(\"temperature\", 0.7) if params else 0.7\n",
        "        max_tokens = params.get(\"max_tokens\", 128) if params else 128\n",
        "        task = params.get(\"task\", \"summarization\") if params else \"summarization\"\n",
        "\n",
        "\n",
        "        pipe = pipeline(task, model=self.model, tokenizer=self.tokenizer)\n",
        "        result = pipe(prompt)\n",
        "        return {\"candidates\": [result[0]['summary_text']]}\n"
      ],
      "metadata": {
        "id": "1yu3PNQif6rW"
      },
      "execution_count": 41,
      "outputs": []
    },
    {
      "cell_type": "code",
      "source": [
        "import numpy as np\n",
        "import pandas as pd\n",
        "\n",
        "import mlflow\n",
        "from mlflow.models.signature import ModelSignature\n",
        "from mlflow.types import ColSpec, DataType, ParamSchema, ParamSpec, Schema\n",
        "\n",
        "# Define input and output schema\n",
        "input_schema = Schema(\n",
        "    [\n",
        "        ColSpec(DataType.string, \"prompt\"),\n",
        "    ]\n",
        ")\n",
        "output_schema = Schema([ColSpec(DataType.string, \"candidates\")])\n",
        "\n",
        "parameters = ParamSchema(\n",
        "    [\n",
        "        ParamSpec(\"temperature\", DataType.float, np.float32(0.1), None),\n",
        "        ParamSpec(\"max_tokens\", DataType.integer, np.int32(1000), None),\n",
        "        ParamSpec(\"task\", DataType.string, \"summarization\"),\n",
        "    ]\n",
        ")\n",
        "\n",
        "signature = ModelSignature(inputs=input_schema, outputs=output_schema,  params=parameters)\n",
        "\n",
        "\n",
        "# Define input example\n",
        "input_example = pd.DataFrame({\"prompt\": [dataset['validation'][100]['document']]})"
      ],
      "metadata": {
        "id": "oS5NYOkOf6jq"
      },
      "execution_count": 42,
      "outputs": []
    },
    {
      "cell_type": "code",
      "source": [
        "mlflow.set_experiment(\"/Users/***REMOVED***/log_summariaztion_onnx\")"
      ],
      "metadata": {
        "colab": {
          "base_uri": "https://localhost:8080/"
        },
        "id": "8CZVUAXHf6gC",
        "outputId": "5b90c135-e90e-4e25-c0df-bba966e9836b"
      },
      "execution_count": 43,
      "outputs": [
        {
          "output_type": "execute_result",
          "data": {
            "text/plain": [
              "<Experiment: artifact_location='dbfs:/databricks/mlflow-tracking/596711047134159', creation_time=1732306922913, experiment_id='596711047134159', last_update_time=1732361528746, lifecycle_stage='active', name='/Users/***REMOVED***/log_summariaztion_onnx', tags={'mlflow.experiment.sourceName': '/Users/***REMOVED***/log_summariaztion_onnx',\n",
              " 'mlflow.experimentType': 'MLFLOW_EXPERIMENT',\n",
              " 'mlflow.ownerEmail': '***REMOVED***',\n",
              " 'mlflow.ownerId': '1331640755799986'}>"
            ]
          },
          "metadata": {},
          "execution_count": 43
        }
      ]
    },
    {
      "cell_type": "code",
      "source": [
        "import datetime\n",
        "now = datetime.datetime.now()\n",
        "now.strftime(\"%Y-%m-%d_%H:%M:%S\")"
      ],
      "metadata": {
        "colab": {
          "base_uri": "https://localhost:8080/",
          "height": 35
        },
        "id": "YWxQ4DtDuqtu",
        "outputId": "138a3400-73a4-4556-c3a5-90a5c9006b86"
      },
      "execution_count": 44,
      "outputs": [
        {
          "output_type": "execute_result",
          "data": {
            "text/plain": [
              "'2024-11-23_12:06:55'"
            ],
            "application/vnd.google.colaboratory.intrinsic+json": {
              "type": "string"
            }
          },
          "metadata": {},
          "execution_count": 44
        }
      ]
    },
    {
      "cell_type": "code",
      "source": [
        "# Get the current base version of torch that is installed, without specific version modifiers\n",
        "torch_version = torch.__version__.split(\"+\")[0]"
      ],
      "metadata": {
        "id": "9ImpbVJ68WVd"
      },
      "execution_count": 51,
      "outputs": []
    },
    {
      "cell_type": "code",
      "source": [
        "\n",
        "# Start an MLflow run context and log the PHi3 model wrapper along with the param-included signature to\n",
        "# allow for overriding parameters at inference time\n",
        "now = datetime.datetime.now()\n",
        "\n",
        "description= \"\"\"Fine Tuned T5-Large Model converted to ONNX with optimum-cli\n",
        "command :\n",
        "optimum-cli export onnx --model ./t5-finetuned --for-ort --task seq2seq-lm-with-past t5_onnx/\n",
        "\"\"\"\n",
        "with mlflow.start_run(run_name=f\"convert_to_onnx_{now.strftime('%Y-%m-%d_%H:%M:%S')}\", description=description) as run:\n",
        "    model_info = mlflow.pyfunc.log_model(\n",
        "        \"t5-summarization-onnx\",\n",
        "        python_model=ONNXModelForSeq2SeqLM(),\n",
        "        # NOTE: the artifacts dictionary mapping is critical! This dict is used by the load_context() method in our PHi3() class.\n",
        "        artifacts={\"snapshot\": \"/content/drive/MyDrive/MODELS/t5_onnx\"},\n",
        "\n",
        "        pip_requirements=[\n",
        "            f\"torch=={torch_version}\",\n",
        "            f\"transformers=={transformers.__version__}\",\n",
        "             \"onnxruntime\",\n",
        "             \"optimum[onnxruntime]\",\n",
        "            \"optimum\",\n",
        "\n",
        "        ],\n",
        "        input_example=input_example,\n",
        "        signature=signature,\n",
        "    )"
      ],
      "metadata": {
        "colab": {
          "base_uri": "https://localhost:8080/",
          "height": 507,
          "referenced_widgets": [
            "c99ada17e5444b689c8a3011a433ce6f",
            "daf5f14bd18349ffa0bad92e33ad23f4",
            "77355c95d02145cf97b629f3de7aa305",
            "42039f5a79be4d20896a5a85615c645f",
            "1670df91b53446b7b6d37bf72f67a428",
            "380e2b21cb564d74a22e783dda89a39e",
            "b55e0d7db82b4e5a8bfaa03036f96286",
            "01e32507adbc47e2bf8bb03da64a1be2",
            "e0c6fec1d6264e53a255279d266a4c69",
            "cabdb6c2a62548dfb95ae380a718243c",
            "fe62f1e97ac24063b7807645de3bf3a2",
            "2864c21eb5c44554a1be7d5e626aaa3b",
            "178fb4c871ca42aeb9eba22d623eeabc",
            "780c06c257fb493381b86977279bea9f",
            "58704dcbed8344a283bc06b8e0718c82",
            "d8245c21aa4d4e5dab34e7722a682abb",
            "3f55bb9fce95430bb8e272c48db3f32a",
            "3f5d1c461461480f9d03f81c2775cbc8",
            "190dc022bd644968857944724a68090d",
            "b4222e84f2b246cdac8819e1b0d8c0f6",
            "23dfeb7f32864f55825979c0eed485ad",
            "6fe41e8c739642a183513250b5de9b86",
            "7fea4cb525e84185ac6d88977f24e7ec",
            "6198699c890544b898c8cf12fcade717",
            "1418f36bb1e34a11a043e9fb41f8aff5",
            "6eb36dbb3e6b40d4b1ac9f9c98563c60",
            "82c56764a76343b99c6c136034d9c9f0",
            "9ae51777f21840e9ae528d98483737d8",
            "da408fbd458d49ca93b1d55615b2ec16",
            "73c888a1b49741c5aebd933013cc73dc",
            "b97351a38d304520a9546a627d9a993e",
            "7c3df9cf0a6c4921afe93fed7abcdcf5",
            "bf5917bdad714f19aefa0557805d07d1",
            "39e1e317c15b416bba71cc4615268934",
            "cddbe8fcecf843c39e0476a5cb5fdf28",
            "de09545d89814871beda8845a8f4099e",
            "a1b059cff16e4e47af6b42e0eb7894cd",
            "9d3270ec4f82487bb4d43d64c72001ca",
            "7d7bcd3a4c9a4df1b5ec539bca73ddd3",
            "87448bc8e6b64dc9853a6d2d6120349e",
            "f03f27232db744d4860785d8b3347cd4",
            "06f0d67a03c2439db1bef896beff5930",
            "278fdbd52dc24afcb44f2306764a221d",
            "424269b917da4ed1bd9d7280eef91abf",
            "85a025651a8341b198c4987e839c73fb",
            "0fb0d90a63334191aaabef45465883dc",
            "83430dc6e53d4d208a95d5a0e720b7fc",
            "f983473ff57949598e953515e77803da",
            "40eafe4fd40c426c973525a75af7f0b4",
            "8adad095eb1f437bb7980fa0aea9b83b",
            "046f862353e8405998997543bc33ba52",
            "84fa6d6cdcc24f72897908ddba5612ea",
            "cb88eac909184e28824a1fb459d2efa9",
            "eb1495a261f649159749dda25906afa4",
            "d1fb89ebe85141d2a9403d1cd6870e61",
            "3ccbd2f20ebb4409b1b279c0638c8cb3",
            "8e8d51d93436439eba1de469660d63bf",
            "05a1e0cac8b04cfb974c948c769e0f3a",
            "1fef7ee5fa05472eaa2394b895505d26",
            "4ba60e2f595349118c38dfa84633c043",
            "66cb5ca846cb404fbfe016c1300ccc0a",
            "7366603658284bbcb528f995c33aac37",
            "15a7f40e50ff414ea75109e79adff43b",
            "4f50cc05db5f41629430197236135d3b",
            "5ab20e5ed2274323b838d7329b1ebf02",
            "afecd45b4117447a8318f6283f97ff23"
          ]
        },
        "id": "BXD5wuDXimyv",
        "outputId": "7a21e8d2-b656-4abc-e699-2839a8feded2"
      },
      "execution_count": 47,
      "outputs": [
        {
          "output_type": "display_data",
          "data": {
            "text/plain": [
              "Downloading artifacts:   0%|          | 0/10 [00:00<?, ?it/s]"
            ],
            "application/vnd.jupyter.widget-view+json": {
              "version_major": 2,
              "version_minor": 0,
              "model_id": "c99ada17e5444b689c8a3011a433ce6f"
            }
          },
          "metadata": {
            "application/vnd.jupyter.widget-view+json": {
              "colab": {
                "custom_widget_manager": {
                  "url": "https://ssl.gstatic.com/colaboratory-static/widgets/colab-cdn-widget-manager/2b70e893a8ba7c0f/manager.min.js"
                }
              }
            }
          }
        },
        {
          "output_type": "display_data",
          "data": {
            "text/plain": [
              "Uploading artifacts:   0%|          | 0/17 [00:00<?, ?it/s]"
            ],
            "application/vnd.jupyter.widget-view+json": {
              "version_major": 2,
              "version_minor": 0,
              "model_id": "6fe41e8c739642a183513250b5de9b86"
            }
          },
          "metadata": {
            "application/vnd.jupyter.widget-view+json": {
              "colab": {
                "custom_widget_manager": {
                  "url": "https://ssl.gstatic.com/colaboratory-static/widgets/colab-cdn-widget-manager/2b70e893a8ba7c0f/manager.min.js"
                }
              }
            }
          }
        },
        {
          "output_type": "display_data",
          "data": {
            "text/plain": [
              "Uploading /tmp/tmphuhscxm7/model/artifacts/t5_onnx/decoder_with_past_model.onnx:   0%|          | 0.00/1.44G […"
            ],
            "application/vnd.jupyter.widget-view+json": {
              "version_major": 2,
              "version_minor": 0,
              "model_id": "278fdbd52dc24afcb44f2306764a221d"
            }
          },
          "metadata": {}
        },
        {
          "output_type": "display_data",
          "data": {
            "text/plain": [
              "Uploading /tmp/tmphuhscxm7/model/artifacts/t5_onnx/encoder_model.onnx:   0%|          | 0.00/1.25G [00:00<?, ?…"
            ],
            "application/vnd.jupyter.widget-view+json": {
              "version_major": 2,
              "version_minor": 0,
              "model_id": "424269b917da4ed1bd9d7280eef91abf"
            }
          },
          "metadata": {}
        },
        {
          "output_type": "display_data",
          "data": {
            "text/plain": [
              "Uploading /tmp/tmphuhscxm7/model/artifacts/t5_onnx/decoder_model_merged.onnx:   0%|          | 0.00/1.62G [00:…"
            ],
            "application/vnd.jupyter.widget-view+json": {
              "version_major": 2,
              "version_minor": 0,
              "model_id": "85a025651a8341b198c4987e839c73fb"
            }
          },
          "metadata": {}
        },
        {
          "output_type": "display_data",
          "data": {
            "text/plain": [
              "Uploading /tmp/tmphuhscxm7/model/artifacts/t5_onnx/decoder_model.onnx:   0%|          | 0.00/1.62G [00:00<?, ?…"
            ],
            "application/vnd.jupyter.widget-view+json": {
              "version_major": 2,
              "version_minor": 0,
              "model_id": "3ccbd2f20ebb4409b1b279c0638c8cb3"
            }
          },
          "metadata": {}
        },
        {
          "output_type": "stream",
          "name": "stderr",
          "text": [
            "WARNING:urllib3.connectionpool:Connection pool is full, discarding connection: dbstoragehxvzfnone7t6e.dfs.core.windows.net. Connection pool size: 10\n",
            "WARNING:urllib3.connectionpool:Connection pool is full, discarding connection: dbstoragehxvzfnone7t6e.dfs.core.windows.net. Connection pool size: 10\n",
            "WARNING:urllib3.connectionpool:Connection pool is full, discarding connection: dbstoragehxvzfnone7t6e.dfs.core.windows.net. Connection pool size: 10\n",
            "WARNING:urllib3.connectionpool:Connection pool is full, discarding connection: dbstoragehxvzfnone7t6e.dfs.core.windows.net. Connection pool size: 10\n",
            "WARNING:urllib3.connectionpool:Connection pool is full, discarding connection: dbstoragehxvzfnone7t6e.dfs.core.windows.net. Connection pool size: 10\n",
            "WARNING:urllib3.connectionpool:Connection pool is full, discarding connection: dbstoragehxvzfnone7t6e.dfs.core.windows.net. Connection pool size: 10\n",
            "WARNING:urllib3.connectionpool:Connection pool is full, discarding connection: dbstoragehxvzfnone7t6e.dfs.core.windows.net. Connection pool size: 10\n",
            "WARNING:urllib3.connectionpool:Connection pool is full, discarding connection: dbstoragehxvzfnone7t6e.dfs.core.windows.net. Connection pool size: 10\n",
            "WARNING:urllib3.connectionpool:Connection pool is full, discarding connection: dbstoragehxvzfnone7t6e.dfs.core.windows.net. Connection pool size: 10\n",
            "WARNING:urllib3.connectionpool:Connection pool is full, discarding connection: dbstoragehxvzfnone7t6e.dfs.core.windows.net. Connection pool size: 10\n",
            "WARNING:urllib3.connectionpool:Connection pool is full, discarding connection: dbstoragehxvzfnone7t6e.dfs.core.windows.net. Connection pool size: 10\n",
            "WARNING:urllib3.connectionpool:Connection pool is full, discarding connection: dbstoragehxvzfnone7t6e.dfs.core.windows.net. Connection pool size: 10\n",
            "WARNING:urllib3.connectionpool:Connection pool is full, discarding connection: dbstoragehxvzfnone7t6e.dfs.core.windows.net. Connection pool size: 10\n",
            "WARNING:urllib3.connectionpool:Connection pool is full, discarding connection: dbstoragehxvzfnone7t6e.dfs.core.windows.net. Connection pool size: 10\n"
          ]
        },
        {
          "output_type": "stream",
          "name": "stdout",
          "text": [
            "🏃 View run convert_to_onnx_2024-11-23_11:16:54 at: https://adb-2467347032368999.19.azuredatabricks.net/ml/experiments/596711047134159/runs/5d0cd4d808274213a6084432148830d7\n",
            "🧪 View experiment at: https://adb-2467347032368999.19.azuredatabricks.net/ml/experiments/596711047134159\n"
          ]
        }
      ]
    },
    {
      "cell_type": "code",
      "source": [
        "run.to_dictionary()"
      ],
      "metadata": {
        "colab": {
          "base_uri": "https://localhost:8080/"
        },
        "id": "Fo31rdE5wwHj",
        "outputId": "34a0c4ed-2b67-48fe-971c-1eacdd8ecd2b"
      },
      "execution_count": 49,
      "outputs": [
        {
          "output_type": "execute_result",
          "data": {
            "text/plain": [
              "{'info': {'artifact_uri': 'dbfs:/databricks/mlflow-tracking/596711047134159/5d0cd4d808274213a6084432148830d7/artifacts',\n",
              "  'end_time': None,\n",
              "  'experiment_id': '596711047134159',\n",
              "  'lifecycle_stage': 'active',\n",
              "  'run_id': '5d0cd4d808274213a6084432148830d7',\n",
              "  'run_name': 'convert_to_onnx_2024-11-23_11:16:54',\n",
              "  'run_uuid': '5d0cd4d808274213a6084432148830d7',\n",
              "  'start_time': 1732360614196,\n",
              "  'status': 'RUNNING',\n",
              "  'user_id': ''},\n",
              " 'data': {'metrics': {},\n",
              "  'params': {},\n",
              "  'tags': {'mlflow.note.content': 'Fine Tuned T5-Large Model converted to ONNX with optimum-cli \\ncommand :\\noptimum-cli export onnx --model ./t5-finetuned --for-ort --task seq2seq-lm-with-past t5_onnx/\\n',\n",
              "   'mlflow.runColor': '#229487',\n",
              "   'mlflow.runName': 'convert_to_onnx_2024-11-23_11:16:54',\n",
              "   'mlflow.source.name': '/usr/local/lib/python3.10/dist-packages/colab_kernel_launcher.py',\n",
              "   'mlflow.source.type': 'LOCAL',\n",
              "   'mlflow.user': '1331640755799986'}}}"
            ]
          },
          "metadata": {},
          "execution_count": 49
        }
      ]
    },
    {
      "cell_type": "code",
      "source": [
        "\n",
        "model_info.model_uri"
      ],
      "metadata": {
        "colab": {
          "base_uri": "https://localhost:8080/",
          "height": 35
        },
        "id": "7ni3ZzBVimvh",
        "outputId": "53cd3143-5053-4cd1-8c8e-6a6799bef5cd"
      },
      "execution_count": 48,
      "outputs": [
        {
          "output_type": "execute_result",
          "data": {
            "text/plain": [
              "'runs:/5d0cd4d808274213a6084432148830d7/t5-summarization-onnx'"
            ],
            "application/vnd.google.colaboratory.intrinsic+json": {
              "type": "string"
            }
          },
          "metadata": {},
          "execution_count": 48
        }
      ]
    },
    {
      "cell_type": "code",
      "source": [
        "loaded_model = mlflow.pyfunc.load_model(model_info.model_uri)"
      ],
      "metadata": {
        "colab": {
          "base_uri": "https://localhost:8080/",
          "height": 212,
          "referenced_widgets": [
            "a502f52f694d4119a81297ee1b95198b",
            "8880dde28d69430c8f179d6c3966a0a4",
            "b9ff4ec2ab134dcf97edd4c673332809",
            "3d57e36d94c84cf99d7ca9539d8e42a9",
            "ac13ebe667aa4f238cb03043624721a4",
            "0b9d10a7b41e46899d2a5b378be57929",
            "fa9e02635d324f9ba1fc6b3bcfaef0fe",
            "8ac277ec36b14bf8993fe898e015d2b2",
            "d5aa2e5654a54626997aca7d95bbc814",
            "e83279d81e8640a489f71c0805dc14ec",
            "a4d256fa8baf46d99862c23cd580dde1",
            "6bf0886c68b44661bb95e6c0005b0898",
            "2ed2eae346f34b968a228646157cdbc1",
            "88eeb779bff34b98b368fb1b2f72bdb8",
            "fb0e93288f6348c6bf0f7cc2b92aeb21",
            "9cbf9814bd894a638cab60ca7a2bf25d",
            "134ff49490ce4bf3b28e7cb77a9d670f",
            "a293476bd4d64c4896ae3bd890c115eb",
            "ce5db0091f42485680b8e9d4694924e9",
            "8cc250fb907943b4b20f81bcb364d9aa",
            "f917eb10b3214118954c59e5e028e0d4",
            "a2490deaf9d24dedad9d3bbbb4b08b52",
            "1a778df7c8c848509ba0a7e8511ec603",
            "574e86312f0c4fea901ec576a7344f99",
            "f6a46ff0aed24c0fba0eb11c5b67d8dc",
            "3b96f9afecfd417b84e292a79c594784",
            "8c58dbd99d9d4801b809c744d1d42a75",
            "92d1f5f1f73d4048823c13f9dbe6ced8",
            "5f62ffabc9d049858224ef73aa8d6f63",
            "0a3737798dc74266ad080d94289a5e33",
            "b0fda6f4eec540ac9caec08f5be71533",
            "d66ff07998be4deabbcbd2b6784a6f29",
            "0cdcd4149e6842ba9617df033bd6a17e",
            "860caa9acf4047ddb3002404409c42cb",
            "041ecdfd1b054437bc9529083fcacbb6",
            "26eeab82425a4c4c856d618b809d2af4",
            "0e6ddb9072794025abe39c81dd2eaeb6",
            "3866295ed49945f8aab1c5ccaeae3806",
            "9a596cffa3bd467dbb66e16a26023310",
            "1c09f86be11f4f5b8b05934c46e4c149",
            "a787d32614334c22aea49d6af550818b",
            "da17e9c5b4174fd38e0cac2e31a37b27",
            "87fb3e11494e43688cc7f0a1d7d2ba4a",
            "36cba95da19c4311b62079b658003082",
            "91eaf07a7c184adea8b312a49d1645b5",
            "71036b46b4db40f3aab5f6bbda469fad",
            "3dfc6e89a9f246b3b0ab5199e68c84de",
            "d83f9df03e954e4e833586bd3a96bf3d",
            "abdb2efabd5d443db3b55f826cfbccc8",
            "1fc7888fa0cc469bae00cc11c6f19633",
            "58e9786bd6a4411a96264a38e9d519a4",
            "d44a682659d14b0689c3230c932d9ad4",
            "af1b7fffd1ea41b389bbfa70511b382f",
            "5769192dffcf451ea1d0b82a623b6595",
            "5db115f943144747bc1a6b9b8d3adbb5"
          ]
        },
        "id": "tts2Z4vjimdy",
        "outputId": "2b467988-55c3-4df4-88a4-af2148ce79f9"
      },
      "execution_count": 50,
      "outputs": [
        {
          "output_type": "display_data",
          "data": {
            "text/plain": [
              "Downloading artifacts:   0%|          | 0/17 [00:00<?, ?it/s]"
            ],
            "application/vnd.jupyter.widget-view+json": {
              "version_major": 2,
              "version_minor": 0,
              "model_id": "a502f52f694d4119a81297ee1b95198b"
            }
          },
          "metadata": {
            "application/vnd.jupyter.widget-view+json": {
              "colab": {
                "custom_widget_manager": {
                  "url": "https://ssl.gstatic.com/colaboratory-static/widgets/colab-cdn-widget-manager/2b70e893a8ba7c0f/manager.min.js"
                }
              }
            }
          }
        },
        {
          "output_type": "display_data",
          "data": {
            "text/plain": [
              "Downloading /tmp/tmpyzl3lutb/t5-summarization-onnx/artifacts/t5_onnx/decoder_model_merged.onnx:   0%|         …"
            ],
            "application/vnd.jupyter.widget-view+json": {
              "version_major": 2,
              "version_minor": 0,
              "model_id": "a2490deaf9d24dedad9d3bbbb4b08b52"
            }
          },
          "metadata": {}
        },
        {
          "output_type": "display_data",
          "data": {
            "text/plain": [
              "Downloading /tmp/tmpyzl3lutb/t5-summarization-onnx/artifacts/t5_onnx/encoder_model.onnx:   0%|          | 0.00…"
            ],
            "application/vnd.jupyter.widget-view+json": {
              "version_major": 2,
              "version_minor": 0,
              "model_id": "1a778df7c8c848509ba0a7e8511ec603"
            }
          },
          "metadata": {}
        },
        {
          "output_type": "display_data",
          "data": {
            "text/plain": [
              "Downloading /tmp/tmpyzl3lutb/t5-summarization-onnx/artifacts/t5_onnx/decoder_with_past_model.onnx:   0%|      …"
            ],
            "application/vnd.jupyter.widget-view+json": {
              "version_major": 2,
              "version_minor": 0,
              "model_id": "860caa9acf4047ddb3002404409c42cb"
            }
          },
          "metadata": {}
        },
        {
          "output_type": "display_data",
          "data": {
            "text/plain": [
              "Downloading /tmp/tmpyzl3lutb/t5-summarization-onnx/artifacts/t5_onnx/decoder_model.onnx:   0%|          | 0.00…"
            ],
            "application/vnd.jupyter.widget-view+json": {
              "version_major": 2,
              "version_minor": 0,
              "model_id": "91eaf07a7c184adea8b312a49d1645b5"
            }
          },
          "metadata": {}
        },
        {
          "output_type": "stream",
          "name": "stderr",
          "text": [
            "WARNING:urllib3.connectionpool:Connection pool is full, discarding connection: dbstoragehxvzfnone7t6e.dfs.core.windows.net. Connection pool size: 10\n",
            "WARNING:urllib3.connectionpool:Connection pool is full, discarding connection: dbstoragehxvzfnone7t6e.dfs.core.windows.net. Connection pool size: 10\n"
          ]
        }
      ]
    },
    {
      "cell_type": "code",
      "source": [
        "loaded_model"
      ],
      "metadata": {
        "colab": {
          "base_uri": "https://localhost:8080/"
        },
        "id": "Xy9Zm0RHpb15",
        "outputId": "8e509646-008a-4211-ffa3-a2bf1b68bcff"
      },
      "execution_count": 51,
      "outputs": [
        {
          "output_type": "execute_result",
          "data": {
            "text/plain": [
              "mlflow.pyfunc.loaded_model:\n",
              "  artifact_path: t5-summarization-onnx\n",
              "  flavor: mlflow.pyfunc.model\n",
              "  run_id: 5d0cd4d808274213a6084432148830d7"
            ]
          },
          "metadata": {},
          "execution_count": 51
        }
      ]
    },
    {
      "cell_type": "code",
      "source": [
        "test1= dataset['test'][100]['document']"
      ],
      "metadata": {
        "id": "_HwIpZRlBie3"
      },
      "execution_count": 52,
      "outputs": []
    },
    {
      "cell_type": "code",
      "source": [
        "\n",
        "time1=  datetime.datetime.now()\n",
        "response = loaded_model.predict(pd.DataFrame(\n",
        "    {\"prompt\": [test1]}), params={\"temperature\": 0.8, \"max_tokens\": 128}\n",
        ")\n",
        "time2=  datetime.datetime.now()\n",
        "print(time2-time1)"
      ],
      "metadata": {
        "colab": {
          "base_uri": "https://localhost:8080/"
        },
        "id": "Kx_SXW-ppzfr",
        "outputId": "a2b9075b-6c00-4a10-9312-3be3efb3047e"
      },
      "execution_count": 54,
      "outputs": [
        {
          "output_type": "stream",
          "name": "stdout",
          "text": [
            "0:01:36.894611\n"
          ]
        }
      ]
    },
    {
      "cell_type": "code",
      "source": [
        "\n",
        "pprint.pprint(response['candidates'][0])"
      ],
      "metadata": {
        "colab": {
          "base_uri": "https://localhost:8080/"
        },
        "id": "1aaqfk4VpzXF",
        "outputId": "191721b4-9b49-4300-e286-af6e698e2087"
      },
      "execution_count": 55,
      "outputs": [
        {
          "output_type": "stream",
          "name": "stdout",
          "text": [
            "(\"0:58 KC's worst floods 1:54 KC floods: a history of the city Pause 1:55 KC \"\n",
            " 'Floods: A history of KC 1:56 KC firefighter dies after being raped Pause '\n",
            " '2:07 KC Firefighter killed in flood Pause 3:00 KC Police chief: \"It\\'s just '\n",
            " 'hard,\" says Kara Kopetsky\\'s mother. \"I don\\'t think I could get through '\n",
            " 'this without them and my family and friends,\" says. \"The Missouri State '\n",
            " 'Highway Patrol has closed the area. The area')\n"
          ]
        }
      ]
    },
    {
      "cell_type": "markdown",
      "source": [
        "# Optimum Optimize 2\n",
        "optimum-cli export onnx --model ./t5-finetuned --for-ort --optimize O2 --task seq2seq-lm-with-past t5_onnx_2/\n"
      ],
      "metadata": {
        "id": "oqwEDWCitz59"
      }
    },
    {
      "cell_type": "code",
      "source": [
        "model2 = ORTModelForSeq2SeqLM.from_pretrained(\"/content/drive/MyDrive/MODELS/t5_onnx_2\")"
      ],
      "metadata": {
        "id": "uDnBrcn0pycD"
      },
      "execution_count": 56,
      "outputs": []
    },
    {
      "cell_type": "code",
      "source": [
        "tokenizer.save_pretrained(\"/content/drive/MyDrive/MODELS/t5_onnx_2\")"
      ],
      "metadata": {
        "colab": {
          "base_uri": "https://localhost:8080/"
        },
        "id": "K27NF9ddvbi7",
        "outputId": "05c8775a-a07c-42b6-ee42-304e44fe73d1"
      },
      "execution_count": 57,
      "outputs": [
        {
          "output_type": "execute_result",
          "data": {
            "text/plain": [
              "('/content/drive/MyDrive/MODELS/t5_onnx_2/tokenizer_config.json',\n",
              " '/content/drive/MyDrive/MODELS/t5_onnx_2/special_tokens_map.json',\n",
              " '/content/drive/MyDrive/MODELS/t5_onnx_2/spiece.model',\n",
              " '/content/drive/MyDrive/MODELS/t5_onnx_2/added_tokens.json',\n",
              " '/content/drive/MyDrive/MODELS/t5_onnx_2/tokenizer.json')"
            ]
          },
          "metadata": {},
          "execution_count": 57
        }
      ]
    },
    {
      "cell_type": "code",
      "source": [
        "pipe2 = pipeline(summarization_components['task'], model=model2, tokenizer=tokenizer)\n",
        "result2 = pipe2(dataset['validation'][100]['document'])"
      ],
      "metadata": {
        "id": "uDHupUg0t5Mp"
      },
      "execution_count": 58,
      "outputs": []
    },
    {
      "cell_type": "code",
      "source": [
        "pprint.pprint(result2[0]['summary_text'])"
      ],
      "metadata": {
        "colab": {
          "base_uri": "https://localhost:8080/"
        },
        "id": "C3Z3rh4zt5HT",
        "outputId": "ac3d3f47-ba1a-4156-e397-8ddd5df619dc"
      },
      "execution_count": 59,
      "outputs": [
        {
          "output_type": "stream",
          "name": "stdout",
          "text": [
            "('||| The U.S. dollar rose to a six-month high against the euro, while the '\n",
            " '10-year Treasury yield TMUBMUSD10Y, +0.00% , used to determine rates on '\n",
            " 'consumer loans, fell to an all-time low. ||| || The Dow Jones Industrial '\n",
            " 'Average and the Nasdaq Composite fell on Friday, as investors fretted that '\n",
            " 'the eurozone’s debt crisis is escalating. The Dow lost 303 points, or 2.7%, '\n",
            " 'to 10,992.13, down 2.6% . The ECB, if Greece fails to meet the')\n"
          ]
        }
      ]
    },
    {
      "cell_type": "code",
      "source": [
        "# Start an MLflow run context and log the PHi3 model wrapper along with the param-included signature to\n",
        "# allow for overriding parameters at inference time\n",
        "now = datetime.datetime.now()\n",
        "\n",
        "description= \"\"\"Fine Tuned T5-Large Model converted to ONNX with optimum-cli . Optimization type O2\n",
        "command :\n",
        "optimum-cli export onnx --model ./t5-finetuned --for-ort --optimize O2 --task seq2seq-lm-with-past t5_onnx_2/\n",
        "\"\"\"\n",
        "with mlflow.start_run(run_name=f\"convert_to_onnx_{now.strftime('%Y-%m-%d_%H:%M:%S')}\", description=description) as run:\n",
        "    model_info = mlflow.pyfunc.log_model(\n",
        "        \"t5-summarization-onnx\",\n",
        "        python_model=ONNXModelForSeq2SeqLM(),\n",
        "        # NOTE: the artifacts dictionary mapping is critical! This dict is used by the load_context() method in our PHi3() class.\n",
        "        artifacts={\"snapshot\": \"/content/drive/MyDrive/MODELS/t5_onnx_2\"},\n",
        "\n",
        "        pip_requirements=[\n",
        "            f\"torch=={torch_version}\",\n",
        "            f\"transformers=={transformers.__version__}\",\n",
        "             \"onnxruntime\",\n",
        "             \"optimum[onnxruntime]\",\n",
        "\n",
        "        ],\n",
        "        input_example=input_example,\n",
        "        signature=signature,\n",
        "    )"
      ],
      "metadata": {
        "colab": {
          "base_uri": "https://localhost:8080/",
          "height": 541,
          "referenced_widgets": [
            "e1623663f3e4493992add57d737d7e0c",
            "6dee59fe8bb144ef855062a8913e17f3",
            "8c586c97437b4f03aff54585ffd388c9",
            "7e582d67d9a7458db2f794b4281ab1b9",
            "55ff64d8fb2849fa8088c1643949f529",
            "24c067ff73b14b7aaf3473adb9c94d7e",
            "dda676bf34c24b3da5036ac1299c3d57",
            "419ed717212a413f9a13317a62353c9a",
            "174222834e1143f8aa778f63d1017a1c",
            "4e6ad494be7c49269502aba2024d0fcd",
            "1f808ecdf0af485eb951088a3ffb295e",
            "3345da0320a5464d8471afb96660c17b",
            "edf42a14cbab4060bda237c0dabf81f7",
            "8737b51bfc844cbe9652e494e706e721",
            "cb0adec5c8684dfb943b769a49ba2a2c",
            "e3325eec128c4e2685285108dfc3687d",
            "1d4799345bf845a3a1cc18541561d64c",
            "a4050d5c4ebd4ae3857ea2fc99eb1b2a",
            "dd9773e818e549389b2fd620bdb8f6bf",
            "6ca5f580322f426aa982c349d8c9ce4d",
            "ef80a091a0764e56a8a83de06e10dafb",
            "681a5ea6dab14f94b15df67dee0ad3ce",
            "f86870767a254aca9c66708e08a95df2",
            "eb92067a880e494b9dbe39489ea79c74",
            "760c3fd6efed4d58a07420cfab17e425",
            "0c2132634f8d4f87a8389220ca4c7cc3",
            "1c5dc238f8544a03aa3319f6371e2666",
            "889f06602ac94c229a78a08aa3e70642",
            "494bf5fdbb2e480cbaab4604345ff864",
            "cbbb67279b104e87ab305286a9deeac2",
            "09790234a898430a8f50ad8a57d43f44",
            "064af531cda3447e81f105820a6a7021",
            "bf4090c0d0b94d0485550231948229ad",
            "bb14d1fa4efc4ea0a49e1e464b453eee",
            "d6ba0615517341b48b8d55d281375706",
            "6dc63de504c0450b9d544a0a080f4703",
            "542f04427bf44e869bcff8ae3baa7146",
            "0c9c03ed13f3431bae03390b7b4670ee",
            "b40346d0032f4b40be53d0677af03283",
            "dfdc66fa23894ad4bd6ba1d837e61ac4",
            "73d1676167934f219ad833618c6f2213",
            "1f5c23a051cc48ecb60dc8d4e10591df",
            "55960cdbf5c24700a4a92fe4f4357b6e",
            "d90817ffb7644c51b904380d0766ee02",
            "fa7c909e501c499aaa479715dab6aa3c",
            "d4d54d544f6a44cd8805ac07945d71e5",
            "a45822696193414cafdeafa11f0e6fb8",
            "b1e8cffcf7ce4ae09cd5226d9d0f4d9b",
            "6be31e2274d04553b70548b212246512",
            "919cbb1503de405aaa5fb381462573bb",
            "2fd02f2ce34f4eb5a861b8bf1d6762ba",
            "9fec17ae222f4cdb8dd85e4d59486e71",
            "dfd3a4fe31d743b588e3b96d8f71d451",
            "00db2825f69e43d9b771f33e2116b129",
            "1d120918442e4f08a6536cc7520658b8",
            "acf139d13e4043cd8c21b1aefeeba00f",
            "4c1f14219ced410c81e6c1f6cd067f83",
            "3d52d311f94248faa83176128ea51601",
            "8372c03b3d764502a01c8673040a2853",
            "7e78b21dc7b2413a9b94d8053ce8dd02",
            "d16abcb4fe81437d8d38be913a1dab40",
            "9d66145901ad49469b5971d2e3df433c",
            "fb780de5be424d7db52e3f1e2f19f347",
            "af8d9057993e471ea837e8606d23f3b4",
            "1ff538801cf341b4b3f9600fc62d866d",
            "e54d6b5c7fff4be08172998964a028ca"
          ]
        },
        "id": "WrSiyKbBt4-b",
        "outputId": "9a7ce04c-3f45-4544-989a-196c413376e1"
      },
      "execution_count": 60,
      "outputs": [
        {
          "output_type": "display_data",
          "data": {
            "text/plain": [
              "Downloading artifacts:   0%|          | 0/11 [00:00<?, ?it/s]"
            ],
            "application/vnd.jupyter.widget-view+json": {
              "version_major": 2,
              "version_minor": 0,
              "model_id": "e1623663f3e4493992add57d737d7e0c"
            }
          },
          "metadata": {
            "application/vnd.jupyter.widget-view+json": {
              "colab": {
                "custom_widget_manager": {
                  "url": "https://ssl.gstatic.com/colaboratory-static/widgets/colab-cdn-widget-manager/2b70e893a8ba7c0f/manager.min.js"
                }
              }
            }
          }
        },
        {
          "output_type": "display_data",
          "data": {
            "text/plain": [
              "Uploading artifacts:   0%|          | 0/18 [00:00<?, ?it/s]"
            ],
            "application/vnd.jupyter.widget-view+json": {
              "version_major": 2,
              "version_minor": 0,
              "model_id": "681a5ea6dab14f94b15df67dee0ad3ce"
            }
          },
          "metadata": {
            "application/vnd.jupyter.widget-view+json": {
              "colab": {
                "custom_widget_manager": {
                  "url": "https://ssl.gstatic.com/colaboratory-static/widgets/colab-cdn-widget-manager/2b70e893a8ba7c0f/manager.min.js"
                }
              }
            }
          }
        },
        {
          "output_type": "display_data",
          "data": {
            "text/plain": [
              "Uploading /tmp/tmp9e_7mz99/model/artifacts/t5_onnx_2/encoder_model.onnx:   0%|          | 0.00/1.25G [00:00<?,…"
            ],
            "application/vnd.jupyter.widget-view+json": {
              "version_major": 2,
              "version_minor": 0,
              "model_id": "bf4090c0d0b94d0485550231948229ad"
            }
          },
          "metadata": {}
        },
        {
          "output_type": "display_data",
          "data": {
            "text/plain": [
              "Uploading /tmp/tmp9e_7mz99/model/artifacts/t5_onnx_2/decoder_model.onnx:   0%|          | 0.00/1.62G [00:00<?,…"
            ],
            "application/vnd.jupyter.widget-view+json": {
              "version_major": 2,
              "version_minor": 0,
              "model_id": "bb14d1fa4efc4ea0a49e1e464b453eee"
            }
          },
          "metadata": {}
        },
        {
          "output_type": "display_data",
          "data": {
            "text/plain": [
              "Uploading /tmp/tmp9e_7mz99/model/artifacts/t5_onnx_2/decoder_with_past_model.onnx:   0%|          | 0.00/1.44G…"
            ],
            "application/vnd.jupyter.widget-view+json": {
              "version_major": 2,
              "version_minor": 0,
              "model_id": "fa7c909e501c499aaa479715dab6aa3c"
            }
          },
          "metadata": {}
        },
        {
          "output_type": "display_data",
          "data": {
            "text/plain": [
              "Uploading /tmp/tmp9e_7mz99/model/artifacts/t5_onnx_2/decoder_model_merged.onnx:   0%|          | 0.00/1.62G [0…"
            ],
            "application/vnd.jupyter.widget-view+json": {
              "version_major": 2,
              "version_minor": 0,
              "model_id": "acf139d13e4043cd8c21b1aefeeba00f"
            }
          },
          "metadata": {}
        },
        {
          "output_type": "stream",
          "name": "stderr",
          "text": [
            "WARNING:urllib3.connectionpool:Connection pool is full, discarding connection: dbstoragehxvzfnone7t6e.dfs.core.windows.net. Connection pool size: 10\n",
            "WARNING:urllib3.connectionpool:Connection pool is full, discarding connection: dbstoragehxvzfnone7t6e.dfs.core.windows.net. Connection pool size: 10\n",
            "WARNING:urllib3.connectionpool:Connection pool is full, discarding connection: dbstoragehxvzfnone7t6e.dfs.core.windows.net. Connection pool size: 10\n",
            "WARNING:urllib3.connectionpool:Connection pool is full, discarding connection: dbstoragehxvzfnone7t6e.dfs.core.windows.net. Connection pool size: 10\n",
            "WARNING:urllib3.connectionpool:Connection pool is full, discarding connection: dbstoragehxvzfnone7t6e.dfs.core.windows.net. Connection pool size: 10\n",
            "WARNING:urllib3.connectionpool:Connection pool is full, discarding connection: dbstoragehxvzfnone7t6e.dfs.core.windows.net. Connection pool size: 10\n",
            "WARNING:urllib3.connectionpool:Connection pool is full, discarding connection: dbstoragehxvzfnone7t6e.dfs.core.windows.net. Connection pool size: 10\n",
            "WARNING:urllib3.connectionpool:Connection pool is full, discarding connection: dbstoragehxvzfnone7t6e.dfs.core.windows.net. Connection pool size: 10\n",
            "WARNING:urllib3.connectionpool:Connection pool is full, discarding connection: dbstoragehxvzfnone7t6e.dfs.core.windows.net. Connection pool size: 10\n",
            "WARNING:urllib3.connectionpool:Connection pool is full, discarding connection: dbstoragehxvzfnone7t6e.dfs.core.windows.net. Connection pool size: 10\n",
            "WARNING:urllib3.connectionpool:Connection pool is full, discarding connection: dbstoragehxvzfnone7t6e.dfs.core.windows.net. Connection pool size: 10\n",
            "WARNING:urllib3.connectionpool:Connection pool is full, discarding connection: dbstoragehxvzfnone7t6e.dfs.core.windows.net. Connection pool size: 10\n",
            "WARNING:urllib3.connectionpool:Connection pool is full, discarding connection: dbstoragehxvzfnone7t6e.dfs.core.windows.net. Connection pool size: 10\n",
            "WARNING:urllib3.connectionpool:Connection pool is full, discarding connection: dbstoragehxvzfnone7t6e.dfs.core.windows.net. Connection pool size: 10\n",
            "WARNING:urllib3.connectionpool:Connection pool is full, discarding connection: dbstoragehxvzfnone7t6e.dfs.core.windows.net. Connection pool size: 10\n",
            "WARNING:urllib3.connectionpool:Connection pool is full, discarding connection: dbstoragehxvzfnone7t6e.dfs.core.windows.net. Connection pool size: 10\n"
          ]
        },
        {
          "output_type": "stream",
          "name": "stdout",
          "text": [
            "🏃 View run convert_to_onnx_2024-11-23_11:32:08 at: https://adb-2467347032368999.19.azuredatabricks.net/ml/experiments/596711047134159/runs/d7f4fb8d043c453a87bae44378973ced\n",
            "🧪 View experiment at: https://adb-2467347032368999.19.azuredatabricks.net/ml/experiments/596711047134159\n"
          ]
        }
      ]
    },
    {
      "cell_type": "code",
      "source": [
        "del pipe\n",
        "del model\n",
        "del model2\n",
        "del pipe2"
      ],
      "metadata": {
        "id": "56KLWoc_t4zX"
      },
      "execution_count": 61,
      "outputs": []
    },
    {
      "cell_type": "code",
      "source": [
        "run.to_dictionary()"
      ],
      "metadata": {
        "colab": {
          "base_uri": "https://localhost:8080/"
        },
        "id": "Xbz2T-rCwxW4",
        "outputId": "53adcb5a-1275-4947-e9a7-3b909d8094f9"
      },
      "execution_count": 62,
      "outputs": [
        {
          "output_type": "execute_result",
          "data": {
            "text/plain": [
              "{'info': {'artifact_uri': 'dbfs:/databricks/mlflow-tracking/596711047134159/d7f4fb8d043c453a87bae44378973ced/artifacts',\n",
              "  'end_time': None,\n",
              "  'experiment_id': '596711047134159',\n",
              "  'lifecycle_stage': 'active',\n",
              "  'run_id': 'd7f4fb8d043c453a87bae44378973ced',\n",
              "  'run_name': 'convert_to_onnx_2024-11-23_11:32:08',\n",
              "  'run_uuid': 'd7f4fb8d043c453a87bae44378973ced',\n",
              "  'start_time': 1732361528746,\n",
              "  'status': 'RUNNING',\n",
              "  'user_id': ''},\n",
              " 'data': {'metrics': {},\n",
              "  'params': {},\n",
              "  'tags': {'mlflow.note.content': 'Fine Tuned T5-Large Model converted to ONNX with optimum-cli . Optimization type O2\\ncommand :\\noptimum-cli export onnx --model ./t5-finetuned --for-ort --optimize O2 --task seq2seq-lm-with-past t5_onnx_2/\\n',\n",
              "   'mlflow.runColor': '#f0b899',\n",
              "   'mlflow.runName': 'convert_to_onnx_2024-11-23_11:32:08',\n",
              "   'mlflow.source.name': '/usr/local/lib/python3.10/dist-packages/colab_kernel_launcher.py',\n",
              "   'mlflow.source.type': 'LOCAL',\n",
              "   'mlflow.user': '1331640755799986'}}}"
            ]
          },
          "metadata": {},
          "execution_count": 62
        }
      ]
    },
    {
      "cell_type": "code",
      "source": [
        "model_info.model_uri # runs:/b11f3045f8984a75a6bd4f84b16a2373/t5-summarization-onnx"
      ],
      "metadata": {
        "colab": {
          "base_uri": "https://localhost:8080/",
          "height": 35
        },
        "id": "4WFP9gVBwxT0",
        "outputId": "4ca91798-f9a7-4b55-f0f8-9d9ae83752d4"
      },
      "execution_count": 63,
      "outputs": [
        {
          "output_type": "execute_result",
          "data": {
            "text/plain": [
              "'runs:/d7f4fb8d043c453a87bae44378973ced/t5-summarization-onnx'"
            ],
            "application/vnd.google.colaboratory.intrinsic+json": {
              "type": "string"
            }
          },
          "metadata": {},
          "execution_count": 63
        }
      ]
    },
    {
      "cell_type": "code",
      "source": [
        "model_uri = \"runs:/b11f3045f8984a75a6bd4f84b16a2373/t5-summarization-onnx\""
      ],
      "metadata": {
        "id": "K1RYKuKe7s-V"
      },
      "execution_count": 64,
      "outputs": []
    },
    {
      "cell_type": "code",
      "source": [
        "loaded_model = mlflow.pyfunc.load_model(model_uri)"
      ],
      "metadata": {
        "colab": {
          "base_uri": "https://localhost:8080/",
          "height": 229,
          "referenced_widgets": [
            "1418f72ee9e44c9da053458ecac4a535",
            "2656e3f4ac814b798feb79edf430c636",
            "63830cf67a94476b9da01b8a743b2736",
            "9292a61c76f2405799be1f45a28d0ac5",
            "62204c40b3964cf085e61afbb0fe2310",
            "6b4adae386f54524bba48f75b6c516d1",
            "1df2c7e54cfa4e6bb03d9f34b89f98c7",
            "093e291e3e2e44828ce83d40d81508d2",
            "5686526d8eb34c919a9c231ef3611d21",
            "7be36a16fd8742e58f990a88b9d174e9",
            "d6a5a93db35b414ca1c8b30b9ffaf09a",
            "3ceb43a04be941d1a6926c5dd5efb51b",
            "9e01d466f0824483927a895aabc9b62c",
            "4352e1b4630f445ea4e38470da70aad1",
            "f072a465093949bcb3e93bfddb0a2d55",
            "8ed28b8f0aff4cd1825a92b8cb66ec60",
            "718be46ec9b547e89e6120f767d7527f",
            "ef81c5242e434485a66ad3476bce6984",
            "f2d25452cb03412aa430f00a1f327052",
            "c5cf2affd88b4a05ae8cbefd6d41d811",
            "1f7fb966b90c4d19b0796e6390bbd02c",
            "6e3455ffca80419689c2a4f36e702fa7",
            "f40f31a76844465e9faec94468b9831b",
            "532d2a01459f4b188ca9b2128a6473b9",
            "ef6ea3d4c0854494b567a9edc9fdb624",
            "f79e1734d3684410b14745fd18ff11a4",
            "be2d95424c2b4f00b032495aa065519f",
            "03ea8a7cc8cf4c1a8569785fbb91c957",
            "5af1af208d414622994566ea4d3499e0",
            "1a077997970f4007aa2cf7fe5ff4bec6",
            "ee8bd12574e34ded80d917ba1d0a2056",
            "58116964a8ff4de695434a408b0fd607",
            "8e53831d7a95472eaa9fd091f173f58c",
            "0000d48f14bc43a7a426ab38da31130c",
            "f46dc96e0bcf4c188c09d41568b2ec26",
            "f85ab61745f049e7bb4f7ea1e9871011",
            "da1639d15a454087a63a839175844cdd",
            "939cbba39bbf4b87abd4e2fb910b3739",
            "c2e627f76c6a4ad6a6e00f35172f5650",
            "44da6c9454ea468384c84cb03705519a",
            "cdfef5e01bac453ba22ecf95eac0a6f2",
            "60f86b5107bb416d8ad7cfa2ed48bf6c",
            "a586a60e6903469dbf102bcee4a5fc8a",
            "e96729e00bd34b1c8438d135aa28a806",
            "89d53e2709724ec988b4f60f0c536a6b",
            "244cdc4d8362471fbda88696abb356a9",
            "77f3adb02b6e465a8c30895ae21345a2",
            "196ceb8d2bc9482a9bf77523a3385728",
            "0acaa44b9c004b17b90a6033cf3f1be0",
            "11c1b4adb8c846eb904cf6fe8e495101",
            "d95f65131771481599206c8f7e6ce3fe",
            "173dcc586bee47edad928833b94434c9",
            "7546c5a7db254c5e86eb418fd0e4123d",
            "25be02207c8947ae956141a2fff64be0",
            "acb8e2681f0c4bd8bef5ab731db11ca4"
          ]
        },
        "id": "sLh8eK8Iw8ER",
        "outputId": "cbdf2fcc-0cd2-4346-c091-cf4a1f1da264"
      },
      "execution_count": 65,
      "outputs": [
        {
          "output_type": "display_data",
          "data": {
            "text/plain": [
              "Downloading artifacts:   0%|          | 0/18 [00:00<?, ?it/s]"
            ],
            "application/vnd.jupyter.widget-view+json": {
              "version_major": 2,
              "version_minor": 0,
              "model_id": "1418f72ee9e44c9da053458ecac4a535"
            }
          },
          "metadata": {
            "application/vnd.jupyter.widget-view+json": {
              "colab": {
                "custom_widget_manager": {
                  "url": "https://ssl.gstatic.com/colaboratory-static/widgets/colab-cdn-widget-manager/2b70e893a8ba7c0f/manager.min.js"
                }
              }
            }
          }
        },
        {
          "output_type": "display_data",
          "data": {
            "text/plain": [
              "Downloading /tmp/tmpo50l4w26/t5-summarization-onnx/artifacts/t5_onnx_2/decoder_model.onnx:   0%|          | 0.…"
            ],
            "application/vnd.jupyter.widget-view+json": {
              "version_major": 2,
              "version_minor": 0,
              "model_id": "173dcc586bee47edad928833b94434c9"
            }
          },
          "metadata": {}
        },
        {
          "output_type": "display_data",
          "data": {
            "text/plain": [
              "Downloading /tmp/tmpo50l4w26/t5-summarization-onnx/artifacts/t5_onnx_2/encoder_model.onnx:   0%|          | 0.…"
            ],
            "application/vnd.jupyter.widget-view+json": {
              "version_major": 2,
              "version_minor": 0,
              "model_id": "7546c5a7db254c5e86eb418fd0e4123d"
            }
          },
          "metadata": {}
        },
        {
          "output_type": "display_data",
          "data": {
            "text/plain": [
              "Downloading /tmp/tmpo50l4w26/t5-summarization-onnx/artifacts/t5_onnx_2/decoder_with_past_model.onnx:   0%|    …"
            ],
            "application/vnd.jupyter.widget-view+json": {
              "version_major": 2,
              "version_minor": 0,
              "model_id": "25be02207c8947ae956141a2fff64be0"
            }
          },
          "metadata": {}
        },
        {
          "output_type": "display_data",
          "data": {
            "text/plain": [
              "Downloading /tmp/tmpo50l4w26/t5-summarization-onnx/artifacts/t5_onnx_2/decoder_model_merged.onnx:   0%|       …"
            ],
            "application/vnd.jupyter.widget-view+json": {
              "version_major": 2,
              "version_minor": 0,
              "model_id": "acb8e2681f0c4bd8bef5ab731db11ca4"
            }
          },
          "metadata": {}
        },
        {
          "output_type": "stream",
          "name": "stderr",
          "text": [
            "WARNING:urllib3.connectionpool:Connection pool is full, discarding connection: dbstoragehxvzfnone7t6e.dfs.core.windows.net. Connection pool size: 10\n",
            "WARNING:urllib3.connectionpool:Connection pool is full, discarding connection: dbstoragehxvzfnone7t6e.dfs.core.windows.net. Connection pool size: 10\n",
            "WARNING:urllib3.connectionpool:Connection pool is full, discarding connection: dbstoragehxvzfnone7t6e.dfs.core.windows.net. Connection pool size: 10\n"
          ]
        }
      ]
    },
    {
      "cell_type": "code",
      "source": [
        "test1= dataset['test'][100]['document']"
      ],
      "metadata": {
        "id": "j42a8h2p6c3t"
      },
      "execution_count": 66,
      "outputs": []
    },
    {
      "cell_type": "code",
      "source": [
        "time1=  datetime.datetime.now()\n",
        "response = loaded_model.predict(pd.DataFrame(\n",
        "    {\"prompt\": [test1]}), params={\"temperature\": 0.8, \"max_tokens\": 128}\n",
        ")\n",
        "time2=  datetime.datetime.now()\n",
        "print(time2-time1)\n"
      ],
      "metadata": {
        "colab": {
          "base_uri": "https://localhost:8080/"
        },
        "id": "_-zQGOHlw75S",
        "outputId": "de74c62b-b4b1-4f7f-a40a-b10ca1934d99"
      },
      "execution_count": 67,
      "outputs": [
        {
          "output_type": "stream",
          "name": "stdout",
          "text": [
            "0:01:37.851428\n"
          ]
        }
      ]
    },
    {
      "cell_type": "code",
      "source": [
        "pprint.pprint(response['candidates'][0])"
      ],
      "metadata": {
        "colab": {
          "base_uri": "https://localhost:8080/"
        },
        "id": "npX8yMXCw7kK",
        "outputId": "3d8d51c9-8861-4c86-c53b-536339e8286d"
      },
      "execution_count": 68,
      "outputs": [
        {
          "output_type": "stream",
          "name": "stdout",
          "text": [
            "(\"0:58 KC's worst floods 1:54 KC floods: a history of the city Pause 1:55 KC \"\n",
            " 'Floods: A history of KC 1:56 KC firefighter dies after being raped Pause '\n",
            " '2:07 KC Firefighter killed in flood Pause 3:00 KC Police chief: \"It\\'s just '\n",
            " 'hard,\" says Kara Kopetsky\\'s mother. \"I don\\'t think I could get through '\n",
            " 'this without them and my family and friends,\" says. \"The Missouri State '\n",
            " 'Highway Patrol has closed the area. The area')\n"
          ]
        }
      ]
    },
    {
      "cell_type": "markdown",
      "source": [
        "# Quantization\n",
        "\n",
        "https://huggingface.co/docs/optimum/main/en/onnxruntime/package_reference/quantization#optimum.onnxruntime.ORTQuantizer\n"
      ],
      "metadata": {
        "id": "tteaCtqky6V6"
      }
    },
    {
      "cell_type": "code",
      "source": [
        "from functools import partial\n",
        "from transformers import AutoTokenizer\n",
        "from optimum.onnxruntime import ORTQuantizer, ORTModelForSeq2SeqLM\n",
        "from optimum.onnxruntime.configuration import AutoQuantizationConfig, AutoCalibrationConfig\n",
        "\n"
      ],
      "metadata": {
        "id": "gui241TR1Dn7"
      },
      "execution_count": 2,
      "outputs": []
    },
    {
      "cell_type": "code",
      "source": [
        "onnx_model  = ORTModelForSeq2SeqLM.from_pretrained(\"/content/drive/MyDrive/MODELS/t5_onnx\")\n",
        "model_dir = onnx_model.model_save_dir"
      ],
      "metadata": {
        "id": "we_5aJjw0ggw"
      },
      "execution_count": 8,
      "outputs": []
    },
    {
      "cell_type": "code",
      "source": [
        "tokenizer = AutoTokenizer.from_pretrained(\"/content/drive/MyDrive/MODELS/t5_onnx\")"
      ],
      "metadata": {
        "id": "l0zsto6j1Lq9"
      },
      "execution_count": 9,
      "outputs": []
    },
    {
      "cell_type": "code",
      "source": [
        "encoder_quantizer = ORTQuantizer.from_pretrained(model_dir, file_name=\"encoder_model.onnx\")\n",
        "\n",
        "decoder_quantizer = ORTQuantizer.from_pretrained(model_dir, file_name=\"decoder_model.onnx\")\n",
        "\n",
        "decoder_wp_quantizer = ORTQuantizer.from_pretrained(model_dir, file_name=\"decoder_with_past_model.onnx\")\n",
        "\n",
        "quantizer = [encoder_quantizer, decoder_quantizer, decoder_wp_quantizer]"
      ],
      "metadata": {
        "id": "8l2YQjGz1VWj"
      },
      "execution_count": 11,
      "outputs": []
    },
    {
      "cell_type": "code",
      "source": [
        "q_folder = \"/content/drive/MyDrive/MODELS/t5_onnx_quantized\""
      ],
      "metadata": {
        "id": "GqE4oVVs3VUb"
      },
      "execution_count": 12,
      "outputs": []
    },
    {
      "cell_type": "code",
      "source": [
        "dqconfig = AutoQuantizationConfig.avx512_vnni(is_static=False, per_channel=False)\n",
        "\n",
        "for q in quantizer:\n",
        "    q.quantize(save_dir=q_folder,quantization_config=dqconfig)  # doctest: +IGNORE_RESULT\n",
        "\n"
      ],
      "metadata": {
        "id": "zl4Gw1a63VHS"
      },
      "execution_count": 13,
      "outputs": []
    },
    {
      "cell_type": "code",
      "source": [
        "dqconfig"
      ],
      "metadata": {
        "colab": {
          "base_uri": "https://localhost:8080/"
        },
        "id": "F6-mMvzZ7a_q",
        "outputId": "4531833e-82b3-496e-e4e1-1904078c4457"
      },
      "execution_count": 46,
      "outputs": [
        {
          "output_type": "execute_result",
          "data": {
            "text/plain": [
              "QuantizationConfig(is_static=False, format=<QuantFormat.QOperator: 0>, mode=<QuantizationMode.IntegerOps: 0>, activations_dtype=<QuantType.QUInt8: 1>, activations_symmetric=False, weights_dtype=<QuantType.QInt8: 0>, weights_symmetric=True, per_channel=False, reduce_range=False, nodes_to_quantize=[], nodes_to_exclude=[], operators_to_quantize=['Conv', 'MatMul', 'Attention', 'LSTM', 'Gather', 'Transpose', 'EmbedLayerNormalization'], qdq_add_pair_to_weight=False, qdq_dedicated_pair=False, qdq_op_type_per_channel_support_to_axis={'MatMul': 1})"
            ]
          },
          "metadata": {},
          "execution_count": 46
        }
      ]
    },
    {
      "cell_type": "markdown",
      "source": [
        "# save tokenizer"
      ],
      "metadata": {
        "id": "b4Xusjdv8HXH"
      }
    },
    {
      "cell_type": "code",
      "source": [
        "tokenizer.save_pretrained(q_folder)"
      ],
      "metadata": {
        "colab": {
          "base_uri": "https://localhost:8080/"
        },
        "id": "pLxK7pXE781V",
        "outputId": "a13c8d75-06dd-4718-feff-43b4f413740a"
      },
      "execution_count": 49,
      "outputs": [
        {
          "output_type": "execute_result",
          "data": {
            "text/plain": [
              "('/content/drive/MyDrive/MODELS/t5_onnx_quantized/tokenizer_config.json',\n",
              " '/content/drive/MyDrive/MODELS/t5_onnx_quantized/special_tokens_map.json',\n",
              " '/content/drive/MyDrive/MODELS/t5_onnx_quantized/spiece.model',\n",
              " '/content/drive/MyDrive/MODELS/t5_onnx_quantized/added_tokens.json',\n",
              " '/content/drive/MyDrive/MODELS/t5_onnx_quantized/tokenizer.json')"
            ]
          },
          "metadata": {},
          "execution_count": 49
        }
      ]
    },
    {
      "cell_type": "code",
      "source": [
        "model2 = ORTModelForSeq2SeqLM.from_pretrained(q_folder)"
      ],
      "metadata": {
        "id": "8UMzvY3j3U50"
      },
      "execution_count": 14,
      "outputs": []
    },
    {
      "cell_type": "code",
      "source": [
        "pipe3 = pipeline(\"summarization\", model=model2, tokenizer=tokenizer)\n",
        "result3 = pipe3(dataset['validation'][100]['document'])"
      ],
      "metadata": {
        "colab": {
          "base_uri": "https://localhost:8080/"
        },
        "id": "arWHfWkf46zJ",
        "outputId": "3268095a-1eb4-47da-d570-2286a9cadb1e"
      },
      "execution_count": 45,
      "outputs": [
        {
          "output_type": "stream",
          "name": "stderr",
          "text": [
            "Hardware accelerator e.g. GPU is available in the environment, but no `device` argument is passed to the `Pipeline` object. Model will be on CPU.\n"
          ]
        }
      ]
    },
    {
      "cell_type": "code",
      "source": [
        "pprint.pprint(result3[0]['summary_text'])"
      ],
      "metadata": {
        "colab": {
          "base_uri": "https://localhost:8080/"
        },
        "id": "wtcTCSbF7m8u",
        "outputId": "a7055e05-3b64-4b62-c024-b2b5afc384d1"
      },
      "execution_count": 48,
      "outputs": [
        {
          "output_type": "stream",
          "name": "stdout",
          "text": [
            "('. MarketWatch – U.S. stock indices fell on Friday on heightened concern '\n",
            " 'about Greece’s debt crisis. ||||||||||||||||||||. a week-ago close German.. '\n",
            " 'BAC and.. “ and more layoffs.s..... “It’s not something..')\n"
          ]
        }
      ]
    },
    {
      "cell_type": "code",
      "source": [
        "# Start an MLflow run context and log the PHi3 model wrapper along with the param-included signature to\n",
        "# allow for overriding parameters at inference time\n",
        "now = datetime.datetime.now()\n",
        "\n",
        "description= \"\"\"Fine Tuned T5-Large Model converted to ONNX with optimum-cli and quantized INT8\n",
        "command :\n",
        "```\n",
        "onnx_model  = ORTModelForSeq2SeqLM.from_pretrained(\"/content/drive/MyDrive/MODELS/t5_onnx\")\n",
        "model_dir = onnx_model.model_save_dir\n",
        "tokenizer = AutoTokenizer.from_pretrained(\"/content/drive/MyDrive/MODELS/t5_onnx\")\n",
        "\n",
        "encoder_quantizer = ORTQuantizer.from_pretrained(model_dir, file_name=\"encoder_model.onnx\")\n",
        "\n",
        "decoder_quantizer = ORTQuantizer.from_pretrained(model_dir, file_name=\"decoder_model.onnx\")\n",
        "\n",
        "decoder_wp_quantizer = ORTQuantizer.from_pretrained(model_dir, file_name=\"decoder_with_past_model.onnx\")\n",
        "\n",
        "quantizer = [encoder_quantizer, decoder_quantizer, decoder_wp_quantizer]\n",
        "\n",
        "q_folder = \"/content/drive/MyDrive/MODELS/t5_onnx_quantized\"\n",
        "\n",
        "dqconfig = AutoQuantizationConfig.avx512_vnni(is_static=False, per_channel=False)\n",
        "\n",
        "for q in quantizer:\n",
        "    q.quantize(save_dir=q_folder,quantization_config=dqconfig)\n",
        "```\n",
        "\n",
        "\"\"\"\n",
        "with mlflow.start_run(run_name=f\"convert_to_onnx_{now.strftime('%Y-%m-%d_%H:%M:%S')}\", description=description) as run:\n",
        "    model_info = mlflow.pyfunc.log_model(\n",
        "        \"t5-summarization-onnx\",\n",
        "        python_model=ONNXModelForSeq2SeqLM(),\n",
        "\n",
        "        artifacts={\"snapshot\": q_folder},\n",
        "\n",
        "        pip_requirements=[\n",
        "            f\"torch=={torch_version}\",\n",
        "            f\"transformers=={transformers.__version__}\",\n",
        "             \"onnxruntime\",\n",
        "             \"optimum[onnxruntime]\",\n",
        "\n",
        "        ],\n",
        "        input_example=input_example,\n",
        "        signature=signature,\n",
        "    )"
      ],
      "metadata": {
        "colab": {
          "base_uri": "https://localhost:8080/",
          "height": 327,
          "referenced_widgets": [
            "ec38043d00bf4f1693b50b07ac2cb78c",
            "b0a82d88b23a4804b11cd718c4d29d6e",
            "d73efbd05dd94f198a797738c4e0468c",
            "c07af3b09c8d4b87b76617f0378e7b26",
            "6c2fcdd14e0d4947b334d05e39cea27d",
            "bea059edf6424c7794c122deac347b90",
            "6acc0c255ea34ede9889190cc0a77e20",
            "114b63763a994ecaaf54716cdd83df4c",
            "6576579154044478a00df93af53735c4",
            "1c5311f828214068bf9c1fc4540a705b",
            "1c7af6639e7c44f999be1b46b296861e",
            "97c00a54e3474e6ba9b6ea6565aed401",
            "efb74eb614214d788977732a449f3e9c",
            "1c3ad3285dc44e168b7634a6e2abd665",
            "871c04556a6340b08078ab1bb5e4a649",
            "7587fbbd64bc4a4ab6e2c70b6c3f2298",
            "0ab370d223074a2fa1690edf51133682",
            "36fcdfdba1474b9683cd196b7db19efc",
            "6d94ad72983f493591119b0e598e298b",
            "03ffb8f2575145949118a5d0705a9b14",
            "9dadf2c371074e839092057078a82f05",
            "4d985c07be244a6283536dd280105861"
          ]
        },
        "id": "oa8_gEIA46vB",
        "outputId": "d3cf5932-da2a-4a81-e79c-8b67f20d3e5f"
      },
      "execution_count": 52,
      "outputs": [
        {
          "output_type": "display_data",
          "data": {
            "text/plain": [
              "Downloading artifacts:   0%|          | 0/9 [00:00<?, ?it/s]"
            ],
            "application/vnd.jupyter.widget-view+json": {
              "version_major": 2,
              "version_minor": 0,
              "model_id": "ec38043d00bf4f1693b50b07ac2cb78c"
            }
          },
          "metadata": {
            "application/vnd.jupyter.widget-view+json": {
              "colab": {
                "custom_widget_manager": {
                  "url": "https://ssl.gstatic.com/colaboratory-static/widgets/colab-cdn-widget-manager/2b70e893a8ba7c0f/manager.min.js"
                }
              }
            }
          }
        },
        {
          "output_type": "stream",
          "name": "stderr",
          "text": [
            "Hardware accelerator e.g. GPU is available in the environment, but no `device` argument is passed to the `Pipeline` object. Model will be on CPU.\n"
          ]
        },
        {
          "output_type": "display_data",
          "data": {
            "text/plain": [
              "Uploading artifacts:   0%|          | 0/16 [00:00<?, ?it/s]"
            ],
            "application/vnd.jupyter.widget-view+json": {
              "version_major": 2,
              "version_minor": 0,
              "model_id": "4d985c07be244a6283536dd280105861"
            }
          },
          "metadata": {
            "application/vnd.jupyter.widget-view+json": {
              "colab": {
                "custom_widget_manager": {
                  "url": "https://ssl.gstatic.com/colaboratory-static/widgets/colab-cdn-widget-manager/2b70e893a8ba7c0f/manager.min.js"
                }
              }
            }
          }
        },
        {
          "output_type": "stream",
          "name": "stderr",
          "text": [
            "WARNING:urllib3.connectionpool:Connection pool is full, discarding connection: dbstoragehxvzfnone7t6e.dfs.core.windows.net. Connection pool size: 10\n",
            "WARNING:urllib3.connectionpool:Connection pool is full, discarding connection: dbstoragehxvzfnone7t6e.dfs.core.windows.net. Connection pool size: 10\n",
            "WARNING:urllib3.connectionpool:Connection pool is full, discarding connection: dbstoragehxvzfnone7t6e.dfs.core.windows.net. Connection pool size: 10\n",
            "WARNING:urllib3.connectionpool:Connection pool is full, discarding connection: dbstoragehxvzfnone7t6e.dfs.core.windows.net. Connection pool size: 10\n",
            "WARNING:urllib3.connectionpool:Connection pool is full, discarding connection: dbstoragehxvzfnone7t6e.dfs.core.windows.net. Connection pool size: 10\n",
            "WARNING:urllib3.connectionpool:Connection pool is full, discarding connection: dbstoragehxvzfnone7t6e.dfs.core.windows.net. Connection pool size: 10\n",
            "WARNING:urllib3.connectionpool:Connection pool is full, discarding connection: dbstoragehxvzfnone7t6e.dfs.core.windows.net. Connection pool size: 10\n",
            "WARNING:urllib3.connectionpool:Connection pool is full, discarding connection: dbstoragehxvzfnone7t6e.dfs.core.windows.net. Connection pool size: 10\n",
            "WARNING:urllib3.connectionpool:Connection pool is full, discarding connection: dbstoragehxvzfnone7t6e.dfs.core.windows.net. Connection pool size: 10\n",
            "WARNING:urllib3.connectionpool:Connection pool is full, discarding connection: dbstoragehxvzfnone7t6e.dfs.core.windows.net. Connection pool size: 10\n"
          ]
        },
        {
          "output_type": "stream",
          "name": "stdout",
          "text": [
            "🏃 View run convert_to_onnx_2024-11-23_12:13:57 at: https://adb-2467347032368999.19.azuredatabricks.net/ml/experiments/596711047134159/runs/92389e67d19448ad937f7de0d53b38e6\n",
            "🧪 View experiment at: https://adb-2467347032368999.19.azuredatabricks.net/ml/experiments/596711047134159\n"
          ]
        }
      ]
    },
    {
      "cell_type": "code",
      "source": [
        "run.to_dictionary()"
      ],
      "metadata": {
        "colab": {
          "base_uri": "https://localhost:8080/"
        },
        "id": "VoeeumUx46qh",
        "outputId": "5777e6b6-da91-451e-f28c-9780a18584a1"
      },
      "execution_count": 53,
      "outputs": [
        {
          "output_type": "execute_result",
          "data": {
            "text/plain": [
              "{'info': {'artifact_uri': 'dbfs:/databricks/mlflow-tracking/596711047134159/92389e67d19448ad937f7de0d53b38e6/artifacts',\n",
              "  'end_time': None,\n",
              "  'experiment_id': '596711047134159',\n",
              "  'lifecycle_stage': 'active',\n",
              "  'run_id': '92389e67d19448ad937f7de0d53b38e6',\n",
              "  'run_name': 'convert_to_onnx_2024-11-23_12:13:57',\n",
              "  'run_uuid': '92389e67d19448ad937f7de0d53b38e6',\n",
              "  'start_time': 1732364037737,\n",
              "  'status': 'RUNNING',\n",
              "  'user_id': ''},\n",
              " 'data': {'metrics': {},\n",
              "  'params': {},\n",
              "  'tags': {'mlflow.note.content': 'Fine Tuned T5-Large Model converted to ONNX with optimum-cli and quantized INT8\\ncommand :\\n```\\nonnx_model  = ORTModelForSeq2SeqLM.from_pretrained(\"/content/drive/MyDrive/MODELS/t5_onnx\")\\nmodel_dir = onnx_model.model_save_dir\\ntokenizer = AutoTokenizer.from_pretrained(\"/content/drive/MyDrive/MODELS/t5_onnx\")\\n\\nencoder_quantizer = ORTQuantizer.from_pretrained(model_dir, file_name=\"encoder_model.onnx\")\\n\\ndecoder_quantizer = ORTQuantizer.from_pretrained(model_dir, file_name=\"decoder_model.onnx\")\\n\\ndecoder_wp_quantizer = ORTQuantizer.from_pretrained(model_dir, file_name=\"decoder_with_past_model.onnx\")\\n\\nquantizer = [encoder_quantizer, decoder_quantizer, decoder_wp_quantizer]\\n\\nq_folder = \"/content/drive/MyDrive/MODELS/t5_onnx_quantized\"\\n\\ndqconfig = AutoQuantizationConfig.avx512_vnni(is_static=False, per_channel=False)\\n\\nfor q in quantizer:\\n    q.quantize(save_dir=q_folder,quantization_config=dqconfig)\\n```\\n\\n',\n",
              "   'mlflow.runColor': '#a46750',\n",
              "   'mlflow.runName': 'convert_to_onnx_2024-11-23_12:13:57',\n",
              "   'mlflow.source.name': '/usr/local/lib/python3.10/dist-packages/colab_kernel_launcher.py',\n",
              "   'mlflow.source.type': 'LOCAL',\n",
              "   'mlflow.user': '1331640755799986'}}}"
            ]
          },
          "metadata": {},
          "execution_count": 53
        }
      ]
    },
    {
      "cell_type": "code",
      "source": [
        "model_info.model_uri"
      ],
      "metadata": {
        "colab": {
          "base_uri": "https://localhost:8080/",
          "height": 35
        },
        "id": "_j1AH3HU46mh",
        "outputId": "7b66e045-649b-49d0-e073-11d5b2c0c6fd"
      },
      "execution_count": 54,
      "outputs": [
        {
          "output_type": "execute_result",
          "data": {
            "text/plain": [
              "'runs:/92389e67d19448ad937f7de0d53b38e6/t5-summarization-onnx'"
            ],
            "application/vnd.google.colaboratory.intrinsic+json": {
              "type": "string"
            }
          },
          "metadata": {},
          "execution_count": 54
        }
      ]
    },
    {
      "cell_type": "code",
      "source": [
        "loaded_model = mlflow.pyfunc.load_model(model_uri)"
      ],
      "metadata": {
        "colab": {
          "base_uri": "https://localhost:8080/",
          "height": 118,
          "referenced_widgets": [
            "9a0b72d0eaf849159073874a47501085",
            "eb86664b689346b49b8b22f23d3a4e76",
            "8a80d74c823f4bc597539242b5ce8ef3",
            "8fca3797dfcf4a95b343e49cef13a8fd",
            "f9ab38010ba3430aae7c275fa29e16a9",
            "2e7321f3cc4e4fab887100238c9dc730",
            "3c777b37fdbd4be68a684daeafe804e5",
            "5e6b032fd0c04a0b9950be0f2e927da0",
            "6c37cd91297649e48ed5bf10883c4919",
            "2dda36041425428dbafadbcdb1547c8d",
            "f1ae17d241bb4ff681ab23017878f43d",
            "11be22c706e64ac1aef3781a4a3dd345",
            "422c8c62fc7443f0a4b3d9e83c7927d2",
            "d383b39b892f4e6a98fc0ea9f0429275",
            "92a5510116ce42c5b4b00561922a55d4",
            "c9f7f3bc084041ea8053c177c34ca881",
            "654a8a809d664057bc99a2fe802b60d3",
            "8c9670dcc09d473099a0241cb4e54f6b",
            "8eae270a85454e6a96f59711bac5b11c",
            "87547328dd0b46909e5c86345c228436",
            "c2f0aef68c93404a942dde6ee5c33388",
            "c46946dce841443ebba27f0abb30b446"
          ]
        },
        "id": "dU_j_WD59SN0",
        "outputId": "6569a6fd-b732-48bc-9e24-44ee8bce3b54"
      },
      "execution_count": 55,
      "outputs": [
        {
          "output_type": "display_data",
          "data": {
            "text/plain": [
              "Downloading artifacts:   0%|          | 0/17 [00:00<?, ?it/s]"
            ],
            "application/vnd.jupyter.widget-view+json": {
              "version_major": 2,
              "version_minor": 0,
              "model_id": "9a0b72d0eaf849159073874a47501085"
            }
          },
          "metadata": {
            "application/vnd.jupyter.widget-view+json": {
              "colab": {
                "custom_widget_manager": {
                  "url": "https://ssl.gstatic.com/colaboratory-static/widgets/colab-cdn-widget-manager/2b70e893a8ba7c0f/manager.min.js"
                }
              }
            }
          }
        },
        {
          "output_type": "stream",
          "name": "stderr",
          "text": [
            "2024/11/23 12:20:23 WARNING mlflow.transformers.model_io: Could not specify device parameter for this pipeline type.Falling back to loading the model with the default device.\n"
          ]
        },
        {
          "output_type": "display_data",
          "data": {
            "text/plain": [
              "Loading checkpoint shards:   0%|          | 0/3 [00:00<?, ?it/s]"
            ],
            "application/vnd.jupyter.widget-view+json": {
              "version_major": 2,
              "version_minor": 0,
              "model_id": "c46946dce841443ebba27f0abb30b446"
            }
          },
          "metadata": {
            "application/vnd.jupyter.widget-view+json": {
              "colab": {
                "custom_widget_manager": {
                  "url": "https://ssl.gstatic.com/colaboratory-static/widgets/colab-cdn-widget-manager/2b70e893a8ba7c0f/manager.min.js"
                }
              }
            }
          }
        }
      ]
    },
    {
      "cell_type": "code",
      "source": [
        "test1= dataset['validation'][100]['document']"
      ],
      "metadata": {
        "id": "QMFZ5DE49SJw"
      },
      "execution_count": 56,
      "outputs": []
    },
    {
      "cell_type": "code",
      "source": [
        "time1=  datetime.datetime.now()\n",
        "response = loaded_model.predict(pd.DataFrame(\n",
        "    {\"prompt\": [test1]})\n",
        ")\n",
        "time2=  datetime.datetime.now()\n",
        "print(time2-time1)"
      ],
      "metadata": {
        "colab": {
          "base_uri": "https://localhost:8080/"
        },
        "id": "t3lLIj8n9SF4",
        "outputId": "ad0f132c-5a2d-4a67-e35b-93794b591da2"
      },
      "execution_count": 66,
      "outputs": [
        {
          "output_type": "stream",
          "name": "stdout",
          "text": [
            "0:00:06.826990\n"
          ]
        }
      ]
    },
    {
      "cell_type": "code",
      "source": [
        "pprint.pprint(response)"
      ],
      "metadata": {
        "colab": {
          "base_uri": "https://localhost:8080/"
        },
        "id": "-GZ67ZGc-QZ2",
        "outputId": "0d7144f1-f381-4a60-9571-cd4758280bdc"
      },
      "execution_count": 67,
      "outputs": [
        {
          "output_type": "stream",
          "name": "stdout",
          "text": [
            "['||| The U.S. dollar rose to a six-month high against the euro, while the '\n",
            " '10-year Treasury yield TMUBMUSD10Y, +0.00% , used to determine rates on '\n",
            " 'consumer loans, fell to an all-time low. ||| || The Dow Jones Industrial '\n",
            " 'Average and the Nasdaq Composite fell on Friday, as investors fretted that '\n",
            " 'the eurozone’s debt crisis is escalating. The Dow lost 303 points, or 2.7%, '\n",
            " 'to 10,992.13, down 2.6% . The ECB, if Greece fails to meet the']\n"
          ]
        }
      ]
    },
    {
      "cell_type": "markdown",
      "source": [
        "# TODO in EVALUATION MODEL"
      ],
      "metadata": {
        "id": "BTIg-h1gBVz_"
      }
    },
    {
      "cell_type": "code",
      "source": [
        "from typing import List\n",
        "def onnx_summ(inputs: pd.DataFrame) -> List[str]:\n",
        "    predictions = []\n",
        "\n",
        "    loaded_model = mlflow.pyfunc.load_model(model_uri)\n",
        "    for _, row in inputs.iterrows():\n",
        "        response = loaded_model.predict(pd.DataFrame(\n",
        "    {\"prompt\": [row[\"inputs\"]]})\n",
        ")\n",
        "        predictions.append(response['candidates'][0])\n",
        "\n",
        "    return predictions"
      ],
      "metadata": {
        "id": "wTaAzEsh2Cv6"
      },
      "execution_count": 74,
      "outputs": []
    },
    {
      "cell_type": "code",
      "source": [
        "df_test = dataset['validation'].to_pandas()"
      ],
      "metadata": {
        "id": "qQbbFLsTBvng"
      },
      "execution_count": 75,
      "outputs": []
    },
    {
      "cell_type": "code",
      "source": [
        "df_test.columns = ['inputs', 'summary']"
      ],
      "metadata": {
        "id": "QgsZXItiB_oz"
      },
      "execution_count": 76,
      "outputs": []
    },
    {
      "cell_type": "code",
      "source": [
        "df_test.head()"
      ],
      "metadata": {
        "id": "4zKOdZ9uCXpR",
        "colab": {
          "base_uri": "https://localhost:8080/",
          "height": 206
        },
        "outputId": "2c9c0f7a-1fe3-411f-ad63-0f83a7a5eb57"
      },
      "execution_count": 77,
      "outputs": [
        {
          "output_type": "execute_result",
          "data": {
            "text/plain": [
              "                                              inputs  \\\n",
              "0  Whether a sign of a good read; or a comment on...   \n",
              "1  The deaths of three American soldiers in Afgha...   \n",
              "2  DUBAI Al Qaeda in Yemen has claimed responsibi...   \n",
              "3  Cambridge Analytica, a data firm that worked f...   \n",
              "4  The N.S.A.’s Evolution: The National Security ...   \n",
              "\n",
              "                                             summary  \n",
              "0  – The Da Vinci Code has sold so many copies—th...  \n",
              "1  – A major snafu has hit benefit payments to st...  \n",
              "2  – Yemen-based al-Qaeda in the Arabian Peninsul...  \n",
              "3  – Cambridge Analytica is calling it quits. The...  \n",
              "4  – A lengthy report in the New York Times, base...  "
            ],
            "text/html": [
              "\n",
              "  <div id=\"df-c083f78d-fd92-49ea-964d-598b1708cfd5\" class=\"colab-df-container\">\n",
              "    <div>\n",
              "<style scoped>\n",
              "    .dataframe tbody tr th:only-of-type {\n",
              "        vertical-align: middle;\n",
              "    }\n",
              "\n",
              "    .dataframe tbody tr th {\n",
              "        vertical-align: top;\n",
              "    }\n",
              "\n",
              "    .dataframe thead th {\n",
              "        text-align: right;\n",
              "    }\n",
              "</style>\n",
              "<table border=\"1\" class=\"dataframe\">\n",
              "  <thead>\n",
              "    <tr style=\"text-align: right;\">\n",
              "      <th></th>\n",
              "      <th>inputs</th>\n",
              "      <th>summary</th>\n",
              "    </tr>\n",
              "  </thead>\n",
              "  <tbody>\n",
              "    <tr>\n",
              "      <th>0</th>\n",
              "      <td>Whether a sign of a good read; or a comment on...</td>\n",
              "      <td>– The Da Vinci Code has sold so many copies—th...</td>\n",
              "    </tr>\n",
              "    <tr>\n",
              "      <th>1</th>\n",
              "      <td>The deaths of three American soldiers in Afgha...</td>\n",
              "      <td>– A major snafu has hit benefit payments to st...</td>\n",
              "    </tr>\n",
              "    <tr>\n",
              "      <th>2</th>\n",
              "      <td>DUBAI Al Qaeda in Yemen has claimed responsibi...</td>\n",
              "      <td>– Yemen-based al-Qaeda in the Arabian Peninsul...</td>\n",
              "    </tr>\n",
              "    <tr>\n",
              "      <th>3</th>\n",
              "      <td>Cambridge Analytica, a data firm that worked f...</td>\n",
              "      <td>– Cambridge Analytica is calling it quits. The...</td>\n",
              "    </tr>\n",
              "    <tr>\n",
              "      <th>4</th>\n",
              "      <td>The N.S.A.’s Evolution: The National Security ...</td>\n",
              "      <td>– A lengthy report in the New York Times, base...</td>\n",
              "    </tr>\n",
              "  </tbody>\n",
              "</table>\n",
              "</div>\n",
              "    <div class=\"colab-df-buttons\">\n",
              "\n",
              "  <div class=\"colab-df-container\">\n",
              "    <button class=\"colab-df-convert\" onclick=\"convertToInteractive('df-c083f78d-fd92-49ea-964d-598b1708cfd5')\"\n",
              "            title=\"Convert this dataframe to an interactive table.\"\n",
              "            style=\"display:none;\">\n",
              "\n",
              "  <svg xmlns=\"http://www.w3.org/2000/svg\" height=\"24px\" viewBox=\"0 -960 960 960\">\n",
              "    <path d=\"M120-120v-720h720v720H120Zm60-500h600v-160H180v160Zm220 220h160v-160H400v160Zm0 220h160v-160H400v160ZM180-400h160v-160H180v160Zm440 0h160v-160H620v160ZM180-180h160v-160H180v160Zm440 0h160v-160H620v160Z\"/>\n",
              "  </svg>\n",
              "    </button>\n",
              "\n",
              "  <style>\n",
              "    .colab-df-container {\n",
              "      display:flex;\n",
              "      gap: 12px;\n",
              "    }\n",
              "\n",
              "    .colab-df-convert {\n",
              "      background-color: #E8F0FE;\n",
              "      border: none;\n",
              "      border-radius: 50%;\n",
              "      cursor: pointer;\n",
              "      display: none;\n",
              "      fill: #1967D2;\n",
              "      height: 32px;\n",
              "      padding: 0 0 0 0;\n",
              "      width: 32px;\n",
              "    }\n",
              "\n",
              "    .colab-df-convert:hover {\n",
              "      background-color: #E2EBFA;\n",
              "      box-shadow: 0px 1px 2px rgba(60, 64, 67, 0.3), 0px 1px 3px 1px rgba(60, 64, 67, 0.15);\n",
              "      fill: #174EA6;\n",
              "    }\n",
              "\n",
              "    .colab-df-buttons div {\n",
              "      margin-bottom: 4px;\n",
              "    }\n",
              "\n",
              "    [theme=dark] .colab-df-convert {\n",
              "      background-color: #3B4455;\n",
              "      fill: #D2E3FC;\n",
              "    }\n",
              "\n",
              "    [theme=dark] .colab-df-convert:hover {\n",
              "      background-color: #434B5C;\n",
              "      box-shadow: 0px 1px 3px 1px rgba(0, 0, 0, 0.15);\n",
              "      filter: drop-shadow(0px 1px 2px rgba(0, 0, 0, 0.3));\n",
              "      fill: #FFFFFF;\n",
              "    }\n",
              "  </style>\n",
              "\n",
              "    <script>\n",
              "      const buttonEl =\n",
              "        document.querySelector('#df-c083f78d-fd92-49ea-964d-598b1708cfd5 button.colab-df-convert');\n",
              "      buttonEl.style.display =\n",
              "        google.colab.kernel.accessAllowed ? 'block' : 'none';\n",
              "\n",
              "      async function convertToInteractive(key) {\n",
              "        const element = document.querySelector('#df-c083f78d-fd92-49ea-964d-598b1708cfd5');\n",
              "        const dataTable =\n",
              "          await google.colab.kernel.invokeFunction('convertToInteractive',\n",
              "                                                    [key], {});\n",
              "        if (!dataTable) return;\n",
              "\n",
              "        const docLinkHtml = 'Like what you see? Visit the ' +\n",
              "          '<a target=\"_blank\" href=https://colab.research.google.com/notebooks/data_table.ipynb>data table notebook</a>'\n",
              "          + ' to learn more about interactive tables.';\n",
              "        element.innerHTML = '';\n",
              "        dataTable['output_type'] = 'display_data';\n",
              "        await google.colab.output.renderOutput(dataTable, element);\n",
              "        const docLink = document.createElement('div');\n",
              "        docLink.innerHTML = docLinkHtml;\n",
              "        element.appendChild(docLink);\n",
              "      }\n",
              "    </script>\n",
              "  </div>\n",
              "\n",
              "\n",
              "<div id=\"df-e3852461-82c6-422c-9fe5-9a9b595a4bcd\">\n",
              "  <button class=\"colab-df-quickchart\" onclick=\"quickchart('df-e3852461-82c6-422c-9fe5-9a9b595a4bcd')\"\n",
              "            title=\"Suggest charts\"\n",
              "            style=\"display:none;\">\n",
              "\n",
              "<svg xmlns=\"http://www.w3.org/2000/svg\" height=\"24px\"viewBox=\"0 0 24 24\"\n",
              "     width=\"24px\">\n",
              "    <g>\n",
              "        <path d=\"M19 3H5c-1.1 0-2 .9-2 2v14c0 1.1.9 2 2 2h14c1.1 0 2-.9 2-2V5c0-1.1-.9-2-2-2zM9 17H7v-7h2v7zm4 0h-2V7h2v10zm4 0h-2v-4h2v4z\"/>\n",
              "    </g>\n",
              "</svg>\n",
              "  </button>\n",
              "\n",
              "<style>\n",
              "  .colab-df-quickchart {\n",
              "      --bg-color: #E8F0FE;\n",
              "      --fill-color: #1967D2;\n",
              "      --hover-bg-color: #E2EBFA;\n",
              "      --hover-fill-color: #174EA6;\n",
              "      --disabled-fill-color: #AAA;\n",
              "      --disabled-bg-color: #DDD;\n",
              "  }\n",
              "\n",
              "  [theme=dark] .colab-df-quickchart {\n",
              "      --bg-color: #3B4455;\n",
              "      --fill-color: #D2E3FC;\n",
              "      --hover-bg-color: #434B5C;\n",
              "      --hover-fill-color: #FFFFFF;\n",
              "      --disabled-bg-color: #3B4455;\n",
              "      --disabled-fill-color: #666;\n",
              "  }\n",
              "\n",
              "  .colab-df-quickchart {\n",
              "    background-color: var(--bg-color);\n",
              "    border: none;\n",
              "    border-radius: 50%;\n",
              "    cursor: pointer;\n",
              "    display: none;\n",
              "    fill: var(--fill-color);\n",
              "    height: 32px;\n",
              "    padding: 0;\n",
              "    width: 32px;\n",
              "  }\n",
              "\n",
              "  .colab-df-quickchart:hover {\n",
              "    background-color: var(--hover-bg-color);\n",
              "    box-shadow: 0 1px 2px rgba(60, 64, 67, 0.3), 0 1px 3px 1px rgba(60, 64, 67, 0.15);\n",
              "    fill: var(--button-hover-fill-color);\n",
              "  }\n",
              "\n",
              "  .colab-df-quickchart-complete:disabled,\n",
              "  .colab-df-quickchart-complete:disabled:hover {\n",
              "    background-color: var(--disabled-bg-color);\n",
              "    fill: var(--disabled-fill-color);\n",
              "    box-shadow: none;\n",
              "  }\n",
              "\n",
              "  .colab-df-spinner {\n",
              "    border: 2px solid var(--fill-color);\n",
              "    border-color: transparent;\n",
              "    border-bottom-color: var(--fill-color);\n",
              "    animation:\n",
              "      spin 1s steps(1) infinite;\n",
              "  }\n",
              "\n",
              "  @keyframes spin {\n",
              "    0% {\n",
              "      border-color: transparent;\n",
              "      border-bottom-color: var(--fill-color);\n",
              "      border-left-color: var(--fill-color);\n",
              "    }\n",
              "    20% {\n",
              "      border-color: transparent;\n",
              "      border-left-color: var(--fill-color);\n",
              "      border-top-color: var(--fill-color);\n",
              "    }\n",
              "    30% {\n",
              "      border-color: transparent;\n",
              "      border-left-color: var(--fill-color);\n",
              "      border-top-color: var(--fill-color);\n",
              "      border-right-color: var(--fill-color);\n",
              "    }\n",
              "    40% {\n",
              "      border-color: transparent;\n",
              "      border-right-color: var(--fill-color);\n",
              "      border-top-color: var(--fill-color);\n",
              "    }\n",
              "    60% {\n",
              "      border-color: transparent;\n",
              "      border-right-color: var(--fill-color);\n",
              "    }\n",
              "    80% {\n",
              "      border-color: transparent;\n",
              "      border-right-color: var(--fill-color);\n",
              "      border-bottom-color: var(--fill-color);\n",
              "    }\n",
              "    90% {\n",
              "      border-color: transparent;\n",
              "      border-bottom-color: var(--fill-color);\n",
              "    }\n",
              "  }\n",
              "</style>\n",
              "\n",
              "  <script>\n",
              "    async function quickchart(key) {\n",
              "      const quickchartButtonEl =\n",
              "        document.querySelector('#' + key + ' button');\n",
              "      quickchartButtonEl.disabled = true;  // To prevent multiple clicks.\n",
              "      quickchartButtonEl.classList.add('colab-df-spinner');\n",
              "      try {\n",
              "        const charts = await google.colab.kernel.invokeFunction(\n",
              "            'suggestCharts', [key], {});\n",
              "      } catch (error) {\n",
              "        console.error('Error during call to suggestCharts:', error);\n",
              "      }\n",
              "      quickchartButtonEl.classList.remove('colab-df-spinner');\n",
              "      quickchartButtonEl.classList.add('colab-df-quickchart-complete');\n",
              "    }\n",
              "    (() => {\n",
              "      let quickchartButtonEl =\n",
              "        document.querySelector('#df-e3852461-82c6-422c-9fe5-9a9b595a4bcd button');\n",
              "      quickchartButtonEl.style.display =\n",
              "        google.colab.kernel.accessAllowed ? 'block' : 'none';\n",
              "    })();\n",
              "  </script>\n",
              "</div>\n",
              "\n",
              "    </div>\n",
              "  </div>\n"
            ],
            "application/vnd.google.colaboratory.intrinsic+json": {
              "type": "dataframe",
              "variable_name": "df_test",
              "summary": "{\n  \"name\": \"df_test\",\n  \"rows\": 5622,\n  \"fields\": [\n    {\n      \"column\": \"inputs\",\n      \"properties\": {\n        \"dtype\": \"string\",\n        \"num_unique_values\": 5621,\n        \"samples\": [\n          \"(CNN) One of my earliest memories is sitting on my grandfather's shoulders, waving a flag as our astronauts returned to Hawaii. This was years before we'd set foot on the moon. Decades before we'd land a rover on Mars. A generation before photos from the International Space Station would show up in our social media feeds. \\n \\n I still have the same sense of wonder about our space program that I did as a child. It represents an essential part of our character -- curiosity and exploration, innovation and ingenuity, pushing the boundaries of what's possible and doing it before anybody else. The space race we won not only contributed immeasurably important technological and medical advances, but it also inspired a new generation of scientists and engineers with the right stuff to keep America on the cutting edge. \\n \\n That's one of the reasons why, in my first address as President to the American people, I vowed to return science to its rightful place. In our first few months, my administration made the largest single investment in basic research in our history, and I went to the Kennedy Space Center to call for reimagining and reinvigorating our space program to explore more of our solar system and look deeper into the universe than ever. \\n \\n In the years since, we've revitalized technology innovation at NASA, extended the life of the International Space Station, and helped American companies create private-sector jobs by capitalizing on the untapped potential of the space industry. \\n \\n Last year alone, NASA discovered flowing water on Mars and evidence of ice on one of Jupiter's moons, and we mapped Pluto -- more than 3 billion miles away -- in high-resolution. Our space telescopes revealed additional Earth-like planets orbiting distant stars, and we're pursuing new missions to interact with asteroids, which will help us learn how to protect the Earth from the threat of colliding with one while also teaching us about the origins of life on Earth. We've flown by every planet in the solar system -- something no other nation can say. And we continue to drive down the cost of space exploration for taxpayers. \\n \\n This week, we'll convene some of America's leading scientists, engineers, innovators and students in Pittsburgh to dream up ways to build on our progress and find the next frontiers. Just five years ago, US companies were shut out of the global commercial launch market. Today, thanks to groundwork laid by the men and women of NASA, they own more than a third of it. More than 1,000 companies across nearly all 50 states are working on private space initiatives. \\n \\n Follow CNN Opinion Join us on Twitter and Facebook \\n \\n We have set a clear goal vital to the next chapter of America's story in space: sending humans to Mars by the 2030s and returning them safely to Earth, with the ultimate ambition to one day remain there for an extended time. Getting to Mars will require continued cooperation between government and private innovators, and we're already well on our way. Within the next two years, private companies will for the first time send astronauts to the International Space Station. \\n \\n The next step is to reach beyond the bounds of Earth's orbit. I'm excited to announce that we are working with our commercial partners to build new habitats that can sustain and transport astronauts on long-duration missions in deep space. These missions will teach us how humans can live far from Earth -- something we'll need for the long journey to Mars. \\n \\n The reporter who covered the moon landing for The New York Times, John Noble Wilford, later wrote that Mars tugs at our imagination \\\"with a force mightier than gravity.\\\" Getting there will take a giant leap. But the first, small steps happen when our students -- the Mars generation -- walk into their classrooms each day. Scientific discovery doesn't happen with the flip of a switch; it takes years of testing, patience and a national commitment to education. \\n \\n President Eisenhower knew this: In 1958, he devoted great resources to science and math education around the same time he created NASA. And it's why I'm proud that we've passed important milestones in STEM education. For the first time, more than 100,000 engineers are graduating from American schools every year, and we're on track to accomplish my goal of training 100,000 excellent new STEM teachers in a decade. \\n \\n When our Apollo astronauts looked back from space, they realized that while their mission was to explore the moon, they had \\\"in fact discovered the Earth.\\\" If we make our leadership in space even stronger in this century than it was in the last, we won't just benefit from related advances in energy, medicine, agriculture and artificial intelligence, we'll benefit from a better understanding of our environment and ourselves. \\n \\n Someday, I hope to hoist my own grandchildren onto my shoulders. We'll still look to the stars in wonder, as humans have since the beginning of time. But instead of eagerly awaiting the return of our intrepid explorers, we'll know that because of the choices we make now, they've gone to space not just to visit, but to stay -- and in doing so, to make our lives better here on Earth. ||||| Story highlights Following a 2010 speech, President Barack Obama discussed Tuesday plans for humans to go to Mars \\n \\n Seven companies have received awards to develop habitation systems on Mars \\n \\n (CNN) President Barack Obama has his eyes on the stars -- or more accurately -- a planet. \\n \\n In an op-ed published Tuesday on CNN, Obama set a \\\"clear goal\\\" to send humans to Mars by the 2030s and to have them return to Earth safely, \\\"with the ultimate ambition to one day remain there for an extended time.\\\" \\n \\n \\\"Someday, I hope to hoist my own grandchildren onto my shoulders. We'll still look to the stars in wonder, as humans have since the beginning of time,\\\" Obama wrote. \\\"But instead of eagerly awaiting the return of our intrepid explorers, we'll know that because of the choices we make now, they've gone to space not just to visit, but to stay -- and in doing so, to make our lives better here on Earth.\\\" \\n \\n Achieving the goal, Obama added, will \\\"require continued cooperation between government and private innovators\\\" -- a collaboration that will begin in the coming years when companies send astronauts to the International Space Station. \\n \\n To that end, Obama announced that the government is \\\"working with our commercial partners to build new habitats that can sustain and transport astronauts on long-duration missions in deep space.\\\" \\n \\n Read More ||||| The following is crossposted from NASA.gov. \\n \\n Today, President Obama outlined a vision to CNN for the future of space exploration. Echoing what he said in the 2015 State of the Union address, the President wrote, \\u201cWe have set a clear goal vital to the next chapter of America\\u2019s story in space: sending humans to Mars by the 2030s and returning them safely to Earth, with the ultimate ambition to one day remain there for an extended time.\\u201d Later this week, many of the Nation\\u2019s top innovators will come together in Pittsburgh at the White House Frontiers Conference, where they will further explore, among other things, how American investments in science and technology will help us settle \\u201cthe final frontier\\u201d \\u2013 space. But today, we\\u2019re excited to announce two new NASA initiatives that build on the President\\u2019s vision and utilize public-private partnerships to enable humans to live and work in space in a sustainable way. \\n \\n In April 2010, the President challenged the country \\u2013 and NASA \\u2013 to send American astronauts on a Journey to Mars in the 2030s. By reaching out further into the solar system and expanding the frontiers of exploration, the President outlined a vision for pushing the bounds of human discovery, while also revitalizing the space industry and creating jobs here at home. \\n \\n To achieve these mutually-reinforcing goals, the President instructed NASA to develop spacecraft and technologies geared toward sending astronauts to deep space, while at the same time partnering with American companies to build a strong space economy. Following the President\\u2019s vision, NASA has worked over the past 6 years to help catalyze a vibrant new sector of the economy by enabling the commercial transportation of cargo and soon crew from American soil to the International Space Station. And today, Americans are working at more than a thousand companies across virtually every state to support commercial space initiatives and with them, the growth of a new commercial market in Low Earth Orbit. \\n \\n On the International Space Station, we\\u2019re working \\u201coff-the-Earth, for-the-Earth,\\u201d leading a broad international coalition of countries and companies in conducting research and demonstrating technologies that hold great promise for everything ranging from sending human beings to Mars to improving eye surgery to purifying drinking water and making communities more resilient when natural disasters strike. \\n \\n This work aboard the space station is the heart and soul of the first stage of NASA\\u2019s Journey to Mars; a stage we call \\u201cEarth Dependent.\\u201d It is focused on developing technologies and capabilities in earth orbit, where it is still fairly easy for us to directly support humans. But over the next decade, we\\u2019ll enter the \\u201cProving Ground\\u201d stage, where NASA, leading the way with the international community, will demonstrate and test technologies for the first time in cis-lunar space, the area around the moon, where our astronauts are days or weeks away from Earth, rather than hours. For example, in the mid-2020s, NASA\\u2019s Asteroid Redirect Mission will send a robotic spacecraft to a nearby asteroid to test out important exploration technologies such as solar-electric propulsion, conduct scientific and planetary defense experiments, and then return a boulder from the asteroid to an orbit around the Moon for astronauts to study. As the title of this stage indicates, this work serves as necessary preparation for eventual missions that will take humanity even further, to Mars and beyond. \\n \\n And that brings us to the first thing we\\u2019re excited to discuss today. NASA has already begun laying the groundwork for these deep space missions. In 2014 we issued a \\u201cbroad agency announcement\\u201d or \\u201cBAA\\u201d asking private partners for concept studies and development projects in advanced propulsion, small satellites, and habitation as part of the newly created Next Space Technologies for Exploration Partnerships or \\u201cNextSTEP\\u201d program. Six companies received awards to start developing habitation systems in response to that \\u201cNextSTEP\\u201d BAA. The idea is that these habitats or \\u201chabs\\u201d would evolve into spacecraft capable of sustaining and transporting astronauts on long duration deep space missions, like a mission to Mars. And their development would be achieved through new public-private partnerships designed to build on and support the progress of the growing commercial space sector in Earth orbit. The work done by those companies was so promising that earlier this year, we extended the NextSTEP hab program into Phase 2 and opened it up to new entrants. In August, six companies were selected to produce ground prototypes for deep space habitat modules. Learn more about the six selected prototypes. \\n \\n At the same time that we\\u2019re working to extend our reach into deep space, we\\u2019re also continuing to innovate closer to Earth, by expanding our partnerships with commercial space companies. And that\\u2019s the second initiative we are focused on today. Recently, NASA asked the private sector how it might use an available docking port on the ISS. One of the potential uses of such a port would be preparation for one or more future commercial stations in Low Earth Orbit, ready to take over for the Space Station once its mission ends in the 2020s. The private sector responded enthusiastically, and those responses indicated a strong desire by U.S. companies to attach a commercial module to the ISS that could meet the needs of NASA as well as those of private entrepreneurs. \\n \\n As a result of the responses, this fall, NASA will start the process of providing companies with a potential opportunity to add their own modules and other capabilities to the International Space Station. While NASA prepares for the transition from the Space Station to its successors, the agency is also working to support and grow the community of scientists and entrepreneurs conducting research and growing businesses in space. A vibrant user community will be key to ensuring the economic viability of future space stations. \\n \\n For humanity to successfully and sustainably settle the \\u201cfinal frontier\\u201d, we will need to take advantage of investment and innovation in both the public and private sectors. Neither will handle this immense challenge on its own. The NextSTEP and ISS initiatives are excellent examples of how the two sectors can work together to extend humanity\\u2019s reach into space. Make no mistake, the Journey to Mars will be challenging, but it is underway and with each one of these steps, we are pushing the boundaries of exploration and imagination for the Nation. \\n \\n Charles Bolden is the Administrator of NASA.\",\n          \"Fans wear shirts emblazoned with the misspelled surname of Colorado Rockies All-Star shortstop Troy Tulowitzki that were given away to attendees as the Rockies hosted the Pittsburgh Pirates in a baseball... (Associated Press) \\n \\n DENVER (AP) \\u2014 Troy Tulowitzki has a tough name to spell, even at his own ballpark. \\n \\n The Colorado Rockies handed out 15,000 jerseys with the All-Star shortstop's name misspelled in a giveaway gaffe Saturday night at Coors Field. \\n \\n The second \\\"t'' was missing, so the backs read \\\"Tulowizki.\\\" \\n \\n \\\"Is there something wrong with it?\\\" fan Jordan Deuschleman asked. \\\"I didn't notice with the name being so long.\\\" \\n \\n The club issued a statement apologizing for the mistake. The team said it was aware of the misspelling, but decided to hand out the jerseys before the game against Pittsburgh. \\n \\n \\\"Acknowledging that many fans came to the game for the jersey, rather than disappoint them, we decided to go ahead and hand them out,\\\" the Rockies said. \\n \\n Some fans didn't bother with the game, usher Leon Thomas said. \\n \\n \\\"Many of the fans got here early. Took the shirt and left. They recognized it was a collector's item,\\\" he said. \\\"There were only so many handed out. They were gone fast.\\\" \\n \\n The Rockies said fans can exchange them for corrected jerseys at a September date to be announced. \\n \\n Tulowitzki leads the majors in hitting at .340. He is currently on the disabled list. ||||| Tulowhoopski! \\n \\n The Colorado Rockies gave out 15,000 replica jerseys honoring All-Star shortstop Troy Tulowitzki on Saturday night, but the back of them read \\\"Tulowizki\\\" instead -- minus the second \\\"T.\\\" \\n \\n The Rockies say fans will have the opportunity to swap the misspelled jerseys for ones that feature the correct spelling. AP Photo/David Zalubowski \\n \\n The Rockies said they discovered the misspelling at some point, but instead of disappointing those looking forward to receiving the jersey, the team said in a statement that it decided to hand them out anyway. \\n \\n \\\"Is there something wrong with it?\\\" fan Jordan Deuschleman asked, according to the Associated Press. \\\"I didn't notice with the name being so long.\\\" \\n \\n The Rockies plan to remake the jersey with the correct spelling later in the year, and fans can exchange Saturday night's for the new one at the stadium or at one of the team stores. \\n \\n Fans who exchange the jersey also will get a free ticket to a future 2014 or '15 game. \\n \\n \\\"Many of the fans got here early. Took the shirt and left. They recognized it was a collector's item,\\\" usher Leon Thomas told the AP. \\\"There were only so many handed out. They were gone fast.\\\" \\n \\n Tulowitzki entered Saturday night leading the National League in batting average (.340) and was third in the NL in home runs (21). \\n \\n On Tuesday, he was put on the 15-day disabled list with a thigh injury.\",\n          \"A CAR park in a Highland town has been confirmed by archaeologists as the meeting place of a medieval Norse parliament. \\n \\n Excavations at the Cromartie Memorial car park in Dingwall uncovered evidence of a mound that archaeologists believe was established in the 11th century as a gathering spot for a Viking parliament, known as a \\u201cThing\\u201d. \\n \\n Picture: Contributed \\n \\n When it was constructed the \\u201cThing\\u201d would have been on a man-made islet in the estuary of the River Pefferey, historians claimed. They believe the mound was built on the instructions of Thorfinn the Mighty, a powerful Viking earl who died in 1065. \\n \\n He is thought to have laid the foundations of what would later become the royal burgh of Dingwall in Ross-shire. \\n \\n It is only the second time a \\u201cThing\\u201d site has been uncovered in the UK. Yesterday historians said the discovery would help them learn more about the Norse Vikings, who battled for control of land across the north of Scotland. \\n \\n David MacDonald, of Dingwall History Society, which was part of the dig partnership, said that a road, a ditch and an aqueduct, known as the Water of Dyke, that drew water from hillside springs, were also constructed when Thorfinn was in control of Ross-shire. \\n \\n He said Thorfinn\\u2019s rise to power was aided by his victory in a battle at Torfnes on the south side of the Cromarty Firth, possibly against MacBeth\\u2019s troops. At the height of his power, Thorfinn became Lord of Caithness, Shetland and Orkney. \\n \\n The origins of the town of Dingwall as a Viking Thing-site had long puzzled historians and archaeologists alike, with many believing it was elsewhere on the Black Isle in Ross-shire. \\n \\n But now the results of the archaeological dig, the culmination of Highland Council\\u2019s participation as a partner in the EU Northern Periphery International Thing Project, has come up with real answers. \\n \\n Mr MacDonald said: \\u201cYou can call this the official confirmation of the car park being the location of a \\u2018Thing\\u2019. \\n \\n \\u201cIt has been very exciting over the years, but all the historical research points in this direction.\\u201d \\n \\n In recent times historical investigation identified the Cromartie car park \\u2013 which contains the burial place and memorial monument of George, first earl of Cromartie, who died in 1714 \\u2013 as the site of the long lost Moothill of Dingwall, the town\\u2019s medieval meeting place. This has now been confirmed as deriving from the Viking Thing-mound. \\n \\n A trial trench excavation in the car park in 2012 showed significant radio-carbon datings. \\n \\n According to archaeologist Dr Oliver O\\u2019Grady, a leading authority on the assembly mounds of Scotland, who was part of the dig : \\u201cThe excavations have confirmed the presence of important archaeological remains and indicated that the mound was man-made and probably created during the 11th century. \\n \\n \\u201cThe radio-carbon datings provide strong scientific evidence to support the interpretation that the mound was created during the period of late Norwegian political influence in Ross-shire and wider North-east Scotland. \\n \\n \\u201cThe lack of substantial occupation remains or burial activity is also further circumstantial evidence that the mound was created for an assembly site or Thing. \\n \\n \\u201cThe substantial manpower and effort required to create a monument on the scale of the Dingwall mound would also seem in keeping with the establishment of a major regional judicial and administrative centre.\\u201d \\n \\n Dingwall, which lies at the head of the Cromarty Firth, is a location on a European tourist trail of Thing sites. Funded by the EU, the Thing Sites GeoTour involves Scotland, Norway, Iceland, the Faroes and Isle of Man. ||||| A parking lot in Scotland was once the site of a Viking parliament, new research suggests \\n \\n A Viking parliamentary site that dates to the 11th century has been found beneath a parking lot in Scotland. \\n \\n The site, located in the town of Dingwall, Scotland, was dubbed a \\\"Thing\\\" site, referring to its name in antiquity. Like other Thing sites, this one was likely a place where ancient Norsemen gathered to settle legal disputes, uphold laws and make key political decisions. \\n \\n \\\"It's a fantastic find, really,\\\" said Oliver J. T. O'Grady, the director of the site's excavations and an archaeologist who runs an archaeological consulting firm called OJT Heritage. \\\"No one's had dating [information] from a Thing site in Scotland.\\\" \\n \\n The Thing \\n \\n Historians had long wondered whether Dingwall was a site of a Viking parliamentary gathering known as the Thing because the word Dingwall probably originated from the word thingvellir, which means \\\"the field of the assembly.\\\" [Fierce Fighters: 7 Secrets of Viking Culture] \\n \\n Such Thing sites are scattered from Iceland to Norway to the Shetland Islands, and Norsemen traveled from far and wide to get to the seasonal gatherings, often to settle disputes that would otherwise end in bloodshed. But Things were held mostly at open-air fields, and people only stayed temporarily, leaving relatively few archaeological traces of their presence. \\n \\n \\\"Many archaeologists have said, 'How do you find the archaeology of a bunch of people gathering together?'\\\" O'Grady told LiveScience. \\n \\n O'Grady and his colleagues at The Thing Project, which works on similar sites around Europe, were not deterred, because traces of temporary dwelling booths had turned up at other Thing sites. \\n \\n Digging up democracy \\n \\n Using historical records, the team found a mound near the inlet of an estuary in Dingwall that was called the moothill, or assembly mound, in the 13th century. Later on, Scottish earls were buried there. In 1947, local authorities bulldozed the top of the mound and turned the area into a parking lot. (Parking lots seem to be rich sources of history in the U.K. \\u2014 Richard III's skeleton was found underneath a parking lot, as was a medieval knight in Scotland.) \\n \\n The team dug a small trench across the mound and used radioactive carbon isotopes, or atoms of carbon with different molecular weights, to date the charcoal found in the soil. (These radioactive isotopes decay at different rates and can be used to date soils and objects.) \\n \\n The team found that some of the upper layers of the soil date to the medieval period, likely when it was called the moothill, and contain shards of pottery and fragments of an iron vessel. \\n \\n A site in Dingwall, Scotland, revealed traces of a 13th century iron vessel underneath a parking lot. Credit: Dr. Oliver J. T. O'Grady \\n \\n But below that, the team found the first layers that were used to construct the mound, with soil dating to around the 11th century. \\n \\n By this period of history, the Vikings were no longer feared marauders sailing the seas and raiding Europe. Instead, the people who gathered at Dingwall were more likely subjects of Norse kings who ruled from the Orkney and Shetland Islands. \\n \\n No one knows yet who built the site, though the sheer size of the mound suggests it was a fairly significant undertaking that required a lot of political power and resources. \\n \\n No historical documents mention a Thing gathering site near the region, but Earl Thorfinn the Mighty came down from the Orkney Islands at the time and fought a battle in the general region. \\n \\n \\\"He would certainly have had a political reason to make a statement,\\\" O'Grady said. \\n \\n Follow Tia Ghose on Twitter and Google+. Follow LiveScience @livescience, Facebook & Google+. Original article on LiveScience.\"\n        ],\n        \"semantic_type\": \"\",\n        \"description\": \"\"\n      }\n    },\n    {\n      \"column\": \"summary\",\n      \"properties\": {\n        \"dtype\": \"string\",\n        \"num_unique_values\": 5622,\n        \"samples\": [\n          \"\\u2013 Skal, Sweden! Raise a glass to the Scandinavian nation, which beat out 162 others to win the overall top spot in the \\\"Good Country Index,\\\" a ranking of the world's countries, the Independent reports. The list is based on 35 various indicators from sources such as the World Bank and the UN, separated into the categories of culture, science and tech, prosperity and equality, world order, international peace and security, planet and climate, and health and well-being. The US just missed making the top 20, coming in at No. 21. And in last place\\u2014Libya. \\\"A good country is one that successfully contributes to the good of humanity,\\\" British policy adviser Simon Anholt, who established the Good Country Index, tells the Independent. \\\"Of course, it must serve the interests of its own people, but never at the expense of other populations or their natural resources: This is the new law of human survival.\\\" Here, the \\\"goodest\\\" 10 of the bunch: Sweden Denmark Netherlands United Kingdom Germany Finland Canada France Austria New Zealand (The entire list is here.)\",\n          \"\\u2013 The Colorado Rockies love their All-Star shortstop Troy Tulowitzki so much that at last night's game the team gave out 15,000 replica jerseys\\u2014emblazoned with his name spelled as Tulowizki. The rather large-scale typo was in fact noticed, the Rockies say, but they decided to go ahead with the giveaway anyway, reports ESPN; a new round of jerseys presumably stamped Tulowitzki will be given out in September and fans will be allowed to exchange the flubbed one. That is, if they want to: As one usher tells the AP, many \\\"took the shirt and left. They recognized it was a collector's item. They were gone fast.\\\"\",\n          \"\\u2013 Archaeologists have uncovered another parking lot find, only this time it's in Scotland, and what they discovered is best described as a \\\"Thing.\\\" Yep, that's the technical term for a Viking parliamentary gathering site, one of which has been unearthed in the town of Dingwall. That name had long clued archaeologists into the potential for such a find: Dingwall is likely derived from the word thingvellir, or \\\"the field of the assembly,\\\" LiveScience reports. But finding a \\\"Thing\\\" site is no small task, in part because the gatherings usually occurred in open fields, and the temporary nature of them meant only modest traces of human life were left behind. Indeed, this is only the second \\\"Thing\\\" found in the UK, the Scotsman reports. It was uncovered after the team used historical records to identify a mound that had once been called the \\\"assembly mound\\\"; a parking lot now covers it. Excavations \\\"indicated that the mound was man-made,\\\" likely in the 11th century, says site director Oliver JT O'Grady, and \\\"radio-carbon datings provide strong scientific evidence to support the interpretation that the mound was created during the period of late Norwegian political influence in Ross-shire and wider.\\\" He and his team aren't exactly sure who built the site, but based on its size, that creator would have needed both \\\"political power and resources,\\\" explains LiveScience. One guess: Thorfinn the Mighty, who fought a battle in the area around that time. (In less positive Viking news, ancient jewels were stolen this week.)\"\n        ],\n        \"semantic_type\": \"\",\n        \"description\": \"\"\n      }\n    }\n  ]\n}"
            }
          },
          "metadata": {},
          "execution_count": 77
        }
      ]
    },
    {
      "cell_type": "code",
      "source": [
        "import gc\n",
        "import torch\n",
        "torch.cuda.empty_cache()\n",
        "gc.collect()"
      ],
      "metadata": {
        "colab": {
          "base_uri": "https://localhost:8080/"
        },
        "id": "-hPEjg32zAbt",
        "outputId": "d9b7eb30-ec6d-4881-8a72-4d59afb9c13d"
      },
      "execution_count": 78,
      "outputs": [
        {
          "output_type": "execute_result",
          "data": {
            "text/plain": [
              "1315"
            ]
          },
          "metadata": {},
          "execution_count": 78
        }
      ]
    },
    {
      "cell_type": "code",
      "source": [
        "# now = datetime.datetime.now()\n",
        "\n",
        "# description= \"\"\"Evaluation  Tuned T5-Large Model converted to ONNX with optimum-cli and quantized INT8\n",
        "\n",
        "# \"\"\"\n",
        "# with mlflow.start_run(run_name=f\"evaluation_to_onnx_{now.strftime('%Y-%m-%d_%H:%M:%S')}\", description=description) as run:\n",
        "\n",
        "#     results = mlflow.evaluate(\n",
        "#          model=onnx_summ,\n",
        "#          data= df_test[:10],\n",
        "#         targets=\"summary\",  # specify which column corresponds to the expected output\n",
        "#         model_type=\"text-summarization\",  # model type indicates which metrics are relevant for this task\n",
        "#         evaluators=\"default\",\n",
        "#     )\n",
        "# results.metrics"
      ],
      "metadata": {
        "id": "p8aYj2B8Cj1U"
      },
      "execution_count": 80,
      "outputs": []
    },
    {
      "cell_type": "code",
      "source": [
        "#pprint.pprint(results.metrics)"
      ],
      "metadata": {
        "id": "2ogCOgf4ARUL"
      },
      "execution_count": 86,
      "outputs": []
    }
  ]
}