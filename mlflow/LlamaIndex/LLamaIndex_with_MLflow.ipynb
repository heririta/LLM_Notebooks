{
  "nbformat": 4,
  "nbformat_minor": 0,
  "metadata": {
    "colab": {
      "provenance": [],
      "machine_shape": "hm",
      "mount_file_id": "1nCTE_UQtpr_w5Ks-2nDpPU9rWf9lcZt1",
      "authorship_tag": "ABX9TyOZe2SwpoJcbwCBBBxZHXsb",
      "include_colab_link": true
    },
    "kernelspec": {
      "name": "python3",
      "display_name": "Python 3"
    },
    "language_info": {
      "name": "python"
    },
    "widgets": {
      "application/vnd.jupyter.widget-state+json": {
        "5f9aee0057f8493abc9961f669d8f955": {
          "model_module": "@jupyter-widgets/controls",
          "model_name": "HBoxModel",
          "model_module_version": "1.5.0",
          "state": {
            "_dom_classes": [],
            "_model_module": "@jupyter-widgets/controls",
            "_model_module_version": "1.5.0",
            "_model_name": "HBoxModel",
            "_view_count": null,
            "_view_module": "@jupyter-widgets/controls",
            "_view_module_version": "1.5.0",
            "_view_name": "HBoxView",
            "box_style": "",
            "children": [
              "IPY_MODEL_e29f8e87da3e4c3ebb21c226c2291a8f",
              "IPY_MODEL_6104f753a80d4f13bcb03706ae8b76f1",
              "IPY_MODEL_191bc24992874d92809cb309f40d6006"
            ],
            "layout": "IPY_MODEL_dcddbbbf01ae44daab507f062e9a141f"
          }
        },
        "e29f8e87da3e4c3ebb21c226c2291a8f": {
          "model_module": "@jupyter-widgets/controls",
          "model_name": "HTMLModel",
          "model_module_version": "1.5.0",
          "state": {
            "_dom_classes": [],
            "_model_module": "@jupyter-widgets/controls",
            "_model_module_version": "1.5.0",
            "_model_name": "HTMLModel",
            "_view_count": null,
            "_view_module": "@jupyter-widgets/controls",
            "_view_module_version": "1.5.0",
            "_view_name": "HTMLView",
            "description": "",
            "description_tooltip": null,
            "layout": "IPY_MODEL_9daf3ad67341474c8c41bfcf9890ea8e",
            "placeholder": "​",
            "style": "IPY_MODEL_dc62d1d3bd1648b1b73f8ffddfbc6596",
            "value": "Downloading artifacts: 100%"
          }
        },
        "6104f753a80d4f13bcb03706ae8b76f1": {
          "model_module": "@jupyter-widgets/controls",
          "model_name": "FloatProgressModel",
          "model_module_version": "1.5.0",
          "state": {
            "_dom_classes": [],
            "_model_module": "@jupyter-widgets/controls",
            "_model_module_version": "1.5.0",
            "_model_name": "FloatProgressModel",
            "_view_count": null,
            "_view_module": "@jupyter-widgets/controls",
            "_view_module_version": "1.5.0",
            "_view_name": "ProgressView",
            "bar_style": "success",
            "description": "",
            "description_tooltip": null,
            "layout": "IPY_MODEL_260d28ce73754a8e874f125697ab5cec",
            "max": 12,
            "min": 0,
            "orientation": "horizontal",
            "style": "IPY_MODEL_a2ef8a65185a414a9299ac81fcbf716a",
            "value": 12
          }
        },
        "191bc24992874d92809cb309f40d6006": {
          "model_module": "@jupyter-widgets/controls",
          "model_name": "HTMLModel",
          "model_module_version": "1.5.0",
          "state": {
            "_dom_classes": [],
            "_model_module": "@jupyter-widgets/controls",
            "_model_module_version": "1.5.0",
            "_model_name": "HTMLModel",
            "_view_count": null,
            "_view_module": "@jupyter-widgets/controls",
            "_view_module_version": "1.5.0",
            "_view_name": "HTMLView",
            "description": "",
            "description_tooltip": null,
            "layout": "IPY_MODEL_8f884788c7d84c7ba492ef1a36f59371",
            "placeholder": "​",
            "style": "IPY_MODEL_682e6bc9aa4b4e978a17dca8ec126e51",
            "value": " 12/12 [00:00&lt;00:00, 123.86it/s]"
          }
        },
        "dcddbbbf01ae44daab507f062e9a141f": {
          "model_module": "@jupyter-widgets/base",
          "model_name": "LayoutModel",
          "model_module_version": "1.2.0",
          "state": {
            "_model_module": "@jupyter-widgets/base",
            "_model_module_version": "1.2.0",
            "_model_name": "LayoutModel",
            "_view_count": null,
            "_view_module": "@jupyter-widgets/base",
            "_view_module_version": "1.2.0",
            "_view_name": "LayoutView",
            "align_content": null,
            "align_items": null,
            "align_self": null,
            "border": null,
            "bottom": null,
            "display": null,
            "flex": null,
            "flex_flow": null,
            "grid_area": null,
            "grid_auto_columns": null,
            "grid_auto_flow": null,
            "grid_auto_rows": null,
            "grid_column": null,
            "grid_gap": null,
            "grid_row": null,
            "grid_template_areas": null,
            "grid_template_columns": null,
            "grid_template_rows": null,
            "height": null,
            "justify_content": null,
            "justify_items": null,
            "left": null,
            "margin": null,
            "max_height": null,
            "max_width": null,
            "min_height": null,
            "min_width": null,
            "object_fit": null,
            "object_position": null,
            "order": null,
            "overflow": null,
            "overflow_x": null,
            "overflow_y": null,
            "padding": null,
            "right": null,
            "top": null,
            "visibility": null,
            "width": null
          }
        },
        "9daf3ad67341474c8c41bfcf9890ea8e": {
          "model_module": "@jupyter-widgets/base",
          "model_name": "LayoutModel",
          "model_module_version": "1.2.0",
          "state": {
            "_model_module": "@jupyter-widgets/base",
            "_model_module_version": "1.2.0",
            "_model_name": "LayoutModel",
            "_view_count": null,
            "_view_module": "@jupyter-widgets/base",
            "_view_module_version": "1.2.0",
            "_view_name": "LayoutView",
            "align_content": null,
            "align_items": null,
            "align_self": null,
            "border": null,
            "bottom": null,
            "display": null,
            "flex": null,
            "flex_flow": null,
            "grid_area": null,
            "grid_auto_columns": null,
            "grid_auto_flow": null,
            "grid_auto_rows": null,
            "grid_column": null,
            "grid_gap": null,
            "grid_row": null,
            "grid_template_areas": null,
            "grid_template_columns": null,
            "grid_template_rows": null,
            "height": null,
            "justify_content": null,
            "justify_items": null,
            "left": null,
            "margin": null,
            "max_height": null,
            "max_width": null,
            "min_height": null,
            "min_width": null,
            "object_fit": null,
            "object_position": null,
            "order": null,
            "overflow": null,
            "overflow_x": null,
            "overflow_y": null,
            "padding": null,
            "right": null,
            "top": null,
            "visibility": null,
            "width": null
          }
        },
        "dc62d1d3bd1648b1b73f8ffddfbc6596": {
          "model_module": "@jupyter-widgets/controls",
          "model_name": "DescriptionStyleModel",
          "model_module_version": "1.5.0",
          "state": {
            "_model_module": "@jupyter-widgets/controls",
            "_model_module_version": "1.5.0",
            "_model_name": "DescriptionStyleModel",
            "_view_count": null,
            "_view_module": "@jupyter-widgets/base",
            "_view_module_version": "1.2.0",
            "_view_name": "StyleView",
            "description_width": ""
          }
        },
        "260d28ce73754a8e874f125697ab5cec": {
          "model_module": "@jupyter-widgets/base",
          "model_name": "LayoutModel",
          "model_module_version": "1.2.0",
          "state": {
            "_model_module": "@jupyter-widgets/base",
            "_model_module_version": "1.2.0",
            "_model_name": "LayoutModel",
            "_view_count": null,
            "_view_module": "@jupyter-widgets/base",
            "_view_module_version": "1.2.0",
            "_view_name": "LayoutView",
            "align_content": null,
            "align_items": null,
            "align_self": null,
            "border": null,
            "bottom": null,
            "display": null,
            "flex": null,
            "flex_flow": null,
            "grid_area": null,
            "grid_auto_columns": null,
            "grid_auto_flow": null,
            "grid_auto_rows": null,
            "grid_column": null,
            "grid_gap": null,
            "grid_row": null,
            "grid_template_areas": null,
            "grid_template_columns": null,
            "grid_template_rows": null,
            "height": null,
            "justify_content": null,
            "justify_items": null,
            "left": null,
            "margin": null,
            "max_height": null,
            "max_width": null,
            "min_height": null,
            "min_width": null,
            "object_fit": null,
            "object_position": null,
            "order": null,
            "overflow": null,
            "overflow_x": null,
            "overflow_y": null,
            "padding": null,
            "right": null,
            "top": null,
            "visibility": null,
            "width": null
          }
        },
        "a2ef8a65185a414a9299ac81fcbf716a": {
          "model_module": "@jupyter-widgets/controls",
          "model_name": "ProgressStyleModel",
          "model_module_version": "1.5.0",
          "state": {
            "_model_module": "@jupyter-widgets/controls",
            "_model_module_version": "1.5.0",
            "_model_name": "ProgressStyleModel",
            "_view_count": null,
            "_view_module": "@jupyter-widgets/base",
            "_view_module_version": "1.2.0",
            "_view_name": "StyleView",
            "bar_color": null,
            "description_width": ""
          }
        },
        "8f884788c7d84c7ba492ef1a36f59371": {
          "model_module": "@jupyter-widgets/base",
          "model_name": "LayoutModel",
          "model_module_version": "1.2.0",
          "state": {
            "_model_module": "@jupyter-widgets/base",
            "_model_module_version": "1.2.0",
            "_model_name": "LayoutModel",
            "_view_count": null,
            "_view_module": "@jupyter-widgets/base",
            "_view_module_version": "1.2.0",
            "_view_name": "LayoutView",
            "align_content": null,
            "align_items": null,
            "align_self": null,
            "border": null,
            "bottom": null,
            "display": null,
            "flex": null,
            "flex_flow": null,
            "grid_area": null,
            "grid_auto_columns": null,
            "grid_auto_flow": null,
            "grid_auto_rows": null,
            "grid_column": null,
            "grid_gap": null,
            "grid_row": null,
            "grid_template_areas": null,
            "grid_template_columns": null,
            "grid_template_rows": null,
            "height": null,
            "justify_content": null,
            "justify_items": null,
            "left": null,
            "margin": null,
            "max_height": null,
            "max_width": null,
            "min_height": null,
            "min_width": null,
            "object_fit": null,
            "object_position": null,
            "order": null,
            "overflow": null,
            "overflow_x": null,
            "overflow_y": null,
            "padding": null,
            "right": null,
            "top": null,
            "visibility": null,
            "width": null
          }
        },
        "682e6bc9aa4b4e978a17dca8ec126e51": {
          "model_module": "@jupyter-widgets/controls",
          "model_name": "DescriptionStyleModel",
          "model_module_version": "1.5.0",
          "state": {
            "_model_module": "@jupyter-widgets/controls",
            "_model_module_version": "1.5.0",
            "_model_name": "DescriptionStyleModel",
            "_view_count": null,
            "_view_module": "@jupyter-widgets/base",
            "_view_module_version": "1.2.0",
            "_view_name": "StyleView",
            "description_width": ""
          }
        },
        "7b6391c8435a4a11a7f6a1455b59e91c": {
          "model_module": "@jupyter-widgets/controls",
          "model_name": "HBoxModel",
          "model_module_version": "1.5.0",
          "state": {
            "_dom_classes": [],
            "_model_module": "@jupyter-widgets/controls",
            "_model_module_version": "1.5.0",
            "_model_name": "HBoxModel",
            "_view_count": null,
            "_view_module": "@jupyter-widgets/controls",
            "_view_module_version": "1.5.0",
            "_view_name": "HBoxView",
            "box_style": "",
            "children": [
              "IPY_MODEL_fc6d7107c73a4e90800434bc49726b7d",
              "IPY_MODEL_87a06e0f67314bbb86a4da9bb4ec39b1",
              "IPY_MODEL_ac5dcea97e034ff9896c9b9fbfdb2571"
            ],
            "layout": "IPY_MODEL_8ac725056e784a6aa0a3125ade7d15fd"
          }
        },
        "fc6d7107c73a4e90800434bc49726b7d": {
          "model_module": "@jupyter-widgets/controls",
          "model_name": "HTMLModel",
          "model_module_version": "1.5.0",
          "state": {
            "_dom_classes": [],
            "_model_module": "@jupyter-widgets/controls",
            "_model_module_version": "1.5.0",
            "_model_name": "HTMLModel",
            "_view_count": null,
            "_view_module": "@jupyter-widgets/controls",
            "_view_module_version": "1.5.0",
            "_view_name": "HTMLView",
            "description": "",
            "description_tooltip": null,
            "layout": "IPY_MODEL_95679f82a2e248e08a97b7046efb2da3",
            "placeholder": "​",
            "style": "IPY_MODEL_e2c476f5233a4a24833b4c10e9b007f5",
            "value": "Downloading artifacts: 100%"
          }
        },
        "87a06e0f67314bbb86a4da9bb4ec39b1": {
          "model_module": "@jupyter-widgets/controls",
          "model_name": "FloatProgressModel",
          "model_module_version": "1.5.0",
          "state": {
            "_dom_classes": [],
            "_model_module": "@jupyter-widgets/controls",
            "_model_module_version": "1.5.0",
            "_model_name": "FloatProgressModel",
            "_view_count": null,
            "_view_module": "@jupyter-widgets/controls",
            "_view_module_version": "1.5.0",
            "_view_name": "ProgressView",
            "bar_style": "success",
            "description": "",
            "description_tooltip": null,
            "layout": "IPY_MODEL_4be1c16af0804454b7f22094fc752c31",
            "max": 12,
            "min": 0,
            "orientation": "horizontal",
            "style": "IPY_MODEL_30f8ab5a877c4cf8ac0628369d8ed3c8",
            "value": 12
          }
        },
        "ac5dcea97e034ff9896c9b9fbfdb2571": {
          "model_module": "@jupyter-widgets/controls",
          "model_name": "HTMLModel",
          "model_module_version": "1.5.0",
          "state": {
            "_dom_classes": [],
            "_model_module": "@jupyter-widgets/controls",
            "_model_module_version": "1.5.0",
            "_model_name": "HTMLModel",
            "_view_count": null,
            "_view_module": "@jupyter-widgets/controls",
            "_view_module_version": "1.5.0",
            "_view_name": "HTMLView",
            "description": "",
            "description_tooltip": null,
            "layout": "IPY_MODEL_41a29219824d4f99895fb6129b27863d",
            "placeholder": "​",
            "style": "IPY_MODEL_d12e7e09adbc41c19dbc3fb354e85d92",
            "value": " 12/12 [00:00&lt;00:00, 139.11it/s]"
          }
        },
        "8ac725056e784a6aa0a3125ade7d15fd": {
          "model_module": "@jupyter-widgets/base",
          "model_name": "LayoutModel",
          "model_module_version": "1.2.0",
          "state": {
            "_model_module": "@jupyter-widgets/base",
            "_model_module_version": "1.2.0",
            "_model_name": "LayoutModel",
            "_view_count": null,
            "_view_module": "@jupyter-widgets/base",
            "_view_module_version": "1.2.0",
            "_view_name": "LayoutView",
            "align_content": null,
            "align_items": null,
            "align_self": null,
            "border": null,
            "bottom": null,
            "display": null,
            "flex": null,
            "flex_flow": null,
            "grid_area": null,
            "grid_auto_columns": null,
            "grid_auto_flow": null,
            "grid_auto_rows": null,
            "grid_column": null,
            "grid_gap": null,
            "grid_row": null,
            "grid_template_areas": null,
            "grid_template_columns": null,
            "grid_template_rows": null,
            "height": null,
            "justify_content": null,
            "justify_items": null,
            "left": null,
            "margin": null,
            "max_height": null,
            "max_width": null,
            "min_height": null,
            "min_width": null,
            "object_fit": null,
            "object_position": null,
            "order": null,
            "overflow": null,
            "overflow_x": null,
            "overflow_y": null,
            "padding": null,
            "right": null,
            "top": null,
            "visibility": null,
            "width": null
          }
        },
        "95679f82a2e248e08a97b7046efb2da3": {
          "model_module": "@jupyter-widgets/base",
          "model_name": "LayoutModel",
          "model_module_version": "1.2.0",
          "state": {
            "_model_module": "@jupyter-widgets/base",
            "_model_module_version": "1.2.0",
            "_model_name": "LayoutModel",
            "_view_count": null,
            "_view_module": "@jupyter-widgets/base",
            "_view_module_version": "1.2.0",
            "_view_name": "LayoutView",
            "align_content": null,
            "align_items": null,
            "align_self": null,
            "border": null,
            "bottom": null,
            "display": null,
            "flex": null,
            "flex_flow": null,
            "grid_area": null,
            "grid_auto_columns": null,
            "grid_auto_flow": null,
            "grid_auto_rows": null,
            "grid_column": null,
            "grid_gap": null,
            "grid_row": null,
            "grid_template_areas": null,
            "grid_template_columns": null,
            "grid_template_rows": null,
            "height": null,
            "justify_content": null,
            "justify_items": null,
            "left": null,
            "margin": null,
            "max_height": null,
            "max_width": null,
            "min_height": null,
            "min_width": null,
            "object_fit": null,
            "object_position": null,
            "order": null,
            "overflow": null,
            "overflow_x": null,
            "overflow_y": null,
            "padding": null,
            "right": null,
            "top": null,
            "visibility": null,
            "width": null
          }
        },
        "e2c476f5233a4a24833b4c10e9b007f5": {
          "model_module": "@jupyter-widgets/controls",
          "model_name": "DescriptionStyleModel",
          "model_module_version": "1.5.0",
          "state": {
            "_model_module": "@jupyter-widgets/controls",
            "_model_module_version": "1.5.0",
            "_model_name": "DescriptionStyleModel",
            "_view_count": null,
            "_view_module": "@jupyter-widgets/base",
            "_view_module_version": "1.2.0",
            "_view_name": "StyleView",
            "description_width": ""
          }
        },
        "4be1c16af0804454b7f22094fc752c31": {
          "model_module": "@jupyter-widgets/base",
          "model_name": "LayoutModel",
          "model_module_version": "1.2.0",
          "state": {
            "_model_module": "@jupyter-widgets/base",
            "_model_module_version": "1.2.0",
            "_model_name": "LayoutModel",
            "_view_count": null,
            "_view_module": "@jupyter-widgets/base",
            "_view_module_version": "1.2.0",
            "_view_name": "LayoutView",
            "align_content": null,
            "align_items": null,
            "align_self": null,
            "border": null,
            "bottom": null,
            "display": null,
            "flex": null,
            "flex_flow": null,
            "grid_area": null,
            "grid_auto_columns": null,
            "grid_auto_flow": null,
            "grid_auto_rows": null,
            "grid_column": null,
            "grid_gap": null,
            "grid_row": null,
            "grid_template_areas": null,
            "grid_template_columns": null,
            "grid_template_rows": null,
            "height": null,
            "justify_content": null,
            "justify_items": null,
            "left": null,
            "margin": null,
            "max_height": null,
            "max_width": null,
            "min_height": null,
            "min_width": null,
            "object_fit": null,
            "object_position": null,
            "order": null,
            "overflow": null,
            "overflow_x": null,
            "overflow_y": null,
            "padding": null,
            "right": null,
            "top": null,
            "visibility": null,
            "width": null
          }
        },
        "30f8ab5a877c4cf8ac0628369d8ed3c8": {
          "model_module": "@jupyter-widgets/controls",
          "model_name": "ProgressStyleModel",
          "model_module_version": "1.5.0",
          "state": {
            "_model_module": "@jupyter-widgets/controls",
            "_model_module_version": "1.5.0",
            "_model_name": "ProgressStyleModel",
            "_view_count": null,
            "_view_module": "@jupyter-widgets/base",
            "_view_module_version": "1.2.0",
            "_view_name": "StyleView",
            "bar_color": null,
            "description_width": ""
          }
        },
        "41a29219824d4f99895fb6129b27863d": {
          "model_module": "@jupyter-widgets/base",
          "model_name": "LayoutModel",
          "model_module_version": "1.2.0",
          "state": {
            "_model_module": "@jupyter-widgets/base",
            "_model_module_version": "1.2.0",
            "_model_name": "LayoutModel",
            "_view_count": null,
            "_view_module": "@jupyter-widgets/base",
            "_view_module_version": "1.2.0",
            "_view_name": "LayoutView",
            "align_content": null,
            "align_items": null,
            "align_self": null,
            "border": null,
            "bottom": null,
            "display": null,
            "flex": null,
            "flex_flow": null,
            "grid_area": null,
            "grid_auto_columns": null,
            "grid_auto_flow": null,
            "grid_auto_rows": null,
            "grid_column": null,
            "grid_gap": null,
            "grid_row": null,
            "grid_template_areas": null,
            "grid_template_columns": null,
            "grid_template_rows": null,
            "height": null,
            "justify_content": null,
            "justify_items": null,
            "left": null,
            "margin": null,
            "max_height": null,
            "max_width": null,
            "min_height": null,
            "min_width": null,
            "object_fit": null,
            "object_position": null,
            "order": null,
            "overflow": null,
            "overflow_x": null,
            "overflow_y": null,
            "padding": null,
            "right": null,
            "top": null,
            "visibility": null,
            "width": null
          }
        },
        "d12e7e09adbc41c19dbc3fb354e85d92": {
          "model_module": "@jupyter-widgets/controls",
          "model_name": "DescriptionStyleModel",
          "model_module_version": "1.5.0",
          "state": {
            "_model_module": "@jupyter-widgets/controls",
            "_model_module_version": "1.5.0",
            "_model_name": "DescriptionStyleModel",
            "_view_count": null,
            "_view_module": "@jupyter-widgets/base",
            "_view_module_version": "1.2.0",
            "_view_name": "StyleView",
            "description_width": ""
          }
        },
        "d9800bd15a29436a87deec32304903e5": {
          "model_module": "@jupyter-widgets/controls",
          "model_name": "HBoxModel",
          "model_module_version": "1.5.0",
          "state": {
            "_dom_classes": [],
            "_model_module": "@jupyter-widgets/controls",
            "_model_module_version": "1.5.0",
            "_model_name": "HBoxModel",
            "_view_count": null,
            "_view_module": "@jupyter-widgets/controls",
            "_view_module_version": "1.5.0",
            "_view_name": "HBoxView",
            "box_style": "",
            "children": [
              "IPY_MODEL_a5da8059a53d45af8bbca61cbe0ff28e",
              "IPY_MODEL_c4661f12cf4d4d31ae60832a1905b979",
              "IPY_MODEL_f64aec2612464894a2b34a0251aa175e"
            ],
            "layout": "IPY_MODEL_9fe3c223dfe54f9c9a30d4b9d4e436b7"
          }
        },
        "a5da8059a53d45af8bbca61cbe0ff28e": {
          "model_module": "@jupyter-widgets/controls",
          "model_name": "HTMLModel",
          "model_module_version": "1.5.0",
          "state": {
            "_dom_classes": [],
            "_model_module": "@jupyter-widgets/controls",
            "_model_module_version": "1.5.0",
            "_model_name": "HTMLModel",
            "_view_count": null,
            "_view_module": "@jupyter-widgets/controls",
            "_view_module_version": "1.5.0",
            "_view_name": "HTMLView",
            "description": "",
            "description_tooltip": null,
            "layout": "IPY_MODEL_774b27500e534d4cb1cfb558db9e3bad",
            "placeholder": "​",
            "style": "IPY_MODEL_b22a964ebdc449bc9697740e6c1cd39d",
            "value": "Downloading artifacts: 100%"
          }
        },
        "c4661f12cf4d4d31ae60832a1905b979": {
          "model_module": "@jupyter-widgets/controls",
          "model_name": "FloatProgressModel",
          "model_module_version": "1.5.0",
          "state": {
            "_dom_classes": [],
            "_model_module": "@jupyter-widgets/controls",
            "_model_module_version": "1.5.0",
            "_model_name": "FloatProgressModel",
            "_view_count": null,
            "_view_module": "@jupyter-widgets/controls",
            "_view_module_version": "1.5.0",
            "_view_name": "ProgressView",
            "bar_style": "success",
            "description": "",
            "description_tooltip": null,
            "layout": "IPY_MODEL_54f5534e99534a7faf52b4b64e57fa45",
            "max": 12,
            "min": 0,
            "orientation": "horizontal",
            "style": "IPY_MODEL_33a96f318a5b417e8af5c0881460f5f2",
            "value": 12
          }
        },
        "f64aec2612464894a2b34a0251aa175e": {
          "model_module": "@jupyter-widgets/controls",
          "model_name": "HTMLModel",
          "model_module_version": "1.5.0",
          "state": {
            "_dom_classes": [],
            "_model_module": "@jupyter-widgets/controls",
            "_model_module_version": "1.5.0",
            "_model_name": "HTMLModel",
            "_view_count": null,
            "_view_module": "@jupyter-widgets/controls",
            "_view_module_version": "1.5.0",
            "_view_name": "HTMLView",
            "description": "",
            "description_tooltip": null,
            "layout": "IPY_MODEL_0d3e047be11c4a2381b4308077d9ea65",
            "placeholder": "​",
            "style": "IPY_MODEL_e0856d6ce69c4bb8915d7910b122fc00",
            "value": " 12/12 [00:00&lt;00:00, 106.37it/s]"
          }
        },
        "9fe3c223dfe54f9c9a30d4b9d4e436b7": {
          "model_module": "@jupyter-widgets/base",
          "model_name": "LayoutModel",
          "model_module_version": "1.2.0",
          "state": {
            "_model_module": "@jupyter-widgets/base",
            "_model_module_version": "1.2.0",
            "_model_name": "LayoutModel",
            "_view_count": null,
            "_view_module": "@jupyter-widgets/base",
            "_view_module_version": "1.2.0",
            "_view_name": "LayoutView",
            "align_content": null,
            "align_items": null,
            "align_self": null,
            "border": null,
            "bottom": null,
            "display": null,
            "flex": null,
            "flex_flow": null,
            "grid_area": null,
            "grid_auto_columns": null,
            "grid_auto_flow": null,
            "grid_auto_rows": null,
            "grid_column": null,
            "grid_gap": null,
            "grid_row": null,
            "grid_template_areas": null,
            "grid_template_columns": null,
            "grid_template_rows": null,
            "height": null,
            "justify_content": null,
            "justify_items": null,
            "left": null,
            "margin": null,
            "max_height": null,
            "max_width": null,
            "min_height": null,
            "min_width": null,
            "object_fit": null,
            "object_position": null,
            "order": null,
            "overflow": null,
            "overflow_x": null,
            "overflow_y": null,
            "padding": null,
            "right": null,
            "top": null,
            "visibility": null,
            "width": null
          }
        },
        "774b27500e534d4cb1cfb558db9e3bad": {
          "model_module": "@jupyter-widgets/base",
          "model_name": "LayoutModel",
          "model_module_version": "1.2.0",
          "state": {
            "_model_module": "@jupyter-widgets/base",
            "_model_module_version": "1.2.0",
            "_model_name": "LayoutModel",
            "_view_count": null,
            "_view_module": "@jupyter-widgets/base",
            "_view_module_version": "1.2.0",
            "_view_name": "LayoutView",
            "align_content": null,
            "align_items": null,
            "align_self": null,
            "border": null,
            "bottom": null,
            "display": null,
            "flex": null,
            "flex_flow": null,
            "grid_area": null,
            "grid_auto_columns": null,
            "grid_auto_flow": null,
            "grid_auto_rows": null,
            "grid_column": null,
            "grid_gap": null,
            "grid_row": null,
            "grid_template_areas": null,
            "grid_template_columns": null,
            "grid_template_rows": null,
            "height": null,
            "justify_content": null,
            "justify_items": null,
            "left": null,
            "margin": null,
            "max_height": null,
            "max_width": null,
            "min_height": null,
            "min_width": null,
            "object_fit": null,
            "object_position": null,
            "order": null,
            "overflow": null,
            "overflow_x": null,
            "overflow_y": null,
            "padding": null,
            "right": null,
            "top": null,
            "visibility": null,
            "width": null
          }
        },
        "b22a964ebdc449bc9697740e6c1cd39d": {
          "model_module": "@jupyter-widgets/controls",
          "model_name": "DescriptionStyleModel",
          "model_module_version": "1.5.0",
          "state": {
            "_model_module": "@jupyter-widgets/controls",
            "_model_module_version": "1.5.0",
            "_model_name": "DescriptionStyleModel",
            "_view_count": null,
            "_view_module": "@jupyter-widgets/base",
            "_view_module_version": "1.2.0",
            "_view_name": "StyleView",
            "description_width": ""
          }
        },
        "54f5534e99534a7faf52b4b64e57fa45": {
          "model_module": "@jupyter-widgets/base",
          "model_name": "LayoutModel",
          "model_module_version": "1.2.0",
          "state": {
            "_model_module": "@jupyter-widgets/base",
            "_model_module_version": "1.2.0",
            "_model_name": "LayoutModel",
            "_view_count": null,
            "_view_module": "@jupyter-widgets/base",
            "_view_module_version": "1.2.0",
            "_view_name": "LayoutView",
            "align_content": null,
            "align_items": null,
            "align_self": null,
            "border": null,
            "bottom": null,
            "display": null,
            "flex": null,
            "flex_flow": null,
            "grid_area": null,
            "grid_auto_columns": null,
            "grid_auto_flow": null,
            "grid_auto_rows": null,
            "grid_column": null,
            "grid_gap": null,
            "grid_row": null,
            "grid_template_areas": null,
            "grid_template_columns": null,
            "grid_template_rows": null,
            "height": null,
            "justify_content": null,
            "justify_items": null,
            "left": null,
            "margin": null,
            "max_height": null,
            "max_width": null,
            "min_height": null,
            "min_width": null,
            "object_fit": null,
            "object_position": null,
            "order": null,
            "overflow": null,
            "overflow_x": null,
            "overflow_y": null,
            "padding": null,
            "right": null,
            "top": null,
            "visibility": null,
            "width": null
          }
        },
        "33a96f318a5b417e8af5c0881460f5f2": {
          "model_module": "@jupyter-widgets/controls",
          "model_name": "ProgressStyleModel",
          "model_module_version": "1.5.0",
          "state": {
            "_model_module": "@jupyter-widgets/controls",
            "_model_module_version": "1.5.0",
            "_model_name": "ProgressStyleModel",
            "_view_count": null,
            "_view_module": "@jupyter-widgets/base",
            "_view_module_version": "1.2.0",
            "_view_name": "StyleView",
            "bar_color": null,
            "description_width": ""
          }
        },
        "0d3e047be11c4a2381b4308077d9ea65": {
          "model_module": "@jupyter-widgets/base",
          "model_name": "LayoutModel",
          "model_module_version": "1.2.0",
          "state": {
            "_model_module": "@jupyter-widgets/base",
            "_model_module_version": "1.2.0",
            "_model_name": "LayoutModel",
            "_view_count": null,
            "_view_module": "@jupyter-widgets/base",
            "_view_module_version": "1.2.0",
            "_view_name": "LayoutView",
            "align_content": null,
            "align_items": null,
            "align_self": null,
            "border": null,
            "bottom": null,
            "display": null,
            "flex": null,
            "flex_flow": null,
            "grid_area": null,
            "grid_auto_columns": null,
            "grid_auto_flow": null,
            "grid_auto_rows": null,
            "grid_column": null,
            "grid_gap": null,
            "grid_row": null,
            "grid_template_areas": null,
            "grid_template_columns": null,
            "grid_template_rows": null,
            "height": null,
            "justify_content": null,
            "justify_items": null,
            "left": null,
            "margin": null,
            "max_height": null,
            "max_width": null,
            "min_height": null,
            "min_width": null,
            "object_fit": null,
            "object_position": null,
            "order": null,
            "overflow": null,
            "overflow_x": null,
            "overflow_y": null,
            "padding": null,
            "right": null,
            "top": null,
            "visibility": null,
            "width": null
          }
        },
        "e0856d6ce69c4bb8915d7910b122fc00": {
          "model_module": "@jupyter-widgets/controls",
          "model_name": "DescriptionStyleModel",
          "model_module_version": "1.5.0",
          "state": {
            "_model_module": "@jupyter-widgets/controls",
            "_model_module_version": "1.5.0",
            "_model_name": "DescriptionStyleModel",
            "_view_count": null,
            "_view_module": "@jupyter-widgets/base",
            "_view_module_version": "1.2.0",
            "_view_name": "StyleView",
            "description_width": ""
          }
        },
        "442820ff88544fa1888d843d803cc710": {
          "model_module": "@jupyter-widgets/controls",
          "model_name": "HBoxModel",
          "model_module_version": "1.5.0",
          "state": {
            "_dom_classes": [],
            "_model_module": "@jupyter-widgets/controls",
            "_model_module_version": "1.5.0",
            "_model_name": "HBoxModel",
            "_view_count": null,
            "_view_module": "@jupyter-widgets/controls",
            "_view_module_version": "1.5.0",
            "_view_name": "HBoxView",
            "box_style": "",
            "children": [
              "IPY_MODEL_06d676ad374c473097d04de5e5fbf5c0",
              "IPY_MODEL_face58ef2215435c8a19fe91f6b5b740",
              "IPY_MODEL_24164e1dd32f412b8d59fafe15290821"
            ],
            "layout": "IPY_MODEL_c9f538f9e6284ebab27894fd631e2fe2"
          }
        },
        "06d676ad374c473097d04de5e5fbf5c0": {
          "model_module": "@jupyter-widgets/controls",
          "model_name": "HTMLModel",
          "model_module_version": "1.5.0",
          "state": {
            "_dom_classes": [],
            "_model_module": "@jupyter-widgets/controls",
            "_model_module_version": "1.5.0",
            "_model_name": "HTMLModel",
            "_view_count": null,
            "_view_module": "@jupyter-widgets/controls",
            "_view_module_version": "1.5.0",
            "_view_name": "HTMLView",
            "description": "",
            "description_tooltip": null,
            "layout": "IPY_MODEL_53671e43a87341879aabd829a1eed340",
            "placeholder": "​",
            "style": "IPY_MODEL_90e1ccdaa29b4994a4dadf9a91e38bbb",
            "value": "Downloading artifacts: 100%"
          }
        },
        "face58ef2215435c8a19fe91f6b5b740": {
          "model_module": "@jupyter-widgets/controls",
          "model_name": "FloatProgressModel",
          "model_module_version": "1.5.0",
          "state": {
            "_dom_classes": [],
            "_model_module": "@jupyter-widgets/controls",
            "_model_module_version": "1.5.0",
            "_model_name": "FloatProgressModel",
            "_view_count": null,
            "_view_module": "@jupyter-widgets/controls",
            "_view_module_version": "1.5.0",
            "_view_name": "ProgressView",
            "bar_style": "success",
            "description": "",
            "description_tooltip": null,
            "layout": "IPY_MODEL_f4392e52e32041e3a6b38934701549a4",
            "max": 12,
            "min": 0,
            "orientation": "horizontal",
            "style": "IPY_MODEL_156ac8fd5ad24515b64a5709e5097c66",
            "value": 12
          }
        },
        "24164e1dd32f412b8d59fafe15290821": {
          "model_module": "@jupyter-widgets/controls",
          "model_name": "HTMLModel",
          "model_module_version": "1.5.0",
          "state": {
            "_dom_classes": [],
            "_model_module": "@jupyter-widgets/controls",
            "_model_module_version": "1.5.0",
            "_model_name": "HTMLModel",
            "_view_count": null,
            "_view_module": "@jupyter-widgets/controls",
            "_view_module_version": "1.5.0",
            "_view_name": "HTMLView",
            "description": "",
            "description_tooltip": null,
            "layout": "IPY_MODEL_e5531227140b4e5c80d6adb5b2862583",
            "placeholder": "​",
            "style": "IPY_MODEL_caadc3e4501b448d8a4bf90a6e5a02f0",
            "value": " 12/12 [00:00&lt;00:00, 107.19it/s]"
          }
        },
        "c9f538f9e6284ebab27894fd631e2fe2": {
          "model_module": "@jupyter-widgets/base",
          "model_name": "LayoutModel",
          "model_module_version": "1.2.0",
          "state": {
            "_model_module": "@jupyter-widgets/base",
            "_model_module_version": "1.2.0",
            "_model_name": "LayoutModel",
            "_view_count": null,
            "_view_module": "@jupyter-widgets/base",
            "_view_module_version": "1.2.0",
            "_view_name": "LayoutView",
            "align_content": null,
            "align_items": null,
            "align_self": null,
            "border": null,
            "bottom": null,
            "display": null,
            "flex": null,
            "flex_flow": null,
            "grid_area": null,
            "grid_auto_columns": null,
            "grid_auto_flow": null,
            "grid_auto_rows": null,
            "grid_column": null,
            "grid_gap": null,
            "grid_row": null,
            "grid_template_areas": null,
            "grid_template_columns": null,
            "grid_template_rows": null,
            "height": null,
            "justify_content": null,
            "justify_items": null,
            "left": null,
            "margin": null,
            "max_height": null,
            "max_width": null,
            "min_height": null,
            "min_width": null,
            "object_fit": null,
            "object_position": null,
            "order": null,
            "overflow": null,
            "overflow_x": null,
            "overflow_y": null,
            "padding": null,
            "right": null,
            "top": null,
            "visibility": null,
            "width": null
          }
        },
        "53671e43a87341879aabd829a1eed340": {
          "model_module": "@jupyter-widgets/base",
          "model_name": "LayoutModel",
          "model_module_version": "1.2.0",
          "state": {
            "_model_module": "@jupyter-widgets/base",
            "_model_module_version": "1.2.0",
            "_model_name": "LayoutModel",
            "_view_count": null,
            "_view_module": "@jupyter-widgets/base",
            "_view_module_version": "1.2.0",
            "_view_name": "LayoutView",
            "align_content": null,
            "align_items": null,
            "align_self": null,
            "border": null,
            "bottom": null,
            "display": null,
            "flex": null,
            "flex_flow": null,
            "grid_area": null,
            "grid_auto_columns": null,
            "grid_auto_flow": null,
            "grid_auto_rows": null,
            "grid_column": null,
            "grid_gap": null,
            "grid_row": null,
            "grid_template_areas": null,
            "grid_template_columns": null,
            "grid_template_rows": null,
            "height": null,
            "justify_content": null,
            "justify_items": null,
            "left": null,
            "margin": null,
            "max_height": null,
            "max_width": null,
            "min_height": null,
            "min_width": null,
            "object_fit": null,
            "object_position": null,
            "order": null,
            "overflow": null,
            "overflow_x": null,
            "overflow_y": null,
            "padding": null,
            "right": null,
            "top": null,
            "visibility": null,
            "width": null
          }
        },
        "90e1ccdaa29b4994a4dadf9a91e38bbb": {
          "model_module": "@jupyter-widgets/controls",
          "model_name": "DescriptionStyleModel",
          "model_module_version": "1.5.0",
          "state": {
            "_model_module": "@jupyter-widgets/controls",
            "_model_module_version": "1.5.0",
            "_model_name": "DescriptionStyleModel",
            "_view_count": null,
            "_view_module": "@jupyter-widgets/base",
            "_view_module_version": "1.2.0",
            "_view_name": "StyleView",
            "description_width": ""
          }
        },
        "f4392e52e32041e3a6b38934701549a4": {
          "model_module": "@jupyter-widgets/base",
          "model_name": "LayoutModel",
          "model_module_version": "1.2.0",
          "state": {
            "_model_module": "@jupyter-widgets/base",
            "_model_module_version": "1.2.0",
            "_model_name": "LayoutModel",
            "_view_count": null,
            "_view_module": "@jupyter-widgets/base",
            "_view_module_version": "1.2.0",
            "_view_name": "LayoutView",
            "align_content": null,
            "align_items": null,
            "align_self": null,
            "border": null,
            "bottom": null,
            "display": null,
            "flex": null,
            "flex_flow": null,
            "grid_area": null,
            "grid_auto_columns": null,
            "grid_auto_flow": null,
            "grid_auto_rows": null,
            "grid_column": null,
            "grid_gap": null,
            "grid_row": null,
            "grid_template_areas": null,
            "grid_template_columns": null,
            "grid_template_rows": null,
            "height": null,
            "justify_content": null,
            "justify_items": null,
            "left": null,
            "margin": null,
            "max_height": null,
            "max_width": null,
            "min_height": null,
            "min_width": null,
            "object_fit": null,
            "object_position": null,
            "order": null,
            "overflow": null,
            "overflow_x": null,
            "overflow_y": null,
            "padding": null,
            "right": null,
            "top": null,
            "visibility": null,
            "width": null
          }
        },
        "156ac8fd5ad24515b64a5709e5097c66": {
          "model_module": "@jupyter-widgets/controls",
          "model_name": "ProgressStyleModel",
          "model_module_version": "1.5.0",
          "state": {
            "_model_module": "@jupyter-widgets/controls",
            "_model_module_version": "1.5.0",
            "_model_name": "ProgressStyleModel",
            "_view_count": null,
            "_view_module": "@jupyter-widgets/base",
            "_view_module_version": "1.2.0",
            "_view_name": "StyleView",
            "bar_color": null,
            "description_width": ""
          }
        },
        "e5531227140b4e5c80d6adb5b2862583": {
          "model_module": "@jupyter-widgets/base",
          "model_name": "LayoutModel",
          "model_module_version": "1.2.0",
          "state": {
            "_model_module": "@jupyter-widgets/base",
            "_model_module_version": "1.2.0",
            "_model_name": "LayoutModel",
            "_view_count": null,
            "_view_module": "@jupyter-widgets/base",
            "_view_module_version": "1.2.0",
            "_view_name": "LayoutView",
            "align_content": null,
            "align_items": null,
            "align_self": null,
            "border": null,
            "bottom": null,
            "display": null,
            "flex": null,
            "flex_flow": null,
            "grid_area": null,
            "grid_auto_columns": null,
            "grid_auto_flow": null,
            "grid_auto_rows": null,
            "grid_column": null,
            "grid_gap": null,
            "grid_row": null,
            "grid_template_areas": null,
            "grid_template_columns": null,
            "grid_template_rows": null,
            "height": null,
            "justify_content": null,
            "justify_items": null,
            "left": null,
            "margin": null,
            "max_height": null,
            "max_width": null,
            "min_height": null,
            "min_width": null,
            "object_fit": null,
            "object_position": null,
            "order": null,
            "overflow": null,
            "overflow_x": null,
            "overflow_y": null,
            "padding": null,
            "right": null,
            "top": null,
            "visibility": null,
            "width": null
          }
        },
        "caadc3e4501b448d8a4bf90a6e5a02f0": {
          "model_module": "@jupyter-widgets/controls",
          "model_name": "DescriptionStyleModel",
          "model_module_version": "1.5.0",
          "state": {
            "_model_module": "@jupyter-widgets/controls",
            "_model_module_version": "1.5.0",
            "_model_name": "DescriptionStyleModel",
            "_view_count": null,
            "_view_module": "@jupyter-widgets/base",
            "_view_module_version": "1.2.0",
            "_view_name": "StyleView",
            "description_width": ""
          }
        },
        "8513d6978a0b47c49fd67041854ae106": {
          "model_module": "@jupyter-widgets/controls",
          "model_name": "HBoxModel",
          "model_module_version": "1.5.0",
          "state": {
            "_dom_classes": [],
            "_model_module": "@jupyter-widgets/controls",
            "_model_module_version": "1.5.0",
            "_model_name": "HBoxModel",
            "_view_count": null,
            "_view_module": "@jupyter-widgets/controls",
            "_view_module_version": "1.5.0",
            "_view_name": "HBoxView",
            "box_style": "",
            "children": [
              "IPY_MODEL_2ba890f429ee42ca963979a1cb25d4c7",
              "IPY_MODEL_6baeee32eba543d4b06eae20af1a3345",
              "IPY_MODEL_dce79e4c7758490589100b21b4af68e8"
            ],
            "layout": "IPY_MODEL_d1f6d4711c664c54ae17496485fb9d43"
          }
        },
        "2ba890f429ee42ca963979a1cb25d4c7": {
          "model_module": "@jupyter-widgets/controls",
          "model_name": "HTMLModel",
          "model_module_version": "1.5.0",
          "state": {
            "_dom_classes": [],
            "_model_module": "@jupyter-widgets/controls",
            "_model_module_version": "1.5.0",
            "_model_name": "HTMLModel",
            "_view_count": null,
            "_view_module": "@jupyter-widgets/controls",
            "_view_module_version": "1.5.0",
            "_view_name": "HTMLView",
            "description": "",
            "description_tooltip": null,
            "layout": "IPY_MODEL_e16d4498ecbe40989a8325665ecb07d8",
            "placeholder": "​",
            "style": "IPY_MODEL_fb2cb3f1b79843658a2c60310b80c169",
            "value": "Downloading artifacts: 100%"
          }
        },
        "6baeee32eba543d4b06eae20af1a3345": {
          "model_module": "@jupyter-widgets/controls",
          "model_name": "FloatProgressModel",
          "model_module_version": "1.5.0",
          "state": {
            "_dom_classes": [],
            "_model_module": "@jupyter-widgets/controls",
            "_model_module_version": "1.5.0",
            "_model_name": "FloatProgressModel",
            "_view_count": null,
            "_view_module": "@jupyter-widgets/controls",
            "_view_module_version": "1.5.0",
            "_view_name": "ProgressView",
            "bar_style": "success",
            "description": "",
            "description_tooltip": null,
            "layout": "IPY_MODEL_8a4dcc4d5a354da0a4a3459043033f23",
            "max": 12,
            "min": 0,
            "orientation": "horizontal",
            "style": "IPY_MODEL_1d3562f68ec64f3ca723bea0bd030eb1",
            "value": 12
          }
        },
        "dce79e4c7758490589100b21b4af68e8": {
          "model_module": "@jupyter-widgets/controls",
          "model_name": "HTMLModel",
          "model_module_version": "1.5.0",
          "state": {
            "_dom_classes": [],
            "_model_module": "@jupyter-widgets/controls",
            "_model_module_version": "1.5.0",
            "_model_name": "HTMLModel",
            "_view_count": null,
            "_view_module": "@jupyter-widgets/controls",
            "_view_module_version": "1.5.0",
            "_view_name": "HTMLView",
            "description": "",
            "description_tooltip": null,
            "layout": "IPY_MODEL_5edd0a681ca04b55a0982e4f5499eeb0",
            "placeholder": "​",
            "style": "IPY_MODEL_d080273f0eae4d8a93750ab462987511",
            "value": " 12/12 [00:00&lt;00:00, 136.42it/s]"
          }
        },
        "d1f6d4711c664c54ae17496485fb9d43": {
          "model_module": "@jupyter-widgets/base",
          "model_name": "LayoutModel",
          "model_module_version": "1.2.0",
          "state": {
            "_model_module": "@jupyter-widgets/base",
            "_model_module_version": "1.2.0",
            "_model_name": "LayoutModel",
            "_view_count": null,
            "_view_module": "@jupyter-widgets/base",
            "_view_module_version": "1.2.0",
            "_view_name": "LayoutView",
            "align_content": null,
            "align_items": null,
            "align_self": null,
            "border": null,
            "bottom": null,
            "display": null,
            "flex": null,
            "flex_flow": null,
            "grid_area": null,
            "grid_auto_columns": null,
            "grid_auto_flow": null,
            "grid_auto_rows": null,
            "grid_column": null,
            "grid_gap": null,
            "grid_row": null,
            "grid_template_areas": null,
            "grid_template_columns": null,
            "grid_template_rows": null,
            "height": null,
            "justify_content": null,
            "justify_items": null,
            "left": null,
            "margin": null,
            "max_height": null,
            "max_width": null,
            "min_height": null,
            "min_width": null,
            "object_fit": null,
            "object_position": null,
            "order": null,
            "overflow": null,
            "overflow_x": null,
            "overflow_y": null,
            "padding": null,
            "right": null,
            "top": null,
            "visibility": null,
            "width": null
          }
        },
        "e16d4498ecbe40989a8325665ecb07d8": {
          "model_module": "@jupyter-widgets/base",
          "model_name": "LayoutModel",
          "model_module_version": "1.2.0",
          "state": {
            "_model_module": "@jupyter-widgets/base",
            "_model_module_version": "1.2.0",
            "_model_name": "LayoutModel",
            "_view_count": null,
            "_view_module": "@jupyter-widgets/base",
            "_view_module_version": "1.2.0",
            "_view_name": "LayoutView",
            "align_content": null,
            "align_items": null,
            "align_self": null,
            "border": null,
            "bottom": null,
            "display": null,
            "flex": null,
            "flex_flow": null,
            "grid_area": null,
            "grid_auto_columns": null,
            "grid_auto_flow": null,
            "grid_auto_rows": null,
            "grid_column": null,
            "grid_gap": null,
            "grid_row": null,
            "grid_template_areas": null,
            "grid_template_columns": null,
            "grid_template_rows": null,
            "height": null,
            "justify_content": null,
            "justify_items": null,
            "left": null,
            "margin": null,
            "max_height": null,
            "max_width": null,
            "min_height": null,
            "min_width": null,
            "object_fit": null,
            "object_position": null,
            "order": null,
            "overflow": null,
            "overflow_x": null,
            "overflow_y": null,
            "padding": null,
            "right": null,
            "top": null,
            "visibility": null,
            "width": null
          }
        },
        "fb2cb3f1b79843658a2c60310b80c169": {
          "model_module": "@jupyter-widgets/controls",
          "model_name": "DescriptionStyleModel",
          "model_module_version": "1.5.0",
          "state": {
            "_model_module": "@jupyter-widgets/controls",
            "_model_module_version": "1.5.0",
            "_model_name": "DescriptionStyleModel",
            "_view_count": null,
            "_view_module": "@jupyter-widgets/base",
            "_view_module_version": "1.2.0",
            "_view_name": "StyleView",
            "description_width": ""
          }
        },
        "8a4dcc4d5a354da0a4a3459043033f23": {
          "model_module": "@jupyter-widgets/base",
          "model_name": "LayoutModel",
          "model_module_version": "1.2.0",
          "state": {
            "_model_module": "@jupyter-widgets/base",
            "_model_module_version": "1.2.0",
            "_model_name": "LayoutModel",
            "_view_count": null,
            "_view_module": "@jupyter-widgets/base",
            "_view_module_version": "1.2.0",
            "_view_name": "LayoutView",
            "align_content": null,
            "align_items": null,
            "align_self": null,
            "border": null,
            "bottom": null,
            "display": null,
            "flex": null,
            "flex_flow": null,
            "grid_area": null,
            "grid_auto_columns": null,
            "grid_auto_flow": null,
            "grid_auto_rows": null,
            "grid_column": null,
            "grid_gap": null,
            "grid_row": null,
            "grid_template_areas": null,
            "grid_template_columns": null,
            "grid_template_rows": null,
            "height": null,
            "justify_content": null,
            "justify_items": null,
            "left": null,
            "margin": null,
            "max_height": null,
            "max_width": null,
            "min_height": null,
            "min_width": null,
            "object_fit": null,
            "object_position": null,
            "order": null,
            "overflow": null,
            "overflow_x": null,
            "overflow_y": null,
            "padding": null,
            "right": null,
            "top": null,
            "visibility": null,
            "width": null
          }
        },
        "1d3562f68ec64f3ca723bea0bd030eb1": {
          "model_module": "@jupyter-widgets/controls",
          "model_name": "ProgressStyleModel",
          "model_module_version": "1.5.0",
          "state": {
            "_model_module": "@jupyter-widgets/controls",
            "_model_module_version": "1.5.0",
            "_model_name": "ProgressStyleModel",
            "_view_count": null,
            "_view_module": "@jupyter-widgets/base",
            "_view_module_version": "1.2.0",
            "_view_name": "StyleView",
            "bar_color": null,
            "description_width": ""
          }
        },
        "5edd0a681ca04b55a0982e4f5499eeb0": {
          "model_module": "@jupyter-widgets/base",
          "model_name": "LayoutModel",
          "model_module_version": "1.2.0",
          "state": {
            "_model_module": "@jupyter-widgets/base",
            "_model_module_version": "1.2.0",
            "_model_name": "LayoutModel",
            "_view_count": null,
            "_view_module": "@jupyter-widgets/base",
            "_view_module_version": "1.2.0",
            "_view_name": "LayoutView",
            "align_content": null,
            "align_items": null,
            "align_self": null,
            "border": null,
            "bottom": null,
            "display": null,
            "flex": null,
            "flex_flow": null,
            "grid_area": null,
            "grid_auto_columns": null,
            "grid_auto_flow": null,
            "grid_auto_rows": null,
            "grid_column": null,
            "grid_gap": null,
            "grid_row": null,
            "grid_template_areas": null,
            "grid_template_columns": null,
            "grid_template_rows": null,
            "height": null,
            "justify_content": null,
            "justify_items": null,
            "left": null,
            "margin": null,
            "max_height": null,
            "max_width": null,
            "min_height": null,
            "min_width": null,
            "object_fit": null,
            "object_position": null,
            "order": null,
            "overflow": null,
            "overflow_x": null,
            "overflow_y": null,
            "padding": null,
            "right": null,
            "top": null,
            "visibility": null,
            "width": null
          }
        },
        "d080273f0eae4d8a93750ab462987511": {
          "model_module": "@jupyter-widgets/controls",
          "model_name": "DescriptionStyleModel",
          "model_module_version": "1.5.0",
          "state": {
            "_model_module": "@jupyter-widgets/controls",
            "_model_module_version": "1.5.0",
            "_model_name": "DescriptionStyleModel",
            "_view_count": null,
            "_view_module": "@jupyter-widgets/base",
            "_view_module_version": "1.2.0",
            "_view_name": "StyleView",
            "description_width": ""
          }
        },
        "ee4238c6710d4605b1563eb882987cef": {
          "model_module": "@jupyter-widgets/controls",
          "model_name": "HBoxModel",
          "model_module_version": "1.5.0",
          "state": {
            "_dom_classes": [],
            "_model_module": "@jupyter-widgets/controls",
            "_model_module_version": "1.5.0",
            "_model_name": "HBoxModel",
            "_view_count": null,
            "_view_module": "@jupyter-widgets/controls",
            "_view_module_version": "1.5.0",
            "_view_name": "HBoxView",
            "box_style": "",
            "children": [
              "IPY_MODEL_d146dc8303094eb889a0e3d35e45c147",
              "IPY_MODEL_97633f9b4d794f988ffa7d010393b14b",
              "IPY_MODEL_ed1ea6b94cfd46fc8d74a4ef5fb4fe87"
            ],
            "layout": "IPY_MODEL_21298048d2ac4bf9b783bbe93eb3f353"
          }
        },
        "d146dc8303094eb889a0e3d35e45c147": {
          "model_module": "@jupyter-widgets/controls",
          "model_name": "HTMLModel",
          "model_module_version": "1.5.0",
          "state": {
            "_dom_classes": [],
            "_model_module": "@jupyter-widgets/controls",
            "_model_module_version": "1.5.0",
            "_model_name": "HTMLModel",
            "_view_count": null,
            "_view_module": "@jupyter-widgets/controls",
            "_view_module_version": "1.5.0",
            "_view_name": "HTMLView",
            "description": "",
            "description_tooltip": null,
            "layout": "IPY_MODEL_7763caadeb6b4fc79d714477e91c8dad",
            "placeholder": "​",
            "style": "IPY_MODEL_82e45ae57fcc4bc8b014610980e599b4",
            "value": "Downloading artifacts: 100%"
          }
        },
        "97633f9b4d794f988ffa7d010393b14b": {
          "model_module": "@jupyter-widgets/controls",
          "model_name": "FloatProgressModel",
          "model_module_version": "1.5.0",
          "state": {
            "_dom_classes": [],
            "_model_module": "@jupyter-widgets/controls",
            "_model_module_version": "1.5.0",
            "_model_name": "FloatProgressModel",
            "_view_count": null,
            "_view_module": "@jupyter-widgets/controls",
            "_view_module_version": "1.5.0",
            "_view_name": "ProgressView",
            "bar_style": "success",
            "description": "",
            "description_tooltip": null,
            "layout": "IPY_MODEL_9c64db081e4449758dba82448fa42150",
            "max": 12,
            "min": 0,
            "orientation": "horizontal",
            "style": "IPY_MODEL_010882df604c4a729a601d1cf29efe4e",
            "value": 12
          }
        },
        "ed1ea6b94cfd46fc8d74a4ef5fb4fe87": {
          "model_module": "@jupyter-widgets/controls",
          "model_name": "HTMLModel",
          "model_module_version": "1.5.0",
          "state": {
            "_dom_classes": [],
            "_model_module": "@jupyter-widgets/controls",
            "_model_module_version": "1.5.0",
            "_model_name": "HTMLModel",
            "_view_count": null,
            "_view_module": "@jupyter-widgets/controls",
            "_view_module_version": "1.5.0",
            "_view_name": "HTMLView",
            "description": "",
            "description_tooltip": null,
            "layout": "IPY_MODEL_ad054bdd7b164bb9b7d8f15992394ead",
            "placeholder": "​",
            "style": "IPY_MODEL_874531d5ebcd45fb874397af667df3de",
            "value": " 12/12 [00:00&lt;00:00, 576.40it/s]"
          }
        },
        "21298048d2ac4bf9b783bbe93eb3f353": {
          "model_module": "@jupyter-widgets/base",
          "model_name": "LayoutModel",
          "model_module_version": "1.2.0",
          "state": {
            "_model_module": "@jupyter-widgets/base",
            "_model_module_version": "1.2.0",
            "_model_name": "LayoutModel",
            "_view_count": null,
            "_view_module": "@jupyter-widgets/base",
            "_view_module_version": "1.2.0",
            "_view_name": "LayoutView",
            "align_content": null,
            "align_items": null,
            "align_self": null,
            "border": null,
            "bottom": null,
            "display": null,
            "flex": null,
            "flex_flow": null,
            "grid_area": null,
            "grid_auto_columns": null,
            "grid_auto_flow": null,
            "grid_auto_rows": null,
            "grid_column": null,
            "grid_gap": null,
            "grid_row": null,
            "grid_template_areas": null,
            "grid_template_columns": null,
            "grid_template_rows": null,
            "height": null,
            "justify_content": null,
            "justify_items": null,
            "left": null,
            "margin": null,
            "max_height": null,
            "max_width": null,
            "min_height": null,
            "min_width": null,
            "object_fit": null,
            "object_position": null,
            "order": null,
            "overflow": null,
            "overflow_x": null,
            "overflow_y": null,
            "padding": null,
            "right": null,
            "top": null,
            "visibility": null,
            "width": null
          }
        },
        "7763caadeb6b4fc79d714477e91c8dad": {
          "model_module": "@jupyter-widgets/base",
          "model_name": "LayoutModel",
          "model_module_version": "1.2.0",
          "state": {
            "_model_module": "@jupyter-widgets/base",
            "_model_module_version": "1.2.0",
            "_model_name": "LayoutModel",
            "_view_count": null,
            "_view_module": "@jupyter-widgets/base",
            "_view_module_version": "1.2.0",
            "_view_name": "LayoutView",
            "align_content": null,
            "align_items": null,
            "align_self": null,
            "border": null,
            "bottom": null,
            "display": null,
            "flex": null,
            "flex_flow": null,
            "grid_area": null,
            "grid_auto_columns": null,
            "grid_auto_flow": null,
            "grid_auto_rows": null,
            "grid_column": null,
            "grid_gap": null,
            "grid_row": null,
            "grid_template_areas": null,
            "grid_template_columns": null,
            "grid_template_rows": null,
            "height": null,
            "justify_content": null,
            "justify_items": null,
            "left": null,
            "margin": null,
            "max_height": null,
            "max_width": null,
            "min_height": null,
            "min_width": null,
            "object_fit": null,
            "object_position": null,
            "order": null,
            "overflow": null,
            "overflow_x": null,
            "overflow_y": null,
            "padding": null,
            "right": null,
            "top": null,
            "visibility": null,
            "width": null
          }
        },
        "82e45ae57fcc4bc8b014610980e599b4": {
          "model_module": "@jupyter-widgets/controls",
          "model_name": "DescriptionStyleModel",
          "model_module_version": "1.5.0",
          "state": {
            "_model_module": "@jupyter-widgets/controls",
            "_model_module_version": "1.5.0",
            "_model_name": "DescriptionStyleModel",
            "_view_count": null,
            "_view_module": "@jupyter-widgets/base",
            "_view_module_version": "1.2.0",
            "_view_name": "StyleView",
            "description_width": ""
          }
        },
        "9c64db081e4449758dba82448fa42150": {
          "model_module": "@jupyter-widgets/base",
          "model_name": "LayoutModel",
          "model_module_version": "1.2.0",
          "state": {
            "_model_module": "@jupyter-widgets/base",
            "_model_module_version": "1.2.0",
            "_model_name": "LayoutModel",
            "_view_count": null,
            "_view_module": "@jupyter-widgets/base",
            "_view_module_version": "1.2.0",
            "_view_name": "LayoutView",
            "align_content": null,
            "align_items": null,
            "align_self": null,
            "border": null,
            "bottom": null,
            "display": null,
            "flex": null,
            "flex_flow": null,
            "grid_area": null,
            "grid_auto_columns": null,
            "grid_auto_flow": null,
            "grid_auto_rows": null,
            "grid_column": null,
            "grid_gap": null,
            "grid_row": null,
            "grid_template_areas": null,
            "grid_template_columns": null,
            "grid_template_rows": null,
            "height": null,
            "justify_content": null,
            "justify_items": null,
            "left": null,
            "margin": null,
            "max_height": null,
            "max_width": null,
            "min_height": null,
            "min_width": null,
            "object_fit": null,
            "object_position": null,
            "order": null,
            "overflow": null,
            "overflow_x": null,
            "overflow_y": null,
            "padding": null,
            "right": null,
            "top": null,
            "visibility": null,
            "width": null
          }
        },
        "010882df604c4a729a601d1cf29efe4e": {
          "model_module": "@jupyter-widgets/controls",
          "model_name": "ProgressStyleModel",
          "model_module_version": "1.5.0",
          "state": {
            "_model_module": "@jupyter-widgets/controls",
            "_model_module_version": "1.5.0",
            "_model_name": "ProgressStyleModel",
            "_view_count": null,
            "_view_module": "@jupyter-widgets/base",
            "_view_module_version": "1.2.0",
            "_view_name": "StyleView",
            "bar_color": null,
            "description_width": ""
          }
        },
        "ad054bdd7b164bb9b7d8f15992394ead": {
          "model_module": "@jupyter-widgets/base",
          "model_name": "LayoutModel",
          "model_module_version": "1.2.0",
          "state": {
            "_model_module": "@jupyter-widgets/base",
            "_model_module_version": "1.2.0",
            "_model_name": "LayoutModel",
            "_view_count": null,
            "_view_module": "@jupyter-widgets/base",
            "_view_module_version": "1.2.0",
            "_view_name": "LayoutView",
            "align_content": null,
            "align_items": null,
            "align_self": null,
            "border": null,
            "bottom": null,
            "display": null,
            "flex": null,
            "flex_flow": null,
            "grid_area": null,
            "grid_auto_columns": null,
            "grid_auto_flow": null,
            "grid_auto_rows": null,
            "grid_column": null,
            "grid_gap": null,
            "grid_row": null,
            "grid_template_areas": null,
            "grid_template_columns": null,
            "grid_template_rows": null,
            "height": null,
            "justify_content": null,
            "justify_items": null,
            "left": null,
            "margin": null,
            "max_height": null,
            "max_width": null,
            "min_height": null,
            "min_width": null,
            "object_fit": null,
            "object_position": null,
            "order": null,
            "overflow": null,
            "overflow_x": null,
            "overflow_y": null,
            "padding": null,
            "right": null,
            "top": null,
            "visibility": null,
            "width": null
          }
        },
        "874531d5ebcd45fb874397af667df3de": {
          "model_module": "@jupyter-widgets/controls",
          "model_name": "DescriptionStyleModel",
          "model_module_version": "1.5.0",
          "state": {
            "_model_module": "@jupyter-widgets/controls",
            "_model_module_version": "1.5.0",
            "_model_name": "DescriptionStyleModel",
            "_view_count": null,
            "_view_module": "@jupyter-widgets/base",
            "_view_module_version": "1.2.0",
            "_view_name": "StyleView",
            "description_width": ""
          }
        }
      }
    }
  },
  "cells": [
    {
      "cell_type": "markdown",
      "metadata": {
        "id": "view-in-github",
        "colab_type": "text"
      },
      "source": [
        "<a href=\"https://colab.research.google.com/github/olonok69/LLM_Notebooks/blob/main/mlflow/LlamaIndex/LLamaIndex_with_MLflow.ipynb\" target=\"_parent\"><img src=\"https://colab.research.google.com/assets/colab-badge.svg\" alt=\"Open In Colab\"/></a>"
      ]
    },
    {
      "cell_type": "markdown",
      "source": [
        "# Integration MLFLOW & LLamaIndex\n",
        "\n",
        "\n",
        "### MLFLOW\n",
        "\n",
        "https://mlflow.org/docs/latest/index.html\n",
        "\n",
        "MLflow is an open-source platform, purpose-built to assist machine learning practitioners and teams in handling the complexities of the machine learning process. MLflow focuses on the full lifecycle for machine learning projects, ensuring that each phase is manageable, traceable, and reproducible.\n",
        "\n",
        "### LlamaIndex\n",
        "LlamaIndex is a framework for building context-augmented generative AI applications with LLMs including agents and workflows.\n",
        "\n",
        "https://docs.llamaindex.ai/en/stable/\n"
      ],
      "metadata": {
        "id": "PryWaEHEyJof"
      }
    },
    {
      "cell_type": "markdown",
      "source": [
        "![image.png](data:image/png;base64,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)"
      ],
      "metadata": {
        "id": "nz6AVVw8Gazu"
      }
    },
    {
      "cell_type": "code",
      "execution_count": 1,
      "metadata": {
        "colab": {
          "base_uri": "https://localhost:8080/"
        },
        "id": "FKIBEGBmw4he",
        "outputId": "87c74825-4a93-4a1a-9178-ef169dfb8b32"
      },
      "outputs": [
        {
          "output_type": "stream",
          "name": "stdout",
          "text": [
            "\u001b[2K   \u001b[90m━━━━━━━━━━━━━━━━━━━━━━━━━━━━━━━━━━━━━━━━\u001b[0m \u001b[32m26.7/26.7 MB\u001b[0m \u001b[31m61.4 MB/s\u001b[0m eta \u001b[36m0:00:00\u001b[0m\n",
            "\u001b[2K   \u001b[90m━━━━━━━━━━━━━━━━━━━━━━━━━━━━━━━━━━━━━━━━\u001b[0m \u001b[32m5.7/5.7 MB\u001b[0m \u001b[31m105.0 MB/s\u001b[0m eta \u001b[36m0:00:00\u001b[0m\n",
            "\u001b[2K   \u001b[90m━━━━━━━━━━━━━━━━━━━━━━━━━━━━━━━━━━━━━━━━\u001b[0m \u001b[32m233.5/233.5 kB\u001b[0m \u001b[31m13.5 MB/s\u001b[0m eta \u001b[36m0:00:00\u001b[0m\n",
            "\u001b[2K   \u001b[90m━━━━━━━━━━━━━━━━━━━━━━━━━━━━━━━━━━━━━━━━\u001b[0m \u001b[32m147.8/147.8 kB\u001b[0m \u001b[31m11.1 MB/s\u001b[0m eta \u001b[36m0:00:00\u001b[0m\n",
            "\u001b[2K   \u001b[90m━━━━━━━━━━━━━━━━━━━━━━━━━━━━━━━━━━━━━━━━\u001b[0m \u001b[32m114.7/114.7 kB\u001b[0m \u001b[31m7.6 MB/s\u001b[0m eta \u001b[36m0:00:00\u001b[0m\n",
            "\u001b[2K   \u001b[90m━━━━━━━━━━━━━━━━━━━━━━━━━━━━━━━━━━━━━━━━\u001b[0m \u001b[32m85.0/85.0 kB\u001b[0m \u001b[31m5.8 MB/s\u001b[0m eta \u001b[36m0:00:00\u001b[0m\n",
            "\u001b[2K   \u001b[90m━━━━━━━━━━━━━━━━━━━━━━━━━━━━━━━━━━━━━━━━\u001b[0m \u001b[32m1.6/1.6 MB\u001b[0m \u001b[31m56.6 MB/s\u001b[0m eta \u001b[36m0:00:00\u001b[0m\n",
            "\u001b[2K   \u001b[90m━━━━━━━━━━━━━━━━━━━━━━━━━━━━━━━━━━━━━━━━\u001b[0m \u001b[32m1.2/1.2 MB\u001b[0m \u001b[31m47.7 MB/s\u001b[0m eta \u001b[36m0:00:00\u001b[0m\n",
            "\u001b[2K   \u001b[90m━━━━━━━━━━━━━━━━━━━━━━━━━━━━━━━━━━━━━━━━\u001b[0m \u001b[32m1.5/1.5 MB\u001b[0m \u001b[31m57.6 MB/s\u001b[0m eta \u001b[36m0:00:00\u001b[0m\n",
            "\u001b[2K   \u001b[90m━━━━━━━━━━━━━━━━━━━━━━━━━━━━━━━━━━━━━━━━\u001b[0m \u001b[32m569.1/569.1 kB\u001b[0m \u001b[31m32.1 MB/s\u001b[0m eta \u001b[36m0:00:00\u001b[0m\n",
            "\u001b[2K   \u001b[90m━━━━━━━━━━━━━━━━━━━━━━━━━━━━━━━━━━━━━━━━\u001b[0m \u001b[32m203.2/203.2 kB\u001b[0m \u001b[31m13.7 MB/s\u001b[0m eta \u001b[36m0:00:00\u001b[0m\n",
            "\u001b[2K   \u001b[90m━━━━━━━━━━━━━━━━━━━━━━━━━━━━━━━━━━━━━━━━\u001b[0m \u001b[32m176.8/176.8 kB\u001b[0m \u001b[31m10.8 MB/s\u001b[0m eta \u001b[36m0:00:00\u001b[0m\n",
            "\u001b[2K   \u001b[90m━━━━━━━━━━━━━━━━━━━━━━━━━━━━━━━━━━━━━━━━\u001b[0m \u001b[32m295.8/295.8 kB\u001b[0m \u001b[31m19.8 MB/s\u001b[0m eta \u001b[36m0:00:00\u001b[0m\n",
            "\u001b[2K   \u001b[90m━━━━━━━━━━━━━━━━━━━━━━━━━━━━━━━━━━━━━━━━\u001b[0m \u001b[32m1.2/1.2 MB\u001b[0m \u001b[31m48.0 MB/s\u001b[0m eta \u001b[36m0:00:00\u001b[0m\n",
            "\u001b[2K   \u001b[90m━━━━━━━━━━━━━━━━━━━━━━━━━━━━━━━━━━━━━━━━\u001b[0m \u001b[32m78.6/78.6 kB\u001b[0m \u001b[31m5.1 MB/s\u001b[0m eta \u001b[36m0:00:00\u001b[0m\n",
            "\u001b[2K   \u001b[90m━━━━━━━━━━━━━━━━━━━━━━━━━━━━━━━━━━━━━━━━\u001b[0m \u001b[32m49.5/49.5 kB\u001b[0m \u001b[31m3.2 MB/s\u001b[0m eta \u001b[36m0:00:00\u001b[0m\n",
            "\u001b[?25h"
          ]
        }
      ],
      "source": [
        "%pip install \"mlflow>=2.15\" \"llama-index>=0.10.44\"  pyngrok  -q"
      ]
    },
    {
      "cell_type": "code",
      "source": [
        "from pyngrok import ngrok\n",
        "\n",
        "get_ipython().system_raw(\"mlflow ui --port 5000 &\")\n",
        "\n",
        "\n",
        "# Terminate open tunnels if exist\n",
        "ngrok.kill()"
      ],
      "metadata": {
        "id": "O8yznP0Fx4YZ"
      },
      "execution_count": 2,
      "outputs": []
    },
    {
      "cell_type": "code",
      "source": [
        "\n",
        "from google.colab import userdata\n",
        "NGROK_AUTH_TOKEN  = userdata.get('NGROK')\n",
        "\n",
        "ngrok.set_auth_token(NGROK_AUTH_TOKEN)\n",
        "\n",
        "# Open an HTTPs tunnel on port 5000 for http://localhost:5000\n",
        "ngrok_tunnel = ngrok.connect(addr=\"5000\", proto=\"http\", bind_tls=True)\n",
        "print(\"MLflow Tracking UI:\", ngrok_tunnel.public_url)"
      ],
      "metadata": {
        "colab": {
          "base_uri": "https://localhost:8080/"
        },
        "id": "EJOCp-CBx4Vh",
        "outputId": "2878334d-fee1-4329-a553-49fdaf74e4e1"
      },
      "execution_count": 3,
      "outputs": [
        {
          "output_type": "stream",
          "name": "stdout",
          "text": [
            "MLflow Tracking UI: https://eeb7-104-199-160-235.ngrok-free.app\n"
          ]
        }
      ]
    },
    {
      "cell_type": "code",
      "source": [
        "from llama_index.core import Document, VectorStoreIndex\n",
        "from llama_index.core.llms import ChatMessage\n",
        "import os\n",
        "import mlflow\n",
        "from google.colab import userdata\n",
        "import pprint\n",
        "\n",
        "os.environ[\"OPENAI_API_KEY\"] = userdata.get('KEY_OPENAI')"
      ],
      "metadata": {
        "id": "IOCEqRz-x4Sx"
      },
      "execution_count": 13,
      "outputs": []
    },
    {
      "cell_type": "code",
      "source": [
        "assert \"OPENAI_API_KEY\" in os.environ, \"Please set the OPENAI_API_KEY environment variable.\""
      ],
      "metadata": {
        "id": "k0nC-NVYx4QC"
      },
      "execution_count": 6,
      "outputs": []
    },
    {
      "cell_type": "code",
      "source": [
        "pdf_path = \"/content/drive/MyDrive/data/pdfs\""
      ],
      "metadata": {
        "id": "0G278FDgx4M4"
      },
      "execution_count": 8,
      "outputs": []
    },
    {
      "cell_type": "code",
      "source": [
        "from llama_index.llms.openai import OpenAI\n",
        "from llama_index.embeddings.openai import OpenAIEmbedding\n",
        "\n",
        "# initialize the LLM\n",
        "llm = OpenAI(model=\"gpt-4o\", api_key=userdata.get('KEY_OPENAI'))\n",
        "\n",
        "# initialize the embedding\n",
        "embed_model = OpenAIEmbedding(model=\"text-embedding-ada-002\", api_key=userdata.get('KEY_OPENAI'))\n",
        "\n",
        "from llama_index.core import Settings\n",
        "\n",
        "# global settings\n",
        "Settings.llm = llm\n",
        "Settings.embed_model = embed_model"
      ],
      "metadata": {
        "id": "2AlDs9D8eQXg"
      },
      "execution_count": 66,
      "outputs": []
    },
    {
      "cell_type": "code",
      "source": [
        "from llama_index.core import VectorStoreIndex, SimpleDirectoryReader\n",
        "\n",
        "# load documents\n",
        "data = SimpleDirectoryReader(input_dir=pdf_path,required_exts=[\".pdf\"]).load_data()\n",
        "\n",
        "# indexing documents using vector store\n",
        "index = VectorStoreIndex.from_documents(data)"
      ],
      "metadata": {
        "id": "kRSPnprghSSr"
      },
      "execution_count": 67,
      "outputs": []
    },
    {
      "cell_type": "code",
      "source": [
        "data[0]"
      ],
      "metadata": {
        "colab": {
          "base_uri": "https://localhost:8080/"
        },
        "id": "KBZMQhXxGv6x",
        "outputId": "80519bee-630c-4eac-8469-10a4bfa60603"
      },
      "execution_count": 68,
      "outputs": [
        {
          "output_type": "execute_result",
          "data": {
            "text/plain": [
              "Document(id_='61487746-96e0-46a9-90a9-d2257e70264f', embedding=None, metadata={'page_label': '1', 'file_name': 'Parser Source 2.pdf', 'file_path': '/content/drive/MyDrive/data/pdfs/Parser Source 2.pdf', 'file_type': 'application/pdf', 'file_size': 1930169, 'creation_date': '2024-11-07', 'last_modified_date': '2024-11-07'}, excluded_embed_metadata_keys=['file_name', 'file_type', 'file_size', 'creation_date', 'last_modified_date', 'last_accessed_date'], excluded_llm_metadata_keys=['file_name', 'file_type', 'file_size', 'creation_date', 'last_modified_date', 'last_accessed_date'], relationships={}, text='Company Profiles on following pages  \\n ', mimetype='text/plain', start_char_idx=None, end_char_idx=None, text_template='{metadata_str}\\n\\n{content}', metadata_template='{key}: {value}', metadata_seperator='\\n')"
            ]
          },
          "metadata": {},
          "execution_count": 68
        }
      ]
    },
    {
      "cell_type": "code",
      "source": [
        "index.summary"
      ],
      "metadata": {
        "colab": {
          "base_uri": "https://localhost:8080/",
          "height": 35
        },
        "id": "ND7-ua9Khbmq",
        "outputId": "2856720a-c6f0-4fcc-c685-ccce48739f73"
      },
      "execution_count": 70,
      "outputs": [
        {
          "output_type": "execute_result",
          "data": {
            "text/plain": [
              "'None'"
            ],
            "application/vnd.google.colaboratory.intrinsic+json": {
              "type": "string"
            }
          },
          "metadata": {},
          "execution_count": 70
        }
      ]
    },
    {
      "cell_type": "code",
      "source": [
        "print(\"\\n------------- Example Query Engine -------------\")\n",
        "query_response = index.as_query_engine(llm=llm, embed_model=embed_model).query(\"give me Appointments Board Positions list with names and other details of Aardvark Constructions Limited\")\n",
        "print(query_response)\n",
        "\n"
      ],
      "metadata": {
        "colab": {
          "base_uri": "https://localhost:8080/"
        },
        "id": "uvw0Sous35A4",
        "outputId": "a6367060-739e-48d5-e179-dc146a92fb00"
      },
      "execution_count": 71,
      "outputs": [
        {
          "output_type": "stream",
          "name": "stdout",
          "text": [
            "\n",
            "------------- Example Query Engine -------------\n",
            "The appointments to board positions at Aardvark Constructions Limited include the following:\n",
            "\n",
            "1. Nicole Adams was appointed as Director on 10/09/2020 and later as Alternate Director on 15/03/2023. She resigned from her positions, including Director and Alternate Director, on 31/08/2023 and 14/11/2023, respectively.\n",
            "\n",
            "2. Tim Haines was appointed as Director on 13/11/2022.\n",
            "\n",
            "3. ABNB AltBauNeu Baugesellschaft mbH was appointed as Company Secretary on 19/12/2022.\n",
            "\n",
            "4. Trustme was appointed as Managing Member on 30/01/2023.\n",
            "\n",
            "5. Mohammed Malek was appointed as Chair on 31/01/2023 and resigned from his positions, including Chair, Chief Executive Officer, and Director, on 10/04/2023.\n",
            "\n",
            "6. Gordon Tatun was appointed as Director on 12/10/2023.\n",
            "\n",
            "7. Brian Jenkins was appointed as Director on 29/11/2023.\n"
          ]
        }
      ]
    },
    {
      "cell_type": "code",
      "source": [
        "print(\"\\n------------- Example Chat Engine  -------------\")\n",
        "chat_response = index.as_chat_engine(llm=llm, embed_model=embed_model).chat(\n",
        "    \"give me Appointments Board Positions list with names and other details of Aardvark Constructions Limited\",\n",
        "    chat_history=[ChatMessage(role=\"system\", content=\"You are an expert on RAG!\")],\n",
        ")\n",
        "print(chat_response)\n",
        "\n"
      ],
      "metadata": {
        "colab": {
          "base_uri": "https://localhost:8080/"
        },
        "id": "NTvgrIyY4I2R",
        "outputId": "9dce7236-c2a3-4d83-ea74-bf887a5dab7b"
      },
      "execution_count": 72,
      "outputs": [
        {
          "output_type": "stream",
          "name": "stdout",
          "text": [
            "\n",
            "------------- Example Chat Engine  -------------\n",
            "Here is the list of board positions and appointments for Aardvark Constructions Limited:\n",
            "\n",
            "1. **Nicole Adams**\n",
            "   - Appointed as Director on 10/09/2020\n",
            "   - Appointed as Alternate Director on 15/03/2023\n",
            "   - Resigned from all positions including Director, Alternate Director, Chief Executive, Company Secretary, Deputy Chief Executive, Designated Member, Directeur Conformité, and Joint Secretary on 14/11/2023.\n",
            "\n",
            "2. **Tim Haines**\n",
            "   - Appointed as Director on 13/11/2022.\n",
            "\n",
            "3. **ABNB AltBauNeu Baugesellschaft mbH**\n",
            "   - Appointed as Company Secretary on 19/12/2022.\n",
            "\n",
            "4. **Trustme**\n",
            "   - Appointed as Managing Member on 30/01/2023.\n",
            "\n",
            "5. **Mohammed Malek**\n",
            "   - Appointed as Chair on 31/01/2023\n",
            "   - Resigned as Chair, Chief Executive Officer, and Director on 10/04/2023.\n",
            "\n",
            "6. **Gordon Tatun**\n",
            "   - Appointed as Director on 12/10/2023.\n",
            "\n",
            "7. **Brian Jenkins**\n",
            "   - Appointed as Director on 29/11/2023.\n"
          ]
        }
      ]
    },
    {
      "cell_type": "code",
      "source": [
        "print(\"\\n------------- Example Retriever   -------------\")\n",
        "retriever_response = index.as_retriever().retrieve(\"give me Appointments Board Positions list with names and other details of Aardvark Constructions Limited\")\n",
        "pprint.pprint(retriever_response)"
      ],
      "metadata": {
        "colab": {
          "base_uri": "https://localhost:8080/"
        },
        "id": "ApZfir-L4ROK",
        "outputId": "0ce79e8b-c209-4342-d8c7-22be390b40ec"
      },
      "execution_count": 73,
      "outputs": [
        {
          "output_type": "stream",
          "name": "stdout",
          "text": [
            "\n",
            "------------- Example Retriever   -------------\n",
            "[NodeWithScore(node=TextNode(id_='671117ce-8ede-4d31-a13c-3a2c44fb0960', embedding=None, metadata={'page_label': '8', 'file_name': 'Parser Source 2.pdf', 'file_path': '/content/drive/MyDrive/data/pdfs/Parser Source 2.pdf', 'file_type': 'application/pdf', 'file_size': 1930169, 'creation_date': '2024-11-07', 'last_modified_date': '2024-11-07'}, excluded_embed_metadata_keys=['file_name', 'file_type', 'file_size', 'creation_date', 'last_modified_date', 'last_accessed_date'], excluded_llm_metadata_keys=['file_name', 'file_type', 'file_size', 'creation_date', 'last_modified_date', 'last_accessed_date'], relationships={<NodeRelationship.SOURCE: '1'>: RelatedNodeInfo(node_id='783c8a18-6b84-446e-a67c-8d8d7ba688a3', node_type=<ObjectType.DOCUMENT: '4'>, metadata={'page_label': '8', 'file_name': 'Parser Source 2.pdf', 'file_path': '/content/drive/MyDrive/data/pdfs/Parser Source 2.pdf', 'file_type': 'application/pdf', 'file_size': 1930169, 'creation_date': '2024-11-07', 'last_modified_date': '2024-11-07'}, hash='8bfde35f1c616bf19d08e90a0b8bf53adcd0f9fb80ab17efc29723e614e08bbd')}, text='Aardvark Constructions Limited  \\nDate  Company Profile  Company Number  \\n09/08/2024  123456  \\n \\nDate 09/08/2024  AARDVCONST/MCPARTLA -C Page 7 Event Date  Reminder  Event  Description  \\n10/09/2020  Unknown  Appointment  Nicole Adams (PRIMARYNM) as Director  \\n(DXM Pending Appt)  \\n10/09/2020  Unknown  Appointment  Nicole Adams (PRIMARYNM) as Director  \\n(DXM Pending Appt)  \\n13/11/2022  13/11/2022  Appointment  Tim Haines (HAINES -T) as Director  \\n19/12/2022  19/12/2022  Appointment  ABNB AltBauNeu Baugesellschaft mbH (ABNBGERGMB) as Company Secretary  \\n19/12/2022  19/12/2022  Transfer  50 shares from ARSENAUL -M to ABC  \\n20/12/2022  20/12/2022  Allotment  50 shares to BENEVENT -M \\n15/01/2023  15/02/2023  Transfer  25 shares from ARMSTRON -L to ARSENAUL -M \\n30/01/2023  30/01/2023  Appointment  Trustme (TRUSTME) as Managing Member  \\n31/01/2023  02/08/2023  Appointment  Mohammed Malek (MALEK -M) as Chair  \\n15/02/2023  01/03/2023  Conf. Statement  Company Confirmation Statement  \\n09/03/2023  23/03/2023  Class Options  Set options for Ordinary shares  \\n15/03/2023  22/03/2023  Appointment  Nicole Adams (ADAMS -N) as Alternate Director  \\n15/03/2023  29/03/2023  New Class  New Class £1.00 Preference  \\n10/04/2023  10/04/2023  Resignation  Mohammed Malek (MALEK -M) as Chair, Chief Executive Officer and Director  \\n27/04/2023  27/04/2023  Change Name  Change Name to Ardvark Limited  \\n08/06/2023  22/06/2023  Change Name  Change Name to qwert  \\n21/06/2023  05/07/2023  Allotment  1 shares to ABBLES -J \\n21/06/2023  05/07/2023  Allotment  1 shares to ABBLES -J \\n21/08/2023  04/09/2023  Ind. Classification  Change Industrial Classification  \\n31/08/2023  31/08/2023  Resignation  Nicole Adams (ADAMS -N) as Director  \\n05/09/2023  19/09/2023  Dissolution / Sale  Dissolution / Sale  \\n12/10/2023  26/10/2023  Appointment  Gordon Tatun (TATUN -G) as Director  \\n14/11/2023  14/11/2023  Resignation  Nicole Adams (ADAMS -N) as Alternate Director, Chief Executive, Company \\nSecretary, Deputy Chief Execu tive, Designated Member, Directeur Conformité, \\nDirector and Joint Secretary  \\n29/11/2023  13/12/2023  Appointment  Brian Jenkins (JENKINS -B) as Director  \\n01/12/2023  01/12/2023  Dividend  Ordinary Type Dividend of 98.00 shares for 3 people  \\n08/03/2024  08/03/2024  Opening Bal.  1 shares to ABBLES -J \\n11/07/2024  11/07/2024  Allotment  1 shares to ABBLES -J \\n11/07/2024  11/07/2024  Allotment  1 shares to ABBLES -J \\n12/07/2024  26/07/2024  Change Name  Change Name to Aardvark Constructions  \\n08/08/2024  08/08/2024  Redenominate  1 shares for ABERSTANTH', mimetype='text/plain', start_char_idx=0, end_char_idx=2563, text_template='{metadata_str}\\n\\n{content}', metadata_template='{key}: {value}', metadata_seperator='\\n'), score=0.8179503176273707),\n",
            " NodeWithScore(node=TextNode(id_='e4096753-4c79-4cbb-83cc-923e5368b5ef', embedding=None, metadata={'page_label': '2', 'file_name': 'Parser Source 2.pdf', 'file_path': '/content/drive/MyDrive/data/pdfs/Parser Source 2.pdf', 'file_type': 'application/pdf', 'file_size': 1930169, 'creation_date': '2024-11-07', 'last_modified_date': '2024-11-07'}, excluded_embed_metadata_keys=['file_name', 'file_type', 'file_size', 'creation_date', 'last_modified_date', 'last_accessed_date'], excluded_llm_metadata_keys=['file_name', 'file_type', 'file_size', 'creation_date', 'last_modified_date', 'last_accessed_date'], relationships={<NodeRelationship.SOURCE: '1'>: RelatedNodeInfo(node_id='b9d5080d-130c-46d1-9049-079b99bd8d9d', node_type=<ObjectType.DOCUMENT: '4'>, metadata={'page_label': '2', 'file_name': 'Parser Source 2.pdf', 'file_path': '/content/drive/MyDrive/data/pdfs/Parser Source 2.pdf', 'file_type': 'application/pdf', 'file_size': 1930169, 'creation_date': '2024-11-07', 'last_modified_date': '2024-11-07'}, hash='54db0b13e6f07972d419e436c784b0e52b7f14932cc8d957047227c2d21a9521')}, text=\"Aardvark Constructions Limited  \\nDate  Company Profile  Company Number  \\n09/08/2024  123456  \\n \\nDate 09/08/2024  AARDVCONST/MCPARTLA -C Page 1 Main Details  \\n Name:  Aardvark Constructions Limited  \\n QuickRef:  AARDVCONST  \\n Country:  United Kingdom  \\n Company Number:  123456  \\n Incorporated:  20/10/2020  \\n Company Type:  Limited by Shares  \\n Company Status:  Active  \\n Dissolved:   \\n Registered Email Address:   \\n \\nPrimary Addresses  \\nRegistered Office:  6 Chancery  Road, London, WC2A 5DP, United Kingdom  \\n \\nAccounting Dates  \\n Last Period End  Current Period End  Last Extended  \\nAccounting Dates:  16/11/2022  16/11/2024  16/11/2022  \\n \\nCompliance Details  \\n Last Signed  Filed  Next Overdue  Last Company \\nData Request  \\nConfirmation Statement:  17/02/2023    17/02/2023  03/03/2023    \\n \\n Last Signed  Filed  Revenue  Next Overdue  \\nAccounts:  16/11/2022  16/11/2022  16/11/2022  16/11/2022  16/11/2024  16/08/2025  \\nApproved by Board:  16/11/2022  16/11/2022      \\n \\nManagement Details  \\n User Grouping:  INVSUBS_CA  \\n File Reference:   \\n Division/Partner:   \\n Managed By:  Caroline McPartland  \\n \\nEmployee Identification \\nNumber:  1  \\nHas Employees:     \\nNumber of Employees:  0  \\nCompany GUID:  12D1442A -7E25 -4031 -B574 -B97E4D73772D  \\nTax Type (Do Not Delete):    \\nNature of Business:    \\nCompany Name Restrictions?:     \\nExemption from name ending \\nwith 'Limited'?:     \\nType of Articles:    \\nRestricted Articles?:     \\nPeriod allowed for the \\npreparation of accounts:  0  \\nSame Day Change of Name?:     \\nReviewer:  Tim Brady  \\nLSL - Company Type:  Holding  \\nFCA Regulated:  Yes  \\nManaged By Email:  cmcpartland@diligent.com  \\nGSV Flag:    \\nCreation Date (audit):  28/05/2024  \\n \\nSigners  \\nMaster Signer 1:    \\nMaster Signer Name 1:    \\nMaster Signer  2:    \\nMaster Signer Name 2:    \\nMaster Signer  3:    \\nEIN:   \\nDE File:    \\nYardi:    \\nCompany Types:    \\nTax Status:    \\nCompany Handling Notes:    \\nTax Designation:    \\nCurrency:\", mimetype='text/plain', start_char_idx=0, end_char_idx=1948, text_template='{metadata_str}\\n\\n{content}', metadata_template='{key}: {value}', metadata_seperator='\\n'), score=0.8134058227352879)]\n"
          ]
        }
      ]
    },
    {
      "cell_type": "code",
      "source": [
        "retriever_response"
      ],
      "metadata": {
        "colab": {
          "base_uri": "https://localhost:8080/"
        },
        "id": "DMe_uJBM4zr_",
        "outputId": "0a141b53-42ae-44c7-ebc7-764e4b95fcec"
      },
      "execution_count": 58,
      "outputs": [
        {
          "output_type": "execute_result",
          "data": {
            "text/plain": [
              "[NodeWithScore(node=TextNode(id_='13d5d44c-3e06-4087-a535-1cdd87e41900', embedding=None, metadata={'page_label': '8', 'file_name': 'Parser Source 2.pdf', 'file_path': '/content/drive/MyDrive/data/pdfs/Parser Source 2.pdf', 'file_type': 'application/pdf', 'file_size': 1930169, 'creation_date': '2024-11-07', 'last_modified_date': '2024-11-07'}, excluded_embed_metadata_keys=['file_name', 'file_type', 'file_size', 'creation_date', 'last_modified_date', 'last_accessed_date'], excluded_llm_metadata_keys=['file_name', 'file_type', 'file_size', 'creation_date', 'last_modified_date', 'last_accessed_date'], relationships={<NodeRelationship.SOURCE: '1'>: RelatedNodeInfo(node_id='411ad83b-d00b-4357-8a78-70a6d8582aba', node_type=<ObjectType.DOCUMENT: '4'>, metadata={'page_label': '8', 'file_name': 'Parser Source 2.pdf', 'file_path': '/content/drive/MyDrive/data/pdfs/Parser Source 2.pdf', 'file_type': 'application/pdf', 'file_size': 1930169, 'creation_date': '2024-11-07', 'last_modified_date': '2024-11-07'}, hash='8bfde35f1c616bf19d08e90a0b8bf53adcd0f9fb80ab17efc29723e614e08bbd')}, text='Aardvark Constructions Limited  \\nDate  Company Profile  Company Number  \\n09/08/2024  123456  \\n \\nDate 09/08/2024  AARDVCONST/MCPARTLA -C Page 7 Event Date  Reminder  Event  Description  \\n10/09/2020  Unknown  Appointment  Nicole Adams (PRIMARYNM) as Director  \\n(DXM Pending Appt)  \\n10/09/2020  Unknown  Appointment  Nicole Adams (PRIMARYNM) as Director  \\n(DXM Pending Appt)  \\n13/11/2022  13/11/2022  Appointment  Tim Haines (HAINES -T) as Director  \\n19/12/2022  19/12/2022  Appointment  ABNB AltBauNeu Baugesellschaft mbH (ABNBGERGMB) as Company Secretary  \\n19/12/2022  19/12/2022  Transfer  50 shares from ARSENAUL -M to ABC  \\n20/12/2022  20/12/2022  Allotment  50 shares to BENEVENT -M \\n15/01/2023  15/02/2023  Transfer  25 shares from ARMSTRON -L to ARSENAUL -M \\n30/01/2023  30/01/2023  Appointment  Trustme (TRUSTME) as Managing Member  \\n31/01/2023  02/08/2023  Appointment  Mohammed Malek (MALEK -M) as Chair  \\n15/02/2023  01/03/2023  Conf. Statement  Company Confirmation Statement  \\n09/03/2023  23/03/2023  Class Options  Set options for Ordinary shares  \\n15/03/2023  22/03/2023  Appointment  Nicole Adams (ADAMS -N) as Alternate Director  \\n15/03/2023  29/03/2023  New Class  New Class £1.00 Preference  \\n10/04/2023  10/04/2023  Resignation  Mohammed Malek (MALEK -M) as Chair, Chief Executive Officer and Director  \\n27/04/2023  27/04/2023  Change Name  Change Name to Ardvark Limited  \\n08/06/2023  22/06/2023  Change Name  Change Name to qwert  \\n21/06/2023  05/07/2023  Allotment  1 shares to ABBLES -J \\n21/06/2023  05/07/2023  Allotment  1 shares to ABBLES -J \\n21/08/2023  04/09/2023  Ind. Classification  Change Industrial Classification  \\n31/08/2023  31/08/2023  Resignation  Nicole Adams (ADAMS -N) as Director  \\n05/09/2023  19/09/2023  Dissolution / Sale  Dissolution / Sale  \\n12/10/2023  26/10/2023  Appointment  Gordon Tatun (TATUN -G) as Director  \\n14/11/2023  14/11/2023  Resignation  Nicole Adams (ADAMS -N) as Alternate Director, Chief Executive, Company \\nSecretary, Deputy Chief Execu tive, Designated Member, Directeur Conformité, \\nDirector and Joint Secretary  \\n29/11/2023  13/12/2023  Appointment  Brian Jenkins (JENKINS -B) as Director  \\n01/12/2023  01/12/2023  Dividend  Ordinary Type Dividend of 98.00 shares for 3 people  \\n08/03/2024  08/03/2024  Opening Bal.  1 shares to ABBLES -J \\n11/07/2024  11/07/2024  Allotment  1 shares to ABBLES -J \\n11/07/2024  11/07/2024  Allotment  1 shares to ABBLES -J \\n12/07/2024  26/07/2024  Change Name  Change Name to Aardvark Constructions  \\n08/08/2024  08/08/2024  Redenominate  1 shares for ABERSTANTH', mimetype='text/plain', start_char_idx=0, end_char_idx=2563, text_template='{metadata_str}\\n\\n{content}', metadata_template='{key}: {value}', metadata_seperator='\\n'), score=0.8179503176273707),\n",
              " NodeWithScore(node=TextNode(id_='cbc97719-b692-467e-be9b-9e07049fc7d2', embedding=None, metadata={'page_label': '2', 'file_name': 'Parser Source 2.pdf', 'file_path': '/content/drive/MyDrive/data/pdfs/Parser Source 2.pdf', 'file_type': 'application/pdf', 'file_size': 1930169, 'creation_date': '2024-11-07', 'last_modified_date': '2024-11-07'}, excluded_embed_metadata_keys=['file_name', 'file_type', 'file_size', 'creation_date', 'last_modified_date', 'last_accessed_date'], excluded_llm_metadata_keys=['file_name', 'file_type', 'file_size', 'creation_date', 'last_modified_date', 'last_accessed_date'], relationships={<NodeRelationship.SOURCE: '1'>: RelatedNodeInfo(node_id='812e4184-8706-4f92-8d5a-26b337942e63', node_type=<ObjectType.DOCUMENT: '4'>, metadata={'page_label': '2', 'file_name': 'Parser Source 2.pdf', 'file_path': '/content/drive/MyDrive/data/pdfs/Parser Source 2.pdf', 'file_type': 'application/pdf', 'file_size': 1930169, 'creation_date': '2024-11-07', 'last_modified_date': '2024-11-07'}, hash='54db0b13e6f07972d419e436c784b0e52b7f14932cc8d957047227c2d21a9521')}, text=\"Aardvark Constructions Limited  \\nDate  Company Profile  Company Number  \\n09/08/2024  123456  \\n \\nDate 09/08/2024  AARDVCONST/MCPARTLA -C Page 1 Main Details  \\n Name:  Aardvark Constructions Limited  \\n QuickRef:  AARDVCONST  \\n Country:  United Kingdom  \\n Company Number:  123456  \\n Incorporated:  20/10/2020  \\n Company Type:  Limited by Shares  \\n Company Status:  Active  \\n Dissolved:   \\n Registered Email Address:   \\n \\nPrimary Addresses  \\nRegistered Office:  6 Chancery  Road, London, WC2A 5DP, United Kingdom  \\n \\nAccounting Dates  \\n Last Period End  Current Period End  Last Extended  \\nAccounting Dates:  16/11/2022  16/11/2024  16/11/2022  \\n \\nCompliance Details  \\n Last Signed  Filed  Next Overdue  Last Company \\nData Request  \\nConfirmation Statement:  17/02/2023    17/02/2023  03/03/2023    \\n \\n Last Signed  Filed  Revenue  Next Overdue  \\nAccounts:  16/11/2022  16/11/2022  16/11/2022  16/11/2022  16/11/2024  16/08/2025  \\nApproved by Board:  16/11/2022  16/11/2022      \\n \\nManagement Details  \\n User Grouping:  INVSUBS_CA  \\n File Reference:   \\n Division/Partner:   \\n Managed By:  Caroline McPartland  \\n \\nEmployee Identification \\nNumber:  1  \\nHas Employees:     \\nNumber of Employees:  0  \\nCompany GUID:  12D1442A -7E25 -4031 -B574 -B97E4D73772D  \\nTax Type (Do Not Delete):    \\nNature of Business:    \\nCompany Name Restrictions?:     \\nExemption from name ending \\nwith 'Limited'?:     \\nType of Articles:    \\nRestricted Articles?:     \\nPeriod allowed for the \\npreparation of accounts:  0  \\nSame Day Change of Name?:     \\nReviewer:  Tim Brady  \\nLSL - Company Type:  Holding  \\nFCA Regulated:  Yes  \\nManaged By Email:  cmcpartland@diligent.com  \\nGSV Flag:    \\nCreation Date (audit):  28/05/2024  \\n \\nSigners  \\nMaster Signer 1:    \\nMaster Signer Name 1:    \\nMaster Signer  2:    \\nMaster Signer Name 2:    \\nMaster Signer  3:    \\nEIN:   \\nDE File:    \\nYardi:    \\nCompany Types:    \\nTax Status:    \\nCompany Handling Notes:    \\nTax Designation:    \\nCurrency:\", mimetype='text/plain', start_char_idx=0, end_char_idx=1948, text_template='{metadata_str}\\n\\n{content}', metadata_template='{key}: {value}', metadata_seperator='\\n'), score=0.8134058227352879)]"
            ]
          },
          "metadata": {},
          "execution_count": 58
        }
      ]
    },
    {
      "cell_type": "code",
      "source": [
        "import mlflow\n",
        "mlflow.set_tracking_uri(\"http://localhost:5000\")\n",
        "#\n",
        "mlflow.set_experiment(\"save LlamaIndex\")"
      ],
      "metadata": {
        "colab": {
          "base_uri": "https://localhost:8080/"
        },
        "id": "esFxZ-KD42cm",
        "outputId": "e5a458f7-2952-48ac-c63f-e6df1217cb14"
      },
      "execution_count": 16,
      "outputs": [
        {
          "output_type": "stream",
          "name": "stderr",
          "text": [
            "2024/11/07 13:50:38 INFO mlflow.tracking.fluent: Experiment with name 'save LlamaIndex' does not exist. Creating a new experiment.\n"
          ]
        },
        {
          "output_type": "execute_result",
          "data": {
            "text/plain": [
              "<Experiment: artifact_location='mlflow-artifacts:/628421178147187747', creation_time=1730987438865, experiment_id='628421178147187747', last_update_time=1730987438865, lifecycle_stage='active', name='save LlamaIndex', tags={}>"
            ]
          },
          "metadata": {},
          "execution_count": 16
        }
      ]
    },
    {
      "cell_type": "code",
      "source": [
        "mlflow.llama_index.autolog()  # This is for enabling tracing\n",
        "\n",
        "with mlflow.start_run(run_name=\"gpt-4o\") as run:\n",
        "    mlflow.llama_index.log_model(\n",
        "        index,\n",
        "        artifact_path=\"llama_index\",\n",
        "        engine_type=\"query\",  # Defines the pyfunc and spark_udf inference type\n",
        "        input_example=\"hi\",  # Infers signature\n",
        "        registered_model_name=\"llama_index_vector_store\",  # Stores an instance in the model registry\n",
        "    )\n",
        "\n",
        "    run_id = run.info.run_id\n",
        "    model_uri = f\"runs:/{run_id}/llama_index\"\n",
        "    print(f\"Unique identifier for the model location for loading: {model_uri}\")"
      ],
      "metadata": {
        "colab": {
          "base_uri": "https://localhost:8080/",
          "height": 191,
          "referenced_widgets": [
            "5f9aee0057f8493abc9961f669d8f955",
            "e29f8e87da3e4c3ebb21c226c2291a8f",
            "6104f753a80d4f13bcb03706ae8b76f1",
            "191bc24992874d92809cb309f40d6006",
            "dcddbbbf01ae44daab507f062e9a141f",
            "9daf3ad67341474c8c41bfcf9890ea8e",
            "dc62d1d3bd1648b1b73f8ffddfbc6596",
            "260d28ce73754a8e874f125697ab5cec",
            "a2ef8a65185a414a9299ac81fcbf716a",
            "8f884788c7d84c7ba492ef1a36f59371",
            "682e6bc9aa4b4e978a17dca8ec126e51"
          ]
        },
        "id": "OEQRUoyc5C3F",
        "outputId": "4e1a7ea5-c2ce-42bb-f891-48c2e4eee329"
      },
      "execution_count": 74,
      "outputs": [
        {
          "output_type": "stream",
          "name": "stderr",
          "text": [
            "2024/11/07 16:48:10 INFO mlflow.llama_index.serialize_objects: API key(s) will be removed from the global Settings object during serialization to protect against key leakage. At inference time, the key(s) must be passed as environment variables.\n",
            "Registered model 'llama_index_vector_store' already exists. Creating a new version of this model...\n",
            "2024/11/07 16:48:19 INFO mlflow.store.model_registry.abstract_store: Waiting up to 300 seconds for model version to finish creation. Model name: llama_index_vector_store, version 3\n",
            "Created version '3' of model 'llama_index_vector_store'.\n"
          ]
        },
        {
          "output_type": "display_data",
          "data": {
            "text/plain": [
              "Downloading artifacts:   0%|          | 0/12 [00:00<?, ?it/s]"
            ],
            "application/vnd.jupyter.widget-view+json": {
              "version_major": 2,
              "version_minor": 0,
              "model_id": "5f9aee0057f8493abc9961f669d8f955"
            }
          },
          "metadata": {}
        },
        {
          "output_type": "stream",
          "name": "stderr",
          "text": [
            "2024/11/07 16:48:22 INFO mlflow.tracking._tracking_service.client: 🏃 View run gpt-4o at: http://localhost:5000/#/experiments/628421178147187747/runs/c195f8d4721a4b0cb49a73d9edd39815.\n",
            "2024/11/07 16:48:22 INFO mlflow.tracking._tracking_service.client: 🧪 View experiment at: http://localhost:5000/#/experiments/628421178147187747.\n"
          ]
        },
        {
          "output_type": "stream",
          "name": "stdout",
          "text": [
            "Unique identifier for the model location for loading: runs:/c195f8d4721a4b0cb49a73d9edd39815/llama_index\n"
          ]
        }
      ]
    },
    {
      "cell_type": "code",
      "source": [
        "prompt = \"\"\"\n",
        "Provide Main Details of the company Aardvark Constructions Limited. Including following details:\n",
        "Name:\n",
        "Country:\n",
        "Company Number:\n",
        "Incorporated:\n",
        "Company Type:\n",
        "Company Status:\n",
        "Primary Addresses Registered Office:\n",
        "Accounting Dates:\n",
        "Confirmation Statement:\n",
        "\"\"\""
      ],
      "metadata": {
        "id": "bIbExe7O5Zz7"
      },
      "execution_count": 75,
      "outputs": []
    },
    {
      "cell_type": "code",
      "source": [
        "print(\"\\n------------- Inference via Llama Index   -------------\")\n",
        "index_download = mlflow.llama_index.load_model(model_uri)\n",
        "query_response = index_download.as_query_engine().query(prompt)\n",
        "print(query_response)"
      ],
      "metadata": {
        "colab": {
          "base_uri": "https://localhost:8080/",
          "height": 275,
          "referenced_widgets": [
            "7b6391c8435a4a11a7f6a1455b59e91c",
            "fc6d7107c73a4e90800434bc49726b7d",
            "87a06e0f67314bbb86a4da9bb4ec39b1",
            "ac5dcea97e034ff9896c9b9fbfdb2571",
            "8ac725056e784a6aa0a3125ade7d15fd",
            "95679f82a2e248e08a97b7046efb2da3",
            "e2c476f5233a4a24833b4c10e9b007f5",
            "4be1c16af0804454b7f22094fc752c31",
            "30f8ab5a877c4cf8ac0628369d8ed3c8",
            "41a29219824d4f99895fb6129b27863d",
            "d12e7e09adbc41c19dbc3fb354e85d92"
          ]
        },
        "id": "G_gDWSKW5TxH",
        "outputId": "6ee42e5e-c48a-4bd5-9e2d-4dfca5ffd46c"
      },
      "execution_count": 76,
      "outputs": [
        {
          "output_type": "display_data",
          "data": {
            "text/plain": [
              "Downloading artifacts:   0%|          | 0/12 [00:00<?, ?it/s]"
            ],
            "application/vnd.jupyter.widget-view+json": {
              "version_major": 2,
              "version_minor": 0,
              "model_id": "7b6391c8435a4a11a7f6a1455b59e91c"
            }
          },
          "metadata": {}
        },
        {
          "output_type": "stream",
          "name": "stdout",
          "text": [
            "\n",
            "------------- Inference via Llama Index   -------------\n",
            "Here are the main details for Aardvark Constructions Limited:\n",
            "\n",
            "- **Name:** Aardvark Constructions Limited\n",
            "- **Country:** United Kingdom\n",
            "- **Company Number:** 123456\n",
            "- **Incorporated:** 20/10/2020\n",
            "- **Company Type:** Limited by Shares\n",
            "- **Company Status:** Active\n",
            "- **Primary Addresses Registered Office:** 6 Chancery Road, London, WC2A 5DP, United Kingdom\n",
            "- **Accounting Dates:** Last Period End: 16/11/2022, Current Period End: 16/11/2024, Last Extended: 16/11/2022\n",
            "- **Confirmation Statement:** Last Signed: 17/02/2023, Filed: 17/02/2023, Next Overdue: 03/03/2023\n"
          ]
        }
      ]
    },
    {
      "cell_type": "code",
      "source": [
        "type(index_download)"
      ],
      "metadata": {
        "colab": {
          "base_uri": "https://localhost:8080/",
          "height": 256
        },
        "id": "73DyfxVDtbrL",
        "outputId": "df003d6f-35c4-441f-dfbd-828d16f0232c"
      },
      "execution_count": 88,
      "outputs": [
        {
          "output_type": "execute_result",
          "data": {
            "text/plain": [
              "llama_index.core.indices.vector_store.base.VectorStoreIndex"
            ],
            "text/html": [
              "<div style=\"max-width:800px; border: 1px solid var(--colab-border-color);\"><style>\n",
              "      pre.function-repr-contents {\n",
              "        overflow-x: auto;\n",
              "        padding: 8px 12px;\n",
              "        max-height: 500px;\n",
              "      }\n",
              "\n",
              "      pre.function-repr-contents.function-repr-contents-collapsed {\n",
              "        cursor: pointer;\n",
              "        max-height: 100px;\n",
              "      }\n",
              "    </style>\n",
              "    <pre style=\"white-space: initial; background:\n",
              "         var(--colab-secondary-surface-color); padding: 8px 12px;\n",
              "         border-bottom: 1px solid var(--colab-border-color);\"><b>llama_index.core.indices.vector_store.base.VectorStoreIndex</b><br/>def __init__(nodes: Optional[Sequence[BaseNode]]=None, use_async: bool=False, store_nodes_override: bool=False, embed_model: Optional[EmbedType]=None, insert_batch_size: int=2048, objects: Optional[Sequence[IndexNode]]=None, index_struct: Optional[IndexDict]=None, storage_context: Optional[StorageContext]=None, callback_manager: Optional[CallbackManager]=None, transformations: Optional[List[TransformComponent]]=None, show_progress: bool=False, **kwargs: Any) -&gt; None</pre><pre class=\"function-repr-contents function-repr-contents-collapsed\" style=\"\"><a class=\"filepath\" style=\"display:none\" href=\"#\">/usr/local/lib/python3.10/dist-packages/llama_index/core/indices/vector_store/base.py</a>Vector Store Index.\n",
              "\n",
              "Args:\n",
              "    use_async (bool): Whether to use asynchronous calls. Defaults to False.\n",
              "    show_progress (bool): Whether to show tqdm progress bars. Defaults to False.\n",
              "    store_nodes_override (bool): set to True to always store Node objects in index\n",
              "        store and document store even if vector store keeps text. Defaults to False</pre>\n",
              "      <script>\n",
              "      if (google.colab.kernel.accessAllowed && google.colab.files && google.colab.files.view) {\n",
              "        for (const element of document.querySelectorAll('.filepath')) {\n",
              "          element.style.display = 'block'\n",
              "          element.onclick = (event) => {\n",
              "            event.preventDefault();\n",
              "            event.stopPropagation();\n",
              "            google.colab.files.view(element.textContent, 36);\n",
              "          };\n",
              "        }\n",
              "      }\n",
              "      for (const element of document.querySelectorAll('.function-repr-contents')) {\n",
              "        element.onclick = (event) => {\n",
              "          event.preventDefault();\n",
              "          event.stopPropagation();\n",
              "          element.classList.toggle('function-repr-contents-collapsed');\n",
              "        };\n",
              "      }\n",
              "      </script>\n",
              "      </div>"
            ]
          },
          "metadata": {},
          "execution_count": 88
        }
      ]
    },
    {
      "cell_type": "code",
      "source": [
        "print(\"\\n------------- Inference via MLflow PyFunc -------------\")\n",
        "index = mlflow.pyfunc.load_model(model_uri)\n",
        "query_response = index.predict(prompt)\n",
        "print(query_response)"
      ],
      "metadata": {
        "colab": {
          "base_uri": "https://localhost:8080/",
          "height": 275,
          "referenced_widgets": [
            "d9800bd15a29436a87deec32304903e5",
            "a5da8059a53d45af8bbca61cbe0ff28e",
            "c4661f12cf4d4d31ae60832a1905b979",
            "f64aec2612464894a2b34a0251aa175e",
            "9fe3c223dfe54f9c9a30d4b9d4e436b7",
            "774b27500e534d4cb1cfb558db9e3bad",
            "b22a964ebdc449bc9697740e6c1cd39d",
            "54f5534e99534a7faf52b4b64e57fa45",
            "33a96f318a5b417e8af5c0881460f5f2",
            "0d3e047be11c4a2381b4308077d9ea65",
            "e0856d6ce69c4bb8915d7910b122fc00"
          ]
        },
        "id": "A3Fdk9HF5kV8",
        "outputId": "32ad9ff9-cce9-47ea-e2d4-b2c049ba30f6"
      },
      "execution_count": 89,
      "outputs": [
        {
          "output_type": "stream",
          "name": "stdout",
          "text": [
            "\n",
            "------------- Inference via MLflow PyFunc -------------\n"
          ]
        },
        {
          "output_type": "display_data",
          "data": {
            "text/plain": [
              "Downloading artifacts:   0%|          | 0/12 [00:00<?, ?it/s]"
            ],
            "application/vnd.jupyter.widget-view+json": {
              "version_major": 2,
              "version_minor": 0,
              "model_id": "d9800bd15a29436a87deec32304903e5"
            }
          },
          "metadata": {}
        },
        {
          "output_type": "stream",
          "name": "stdout",
          "text": [
            "Main Details of Aardvark Constructions Limited are as follows:\n",
            "\n",
            "- **Name:** Aardvark Constructions Limited\n",
            "- **Country:** United Kingdom\n",
            "- **Company Number:** 123456\n",
            "- **Incorporated:** 20/10/2020\n",
            "- **Company Type:** Limited by Shares\n",
            "- **Company Status:** Active\n",
            "- **Primary Addresses Registered Office:** 6 Chancery Road, London, WC2A 5DP, United Kingdom\n",
            "- **Accounting Dates:** Last Period End: 16/11/2022, Current Period End: 16/11/2024, Last Extended: 16/11/2022\n",
            "- **Confirmation Statement:** Last Signed: 17/02/2023, Filed: 17/02/2023, Next Overdue: 03/03/2023\n"
          ]
        }
      ]
    },
    {
      "cell_type": "code",
      "source": [
        "index = mlflow.pyfunc.load_model(model_uri)\n",
        "type(index)"
      ],
      "metadata": {
        "colab": {
          "base_uri": "https://localhost:8080/",
          "height": 236,
          "referenced_widgets": [
            "442820ff88544fa1888d843d803cc710",
            "06d676ad374c473097d04de5e5fbf5c0",
            "face58ef2215435c8a19fe91f6b5b740",
            "24164e1dd32f412b8d59fafe15290821",
            "c9f538f9e6284ebab27894fd631e2fe2",
            "53671e43a87341879aabd829a1eed340",
            "90e1ccdaa29b4994a4dadf9a91e38bbb",
            "f4392e52e32041e3a6b38934701549a4",
            "156ac8fd5ad24515b64a5709e5097c66",
            "e5531227140b4e5c80d6adb5b2862583",
            "caadc3e4501b448d8a4bf90a6e5a02f0"
          ]
        },
        "id": "7oT4r_6ytneW",
        "outputId": "cc51d56c-aabe-4b27-ddb4-346a6c4f3b3c"
      },
      "execution_count": 90,
      "outputs": [
        {
          "output_type": "display_data",
          "data": {
            "text/plain": [
              "Downloading artifacts:   0%|          | 0/12 [00:00<?, ?it/s]"
            ],
            "application/vnd.jupyter.widget-view+json": {
              "version_major": 2,
              "version_minor": 0,
              "model_id": "442820ff88544fa1888d843d803cc710"
            }
          },
          "metadata": {}
        },
        {
          "output_type": "execute_result",
          "data": {
            "text/plain": [
              "mlflow.pyfunc.PyFuncModel"
            ],
            "text/html": [
              "<div style=\"max-width:800px; border: 1px solid var(--colab-border-color);\"><style>\n",
              "      pre.function-repr-contents {\n",
              "        overflow-x: auto;\n",
              "        padding: 8px 12px;\n",
              "        max-height: 500px;\n",
              "      }\n",
              "\n",
              "      pre.function-repr-contents.function-repr-contents-collapsed {\n",
              "        cursor: pointer;\n",
              "        max-height: 100px;\n",
              "      }\n",
              "    </style>\n",
              "    <pre style=\"white-space: initial; background:\n",
              "         var(--colab-secondary-surface-color); padding: 8px 12px;\n",
              "         border-bottom: 1px solid var(--colab-border-color);\"><b>mlflow.pyfunc.PyFuncModel</b><br/>def __init__(model_meta: Model, model_impl: Any, predict_fn: str=&#x27;predict&#x27;, predict_stream_fn: Optional[str]=None)</pre><pre class=\"function-repr-contents function-repr-contents-collapsed\" style=\"\"><a class=\"filepath\" style=\"display:none\" href=\"#\">/usr/local/lib/python3.10/dist-packages/mlflow/pyfunc/__init__.py</a>MLflow &#x27;python function&#x27; model.\n",
              "\n",
              "Wrapper around model implementation and metadata. This class is not meant to be constructed\n",
              "directly. Instead, instances of this class are constructed and returned from\n",
              ":py:func:`load_model() &lt;mlflow.pyfunc.load_model&gt;`.\n",
              "\n",
              "``model_impl`` can be any Python object that implements the `Pyfunc interface\n",
              "&lt;https://mlflow.org/docs/latest/python_api/mlflow.pyfunc.html#pyfunc-inference-api&gt;`_, and is\n",
              "returned by invoking the model&#x27;s ``loader_module``.\n",
              "\n",
              "``model_meta`` contains model metadata loaded from the MLmodel file.</pre>\n",
              "      <script>\n",
              "      if (google.colab.kernel.accessAllowed && google.colab.files && google.colab.files.view) {\n",
              "        for (const element of document.querySelectorAll('.filepath')) {\n",
              "          element.style.display = 'block'\n",
              "          element.onclick = (event) => {\n",
              "            event.preventDefault();\n",
              "            event.stopPropagation();\n",
              "            google.colab.files.view(element.textContent, 685);\n",
              "          };\n",
              "        }\n",
              "      }\n",
              "      for (const element of document.querySelectorAll('.function-repr-contents')) {\n",
              "        element.onclick = (event) => {\n",
              "          event.preventDefault();\n",
              "          event.stopPropagation();\n",
              "          element.classList.toggle('function-repr-contents-collapsed');\n",
              "        };\n",
              "      }\n",
              "      </script>\n",
              "      </div>"
            ]
          },
          "metadata": {},
          "execution_count": 90
        }
      ]
    },
    {
      "cell_type": "code",
      "source": [
        "prompt2 = \"\"\"\n",
        "From Management Details of  Aardvark Constructions Limited extract:\n",
        "Managed By:\n",
        "Managed By Email:\n",
        "\"\"\"\n",
        "prompt3 = \"\"\"\n",
        "Past Names of the Company  Aardvark Constructions Limited with their period\n",
        "\"\"\"\n",
        "\n",
        "prompt4 = \"\"\"\n",
        "Appointments Board Positions list with names and other details\n",
        "\"\"\""
      ],
      "metadata": {
        "id": "WhMFwgGx5zU_"
      },
      "execution_count": 78,
      "outputs": []
    },
    {
      "cell_type": "code",
      "source": [
        "# Optional: Spark UDF inference\n",
        "show_spark_udf_inference = True\n",
        "if show_spark_udf_inference:\n",
        "    print(\"\\n------------- Inference via MLflow Spark UDF -------------\")\n",
        "    from pyspark.sql import SparkSession\n",
        "\n",
        "    spark = SparkSession.builder.getOrCreate()\n",
        "\n",
        "    udf = mlflow.pyfunc.spark_udf(spark, model_uri, result_type=\"string\")\n",
        "    df1 = spark.createDataFrame([(prompt,), (prompt2,),(prompt3,), (prompt4,)], [\"prompt\"])\n",
        ""
      ],
      "metadata": {
        "colab": {
          "base_uri": "https://localhost:8080/",
          "height": 170,
          "referenced_widgets": [
            "8513d6978a0b47c49fd67041854ae106",
            "2ba890f429ee42ca963979a1cb25d4c7",
            "6baeee32eba543d4b06eae20af1a3345",
            "dce79e4c7758490589100b21b4af68e8",
            "d1f6d4711c664c54ae17496485fb9d43",
            "e16d4498ecbe40989a8325665ecb07d8",
            "fb2cb3f1b79843658a2c60310b80c169",
            "8a4dcc4d5a354da0a4a3459043033f23",
            "1d3562f68ec64f3ca723bea0bd030eb1",
            "5edd0a681ca04b55a0982e4f5499eeb0",
            "d080273f0eae4d8a93750ab462987511",
            "ee4238c6710d4605b1563eb882987cef",
            "d146dc8303094eb889a0e3d35e45c147",
            "97633f9b4d794f988ffa7d010393b14b",
            "ed1ea6b94cfd46fc8d74a4ef5fb4fe87",
            "21298048d2ac4bf9b783bbe93eb3f353",
            "7763caadeb6b4fc79d714477e91c8dad",
            "82e45ae57fcc4bc8b014610980e599b4",
            "9c64db081e4449758dba82448fa42150",
            "010882df604c4a729a601d1cf29efe4e",
            "ad054bdd7b164bb9b7d8f15992394ead",
            "874531d5ebcd45fb874397af667df3de"
          ]
        },
        "id": "OmsDpoX_6E8D",
        "outputId": "a3ef3f7d-df7f-41b0-c596-62391d75ee0b"
      },
      "execution_count": 79,
      "outputs": [
        {
          "output_type": "stream",
          "name": "stdout",
          "text": [
            "\n",
            "------------- Inference via MLflow Spark UDF -------------\n"
          ]
        },
        {
          "output_type": "display_data",
          "data": {
            "text/plain": [
              "Downloading artifacts:   0%|          | 0/12 [00:00<?, ?it/s]"
            ],
            "application/vnd.jupyter.widget-view+json": {
              "version_major": 2,
              "version_minor": 0,
              "model_id": "8513d6978a0b47c49fd67041854ae106"
            }
          },
          "metadata": {}
        },
        {
          "output_type": "stream",
          "name": "stderr",
          "text": [
            "2024/11/07 16:49:52 WARNING mlflow.pyfunc: Calling `spark_udf()` with `env_manager=\"local\"` does not recreate the same environment that was used during training, which may lead to errors or inaccurate predictions. We recommend specifying `env_manager=\"conda\"`, which automatically recreates the environment that was used to train the model and performs inference in the recreated environment.\n"
          ]
        },
        {
          "output_type": "display_data",
          "data": {
            "text/plain": [
              "Downloading artifacts:   0%|          | 0/12 [00:00<?, ?it/s]"
            ],
            "application/vnd.jupyter.widget-view+json": {
              "version_major": 2,
              "version_minor": 0,
              "model_id": "ee4238c6710d4605b1563eb882987cef"
            }
          },
          "metadata": {}
        },
        {
          "output_type": "stream",
          "name": "stderr",
          "text": [
            "2024/11/07 16:49:52 INFO mlflow.models.flavor_backend_registry: Selected backend for flavor 'python_function'\n"
          ]
        }
      ]
    },
    {
      "cell_type": "code",
      "source": [
        "df = df1.withColumn(\"response\", udf(\"prompt\")).toPandas()"
      ],
      "metadata": {
        "id": "ZupCVGeg6YYh"
      },
      "execution_count": 80,
      "outputs": []
    },
    {
      "cell_type": "code",
      "source": [
        "df1.withColumn(\"response\", udf(\"prompt\")).show()"
      ],
      "metadata": {
        "colab": {
          "base_uri": "https://localhost:8080/"
        },
        "id": "UG2xlZldvNfC",
        "outputId": "5500ec6b-3a90-4c40-9ae2-1f5d94b4f55b"
      },
      "execution_count": 92,
      "outputs": [
        {
          "output_type": "stream",
          "name": "stdout",
          "text": [
            "+--------------------+--------------------+\n",
            "|              prompt|            response|\n",
            "+--------------------+--------------------+\n",
            "|\\nProvide Main De...|Name: Aardvark Co...|\n",
            "|\\nFrom Management...|Managed By: Carol...|\n",
            "|\\nPast Names of t...|The past names of...|\n",
            "|\\nAppointments Bo...|Here is a list of...|\n",
            "+--------------------+--------------------+\n",
            "\n"
          ]
        }
      ]
    },
    {
      "cell_type": "code",
      "source": [],
      "metadata": {
        "id": "dwJ7ilqpvmQ1"
      },
      "execution_count": null,
      "outputs": []
    },
    {
      "cell_type": "code",
      "source": [
        "for i, row in df.iterrows():\n",
        "    print(df.at[i,\"prompt\"])\n",
        "    print(df.at[i,\"response\"])\n",
        "    pprint.pprint(\"-\" * 50)"
      ],
      "metadata": {
        "colab": {
          "base_uri": "https://localhost:8080/"
        },
        "id": "ey82ka7W8SUH",
        "outputId": "e6f79d50-e4b7-4485-8a98-01bdd03e35e2"
      },
      "execution_count": 81,
      "outputs": [
        {
          "output_type": "stream",
          "name": "stdout",
          "text": [
            "\n",
            "Provide Main Details of the company Aardvark Constructions Limited. Including following details:\n",
            "Name:\n",
            "Country:\n",
            "Company Number:\n",
            "Incorporated:\n",
            "Company Type:\n",
            "Company Status:\n",
            "Primary Addresses Registered Office:\n",
            "Accounting Dates:\n",
            "Confirmation Statement:\n",
            "\n",
            "Name: Aardvark Constructions Limited  \n",
            "Country: United Kingdom  \n",
            "Company Number: 123456  \n",
            "Incorporated: 20/10/2020  \n",
            "Company Type: Limited by Shares  \n",
            "Company Status: Active  \n",
            "Primary Addresses Registered Office: 6 Chancery Road, London, WC2A 5DP, United Kingdom  \n",
            "Accounting Dates: Last Period End - 16/11/2022, Current Period End - 16/11/2024, Last Extended - 16/11/2022  \n",
            "Confirmation Statement: Last Signed - 17/02/2023, Filed - 17/02/2023, Next Overdue - 03/03/2023  \n",
            "'--------------------------------------------------'\n",
            "\n",
            "From Management Details of  Aardvark Constructions Limited extract:\n",
            "Managed By:\n",
            "Managed By Email:\n",
            "\n",
            "Managed By: Caroline McPartland  \n",
            "Managed By Email: cmcpartland@diligent.com\n",
            "'--------------------------------------------------'\n",
            "\n",
            "Past Names of the Company  Aardvark Constructions Limited with their period \n",
            "\n",
            "The past names of Aardvark Constructions Limited and their periods are as follows:\n",
            "\n",
            "1. Aardvark and Son Ltd from 20/10/2021 to 20/10/2022\n",
            "2. Aardvark Construction from 20/10/2020 to 20/10/2021\n",
            "'--------------------------------------------------'\n",
            "\n",
            "Appointments Board Positions list with names and other details\n",
            "\n",
            "Here is a list of appointments to board positions along with names and details:\n",
            "\n",
            "1. Mohammed Malek (MALEK -M) was appointed as Deputy Chair on 30/03/2023 and later as Chief Executive Officer on 31/05/2023.\n",
            "2. Alani Foss (FOSS -A) was appointed as Alternate Director on 05/04/2023.\n",
            "3. Susan Boyie (BOYIE -S) was appointed as Chief Executive on 17/04/2023 and later as Director on 15/02/2024.\n",
            "4. Wendy David (DAVID -W) was appointed as Company Secretary on 28/04/2023.\n",
            "5. Nicole Adams (ADAMS -N) was appointed as Company Secretary on 19/05/2023 and as Chair on 10/11/2023. She resigned from multiple positions on 14/11/2023.\n",
            "6. Gus Rutter (RUTTER -G) was appointed as Director on 01/06/2023.\n",
            "7. Paloma Plews (PLEWS -P) was appointed as Company Secretary on 11/10/2023 and again on 08/11/2023, and later as Director on 07/02/2024.\n",
            "8. Jeff Bezos (BEZOS -J) was appointed as Non Executive Director on 08/11/2023.\n",
            "9. Brian Stafford (STAFFORD -B) was appointed as Chief Executive on 28/11/2023.\n",
            "10. Neil Barlow (BARLOW -N) was appointed as Director on 11/12/2023.\n",
            "11. Willem Director (WILDIR) was appointed as Director on 10/01/2024.\n",
            "12. Roman Arkadyevich Abramovich (ABRAMOV -RA) was appointed as Director on 07/02/2024.\n",
            "'--------------------------------------------------'\n"
          ]
        }
      ]
    },
    {
      "cell_type": "code",
      "source": [
        "from llama_index.core import VectorStoreIndex, SimpleDirectoryReader\n",
        "\n",
        "# load documents\n",
        "data = SimpleDirectoryReader(input_dir=pdf_path,required_exts=[\".pdf\"]).load_data()\n",
        "\n",
        "# indexing documents using vector store\n",
        "index2 = VectorStoreIndex.from_documents(data)"
      ],
      "metadata": {
        "id": "Nl3jH8KCCvDk"
      },
      "execution_count": 85,
      "outputs": []
    },
    {
      "cell_type": "code",
      "source": [
        "import mlflow\n",
        "\n",
        "mlflow.llama_index.autolog()\n",
        "\n",
        "chat_engine = index2.as_chat_engine()\n",
        "response = chat_engine.chat(prompt)"
      ],
      "metadata": {
        "id": "8Iu1agDeCYIV"
      },
      "execution_count": 86,
      "outputs": []
    },
    {
      "cell_type": "code",
      "source": [
        "pprint.pprint(response.response)"
      ],
      "metadata": {
        "colab": {
          "base_uri": "https://localhost:8080/"
        },
        "id": "y_JvfMyXC80b",
        "outputId": "d899de4c-686f-4534-f866-64baf4517bd2"
      },
      "execution_count": 87,
      "outputs": [
        {
          "output_type": "stream",
          "name": "stdout",
          "text": [
            "('Here are the main details of Aardvark Constructions Limited:\\n'\n",
            " '\\n'\n",
            " '- **Name**: Aardvark Constructions Limited\\n'\n",
            " '- **Country**: United Kingdom\\n'\n",
            " '- **Company Number**: 123456\\n'\n",
            " '- **Incorporated Date**: 20/10/2020\\n'\n",
            " '- **Company Type**: Limited by Shares\\n'\n",
            " '- **Company Status**: Active\\n'\n",
            " '- **Primary Addresses Registered Office**: 6 Chancery Road, London, WC2A '\n",
            " '5DP, United Kingdom\\n'\n",
            " '- **Accounting Dates**: \\n'\n",
            " '  - Last Period End: 16/11/2022\\n'\n",
            " '  - Current Period End: 16/11/2024\\n'\n",
            " '  - Last Extended: 16/11/2022\\n'\n",
            " '- **Confirmation Statement**: \\n'\n",
            " '  - Last Signed: 17/02/2023\\n'\n",
            " '  - Filed: 17/02/2023\\n'\n",
            " '  - Next Overdue: 03/03/2023')\n"
          ]
        }
      ]
    }
  ]
}