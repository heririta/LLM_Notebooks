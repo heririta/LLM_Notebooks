{
 "cells": [
  {
   "cell_type": "code",
   "execution_count": 15,
   "id": "8c2e53c6-4a8a-47b9-83dc-2ee8483a948a",
   "metadata": {},
   "outputs": [],
   "source": [
    "import requests\n",
    "import json"
   ]
  },
  {
   "cell_type": "code",
   "execution_count": 40,
   "id": "4e36e8e7-96b3-4423-9a0f-9044f2f8ae22",
   "metadata": {},
   "outputs": [],
   "source": [
    "url = \"https://a484-34-87-110-142.ngrok-free.app/health\""
   ]
  },
  {
   "cell_type": "code",
   "execution_count": 41,
   "id": "5f87ecd7-5fba-448f-aefd-f4ec8a88a7a2",
   "metadata": {},
   "outputs": [
    {
     "data": {
      "text/plain": [
       "<Response [200]>"
      ]
     },
     "execution_count": 41,
     "metadata": {},
     "output_type": "execute_result"
    }
   ],
   "source": [
    "requests.get(url)"
   ]
  },
  {
   "cell_type": "code",
   "execution_count": 42,
   "id": "611c24b6-b949-46b1-a1c0-3ce9ec58e8de",
   "metadata": {},
   "outputs": [],
   "source": [
    "data = {}\n",
    "data[\"question\"] = \"En que fecha se aprobo la ley de enjuiciamiento civil y principal proposito de la ley\""
   ]
  },
  {
   "cell_type": "code",
   "execution_count": 43,
   "id": "993b795c-c80f-4be7-9a0e-36614132ef61",
   "metadata": {},
   "outputs": [],
   "source": [
    "data1 = json.dumps(data).encode()"
   ]
  },
  {
   "cell_type": "code",
   "execution_count": 44,
   "id": "1826e6bc-4c28-4e77-8826-de9db6e5d02d",
   "metadata": {},
   "outputs": [],
   "source": [
    "url = \"https://a484-34-87-110-142.ngrok-free.app/generate\""
   ]
  },
  {
   "cell_type": "code",
   "execution_count": 45,
   "id": "a995a0d3-8bf4-488b-8594-406fbdb9c34b",
   "metadata": {},
   "outputs": [],
   "source": [
    "r = requests.post(url, data=data1)"
   ]
  },
  {
   "cell_type": "code",
   "execution_count": 46,
   "id": "43516b02-c019-4618-93fb-4c02fbb08a47",
   "metadata": {},
   "outputs": [],
   "source": [
    "output1 = r.json()"
   ]
  },
  {
   "cell_type": "code",
   "execution_count": 48,
   "id": "cf73d7c5-45ef-415e-b64b-6cbbbac33e89",
   "metadata": {},
   "outputs": [
    {
     "data": {
      "text/plain": [
       "{'result': [{'retrieve': {'documents': [{'id': 'aaef5aac-7d99-4888-a3e8-1d1cd5daea72',\n",
       "      'metadata': {'page': 8,\n",
       "       'source': '/content/drive/MyDrive/data (1)/forensic/data_2/ley_enjuiciamiento_civil.pdf'},\n",
       "      'page_content': 'LEY 1/2000, DE 7 DE ENERO, DE ENJUICIAMIENTO CIVIL \\n(«BOE» núm. 7, de 8 de enero de 2000; corrección de errores en «BOE» \\nnúms. 90, de 14 de abril de 2000, y 180, de 28 de julio de 2001) \\nTÍTULO PRELIMINAR \\nDe las normas procesales y su aplicación \\nArtículo 1. Principio de legalidad procesal .–En los procesos civiles, los \\ntribunales y quienes ante ellos acudan  e intervengan deberán actuar con \\narreglo a lo dispuesto en esta Ley. \\nArt. 2. Aplicación en el tiempo de la s normas procesales civiles.– Salvo \\nque otra cosa se establezca en disposiciones legales de Derecho',\n",
       "      'type': 'Document'},\n",
       "     {'id': 'cc682ea5-0708-496d-abfb-1a63206c3a4b',\n",
       "      'metadata': {'page': 344,\n",
       "       'source': '/content/drive/MyDrive/data (1)/forensic/data_2/ley_enjuiciamiento_civil.pdf'},\n",
       "      'page_content': '«1. Los litigios civiles que puedan surgir al amparo de la presente Ley \\nse resolverán en el juicio que corresponda conforme a la Ley de \\nEnjuiciamie\\n2. El artículo 133 de la Ley 1\\nedará redactado en los siguientes términos: \\n«Quien ejercite o vaya a ejercitar una acción de las previstas en la \\npresente Ley, podrá solicit ar del órgano judicial que haya de entender de \\naquélla la adopción de las medidas cautelares tendentes a asegurar la \\nefectividad de dichas acciones, siempre que jus\\ntente objeto de la acción  en los términos del artículo 83 de la presente \\nLey o que ha iniciado unos preparativos serios y efectivos a tales efectos.»',\n",
       "      'type': 'Document'},\n",
       "     {'id': '3f9b9dea-aeed-4a51-bb4b-19c25a42f96d',\n",
       "      'metadata': {'page': 357,\n",
       "       'source': '/content/drive/MyDrive/data (1)/forensic/data_2/ley_enjuiciamiento_civil.pdf'},\n",
       "      'page_content': 'Ley, sobre nulidad de las actuacio nes y aclaración y corrección de \\nresoluciones, respectivamente. \\nDecimoctava. Proyecto de Ley sobre jurisdicción voluntaria.– En el \\nplazo de un año a contar desde la fecha de entrada en vigor de esta Ley, el \\nGobierno remitirá a las Cortes Generales un proyecto de Ley sobre \\njurisdicción voluntaria. \\nDecimon\\nses a contar desde la fecha de entrada en vi gor de esta Ley, el \\nGobierno remitirá a las Cortes Gene rales un pr\\nVigésima. Proyecto de Ley sobre cooperación jurídica internacional \\nen materia civil.– En el plazo de seis meses a contar desde la fecha de',\n",
       "      'type': 'Document'},\n",
       "     {'id': 'f4d9d25e-3fdd-433d-9b38-8c6bd4c6481b',\n",
       "      'metadata': {'page': 343,\n",
       "       'source': '/content/drive/MyDrive/data (1)/forensic/data_2/ley_enjuiciamiento_civil.pdf'},\n",
       "      'page_content': 'dispuesto en la Ley de Enjuiciamiento Civil.» \\n3. El artículo 143 \\nr Real Decreto legislativo 1/1996, de 12 de abril, quedará redactado en \\nlos siguientes términos: \\n«Artículo 143.  Causas criminales.– En las causas criminales que se \\nsigan por infracción de los derechos reconocidos en esta Ley, podrán \\nadoptarse las medidas cautelares procedentes en procesos civiles, \\nconforme a lo dispuesto en la Ley de Enjuiciamiento Civil. Estas medidas \\nno impedirán la adopción de cual esquiera otras establecidas en la \\nlegislación procesal penal.» \\n4. El a tículo 150 de la Ley de Pr opiedad Intelectual, texto refundido',\n",
       "      'type': 'Document'}],\n",
       "    'question': 'En que fecha se aprobo la ley de enjuiciamiento civil y principal proposito de la ley'}},\n",
       "  {'grade_documents': {'documents': [{'id': 'aaef5aac-7d99-4888-a3e8-1d1cd5daea72',\n",
       "      'metadata': {'page': 8,\n",
       "       'source': '/content/drive/MyDrive/data (1)/forensic/data_2/ley_enjuiciamiento_civil.pdf'},\n",
       "      'page_content': 'LEY 1/2000, DE 7 DE ENERO, DE ENJUICIAMIENTO CIVIL \\n(«BOE» núm. 7, de 8 de enero de 2000; corrección de errores en «BOE» \\nnúms. 90, de 14 de abril de 2000, y 180, de 28 de julio de 2001) \\nTÍTULO PRELIMINAR \\nDe las normas procesales y su aplicación \\nArtículo 1. Principio de legalidad procesal .–En los procesos civiles, los \\ntribunales y quienes ante ellos acudan  e intervengan deberán actuar con \\narreglo a lo dispuesto en esta Ley. \\nArt. 2. Aplicación en el tiempo de la s normas procesales civiles.– Salvo \\nque otra cosa se establezca en disposiciones legales de Derecho',\n",
       "      'type': 'Document'},\n",
       "     {'id': 'f4d9d25e-3fdd-433d-9b38-8c6bd4c6481b',\n",
       "      'metadata': {'page': 343,\n",
       "       'source': '/content/drive/MyDrive/data (1)/forensic/data_2/ley_enjuiciamiento_civil.pdf'},\n",
       "      'page_content': 'dispuesto en la Ley de Enjuiciamiento Civil.» \\n3. El artículo 143 \\nr Real Decreto legislativo 1/1996, de 12 de abril, quedará redactado en \\nlos siguientes términos: \\n«Artículo 143.  Causas criminales.– En las causas criminales que se \\nsigan por infracción de los derechos reconocidos en esta Ley, podrán \\nadoptarse las medidas cautelares procedentes en procesos civiles, \\nconforme a lo dispuesto en la Ley de Enjuiciamiento Civil. Estas medidas \\nno impedirán la adopción de cual esquiera otras establecidas en la \\nlegislación procesal penal.» \\n4. El a tículo 150 de la Ley de Pr opiedad Intelectual, texto refundido',\n",
       "      'type': 'Document'},\n",
       "     {'id': None,\n",
       "      'metadata': {},\n",
       "      'page_content': \"LA LEY DE ENJUICIAMIENTO CIVIL DEL SIGLO XXI JESÜS RUBIO LARA Oficial de la Administración ... nistración de Justicia en general y de la justicia civil en particular. Con fecha 30 de octubre de 1998, el Consejo de Ministros aprobó el Proyecto ... El propósito principal que se desprende de la lectura del Proyecto, es sin lugar\\nEs un texto legal que regula los procedimientos legales y, por tanto, ajusta la forma y la medida en las que las leyes se ejecutan por parte de un tribunal. La LEC en España entró en vigor por la Ley 1/2000, de 7 de enero, de Enjuiciamiento Civil\\xa0y tiene una gran importancia en nuestro sistema jurídico. Contenido de la Ley de Enjuiciamiento Civil española En definitiva, la Ley de Enjuiciamiento Civil marca las pautas de todos los ámbitos relacionados con el proceso judicial y su desarrollo. Estructura de la Ley de Enjuiciamiento Civil en España La Ley de Enjuiciamiento Civil española está formado por un total de 827 artículos.\\nLa Ley de Enjuiciamiento Civil es un cuerpo normativo en el ámbito del Derecho que regula los procedimientos judiciales civiles en España. Es una ley fundamental que establece las normas y principios que rigen la organización y el desarrollo de los procesos judiciales civiles. En resumen, la Ley de Enjuiciamiento Civil es una normativa crucial en el ámbito del Derecho Civil que regula todos los aspectos relacionados con los procedimientos judiciales civiles en España. ¿Cómo se debe calcular el plazo establecido para unas acciones consideradas urgentes según lo establecido en el apartado 2 del artículo 131 de la Ley de Enjuiciamiento Civil? En resumen, la Ley de Enjuiciamiento Civil establece estos dos procedimientos declarativos con el objetivo de agilizar y simplificar los procesos judiciales en la jurisdicción civil.\\n«es éste, un precepto legal claramente inspirado en el principio dispositivo que informó la redacción originaria de la Ley de Enjuiciamiento Civil (LA LEY 58/2000), siendo una de sus consecuencias más significativas el impulso del proceso a instancia de parte. Otro es, por el contrario, el principio que tras la entrada en vigor de la\\nBOE-A-2000-323 Ley 1/2000, de 7 de enero, de Enjuiciamiento Civil. Consultar el diario oficial BOE es_Castellano_ Mi BOE Desconectado. Pulse para acceder al servicio 'Mi BOE' BOE Otros diarios oficiales Información Jurídica Biblioteca Jurídica Digital Documento consolidado BOE-A-2000-323 La consolidación consiste en integrar en un solo texto, sin valor oficial, las modificaciones, correcciones y derogaciones de carácter expreso que una norma ha tenido desde su origen, con el objetivo de facilitar el acceso al Derecho vigente. Publicado en: BOE-A-2000-323 https://www.boe.es/eli/es/l/2000/01/07/1/con Modificación publicada el 20/12/2023 Modificación publicada el 29/06/2023 Modificación publicada el 25/05/2023 Modificación publicada el 18/03/2023 Modificación publicada el 01/03/2023 Modificación publicada el 23/12/2022 Modificación publicada el 06/09/2022 Modificación publicada el 28/07/2022 Modificación publicada el 13/07/2022 Texto inicial publicado el 08/01/2000\",\n",
       "      'type': 'Document'}],\n",
       "    'question': 'En que fecha se aprobo la ley de enjuiciamiento civil y principal proposito de la ley',\n",
       "    'web_search': 'Yes'}},\n",
       "  {'websearch': {'documents': [{'id': 'aaef5aac-7d99-4888-a3e8-1d1cd5daea72',\n",
       "      'metadata': {'page': 8,\n",
       "       'source': '/content/drive/MyDrive/data (1)/forensic/data_2/ley_enjuiciamiento_civil.pdf'},\n",
       "      'page_content': 'LEY 1/2000, DE 7 DE ENERO, DE ENJUICIAMIENTO CIVIL \\n(«BOE» núm. 7, de 8 de enero de 2000; corrección de errores en «BOE» \\nnúms. 90, de 14 de abril de 2000, y 180, de 28 de julio de 2001) \\nTÍTULO PRELIMINAR \\nDe las normas procesales y su aplicación \\nArtículo 1. Principio de legalidad procesal .–En los procesos civiles, los \\ntribunales y quienes ante ellos acudan  e intervengan deberán actuar con \\narreglo a lo dispuesto en esta Ley. \\nArt. 2. Aplicación en el tiempo de la s normas procesales civiles.– Salvo \\nque otra cosa se establezca en disposiciones legales de Derecho',\n",
       "      'type': 'Document'},\n",
       "     {'id': 'f4d9d25e-3fdd-433d-9b38-8c6bd4c6481b',\n",
       "      'metadata': {'page': 343,\n",
       "       'source': '/content/drive/MyDrive/data (1)/forensic/data_2/ley_enjuiciamiento_civil.pdf'},\n",
       "      'page_content': 'dispuesto en la Ley de Enjuiciamiento Civil.» \\n3. El artículo 143 \\nr Real Decreto legislativo 1/1996, de 12 de abril, quedará redactado en \\nlos siguientes términos: \\n«Artículo 143.  Causas criminales.– En las causas criminales que se \\nsigan por infracción de los derechos reconocidos en esta Ley, podrán \\nadoptarse las medidas cautelares procedentes en procesos civiles, \\nconforme a lo dispuesto en la Ley de Enjuiciamiento Civil. Estas medidas \\nno impedirán la adopción de cual esquiera otras establecidas en la \\nlegislación procesal penal.» \\n4. El a tículo 150 de la Ley de Pr opiedad Intelectual, texto refundido',\n",
       "      'type': 'Document'},\n",
       "     {'id': None,\n",
       "      'metadata': {},\n",
       "      'page_content': \"LA LEY DE ENJUICIAMIENTO CIVIL DEL SIGLO XXI JESÜS RUBIO LARA Oficial de la Administración ... nistración de Justicia en general y de la justicia civil en particular. Con fecha 30 de octubre de 1998, el Consejo de Ministros aprobó el Proyecto ... El propósito principal que se desprende de la lectura del Proyecto, es sin lugar\\nEs un texto legal que regula los procedimientos legales y, por tanto, ajusta la forma y la medida en las que las leyes se ejecutan por parte de un tribunal. La LEC en España entró en vigor por la Ley 1/2000, de 7 de enero, de Enjuiciamiento Civil\\xa0y tiene una gran importancia en nuestro sistema jurídico. Contenido de la Ley de Enjuiciamiento Civil española En definitiva, la Ley de Enjuiciamiento Civil marca las pautas de todos los ámbitos relacionados con el proceso judicial y su desarrollo. Estructura de la Ley de Enjuiciamiento Civil en España La Ley de Enjuiciamiento Civil española está formado por un total de 827 artículos.\\nLa Ley de Enjuiciamiento Civil es un cuerpo normativo en el ámbito del Derecho que regula los procedimientos judiciales civiles en España. Es una ley fundamental que establece las normas y principios que rigen la organización y el desarrollo de los procesos judiciales civiles. En resumen, la Ley de Enjuiciamiento Civil es una normativa crucial en el ámbito del Derecho Civil que regula todos los aspectos relacionados con los procedimientos judiciales civiles en España. ¿Cómo se debe calcular el plazo establecido para unas acciones consideradas urgentes según lo establecido en el apartado 2 del artículo 131 de la Ley de Enjuiciamiento Civil? En resumen, la Ley de Enjuiciamiento Civil establece estos dos procedimientos declarativos con el objetivo de agilizar y simplificar los procesos judiciales en la jurisdicción civil.\\n«es éste, un precepto legal claramente inspirado en el principio dispositivo que informó la redacción originaria de la Ley de Enjuiciamiento Civil (LA LEY 58/2000), siendo una de sus consecuencias más significativas el impulso del proceso a instancia de parte. Otro es, por el contrario, el principio que tras la entrada en vigor de la\\nBOE-A-2000-323 Ley 1/2000, de 7 de enero, de Enjuiciamiento Civil. Consultar el diario oficial BOE es_Castellano_ Mi BOE Desconectado. Pulse para acceder al servicio 'Mi BOE' BOE Otros diarios oficiales Información Jurídica Biblioteca Jurídica Digital Documento consolidado BOE-A-2000-323 La consolidación consiste en integrar en un solo texto, sin valor oficial, las modificaciones, correcciones y derogaciones de carácter expreso que una norma ha tenido desde su origen, con el objetivo de facilitar el acceso al Derecho vigente. Publicado en: BOE-A-2000-323 https://www.boe.es/eli/es/l/2000/01/07/1/con Modificación publicada el 20/12/2023 Modificación publicada el 29/06/2023 Modificación publicada el 25/05/2023 Modificación publicada el 18/03/2023 Modificación publicada el 01/03/2023 Modificación publicada el 23/12/2022 Modificación publicada el 06/09/2022 Modificación publicada el 28/07/2022 Modificación publicada el 13/07/2022 Texto inicial publicado el 08/01/2000\",\n",
       "      'type': 'Document'}],\n",
       "    'question': 'En que fecha se aprobo la ley de enjuiciamiento civil y principal proposito de la ley'}},\n",
       "  {'generate': {'documents': [{'id': 'aaef5aac-7d99-4888-a3e8-1d1cd5daea72',\n",
       "      'metadata': {'page': 8,\n",
       "       'source': '/content/drive/MyDrive/data (1)/forensic/data_2/ley_enjuiciamiento_civil.pdf'},\n",
       "      'page_content': 'LEY 1/2000, DE 7 DE ENERO, DE ENJUICIAMIENTO CIVIL \\n(«BOE» núm. 7, de 8 de enero de 2000; corrección de errores en «BOE» \\nnúms. 90, de 14 de abril de 2000, y 180, de 28 de julio de 2001) \\nTÍTULO PRELIMINAR \\nDe las normas procesales y su aplicación \\nArtículo 1. Principio de legalidad procesal .–En los procesos civiles, los \\ntribunales y quienes ante ellos acudan  e intervengan deberán actuar con \\narreglo a lo dispuesto en esta Ley. \\nArt. 2. Aplicación en el tiempo de la s normas procesales civiles.– Salvo \\nque otra cosa se establezca en disposiciones legales de Derecho',\n",
       "      'type': 'Document'},\n",
       "     {'id': 'f4d9d25e-3fdd-433d-9b38-8c6bd4c6481b',\n",
       "      'metadata': {'page': 343,\n",
       "       'source': '/content/drive/MyDrive/data (1)/forensic/data_2/ley_enjuiciamiento_civil.pdf'},\n",
       "      'page_content': 'dispuesto en la Ley de Enjuiciamiento Civil.» \\n3. El artículo 143 \\nr Real Decreto legislativo 1/1996, de 12 de abril, quedará redactado en \\nlos siguientes términos: \\n«Artículo 143.  Causas criminales.– En las causas criminales que se \\nsigan por infracción de los derechos reconocidos en esta Ley, podrán \\nadoptarse las medidas cautelares procedentes en procesos civiles, \\nconforme a lo dispuesto en la Ley de Enjuiciamiento Civil. Estas medidas \\nno impedirán la adopción de cual esquiera otras establecidas en la \\nlegislación procesal penal.» \\n4. El a tículo 150 de la Ley de Pr opiedad Intelectual, texto refundido',\n",
       "      'type': 'Document'},\n",
       "     {'id': None,\n",
       "      'metadata': {},\n",
       "      'page_content': \"LA LEY DE ENJUICIAMIENTO CIVIL DEL SIGLO XXI JESÜS RUBIO LARA Oficial de la Administración ... nistración de Justicia en general y de la justicia civil en particular. Con fecha 30 de octubre de 1998, el Consejo de Ministros aprobó el Proyecto ... El propósito principal que se desprende de la lectura del Proyecto, es sin lugar\\nEs un texto legal que regula los procedimientos legales y, por tanto, ajusta la forma y la medida en las que las leyes se ejecutan por parte de un tribunal. La LEC en España entró en vigor por la Ley 1/2000, de 7 de enero, de Enjuiciamiento Civil\\xa0y tiene una gran importancia en nuestro sistema jurídico. Contenido de la Ley de Enjuiciamiento Civil española En definitiva, la Ley de Enjuiciamiento Civil marca las pautas de todos los ámbitos relacionados con el proceso judicial y su desarrollo. Estructura de la Ley de Enjuiciamiento Civil en España La Ley de Enjuiciamiento Civil española está formado por un total de 827 artículos.\\nLa Ley de Enjuiciamiento Civil es un cuerpo normativo en el ámbito del Derecho que regula los procedimientos judiciales civiles en España. Es una ley fundamental que establece las normas y principios que rigen la organización y el desarrollo de los procesos judiciales civiles. En resumen, la Ley de Enjuiciamiento Civil es una normativa crucial en el ámbito del Derecho Civil que regula todos los aspectos relacionados con los procedimientos judiciales civiles en España. ¿Cómo se debe calcular el plazo establecido para unas acciones consideradas urgentes según lo establecido en el apartado 2 del artículo 131 de la Ley de Enjuiciamiento Civil? En resumen, la Ley de Enjuiciamiento Civil establece estos dos procedimientos declarativos con el objetivo de agilizar y simplificar los procesos judiciales en la jurisdicción civil.\\n«es éste, un precepto legal claramente inspirado en el principio dispositivo que informó la redacción originaria de la Ley de Enjuiciamiento Civil (LA LEY 58/2000), siendo una de sus consecuencias más significativas el impulso del proceso a instancia de parte. Otro es, por el contrario, el principio que tras la entrada en vigor de la\\nBOE-A-2000-323 Ley 1/2000, de 7 de enero, de Enjuiciamiento Civil. Consultar el diario oficial BOE es_Castellano_ Mi BOE Desconectado. Pulse para acceder al servicio 'Mi BOE' BOE Otros diarios oficiales Información Jurídica Biblioteca Jurídica Digital Documento consolidado BOE-A-2000-323 La consolidación consiste en integrar en un solo texto, sin valor oficial, las modificaciones, correcciones y derogaciones de carácter expreso que una norma ha tenido desde su origen, con el objetivo de facilitar el acceso al Derecho vigente. Publicado en: BOE-A-2000-323 https://www.boe.es/eli/es/l/2000/01/07/1/con Modificación publicada el 20/12/2023 Modificación publicada el 29/06/2023 Modificación publicada el 25/05/2023 Modificación publicada el 18/03/2023 Modificación publicada el 01/03/2023 Modificación publicada el 23/12/2022 Modificación publicada el 06/09/2022 Modificación publicada el 28/07/2022 Modificación publicada el 13/07/2022 Texto inicial publicado el 08/01/2000\",\n",
       "      'type': 'Document'}],\n",
       "    'question': 'En que fecha se aprobo la ley de enjuiciamiento civil y principal proposito de la ley',\n",
       "    'generation': 'The Ley de Enjuiciamiento Civil was approved on January 7, 2000. The main purpose of the law is to regulate legal procedures and establish the rules for how laws are executed by a court.'}}]}"
      ]
     },
     "execution_count": 48,
     "metadata": {},
     "output_type": "execute_result"
    }
   ],
   "source": [
    "output1"
   ]
  },
  {
   "cell_type": "code",
   "execution_count": 47,
   "id": "673f1757-6b1e-4f96-be11-98a93d21d672",
   "metadata": {},
   "outputs": [
    {
     "data": {
      "text/plain": [
       "'The Ley de Enjuiciamiento Civil was approved on January 7, 2000. The main purpose of the law is to regulate legal procedures and establish the rules for how laws are executed by a court.'"
      ]
     },
     "execution_count": 47,
     "metadata": {},
     "output_type": "execute_result"
    }
   ],
   "source": [
    "output1['result'][3]['generate']['generation']"
   ]
  },
  {
   "cell_type": "code",
   "execution_count": 49,
   "id": "9483c9da-651f-4594-ad58-a87467425c89",
   "metadata": {},
   "outputs": [],
   "source": [
    "data = {}\n",
    "data[\"question\"] = \"what is kikuchi?\"\n",
    "data1 = json.dumps(data).encode()\n",
    "r2 = requests.post(url, data=data1)"
   ]
  },
  {
   "cell_type": "code",
   "execution_count": 34,
   "id": "2e11ef9c-fe5b-46b1-a9bd-038ec98c3744",
   "metadata": {},
   "outputs": [],
   "source": [
    "output2 = r2.json()"
   ]
  },
  {
   "cell_type": "code",
   "execution_count": 50,
   "id": "f434f6f9-227a-4de4-bb76-278d1739cd29",
   "metadata": {},
   "outputs": [
    {
     "data": {
      "text/plain": [
       "'Based on the provided context, Kikuchi refers to Kikuchi disease or Kikuchi-Fujimoto disease, which is a rare, idiopathic, generally self-limited cause of lymphadenitis. It is also known as histiocytic necrotizing lymphadenitis and typically affects young adults, especially those of Asian ancestry.'"
      ]
     },
     "execution_count": 50,
     "metadata": {},
     "output_type": "execute_result"
    }
   ],
   "source": [
    "output2['result'][3]['generate']['generation']"
   ]
  },
  {
   "cell_type": "code",
   "execution_count": 51,
   "id": "1f68e222-d73a-4b51-9014-297fb17f7ef6",
   "metadata": {},
   "outputs": [],
   "source": [
    "data = {}\n",
    "data[\"question\"] = \"what is parkinson?, synthomas, treatement\"\n",
    "data1 = json.dumps(data).encode()\n",
    "r3 = requests.post(url, data=data1)"
   ]
  },
  {
   "cell_type": "code",
   "execution_count": 52,
   "id": "e7961be1-5aee-413f-ace6-610548aa4b8e",
   "metadata": {},
   "outputs": [],
   "source": [
    "output3 = r3.json()"
   ]
  },
  {
   "cell_type": "code",
   "execution_count": 53,
   "id": "e78874ee-3140-414c-ab3a-2d246f81dd75",
   "metadata": {},
   "outputs": [
    {
     "data": {
      "text/plain": [
       "\"Parkinson's disease is an illness that affects the part of your brain that controls how you move your body. The possible causes are not well understood, but it is not contagious. Symptoms include tremors at rest, muscle rigidity, slow movement, and changes in walking.\""
      ]
     },
     "execution_count": 53,
     "metadata": {},
     "output_type": "execute_result"
    }
   ],
   "source": [
    "output3['result'][3]['generate']['generation']"
   ]
  },
  {
   "cell_type": "code",
   "execution_count": null,
   "id": "77ab203a-398b-4d2d-906a-8f04aa9be24d",
   "metadata": {},
   "outputs": [],
   "source": []
  }
 ],
 "metadata": {
  "kernelspec": {
   "display_name": "Python (langraph)",
   "language": "python",
   "name": "langraph"
  },
  "language_info": {
   "codemirror_mode": {
    "name": "ipython",
    "version": 3
   },
   "file_extension": ".py",
   "mimetype": "text/x-python",
   "name": "python",
   "nbconvert_exporter": "python",
   "pygments_lexer": "ipython3",
   "version": "3.11.11"
  }
 },
 "nbformat": 4,
 "nbformat_minor": 5
}
