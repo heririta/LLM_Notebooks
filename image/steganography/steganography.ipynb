{
 "cells": [
  {
   "cell_type": "markdown",
   "id": "3bfe6e99-a71e-4059-8010-ee1b825dfcdb",
   "metadata": {},
   "source": [
    "# What is Steganography?\n",
    "Steganography is the practice of hiding a file, message, image, or video within another file, message, image, or video. The word Steganography is derived from the Greek words \"steganos\" (meaning hidden or covered) and \"graphe\" (meaning writing). Steganography is the use of various methods to hide information from unwanted eyes. In ancient times, steganography was mostly done physically.\n",
    "\n",
    "The oldest documented case of steganography dates to 500 BC, in which Histiaeus, the ruler of Milteus, tattooed a message on the shaved head of one of his slaves and let the hair grow back. He then sent the slave to the Aristagoras, his son-in-law, who shaved the slave’s head again and revealed the message.\n",
    "\n",
    "In the centuries that followed, more modern forms of steganography were invented, such as invisible inks. Today, steganography has moved to the digital world.\n",
    "\n",
    "Hackers often use it to hide secret messages or data within media files such as images, videos, or audio files. Even though there are many legitimate uses for Steganography, such as watermarking, malware programmers have also been found to use it to obscure the transmission of malicious code.\n",
    "\n",
    "# What is an Image\n",
    "In the illustration bellow, imagine the picture on the left only has a size of 5x5 pixels. Thus, the image consist of 25 pixels in total. In reality, we would barley see a picture this small, but it is a good size for illustration purposes. As you can see the image has a grid. This grid can be used to access each pixel. On the right, we see how the python library OpenCV (cv2) stores this particular picture, namley in matrices with a shape of [5,5,3]. The last index (3) indicates the three different colours Red, Green, Blue. If we now access one particular pixel, for instance at location [4,4] we receive the pixel values [24,23,34]. The first value depicts the intensity for the colour red, the second one represents the intensity for the colour green and the last one for blue. In combination, those three colours yield a new colour which is depicted at this particular pixel location. Those values range from 0–255."
   ]
  },
  {
   "attachments": {},
   "cell_type": "markdown",
   "id": "40d9d449-f287-43d2-be9c-2203b4f515d0",
   "metadata": {},
   "source": [
    "![image_rgb.png](image_rgb.png)"
   ]
  },
  {
   "cell_type": "markdown",
   "id": "34d71a11-7415-498c-bad0-d3d9f457d1c7",
   "metadata": {},
   "source": [
    "\n",
    "\n",
    "# What is the Least Significant Bit?\n",
    "Least Significant Bit (LSB) is a technique in which the last bit of each pixel is modified and replaced with the data bit. This method only works on Lossless-compression images, which means the files are stored in a compressed format. However, this compression does not result in the data being lost or modified. PNG, TIFF, and BMP are examples of lossless-compression image file formats.\n",
    "\n",
    "As you may already know, an image consists of several pixels, each containing three values (Red, Green, and Blue); these values range from 0 to 255. In other words, they are 8-bit values. For example, a value of 225 is 11100001 in binary, and so on."
   ]
  },
  {
   "cell_type": "markdown",
   "id": "bca84842-9dca-4807-8c07-ace77058d20f",
   "metadata": {},
   "source": [
    "# Ascii Table\n",
    "https://www.asciitable.com/\n",
    "# Original\n",
    "```\n",
    "[[(225, 12, 99), (155, 2, 50), (99, 51, 15), (15, 55, 22)],\n",
    "[(155, 61, 87), (63, 30, 17), (1, 55, 19), (99, 81, 66)],\n",
    "[(219, 77, 91), (69, 39, 50), (18, 200, 33), (25, 54, 190)]]\n",
    "```\n",
    "\n",
    "```\n",
    "0110100 0110101 --> Hi in hexadecimal\n",
    "```\n",
    "```\n",
    "225 --> 1110 0001 --> 1110 0000 -->224\n",
    "12 --> 1100 --> 1101 --> 13\n",
    "99 --> 0110 0011 --> 0110 0011 --> 99\n",
    "155 --> 1001 1011 --> 1001 1010 --> 154\n",
    "2 --> 10 --> 11 --> 3\n",
    "50 --> 0011 0010 --> 0011 0010 -->50\n",
    "\n",
    "```\n",
    "# Encoded 1 bits\n",
    "```\n",
    "[[(224, 13, 99), (154, 3, 50), (98, 50, 15), (15, 54, 23)],\n",
    "[(154, 61, 87), (63, 30, 17), (1, 55, 19), (99, 81, 66)],\n",
    "[(219, 77, 91), (69, 39, 50), (18, 200, 33), (25, 54, 190)]]\n",
    "```\n",
    "\n",
    "\n"
   ]
  },
  {
   "cell_type": "code",
   "execution_count": 10,
   "id": "e28f2588-a43a-4284-b043-0fd557194fdf",
   "metadata": {},
   "outputs": [],
   "source": [
    "import cv2\n",
    "import numpy as np"
   ]
  },
  {
   "cell_type": "code",
   "execution_count": 11,
   "id": "bd117334-d422-457f-b6ca-3ab5b6cac58c",
   "metadata": {},
   "outputs": [],
   "source": [
    "def to_bin(data):\n",
    "    \"\"\"Convert `data` to binary format as string\"\"\"\n",
    "    if isinstance(data, str):\n",
    "        return ''.join([ format(ord(i), \"08b\") for i in data ])\n",
    "    elif isinstance(data, bytes):\n",
    "        return ''.join([ format(i, \"08b\") for i in data ])\n",
    "    elif isinstance(data, np.ndarray):\n",
    "        return [ format(i, \"08b\") for i in data ]\n",
    "    elif isinstance(data, int) or isinstance(data, np.uint8):\n",
    "        return format(data, \"08b\")\n",
    "    else:\n",
    "        raise TypeError(\"Type not supported.\")\n",
    "\n",
    "def to_binary_array(image):\n",
    "    \"\"\"Efficiently converts image pixels to binary representation.\"\"\"\n",
    "\n",
    "    binary_image = np.vectorize(lambda x: format(x, '08b'))(image)  # Vectorized conversion\n",
    "\n",
    "    binary_data = \"\"  # Initialize outside the loop\n",
    "    for row in binary_image:\n",
    "        for pixel in row:\n",
    "            r, g, b = pixel  # Assuming pixel is already a string of 8 bits.\n",
    "            binary_data += r[-1] + g[-1] + b[-1] # Efficient string concatenation\n",
    "    return binary_data"
   ]
  },
  {
   "cell_type": "code",
   "execution_count": 12,
   "id": "d63dfbb0-69b9-4ff1-92c6-9eb0f356e146",
   "metadata": {},
   "outputs": [],
   "source": [
    "def encode(image_name, secret_data):\n",
    "    # read the image\n",
    "    image = cv2.imread(image_name)\n",
    "    # maximum bytes to encode\n",
    "    n_bytes = image.shape[0] * image.shape[1] * 3 // 8\n",
    "    print(\"[*] Maximum bytes to encode:\", n_bytes)\n",
    "    if len(secret_data) > n_bytes:\n",
    "        raise ValueError(\"[!] Insufficient bytes, need bigger image or less data.\")\n",
    "    print(\"[*] Encoding data...\")\n",
    "    # add stopping criteria\n",
    "    secret_data += \"=====\"\n",
    "    data_index = 0\n",
    "    # convert data to binary\n",
    "    binary_secret_data = to_bin(secret_data)\n",
    "    # size of data to hide\n",
    "    data_len = len(binary_secret_data)\n",
    "    for row in image:\n",
    "        for pixel in row:\n",
    "            # convert RGB values to binary format\n",
    "            r, g, b = to_bin(pixel)\n",
    "            # modify the least significant bit only if there is still data to store\n",
    "            if data_index < data_len:\n",
    "                # least significant red pixel bit\n",
    "                pixel[0] = int(r[:-1] + binary_secret_data[data_index], 2)\n",
    "                data_index += 1\n",
    "            if data_index < data_len:\n",
    "                # least significant green pixel bit\n",
    "                pixel[1] = int(g[:-1] + binary_secret_data[data_index], 2)\n",
    "                data_index += 1\n",
    "            if data_index < data_len:\n",
    "                # least significant blue pixel bit\n",
    "                pixel[2] = int(b[:-1] + binary_secret_data[data_index], 2)\n",
    "                data_index += 1\n",
    "            # if data is encoded, just break out of the loop\n",
    "            if data_index >= data_len:\n",
    "                break\n",
    "    return image"
   ]
  },
  {
   "cell_type": "code",
   "execution_count": 13,
   "id": "4ceedd5b-d9e0-4789-ab50-8e0498cbf96a",
   "metadata": {},
   "outputs": [],
   "source": [
    "def decode(image_name):\n",
    "    print(\"[+] Decoding...\")\n",
    "    # read the image\n",
    "    image = cv2.imread(image_name)\n",
    "    # Use vectorization to decodify the Image\n",
    "    binary_data = to_binary_array(image)\n",
    "    # split by 8-bits\n",
    "    print(\"split by 8-bits\")\n",
    "    all_bytes = [ binary_data[i: i+8] for i in range(0, len(binary_data), 8) ]\n",
    "    # convert from bits to characters\n",
    "    decoded_data = \"\"\n",
    "    for byte in all_bytes:\n",
    "        decoded_data += chr(int(byte, 2))\n",
    "        if decoded_data[-5:] == \"=====\":\n",
    "            break\n",
    "    return decoded_data[:-5]"
   ]
  },
  {
   "cell_type": "code",
   "execution_count": 14,
   "id": "bc5567ee-6edc-47d6-afe5-0b3001485780",
   "metadata": {},
   "outputs": [],
   "source": [
    "input_image = \"desk.png\""
   ]
  },
  {
   "cell_type": "code",
   "execution_count": 21,
   "id": "72c1125f-1579-4295-877a-b0e95d12788f",
   "metadata": {},
   "outputs": [
    {
     "name": "stdout",
     "output_type": "stream",
     "text": [
      "Total pixels: 1917100\n"
     ]
    }
   ],
   "source": [
    "image = cv2.imread(input_image)\n",
    "height, width, channels = image.shape  # Get image dimensions\n",
    "total_pixels = height * width\n",
    "print(f\"Total pixels: {total_pixels}\")"
   ]
  },
  {
   "cell_type": "code",
   "execution_count": 22,
   "id": "82d28a36-ab3f-49aa-9996-173823e17318",
   "metadata": {},
   "outputs": [
    {
     "data": {
      "text/plain": [
       "(1009, 1900, 3)"
      ]
     },
     "execution_count": 22,
     "metadata": {},
     "output_type": "execute_result"
    }
   ],
   "source": [
    "image.shape "
   ]
  },
  {
   "cell_type": "code",
   "execution_count": 23,
   "id": "b37c3f32-0615-4379-8721-8bfe0c1e413a",
   "metadata": {},
   "outputs": [
    {
     "name": "stdout",
     "output_type": "stream",
     "text": [
      "[*] Maximum bytes to encode: 718912\n",
      "[*] Encoding data...\n"
     ]
    },
    {
     "data": {
      "text/plain": [
       "True"
      ]
     },
     "execution_count": 23,
     "metadata": {},
     "output_type": "execute_result"
    }
   ],
   "source": [
    "input_image = \"desk.png\"\n",
    "output_image = \"desk_encoded.png\"\n",
    "secret_data = \"This is a top secret message.\"\n",
    "# encode the data into the image\n",
    "encoded_image = encode(image_name=input_image, secret_data=secret_data)\n",
    "# save the output image (encoded image)\n",
    "cv2.imwrite(output_image, encoded_image)\n"
   ]
  },
  {
   "cell_type": "code",
   "execution_count": 24,
   "id": "b6584d8f-baab-4706-ba9b-8dbc93cddd78",
   "metadata": {},
   "outputs": [
    {
     "name": "stdout",
     "output_type": "stream",
     "text": [
      "[+] Decoding...\n",
      "split by 8-bits\n",
      "[+] Decoded data: This is a top secret message.\n"
     ]
    }
   ],
   "source": [
    "# decode the secret data from the image\n",
    "decoded_data = decode(output_image)\n",
    "print(\"[+] Decoded data:\", decoded_data)"
   ]
  },
  {
   "cell_type": "markdown",
   "id": "913171fd-4d07-42ee-8aee-9b46c7942ed0",
   "metadata": {},
   "source": [
    "# Encoding Files"
   ]
  },
  {
   "cell_type": "code",
   "execution_count": 14,
   "id": "957da75c-bc90-4144-9127-d0dc33042730",
   "metadata": {},
   "outputs": [],
   "source": [
    "import cv2\n",
    "import numpy as np\n",
    "\n",
    "def encode(image_name, secret_data, n_bits=2):\n",
    "    image = cv2.imread(image_name).astype(np.uint8)\n",
    "    n_bytes = image.shape[0] * image.shape[1] * 3 * n_bits // 8\n",
    "\n",
    "    if isinstance(secret_data, str):\n",
    "        secret_data += \"=====\"\n",
    "        binary_secret_data = ''.join(format(ord(char), '08b') for char in secret_data)\n",
    "    elif isinstance(secret_data, bytes):\n",
    "        secret_data += b\"=====\"\n",
    "        binary_secret_data = ''.join(format(byte, '08b') for byte in secret_data)  # Corrected variable name here\n",
    "    else:\n",
    "        raise TypeError(\"Secret data must be a string or bytes.\")\n",
    "\n",
    "    data_len = len(binary_secret_data)\n",
    "    if data_len > n_bytes * 8:\n",
    "        raise ValueError(f\"[!] Insufficient bytes ({data_len // 8}), need bigger image or less data.\")\n",
    "\n",
    "    print(f\"[*] Maximum bits to encode: {n_bytes * 8}\")\n",
    "    print(f\"[*] Data size (bits): {data_len}\")\n",
    "    print(\"[*] Encoding data...\")\n",
    "\n",
    "    # Calculate padding needed\n",
    "    padding_needed = (n_bytes * 8 - data_len % (n_bytes * 8)) % (n_bytes * 8)\n",
    "    binary_secret_data += '0' * padding_needed\n",
    "    data_len = len(binary_secret_data)\n",
    "\n",
    "    data_index = 0\n",
    "    for bit in range(1, n_bits + 1):\n",
    "        for c in range(3):\n",
    "            channel = image[:, :, c]\n",
    "            mask = 1 << (bit - 1)\n",
    "            lsb_mask = ~mask\n",
    "\n",
    "            bits_to_embed_count = min(channel.size, data_len - data_index)\n",
    "\n",
    "            # Create bits to embed, padding with zeros if necessary\n",
    "            bits_to_embed = np.array([int(binary_secret_data[i]) for i in range(data_index, data_index + bits_to_embed_count)])\n",
    "\n",
    "            # Correctly reshape bits_to_embed\n",
    "            bits_to_embed = np.pad(bits_to_embed, (0, channel.size - bits_to_embed_count), 'constant').reshape(channel.shape)\n",
    "\n",
    "            channel[:] = (channel & lsb_mask) | (bits_to_embed << (bit - 1))\n",
    "            data_index += bits_to_embed_count\n",
    "\n",
    "            if data_index >= data_len:\n",
    "                break\n",
    "        if data_index >= data_len:\n",
    "            break\n",
    "\n",
    "    return image\n",
    "\n",
    "\n",
    "def decode(image_name, n_bits=1, in_bytes=False):\n",
    "    print(\"[+] Decoding...\")\n",
    "    image = cv2.imread(image_name).astype(np.uint8)\n",
    "    binary_data = \"\"\n",
    "\n",
    "    for bit in range(1, n_bits + 1):\n",
    "        for c in range(3):\n",
    "            channel = image[:, :, c]\n",
    "            extracted_bits = (channel >> (bit - 1)) & 1\n",
    "            binary_data += \"\".join(extracted_bits.flatten().astype(str))\n",
    "\n",
    "    all_bytes = [binary_data[i:i + 8] for i in range(0, len(binary_data), 8)]\n",
    "\n",
    "    if in_bytes:\n",
    "        decoded_data = bytearray()\n",
    "        for byte in all_bytes:\n",
    "            decoded_data.append(int(byte, 2))\n",
    "            if decoded_data[-5:] == b\"=====\":\n",
    "                break\n",
    "    else:\n",
    "        decoded_data = \"\"\n",
    "        for byte in all_bytes:\n",
    "            decoded_data += chr(int(byte, 2))\n",
    "            if decoded_data[-5:] == \"=====\":\n",
    "                break\n",
    "    return decoded_data[:-5]"
   ]
  },
  {
   "cell_type": "code",
   "execution_count": 15,
   "id": "b4bf651c-21c7-4c5c-a0be-386720fd3bbe",
   "metadata": {},
   "outputs": [],
   "source": [
    "with open(\"sample.pdf\", \"rb\") as f:\n",
    "    secret_data = f.read()"
   ]
  },
  {
   "cell_type": "code",
   "execution_count": 16,
   "id": "3c58ebac-fc63-48e5-b0e4-9911e977186a",
   "metadata": {},
   "outputs": [
    {
     "data": {
      "text/plain": [
       "b'%PDF-1.7\\r\\n%\\xb5\\xb5\\xb5\\xb5\\r\\n1 0'"
      ]
     },
     "execution_count": 16,
     "metadata": {},
     "output_type": "execute_result"
    }
   ],
   "source": [
    "secret_data[:20]"
   ]
  },
  {
   "cell_type": "code",
   "execution_count": 17,
   "id": "57fdf209-1c2d-4aec-a6da-62c0381ea84a",
   "metadata": {},
   "outputs": [],
   "source": [
    "output_image =\"desk1_with_file.png\"\n",
    "input_image = \"desk1.png\""
   ]
  },
  {
   "cell_type": "code",
   "execution_count": 18,
   "id": "ce2c16f8-8e79-420a-8c49-e95cd51b4ce3",
   "metadata": {},
   "outputs": [
    {
     "name": "stdout",
     "output_type": "stream",
     "text": [
      "[*] Maximum bits to encode: 11282688\n",
      "[*] Data size (bits): 489272\n",
      "[*] Encoding data...\n",
      "[+] Saved encoded image.\n"
     ]
    }
   ],
   "source": [
    "encoded_image = encode(image_name=input_image, secret_data=secret_data, n_bits=2)\n",
    "cv2.imwrite(output_image, encoded_image)\n",
    "print(\"[+] Saved encoded image.\")"
   ]
  },
  {
   "cell_type": "code",
   "execution_count": 19,
   "id": "69087713-a6b8-4c98-9641-efe5189b62aa",
   "metadata": {},
   "outputs": [
    {
     "name": "stdout",
     "output_type": "stream",
     "text": [
      "[+] Decoding...\n"
     ]
    }
   ],
   "source": [
    "pdf = decode(output_image, n_bits=2,in_bytes=True)"
   ]
  },
  {
   "cell_type": "code",
   "execution_count": 20,
   "id": "6b03bf5a-26d3-401b-8c91-ca001f86a539",
   "metadata": {},
   "outputs": [
    {
     "data": {
      "text/plain": [
       "bytearray(b'%PDF-1.7\\r\\n%\\xb5\\xb5\\xb5\\xb5\\r\\n1 0')"
      ]
     },
     "execution_count": 20,
     "metadata": {},
     "output_type": "execute_result"
    }
   ],
   "source": [
    "pdf[:20]"
   ]
  },
  {
   "cell_type": "code",
   "execution_count": 21,
   "id": "c06baeeb-24ad-403c-b210-736d4bf0ebc8",
   "metadata": {},
   "outputs": [],
   "source": [
    "with open(\"pdf_decode.pdf\", \"wb\") as f:\n",
    "    f.write(pdf)"
   ]
  },
  {
   "cell_type": "code",
   "execution_count": null,
   "id": "730161ed-7954-4c30-9d27-9d08bcb658d1",
   "metadata": {},
   "outputs": [],
   "source": []
  }
 ],
 "metadata": {
  "kernelspec": {
   "display_name": "Python (google)",
   "language": "python",
   "name": "google"
  },
  "language_info": {
   "codemirror_mode": {
    "name": "ipython",
    "version": 3
   },
   "file_extension": ".py",
   "mimetype": "text/x-python",
   "name": "python",
   "nbconvert_exporter": "python",
   "pygments_lexer": "ipython3",
   "version": "3.11.9"
  }
 },
 "nbformat": 4,
 "nbformat_minor": 5
}
