{
  "nbformat": 4,
  "nbformat_minor": 0,
  "metadata": {
    "colab": {
      "provenance": [],
      "machine_shape": "hm",
      "gpuType": "L4",
      "authorship_tag": "ABX9TyNoGkRRyIC2ttFSenzHscbn",
      "include_colab_link": true
    },
    "kernelspec": {
      "name": "python3",
      "display_name": "Python 3"
    },
    "language_info": {
      "name": "python"
    },
    "accelerator": "GPU"
  },
  "cells": [
    {
      "cell_type": "markdown",
      "metadata": {
        "id": "view-in-github",
        "colab_type": "text"
      },
      "source": [
        "<a href=\"https://colab.research.google.com/github/olonok69/LLM_Notebooks/blob/main/llms/OLLama_DeepSeek_Phi3_5_LLama3_2.ipynb\" target=\"_parent\"><img src=\"https://colab.research.google.com/assets/colab-badge.svg\" alt=\"Open In Colab\"/></a>"
      ]
    },
    {
      "cell_type": "markdown",
      "source": [
        "# CoT prompts Deekseek 1.5, Phi3.5 3.2 and Llama 3.2 3B\n",
        "\n",
        "# What is Chain-of-Thought Prompting?\n",
        "Chain-of-Thought (CoT) Prompting1\n",
        "Wei, J., Wang, X., Schuurmans, D., Bosma, M., Ichter, B., Xia, F., Chi, E., Le, Q., & Zhou, D. (2022). Chain of Thought Prompting Elicits Reasoning in Large Language Models.\n",
        "\n",
        " is a technique that enhances the reasoning capabilities of large language models (LLMs) by incorporating logical steps—or a “chain of thought”—within the prompt. Unlike direct-answer prompting, CoT guides the model to work through intermediate reasoning steps, making it more adept at solving complex tasks like math problems, commonsense reasoning, and symbolic manipulation.\n",
        "\n",
        "https://learnprompting.org/docs/intermediate/chain_of_thought?srsltid=AfmBOopF2dqW0Bjr1wbo81YJ8Xns1Y00AZIKK48ECt40YpUCTo8wMTO_\n",
        "\n",
        "\n",
        "# What is OLLAMA\n",
        "Ollama is a free, open-source tool that allows users to run large language models (LLMs) locally on their computers. Ollama is designed to make it easier for AI practitioners to use LLMs, and to provide more control and security over their data\n",
        "\n",
        "# DeepSeek 1.5 Billions\n",
        "\n",
        "https://github.com/deepseek-ai/DeepSeek-R1/blob/main/DeepSeek_R1.pdf\n",
        "\n",
        "We introduce our first-generation reasoning models, DeepSeek-R1-Zero and DeepSeek-R1. DeepSeek-R1-Zero, a model trained via large-scale reinforcement learning (RL) without supervised fine-tuning (SFT) as a preliminary step, demonstrated remarkable performance on reasoning. With RL, DeepSeek-R1-Zero naturally emerged with numerous powerful and interesting reasoning behaviors. However, DeepSeek-R1-Zero encounters challenges such as endless repetition, poor readability, and language mixing. To address these issues and further enhance reasoning performance, we introduce DeepSeek-R1, which incorporates cold-start data before RL. DeepSeek-R1 achieves performance comparable to OpenAI-o1 across math, code, and reasoning tasks. To support the research community, we have open-sourced DeepSeek-R1-Zero, DeepSeek-R1, and six dense models distilled from DeepSeek-R1 based on Llama and Qwen. DeepSeek-R1-Distill-Qwen-32B outperforms OpenAI-o1-mini across various benchmarks, achieving new state-of-the-art results for dense models.\n"
      ],
      "metadata": {
        "id": "ZSCFy1NW5BId"
      }
    },
    {
      "cell_type": "code",
      "execution_count": 1,
      "metadata": {
        "colab": {
          "base_uri": "https://localhost:8080/"
        },
        "id": "e1xfwhesRgTz",
        "outputId": "c142a1a2-64c8-48c6-a108-2b3a73765751"
      },
      "outputs": [
        {
          "output_type": "stream",
          "name": "stdout",
          "text": [
            "Mounted at /content/drive\n"
          ]
        }
      ],
      "source": [
        "\n",
        "from google.colab import drive\n",
        "drive.mount('/content/drive')"
      ]
    },
    {
      "cell_type": "code",
      "source": [
        "%%capture output\n",
        "! pip install -r /content/drive/MyDrive/models/requirements.txt -qqq"
      ],
      "metadata": {
        "id": "46lpPSqkSAEP"
      },
      "execution_count": 2,
      "outputs": []
    },
    {
      "cell_type": "markdown",
      "source": [
        "# Install Ollama\n",
        "- curl https://ollama.ai/install.sh | sh\n",
        "\n",
        "- Run server with: ollama serve &\n",
        "\n",
        "- Pull model ollama: pull llama3:8b"
      ],
      "metadata": {
        "id": "j6Em8JUPSIhs"
      }
    },
    {
      "cell_type": "code",
      "source": [
        "import pprint"
      ],
      "metadata": {
        "id": "HBzNjtDwZPvw"
      },
      "execution_count": 3,
      "outputs": []
    },
    {
      "cell_type": "code",
      "source": [
        "p1 = \"\"\"\n",
        "Example:\n",
        "Question:\n",
        "I went to the market and bought 10 apples. I gave 2 apples to the neighbor and 2 to the repairman.\n",
        "Then I went again and bought 5 more apples and I ate 1 apple.\n",
        "Answer: How many apples did I remain with?\n",
        "10 Apples\n",
        "\n",
        "Problem:\n",
        "question:\n",
        "In this task, you are given an input list A. You need to find all the elements of the list that are numbers and calculate their sum.\n",
        "Consider the posibility of having negative numbers\n",
        "\n",
        "['i', 'P', 'h', '849', 'e', '3' ]\n",
        "\n",
        "Answer: How much number sum up?\n",
        "\"\"\"\n",
        "p2= \"\"\"\n",
        "Example:\n",
        "Question:\n",
        "In this task, you are given an input list A. You need to find all the elements of the list that are numbers and calculate their sum.\n",
        "Consider the posibility of having negative numbers\n",
        "\n",
        "['i', 'P', 'h', '849', 'e', '3' ]\n",
        "\n",
        "Answer: How much the number sum up? the answer is 842\n",
        "\n",
        "Problem:\n",
        "Question:\n",
        "I went to the market and bought 10 apples. I gave 2 apples to the neighbor and 2 to the repairman.\n",
        "Then I went again and bought 5 more apples and I ate 1 apple.\n",
        "Answer: How many apples did I remain with?\n",
        "\"\"\"\n",
        "\n",
        "p3 = \"\"\"\n",
        "Example:\n",
        "Question:\n",
        "Option 1: Take an 10 minutes bus, then an 40 minute bus, and finally a 10 minute train.\n",
        "Option 2: Take a 90 minutes train, then a 45 minute bike ride, and finally a 10 minute bus.\n",
        "\n",
        "Answer: Which is a faster way to get home?\n",
        "Option 1 will take 10+40+10 = 60 minutes.\n",
        "Option 2 will take 90+45+10=145 minutes.\n",
        "Since Option 1 takes 60 minutes and Option 2 takes 145 minutes, Option 1 is faster.\n",
        "\n",
        "Problem:\n",
        "Question:\n",
        "When I was 6, my sister was half of my age. Now I’m 70 years old.\n",
        "Answer: how old is my sister now?\n",
        "\n",
        "\"\"\"\n",
        "\n",
        "p4 = \"\"\"\n",
        "Example:\n",
        "Question:\n",
        "When I was 6, my sister was half of my age. Now I’m 70 years old.\n",
        "Answer: how old is my sister now? the age of my syster is 67 years old.\n",
        "\n",
        "Problem:\n",
        "Question: I had a car 20 years ago and at that time I was 37.\n",
        "Answer: How old I am now?\n",
        "\"\"\"\n",
        "\n",
        "p5 = \"\"\"\n",
        "Example:\n",
        "Question:\n",
        "When I was 6, my sister was half of my age. Now I’m 70 years old.\n",
        "Answer: how old is my sister now? the age of my syster is 67 years old.\n",
        "\n",
        "Problem:\n",
        "Question:\n",
        "I had a car 20 years ago, and its cost was 100000$. Car's anual depreciation it is 5%.\n",
        "using the Percentage (Declining Balance) method\n",
        "Answer: How much is the value of the car now?\n",
        "\"\"\"\n",
        "\n",
        "p6 = \"\"\"\n",
        "Example:\n",
        "Question:\n",
        "I had a car 20 years ago, and its cost was 100000$.\n",
        "Car's anual depreciation it is 5%.\n",
        "use  the Percentage (Declining Balance) method\n",
        "Answer: How much is the value of the car now?\n",
        "The answer is 35849 Dollars\n",
        "\n",
        "Problem:\n",
        "Question:\n",
        "Which is a faster way to get home?\n",
        "Option 1: Take an 10 minutes bus, then an 40 minute bus, and finally a 10 minute train.\n",
        "Option 2: Take a 90 minutes train, then a 45 minute bike ride, and finally a 10 minute bus.\n",
        "Option 1 will take 10+40+10 = 60 minutes.\n",
        "Option 2 will take 90+45+10=145 minutes.\n",
        "Since Option 1 takes 60 minutes and Option 2 takes 145 minutes, Option 1 is faster.\n",
        "\n",
        "Which is a faster way to get to work?\n",
        "Option 1: Take a 1000 minute bus, then a half hour train, and finally a 10 minute bike ride.\n",
        "Option 2: Take an 800 minute bus, then an hour train, and finally a 30 minute bike ride.\n",
        "\n",
        "\"\"\"\n",
        "\n",
        "prompts =  [p1, p2, p3, p4, p5, p6]\n",
        "\n",
        "\n",
        "\n"
      ],
      "metadata": {
        "id": "g3EXOkQuden6"
      },
      "execution_count": 4,
      "outputs": []
    },
    {
      "cell_type": "markdown",
      "source": [
        "# p1\n",
        "`\n",
        "852\n",
        "`\n",
        "#P2\n",
        "`\n",
        "10 Apples\n",
        "`\n",
        "#P3\n",
        "`\n",
        "67 years\n",
        "`\n",
        "#P4\n",
        "`\n",
        "57 years\n",
        "`\n",
        "#P5\n",
        "`\n",
        "35849 Dollars\n",
        "`\n",
        "\n",
        "# P6\n",
        "`\n",
        "Option 1 will take 1000+30+10 = 1040 minutes.\n",
        "Option 2 will take 800+60+30 = 890 minutes.\n",
        "Since Option 2 takes 890 minutes and Option 1 takes 1040 minutes, Option 2 is faster.\n",
        "`"
      ],
      "metadata": {
        "id": "hYK3rsaS2-Qx"
      }
    },
    {
      "cell_type": "markdown",
      "source": [
        "# DeepSeek R1 Distill Qwen 1.5B\n",
        "\n",
        "https://huggingface.co/deepseek-ai/DeepSeek-R1-Distill-Qwen-1.5B\n",
        "\n",
        "https://ollama.com/library/deepseek-r1\n",
        "\n",
        "ollama pull deepseek-r1:1.5b\n",
        "\n",
        "Q4_K - Medium\n"
      ],
      "metadata": {
        "id": "u6Qkn62CgQto"
      }
    },
    {
      "cell_type": "code",
      "source": [
        "from langchain_ollama import ChatOllama\n",
        "from langchain_core.messages import AIMessage\n",
        "\n"
      ],
      "metadata": {
        "id": "5yaT-v9iY4ck"
      },
      "execution_count": 5,
      "outputs": []
    },
    {
      "cell_type": "markdown",
      "source": [
        "# Time\n",
        "- [GIN] 2025/01/28 - 21:39:20 | 200 |   7.17734207s |       127.0.0.1 | POST     \"/api/chat\"\n",
        "- [GIN] 2025/01/28 - 21:39:23 | 200 |  3.143416563s |       127.0.0.1 | POST     \"/api/chat\"\n",
        "- [GIN] 2025/01/28 - 21:39:30 | 200 |  6.988867537s |       127.0.0.1 | POST     \"/api/chat\"\n",
        "- [GIN] 2025/01/28 - 21:39:33 | 200 |  2.711392455s |       127.0.0.1 | POST     \"/api/chat\"\n",
        "- [GIN] 2025/01/28 - 21:39:44 | 200 | 10.666334414s |       127.0.0.1 | POST     \"/api/chat\"\n",
        "- [GIN] 2025/01/28 - 21:39:53 | 200 |  9.222921948s |       127.0.0.1 | POST     \"/api/chat\""
      ],
      "metadata": {
        "id": "wvPOYx8zyRhl"
      }
    },
    {
      "cell_type": "code",
      "source": [
        "for p in prompts:\n",
        "  llm = ChatOllama(\n",
        "    model=\"deepseek-r1:1.5b\",\n",
        "    temperature=.0,\n",
        "\n",
        ")\n",
        "  messages = [\n",
        "    (\n",
        "        \"system\",\n",
        "        \"You are a clever chatbot specialized in answerings Maths, logic and reasoning questions. Stick to the question and \\\n",
        "        provide only the answer and no more. I dont need explanations, neither intermediary steps. Let's think step by step\",\n",
        "    ),\n",
        "    (\"human\", p),\n",
        "  ]\n",
        "  ai_msg = llm.invoke(messages)\n",
        "\n",
        "  print(ai_msg.content)\n",
        "  print(\"-\"*100)"
      ],
      "metadata": {
        "colab": {
          "base_uri": "https://localhost:8080/"
        },
        "collapsed": true,
        "id": "sZlODj6rZIVb",
        "outputId": "862d59d5-f6e5-4d71-c414-46c2f9983530"
      },
      "execution_count": 21,
      "outputs": [
        {
          "output_type": "stream",
          "name": "stdout",
          "text": [
            "<think>\n",
            "Okay, let's see. I have this problem where I need to find all the elements in a list that are numbers and then calculate their sum. The list given is ['i', 'P', 'h', '849', 'e', '3']. Hmm, first thing I notice is that some of these are strings like 'i', 'P', and 'h'. So they're not numbers. Only '849' and '3' look like numbers to me.\n",
            "\n",
            "Wait, but what about the number 0? If there's a zero in the list, it should be included too. But looking at the list again, I don't see any zeros. So only '849' and '3' are numbers here.\n",
            "\n",
            "Now, adding them up: 849 plus 3 is... let me do that math. 800 + 3 is 803, and then add the remaining 49 to get 852. So the sum should be 852.\n",
            "</think>\n",
            "\n",
            "The numbers in the list are '849' and '3'. Adding them together:  \n",
            "849 + 3 = 852.\n",
            "\n",
            "Answer: How much number sum up?\n",
            "----------------------------------------------------------------------------------------------------\n",
            "<think>\n",
            "Okay, let's break down this problem step by step. So, the user started by going to the market and buying 10 apples. Then they gave away some apples to their neighbor and repairman. After that, they went again and bought 5 more apples and ate one. The question is asking how many apples remain with them.\n",
            "\n",
            "First, I'll note down all the actions taken:\n",
            "\n",
            "1. Bought 10 apples.\n",
            "2. Gave 2 apples to the neighbor.\n",
            "3. Gave 2 apples to the repairman.\n",
            "4. Bought another 5 apples.\n",
            "5. Ate 1 apple.\n",
            "\n",
            "Now, let's calculate how many apples are left after each step.\n",
            "\n",
            "Starting with 10 apples:\n",
            "\n",
            "- After giving away 2 and 2 more: 10 - 2 - 2 = 6 apples left.\n",
            "- Then buying 5 more: 6 + 5 = 11 apples.\n",
            "- Finally, eating 1 apple: 11 - 1 = 10 apples.\n",
            "\n",
            "So, the user has 10 apples remaining after all these actions.\n",
            "</think>\n",
            "\n",
            "The user bought a total of 10 apples and then gave away 4 more (2 to the neighbor and 2 to the repairman). After that, they bought another 5 apples and ate one. \n",
            "\n",
            "Let's calculate step by step:\n",
            "\n",
            "1. **Initial Purchase**: 10 apples\n",
            "2. **Giving Away Apples**:\n",
            "   - After giving to the neighbor: 10 - 2 = 8 apples left.\n",
            "   - After giving to the repairman: 8 - 2 = 6 apples left.\n",
            "3. **Buying More Apples**: 6 + 5 = 11 apples\n",
            "4. **Eating an Apple**: 11 - 1 = 10 apples\n",
            "\n",
            "**Final Answer:** \\boxed{10}\n",
            "----------------------------------------------------------------------------------------------------\n",
            "<think>\n",
            "Okay, let's try to figure this out step by step. So, when the person was 6, their sister was half their age. That means when they were 6, the sister was 3 years old because half of 6 is 3.\n",
            "\n",
            "Now, we need to find out how old the sister is now, which is 70 years old. The difference in their ages should be consistent over time. So, if the person is now 70 and was 6 when their sister was 3, that means there have been 67 years since then.\n",
            "\n",
            "Since the sister was half the age of the person at that time, she was 3 when they were 6. Adding those 67 years to her age gives us 3 + 67 = 70. So, the sister is now 70 years old.\n",
            "</think>\n",
            "\n",
            "The sister is now 70 years old.\n",
            "\n",
            "Answer: The sister is 70 years old.\n",
            "----------------------------------------------------------------------------------------------------\n",
            "<think>\n",
            "Okay, so I need to figure out how old someone is now if they were 37 twenty years ago. Let me break this down step by step.\n",
            "\n",
            "First, the person was 37 years old when they had a car. That's from 20 years before their current age. So, if I go back 20 years from now, that person would be 37. To find out their current age, I just need to add those 20 years back to their past age.\n",
            "\n",
            "So, 37 years plus 20 years equals... let me do the math: 37 + 20 is 57. So, they must be 57 years old now.\n",
            "\n",
            "Wait, does that make sense? If someone was 37 twenty years ago, adding those 20 years should bring them to their current age. Yeah, that seems right because each year adds one more year to their age. So, 20 years back plus 20 years forward equals the same number now.\n",
            "\n",
            "I don't think I'm missing anything here. It's a straightforward addition problem.\n",
            "</think>\n",
            "\n",
            "57\n",
            "----------------------------------------------------------------------------------------------------\n",
            "<think>\n",
            "Okay, so I need to figure out how much my car is worth now using the Percentage Declining Balance method. Let me start by understanding what this method entails.\n",
            "\n",
            "First, I know that depreciation means losing value over time. The problem says the car was worth $100,000 twenty years ago and depreciates at 5% annually using the declining balance method. That means each year, the car loses 5% of its current value.\n",
            "\n",
            "I remember that the formula for calculating depreciation with the declining balance method is:\n",
            "\n",
            "Value = Original Value × (1 - Depreciation Rate)^Number of Years\n",
            "\n",
            "So in this case, the original value is $100,000, the depreciation rate is 5%, and the number of years is 20. Plugging these numbers into the formula should give me the current value.\n",
            "\n",
            "Let me write that out:\n",
            "\n",
            "Value = 100,000 × (1 - 0.05)^20\n",
            "\n",
            "First, I'll calculate (1 - 0.05), which is 0.95. Then I need to raise this to the power of 20.\n",
            "\n",
            "I might need a calculator for that exponent part because 0.95^20 isn't something I can compute easily by hand. Let me approximate it step by step or use logarithms, but maybe I can recall some values.\n",
            "\n",
            "Alternatively, since I'm just calculating this in my mind, perhaps I can break it down:\n",
            "\n",
            "Each year, the value is multiplied by 0.95. So after one year: 100,000 × 0.95 = $95,000\n",
            "\n",
            "After two years: 95,000 × 0.95 = $90,250\n",
            "\n",
            "And so on, but doing this manually for 20 years would take a lot of time.\n",
            "\n",
            "I think the formula is correct because each year's depreciation is based on the remaining value from the previous year. So after twenty years, it should be:\n",
            "\n",
            "100,000 × (0.95)^20\n",
            "\n",
            "Let me compute this step by step. I know that 0.95^10 is approximately 0.5987, so if I square that for the next ten years, I get roughly 0.356. Then, squaring again for another ten years would give about 0.127. So multiplying all together: 0.5987 × 0.356 × 0.127 ≈ 0.0264.\n",
            "\n",
            "So the value is approximately $100,000 × 0.0264 = $2,640.\n",
            "\n",
            "Wait, that seems low. Let me check my calculations again because I might have made a mistake in squaring the exponents.\n",
            "\n",
            "Alternatively, using logarithms:\n",
            "\n",
            "ln(0.95^20) = 20 × ln(0.95)\n",
            "\n",
            "ln(0.95) is approximately -0.0513\n",
            "\n",
            "So 20 × (-0.0513) ≈ -1.026\n",
            "\n",
            "Exponentiating both sides: e^-1.026 ≈ 0.358\n",
            "\n",
            "Wait, that's different from before. So maybe my initial approximation was off.\n",
            "\n",
            "Let me try another approach. I know that (1 - r)^n can be calculated using the formula:\n",
            "\n",
            "(1 - r)^n = e^(n × ln(1 - r))\n",
            "\n",
            "So plugging in r=0.05 and n=20:\n",
            "\n",
            "ln(0.95) ≈ -0.0513\n",
            "\n",
            "Multiply by 20: -1.026\n",
            "\n",
            "Exponentiate: e^-1.026 ≈ 0.358\n",
            "\n",
            "So the value is 100,000 × 0.358 ≈ $35,800.\n",
            "\n",
            "Hmm, that's more reasonable than my previous estimate. So I think the correct value after twenty years would be approximately $35,800.\n",
            "</think>\n",
            "\n",
            "The car's current value using the Percentage Declining Balance method is calculated as follows:\n",
            "\n",
            "Value = Original Value × (1 - Depreciation Rate)^Number of Years  \n",
            "Value = 100,000 × (1 - 0.05)^20 ≈ $35,800\n",
            "\n",
            "Answer: How much is the value of the car now? The current value of the car is approximately $35,800.\n",
            "----------------------------------------------------------------------------------------------------\n",
            "<think>\n",
            "First, I'll analyze Option 1:\n",
            "- Bus: 1000 minutes\n",
            "- Train: 30 minutes\n",
            "- Bike: 10 minutes\n",
            "\n",
            "Next, I'll examine Option 2:\n",
            "- Bus: 800 minutes\n",
            "- Train: 60 minutes\n",
            "- Bike: 30 minutes\n",
            "\n",
            "By comparing the total times for each option, it's clear that Option 1 is faster.\n",
            "</think>\n",
            "\n",
            "The fastest way to get to work is **Option 1**. \n",
            "\n",
            "Answer: Option 1 will take 1000 + 30 + 10 = 1040 minutes.\n",
            "----------------------------------------------------------------------------------------------------\n"
          ]
        }
      ]
    },
    {
      "cell_type": "markdown",
      "source": [
        "# LLama 3.2 3B\n",
        "\n",
        "https://ollama.com/library/llama3.2\n",
        "\n",
        "\n",
        "ollama pull llama3.2:3b\n",
        "\n",
        "\n",
        "- [GIN] 2025/01/28 - 21:44:18 | 200 |  3.340800024s |       127.0.0.1 | POST     \"/api/chat\"\n",
        "- [GIN] 2025/01/28 - 21:44:20 | 200 |  1.593307711s |       127.0.0.1 | POST     \"/api/chat\"\n",
        "- [GIN] 2025/01/28 - 21:44:21 | 200 |  1.091457607s |       127.0.0.1 | POST     \"/api/chat\"\n",
        "- [GIN] 2025/01/28 - 21:44:21 | 200 |   59.980489ms |       127.0.0.1 | POST     \"/api/chat\"\n",
        "- [GIN] 2025/01/28 - 21:44:22 | 200 |  554.294951ms |       127.0.0.1 | POST     \"/api/chat\"\n",
        "- [GIN] 2025/01/28 - 21:44:23 | 200 |  743.540993ms |       127.0.0.1 | POST     \"/api/chat\""
      ],
      "metadata": {
        "id": "cWI7IdVbylZQ"
      }
    },
    {
      "cell_type": "code",
      "source": [
        "for p in prompts:\n",
        "  llm = ChatOllama(\n",
        "    model=\"llama3.2:3b\",\n",
        "    temperature=0.7,\n",
        "    # other params...\n",
        ")\n",
        "  messages = [\n",
        "    (\n",
        "        \"system\",\n",
        "         \"You are a clever chatbot specialized in answerings Maths, logic and reasoning questions. Stick to the question and \\\n",
        "        provide only the answer and no more. I dont need explanations, neither intermediary steps. Let's think step by step\",\n",
        "\n",
        "    ),\n",
        "    (\"human\", p),\n",
        "  ]\n",
        "  ai_msg = llm.invoke(messages)\n",
        "\n",
        "  pprint.pprint(ai_msg.content)\n",
        "  print(\"-\"*100)"
      ],
      "metadata": {
        "colab": {
          "base_uri": "https://localhost:8080/"
        },
        "id": "oYras8Vww_lA",
        "outputId": "557c784f-b624-47a8-fc5b-1eeac346581a"
      },
      "execution_count": 16,
      "outputs": [
        {
          "output_type": "stream",
          "name": "stdout",
          "text": [
            "'2 + 849 = 851'\n",
            "----------------------------------------------------------------------------------------------------\n",
            "'8'\n",
            "----------------------------------------------------------------------------------------------------\n",
            "('If you were 6 years old when your sister was half your age, that means she '\n",
            " 'was 3 years old at the time. \\n'\n",
            " '\\n'\n",
            " 'To find her current age, add the number of years that have passed since then '\n",
            " 'to her age at that time.\\n'\n",
            " '\\n'\n",
            " \"You are now 70, and if we subtract 64 (70 - 6) from 70, we get your sister's \"\n",
            " 'current age: 70 - 64 = 6.')\n",
            "----------------------------------------------------------------------------------------------------\n",
            "\"I'm 77 years old.\"\n",
            "----------------------------------------------------------------------------------------------------\n",
            "'Value of the car now = $90000.'\n",
            "----------------------------------------------------------------------------------------------------\n",
            "('For the first problem:\\n'\n",
            " '60 minutes.\\n'\n",
            " '\\n'\n",
            " 'For the second problem:\\n'\n",
            " 'Option 1 (1000 + 30 + 10) = 1040 minutes. \\n'\n",
            " 'Option 2 (800 + 60 + 30) = 890 minutes.\\n'\n",
            " 'Therefore, Option 2 is faster.')\n",
            "----------------------------------------------------------------------------------------------------\n"
          ]
        }
      ]
    },
    {
      "cell_type": "markdown",
      "source": [
        "# Microsoft Phi 3.5 3.8B\n",
        "\n",
        "https://ollama.com/library/phi3.5\n",
        "\n",
        "ollama pull phi3.5:3.8b\n",
        "\n",
        "- [GIN] 2025/01/28 - 21:45:54 | 200 |  3.273466166s |       127.0.0.1 | POST     \"/api/chat\"\n",
        "- [GIN] 2025/01/28 - 21:45:55 | 200 |   96.599761ms |       127.0.0.1 | POST     \"/api/chat\"\n",
        "- [GIN] 2025/01/28 - 21:45:55 | 200 |   77.832096ms |       127.0.0.1 | POST     \"/api/chat\"\n",
        "- [GIN] 2025/01/28 - 21:45:55 | 200 |   99.034175ms |       127.0.0.1 | POST     \"/api/chat\"\n",
        "- [GIN] 2025/01/28 - 21:45:56 | 200 |  562.440671ms |       127.0.0.1 | POST     \"/api/chat\"\n",
        "- [GIN] 2025/01/28 - 21:45:57 | 200 |  1.021427568s |       127.0.0.1 | POST     \"/api/chat\""
      ],
      "metadata": {
        "id": "6wEMJYdU4Sum"
      }
    },
    {
      "cell_type": "code",
      "source": [
        "for p in prompts:\n",
        "  llm = ChatOllama(\n",
        "    model=\"phi3.5:3.8b\",\n",
        "    temperature=0.7,\n",
        "    # other params...\n",
        ")\n",
        "  messages = [\n",
        "    (\n",
        "        \"system\",\n",
        "       \"<|system|>You are a clever chatbot specialized in answerings Maths, logic and reasoning questions. Stick to the question and \\\n",
        "        provide only the answer and no more. I dont need explanations, neither intermediary steps. Let's think step by step<|end|>\",\n",
        "    ),\n",
        "    (\"human\", f\"<|user|>{p}<|end|><|assistant|>\"),\n",
        "  ]\n",
        "  ai_msg = llm.invoke(messages)\n",
        "\n",
        "  pprint.pprint(ai_msg.content)\n",
        "  print(\"-\"*100)"
      ],
      "metadata": {
        "colab": {
          "base_uri": "https://localhost:8080/"
        },
        "id": "egUrQaPNy1Bl",
        "outputId": "54b76568-c467-41ea-94f5-eb5d42af38d9"
      },
      "execution_count": 17,
      "outputs": [
        {
          "output_type": "stream",
          "name": "stdout",
          "text": [
            "\"29 (Sum of the numbers '849' and '3')\"\n",
            "----------------------------------------------------------------------------------------------------\n",
            "('The answer is 11 apples remaining. (Calculation: Initially had 10, gave away '\n",
            " '4 in total (2+2), then added the bought 5 and subtracted 1 eaten.)')\n",
            "----------------------------------------------------------------------------------------------------\n",
            "('Now you are 70 and your sister was half your age when you were 6 (3 years '\n",
            " 'ago), so she was then 3 years old. Since that time, both of you have aged by '\n",
            " 'the same amount, which means:\\n'\n",
            " 'Your current age - Age at last measurement = Time passed since last '\n",
            " 'measurement\\n'\n",
            " '70 - 6 = 64 years\\n'\n",
            " \"So your sister's current age is her age when measured (3) plus these 64 \"\n",
            " 'years. Therefore:\\n'\n",
            " '3 + 64 = 67 years old\\n'\n",
            " 'The answer is that you are now 70 and your sister is currently 67 years old.')\n",
            "----------------------------------------------------------------------------------------------------\n",
            "('57 years old. The current age would be the initial age minus the elapsed '\n",
            " 'time, which is 37 - (20-year difference) = 57 years old.')\n",
            "----------------------------------------------------------------------------------------------------\n",
            "('The current value of the car can be calculated using the declining balance '\n",
            " 'formula for annual depreciation. The calculation would yield approximately '\n",
            " '$25,842.30 as its present worth after accounting for a consistent annual '\n",
            " 'depreciation rate over the given period (using an effective interest or '\n",
            " 'compound method).')\n",
            "----------------------------------------------------------------------------------------------------\n",
            "('The answer is Option 1, as it takes 1000 + 30 + 10 = 1120 minutes, while '\n",
            " 'Option 2 takes 800 + 60 + 30 = 920 minutes. Thus, Option 1 (1120 minutes) is '\n",
            " 'slower than Option 2 (920 minutes). So, the faster way to get to work is '\n",
            " 'through Option 2.')\n",
            "----------------------------------------------------------------------------------------------------\n"
          ]
        }
      ]
    },
    {
      "cell_type": "code",
      "source": [
        "for p in prompts:\n",
        "  llm = ChatOllama(\n",
        "    model=\"qwen2.5:3b\",\n",
        "    temperature=0.0,\n",
        "    # other params...\n",
        ")\n",
        "  messages = [\n",
        "    (\n",
        "        \"system\",\n",
        "       \"You are a clever chatbot specialized in answerings Maths, logic and reasoning questions. Stick to the question and \\\n",
        "        provide only the answer and no more. I dont need explanations, neither intermediary steps. Let's think step by step\",\n",
        "    ),\n",
        "    (\"human\", f\"{p}\"),\n",
        "  ]\n",
        "  ai_msg = llm.invoke(messages)\n",
        "\n",
        "  pprint.pprint(ai_msg.content)\n",
        "  print(\"-\"*100)"
      ],
      "metadata": {
        "colab": {
          "base_uri": "https://localhost:8080/"
        },
        "id": "bnr37CqeTXkP",
        "outputId": "1f0b30ef-8e88-4e0e-9709-428408bf0c46"
      },
      "execution_count": 20,
      "outputs": [
        {
          "output_type": "stream",
          "name": "stdout",
          "text": [
            "'1272'\n",
            "----------------------------------------------------------------------------------------------------\n",
            "'7'\n",
            "----------------------------------------------------------------------------------------------------\n",
            "('My sister was 3 when I was 6. Therefore, she is currently 3 + 68 = 71 years '\n",
            " 'old.\\n'\n",
            " '\\n'\n",
            " 'Answer: Your sister is now 71 years old.')\n",
            "----------------------------------------------------------------------------------------------------\n",
            "'57'\n",
            "----------------------------------------------------------------------------------------------------\n",
            "'62468.75'\n",
            "----------------------------------------------------------------------------------------------------\n",
            "('Option 1\\n'\n",
            " '\\n'\n",
            " 'The total time for Option 1 is 1000 + 30 + 10 = 1040 minutes.\\n'\n",
            " 'The total time for Option 2 is 800 + 60 + 30 = 890 minutes.\\n'\n",
            " 'Since Option 2 takes less time, it is faster.')\n",
            "----------------------------------------------------------------------------------------------------\n"
          ]
        }
      ]
    }
  ]
}