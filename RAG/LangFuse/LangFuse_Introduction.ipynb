{
  "nbformat": 4,
  "nbformat_minor": 0,
  "metadata": {
    "colab": {
      "provenance": [],
      "mount_file_id": "1kCxEgOhD2LUEw1CjR6T68c7pZN-dFVVK",
      "authorship_tag": "ABX9TyO8CJvec5ik3Ci0zYPcKaTV",
      "include_colab_link": true
    },
    "kernelspec": {
      "name": "python3",
      "display_name": "Python 3"
    },
    "language_info": {
      "name": "python"
    }
  },
  "cells": [
    {
      "cell_type": "markdown",
      "metadata": {
        "id": "view-in-github",
        "colab_type": "text"
      },
      "source": [
        "<a href=\"https://colab.research.google.com/github/olonok69/LLM_Notebooks/blob/main/RAG/LangFuse/LangFuse_Introduction.ipynb\" target=\"_parent\"><img src=\"https://colab.research.google.com/assets/colab-badge.svg\" alt=\"Open In Colab\"/></a>"
      ]
    },
    {
      "cell_type": "markdown",
      "source": [
        "# LangFuse\n",
        "Langfuse is an open-source LLM engineering platform  that helps teams collaboratively debug, analyze, and iterate on their LLM applications. All platform features are natively integrated to accelerate the development workflow.\n",
        "\n",
        "Traces, evals, prompt management and metrics to debug and improve your LLM application.\n",
        "Onboard via https://langfuse.com\n",
        "\n",
        "Langfuse helps you build and improve LLM applications across the entire lifecycle:\n",
        "- Develop: Observability, Langfuse UI & Prompt Management\n",
        "- Monitor: Traces, Analytics, Metrics & Evaluations\n",
        "- Test: Experiments, Releases & Datasets\n",
        "\n",
        "# Links\n",
        "\n",
        "- https://github.com/langfuse/langfuse\n",
        "- https://langfuse.com/docs\n",
        "\n",
        "\n",
        "# Features\n",
        "- Full context: Capture the complete execution flow including API calls, context, prompts, parallelism and more\n",
        "- Conversation/session view: In multi-turn conversations, group interactions into sessions\n",
        "- User tracking: Add your own identifiers to inspect traces from specific users\n",
        "- Cost tracking: Monitor model usage and costs across your application\n",
        "- Quality insights: Collect user feedback and identify low-quality outputs\n",
        "- Low overhead: Designed for production with minimal performance impact\n",
        "- Best-in-class SDKs: We offer best-in-class SDKs for Python, JS/TS for easy integration\n",
        "- Framework support: Integrated with popular frameworks like OpenAI SDK, LangChain, and LlamaIndex\n",
        "- Multi-modal: Support for tracing text, images and other modalities\n",
        "- Open source: Fully open source with public API for custom integrations"
      ],
      "metadata": {
        "id": "gYSI4P7GNDnM"
      }
    },
    {
      "cell_type": "code",
      "execution_count": 1,
      "metadata": {
        "colab": {
          "base_uri": "https://localhost:8080/"
        },
        "id": "-6N_vhgCM2xI",
        "outputId": "d29da877-d60b-49ee-e297-2e5b7814dcfb"
      },
      "outputs": [
        {
          "output_type": "stream",
          "name": "stdout",
          "text": [
            "\u001b[?25l   \u001b[90m━━━━━━━━━━━━━━━━━━━━━━━━━━━━━━━━━━━━━━━━\u001b[0m \u001b[32m0.0/249.2 kB\u001b[0m \u001b[31m?\u001b[0m eta \u001b[36m-:--:--\u001b[0m\r\u001b[2K   \u001b[90m━━━━━━━━━━━━━━━━━━━━━━━━━━━━━━━━━━━━━━━━\u001b[0m \u001b[32m249.2/249.2 kB\u001b[0m \u001b[31m14.0 MB/s\u001b[0m eta \u001b[36m0:00:00\u001b[0m\n",
            "\u001b[?25h\u001b[?25l   \u001b[90m━━━━━━━━━━━━━━━━━━━━━━━━━━━━━━━━━━━━━━━━\u001b[0m \u001b[32m0.0/50.6 kB\u001b[0m \u001b[31m?\u001b[0m eta \u001b[36m-:--:--\u001b[0m\r\u001b[2K   \u001b[90m━━━━━━━━━━━━━━━━━━━━━━━━━━━━━━━━━━━━━━━━\u001b[0m \u001b[32m50.6/50.6 kB\u001b[0m \u001b[31m3.6 MB/s\u001b[0m eta \u001b[36m0:00:00\u001b[0m\n",
            "\u001b[?25h\u001b[?25l   \u001b[90m━━━━━━━━━━━━━━━━━━━━━━━━━━━━━━━━━━━━━━━━\u001b[0m \u001b[32m0.0/90.4 kB\u001b[0m \u001b[31m?\u001b[0m eta \u001b[36m-:--:--\u001b[0m\r\u001b[2K   \u001b[90m━━━━━━━━━━━━━━━━━━━━━━━━━━━━━━━━━━━━━━━━\u001b[0m \u001b[32m90.4/90.4 kB\u001b[0m \u001b[31m5.3 MB/s\u001b[0m eta \u001b[36m0:00:00\u001b[0m\n",
            "\u001b[?25h\u001b[?25l   \u001b[90m━━━━━━━━━━━━━━━━━━━━━━━━━━━━━━━━━━━━━━━━\u001b[0m \u001b[32m0.0/409.5 kB\u001b[0m \u001b[31m?\u001b[0m eta \u001b[36m-:--:--\u001b[0m\r\u001b[2K   \u001b[90m━━━━━━━━━━━━━━━━━━━━━━━━━━━━━━━━━━━━━━━━\u001b[0m \u001b[32m409.5/409.5 kB\u001b[0m \u001b[31m25.3 MB/s\u001b[0m eta \u001b[36m0:00:00\u001b[0m\n",
            "\u001b[?25h\u001b[?25l   \u001b[90m━━━━━━━━━━━━━━━━━━━━━━━━━━━━━━━━━━━━━━━━\u001b[0m \u001b[32m0.0/1.2 MB\u001b[0m \u001b[31m?\u001b[0m eta \u001b[36m-:--:--\u001b[0m\r\u001b[2K   \u001b[90m━━━━━━━━━━━━━━━━━━━━━━━━━━━━━━━━━━━━━━━━\u001b[0m \u001b[32m1.2/1.2 MB\u001b[0m \u001b[31m45.3 MB/s\u001b[0m eta \u001b[36m0:00:00\u001b[0m\n",
            "\u001b[?25h\u001b[31mERROR: pip's dependency resolver does not currently take into account all the packages that are installed. This behaviour is the source of the following dependency conflicts.\n",
            "jupyter-server 1.24.0 requires anyio<4,>=3.1.0, but you have anyio 4.6.2.post1 which is incompatible.\u001b[0m\u001b[31m\n",
            "\u001b[0m"
          ]
        }
      ],
      "source": [
        "%pip install langfuse langchain langchain_openai -q"
      ]
    },
    {
      "cell_type": "code",
      "source": [
        "import os\n",
        "from urllib.request import urlretrieve\n",
        "from urllib.error import URLError\n",
        "\n",
        "REPO_URL = \"https://github.com/langfuse/langfuse-python\"\n",
        "download_path = \"static\"\n",
        "os.makedirs(download_path, exist_ok=True)\n",
        "\n",
        "test_files = [\"puton.jpg\", \"joke_prompt.wav\", \"bitcoin.pdf\"]\n",
        "raw_url = f\"{REPO_URL}/raw/main/{download_path}\"\n",
        "\n",
        "for file in test_files:\n",
        "   try:\n",
        "       urlretrieve(f\"{raw_url}/{file}\", f\"{download_path}/{file}\")\n",
        "       print(f\"Successfully downloaded: {file}\")\n",
        "   except URLError as e:\n",
        "       print(f\"Failed to download {file}: {e}\")\n",
        "   except OSError as e:\n",
        "       print(f\"Failed to save {file}: {e}\")"
      ],
      "metadata": {
        "colab": {
          "base_uri": "https://localhost:8080/"
        },
        "id": "YXBBLY3OOShh",
        "outputId": "0831c590-ee7e-4b6f-b0c2-f8b84a6ceb7e"
      },
      "execution_count": 2,
      "outputs": [
        {
          "output_type": "stream",
          "name": "stdout",
          "text": [
            "Successfully downloaded: puton.jpg\n",
            "Successfully downloaded: joke_prompt.wav\n",
            "Successfully downloaded: bitcoin.pdf\n"
          ]
        }
      ]
    },
    {
      "cell_type": "code",
      "source": [
        "from google.colab import userdata\n",
        "# userdata.get('secretName')\n",
        "import os\n",
        "import pprint\n",
        "# Get keys for your project from the project settings page\n",
        "# https://cloud.langfuse.com\n",
        "os.environ[\"LANGFUSE_PUBLIC_KEY\"] = userdata.get('LANGFUSE_PUBLIC_KEY')\n",
        "os.environ[\"LANGFUSE_SECRET_KEY\"] =  userdata.get('LANGFUSE_SECRET_KEY')\n",
        "os.environ[\"LANGFUSE_HOST\"] = \"https://cloud.langfuse.com\" # 🇪🇺 EU region\n",
        "# os.environ[\"LANGFUSE_HOST\"] = \"https://us.cloud.langfuse.com\" # 🇺🇸 US region\n",
        "\n",
        "# Your openai key\n",
        "os.environ[\"OPENAI_API_KEY\"] = userdata.get('KEY_OPENAI')"
      ],
      "metadata": {
        "id": "7RuNbm8NOYZ8"
      },
      "execution_count": 17,
      "outputs": []
    },
    {
      "cell_type": "code",
      "source": [
        "from langfuse.openai import openai\n",
        "import base64\n",
        "\n",
        "client = openai.OpenAI()\n",
        "\n",
        "def encode_file(image_path):\n",
        "    with open(image_path, \"rb\") as file:\n",
        "        return base64.b64encode(file.read()).decode(\"utf-8\")"
      ],
      "metadata": {
        "id": "7KrNUSlMOx7N"
      },
      "execution_count": 32,
      "outputs": []
    },
    {
      "cell_type": "markdown",
      "source": [
        "#  OpenAI SDK: Images"
      ],
      "metadata": {
        "id": "ec31YaB9PNRM"
      }
    },
    {
      "cell_type": "code",
      "source": [
        "content_path = \"static/puton.jpg\"\n",
        "content_type = \"image/jpeg\"\n",
        "\n",
        "base64_image = encode_file(content_path)\n",
        "\n",
        "response = client.chat.completions.create(\n",
        "    model=\"gpt-4o-mini\",\n",
        "    messages=[\n",
        "        {\n",
        "            \"role\": \"user\",\n",
        "            \"content\": [\n",
        "                {\"type\": \"text\", \"text\": \"What’s in this image?\"},\n",
        "                {\n",
        "                    \"type\": \"image_url\",\n",
        "                    \"image_url\": {\n",
        "                        \"url\": f\"data:{content_type};base64,{base64_image}\"\n",
        "                    },\n",
        "                },\n",
        "            ],\n",
        "        }\n",
        "    ],\n",
        "    max_tokens=300,\n",
        ")\n",
        "\n",
        "print(response.__dict__)\n",
        "\n",
        "openai.flush_langfuse()"
      ],
      "metadata": {
        "colab": {
          "base_uri": "https://localhost:8080/"
        },
        "id": "pRnnXSVvO1ub",
        "outputId": "ffde088e-fa37-410e-8e2e-49409af4a6d5"
      },
      "execution_count": 33,
      "outputs": [
        {
          "output_type": "stream",
          "name": "stdout",
          "text": [
            "{'id': 'chatcmpl-AZIhXmnAu2lmnwqMt2vVyxj2q16i1', 'choices': [Choice(finish_reason='stop', index=0, logprobs=None, message=ChatCompletionMessage(content=\"The image shows a dog with curly fur sitting close to a person's knee, seemingly looking at the camera. There are also a few people in the background, partially visible, but the focus appears to be on the dog. The setting seems to be indoors, on a wooden floor with a colorful rug.\", refusal=None, role='assistant', audio=None, function_call=None, tool_calls=None))], 'created': 1732976731, 'model': 'gpt-4o-mini-2024-07-18', 'object': 'chat.completion', 'service_tier': None, 'system_fingerprint': 'fp_3de1288069', 'usage': CompletionUsage(completion_tokens=60, prompt_tokens=25514, total_tokens=25574, completion_tokens_details=CompletionTokensDetails(accepted_prediction_tokens=0, audio_tokens=0, reasoning_tokens=0, rejected_prediction_tokens=0), prompt_tokens_details=PromptTokensDetails(audio_tokens=0, cached_tokens=0)), '_request_id': 'req_a3b049861157dc670322bbb10f3d9ba9'}\n"
          ]
        }
      ]
    },
    {
      "cell_type": "code",
      "source": [
        "pprint.pprint(response.choices[0].message.content)"
      ],
      "metadata": {
        "colab": {
          "base_uri": "https://localhost:8080/"
        },
        "id": "3cEWDFbrQnU5",
        "outputId": "2b1c0143-4b79-4640-e3e4-5a4c66292dcd"
      },
      "execution_count": 35,
      "outputs": [
        {
          "output_type": "stream",
          "name": "stdout",
          "text": [
            "(\"The image shows a dog with curly fur sitting close to a person's knee, \"\n",
            " 'seemingly looking at the camera. There are also a few people in the '\n",
            " 'background, partially visible, but the focus appears to be on the dog. The '\n",
            " 'setting seems to be indoors, on a wooden floor with a colorful rug.')\n"
          ]
        }
      ]
    },
    {
      "cell_type": "markdown",
      "source": [
        "# OpenAI SDK: Audio input and output"
      ],
      "metadata": {
        "id": "MpbRrUJJP877"
      }
    },
    {
      "cell_type": "code",
      "source": [
        "content_path = \"static/joke_prompt.wav\"\n",
        "\n",
        "base64_string = encode_file(content_path)\n",
        "\n",
        "response = client.chat.completions.create(\n",
        "    model=\"gpt-4o-audio-preview\",\n",
        "    modalities=[\"text\", \"audio\"],\n",
        "    audio={\"voice\": \"alloy\", \"format\": \"wav\"},\n",
        "    messages=[\n",
        "        {\n",
        "            \"role\": \"user\",\n",
        "            \"content\": [\n",
        "                {\"type\": \"text\", \"text\": \"Do what this recording says.\"},\n",
        "                {\n",
        "                    \"type\": \"input_audio\",\n",
        "                    \"input_audio\": {\"data\": base64_string, \"format\": \"wav\"},\n",
        "                },\n",
        "            ],\n",
        "        },\n",
        "    ],\n",
        ")\n",
        "\n",
        "print(response.__dict__)\n",
        "\n",
        "openai.flush_langfuse()"
      ],
      "metadata": {
        "colab": {
          "base_uri": "https://localhost:8080/"
        },
        "id": "DcSwq0zwP_IC",
        "outputId": "0e273d4a-69c7-4d8a-9b44-75b0351b741d"
      },
      "execution_count": 36,
      "outputs": [
        {
          "output_type": "stream",
          "name": "stdout",
          "text": [
            "{'id': 'chatcmpl-AZIjgs6HWnRyIr8uyYQ1DKncg5cxG', 'choices': [Choice(finish_reason='stop', index=0, logprobs=None, message=ChatCompletionMessage(content=None, refusal=None, role='assistant', audio=ChatCompletionAudio(id='audio_674b20e257e481909cffe20adf93a7ee', data=<langfuse.media.LangfuseMedia object at 0x7ecba1f55300>, expires_at=1732980466, transcript='Why don\\'t secrets last long in Berlin? Because of all the tall buildings... there\\'s no way to keep anything under \"über.\"'), function_call=None, tool_calls=None))], 'created': 1732976864, 'model': 'gpt-4o-audio-preview-2024-10-01', 'object': 'chat.completion', 'service_tier': None, 'system_fingerprint': 'fp_130ac2f073', 'usage': CompletionUsage(completion_tokens=224, prompt_tokens=66, total_tokens=290, completion_tokens_details=CompletionTokensDetails(accepted_prediction_tokens=0, audio_tokens=185, reasoning_tokens=0, rejected_prediction_tokens=0, text_tokens=39), prompt_tokens_details=PromptTokensDetails(audio_tokens=49, cached_tokens=0, text_tokens=17, image_tokens=0)), '_request_id': 'req_47afae6bce2cdc88e99b215174cfd47e'}\n"
          ]
        }
      ]
    },
    {
      "cell_type": "code",
      "source": [
        "pprint.pprint(response.choices[0].message.audio.transcript)"
      ],
      "metadata": {
        "colab": {
          "base_uri": "https://localhost:8080/"
        },
        "id": "C-dWyacLQHkP",
        "outputId": "20db348e-8e70-4776-8d82-af3173fd4805"
      },
      "execution_count": 37,
      "outputs": [
        {
          "output_type": "stream",
          "name": "stdout",
          "text": [
            "(\"Why don't secrets last long in Berlin? Because of all the tall buildings... \"\n",
            " 'there\\'s no way to keep anything under \"über.\"')\n"
          ]
        }
      ]
    },
    {
      "cell_type": "markdown",
      "source": [
        "# Python Decorator: Attachments via LangfuseMedia"
      ],
      "metadata": {
        "id": "ueDNIGxoQvQW"
      }
    },
    {
      "cell_type": "code",
      "source": [
        "from langfuse.decorators import observe, langfuse_context\n",
        "from langfuse.media import LangfuseMedia\n",
        "\n",
        "with open(\"static/bitcoin.pdf\", \"rb\") as pdf_file:\n",
        "        pdf_bytes = pdf_file.read()\n",
        "\n",
        "wrapped_obj = LangfuseMedia(\n",
        "    obj=pdf_bytes, content_bytes=pdf_bytes, content_type=\"application/pdf\"\n",
        ")\n",
        "\n",
        "@observe()\n",
        "def main():\n",
        "    langfuse_context.update_current_trace(\n",
        "        metadata={\n",
        "            \"context\": wrapped_obj\n",
        "        },\n",
        "    )\n",
        "\n",
        "    return # Limitation: LangfuseMedia object does not work in decorated function IO\n",
        "\n",
        "main()\n",
        "\n",
        "langfuse_context.flush()"
      ],
      "metadata": {
        "id": "3PsE41pyQuwL"
      },
      "execution_count": 38,
      "outputs": []
    },
    {
      "cell_type": "markdown",
      "source": [
        "# Langchain: Image input"
      ],
      "metadata": {
        "id": "fO7pL7QzRQ0H"
      }
    },
    {
      "cell_type": "code",
      "source": [
        "from langchain_openai import ChatOpenAI\n",
        "from langchain_core.messages import HumanMessage\n",
        "\n",
        "from langfuse.callback import CallbackHandler\n",
        "\n",
        "handler = CallbackHandler()\n",
        "model = ChatOpenAI(model=\"gpt-4o-mini\")\n",
        "\n",
        "image_data = encode_file(\"static/puton.jpg\")\n",
        "\n",
        "message = HumanMessage(\n",
        "    content=[\n",
        "        {\"type\": \"text\", \"text\": \"What's in this image?\"},\n",
        "        {\n",
        "            \"type\": \"image_url\",\n",
        "            \"image_url\": {\"url\": f\"data:image/jpeg;base64,{image_data}\"},\n",
        "        },\n",
        "    ],\n",
        ")\n",
        "\n",
        "response = model.invoke([message], config={\"callbacks\": [handler]})\n",
        "\n",
        "print(response.content)\n",
        "\n",
        "handler.flush()"
      ],
      "metadata": {
        "colab": {
          "base_uri": "https://localhost:8080/"
        },
        "id": "hBgI7yKIRPYy",
        "outputId": "6f77aae9-6c8b-46d4-c2d7-d098a400c76e"
      },
      "execution_count": 39,
      "outputs": [
        {
          "output_type": "stream",
          "name": "stdout",
          "text": [
            "The image shows a dog with a curly coat sitting in front of a person, with its paws resting on the person's knee. The dog appears to be happy, with its tongue out. In the background, there are several people standing, and the setting looks like a cozy indoor space with wooden flooring and a colorful rug.\n"
          ]
        }
      ]
    },
    {
      "cell_type": "code",
      "source": [
        "pprint.pprint(response.content)"
      ],
      "metadata": {
        "colab": {
          "base_uri": "https://localhost:8080/"
        },
        "id": "j-1NzZVwSY9z",
        "outputId": "060fef75-d16a-4473-c721-ea52e5138465"
      },
      "execution_count": 40,
      "outputs": [
        {
          "output_type": "stream",
          "name": "stdout",
          "text": [
            "('The image shows a dog with a curly coat sitting in front of a person, with '\n",
            " \"its paws resting on the person's knee. The dog appears to be happy, with its \"\n",
            " 'tongue out. In the background, there are several people standing, and the '\n",
            " 'setting looks like a cozy indoor space with wooden flooring and a colorful '\n",
            " 'rug.')\n"
          ]
        }
      ]
    },
    {
      "cell_type": "code",
      "source": [
        "%pip install llama-index langfuse llama-index-vector-stores-milvus  --upgrade -q"
      ],
      "metadata": {
        "colab": {
          "base_uri": "https://localhost:8080/"
        },
        "id": "eSg-A-GhS0oK",
        "outputId": "2c76dd1d-ea0e-42fd-afd6-b9cb2977fc11"
      },
      "execution_count": 21,
      "outputs": [
        {
          "output_type": "stream",
          "name": "stdout",
          "text": [
            "\u001b[?25l   \u001b[90m━━━━━━━━━━━━━━━━━━━━━━━━━━━━━━━━━━━━━━━━\u001b[0m \u001b[32m0.0/212.8 kB\u001b[0m \u001b[31m?\u001b[0m eta \u001b[36m-:--:--\u001b[0m\r\u001b[2K   \u001b[90m━━━━━━━━━━━━━━━━━━━━━━━━━━━━━━━━━━━━━━━━\u001b[0m \u001b[32m212.8/212.8 kB\u001b[0m \u001b[31m12.0 MB/s\u001b[0m eta \u001b[36m0:00:00\u001b[0m\n",
            "\u001b[2K   \u001b[90m━━━━━━━━━━━━━━━━━━━━━━━━━━━━━━━━━━━━━━━━\u001b[0m \u001b[32m5.9/5.9 MB\u001b[0m \u001b[31m81.6 MB/s\u001b[0m eta \u001b[36m0:00:00\u001b[0m\n",
            "\u001b[2K   \u001b[90m━━━━━━━━━━━━━━━━━━━━━━━━━━━━━━━━━━━━━━━━\u001b[0m \u001b[32m49.4/49.4 MB\u001b[0m \u001b[31m16.7 MB/s\u001b[0m eta \u001b[36m0:00:00\u001b[0m\n",
            "\u001b[2K   \u001b[90m━━━━━━━━━━━━━━━━━━━━━━━━━━━━━━━━━━━━━━━━\u001b[0m \u001b[32m53.6/53.6 kB\u001b[0m \u001b[31m4.2 MB/s\u001b[0m eta \u001b[36m0:00:00\u001b[0m\n",
            "\u001b[?25h"
          ]
        }
      ]
    },
    {
      "cell_type": "markdown",
      "source": [
        "# LlamaIndex & Milvus Integration"
      ],
      "metadata": {
        "id": "dQ-F3g2ITdtc"
      }
    },
    {
      "cell_type": "code",
      "source": [
        "from llama_index.core import Settings\n",
        "from llama_index.core.callbacks import CallbackManager\n",
        "from langfuse.llama_index import LlamaIndexCallbackHandler\n",
        "\n",
        "langfuse_callback_handler = LlamaIndexCallbackHandler()\n",
        "Settings.callback_manager = CallbackManager([langfuse_callback_handler])"
      ],
      "metadata": {
        "id": "cFFir1vETX_E"
      },
      "execution_count": 41,
      "outputs": []
    },
    {
      "cell_type": "code",
      "source": [
        "pdf_path = \"/content/drive/MyDrive/data/pdfs\""
      ],
      "metadata": {
        "id": "tyuHJKupUDW8"
      },
      "execution_count": 42,
      "outputs": []
    },
    {
      "cell_type": "code",
      "source": [
        "from llama_index.core import VectorStoreIndex, SimpleDirectoryReader\n",
        "\n",
        "# load documents\n",
        "data = SimpleDirectoryReader(input_dir=pdf_path,required_exts=[\".pdf\"]).load_data()"
      ],
      "metadata": {
        "id": "7rz6BUH0UKoD"
      },
      "execution_count": 43,
      "outputs": []
    },
    {
      "cell_type": "code",
      "source": [
        "len(data)"
      ],
      "metadata": {
        "colab": {
          "base_uri": "https://localhost:8080/"
        },
        "id": "RAb0cstKUV2v",
        "outputId": "a79c88f4-ac26-4e8c-9818-55b5163411bc"
      },
      "execution_count": 44,
      "outputs": [
        {
          "output_type": "execute_result",
          "data": {
            "text/plain": [
              "143"
            ]
          },
          "metadata": {},
          "execution_count": 44
        }
      ]
    },
    {
      "cell_type": "code",
      "source": [
        "data[1]"
      ],
      "metadata": {
        "colab": {
          "base_uri": "https://localhost:8080/"
        },
        "id": "y4kwGWyXUVuP",
        "outputId": "ed0102ef-665b-426c-d0df-7546632cdcb8"
      },
      "execution_count": 45,
      "outputs": [
        {
          "output_type": "execute_result",
          "data": {
            "text/plain": [
              "Document(id_='e9e11c1c-1858-4dbc-84ef-d3e60c8ddf20', embedding=None, metadata={'page_label': '2', 'file_name': 'Parser Source 2.pdf', 'file_path': '/content/drive/MyDrive/data/pdfs/Parser Source 2.pdf', 'file_type': 'application/pdf', 'file_size': 1930169, 'creation_date': '2024-11-30', 'last_modified_date': '2024-11-07'}, excluded_embed_metadata_keys=['file_name', 'file_type', 'file_size', 'creation_date', 'last_modified_date', 'last_accessed_date'], excluded_llm_metadata_keys=['file_name', 'file_type', 'file_size', 'creation_date', 'last_modified_date', 'last_accessed_date'], relationships={}, metadata_template='{key}: {value}', metadata_separator='\\n', text=\"Aardvark Constructions Limited \\nDate \\nCompany Profile \\nCompany Number \\n09/08/2024 123456 \\n \\nDate 09/08/2024 AARDVCONST/MCPARTLA-C Page 1 \\nMain Details \\n Name: Aardvark Constructions Limited \\n QuickRef: AARDVCONST \\n Country: United Kingdom \\n Company Number: 123456 \\n Incorporated: 20/10/2020 \\n Company Type: Limited by Shares \\n Company Status: Active \\n Dissolved:  \\n Registered Email Address:  \\n \\nPrimary Addresses \\nRegistered Office: 6 Chancery  Road, London, WC2A 5DP, United Kingdom \\n \\nAccounting Dates \\n Last Period End Current Period End Last Extended \\nAccounting Dates: 16/11/2022 16/11/2024 16/11/2022 \\n \\nCompliance Details \\n Last Signed Filed Next Overdue Last Company \\nData Request \\nConfirmation Statement: 17/02/2023   17/02/2023 03/03/2023   \\n \\n Last Signed Filed Revenue Next Overdue \\nAccounts: 16/11/2022 16/11/2022 16/11/2022 16/11/2022 16/11/2024 16/08/2025 \\nApproved by Board: 16/11/2022 16/11/2022     \\n \\nManagement Details \\n User Grouping: INVSUBS_CA \\n File Reference:  \\n Division/Partner:  \\n Managed By: Caroline McPartland \\n \\nEmployee Identification \\nNumber: 1  \\nHas Employees:    \\nNumber of Employees: 0  \\nCompany GUID: 12D1442A-7E25-4031-B574-B97E4D73772D  \\nTax Type (Do Not Delete):   \\nNature of Business:   \\nCompany Name Restrictions?:    \\nExemption from name ending \\nwith 'Limited'?:    \\nType of Articles:   \\nRestricted Articles?:    \\nPeriod allowed for the \\npreparation of accounts: 0  \\nSame Day Change of Name?:    \\nReviewer: Tim Brady  \\nLSL - Company Type: Holding  \\nFCA Regulated: Yes  \\nManaged By Email: cmcpartland@diligent.com  \\nGSV Flag:   \\nCreation Date (audit): 28/05/2024  \\n \\nSigners \\nMaster Signer 1:   \\nMaster Signer Name 1:   \\nMaster Signer  2:   \\nMaster Signer Name 2:   \\nMaster Signer  3:   \\nEIN:   \\nDE File:   \\nYardi:   \\nCompany Types:   \\nTax Status:   \\nCompany Handling Notes:   \\nTax Designation:   \\nCurrency:  \", mimetype='text/plain', start_char_idx=None, end_char_idx=None, metadata_seperator='\\n', text_template='{metadata_str}\\n\\n{content}')"
            ]
          },
          "metadata": {},
          "execution_count": 45
        }
      ]
    },
    {
      "cell_type": "code",
      "source": [
        "from llama_index.core import VectorStoreIndex\n",
        "from llama_index.core import StorageContext\n",
        "from llama_index.vector_stores.milvus import MilvusVectorStore\n",
        "\n",
        "\n",
        "vector_store = MilvusVectorStore(\n",
        "    uri=\"/content/drive/MyDrive/data/pdfs/milvus/milvus.db\", dim=1536, overwrite=False\n",
        ")"
      ],
      "metadata": {
        "colab": {
          "base_uri": "https://localhost:8080/"
        },
        "id": "_hP_flmKTjYy",
        "outputId": "891246b1-ac51-48f2-fd08-10194d15c6ce"
      },
      "execution_count": 27,
      "outputs": [
        {
          "output_type": "stream",
          "name": "stderr",
          "text": [
            "DEBUG:pymilvus.milvus_client.milvus_client:Created new connection using: 4a426853b2094d2d8264c43efac1bcc8\n",
            "DEBUG:pymilvus.milvus_client.milvus_client:Successfully created collection: llamacollection\n",
            "DEBUG:pymilvus.milvus_client.milvus_client:Successfully created an index on collection: llamacollection\n"
          ]
        }
      ]
    },
    {
      "cell_type": "code",
      "source": [
        "storage_context = StorageContext.from_defaults(vector_store=vector_store)\n",
        "\n",
        "index = VectorStoreIndex.from_documents(\n",
        "    data, storage_context=storage_context\n",
        ")"
      ],
      "metadata": {
        "id": "Ln54iyCiUoGj"
      },
      "execution_count": 28,
      "outputs": []
    },
    {
      "cell_type": "code",
      "source": [
        "prompt = \"\"\"\n",
        "Provide Main Details of the company Aardvark Constructions Limited. Including following details:\n",
        "Name:\n",
        "Country:\n",
        "Company Number:\n",
        "Incorporated:\n",
        "Company Type:\n",
        "Company Status:\n",
        "Primary Addresses Registered Office:\n",
        "Accounting Dates:\n",
        "Confirmation Statement:\n",
        "\"\"\""
      ],
      "metadata": {
        "id": "LnRkiCo5U0SJ"
      },
      "execution_count": 46,
      "outputs": []
    },
    {
      "cell_type": "code",
      "source": [
        "response = index.as_query_engine().query(prompt)\n",
        "pprint.pprint(response)"
      ],
      "metadata": {
        "colab": {
          "base_uri": "https://localhost:8080/"
        },
        "id": "po9ywoZMUv_r",
        "outputId": "77a30f35-d147-4160-b9b5-94d175ea1f5d"
      },
      "execution_count": 47,
      "outputs": [
        {
          "output_type": "stream",
          "name": "stdout",
          "text": [
            "Response(response='Name: Aardvark Constructions Limited\\n'\n",
            "                  'Country: United Kingdom\\n'\n",
            "                  'Company Number: 123456\\n'\n",
            "                  'Incorporated: 20/10/2020\\n'\n",
            "                  'Company Type: Limited by Shares\\n'\n",
            "                  'Company Status: Active\\n'\n",
            "                  'Primary Addresses Registered Office: 6 Chancery Road, '\n",
            "                  'London, WC2A 5DP, United Kingdom\\n'\n",
            "                  'Accounting Dates: Last Period End - 16/11/2022, Current '\n",
            "                  'Period End - 16/11/2024\\n'\n",
            "                  'Confirmation Statement: Last Signed Filed - 17/02/2023, '\n",
            "                  'Next Overdue - 03/03/2023',\n",
            "         source_nodes=[NodeWithScore(node=TextNode(id_='575f7837-3d73-45df-a958-7528f8723ecd', embedding=None, metadata={'page_label': '2', 'file_name': 'Parser Source 2.pdf', 'file_path': '/content/drive/MyDrive/data/pdfs/Parser Source 2.pdf', 'file_type': 'application/pdf', 'file_size': 1930169, 'creation_date': '2024-11-07', 'last_modified_date': '2024-11-07'}, excluded_embed_metadata_keys=['file_name', 'file_type', 'file_size', 'creation_date', 'last_modified_date', 'last_accessed_date'], excluded_llm_metadata_keys=['file_name', 'file_type', 'file_size', 'creation_date', 'last_modified_date', 'last_accessed_date'], relationships={<NodeRelationship.SOURCE: '1'>: RelatedNodeInfo(node_id='e4dae8c9-5895-4719-91a9-a8be07fe892a', node_type='4', metadata={'page_label': '2', 'file_name': 'Parser Source 2.pdf', 'file_path': '/content/drive/MyDrive/data/pdfs/Parser Source 2.pdf', 'file_type': 'application/pdf', 'file_size': 1930169, 'creation_date': '2024-11-07', 'last_modified_date': '2024-11-07'}, hash='71df2ba2f5bb10464734cbb05c4a97f7d194354ec45d81b29844d75aa6b8ef01')}, metadata_template='{key}: {value}', metadata_separator='\\n', text=\"Aardvark Constructions Limited \\nDate \\nCompany Profile \\nCompany Number \\n09/08/2024 123456 \\n \\nDate 09/08/2024 AARDVCONST/MCPARTLA-C Page 1 \\nMain Details \\n Name: Aardvark Constructions Limited \\n QuickRef: AARDVCONST \\n Country: United Kingdom \\n Company Number: 123456 \\n Incorporated: 20/10/2020 \\n Company Type: Limited by Shares \\n Company Status: Active \\n Dissolved:  \\n Registered Email Address:  \\n \\nPrimary Addresses \\nRegistered Office: 6 Chancery  Road, London, WC2A 5DP, United Kingdom \\n \\nAccounting Dates \\n Last Period End Current Period End Last Extended \\nAccounting Dates: 16/11/2022 16/11/2024 16/11/2022 \\n \\nCompliance Details \\n Last Signed Filed Next Overdue Last Company \\nData Request \\nConfirmation Statement: 17/02/2023   17/02/2023 03/03/2023   \\n \\n Last Signed Filed Revenue Next Overdue \\nAccounts: 16/11/2022 16/11/2022 16/11/2022 16/11/2022 16/11/2024 16/08/2025 \\nApproved by Board: 16/11/2022 16/11/2022     \\n \\nManagement Details \\n User Grouping: INVSUBS_CA \\n File Reference:  \\n Division/Partner:  \\n Managed By: Caroline McPartland \\n \\nEmployee Identification \\nNumber: 1  \\nHas Employees:    \\nNumber of Employees: 0  \\nCompany GUID: 12D1442A-7E25-4031-B574-B97E4D73772D  \\nTax Type (Do Not Delete):   \\nNature of Business:   \\nCompany Name Restrictions?:    \\nExemption from name ending \\nwith 'Limited'?:    \\nType of Articles:   \\nRestricted Articles?:    \\nPeriod allowed for the \\npreparation of accounts: 0  \\nSame Day Change of Name?:    \\nReviewer: Tim Brady  \\nLSL - Company Type: Holding  \\nFCA Regulated: Yes  \\nManaged By Email: cmcpartland@diligent.com  \\nGSV Flag:   \\nCreation Date (audit): 28/05/2024  \\n \\nSigners \\nMaster Signer 1:   \\nMaster Signer Name 1:   \\nMaster Signer  2:   \\nMaster Signer Name 2:   \\nMaster Signer  3:   \\nEIN:   \\nDE File:   \\nYardi:   \\nCompany Types:   \\nTax Status:   \\nCompany Handling Notes:   \\nTax Designation:   \\nCurrency:\", mimetype='text/plain', start_char_idx=0, end_char_idx=1851, metadata_seperator='\\n', text_template='{metadata_str}\\n\\n{content}'), score=0.879210352897644),\n",
            "                       NodeWithScore(node=TextNode(id_='43832305-c66b-4859-8813-0b6bb773a60f', embedding=None, metadata={'page_label': '3', 'file_name': 'Parser Source 2.pdf', 'file_path': '/content/drive/MyDrive/data/pdfs/Parser Source 2.pdf', 'file_type': 'application/pdf', 'file_size': 1930169, 'creation_date': '2024-11-07', 'last_modified_date': '2024-11-07'}, excluded_embed_metadata_keys=['file_name', 'file_type', 'file_size', 'creation_date', 'last_modified_date', 'last_accessed_date'], excluded_llm_metadata_keys=['file_name', 'file_type', 'file_size', 'creation_date', 'last_modified_date', 'last_accessed_date'], relationships={<NodeRelationship.SOURCE: '1'>: RelatedNodeInfo(node_id='225dbf72-c31a-454f-a5d6-ace83e9bef0a', node_type='4', metadata={'page_label': '3', 'file_name': 'Parser Source 2.pdf', 'file_path': '/content/drive/MyDrive/data/pdfs/Parser Source 2.pdf', 'file_type': 'application/pdf', 'file_size': 1930169, 'creation_date': '2024-11-07', 'last_modified_date': '2024-11-07'}, hash='183c9e5cb5d54ed6a0e92ce137551230080582ac8753ba425ab5b655e50e76d0')}, metadata_template='{key}: {value}', metadata_separator='\\n', text='Aardvark Constructions Limited \\nDate \\nCompany Profile \\nCompany Number \\n09/08/2024 123456 \\n \\nDate 09/08/2024 AARDVCONST/MCPARTLA-C Page 2 \\nDivision:   \\nSub-Division:   \\nDivision-Subdivision:   \\nLast Accounts:   \\nLast Accounts approved by \\nthe Board:   \\nAGM:   \\nLast accounts filed on:   \\nAsset number:   \\nCopy Sets to Field For \\nVisualisation:   \\nLegal Hold:    \\nLEI Number:   \\nDate for end of reinvestment \\nperiod:   \\nParent Company:   \\nOracle Entity Number:   \\nDescription:   \\nSubstance Requirements \\nExample:   \\nMagnitude Code:   \\nMagnitude Name:   \\nProject:   \\nFATCA CLASSIFICATION:   \\nDate Company Created: 13/01/2022  \\nFID Company UDF API: 31  \\nCompany Type - LSL: Holding  \\nVAT:   \\nDebt:   Is this Entity a holder of Debt \\nGSV Chart UDF:   \\n文鍵盤/中文键盘:   \\nAdditional Registrations:   \\nUK forms - \"Where the entity is \\nregistered\" is N/A: No  \\nMerge Quick Reference:   \\nKeep record?: Yes  \\n \\nCSC Information \\nForeign Key:   \\nCSC Entity Status:   \\nFiscal Year End:   \\nCSC Data Source:   \\n \\nAdditional Details \\nSAP No:   \\nGlobal Entity ID:   \\nGST/VAT No:   \\nCorporate Secretary Contact:   \\nBusiness Function:   \\nBusiness Purpose:   \\nBusiness Activities:   \\nType of Business License \\nRequired:   \\nBusiness Contact:   \\nLast Updated:   \\nExternal Other Directorships \\nList:    \\nFund Designation: CLO  \\nFund Designation (Last \\nUpdated):   \\nLegal contact: Adams, Martin  \\nSet Value:   \\nClient Support:   \\n \\nPast Names \\nFrom Date Up To Date Name \\n20/10/2021 20/10/2022 Aardvark and Son Ltd \\n20/10/2020 20/10/2021 Aardvark Construction', mimetype='text/plain', start_char_idx=0, end_char_idx=1528, metadata_seperator='\\n', text_template='{metadata_str}\\n\\n{content}'), score=0.8563801050186157)],\n",
            "         metadata={'43832305-c66b-4859-8813-0b6bb773a60f': {'creation_date': '2024-11-07',\n",
            "                                                            'file_name': 'Parser '\n",
            "                                                                         'Source '\n",
            "                                                                         '2.pdf',\n",
            "                                                            'file_path': '/content/drive/MyDrive/data/pdfs/Parser '\n",
            "                                                                         'Source '\n",
            "                                                                         '2.pdf',\n",
            "                                                            'file_size': 1930169,\n",
            "                                                            'file_type': 'application/pdf',\n",
            "                                                            'last_modified_date': '2024-11-07',\n",
            "                                                            'page_label': '3'},\n",
            "                   '575f7837-3d73-45df-a958-7528f8723ecd': {'creation_date': '2024-11-07',\n",
            "                                                            'file_name': 'Parser '\n",
            "                                                                         'Source '\n",
            "                                                                         '2.pdf',\n",
            "                                                            'file_path': '/content/drive/MyDrive/data/pdfs/Parser '\n",
            "                                                                         'Source '\n",
            "                                                                         '2.pdf',\n",
            "                                                            'file_size': 1930169,\n",
            "                                                            'file_type': 'application/pdf',\n",
            "                                                            'last_modified_date': '2024-11-07',\n",
            "                                                            'page_label': '2'}})\n"
          ]
        }
      ]
    },
    {
      "cell_type": "code",
      "source": [
        "# As we want to immediately see result in Langfuse, we need to flush the callback handler\n",
        "langfuse_callback_handler.flush()"
      ],
      "metadata": {
        "id": "BOvyNx2cVDZ6"
      },
      "execution_count": 48,
      "outputs": []
    }
  ]
}